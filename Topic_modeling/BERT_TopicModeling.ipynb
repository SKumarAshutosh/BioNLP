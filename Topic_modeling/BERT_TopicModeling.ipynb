{
 "cells": [
  {
   "cell_type": "code",
   "execution_count": 13,
   "metadata": {},
   "outputs": [
    {
     "name": "stderr",
     "output_type": "stream",
     "text": [
      "C:\\Users\\HP\\AppData\\Roaming\\Python\\Python38\\site-packages\\gensim\\similarities\\__init__.py:15: UserWarning: The gensim.similarities.levenshtein submodule is disabled, because the optional Levenshtein package <https://pypi.org/project/python-Levenshtein/> is unavailable. Install Levenhstein (e.g. `pip install python-Levenshtein`) to suppress this warning.\n",
      "  warnings.warn(msg)\n"
     ]
    }
   ],
   "source": [
    "\n",
    "import re,string\n",
    "import numpy as np\n",
    "import pandas as pd \n",
    "# import fasttext\n",
    "import spacy\n",
    "\n",
    "\n",
    "import nltk\n",
    "from nltk.corpus import wordnet,stopwords\n",
    "from nltk.stem import WordNetLemmatizer \n",
    "from nltk import WordNetLemmatizer, pos_tag, word_tokenize\n",
    "\n",
    "stop_words=stopwords.words('english')\n",
    "lemmatizer = WordNetLemmatizer()\n",
    "\n",
    "import gensim\n",
    "from gensim.models import word2vec\n",
    "\n",
    "from gensim.models.fasttext import FastText\n",
    "\n",
    "import tensorflow as tf\n",
    "from tensorflow.keras import backend\n",
    "\n",
    "from keras.preprocessing.text import Tokenizer\n",
    "from keras.preprocessing.sequence import pad_sequences\n",
    "from tqdm import tqdm\n",
    "\n",
    "\n",
    "from keras.layers import Activation, Embedding, Reshape,Concatenate\n",
    "from keras.models import Sequential\n",
    "from keras.preprocessing.sequence import skipgrams, make_sampling_table\n",
    "from keras.preprocessing.text import Tokenizer\n",
    "\n",
    "from typing import NamedTuple, List\n",
    "from gensim.models import KeyedVectors\n",
    "from nltk.tokenize import sent_tokenize\n",
    "\n",
    "\n",
    "# import networkx as nx\n",
    "from itertools import combinations\n",
    "from collections import defaultdict  \n",
    "import abc\n",
    "from collections import Counter    \n",
    "# nlp = spacy.load('en_core_web_sm')"
   ]
  },
  {
   "cell_type": "code",
   "execution_count": 14,
   "metadata": {},
   "outputs": [],
   "source": [
    "pat_data=pd.read_excel('recent_5k.xlsx')\n",
    "\n",
    "# pat_data=pd.read_excel('V:/ML_projects/Merckgroup/Projects/Keyword_tagging/data/Keyword_validation.xlsx')\n",
    "data=pat_data['Abstract'][:1000]\n",
    "data\n",
    "\n",
    "\n",
    "# # remove special characters \n",
    "# def remove_special(x):\n",
    "#     # new line at sentence end for training purposes\n",
    "#     x = x.replace('.', '\\n')\n",
    "#     return re.sub('[^A-Za-z \\n]+', ' ', x).lower()\n",
    "    \n",
    "# stop_words = stopwords.words('english')\n",
    "# stopwords_dict = Counter(stop_words)\n",
    "# def remove_stopwords(x):\n",
    "#     return ' '.join([word for word in x.split() if word not in stopwords_dict])\n",
    "\n",
    "\n",
    "\n",
    "# abstract = pat_data['Abstract'][~pat_data['Abstract'].isna()].apply(remove_stopwords).apply(remove_special).values\n",
    "# title = pat_data['Title'][~pat_data['Title'].isna()].apply(remove_stopwords).apply(remove_special).values\n",
    "# corpus = np.concatenate([title,abstract], axis=0)\n",
    "# data = '\\n'.join(corpus)\n",
    "#### patbase cleaning\n",
    "def text_cleaning(text):\n",
    "    \n",
    "    cleaned_txt = re.sub('<[^<]+>', ' ', str(text))\n",
    "    cleaned_txt = re.sub( r'\\[.*?\\]', ' ',cleaned_txt)  #remove brackets\n",
    "    cleaned_txt = re.sub('\\d+', ' ', cleaned_txt)\n",
    "    cleaned_txt = re.sub('\\(\\w+\\)', ' ', cleaned_txt) \n",
    "  \n",
    "#     cleaned_txt=cleaned_txt.translate(str.maketrans(' ', ' ',string.punctuation)) \n",
    "    return cleaned_txt\n",
    "   \n",
    "def stopword_removal(text):\n",
    "    cleaned_txt = ' '.join([token for token in word_tokenize(text) if token not in stop_words])\n",
    "    return cleaned_txt\n",
    "def lemmatize_text(text):\n",
    "    cleaned_txt=' '.join([lemmatizer.lemmatize(str(token)) for token in word_tokenize(text)])\n",
    "    return cleaned_txt\n",
    "\n",
    "def noun_adj_fetcher(cleaned_txt):\n",
    "    Noun_adj=[w for w , pos in pos_tag(str(cleaned_txt).split()) if (pos == 'NN' or pos=='JJ' or pos=='JJR' or pos=='JJS' )]\n",
    "    return Noun_adj\n",
    "\n",
    "# python -m spacy download en_core_web_sm\n",
    "def noun_adj_pairs(text):\n",
    "    doc = nlp(str(text))\n",
    "    noun_adj_pairs = []\n",
    "    for i,token in enumerate(doc):\n",
    "        if token.pos_ not in ('NOUN','PROPN'):\n",
    "            continue\n",
    "        for j in range(i+1,len(doc)):\n",
    "            if doc[j].pos_ == 'ADJ':\n",
    "                noun_adj_pairs.append((token,doc[j]))\n",
    "                break\n",
    "    return noun_adj_pairs\n",
    "\n",
    "def preprocessed_text(df):\n",
    "    \n",
    "#     col=['nltk_tokens','nouns','lemmatize_text']\n",
    "    preprocess_txt=pd.DataFrame()\n",
    "    abs_clean_text=df.apply(text_cleaning)\n",
    "    preprocess_txt['lemmatize_text']=abs_clean_text.apply(stopword_removal)         \n",
    "#     preprocess_txt['lemmatize_text']=stopword_removed_text.apply(lemmatize_text)\n",
    "  \n",
    "#     for ind,text in preprocess_txt['lemmatize_text'].iteritems():       \n",
    "#         tokens=word_tokenize(text)\n",
    "#         pos_tokens=nltk.pos_tag(tokens)\n",
    "# #         preprocess_txt.at[ind,'nouns']=[pos_token for pos_token,pos in pos_tokens if pos.startswith('N')]\n",
    "# #         preprocess_txt.at[ind,'nltk_tokens']=tokens     \n",
    "    return preprocess_txt"
   ]
  },
  {
   "cell_type": "code",
   "execution_count": 15,
   "metadata": {},
   "outputs": [],
   "source": [
    "\n",
    "data=data.apply(text_cleaning).tolist()\n"
   ]
  },
  {
   "cell_type": "code",
   "execution_count": 60,
   "metadata": {},
   "outputs": [],
   "source": [
    "# preprocessed_df1=preprocessed_text(data)\n",
    "# data1=preprocessed_df1[lemmatize_text].tolist()\n",
    "# from sklearn.datasets import fetch_20newsgroups\n",
    "# data = fetch_20newsgroups(subset='all')['data']\n",
    "# data=data\n",
    "# !pip install hdbscan"
   ]
  },
  {
   "cell_type": "code",
   "execution_count": 29,
   "metadata": {},
   "outputs": [],
   "source": [
    "# from sklearn.datasets import fetch_20newsgroups\n",
    "# data = fetch_20newsgroups(subset='all')['data']"
   ]
  },
  {
   "cell_type": "code",
   "execution_count": 4,
   "metadata": {
    "scrolled": false
   },
   "outputs": [
    {
     "data": {
      "application/vnd.jupyter.widget-view+json": {
       "model_id": "aaf19c51aa7c4f38afce3b10f950a2b1",
       "version_major": 2,
       "version_minor": 0
      },
      "text/plain": [
       "HBox(children=(FloatProgress(value=0.0, description='Batches', max=32.0, style=ProgressStyle(description_width…"
      ]
     },
     "metadata": {},
     "output_type": "display_data"
    },
    {
     "name": "stdout",
     "output_type": "stream",
     "text": [
      "\n"
     ]
    }
   ],
   "source": [
    "from sentence_transformers import SentenceTransformer\n",
    "model = SentenceTransformer('distilbert-base-nli-mean-tokens')\n",
    "embeddings = model.encode(data, show_progress_bar=True)"
   ]
  },
  {
   "cell_type": "code",
   "execution_count": 6,
   "metadata": {},
   "outputs": [],
   "source": [
    "import umap.umap_ as umap\n",
    "import joblib\n",
    "import pickle \n",
    "\n",
    "umap_embeddings = umap.UMAP(n_neighbors=15, \n",
    "                            n_components=5, \n",
    "                            metric='cosine').fit_transform(embeddings)\n"
   ]
  },
  {
   "cell_type": "code",
   "execution_count": 7,
   "metadata": {},
   "outputs": [
    {
     "data": {
      "text/plain": [
       "['umap_bert_embedd.sav']"
      ]
     },
     "execution_count": 7,
     "metadata": {},
     "output_type": "execute_result"
    }
   ],
   "source": [
    "\n",
    "joblib.dump(umap_embeddings, filename)\n",
    "\n",
    "umap_data = umap.UMAP(n_neighbors=15, n_components=2, min_dist=0.0, metric='cosine').fit_transform(loaded_reducer)\n",
    "file1 = 'umap_bert_embedd.sav'\n",
    "joblib.dump(umap_data, file1)\n",
    "# umap_data= joblib.load(file1)"
   ]
  },
  {
   "cell_type": "code",
   "execution_count": 3,
   "metadata": {},
   "outputs": [],
   "source": [
    "import joblib\n",
    "import pickle\n",
    "filename = 'umap_bert_trans.sav'\n",
    "loaded_reducer = joblib.load(filename)\n",
    "file1 = 'umap_bert_embedd.sav'\n",
    "umap_data= joblib.load(file1)"
   ]
  },
  {
   "cell_type": "code",
   "execution_count": 4,
   "metadata": {},
   "outputs": [],
   "source": [
    "import hdbscan\n",
    "cluster = hdbscan.HDBSCAN(min_cluster_size=15,\n",
    "                          metric='euclidean',                      \n",
    "                          cluster_selection_method='eom').fit(loaded_reducer)\n"
   ]
  },
  {
   "cell_type": "code",
   "execution_count": 5,
   "metadata": {},
   "outputs": [],
   "source": [
    "with open('km.pickle', 'wb') as f:\n",
    "    pickle.dump(cluster, f)\n",
    "with open('km.pickle', 'rb') as f:\n",
    "    cluster = pickle.load(f)"
   ]
  },
  {
   "cell_type": "code",
   "execution_count": 9,
   "metadata": {},
   "outputs": [
    {
     "data": {
      "text/plain": [
       "<matplotlib.colorbar.Colorbar at 0x1feecfd1430>"
      ]
     },
     "execution_count": 9,
     "metadata": {},
     "output_type": "execute_result"
    },
    {
     "data": {
      "image/png": "[encoded data removed]",
      "text/plain": [
       "<Figure size 1440x720 with 2 Axes>"
      ]
     },
     "metadata": {
      "needs_background": "light"
     },
     "output_type": "display_data"
    }
   ],
   "source": [
    "import matplotlib.pyplot as plt\n",
    "import pandas as pd\n",
    "# Prepare data\n",
    "\n",
    "\n",
    "result = pd.DataFrame(umap_data, columns=['x', 'y'])\n",
    "result['labels'] = cluster.labels_\n",
    "\n",
    "# Visualize clusters\n",
    "fig, ax = plt.subplots(figsize=(20, 10))\n",
    "outliers = result.loc[result.labels == -1, :]\n",
    "clustered = result.loc[result.labels != -1, :]\n",
    "plt.scatter(outliers.x, outliers.y, color='#BDBDBD', s=0.05)\n",
    "plt.scatter(clustered.x, clustered.y, c=clustered.labels, s=0.5, cmap='hsv_r')\n",
    "plt.colorbar()"
   ]
  },
  {
   "cell_type": "code",
   "execution_count": 16,
   "metadata": {},
   "outputs": [],
   "source": [
    "data\n",
    "docs_df = pd.DataFrame(data, columns=[\"Doc\"])\n",
    "docs_df['Topic'] = cluster.labels_\n",
    "docs_df['Doc_ID'] = range(len(docs_df))\n",
    "docs_df\n",
    "docs_per_topic = docs_df.groupby(['Topic'], as_index = False).agg({'Doc': ' '.join})"
   ]
  },
  {
   "cell_type": "code",
   "execution_count": 17,
   "metadata": {},
   "outputs": [],
   "source": [
    "\n",
    "import numpy as np\n",
    "from sklearn.feature_extraction.text import CountVectorizer\n",
    "\n",
    "def c_tf_idf(documents, m, ngram_range=(1, 1)):\n",
    "    count = CountVectorizer(ngram_range=ngram_range, stop_words=\"english\").fit(documents)\n",
    "    t = count.transform(documents).toarray()\n",
    "    w = t.sum(axis=1)\n",
    "    tf = np.divide(t.T, w)\n",
    "    sum_t = t.sum(axis=0)\n",
    "    idf = np.log(np.divide(m, sum_t)).reshape(-1, 1)\n",
    "    tf_idf = np.multiply(tf, idf)\n",
    "\n",
    "    return tf_idf, count\n",
    "  \n",
    "tf_idf, count = c_tf_idf(docs_per_topic.Doc.values, m=len(data))"
   ]
  },
  {
   "cell_type": "code",
   "execution_count": 18,
   "metadata": {},
   "outputs": [
    {
     "data": {
      "text/html": [
       "<div>\n",
       "<style scoped>\n",
       "    .dataframe tbody tr th:only-of-type {\n",
       "        vertical-align: middle;\n",
       "    }\n",
       "\n",
       "    .dataframe tbody tr th {\n",
       "        vertical-align: top;\n",
       "    }\n",
       "\n",
       "    .dataframe thead th {\n",
       "        text-align: right;\n",
       "    }\n",
       "</style>\n",
       "<table border=\"1\" class=\"dataframe\">\n",
       "  <thead>\n",
       "    <tr style=\"text-align: right;\">\n",
       "      <th></th>\n",
       "      <th>Topic</th>\n",
       "      <th>Size</th>\n",
       "    </tr>\n",
       "  </thead>\n",
       "  <tbody>\n",
       "    <tr>\n",
       "      <th>1</th>\n",
       "      <td>1</td>\n",
       "      <td>918</td>\n",
       "    </tr>\n",
       "    <tr>\n",
       "      <th>0</th>\n",
       "      <td>0</td>\n",
       "      <td>82</td>\n",
       "    </tr>\n",
       "  </tbody>\n",
       "</table>\n",
       "</div>"
      ],
      "text/plain": [
       "   Topic  Size\n",
       "1      1   918\n",
       "0      0    82"
      ]
     },
     "execution_count": 18,
     "metadata": {},
     "output_type": "execute_result"
    }
   ],
   "source": [
    "\n",
    "def extract_top_n_words_per_topic(tf_idf, count, docs_per_topic, n=20):\n",
    "    words = count.get_feature_names()\n",
    "    labels = list(docs_per_topic.Topic)\n",
    "    tf_idf_transposed = tf_idf.T\n",
    "    indices = tf_idf_transposed.argsort()[:, -n:]\n",
    "    top_n_words = {label: [(words[j], tf_idf_transposed[i][j]) for j in indices[i]][::-1] for i, label in enumerate(labels)}\n",
    "    return top_n_words\n",
    "\n",
    "def extract_topic_sizes(df):\n",
    "    topic_sizes = (df.groupby(['Topic'])\n",
    "                     .Doc\n",
    "                     .count()\n",
    "                     .reset_index()\n",
    "                     .rename({\"Topic\": \"Topic\", \"Doc\": \"Size\"}, axis='columns')\n",
    "                     .sort_values(\"Size\", ascending=False))\n",
    "    return topic_sizes\n",
    "\n",
    "top_n_words = extract_top_n_words_per_topic(tf_idf, count, docs_per_topic, n=20)\n",
    "topic_sizes = extract_topic_sizes(docs_df); topic_sizes.head(10)"
   ]
  },
  {
   "cell_type": "code",
   "execution_count": 19,
   "metadata": {},
   "outputs": [
    {
     "data": {
      "text/plain": [
       "[('cell', 0.0031836577097409196),\n",
       " ('results', 0.00318082568320134),\n",
       " ('using', 0.003175765784505564),\n",
       " ('cancer', 0.0031707223988508356),\n",
       " ('cells', 0.003167303588773685),\n",
       " ('clinical', 0.0031579769283830565),\n",
       " ('expression', 0.003147887075495469),\n",
       " ('used', 0.0031391644260349754),\n",
       " ('analysis', 0.0031391644260349754),\n",
       " ('associated', 0.0031167680160237793),\n",
       " ('high', 0.0031109032870064368),\n",
       " ('data', 0.0031088892340444285),\n",
       " ('showed', 0.0030961767446155094),\n",
       " ('based', 0.0030961767446155094),\n",
       " ('treatment', 0.00307536659057156),\n",
       " ('significantly', 0.0030568674721175994),\n",
       " ('studies', 0.0030429165044281647),\n",
       " ('risk', 0.003034153510317231),\n",
       " ('group', 0.0030311663620663496),\n",
       " ('increased', 0.00302814592695717)]"
      ]
     },
     "execution_count": 19,
     "metadata": {},
     "output_type": "execute_result"
    }
   ],
   "source": [
    "top_n_words[1][:100]"
   ]
  },
  {
   "cell_type": "code",
   "execution_count": 21,
   "metadata": {},
   "outputs": [
    {
     "data": {
      "text/html": [
       "<div>\n",
       "<style scoped>\n",
       "    .dataframe tbody tr th:only-of-type {\n",
       "        vertical-align: middle;\n",
       "    }\n",
       "\n",
       "    .dataframe tbody tr th {\n",
       "        vertical-align: top;\n",
       "    }\n",
       "\n",
       "    .dataframe thead th {\n",
       "        text-align: right;\n",
       "    }\n",
       "</style>\n",
       "<table border=\"1\" class=\"dataframe\">\n",
       "  <thead>\n",
       "    <tr style=\"text-align: right;\">\n",
       "      <th></th>\n",
       "      <th>Topic</th>\n",
       "      <th>Size</th>\n",
       "    </tr>\n",
       "  </thead>\n",
       "  <tbody>\n",
       "    <tr>\n",
       "      <th>0</th>\n",
       "      <td>-1</td>\n",
       "      <td>1000</td>\n",
       "    </tr>\n",
       "  </tbody>\n",
       "</table>\n",
       "</div>"
      ],
      "text/plain": [
       "   Topic  Size\n",
       "0     -1  1000"
      ]
     },
     "execution_count": 21,
     "metadata": {},
     "output_type": "execute_result"
    }
   ],
   "source": [
    "from sklearn.metrics.pairwise import cosine_similarity\n",
    "for i in range(20):\n",
    "    # Calculate cosine similarity\n",
    "    similarities = cosine_similarity(tf_idf.T)\n",
    "    np.fill_diagonal(similarities, 0)\n",
    "\n",
    "    # Extract label to merge into and from where\n",
    "    topic_sizes = docs_df.groupby(['Topic']).count().sort_values(\"Doc\", ascending=False).reset_index()\n",
    "    topic_to_merge = topic_sizes.iloc[-1].Topic\n",
    "    topic_to_merge_into = np.argmax(similarities[topic_to_merge + 1]) - 1\n",
    "\n",
    "    # Adjust topics\n",
    "    docs_df.loc[docs_df.Topic == topic_to_merge, \"Topic\"] = topic_to_merge_into\n",
    "    old_topics = docs_df.sort_values(\"Topic\").Topic.unique()\n",
    "    map_topics = {old_topic: index - 1 for index, old_topic in enumerate(old_topics)}\n",
    "    docs_df.Topic = docs_df.Topic.map(map_topics)\n",
    "    docs_per_topic = docs_df.groupby(['Topic'], as_index = False).agg({'Doc': ' '.join})\n",
    "\n",
    "    # Calculate new topic words\n",
    "    m = len(data)\n",
    "    tf_idf, count = c_tf_idf(docs_per_topic.Doc.values, m)\n",
    "    top_n_words = extract_top_n_words_per_topic(tf_idf, count, docs_per_topic, n=20)\n",
    "\n",
    "topic_sizes = extract_topic_sizes(docs_df); topic_sizes.head(10)"
   ]
  },
  {
   "cell_type": "code",
   "execution_count": 22,
   "metadata": {},
   "outputs": [
    {
     "data": {
      "text/html": [
       "<div>\n",
       "<style scoped>\n",
       "    .dataframe tbody tr th:only-of-type {\n",
       "        vertical-align: middle;\n",
       "    }\n",
       "\n",
       "    .dataframe tbody tr th {\n",
       "        vertical-align: top;\n",
       "    }\n",
       "\n",
       "    .dataframe thead th {\n",
       "        text-align: right;\n",
       "    }\n",
       "</style>\n",
       "<table border=\"1\" class=\"dataframe\">\n",
       "  <thead>\n",
       "    <tr style=\"text-align: right;\">\n",
       "      <th></th>\n",
       "      <th>Topic</th>\n",
       "      <th>Size</th>\n",
       "    </tr>\n",
       "  </thead>\n",
       "  <tbody>\n",
       "    <tr>\n",
       "      <th>0</th>\n",
       "      <td>-1</td>\n",
       "      <td>1000</td>\n",
       "    </tr>\n",
       "  </tbody>\n",
       "</table>\n",
       "</div>"
      ],
      "text/plain": [
       "   Topic  Size\n",
       "0     -1  1000"
      ]
     },
     "execution_count": 22,
     "metadata": {},
     "output_type": "execute_result"
    }
   ],
   "source": [
    "topic_sizes"
   ]
  },
  {
   "cell_type": "code",
   "execution_count": 1,
   "metadata": {},
   "outputs": [
    {
     "name": "stderr",
     "output_type": "stream",
     "text": [
      "--2022-04-20 13:14:40--  https://huggingface.co/cross-encoder/ms-marco-MiniLM-L-12-v2/blob/main/tokenizer_config.json\n",
      "Resolving huggingface.co (huggingface.co)... 2600:1f18:147f:e800:a302:ad0e:3722:dcfb, 2600:1f18:147f:e850:6c0d:9a67:3e5:c11, 2600:1f18:147f:e850:4e87:e217:2e92:4bdd, ...\n",
      "Connecting to huggingface.co (huggingface.co)|2600:1f18:147f:e800:a302:ad0e:3722:dcfb|:443... connected.\n",
      "HTTP request sent, awaiting response... 200 OK\n",
      "Length: 49116 (48K) [text/html]\n",
      "Saving to: 'tokenizer_config.json'\n",
      "\n",
      "     0K .......... .......... .......... .......... .......   100% 96.6K=0.5s\n",
      "\n",
      "2022-04-20 13:14:42 (96.6 KB/s) - 'tokenizer_config.json' saved [49116/49116]\n",
      "\n"
     ]
    }
   ],
   "source": [
    "!wget https://huggingface.co/cross-encoder/ms-marco-MiniLM-L-12-v2/blob/main/tokenizer_config.json"
   ]
  },
  {
   "cell_type": "code",
   "execution_count": null,
   "metadata": {},
   "outputs": [],
   "source": []
  }
 ],
 "metadata": {
  "kernelspec": {
   "display_name": "Python 3 (ipykernel)",
   "language": "python",
   "name": "python3"
  },
  "language_info": {
   "codemirror_mode": {
    "name": "ipython",
    "version": 3
   },
   "file_extension": ".py",
   "mimetype": "text/x-python",
   "name": "python",
   "nbconvert_exporter": "python",
   "pygments_lexer": "ipython3",
   "version": "3.9.4"
  }
 },
 "nbformat": 4,
 "nbformat_minor": 4
}
