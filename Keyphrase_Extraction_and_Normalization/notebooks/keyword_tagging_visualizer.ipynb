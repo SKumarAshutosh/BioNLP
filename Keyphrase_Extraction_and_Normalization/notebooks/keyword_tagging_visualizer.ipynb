{
 "cells": [
  {
   "cell_type": "markdown",
   "metadata": {},
   "source": [
    "# Biomedical Keyword Tagging & Normalization Skeleton\n",
    "\n",
    "## [1.Data Extraction_&_Preprocessing](#1.Data_Extraction_&_Preprocessing)\n",
    "\n",
    "### Dataset\n",
    "### Type of Dataset: Patent Data Abstract: Patbase\n",
    "### Size of Dataset: 2000k Records\n",
    "\n",
    "### Keywords extraction and Scispacy\n",
    "ref:https://betterprogramming.pub/extract-keywords-using-spacy-in-python-4a8415478fbf\n",
    "\n",
    "\n",
    "### Sentence embedding \n",
    "https://huggingface.co/gsarti/scibert-nli\n",
    "\n",
    "\n",
    "### Preprocessing\n",
    "\n",
    "1) We used <b>NLTK</b> to tokenize and Lemmatize the Text \n",
    "\n",
    "### Improvements\n",
    "\n",
    "#### Word Tokenization and Lemmatization can be improved with POS Tagging\n",
    "\n",
    "## [2.Keyword_&_Phrase_Extraction](#2.Keyword_&_Phrase_Extraction)\n",
    "\n",
    "1) Used <b>Count Vectorizer and Tfidf</b> to get candidate keywords \\\n",
    "2) <b>Paraphrase mining sentence embedding</b> used to get sentence embedding link:https://www.sbert.net/examples/applications/paraphrase-mining/README.html \\\n",
    "3) <b>Maximum Marginal Retrival</b> to check cosine similarity across documents to consolidate candidate terms with terms across documents \n",
    "\n",
    "### Improvements \n",
    "#### After CV and TFIDF we can apply lemmatization with adding vectors to increase weightage across similar words with same meaning to reduce redundancy. \n",
    "#### Encoder Decoder Model with self Attention can be utilized to get better embedding with context and similarity\n",
    "####  Pretrained BERT can be used to get better contextual similarity \n",
    "\n",
    "### [3.Visualization](#3.Visualization)\n",
    "#### Motivation \n",
    "To get View of Textual Meaning and Relation of keyowrds and phrases across documents to get better intuition. \n",
    "\n",
    "steps\n",
    "1) Used <b>KMapper</b> to visualize top keyowrds across documeents \\\n",
    "2) Used <b>DBScan Clustering Algorithm</b> to combine various phrases within documents AND across documents with TFIDF & Ngram\n",
    "\n",
    "### Conclusion \n",
    "1) Here is implementation workflow for Keyphrase Extraction with visualization \n",
    "2) We can see there is duplicate and redundant terms which can be "
   ]
  },
  {
   "cell_type": "code",
   "execution_count": 7,
   "metadata": {},
   "outputs": [],
   "source": [
    "import string\n",
    "import re\n",
    "import numpy as np\n",
    "import pandas as pd\n",
    "import codecs\n",
    "%matplotlib notebook\n",
    "import matplotlib.pyplot as plt\n",
    "plt.style.use('ggplot')\n",
    "\n",
    "from sklearn.decomposition import PCA\n",
    "from sklearn.manifold import TSNE\n",
    "\n",
    "from gensim.models import Word2Vec\n",
    "from gensim.models.fasttext import FastText\n",
    "from gensim.models import KeyedVectors\n",
    "from gensim.test.utils import datapath\n",
    "from scipy import spatial\n",
    "\n",
    "\n",
    "import nltk\n",
    "from nltk.corpus import wordnet,stopwords\n",
    "from nltk.stem import WordNetLemmatizer \n",
    "from nltk import WordNetLemmatizer, pos_tag, word_tokenize\n",
    "\n",
    "\n",
    "\n",
    "from sklearn.metrics.pairwise import cosine_similarity\n",
    "from sklearn.feature_extraction.text import CountVectorizer,TfidfVectorizer\n",
    "\n",
    "from scipy import stats\n",
    "\n",
    "import spacy\n",
    "nlp = spacy.load('en_core_sci_sm', disable=['parser', 'ner'])\n",
    "\n",
    "\n",
    "import tqdm\n",
    "\n",
    "# doc=nlp(text)\n",
    "\n",
    "# from gensim.summarization import keywords\n",
    "stop_words=stopwords.words('english')\n",
    "lemmatizer = WordNetLemmatizer()\n",
    "import torch\n",
    "device = torch.device(\"cuda\" if torch.cuda.is_available() else \"cpu\")\n",
    "n_gpu = torch.cuda.device_count()\n",
    "from string import punctuation"
   ]
  },
  {
   "cell_type": "markdown",
   "metadata": {},
   "source": [
    "# 1.Data_Extraction_&_Preprocessing"
   ]
  },
  {
   "cell_type": "markdown",
   "metadata": {},
   "source": [
    "\n"
   ]
  },
  {
   "cell_type": "code",
   "execution_count": 5,
   "metadata": {},
   "outputs": [
    {
     "name": "stdout",
     "output_type": "stream",
     "text": [
      "<class 'pandas.core.series.Series'>\n"
     ]
    }
   ],
   "source": [
    "pat_data=pd.read_csv('../data/patbase_data.csv')\n",
    "abs_text=pat_data['Abstract']\n",
    "print(type(abs_text))\n",
    "\n",
    "# sample_data=pd.read_excel('Keyword_validation.xlsx')\n",
    "# sample_abs_data=sample_data['Abstract']\n",
    "# sample_abs_data"
   ]
  },
  {
   "cell_type": "code",
   "execution_count": 8,
   "metadata": {},
   "outputs": [
    {
     "name": "stdout",
     "output_type": "stream",
     "text": [
      "ERROR! Session/line number was not unique in database. History logging moved to new session 1774\n"
     ]
    }
   ],
   "source": [
    "\n",
    "def text_cleaning(text):\n",
    "    cleaned_txt = re.sub('<[^<]+>', ' ', str(text))\n",
    "    cleaned_txt = re.sub( r'\\[.*?\\]', ' ',cleaned_txt)  #remove brackets\n",
    "#     cleaned_txt = re.sub('\\d+', ' ', cleaned_txt)\n",
    "#     cleaned_txt = re.sub('\\(\\w+\\)', ' ', cleaned_txt)\n",
    "#     cleaned_txt=text.translate(str.maketrans(' ', ' ',string.punctuation)) \n",
    "    return cleaned_txt\n",
    "   \n",
    "def stopword_removal(text):\n",
    "    cleaned_txt = ' '.join([token for token in word_tokenize(text) if token not in stop_words])\n",
    "    return cleaned_txt\n",
    "def lemmatize_text(text):\n",
    "    cleaned_txt=' '.join([lemmatizer.lemmatize(token) for token in word_tokenize(text)])\n",
    "\n",
    "    return cleaned_txt\n",
    "\n",
    "def preprocessed_text(df):\n",
    "    \n",
    "    col=['nltk_tokens','nouns_verbs','lemmatize_text']\n",
    "    preprocess_txt=pd.DataFrame(columns=col)\n",
    "    abs_clean_text=df.apply(text_cleaning)\n",
    "    \n",
    "    stopword_removed_text=abs_clean_text.apply(stopword_removal)         \n",
    "    preprocess_txt['lemmatize_text']=stopword_removed_text.apply(lemmatize_text)\n",
    "  \n",
    "    for ind,text in tqdm(preprocess_txt['lemmatize_text'].iteritems()):       \n",
    "        tokens=word_tokenize(text)\n",
    "        pos_tokens=nltk.pos_tag(tokens)\n",
    "        preprocess_txt.at[ind,'nouns_verbs']=[pos_token for pos_token,pos in pos_tokens if pos.startswith('N' or 'V')]\n",
    "        preprocess_txt.at[ind,'nltk_tokens']=tokens     \n",
    "    return preprocess_txt"
   ]
  },
  {
   "cell_type": "code",
   "execution_count": 9,
   "metadata": {},
   "outputs": [
    {
     "data": {
      "text/html": [
       "<div>\n",
       "<style scoped>\n",
       "    .dataframe tbody tr th:only-of-type {\n",
       "        vertical-align: middle;\n",
       "    }\n",
       "\n",
       "    .dataframe tbody tr th {\n",
       "        vertical-align: top;\n",
       "    }\n",
       "\n",
       "    .dataframe thead th {\n",
       "        text-align: right;\n",
       "    }\n",
       "</style>\n",
       "<table border=\"1\" class=\"dataframe\">\n",
       "  <thead>\n",
       "    <tr style=\"text-align: right;\">\n",
       "      <th></th>\n",
       "      <th>nltk_tokens</th>\n",
       "      <th>nouns_verbs</th>\n",
       "      <th>lemmatize_text</th>\n",
       "    </tr>\n",
       "  </thead>\n",
       "  <tbody>\n",
       "    <tr>\n",
       "      <th>0</th>\n",
       "      <td>[The, purpose, present, invention, provide, re...</td>\n",
       "      <td>[invention, resin, balance, variety, property,...</td>\n",
       "      <td>The purpose present invention provide resin ex...</td>\n",
       "    </tr>\n",
       "    <tr>\n",
       "      <th>1</th>\n",
       "      <td>[A, battery, pack, including, least, one, batt...</td>\n",
       "      <td>[battery, pack, battery, cell, case, accommoda...</td>\n",
       "      <td>A battery pack including least one battery cel...</td>\n",
       "    </tr>\n",
       "    <tr>\n",
       "      <th>2</th>\n",
       "      <td>[A, quaternary, ammonium, compound, reaction, ...</td>\n",
       "      <td>[ammonium, compound, reaction, product, weight...</td>\n",
       "      <td>A quaternary ammonium compound reaction produc...</td>\n",
       "    </tr>\n",
       "    <tr>\n",
       "      <th>3</th>\n",
       "      <td>[A, washing, machine, comprises, outer, tub, ,...</td>\n",
       "      <td>[machine, comprises, tub, tub, pulsator, rotor...</td>\n",
       "      <td>A washing machine comprises outer tub , inner ...</td>\n",
       "    </tr>\n",
       "    <tr>\n",
       "      <th>4</th>\n",
       "      <td>[The, present, invention, relates, ceiling, ty...</td>\n",
       "      <td>[invention, ceiling, type, air, conditioner, h...</td>\n",
       "      <td>The present invention relates ceiling type air...</td>\n",
       "    </tr>\n",
       "    <tr>\n",
       "      <th>...</th>\n",
       "      <td>...</td>\n",
       "      <td>...</td>\n",
       "      <td>...</td>\n",
       "    </tr>\n",
       "    <tr>\n",
       "      <th>1995</th>\n",
       "      <td>[A, control, method, includes, :, establishing...</td>\n",
       "      <td>[control, method, connection, device, device, ...</td>\n",
       "      <td>A control method includes : establishing conne...</td>\n",
       "    </tr>\n",
       "    <tr>\n",
       "      <th>1996</th>\n",
       "      <td>[A, numerical, controller, capable, determinin...</td>\n",
       "      <td>[controller, input, value, operator, range, li...</td>\n",
       "      <td>A numerical controller capable determining whe...</td>\n",
       "    </tr>\n",
       "    <tr>\n",
       "      <th>1997</th>\n",
       "      <td>[A, magnetic, resonance, apparatus, (, 100, ,,...</td>\n",
       "      <td>[resonance, apparatus, resonance, apparatus, p...</td>\n",
       "      <td>A magnetic resonance apparatus ( 100 , 800 , 1...</td>\n",
       "    </tr>\n",
       "    <tr>\n",
       "      <th>1998</th>\n",
       "      <td>[A, fluid-conveying, device, conveying, fluid,...</td>\n",
       "      <td>[device, tank, pump, pot, pump, drive, region,...</td>\n",
       "      <td>A fluid-conveying device conveying fluid tank ...</td>\n",
       "    </tr>\n",
       "    <tr>\n",
       "      <th>1999</th>\n",
       "      <td>[The, present, disclosure, provides, method, t...</td>\n",
       "      <td>[disclosure, wound, healing, subject, method, ...</td>\n",
       "      <td>The present disclosure provides method treatin...</td>\n",
       "    </tr>\n",
       "  </tbody>\n",
       "</table>\n",
       "<p>2000 rows × 3 columns</p>\n",
       "</div>"
      ],
      "text/plain": [
       "                                            nltk_tokens  \\\n",
       "0     [The, purpose, present, invention, provide, re...   \n",
       "1     [A, battery, pack, including, least, one, batt...   \n",
       "2     [A, quaternary, ammonium, compound, reaction, ...   \n",
       "3     [A, washing, machine, comprises, outer, tub, ,...   \n",
       "4     [The, present, invention, relates, ceiling, ty...   \n",
       "...                                                 ...   \n",
       "1995  [A, control, method, includes, :, establishing...   \n",
       "1996  [A, numerical, controller, capable, determinin...   \n",
       "1997  [A, magnetic, resonance, apparatus, (, 100, ,,...   \n",
       "1998  [A, fluid-conveying, device, conveying, fluid,...   \n",
       "1999  [The, present, disclosure, provides, method, t...   \n",
       "\n",
       "                                            nouns_verbs  \\\n",
       "0     [invention, resin, balance, variety, property,...   \n",
       "1     [battery, pack, battery, cell, case, accommoda...   \n",
       "2     [ammonium, compound, reaction, product, weight...   \n",
       "3     [machine, comprises, tub, tub, pulsator, rotor...   \n",
       "4     [invention, ceiling, type, air, conditioner, h...   \n",
       "...                                                 ...   \n",
       "1995  [control, method, connection, device, device, ...   \n",
       "1996  [controller, input, value, operator, range, li...   \n",
       "1997  [resonance, apparatus, resonance, apparatus, p...   \n",
       "1998  [device, tank, pump, pot, pump, drive, region,...   \n",
       "1999  [disclosure, wound, healing, subject, method, ...   \n",
       "\n",
       "                                         lemmatize_text  \n",
       "0     The purpose present invention provide resin ex...  \n",
       "1     A battery pack including least one battery cel...  \n",
       "2     A quaternary ammonium compound reaction produc...  \n",
       "3     A washing machine comprises outer tub , inner ...  \n",
       "4     The present invention relates ceiling type air...  \n",
       "...                                                 ...  \n",
       "1995  A control method includes : establishing conne...  \n",
       "1996  A numerical controller capable determining whe...  \n",
       "1997  A magnetic resonance apparatus ( 100 , 800 , 1...  \n",
       "1998  A fluid-conveying device conveying fluid tank ...  \n",
       "1999  The present disclosure provides method treatin...  \n",
       "\n",
       "[2000 rows x 3 columns]"
      ]
     },
     "execution_count": 9,
     "metadata": {},
     "output_type": "execute_result"
    }
   ],
   "source": [
    "preprocessed_df=preprocessed_text(abs_text)\n",
    "preprocessed_df\n",
    "\n",
    "# preprocessed_df1=preprocessed_text(abs_text)\n",
    "# preprocessed_df1"
   ]
  },
  {
   "cell_type": "markdown",
   "metadata": {},
   "source": [
    "# 2.Keyword_&_Phrase_Extraction"
   ]
  },
  {
   "cell_type": "markdown",
   "metadata": {},
   "source": [
    "### keyphrase extraction workflow \n",
    "\n",
    "1. Extraction of keywords using count vectorizer,Tfidf,spacy, gensim \n",
    "2. Generating Sentence embedding from Pretrained Model for each document\n",
    "3. Duplicate and Redundant removal with MMR for single document ,Doc_word cosine Simililarity for Multiple document"
   ]
  },
  {
   "cell_type": "markdown",
   "metadata": {},
   "source": [
    "## Single doc"
   ]
  },
  {
   "cell_type": "code",
   "execution_count": 10,
   "metadata": {},
   "outputs": [],
   "source": [
    "def cv_word_doc_embedding(doc):\n",
    "    cv_countvec = CountVectorizer(ngram_range=(1,1), stop_words=stop_words, min_df=1).fit([doc])\n",
    "    cv_words = cv_countvec.get_feature_names()\n",
    "#     print(cv_words)\n",
    "    cv_doc_embeddings = embedding_model.encode([doc])\n",
    "    cv_word_embeddings =embedding_model.encode(cv_words)\n",
    "    return cv_word_embeddings,cv_doc_embeddings,cv_words\n",
    "    "
   ]
  },
  {
   "cell_type": "code",
   "execution_count": 11,
   "metadata": {},
   "outputs": [],
   "source": [
    "def tfidf_word_doc_embedding(doc):\n",
    "    tfidf_countvec = TfidfVectorizer(ngram_range=(1,2), stop_words=stop_words, min_df=0.8).fit([doc])\n",
    "    tfidf_words = tfidf_countvec.get_feature_names()    \n",
    "    print(tfidf_words)\n",
    "    tfidf_doc_embeddings = embedding_model.encode([doc])\n",
    "    tfidf_word_embeddings = embedding_model.encode(tfidf_words)\n",
    "    return tfidf_word_embeddings,tfidf_doc_embeddings,tfidf_words\n"
   ]
  },
  {
   "cell_type": "code",
   "execution_count": 14,
   "metadata": {},
   "outputs": [],
   "source": [
    "top_n=10\n",
    "diversity=0.5\n",
    "from sentence_transformers import SentenceTransformer,models\n",
    "\n",
    "# from torch import nn\n",
    "# # word_embedding_model = models.Transformer('distilbert-base-uncased', max_seq_length=64)\n",
    "# # pooling_model = models.Pooling(word_embedding_model.get_word_embedding_dimension()).to('cuda:0')\n",
    "# # dense_model = models.Dense(in_features=pooling_model.get_sentence_embedding_dimension(), out_features=64,\n",
    "# #                            activation_function=nn.Tanh()).to('cuda:0')\n",
    "# # embedding_model = SentenceTransformer(modules=[word_embedding_model, pooling_model, dense_model])\n",
    "\n",
    "# # # embedding_model = SentenceTransformer(\"paraphrase-MiniLM-L6-v2\")\n",
    "embedding_model = SentenceTransformer(\"gsarti/scibert-nli\")\n",
    "\n"
   ]
  },
  {
   "cell_type": "code",
   "execution_count": 11,
   "metadata": {},
   "outputs": [],
   "source": [
    "def mmr(doc_embedding: np.ndarray,word_embeddings: np.ndarray,words,top_n,diversity):\n",
    "    # Extract similarity within words, and between words and the document\n",
    "    word_doc_similarity = cosine_similarity(word_embeddings, doc_embedding)\n",
    "    word_similarity = cosine_similarity(word_embeddings)\n",
    "    \n",
    "    # Initialize candidates and already choose best keyword/keyphras\n",
    "    keywords_idx = [np.argmax(word_doc_similarity)]\n",
    "    candidates_idx = [i for i in range(len(words)) if i != keywords_idx[0]]\n",
    "    \n",
    "    for _ in range(top_n - 1):\n",
    "        # Extract similarities within candidates and\n",
    "        # between candidates and selected keywords/phrases\n",
    "        candidate_similarities = word_doc_similarity[candidates_idx, :]\n",
    "        target_similarities = np.max(word_similarity[candidates_idx][:, keywords_idx], axis=1)\n",
    "\n",
    "        # Calculate MMR\n",
    "        mmr = (1-diversity) * candidate_similarities - diversity * target_similarities.reshape(-1, 1)\n",
    "        if mmr.size>0:\n",
    "            mmr_idx = candidates_idx[np.argmax(mmr)]\n",
    "        \n",
    "            # Update keywords & candidates\n",
    "            keywords_idx.append(mmr_idx)\n",
    "            candidates_idx.remove(mmr_idx)\n",
    "            \n",
    "    return [(words[idx], round((word_doc_similarity.reshape(1, -1)[0][idx]), 4)) for idx in keywords_idx]"
   ]
  },
  {
   "cell_type": "code",
   "execution_count": 12,
   "metadata": {},
   "outputs": [
    {
     "name": "stderr",
     "output_type": "stream",
     "text": [
      "C:\\Users\\HP\\anaconda3\\envs\\Pytorchgpu\\lib\\site-packages\\sklearn\\utils\\deprecation.py:87: FutureWarning: Function get_feature_names is deprecated; get_feature_names is deprecated in 1.0 and will be removed in 1.2. Please use get_feature_names_out instead.\n",
      "  warnings.warn(msg, category=FutureWarning)\n",
      "C:\\Users\\HP\\anaconda3\\envs\\Pytorchgpu\\lib\\site-packages\\sklearn\\utils\\deprecation.py:87: FutureWarning: Function get_feature_names is deprecated; get_feature_names is deprecated in 1.0 and will be removed in 1.2. Please use get_feature_names_out instead.\n",
      "  warnings.warn(msg, category=FutureWarning)\n",
      "C:\\Users\\HP\\anaconda3\\envs\\Pytorchgpu\\lib\\site-packages\\sklearn\\utils\\deprecation.py:87: FutureWarning: Function get_feature_names is deprecated; get_feature_names is deprecated in 1.0 and will be removed in 1.2. Please use get_feature_names_out instead.\n",
      "  warnings.warn(msg, category=FutureWarning)\n",
      "C:\\Users\\HP\\anaconda3\\envs\\Pytorchgpu\\lib\\site-packages\\sklearn\\utils\\deprecation.py:87: FutureWarning: Function get_feature_names is deprecated; get_feature_names is deprecated in 1.0 and will be removed in 1.2. Please use get_feature_names_out instead.\n",
      "  warnings.warn(msg, category=FutureWarning)\n"
     ]
    },
    {
     "name": "stdout",
     "output_type": "stream",
     "text": [
      "['22', '22 38', '38', '38 wherein', '450', '450 nm', '550', '550 nm', '75', '75 le', '93', '93 content', 'aromatic', 'aromatic structure', 'balance', 'balance variety', 'characterized', 'characterized structural', 'constitutes', 'constitutes resin', 'content', 'content aromatic', 'content mass', 'difference', 'difference film', 'difference r450', 'difference r550', 'equal', 'equal 22', 'equal 93', 'equal le', 'excellent', 'excellent balance', 'film', 'film obtained', 'film phase', 'film produced', 'formula', 'formula le', 'heat', 'heat resistance', 'heat stability', 'includes', 'includes aromatic', 'invention', 'invention provide', 'invention relates', 'le', 'le equal', 'mass', 'mass percent', 'mechanical', 'mechanical property', 'nm', 'nm phase', 'nm stretched', 'obtained', 'obtained using', 'optical', 'optical film', 'optical physical', 'percent', 'percent aromatic', 'phase', 'phase difference', 'physical', 'physical property', 'polycondensation', 'polycondensation resin', 'present', 'present invention', 'produced', 'produced resin', 'property', 'property heat', 'property optical', 'provide', 'provide optical', 'provide resin', 'purpose', 'purpose present', 'r450', 'r450 450', 'r450 r550', 'r550', 'r550 550', 'r550 phase', 'ratio', 'ratio r450', 'relates', 'relates polycondensation', 'repeating', 'repeating structural', 'resin', 'resin characterized', 'resin excellent', 'resin present', 'resin ratio', 'resin repeating', 'resistance', 'resistance mechanical', 'satisfying', 'satisfying formula', 'stability', 'stability provide', 'stretched', 'stretched film', 'structural', 'structural unit', 'structure', 'structure repeating', 'structure resin', 'unit', 'unit constitutes', 'unit content', 'unit includes', 'unit satisfying', 'using', 'using resin', 'variety', 'variety property', 'wherein', 'wherein 75']\n",
      "['accommodate', 'accommodate battery', 'according', 'according temperature', 'adjacent', 'adjacent cooling', 'battery', 'battery cell', 'battery pack', 'case', 'case configured', 'case disposed', 'cell', 'cell cooling', 'cell pack', 'change', 'change inside', 'close', 'close cooling', 'closing', 'closing unit', 'configured', 'configured accommodate', 'configured open', 'cooling', 'cooling hole', 'disposed', 'disposed adjacent', 'flow', 'flow meter', 'formed', 'formed therethrough', 'hole', 'hole according', 'hole formed', 'hole opening', 'including', 'including least', 'inside', 'inside pack', 'least', 'least one', 'meter', 'meter provided', 'one', 'one battery', 'open', 'open close', 'opening', 'opening closing', 'outer', 'outer side', 'pack', 'pack case', 'pack including', 'provided', 'provided outer', 'side', 'side pack', 'temperature', 'temperature change', 'therethrough', 'therethrough flow', 'unit', 'unit configured']\n"
     ]
    },
    {
     "name": "stderr",
     "output_type": "stream",
     "text": [
      "C:\\Users\\HP\\anaconda3\\envs\\Pytorchgpu\\lib\\site-packages\\sklearn\\utils\\deprecation.py:87: FutureWarning: Function get_feature_names is deprecated; get_feature_names is deprecated in 1.0 and will be removed in 1.2. Please use get_feature_names_out instead.\n",
      "  warnings.warn(msg, category=FutureWarning)\n",
      "C:\\Users\\HP\\anaconda3\\envs\\Pytorchgpu\\lib\\site-packages\\sklearn\\utils\\deprecation.py:87: FutureWarning: Function get_feature_names is deprecated; get_feature_names is deprecated in 1.0 and will be removed in 1.2. Please use get_feature_names_out instead.\n",
      "  warnings.warn(msg, category=FutureWarning)\n",
      "C:\\Users\\HP\\anaconda3\\envs\\Pytorchgpu\\lib\\site-packages\\sklearn\\utils\\deprecation.py:87: FutureWarning: Function get_feature_names is deprecated; get_feature_names is deprecated in 1.0 and will be removed in 1.2. Please use get_feature_names_out instead.\n",
      "  warnings.warn(msg, category=FutureWarning)\n",
      "C:\\Users\\HP\\anaconda3\\envs\\Pytorchgpu\\lib\\site-packages\\sklearn\\utils\\deprecation.py:87: FutureWarning: Function get_feature_names is deprecated; get_feature_names is deprecated in 1.0 and will be removed in 1.2. Please use get_feature_names_out instead.\n",
      "  warnings.warn(msg, category=FutureWarning)\n"
     ]
    },
    {
     "name": "stdout",
     "output_type": "stream",
     "text": [
      "['1000', '1000 acid', 'acid', 'acid activated', 'activated', 'activated alkylating', 'agent', 'agent diacid', 'alkylating', 'alkylating agent', 'amine', 'amine molecular', 'ammonium', 'ammonium compound', 'atom', 'carbon', 'carbon atom', 'compound', 'compound reaction', 'diacid', 'diacid including', 'hydrocarbyl', 'hydrocarbyl moiety', 'including', 'including optionally', 'le', 'le 1000', 'least', 'least carbon', 'moiety', 'moiety least', 'molecular', 'molecular weight', 'optionally', 'optionally substituted', 'product', 'product tertiary', 'quaternary', 'quaternary ammonium', 'reaction', 'reaction product', 'substituted', 'substituted hydrocarbyl', 'tertiary', 'tertiary amine', 'weight', 'weight le']\n",
      "['automatic', 'automatic washing', 'comprises', 'comprises outer', 'consumption', 'consumption stable', 'deceleration', 'deceleration mechanism', 'dehydration', 'dehydration pulsator', 'direction', 'direction dehydration', 'direction speed', 'drive', 'drive inner', 'drive pulsator', 'driving', 'driving mean', 'efficiency', 'energy', 'energy consumption', 'high', 'high transmission', 'inner', 'inner tub', 'machine', 'machine comprises', 'machine save', 'mean', 'mean two', 'mechanism', 'mechanism one', 'one', 'one rotor', 'opposite', 'opposite direction', 'outer', 'outer tub', 'output', 'output high', 'pulsator', 'pulsator driving', 'pulsator inner', 'pulsator rotor', 'rotate', 'rotate direction', 'rotate opposite', 'rotor', 'rotor drive', 'rotor stator', 'save', 'save energy', 'speed', 'speed automatic', 'stable', 'stable output', 'stator', 'stator deceleration', 'transmission', 'transmission efficiency', 'tub', 'tub inner', 'tub pulsator', 'tub rotate', 'tub washing', 'two', 'two rotor', 'washing', 'washing machine', 'washing two']\n"
     ]
    },
    {
     "name": "stderr",
     "output_type": "stream",
     "text": [
      "C:\\Users\\HP\\anaconda3\\envs\\Pytorchgpu\\lib\\site-packages\\sklearn\\utils\\deprecation.py:87: FutureWarning: Function get_feature_names is deprecated; get_feature_names is deprecated in 1.0 and will be removed in 1.2. Please use get_feature_names_out instead.\n",
      "  warnings.warn(msg, category=FutureWarning)\n",
      "C:\\Users\\HP\\anaconda3\\envs\\Pytorchgpu\\lib\\site-packages\\sklearn\\utils\\deprecation.py:87: FutureWarning: Function get_feature_names is deprecated; get_feature_names is deprecated in 1.0 and will be removed in 1.2. Please use get_feature_names_out instead.\n",
      "  warnings.warn(msg, category=FutureWarning)\n",
      "C:\\Users\\HP\\anaconda3\\envs\\Pytorchgpu\\lib\\site-packages\\sklearn\\utils\\deprecation.py:87: FutureWarning: Function get_feature_names is deprecated; get_feature_names is deprecated in 1.0 and will be removed in 1.2. Please use get_feature_names_out instead.\n",
      "  warnings.warn(msg, category=FutureWarning)\n",
      "C:\\Users\\HP\\anaconda3\\envs\\Pytorchgpu\\lib\\site-packages\\sklearn\\utils\\deprecation.py:87: FutureWarning: Function get_feature_names is deprecated; get_feature_names is deprecated in 1.0 and will be removed in 1.2. Please use get_feature_names_out instead.\n",
      "  warnings.warn(msg, category=FutureWarning)\n"
     ]
    },
    {
     "name": "stdout",
     "output_type": "stream",
     "text": [
      "['accommodated', 'accommodated control', 'accommodation', 'accommodation space', 'air', 'air conditioner', 'air discharged', 'air guide', 'air light', 'attached', 'attached first', 'ceiling', 'ceiling type', 'comprises', 'comprises discharge', 'conditioner', 'conditioner comprises', 'conditioner fixing', 'connected', 'connected light', 'connecting', 'connecting first', 'control', 'control unit', 'detachably', 'detachably attached', 'device', 'device ceiling', 'device irradiating', 'device lifting', 'device second', 'direction', 'direction discharged', 'discharge', 'discharge panel', 'discharged', 'discharged air', 'discharged outside', 'emitting', 'emitting device', 'exit', 'exit hole', 'first', 'first fixing', 'first harness', 'fixing', 'fixing first', 'fixing harness', 'fixing unit', 'flow', 'flow direction', 'guide', 'guide accommodation', 'guide first', 'guide guide', 'guide lifted', 'guide lifting', 'guide member', 'guide second', 'guiding', 'guiding flow', 'harness', 'harness connected', 'harness installed', 'harness lifting', 'harness moreover', 'harness second', 'hole', 'hole air', 'installed', 'installed discharge', 'invention', 'invention relates', 'irradiating', 'irradiating light', 'lifted', 'lifted accommodated', 'lifting', 'lifting air', 'lifting device', 'lifting guide', 'light', 'light emitting', 'light guide', 'member', 'member guiding', 'member lifting', 'moreover', 'moreover air', 'outside', 'outside air', 'panel', 'panel detachably', 'panel exit', 'present', 'present invention', 'relates', 'relates ceiling', 'second', 'second fixing', 'second harness', 'space', 'space wherein', 'type', 'type air', 'unit', 'unit connecting', 'unit fixing', 'wherein', 'wherein air']\n",
      "['air', 'air handle', 'battery', 'battery disposed', 'behind', 'behind dust', 'behind suction', 'cleaner', 'cleaner includes', 'disposed', 'disposed behind', 'disposed handle', 'disposed suction', 'dust', 'dust air', 'dust separation', 'force', 'force dust', 'generates', 'generates suction', 'handle', 'handle behind', 'handle disposed', 'includes', 'includes suction', 'motor', 'motor battery', 'motor generates', 'motor separate', 'power', 'power suction', 'separate', 'separate dust', 'separation', 'separation unit', 'suction', 'suction force', 'suction motor', 'supply', 'supply power', 'unit', 'unit disposed', 'unit supply']\n"
     ]
    },
    {
     "name": "stderr",
     "output_type": "stream",
     "text": [
      "C:\\Users\\HP\\anaconda3\\envs\\Pytorchgpu\\lib\\site-packages\\sklearn\\utils\\deprecation.py:87: FutureWarning: Function get_feature_names is deprecated; get_feature_names is deprecated in 1.0 and will be removed in 1.2. Please use get_feature_names_out instead.\n",
      "  warnings.warn(msg, category=FutureWarning)\n",
      "C:\\Users\\HP\\anaconda3\\envs\\Pytorchgpu\\lib\\site-packages\\sklearn\\utils\\deprecation.py:87: FutureWarning: Function get_feature_names is deprecated; get_feature_names is deprecated in 1.0 and will be removed in 1.2. Please use get_feature_names_out instead.\n",
      "  warnings.warn(msg, category=FutureWarning)\n",
      "C:\\Users\\HP\\anaconda3\\envs\\Pytorchgpu\\lib\\site-packages\\sklearn\\utils\\deprecation.py:87: FutureWarning: Function get_feature_names is deprecated; get_feature_names is deprecated in 1.0 and will be removed in 1.2. Please use get_feature_names_out instead.\n",
      "  warnings.warn(msg, category=FutureWarning)\n",
      "C:\\Users\\HP\\anaconda3\\envs\\Pytorchgpu\\lib\\site-packages\\sklearn\\utils\\deprecation.py:87: FutureWarning: Function get_feature_names is deprecated; get_feature_names is deprecated in 1.0 and will be removed in 1.2. Please use get_feature_names_out instead.\n",
      "  warnings.warn(msg, category=FutureWarning)\n"
     ]
    },
    {
     "name": "stdout",
     "output_type": "stream",
     "text": [
      "['according', 'according embodiment', 'assembly', 'assembly according', 'assembly driving', 'assembly efficiently', 'comprises', 'comprises cylinder', 'connected', 'connected pipe', 'control', 'control unit', 'controlling', 'controlling fluid', 'controlling movement', 'cylinder', 'cylinder connected', 'cylinder moved', 'dividing', 'dividing first', 'driving', 'driving assembly', 'efficiently', 'efficiently moved', 'embodiment', 'embodiment present', 'first', 'first section', 'fluid', 'fluid moved', 'inside', 'inside cylinder', 'invention', 'invention comprises', 'invention driving', 'invention relates', 'located', 'located inside', 'moved', 'moved pipe', 'moved piston', 'moved second', 'movement', 'movement piston', 'pipe', 'pipe control', 'pipe controlling', 'pipe piston', 'piston', 'piston dividing', 'piston located', 'piston start', 'piston stop', 'present', 'present invention', 'provided', 'provided present', 'relates', 'relates driving', 'second', 'second section', 'section', 'section piston', 'section section', 'start', 'start moved', 'stop', 'stop provided', 'unit', 'unit controlling']\n",
      "['adjusting', 'adjusting flow', 'adjusting zone', 'agent', 'agent fixed', 'allowing', 'allowing molten', 'bringing', 'bringing molten', 'contact', 'contact pressurized', 'containing', 'containing physical', 'cylinder', 'cylinder upstream', 'fixed', 'fixed pressure', 'flow', 'flow rate', 'fluid', 'fluid containing', 'fluid starvation', 'foam', 'foam molded', 'foaming', 'foaming agent', 'following', 'following order', 'includes', 'includes plasticizing', 'introducing', 'introducing pressurized', 'melting', 'melting thermoplastic', 'method', 'method includes', 'method producing', 'molded', 'molded product', 'molding', 'molding molten', 'molten', 'molten resin', 'order', 'order plasticization', 'physical', 'physical foaming', 'plasticization', 'plasticization zone', 'plasticizing', 'plasticizing cylinder', 'plasticizing melting', 'pressure', 'pressure bringing', 'pressure molding', 'pressure starvation', 'pressurized', 'pressurized fluid', 'producing', 'producing foam', 'producing method', 'product', 'product using', 'rate', 'rate adjusting', 'rate molten', 'resin', 'resin flow', 'resin foam', 'resin molten', 'resin plasticization', 'resin starved', 'retain', 'retain starvation', 'retained', 'retained fixed', 'side', 'side following', 'starvation', 'starvation zone', 'starved', 'starved state', 'state', 'state contact', 'state starvation', 'thermoplastic', 'thermoplastic resin', 'upstream', 'upstream side', 'using', 'using plasticizing', 'zone', 'zone adjusting', 'zone allowing', 'zone fixed', 'zone flow', 'zone introducing', 'zone producing', 'zone retain', 'zone retained', 'zone starvation', 'zone state']\n"
     ]
    },
    {
     "name": "stderr",
     "output_type": "stream",
     "text": [
      "C:\\Users\\HP\\anaconda3\\envs\\Pytorchgpu\\lib\\site-packages\\sklearn\\utils\\deprecation.py:87: FutureWarning: Function get_feature_names is deprecated; get_feature_names is deprecated in 1.0 and will be removed in 1.2. Please use get_feature_names_out instead.\n",
      "  warnings.warn(msg, category=FutureWarning)\n",
      "C:\\Users\\HP\\anaconda3\\envs\\Pytorchgpu\\lib\\site-packages\\sklearn\\utils\\deprecation.py:87: FutureWarning: Function get_feature_names is deprecated; get_feature_names is deprecated in 1.0 and will be removed in 1.2. Please use get_feature_names_out instead.\n",
      "  warnings.warn(msg, category=FutureWarning)\n",
      "C:\\Users\\HP\\anaconda3\\envs\\Pytorchgpu\\lib\\site-packages\\sklearn\\utils\\deprecation.py:87: FutureWarning: Function get_feature_names is deprecated; get_feature_names is deprecated in 1.0 and will be removed in 1.2. Please use get_feature_names_out instead.\n",
      "  warnings.warn(msg, category=FutureWarning)\n",
      "C:\\Users\\HP\\anaconda3\\envs\\Pytorchgpu\\lib\\site-packages\\sklearn\\utils\\deprecation.py:87: FutureWarning: Function get_feature_names is deprecated; get_feature_names is deprecated in 1.0 and will be removed in 1.2. Please use get_feature_names_out instead.\n",
      "  warnings.warn(msg, category=FutureWarning)\n"
     ]
    },
    {
     "name": "stdout",
     "output_type": "stream",
     "text": [
      "['adjacent', 'adjacent interface', 'charge', 'charge part', 'charge trap', 'contact', 'device', 'device including', 'directly', 'directly contact', 'disposed', 'disposed adjacent', 'electrode', 'electrode gate', 'electrode photo', 'film', 'film directly', 'film gate', 'film interface', 'film wherein', 'gate', 'gate electrode', 'gate insulation', 'includes', 'includes charge', 'including', 'including gate', 'insulation', 'insulation film', 'interface', 'interface charge', 'interface photo', 'optically', 'optically restorable', 'part', 'part disposed', 'part includes', 'part photo', 'photo', 'photo responsive', 'provided', 'provided optically', 'responsive', 'responsive semiconductor', 'restorable', 'restorable semiconductor', 'semiconductor', 'semiconductor device', 'semiconductor film', 'trap', 'trap interface', 'wherein', 'wherein interface']\n",
      "['back', 'back forth', 'bracket', 'bush', 'bush guide', 'bush holding', 'bush linear', 'connected', 'connected tube', 'cylinder', 'cylinder guide', 'direction', 'direction time', 'displaced', 'displaced relative', 'floating', 'floating bush', 'fluid', 'fluid supplied', 'forth', 'forth direction', 'forth floating', 'guide', 'guide displaced', 'guide mechanism', 'guide member', 'guide move', 'guide working', 'hold', 'hold floating', 'holding', 'holding part', 'includes', 'includes floating', 'linear', 'linear guide', 'mechanism', 'mechanism includes', 'member', 'member linear', 'member retaining', 'move', 'move back', 'part', 'part hold', 'piston', 'piston rod', 'position', 'position slider', 'relative', 'relative guide', 'retaining', 'retaining position', 'rod', 'rod move', 'slider', 'slider connected', 'slider linear', 'supplied', 'supplied tube', 'time', 'time slider', 'tube', 'tube piston', 'tube via', 'via', 'via bracket', 'working', 'working fluid']\n"
     ]
    },
    {
     "name": "stderr",
     "output_type": "stream",
     "text": [
      "C:\\Users\\HP\\anaconda3\\envs\\Pytorchgpu\\lib\\site-packages\\sklearn\\utils\\deprecation.py:87: FutureWarning: Function get_feature_names is deprecated; get_feature_names is deprecated in 1.0 and will be removed in 1.2. Please use get_feature_names_out instead.\n",
      "  warnings.warn(msg, category=FutureWarning)\n",
      "C:\\Users\\HP\\anaconda3\\envs\\Pytorchgpu\\lib\\site-packages\\sklearn\\utils\\deprecation.py:87: FutureWarning: Function get_feature_names is deprecated; get_feature_names is deprecated in 1.0 and will be removed in 1.2. Please use get_feature_names_out instead.\n",
      "  warnings.warn(msg, category=FutureWarning)\n",
      "C:\\Users\\HP\\anaconda3\\envs\\Pytorchgpu\\lib\\site-packages\\sklearn\\utils\\deprecation.py:87: FutureWarning: Function get_feature_names is deprecated; get_feature_names is deprecated in 1.0 and will be removed in 1.2. Please use get_feature_names_out instead.\n",
      "  warnings.warn(msg, category=FutureWarning)\n",
      "C:\\Users\\HP\\anaconda3\\envs\\Pytorchgpu\\lib\\site-packages\\sklearn\\utils\\deprecation.py:87: FutureWarning: Function get_feature_names is deprecated; get_feature_names is deprecated in 1.0 and will be removed in 1.2. Please use get_feature_names_out instead.\n",
      "  warnings.warn(msg, category=FutureWarning)\n"
     ]
    },
    {
     "name": "stdout",
     "output_type": "stream",
     "text": [
      "['angle', 'angle greater', 'angle running', 'back', 'back frame', 'calculating', 'calculating inclination', 'connected', 'connected first', 'control', 'control main', 'controller', 'controller control', 'controlling', 'controlling motorized', 'detachably', 'detachably connected', 'detecting', 'detecting sensor', 'detects', 'detects inclination', 'determining', 'determining whether', 'disclosed', 'disclosed herein', 'end', 'end back', 'first', 'first main', 'frame', 'frame detachably', 'frame inclination', 'frame seat', 'frame supporting', 'greater', 'greater reference', 'ground', 'ground inclination', 'herein', 'herein method', 'inclination', 'inclination angle', 'inclination controller', 'inclination detecting', 'includes', 'includes receiving', 'including', 'including seat', 'input', 'input turning', 'installed', 'installed lower', 'lower', 'lower end', 'main', 'main wheel', 'method', 'method controlling', 'method includes', 'motorized', 'motorized wheelchair', 'operation', 'operation calculating', 'receiving', 'receiving input', 'reference', 'reference angle', 'respectively', 'respectively installed', 'running', 'running ground', 'seat', 'seat back', 'seat frame', 'second', 'second main', 'sensor', 'sensor detects', 'sensor determining', 'supporting', 'supporting seat', 'turning', 'turning operation', 'wheel', 'wheel method', 'wheel respectively', 'wheel second', 'wheelchair', 'wheelchair including', 'wheelchair motorized', 'whether', 'whether inclination']\n",
      "['acetyl', 'acetyl cysteine', 'active', 'active component', 'alleviating', 'alleviating nervous', 'application', 'application relates', 'cell', 'cell neural', 'cell pharmaceutical', 'component', 'composition', 'composition preventing', 'composition promoting', 'contain', 'contain zinc', 'cysteine', 'cysteine nac', 'differentiation', 'differentiation neural', 'disease', 'disease contain', 'disease health', 'food', 'food composition', 'functional', 'functional food', 'health', 'health functional', 'nac', 'nac active', 'nervous', 'nervous system', 'neural', 'neural precursor', 'neural stem', 'neurogenesis', 'neurogenesis composition', 'pharmaceutical', 'pharmaceutical composition', 'precursor', 'precursor cell', 'present', 'present application', 'preventing', 'preventing alleviating', 'preventing treating', 'proliferation', 'proliferation differentiation', 'promoting', 'promoting neurogenesis', 'promoting proliferation', 'relates', 'relates composition', 'stem', 'stem cell', 'system', 'system disease', 'treating', 'treating nervous', 'zinc', 'zinc acetyl']\n"
     ]
    },
    {
     "name": "stderr",
     "output_type": "stream",
     "text": [
      "C:\\Users\\HP\\anaconda3\\envs\\Pytorchgpu\\lib\\site-packages\\sklearn\\utils\\deprecation.py:87: FutureWarning: Function get_feature_names is deprecated; get_feature_names is deprecated in 1.0 and will be removed in 1.2. Please use get_feature_names_out instead.\n",
      "  warnings.warn(msg, category=FutureWarning)\n",
      "C:\\Users\\HP\\anaconda3\\envs\\Pytorchgpu\\lib\\site-packages\\sklearn\\utils\\deprecation.py:87: FutureWarning: Function get_feature_names is deprecated; get_feature_names is deprecated in 1.0 and will be removed in 1.2. Please use get_feature_names_out instead.\n",
      "  warnings.warn(msg, category=FutureWarning)\n",
      "C:\\Users\\HP\\anaconda3\\envs\\Pytorchgpu\\lib\\site-packages\\sklearn\\utils\\deprecation.py:87: FutureWarning: Function get_feature_names is deprecated; get_feature_names is deprecated in 1.0 and will be removed in 1.2. Please use get_feature_names_out instead.\n",
      "  warnings.warn(msg, category=FutureWarning)\n"
     ]
    },
    {
     "name": "stdout",
     "output_type": "stream",
     "text": [
      "['access', 'access process', 'access reading', 'according', 'according embodiment', 'according reading', 'allocated', 'allocated recommended', 'answer', 'answer reading', 'answer recommended', 'answer transmission', 'asking', 'asking purpose', 'book', 'book allocated', 'book classification', 'book display', 'book recommended', 'book transmission', 'classification', 'classification book', 'classification grasping', 'classification reader', 'comprises', 'comprises login', 'display', 'display process', 'display recommended', 'embodiment', 'embodiment present', 'grasp', 'grasp recommended', 'grasping', 'grasping process', 'grasping question', 'invention', 'invention omnidirectional', 'life', 'life reader', 'log', 'log access', 'login', 'login access', 'method', 'method comprises', 'method providing', 'omnidirectional', 'omnidirectional reading', 'present', 'present invention', 'process', 'process reader', 'process reading', 'providing', 'providing server', 'purpose', 'purpose life', 'question', 'question asking', 'question reader', 'question transmission', 'read', 'read according', 'reader', 'reader log', 'reader read', 'reader reader', 'reader terminal', 'reader transmits', 'reading', 'reading method', 'reading tendency', 'reading treatment', 'receives', 'receives reading', 'recommended', 'recommended book', 'server', 'server grasp', 'server reading', 'server recommended', 'server transmits', 'tendency', 'tendency answer', 'tendency grasping', 'terminal', 'terminal display', 'terminal reading', 'terminal receives', 'terminal recommended', 'terminal used', 'transmission', 'transmission process', 'transmits', 'transmits book', 'transmits reading', 'treatment', 'treatment method', 'used', 'used reader']\n",
      "['10', '10 form', '10 formed', '10 forward', '12', '12 flow', '12 formed', '12 terminal', '18', '18 body', '18 formed', '18 restricting', '20', '20 accurately', '20 cylindrical', '20 move', '22', '22 corresponding', '22 provided', '22 terminal', '24', '24 terminal', '28', '28 28', '28 body', '28 formed', '28 rear', '30', '30 provided', '32', '32 installed', '34', '34 front', '34 installed', '34 shrink', '36', '36 according', '36 installed', '38', '38 second', 'according', 'according high', 'according present', 'accurately', 'accurately installed', 'backward', 'backward locking', 'body', 'body portion', 'cable', 'cable 38', 'center', 'center terminal', 'connector', 'connector according', 'connector coupling', 'connector high', 'corresponding', 'corresponding portion', 'coupling', 'coupling portion', 'cylindrical', 'cylindrical first', 'degree', 'degree terminal', 'direction', 'direction housing', 'end', 'end 18', 'end cable', 'end direction', 'exterior', 'exterior frame', 'face', 'face thereof', 'first', 'first seal', 'first second', 'flange', 'flange 28', 'flow', 'flow waterproof', 'form', 'form exterior', 'formed', 'formed locking', 'formed outer', 'formed penetrate', 'formed terminal', 'forward', 'forward backward', 'frame', 'frame terminal', 'front', 'front end', 'high', 'high voltage', 'holder', 'holder 30', 'hole', 'hole 18', 'housing', 'housing 10', 'improved', 'inside', 'inside housing', 'installed', 'installed center', 'installed first', 'installed shrink', 'installed surround', 'interval', 'interval first', 'invention', 'invention housing', 'invention relates', 'locking', 'locking end', 'move', 'move front', 'outer', 'outer face', 'penetrate', 'penetrate inside', 'performance', 'performance improved', 'placement', 'placement space', 'portion', 'portion 22', 'portion 24', 'portion second', 'predetermined', 'predetermined interval', 'present', 'present invention', 'provided', 'provided second', 'rear', 'rear holder', 'relates', 'relates high', 'restricting', 'restricting degree', 'seal', 'seal 32', 'seal 34', 'second', 'second flange', 'second seal', 'section', 'section body', 'shrink', 'shrink tube', 'space', 'space 12', 'surround', 'surround section', 'terminal', 'terminal 20', 'terminal hole', 'terminal placement', 'thereof', 'thereof predetermined', 'tube', 'tube 36', 'voltage', 'voltage connector', 'waterproof', 'waterproof performance']\n"
     ]
    },
    {
     "name": "stderr",
     "output_type": "stream",
     "text": [
      "C:\\Users\\HP\\anaconda3\\envs\\Pytorchgpu\\lib\\site-packages\\sklearn\\utils\\deprecation.py:87: FutureWarning: Function get_feature_names is deprecated; get_feature_names is deprecated in 1.0 and will be removed in 1.2. Please use get_feature_names_out instead.\n",
      "  warnings.warn(msg, category=FutureWarning)\n",
      "C:\\Users\\HP\\anaconda3\\envs\\Pytorchgpu\\lib\\site-packages\\sklearn\\utils\\deprecation.py:87: FutureWarning: Function get_feature_names is deprecated; get_feature_names is deprecated in 1.0 and will be removed in 1.2. Please use get_feature_names_out instead.\n",
      "  warnings.warn(msg, category=FutureWarning)\n",
      "C:\\Users\\HP\\anaconda3\\envs\\Pytorchgpu\\lib\\site-packages\\sklearn\\utils\\deprecation.py:87: FutureWarning: Function get_feature_names is deprecated; get_feature_names is deprecated in 1.0 and will be removed in 1.2. Please use get_feature_names_out instead.\n",
      "  warnings.warn(msg, category=FutureWarning)\n"
     ]
    },
    {
     "name": "stdout",
     "output_type": "stream",
     "text": [
      "['apparatus', 'apparatus including', 'arrayed', 'arrayed first', 'based', 'based moire', 'caused', 'caused overlap', 'configured', 'configured detect', 'configured obtain', 'detect', 'detect moire', 'detection', 'detection apparatus', 'detection unit', 'diffraction', 'diffraction grating', 'direction', 'direction processing', 'direction second', 'direction smaller', 'end', 'end pattern', 'first', 'first diffraction', 'first direction', 'grating', 'grating based', 'grating first', 'grating including', 'grating second', 'included', 'included least', 'including', 'including detection', 'including pattern', 'invention', 'invention provides', 'least', 'least one', 'moire', 'moire caused', 'moire wherein', 'obtain', 'obtain relative', 'one', 'one diffraction', 'one first', 'overlap', 'overlap first', 'pattern', 'pattern arrayed', 'pattern included', 'pattern least', 'pattern pattern', 'position', 'position detection', 'position first', 'present', 'present invention', 'processing', 'processing unit', 'provides', 'provides position', 'relative', 'relative position', 'remaining', 'remaining pattern', 'second', 'second diffraction', 'smaller', 'smaller width', 'unit', 'unit configured', 'wherein', 'wherein width', 'width', 'width end', 'width remaining']\n",
      "['adhering', 'adhering front', 'apparatus', 'apparatus performs', 'brought', 'brought contact', 'card', 'card peeling', 'card probe', 'card stage', 'characteristic', 'characteristic inspection', 'cleaning', 'cleaning method', 'contact', 'contact device', 'continuously', 'continuously introducing', 'depressurized', 'depressurized peeling', 'depressurizing', 'depressurizing space', 'device', 'device test', 'discharge', 'discharge foreign', 'discharging', 'discharging process', 'electrical', 'electrical characteristic', 'exhausting', 'exhausting depressurizing', 'exhausting space', 'facing', 'facing probe', 'foreign', 'foreign substance', 'formed', 'formed inspection', 'front', 'front surface', 'gas', 'gas space', 'includes', 'includes transferring', 'inspection', 'inspection apparatus', 'inspection device', 'inspection object', 'inspection subsequently', 'introducing', 'introducing gas', 'method', 'method inspection', 'mounted', 'mounted position', 'object', 'object includes', 'object mounted', 'peeling', 'peeling foreign', 'peeling preparation', 'peeling process', 'performs', 'performs electrical', 'position', 'position facing', 'preparation', 'preparation process', 'probe', 'probe brought', 'probe card', 'probe foreign', 'probe probe', 'process', 'process exhausting', 'process introducing', 'process stage', 'space', 'space depressurized', 'space discharge', 'space foreign', 'space probe', 'stage', 'stage facing', 'stage inspection', 'stage probe', 'subsequently', 'subsequently exhausting', 'substance', 'substance adhering', 'substance continuously', 'substance discharging', 'substance peeling', 'surface', 'surface stage', 'test', 'test electrical', 'test formed', 'transfer', 'transfer process', 'transferring', 'transferring transfer']\n"
     ]
    },
    {
     "name": "stderr",
     "output_type": "stream",
     "text": [
      "C:\\Users\\HP\\anaconda3\\envs\\Pytorchgpu\\lib\\site-packages\\sklearn\\utils\\deprecation.py:87: FutureWarning: Function get_feature_names is deprecated; get_feature_names is deprecated in 1.0 and will be removed in 1.2. Please use get_feature_names_out instead.\n",
      "  warnings.warn(msg, category=FutureWarning)\n",
      "C:\\Users\\HP\\anaconda3\\envs\\Pytorchgpu\\lib\\site-packages\\sklearn\\utils\\deprecation.py:87: FutureWarning: Function get_feature_names is deprecated; get_feature_names is deprecated in 1.0 and will be removed in 1.2. Please use get_feature_names_out instead.\n",
      "  warnings.warn(msg, category=FutureWarning)\n",
      "C:\\Users\\HP\\anaconda3\\envs\\Pytorchgpu\\lib\\site-packages\\sklearn\\utils\\deprecation.py:87: FutureWarning: Function get_feature_names is deprecated; get_feature_names is deprecated in 1.0 and will be removed in 1.2. Please use get_feature_names_out instead.\n",
      "  warnings.warn(msg, category=FutureWarning)\n",
      "C:\\Users\\HP\\anaconda3\\envs\\Pytorchgpu\\lib\\site-packages\\sklearn\\utils\\deprecation.py:87: FutureWarning: Function get_feature_names is deprecated; get_feature_names is deprecated in 1.0 and will be removed in 1.2. Please use get_feature_names_out instead.\n",
      "  warnings.warn(msg, category=FutureWarning)\n",
      "C:\\Users\\HP\\anaconda3\\envs\\Pytorchgpu\\lib\\site-packages\\sklearn\\utils\\deprecation.py:87: FutureWarning: Function get_feature_names is deprecated; get_feature_names is deprecated in 1.0 and will be removed in 1.2. Please use get_feature_names_out instead.\n",
      "  warnings.warn(msg, category=FutureWarning)\n",
      "C:\\Users\\HP\\anaconda3\\envs\\Pytorchgpu\\lib\\site-packages\\sklearn\\utils\\deprecation.py:87: FutureWarning: Function get_feature_names is deprecated; get_feature_names is deprecated in 1.0 and will be removed in 1.2. Please use get_feature_names_out instead.\n",
      "  warnings.warn(msg, category=FutureWarning)\n"
     ]
    },
    {
     "name": "stdout",
     "output_type": "stream",
     "text": [
      "['according', 'according selected', 'aerosol', 'aerosol generating', 'among', 'among plurality', 'associated', 'associated heater', 'characteristic', 'characteristic associated', 'control', 'control power', 'controller', 'controller control', 'controller may', 'device', 'device including', 'electrical', 'electrical characteristic', 'generating', 'generating device', 'generating material', 'heat', 'heat aerosol', 'heater', 'heater according', 'heater control', 'heater controller', 'heater heat', 'heater initiated', 'heater reach', 'heater select', 'heater temperature', 'heater using', 'including', 'including heater', 'including value', 'initiated', 'initiated regardless', 'least', 'least one', 'material', 'material controller', 'may', 'may measure', 'measure', 'measure resistance', 'one', 'one electrical', 'one power', 'plurality', 'plurality pre', 'point', 'point power', 'power', 'power profile', 'power supplied', 'power supply', 'pre', 'pre stored', 'predetermined', 'predetermined time', 'profile', 'profile among', 'profile including', 'provided', 'provided aerosol', 'reach', 'reach target', 'regardless', 'regardless variation', 'resistance', 'resistance value', 'select', 'select one', 'selected', 'selected power', 'stored', 'stored power', 'supplied', 'supplied heater', 'supply', 'supply heater', 'target', 'target temperature', 'temperature', 'temperature heater', 'temperature within', 'time', 'time point', 'time time', 'using', 'using least', 'value', 'value heater', 'value power', 'variation', 'variation resistance', 'within', 'within predetermined']\n",
      "['actuator', 'actuator annular', 'actuator includes', 'annular', 'annular groove', 'annular seal', 'casing', 'casing driven', 'casing first', 'casing form', 'chamber', 'chamber together', 'drive', 'drive fluid', 'driven', 'driven drive', 'first', 'first annular', 'first fitting', 'fitted', 'fitted first', 'fitted second', 'fitting', 'fitting portion', 'fluid', 'fluid outside', 'form', 'form pressure', 'formed', 'formed inner', 'formed outer', 'groove', 'groove formed', 'groove seal', 'groove second', 'includes', 'includes casing', 'inner', 'inner peripheral', 'member', 'member first', 'outer', 'outer peripheral', 'outside', 'outside actuator', 'peripheral', 'peripheral portion', 'piston', 'piston second', 'portion', 'portion fitted', 'portion thereof', 'pressure', 'pressure chamber', 'provided', 'provided casing', 'seal', 'seal member', 'seal pressure', 'second', 'second annular', 'second fitting', 'thereof', 'thereof piston', 'thereof provided', 'together', 'together casing']\n"
     ]
    },
    {
     "name": "stderr",
     "output_type": "stream",
     "text": [
      "C:\\Users\\HP\\anaconda3\\envs\\Pytorchgpu\\lib\\site-packages\\sklearn\\utils\\deprecation.py:87: FutureWarning: Function get_feature_names is deprecated; get_feature_names is deprecated in 1.0 and will be removed in 1.2. Please use get_feature_names_out instead.\n",
      "  warnings.warn(msg, category=FutureWarning)\n",
      "C:\\Users\\HP\\anaconda3\\envs\\Pytorchgpu\\lib\\site-packages\\sklearn\\utils\\deprecation.py:87: FutureWarning: Function get_feature_names is deprecated; get_feature_names is deprecated in 1.0 and will be removed in 1.2. Please use get_feature_names_out instead.\n",
      "  warnings.warn(msg, category=FutureWarning)\n",
      "C:\\Users\\HP\\anaconda3\\envs\\Pytorchgpu\\lib\\site-packages\\sklearn\\utils\\deprecation.py:87: FutureWarning: Function get_feature_names is deprecated; get_feature_names is deprecated in 1.0 and will be removed in 1.2. Please use get_feature_names_out instead.\n",
      "  warnings.warn(msg, category=FutureWarning)\n"
     ]
    },
    {
     "name": "stdout",
     "output_type": "stream",
     "text": [
      "['accommodating', 'accommodating folding', 'addition', 'addition mean', 'application', 'application provides', 'approximately', 'approximately equal', 'arm', 'arm connecting', 'arm relative', 'arm rotatably', 'around', 'around different', 'assembly', 'assembly relative', 'assembly support', 'assembly swing', 'ax', 'ax rotatably', 'bending', 'bending effect', 'connected', 'connected main', 'connecting', 'connecting rod', 'different', 'different ax', 'driven', 'driven rotate', 'effect', 'effect flexible', 'effect mobile', 'enclosed', 'enclosed main', 'equal', 'equal thickness', 'flexible', 'flexible screen', 'folded', 'folded approximately', 'folded space', 'folding', 'folding mechanism', 'folding part', 'form', 'form flexible', 'generated', 'generated swing', 'housing', 'housing stacked', 'improving', 'improving bending', 'improving effect', 'main', 'main shaft', 'mean', 'mean rotation', 'mean swing', 'mechanism', 'mechanism folded', 'mechanism mobile', 'mobile', 'mobile terminal', 'part', 'part flexible', 'plate', 'plate driven', 'plate used', 'present', 'present application', 'provides', 'provides rotary', 'relative', 'relative rotary', 'relative rotation', 'rod', 'rod form', 'rod rotate', 'rod sliding', 'rod support', 'rod swing', 'rotary', 'rotary shaft', 'rotatably', 'rotatably connected', 'rotate', 'rotate around', 'rotate mean', 'rotation', 'rotation connecting', 'rotation sliding', 'rotation swing', 'screen', 'screen addition', 'screen folded', 'screen improving', 'shaft', 'shaft assembly', 'shaft mechanism', 'shaft thickness', 'sliding', 'sliding generated', 'sliding rotation', 'space', 'space enclosed', 'stacked', 'stacked together', 'support', 'support plate', 'swing', 'swing arm', 'terminal', 'terminal connecting', 'terminal folded', 'thereby', 'thereby improving', 'thickness', 'thickness folding', 'thickness two', 'together', 'together thereby', 'two', 'two housing', 'used', 'used accommodating']\n",
      "['area', 'area ctu', 'area different', 'area whether', 'available', 'available iii', 'available retrieving', 'based', 'based decoding', 'block', 'block available', 'block collocated', 'block current', 'block located', 'block memory', 'block reference', 'coding', 'coding tree', 'collocated', 'collocated second', 'ctu', 'ctu ctu', 'ctu current', 'ctu ii', 'ctu method', 'current', 'current block', 'decode', 'decode current', 'decoding', 'decoding status', 'determining', 'determining based', 'determining first', 'determining whether', 'different', 'different coding', 'different ctu', 'first', 'first area', 'ii', 'ii determining', 'iii', 'iii memory', 'includes', 'includes determining', 'located', 'located different', 'location', 'location memory', 'location one', 'location reference', 'memory', 'memory location', 'memory reference', 'memory size', 'method', 'method includes', 'one', 'one sample', 'reference', 'reference block', 'reference sample', 'retrieving', 'retrieving memory', 'sample', 'sample decode', 'sample memory', 'second', 'second area', 'size', 'size ctu', 'size method', 'status', 'status first', 'tree', 'tree unit', 'unit', 'unit ctu', 'whether', 'whether ctu', 'whether memory', 'whether reference']\n"
     ]
    },
    {
     "name": "stderr",
     "output_type": "stream",
     "text": [
      "C:\\Users\\HP\\anaconda3\\envs\\Pytorchgpu\\lib\\site-packages\\sklearn\\utils\\deprecation.py:87: FutureWarning: Function get_feature_names is deprecated; get_feature_names is deprecated in 1.0 and will be removed in 1.2. Please use get_feature_names_out instead.\n",
      "  warnings.warn(msg, category=FutureWarning)\n",
      "C:\\Users\\HP\\anaconda3\\envs\\Pytorchgpu\\lib\\site-packages\\sklearn\\utils\\deprecation.py:87: FutureWarning: Function get_feature_names is deprecated; get_feature_names is deprecated in 1.0 and will be removed in 1.2. Please use get_feature_names_out instead.\n",
      "  warnings.warn(msg, category=FutureWarning)\n",
      "C:\\Users\\HP\\anaconda3\\envs\\Pytorchgpu\\lib\\site-packages\\sklearn\\utils\\deprecation.py:87: FutureWarning: Function get_feature_names is deprecated; get_feature_names is deprecated in 1.0 and will be removed in 1.2. Please use get_feature_names_out instead.\n",
      "  warnings.warn(msg, category=FutureWarning)\n"
     ]
    },
    {
     "name": "stdout",
     "output_type": "stream",
     "text": [
      "['access', 'access channel', 'access message', 'access procedure', 'access transmission', 'aspect', 'aspect ue', 'channel', 'channel portion', 'communication', 'communication ue', 'delay', 'delay may', 'determine', 'determine whether', 'downlink', 'downlink communication', 'either', 'either first', 'enabling', 'enabling flexible', 'equipment', 'equipment ue', 'first', 'first type', 'flexible', 'flexible utilization', 'includes', 'includes transmitting', 'lesser', 'lesser snr', 'may', 'may determine', 'may lesser', 'may occupied', 'may perform', 'may result', 'may transmit', 'message', 'message second', 'multiple', 'multiple type', 'network', 'network uplink', 'occupied', 'occupied portion', 'perform', 'perform random', 'portion', 'portion either', 'portion slot', 'preamble', 'preamble random', 'preamble second', 'procedure', 'procedure synchronize', 'random', 'random access', 'reduced', 'reduced delay', 'result', 'result reduced', 'second', 'second type', 'slot', 'slot may', 'slot random', 'snr', 'snr tolerance', 'synchronize', 'synchronize network', 'thereby', 'thereby enabling', 'tolerance', 'tolerance first', 'transmission', 'transmission includes', 'transmission second', 'transmission thereby', 'transmit', 'transmit first', 'transmitting', 'transmitting preamble', 'type', 'type aspect', 'type may', 'type random', 'type second', 'ue', 'ue may', 'uplink', 'uplink downlink', 'user', 'user equipment', 'utilization', 'utilization multiple', 'whether', 'whether transmit']\n",
      "['accepting', 'accepting regular', 'according', 'according inquired', 'according present', 'button', 'button accepting', 'button one', 'comprises', 'comprises step', 'corresponding', 'corresponding customer', 'customer', 'customer perform', 'customer regular', 'customer terminal', 'delivery', 'delivery button', 'delivery order', 'delivery request', 'delivery service', 'displaying', 'displaying regular', 'including', 'including one', 'information', 'information corresponding', 'information inquiring', 'inputting', 'inputting regular', 'inquired', 'inquired regular', 'inquiring', 'inquiring pre', 'invention', 'invention method', 'method', 'method providing', 'one', 'one touch', 'order', 'order information', 'page', 'page including', 'perform', 'perform regular', 'pre', 'pre stored', 'present', 'present invention', 'product', 'product according', 'product received', 'product without', 'providing', 'providing regular', 'received', 'received customer', 'regular', 'regular delivery', 'request', 'request page', 'request product', 'service', 'service comprises', 'service customer', 'service request', 'service service', 'step', 'step displaying', 'stored', 'stored regular', 'terminal', 'terminal one', 'touch', 'touch regular', 'without', 'without inputting']\n"
     ]
    },
    {
     "name": "stderr",
     "output_type": "stream",
     "text": [
      "C:\\Users\\HP\\anaconda3\\envs\\Pytorchgpu\\lib\\site-packages\\sklearn\\utils\\deprecation.py:87: FutureWarning: Function get_feature_names is deprecated; get_feature_names is deprecated in 1.0 and will be removed in 1.2. Please use get_feature_names_out instead.\n",
      "  warnings.warn(msg, category=FutureWarning)\n",
      "C:\\Users\\HP\\anaconda3\\envs\\Pytorchgpu\\lib\\site-packages\\sklearn\\utils\\deprecation.py:87: FutureWarning: Function get_feature_names is deprecated; get_feature_names is deprecated in 1.0 and will be removed in 1.2. Please use get_feature_names_out instead.\n",
      "  warnings.warn(msg, category=FutureWarning)\n",
      "C:\\Users\\HP\\anaconda3\\envs\\Pytorchgpu\\lib\\site-packages\\sklearn\\utils\\deprecation.py:87: FutureWarning: Function get_feature_names is deprecated; get_feature_names is deprecated in 1.0 and will be removed in 1.2. Please use get_feature_names_out instead.\n",
      "  warnings.warn(msg, category=FutureWarning)\n",
      "C:\\Users\\HP\\anaconda3\\envs\\Pytorchgpu\\lib\\site-packages\\sklearn\\utils\\deprecation.py:87: FutureWarning: Function get_feature_names is deprecated; get_feature_names is deprecated in 1.0 and will be removed in 1.2. Please use get_feature_names_out instead.\n",
      "  warnings.warn(msg, category=FutureWarning)\n"
     ]
    },
    {
     "name": "stdout",
     "output_type": "stream",
     "text": [
      "['adjusted', 'adjusted rinsing', 'adjusting', 'adjusting ph', 'adjustment', 'adjustment step', 'atmosphere', 'atmosphere surrounding', 'exposed', 'exposed inert', 'feeding', 'feeding inert', 'feeding ph', 'feeding step', 'form', 'form inert', 'form passive', 'gas', 'gas adjustment', 'gas substitution', 'gas vicinity', 'holding', 'holding step', 'holding substrate', 'including', 'including substrate', 'inert', 'inert gas', 'inert state', 'liquid', 'liquid feeding', 'liquid form', 'liquid metal', 'liquid surface', 'metal', 'metal exposed', 'metal react', 'metal reacts', 'method', 'method including', 'passive', 'passive state', 'ph', 'ph adjusted', 'ph rinsing', 'processing', 'processing method', 'react', 'react rinsing', 'reacts', 'reacts rinsing', 'rinsing', 'rinsing liquid', 'state', 'state metal', 'state rinsing', 'step', 'step adjusting', 'step feeding', 'step holding', 'substituted', 'substituted inert', 'substituting', 'substituting atmosphere', 'substitution', 'substitution step', 'substrate', 'substrate atmosphere', 'substrate holding', 'substrate inert', 'substrate processing', 'substrate substituted', 'substrate surface', 'substrate thereby', 'surface', 'surface metal', 'surface substrate', 'surrounding', 'surrounding surface', 'thereby', 'thereby substituting', 'vicinity', 'vicinity surface']\n",
      "['adsorbent', 'adsorbent allows', 'adsorbent bed', 'adsorption', 'adsorption cyclical', 'allows', 'allows adsorbent', 'argon', 'argon adsorbent', 'argon feed', 'argon liquid', 'argon product', 'argon thereby', 'argon using', 'bed', 'bed liquid', 'bed regeneration', 'bed sustain', 'bed warm', 'contaminant', 'contaminant initial', 'contaminated', 'contaminated oxygen', 'cooling', 'cooling adsorbent', 'cyclical', 'cyclical process', 'draining', 'draining purified', 'either', 'either vacuum', 'evacuation', 'evacuation adsorbent', 'feed', 'feed contaminated', 'feed draining', 'includes', 'includes cooling', 'initial', 'initial liquid', 'invention', 'invention relates', 'le', 'le oxygen', 'liquid', 'liquid argon', 'liquid phase', 'oxygen', 'oxygen contaminant', 'oxygen liquid', 'oxygen purifying', 'phase', 'phase supplying', 'preclude', 'preclude use', 'prepared', 'prepared adsorbent', 'process', 'process includes', 'process removing', 'producing', 'producing argon', 'product', 'product le', 'product sending', 'purified', 'purified argon', 'purified residual', 'purifying', 'purifying liquid', 'regeneration', 'regeneration specially', 'relates', 'relates process', 'removing', 'removing oxygen', 'requiring', 'requiring either', 'residual', 'residual liquid', 'sending', 'sending purified', 'specially', 'specially prepared', 'supplying', 'supplying adsorbent', 'sustain', 'sustain argon', 'swing', 'swing adsorption', 'temperature', 'temperature preclude', 'temperature swing', 'thereby', 'thereby producing', 'tsa', 'tsa temperature', 'use', 'use requiring', 'using', 'using tsa', 'vacuum', 'vacuum evacuation', 'warm', 'warm temperature']\n"
     ]
    },
    {
     "name": "stderr",
     "output_type": "stream",
     "text": [
      "C:\\Users\\HP\\anaconda3\\envs\\Pytorchgpu\\lib\\site-packages\\sklearn\\utils\\deprecation.py:87: FutureWarning: Function get_feature_names is deprecated; get_feature_names is deprecated in 1.0 and will be removed in 1.2. Please use get_feature_names_out instead.\n",
      "  warnings.warn(msg, category=FutureWarning)\n",
      "C:\\Users\\HP\\anaconda3\\envs\\Pytorchgpu\\lib\\site-packages\\sklearn\\utils\\deprecation.py:87: FutureWarning: Function get_feature_names is deprecated; get_feature_names is deprecated in 1.0 and will be removed in 1.2. Please use get_feature_names_out instead.\n",
      "  warnings.warn(msg, category=FutureWarning)\n",
      "C:\\Users\\HP\\anaconda3\\envs\\Pytorchgpu\\lib\\site-packages\\sklearn\\utils\\deprecation.py:87: FutureWarning: Function get_feature_names is deprecated; get_feature_names is deprecated in 1.0 and will be removed in 1.2. Please use get_feature_names_out instead.\n",
      "  warnings.warn(msg, category=FutureWarning)\n",
      "C:\\Users\\HP\\anaconda3\\envs\\Pytorchgpu\\lib\\site-packages\\sklearn\\utils\\deprecation.py:87: FutureWarning: Function get_feature_names is deprecated; get_feature_names is deprecated in 1.0 and will be removed in 1.2. Please use get_feature_names_out instead.\n",
      "  warnings.warn(msg, category=FutureWarning)\n",
      "C:\\Users\\HP\\anaconda3\\envs\\Pytorchgpu\\lib\\site-packages\\sklearn\\utils\\deprecation.py:87: FutureWarning: Function get_feature_names is deprecated; get_feature_names is deprecated in 1.0 and will be removed in 1.2. Please use get_feature_names_out instead.\n",
      "  warnings.warn(msg, category=FutureWarning)\n",
      "C:\\Users\\HP\\anaconda3\\envs\\Pytorchgpu\\lib\\site-packages\\sklearn\\utils\\deprecation.py:87: FutureWarning: Function get_feature_names is deprecated; get_feature_names is deprecated in 1.0 and will be removed in 1.2. Please use get_feature_names_out instead.\n",
      "  warnings.warn(msg, category=FutureWarning)\n"
     ]
    },
    {
     "name": "stdout",
     "output_type": "stream",
     "text": [
      "['accommodation', 'accommodation administrator', 'accommodation includes', 'accommodation request', 'accommodation server', 'accommodation set', 'according', 'according embodiment', 'accordingly', 'accordingly present', 'administrator', 'administrator content', 'administrator terminal', 'advertisement', 'advertisement information', 'affiliation', 'affiliation broadcasting', 'box', 'box accommodation', 'box installed', 'box output', 'broadcasting', 'broadcasting content', 'content', 'content accommodation', 'content content', 'content display', 'content including', 'content received', 'content user', 'content using', 'corresponding', 'corresponding user', 'customized', 'customized content', 'device', 'device installed', 'device room', 'display', 'display customized', 'display device', 'embodiment', 'embodiment present', 'event', 'event advertisement', 'includes', 'includes set', 'including', 'including event', 'information', 'information content', 'information surrounding', 'installed', 'installed accordingly', 'installed one', 'installed user', 'invention', 'invention display', 'invention provided', 'one', 'one accommodation', 'one administrator', 'one room', 'output', 'output content', 'present', 'present invention', 'provided', 'provided accommodation', 'provided system', 'providing', 'providing content', 'providing one', 'received', 'received administrator', 'received user', 'register', 'register display', 'request', 'request reservation', 'reservation', 'reservation accommodation', 'room', 'room one', 'server', 'server providing', 'set', 'set top', 'stay', 'stay one', 'surrounding', 'surrounding information', 'system', 'system providing', 'terminal', 'terminal affiliation', 'terminal corresponding', 'terminal provided', 'terminal user', 'top', 'top box', 'user', 'user content', 'user register', 'user stay', 'user terminal', 'using', 'using set']\n",
      "['active', 'active region', 'apart', 'apart forming', 'buried', 'buried substrate', 'channel', 'channel layer', 'covering', 'covering word', 'defining', 'defining active', 'device', 'device isolation', 'device method', 'direction', 'direction intersect', 'electrode', 'electrode channel', 'etching', 'etching portion', 'exposing', 'exposing substrate', 'extending', 'extending first', 'fabricating', 'fabricating semiconductor', 'first', 'first direction', 'first insulating', 'first mask', 'first region', 'form', 'form device', 'forming', 'forming channel', 'forming device', 'forming first', 'forming gate', 'forming word', 'gate', 'gate electrode', 'including', 'including etching', 'including first', 'inner', 'inner surface', 'insulating', 'insulating layer', 'intersect', 'intersect active', 'isolation', 'isolation layer', 'isolation trench', 'layer', 'layer covering', 'layer defining', 'layer exposing', 'layer inner', 'layer second', 'layer substrate', 'layer third', 'line', 'line buried', 'line extending', 'line spaced', 'line substrate', 'mask', 'mask layer', 'method', 'method fabricating', 'method including', 'portion', 'portion substrate', 'region', 'region first', 'region form', 'region forming', 'region second', 'region sequentially', 'region word', 'second', 'second insulating', 'second region', 'semiconductor', 'semiconductor device', 'sequentially', 'sequentially stacking', 'spaced', 'spaced apart', 'stacking', 'stacking first', 'substrate', 'substrate first', 'substrate including', 'substrate second', 'surface', 'surface device', 'third', 'third insulating', 'trench', 'trench forming', 'word', 'word line']\n"
     ]
    },
    {
     "name": "stderr",
     "output_type": "stream",
     "text": [
      "C:\\Users\\HP\\anaconda3\\envs\\Pytorchgpu\\lib\\site-packages\\sklearn\\utils\\deprecation.py:87: FutureWarning: Function get_feature_names is deprecated; get_feature_names is deprecated in 1.0 and will be removed in 1.2. Please use get_feature_names_out instead.\n",
      "  warnings.warn(msg, category=FutureWarning)\n",
      "C:\\Users\\HP\\anaconda3\\envs\\Pytorchgpu\\lib\\site-packages\\sklearn\\utils\\deprecation.py:87: FutureWarning: Function get_feature_names is deprecated; get_feature_names is deprecated in 1.0 and will be removed in 1.2. Please use get_feature_names_out instead.\n",
      "  warnings.warn(msg, category=FutureWarning)\n",
      "C:\\Users\\HP\\anaconda3\\envs\\Pytorchgpu\\lib\\site-packages\\sklearn\\utils\\deprecation.py:87: FutureWarning: Function get_feature_names is deprecated; get_feature_names is deprecated in 1.0 and will be removed in 1.2. Please use get_feature_names_out instead.\n",
      "  warnings.warn(msg, category=FutureWarning)\n"
     ]
    },
    {
     "name": "stdout",
     "output_type": "stream",
     "text": [
      "['achieved', 'achieved maintained', 'acquiring', 'acquiring targeted', 'acquisition', 'acquisition step', 'adjusted', 'adjusted target', 'advance', 'advance data', 'advance internal', 'also', 'also measuring', 'attached', 'attached exhaust', 'calculated', 'calculated conductance', 'calculating', 'calculating measured', 'calculation', 'calculation step', 'chamber', 'chamber adjusted', 'chamber selected', 'chamber vacuum', 'chamber via', 'closed', 'closed said', 'comprising', 'comprising measurement', 'conductance', 'conductance indicating', 'conductance substantially', 'control', 'control method', 'corresponds', 'corresponds set', 'data', 'data degree', 'data measured', 'data vacuum', 'degree', 'degree opening', 'discharge', 'discharge initiated', 'ease', 'ease gas', 'ensures', 'ensures stable', 'exhaust', 'exhaust port', 'flow', 'flow function', 'flow target', 'fully', 'fully opened', 'function', 'function degree', 'gas', 'gas discharge', 'gas flow', 'gas vacuum', 'gradually', 'gradually set', 'identified', 'identified range', 'identifying', 'identifying range', 'indicating', 'indicating ease', 'initiated', 'initiated vacuum', 'initiating', 'initiating supply', 'instead', 'instead vacuum', 'internal', 'internal pressure', 'maintained', 'measured', 'measured data', 'measured pressure', 'measurement', 'measurement step', 'measuring', 'measuring advance', 'method', 'method comprising', 'method vacuum', 'opened', 'opened acquiring', 'opened vacuum', 'opening', 'opening corresponds', 'opening ensures', 'opening instead', 'opening vacuum', 'port', 'port vacuum', 'pressure', 'pressure achieved', 'pressure data', 'pressure gas', 'pressure initiating', 'pressure vacuum', 'pump', 'pump attached', 'range', 'range degree', 'said', 'said vacuum', 'selected', 'selected time', 'set', 'set degree', 'set targeted', 'set threshold', 'stable', 'stable gas', 'step', 'step calculating', 'step identifying', 'step measuring', 'substantially', 'substantially vacuum', 'supply', 'supply gas', 'target', 'target pressure', 'targeted', 'targeted degree', 'threshold', 'threshold value', 'time', 'time also', 'time calculation', 'vacuum', 'vacuum chamber', 'vacuum pump', 'vacuum valve', 'value', 'value pressure', 'valve', 'valve acquisition', 'valve calculated', 'valve closed', 'valve conductance', 'valve control', 'valve fully', 'valve gradually', 'valve pressure', 'valve selected', 'valve set', 'valve within', 'via', 'via vacuum', 'within', 'within identified']\n",
      "['adhered', 'adhered external', 'adhered tape', 'assembly', 'assembly case', 'assembly electrode', 'assembly internal', 'battery', 'battery includes', 'case', 'case housing', 'case thermally', 'electrode', 'electrode assembly', 'external', 'external surface', 'housing', 'housing electrode', 'includes', 'includes tape', 'internal', 'internal surface', 'lithium', 'lithium battery', 'rechargeable', 'rechargeable lithium', 'surface', 'surface case', 'surface electrode', 'tape', 'tape adhered', 'tape electrode', 'thermally', 'thermally adhered']\n"
     ]
    },
    {
     "name": "stderr",
     "output_type": "stream",
     "text": [
      "C:\\Users\\HP\\anaconda3\\envs\\Pytorchgpu\\lib\\site-packages\\sklearn\\utils\\deprecation.py:87: FutureWarning: Function get_feature_names is deprecated; get_feature_names is deprecated in 1.0 and will be removed in 1.2. Please use get_feature_names_out instead.\n",
      "  warnings.warn(msg, category=FutureWarning)\n",
      "C:\\Users\\HP\\anaconda3\\envs\\Pytorchgpu\\lib\\site-packages\\sklearn\\utils\\deprecation.py:87: FutureWarning: Function get_feature_names is deprecated; get_feature_names is deprecated in 1.0 and will be removed in 1.2. Please use get_feature_names_out instead.\n",
      "  warnings.warn(msg, category=FutureWarning)\n",
      "C:\\Users\\HP\\anaconda3\\envs\\Pytorchgpu\\lib\\site-packages\\sklearn\\utils\\deprecation.py:87: FutureWarning: Function get_feature_names is deprecated; get_feature_names is deprecated in 1.0 and will be removed in 1.2. Please use get_feature_names_out instead.\n",
      "  warnings.warn(msg, category=FutureWarning)\n"
     ]
    },
    {
     "name": "stdout",
     "output_type": "stream",
     "text": [
      "['10', '10 formed', '10 frame', '10 outside', '10 substrate', '12', '12 fixing', '12 internal', '12 prevent', '14', '14 fluid', '14 formed', '14 housing', '16', '16 connect', '16 connects', '16 external', '16 sensing', '40', '40 internal', '40 prevents', '50', '50 block', '50 integrated', '50 prevents', '60', '60 sensing', '62', '62 desired', '62 mounted', '62 present', 'appearance', 'appearance pressure', 'block', 'block repulsive', 'body', 'body 12', 'caused', 'caused external', 'component', 'component pressure', 'connect', 'connect sensing', 'connects', 'connects internal', 'desired', 'desired space', 'element', 'element 62', 'external', 'external gasket', 'fixing', 'fixing unit', 'fluid', 'fluid path', 'formed', 'formed housing', 'formed inside', 'frame', 'frame housing', 'gasket', 'gasket 40', 'gasket 50', 'generated', 'generated outside', 'housing', 'housing 10', 'housing main', 'inside', 'inside housing', 'installed', 'installed internal', 'integrated', 'integrated external', 'integrated housing', 'internal', 'internal gasket', 'internal space', 'invention', 'invention minimizes', 'invention relates', 'leakage', 'leakage fluid', 'leakage generated', 'loss', 'loss external', 'main', 'main body', 'minimizes', 'minimizes number', 'mounted', 'mounted installed', 'number', 'number component', 'outer', 'outer appearance', 'outside', 'outside external', 'outside housing', 'path', 'path 16', 'power', 'power caused', 'present', 'present fluid', 'present invention', 'pressure', 'pressure leakage', 'pressure sensor', 'prevent', 'prevent pressure', 'prevents', 'prevents leakage', 'prevents loss', 'prevents pressure', 'relates', 'relates pressure', 'repulsive', 'repulsive power', 'sensing', 'sensing element', 'sensor', 'sensor formed', 'sensor installed', 'sensor outer', 'sensor prevents', 'space', 'space 14', 'space present', 'substrate', 'substrate 60', 'unit', 'unit pressure']\n",
      "['10', '10 cover', '10 hinge', '12', '12 body', '12 particular', '16', '16 cover', '20', '20 folded', '22', '22 according', '22 formed', '22 forming', '22 made', '22 region', '22 reinforcement', '22 reinforcing', '24', '24 formed', '24 thicker', '26', '26 center', '26 hinge', '28', '28 formed', '30', '30 formed', '30 surface', '32', '32 formed', 'according', 'according present', 'advantage', 'advantage durability', 'body', 'body 10', 'body 16', 'body 22', 'center', 'center portion', 'center thereof', 'connected', 'connected body', 'connects', 'connects cover', 'constant', 'constant plurality', 'cover', 'cover 12', 'cover body', 'cover mold', 'curve', 'curve reinforcing', 'curved', 'curved surface', 'durability', 'durability mold', 'end', 'end 24', 'end hinge', 'extremely', 'extremely increased', 'folded', 'folded penetration', 'folding', 'folding guide', 'formed', 'formed 32', 'formed curved', 'formed end', 'formed folding', 'formed heat', 'formed hinge', 'formed inner', 'formed reinforce', 'formed thinner', 'forming', 'forming skeleton', 'guide', 'guide rib', 'heat', 'heat folding', 'hinge', 'hinge 20', 'hinge body', 'hinge extremely', 'hinge mold', 'hinge present', 'hole', 'hole 30', 'increased', 'inner', 'inner surface', 'integrally', 'integrally connects', 'invention', 'invention integrally', 'invention relates', 'invention structure', 'made', 'made constant', 'made rubber', 'material', 'material formed', 'mold', 'mold hinge', 'particular', 'particular surface', 'penetration', 'penetration portion', 'plurality', 'plurality hole', 'portion', 'portion 28', 'portion connected', 'portion hinge', 'position', 'position mold', 'present', 'present invention', 'quadratic', 'quadratic curve', 'region', 'region hole', 'reinforce', 'reinforce hinge', 'reinforcement', 'reinforcement made', 'reinforcing', 'reinforcing end', 'relates', 'relates cover', 'rib', 'rib 26', 'rubber', 'rubber material', 'skeleton', 'skeleton formed', 'structure', 'structure advantage', 'surface', 'surface hinge', 'surface hole', 'surface quadratic', 'thereof', 'thereof position', 'thicker', 'thicker thickness', 'thickness', 'thickness portion', 'thickness toward', 'thinner', 'thinner thickness', 'toward', 'toward center']\n"
     ]
    },
    {
     "name": "stderr",
     "output_type": "stream",
     "text": [
      "C:\\Users\\HP\\anaconda3\\envs\\Pytorchgpu\\lib\\site-packages\\sklearn\\utils\\deprecation.py:87: FutureWarning: Function get_feature_names is deprecated; get_feature_names is deprecated in 1.0 and will be removed in 1.2. Please use get_feature_names_out instead.\n",
      "  warnings.warn(msg, category=FutureWarning)\n",
      "C:\\Users\\HP\\anaconda3\\envs\\Pytorchgpu\\lib\\site-packages\\sklearn\\utils\\deprecation.py:87: FutureWarning: Function get_feature_names is deprecated; get_feature_names is deprecated in 1.0 and will be removed in 1.2. Please use get_feature_names_out instead.\n",
      "  warnings.warn(msg, category=FutureWarning)\n",
      "C:\\Users\\HP\\anaconda3\\envs\\Pytorchgpu\\lib\\site-packages\\sklearn\\utils\\deprecation.py:87: FutureWarning: Function get_feature_names is deprecated; get_feature_names is deprecated in 1.0 and will be removed in 1.2. Please use get_feature_names_out instead.\n",
      "  warnings.warn(msg, category=FutureWarning)\n",
      "C:\\Users\\HP\\anaconda3\\envs\\Pytorchgpu\\lib\\site-packages\\sklearn\\utils\\deprecation.py:87: FutureWarning: Function get_feature_names is deprecated; get_feature_names is deprecated in 1.0 and will be removed in 1.2. Please use get_feature_names_out instead.\n",
      "  warnings.warn(msg, category=FutureWarning)\n",
      "C:\\Users\\HP\\anaconda3\\envs\\Pytorchgpu\\lib\\site-packages\\sklearn\\utils\\deprecation.py:87: FutureWarning: Function get_feature_names is deprecated; get_feature_names is deprecated in 1.0 and will be removed in 1.2. Please use get_feature_names_out instead.\n",
      "  warnings.warn(msg, category=FutureWarning)\n"
     ]
    },
    {
     "name": "stdout",
     "output_type": "stream",
     "text": [
      "['active', 'active substance', 'anti', 'anti corrosive', 'carried', 'carried component', 'coating', 'coating metal', 'component', 'component conversion', 'component reaction', 'component treated', 'containing', 'containing element', 'containing surface', 'conversion', 'conversion treatment', 'corrosive', 'corrosive coating', 'deposition', 'deposition thin', 'electrodeposition', 'electrodeposition carried', 'element', 'element zr', 'first', 'first deposition', 'includes', 'includes first', 'inorganic', 'inorganic layer', 'invention', 'invention multi', 'layer', 'layer containing', 'matter', 'matter present', 'metal', 'metal component', 'method', 'method anti', 'multi', 'multi step', 'present', 'present invention', 'reaction', 'reaction rinse', 'rinse', 'rinse containing', 'rinse used', 'step', 'step method', 'subject', 'subject matter', 'subjected', 'subjected electrodeposition', 'subsequently', 'subsequently subjected', 'substance', 'substance subsequently', 'surface', 'surface active', 'thin', 'thin inorganic', 'ti', 'ti metal', 'treated', 'treated reaction', 'treatment', 'treatment electrodeposition', 'treatment includes', 'used', 'used conversion', 'zr', 'zr ti']\n",
      "['100', '100 degree', '20', '20 degree', '20 percent', '80', '80 degree', 'article', 'article made', 'centigrade', 'centigrade relative', 'centigrade retains', 'certain', 'certain thermoplastic', 'chain', 'chain extender', 'component', 'component optional', 'component polyol', 'component resulting', 'crystallization', 'crystallization temperature', 'degree', 'degree centigrade', 'deposition', 'deposition modeling', 'derived', 'derived polyisocyanate', 'especially', 'especially fused', 'extender', 'extender component', 'fabrication', 'fabrication especially', 'freeform', 'freeform fabrication', 'fused', 'fused deposition', 'invention', 'invention relates', 'made', 'made using', 'method', 'method solid', 'method utilize', 'modeling', 'modeling well', 'modulus', 'modulus 100', 'modulus 20', 'optional', 'optional chain', 'particularly', 'particularly suited', 'percent', 'percent shear', 'polyisocyanate', 'polyisocyanate component', 'polyol', 'polyol component', 'polyurethane', 'polyurethane crystallization', 'polyurethane derived', 'polyurethane particularly', 'present', 'present invention', 'processing', 'processing useful', 'relates', 'relates system', 'relative', 'relative shear', 'resulting', 'resulting thermoplastic', 'retains', 'retains 20', 'shear', 'shear storage', 'solid', 'solid freeform', 'storage', 'storage modulus', 'suited', 'suited processing', 'system', 'system method', 'temperature', 'temperature 80', 'thermoplastic', 'thermoplastic polyurethane', 'useful', 'useful thermoplastic', 'using', 'using system', 'utilize', 'utilize certain', 'various', 'various article', 'well', 'well various']\n"
     ]
    },
    {
     "name": "stderr",
     "output_type": "stream",
     "text": [
      "C:\\Users\\HP\\anaconda3\\envs\\Pytorchgpu\\lib\\site-packages\\sklearn\\utils\\deprecation.py:87: FutureWarning: Function get_feature_names is deprecated; get_feature_names is deprecated in 1.0 and will be removed in 1.2. Please use get_feature_names_out instead.\n",
      "  warnings.warn(msg, category=FutureWarning)\n",
      "C:\\Users\\HP\\anaconda3\\envs\\Pytorchgpu\\lib\\site-packages\\sklearn\\utils\\deprecation.py:87: FutureWarning: Function get_feature_names is deprecated; get_feature_names is deprecated in 1.0 and will be removed in 1.2. Please use get_feature_names_out instead.\n",
      "  warnings.warn(msg, category=FutureWarning)\n",
      "C:\\Users\\HP\\anaconda3\\envs\\Pytorchgpu\\lib\\site-packages\\sklearn\\utils\\deprecation.py:87: FutureWarning: Function get_feature_names is deprecated; get_feature_names is deprecated in 1.0 and will be removed in 1.2. Please use get_feature_names_out instead.\n",
      "  warnings.warn(msg, category=FutureWarning)\n"
     ]
    },
    {
     "name": "stdout",
     "output_type": "stream",
     "text": [
      "['according', 'according kabat', 'anti', 'anti hapten', 'antibody', 'antibody whereby', 'antibody wherein', 'bond', 'bond formed', 'cdr2', 'cdr2 antibody', 'cdr2 determined', 'conjugate', 'conjugate haptenylated', 'conjugation', 'conjugation cysteine', 'cysteine', 'cysteine residue', 'determined', 'determined according', 'disulfide', 'disulfide bond', 'either', 'either lysine', 'formed', 'formed cysteine', 'hapten', 'hapten antibody', 'hapten conjugation', 'haptenylated', 'haptenylated polypeptide', 'herein', 'herein reported', 'kabat', 'lysine', 'lysine residue', 'polypeptide', 'polypeptide toxin', 'reported', 'reported conjugate', 'residue', 'residue cdr2', 'residue either', 'residue used', 'toxin', 'toxin anti', 'used', 'used hapten', 'whereby', 'whereby cdr2', 'wherein', 'wherein disulfide']\n",
      "['000', '000 represents', '20', '20 carbon', '999', 'atom', 'atom represents', 'carbon', 'carbon atom', 'group', 'group 20', 'hydrocarbon', 'hydrocarbon group', 'independently', 'independently represent', 'integer', 'integer 000', 'integer 999', 'monovalent', 'monovalent hydrocarbon', 'r4', 'r4 independently', 'represent', 'represent monovalent', 'represents', 'represents integer']\n",
      "['area', 'area terminal', 'bearer', 'bearer least', 'bm', 'bm sc', 'broadcast', 'broadcast multicast', 'candidate', 'candidate service', 'center', 'center bm', 'configuring', 'configuring radio', 'gateway', 'gateway mbms', 'gw', 'gw request', 'identifying', 'identifying least', 'includes', 'includes identifying', 'least', 'least one', 'mbms', 'mbms gateway', 'mbms gw', 'mbms terminal', 'method', 'method includes', 'method providing', 'multicast', 'multicast service', 'multimedia', 'multimedia broadcast', 'one', 'one candidate', 'pas', 'pas transmitting', 'predicted', 'predicted pas', 'provided', 'provided method', 'providing', 'providing multimedia', 'radio', 'radio bearer', 'related', 'related vehicle', 'request', 'request configuring', 'sc', 'sc provided', 'service', 'service area', 'service center', 'service mbms', 'terminal', 'terminal predicted', 'terminal related', 'transmitting', 'transmitting mbms', 'vehicle', 'vehicle broadcast']\n"
     ]
    },
    {
     "name": "stderr",
     "output_type": "stream",
     "text": [
      "C:\\Users\\HP\\anaconda3\\envs\\Pytorchgpu\\lib\\site-packages\\sklearn\\utils\\deprecation.py:87: FutureWarning: Function get_feature_names is deprecated; get_feature_names is deprecated in 1.0 and will be removed in 1.2. Please use get_feature_names_out instead.\n",
      "  warnings.warn(msg, category=FutureWarning)\n",
      "C:\\Users\\HP\\anaconda3\\envs\\Pytorchgpu\\lib\\site-packages\\sklearn\\utils\\deprecation.py:87: FutureWarning: Function get_feature_names is deprecated; get_feature_names is deprecated in 1.0 and will be removed in 1.2. Please use get_feature_names_out instead.\n",
      "  warnings.warn(msg, category=FutureWarning)\n",
      "C:\\Users\\HP\\anaconda3\\envs\\Pytorchgpu\\lib\\site-packages\\sklearn\\utils\\deprecation.py:87: FutureWarning: Function get_feature_names is deprecated; get_feature_names is deprecated in 1.0 and will be removed in 1.2. Please use get_feature_names_out instead.\n",
      "  warnings.warn(msg, category=FutureWarning)\n",
      "C:\\Users\\HP\\anaconda3\\envs\\Pytorchgpu\\lib\\site-packages\\sklearn\\utils\\deprecation.py:87: FutureWarning: Function get_feature_names is deprecated; get_feature_names is deprecated in 1.0 and will be removed in 1.2. Please use get_feature_names_out instead.\n",
      "  warnings.warn(msg, category=FutureWarning)\n",
      "C:\\Users\\HP\\anaconda3\\envs\\Pytorchgpu\\lib\\site-packages\\sklearn\\utils\\deprecation.py:87: FutureWarning: Function get_feature_names is deprecated; get_feature_names is deprecated in 1.0 and will be removed in 1.2. Please use get_feature_names_out instead.\n",
      "  warnings.warn(msg, category=FutureWarning)\n",
      "C:\\Users\\HP\\anaconda3\\envs\\Pytorchgpu\\lib\\site-packages\\sklearn\\utils\\deprecation.py:87: FutureWarning: Function get_feature_names is deprecated; get_feature_names is deprecated in 1.0 and will be removed in 1.2. Please use get_feature_names_out instead.\n",
      "  warnings.warn(msg, category=FutureWarning)\n",
      "C:\\Users\\HP\\anaconda3\\envs\\Pytorchgpu\\lib\\site-packages\\sklearn\\utils\\deprecation.py:87: FutureWarning: Function get_feature_names is deprecated; get_feature_names is deprecated in 1.0 and will be removed in 1.2. Please use get_feature_names_out instead.\n",
      "  warnings.warn(msg, category=FutureWarning)\n",
      "C:\\Users\\HP\\anaconda3\\envs\\Pytorchgpu\\lib\\site-packages\\sklearn\\utils\\deprecation.py:87: FutureWarning: Function get_feature_names is deprecated; get_feature_names is deprecated in 1.0 and will be removed in 1.2. Please use get_feature_names_out instead.\n",
      "  warnings.warn(msg, category=FutureWarning)\n"
     ]
    },
    {
     "name": "stdout",
     "output_type": "stream",
     "text": [
      "['acyl', 'acyl thioester', 'amide', 'amide culturing', 'amide disclosure', 'amine', 'amine acyl', 'carbon', 'carbon source', 'catalyzes', 'catalyzes conversion', 'conversion', 'conversion primary', 'culturing', 'culturing recombinant', 'disclosure', 'disclosure encompasses', 'disclosure relates', 'encompasses', 'encompasses method', 'engineered', 'engineered express', 'enzyme', 'enzyme catalyzes', 'express', 'express enzyme', 'fatty', 'fatty amide', 'method', 'method producing', 'microorganism', 'microorganism engineered', 'microorganism presence', 'presence', 'presence carbon', 'primary', 'primary amine', 'producing', 'producing fatty', 'recombinant', 'recombinant microorganism', 'relates', 'relates recombinant', 'source', 'thioester', 'thioester fatty']\n",
      "['according', 'according invention', 'arranged', 'arranged object', 'assigned', 'assigned pixel', 'beam', 'beam combiners', 'beam exit', 'beam splitter', 'characterized', 'characterized assigned', 'coded', 'coded preset', 'combine', 'combine light', 'combined', 'combined form', 'combiners', 'combiners modulation', 'common', 'common light', 'diffraction', 'diffraction output', 'dimensional', 'dimensional light', 'dimensionally', 'dimensionally arranged', 'direction', 'discrete', 'discrete value', 'element', 'element coded', 'element combine', 'element modulation', 'element set', 'exit', 'exit modulation', 'form', 'form common', 'form modulation', 'holographically', 'holographically reconstructed', 'invention', 'invention characterized', 'invention relates', 'light', 'light beam', 'light modulator', 'light wave', 'mean', 'mean refraction', 'modulated', 'modulated pixel', 'modulation', 'modulation element', 'modulator', 'modulator according', 'modulator beam', 'modulator pixel', 'object', 'object point', 'output', 'output side', 'part', 'part modulated', 'pixel', 'pixel combined', 'pixel mean', 'pixel modulator', 'point', 'point holographically', 'present', 'present invention', 'preset', 'preset discrete', 'propagation', 'propagation direction', 'reconstructed', 'reconstructed light', 'refraction', 'refraction diffraction', 'relates', 'relates three', 'set', 'set propagation', 'side', 'side form', 'splitter', 'splitter beam', 'three', 'three dimensional', 'three dimensionally', 'value', 'value three', 'wave', 'wave part']\n"
     ]
    },
    {
     "name": "stderr",
     "output_type": "stream",
     "text": [
      "C:\\Users\\HP\\anaconda3\\envs\\Pytorchgpu\\lib\\site-packages\\sklearn\\utils\\deprecation.py:87: FutureWarning: Function get_feature_names is deprecated; get_feature_names is deprecated in 1.0 and will be removed in 1.2. Please use get_feature_names_out instead.\n",
      "  warnings.warn(msg, category=FutureWarning)\n",
      "C:\\Users\\HP\\anaconda3\\envs\\Pytorchgpu\\lib\\site-packages\\sklearn\\utils\\deprecation.py:87: FutureWarning: Function get_feature_names is deprecated; get_feature_names is deprecated in 1.0 and will be removed in 1.2. Please use get_feature_names_out instead.\n",
      "  warnings.warn(msg, category=FutureWarning)\n",
      "C:\\Users\\HP\\anaconda3\\envs\\Pytorchgpu\\lib\\site-packages\\sklearn\\utils\\deprecation.py:87: FutureWarning: Function get_feature_names is deprecated; get_feature_names is deprecated in 1.0 and will be removed in 1.2. Please use get_feature_names_out instead.\n",
      "  warnings.warn(msg, category=FutureWarning)\n",
      "C:\\Users\\HP\\anaconda3\\envs\\Pytorchgpu\\lib\\site-packages\\sklearn\\utils\\deprecation.py:87: FutureWarning: Function get_feature_names is deprecated; get_feature_names is deprecated in 1.0 and will be removed in 1.2. Please use get_feature_names_out instead.\n",
      "  warnings.warn(msg, category=FutureWarning)\n"
     ]
    },
    {
     "name": "stdout",
     "output_type": "stream",
     "text": [
      "['acid', 'acid esterification', 'acid optionally', 'acid wherein', 'alkane', 'alkane sulphonic', 'also', 'also relates', 'atom', 'atom substituted', 'atom sulphuric', 'branched', 'branched hydrocarbon', 'carbon', 'carbon atom', 'catalyst', 'chain', 'chain comprising', 'composition', 'composition comprising', 'composition fatty', 'comprising', 'comprising carbon', 'comprising least', 'defined', 'defined description', 'description', 'description invention', 'esterification', 'esterification catalyst', 'fatty', 'fatty acid', 'halogen', 'halogen atom', 'hydrocarbon', 'hydrocarbon chain', 'invention', 'invention also', 'invention relates', 'least', 'least one', 'linear', 'linear branched', 'one', 'one alkane', 'one halogen', 'one solvent', 'optionally', 'optionally least', 'proportion', 'proportion defined', 'relates', 'relates composition', 'relates use', 'represents', 'represents saturated', 'saturated', 'saturated linear', 'solvent', 'solvent proportion', 'substituted', 'substituted least', 'sulphonic', 'sulphonic acid', 'sulphuric', 'sulphuric acid', 'use', 'use composition', 'wherein', 'wherein represents']\n",
      "['based', 'based measured', 'based relatively', 'based v2x', 'busy', 'busy ratio', 'cbr', 'cbr channel', 'cbr cr', 'channel', 'channel busy', 'channel occupancy', 'communication', 'communication measured', 'communication performance', 'communication performed', 'communication system', 'compared', 'compared legacy', 'cr', 'cr tti', 'cr wherein', 'interval', 'interval tti', 'invention', 'invention provides', 'legacy', 'legacy transmission', 'length', 'measured', 'measured cbr', 'measured tti', 'method', 'method performed', 'occupancy', 'occupancy ratio', 'performance', 'performance method', 'performed', 'performed based', 'performed vehicle', 'present', 'present invention', 'provides', 'provides v2x', 'ratio', 'ratio cbr', 'ratio cr', 'relatively', 'relatively short', 'short', 'short transmission', 'system', 'system based', 'terminal', 'terminal wireless', 'time', 'time interval', 'transmission', 'transmission time', 'tti', 'tti based', 'tti compared', 'tti variable', 'tti whereby', 'v2x', 'v2x communication', 'v2x terminal', 'variable', 'variable length', 'vehicle', 'vehicle v2x', 'whereby', 'whereby channel', 'wherein', 'wherein tti', 'wireless', 'wireless communication']\n"
     ]
    },
    {
     "name": "stderr",
     "output_type": "stream",
     "text": [
      "C:\\Users\\HP\\anaconda3\\envs\\Pytorchgpu\\lib\\site-packages\\sklearn\\utils\\deprecation.py:87: FutureWarning: Function get_feature_names is deprecated; get_feature_names is deprecated in 1.0 and will be removed in 1.2. Please use get_feature_names_out instead.\n",
      "  warnings.warn(msg, category=FutureWarning)\n",
      "C:\\Users\\HP\\anaconda3\\envs\\Pytorchgpu\\lib\\site-packages\\sklearn\\utils\\deprecation.py:87: FutureWarning: Function get_feature_names is deprecated; get_feature_names is deprecated in 1.0 and will be removed in 1.2. Please use get_feature_names_out instead.\n",
      "  warnings.warn(msg, category=FutureWarning)\n",
      "C:\\Users\\HP\\anaconda3\\envs\\Pytorchgpu\\lib\\site-packages\\sklearn\\utils\\deprecation.py:87: FutureWarning: Function get_feature_names is deprecated; get_feature_names is deprecated in 1.0 and will be removed in 1.2. Please use get_feature_names_out instead.\n",
      "  warnings.warn(msg, category=FutureWarning)\n",
      "C:\\Users\\HP\\anaconda3\\envs\\Pytorchgpu\\lib\\site-packages\\sklearn\\utils\\deprecation.py:87: FutureWarning: Function get_feature_names is deprecated; get_feature_names is deprecated in 1.0 and will be removed in 1.2. Please use get_feature_names_out instead.\n",
      "  warnings.warn(msg, category=FutureWarning)\n"
     ]
    },
    {
     "name": "stdout",
     "output_type": "stream",
     "text": [
      "['according', 'according aspect', 'applied', 'applied outside', 'aspect', 'aspect present', 'cell', 'cell complex', 'charging', 'charging light', 'complex', 'complex comprises', 'complex perform', 'comprises', 'comprises plurality', 'connecting', 'connecting unit', 'current', 'current generated', 'current receive', 'disclosed', 'disclosed light', 'emitting', 'emitting time', 'generate', 'generate current', 'generated', 'generated layer', 'growing', 'growing layer', 'including', 'including according', 'invention', 'invention light', 'irradiate', 'irradiate light', 'layer', 'layer outside', 'layer receive', 'layer transmit', 'light', 'light emitting', 'light generate', 'light preset', 'light source', 'lighting', 'lighting system', 'outside', 'outside layer', 'outside transmit', 'perform', 'perform charging', 'plurality', 'plurality connecting', 'plurality layer', 'power', 'power applied', 'power irradiate', 'present', 'present invention', 'preset', 'preset wavelength', 'receive', 'receive light', 'receive power', 'solar', 'solar cell', 'source', 'source solar', 'system', 'system including', 'time', 'time lighting', 'transmit', 'transmit current', 'transmit power', 'unit', 'unit growing', 'wavelength', 'wavelength plurality']\n",
      "['accordance', 'accordance time', 'according', 'according real', 'allocated', 'allocated first', 'allocates', 'allocates processing', 'application', 'application directed', 'capability', 'capability server', 'core', 'core include', 'core subset', 'cycle', 'cycle first', 'data', 'data processing', 'determined', 'determined first', 'directed', 'directed method', 'duty', 'duty cycle', 'dynamically', 'dynamically parallel', 'executed', 'executed dynamically', 'executed thereon', 'first', 'first gaming', 'first processing', 'first second', 'first subset', 'gaming', 'gaming session', 'include', 'include multiple', 'including', 'including first', 'initiate', 'initiate online', 'managing', 'managing processing', 'method', 'method managing', 'multiple', 'multiple processing', 'need', 'need first', 'one', 'one processing', 'online', 'online gaming', 'parallel', 'parallel according', 'processing', 'processing capability', 'processing core', 'processing need', 'processing schedule', 'processing slice', 'real', 'real time', 'receiving', 'receiving request', 'request', 'request initiate', 'schedule', 'schedule determined', 'schedule first', 'second', 'second gaming', 'server', 'server system', 'session', 'session accordance', 'session executed', 'session first', 'session including', 'session second', 'session server', 'session share', 'share', 'share duty', 'sharing', 'sharing processing', 'slice', 'slice allocated', 'slice executed', 'slice processing', 'slice time', 'slice upon', 'subset', 'subset online', 'system', 'system allocates', 'system one', 'thereon', 'thereon first', 'time', 'time data', 'time sharing', 'upon', 'upon receiving']\n"
     ]
    },
    {
     "name": "stderr",
     "output_type": "stream",
     "text": [
      "C:\\Users\\HP\\anaconda3\\envs\\Pytorchgpu\\lib\\site-packages\\sklearn\\utils\\deprecation.py:87: FutureWarning: Function get_feature_names is deprecated; get_feature_names is deprecated in 1.0 and will be removed in 1.2. Please use get_feature_names_out instead.\n",
      "  warnings.warn(msg, category=FutureWarning)\n",
      "C:\\Users\\HP\\anaconda3\\envs\\Pytorchgpu\\lib\\site-packages\\sklearn\\utils\\deprecation.py:87: FutureWarning: Function get_feature_names is deprecated; get_feature_names is deprecated in 1.0 and will be removed in 1.2. Please use get_feature_names_out instead.\n",
      "  warnings.warn(msg, category=FutureWarning)\n",
      "C:\\Users\\HP\\anaconda3\\envs\\Pytorchgpu\\lib\\site-packages\\sklearn\\utils\\deprecation.py:87: FutureWarning: Function get_feature_names is deprecated; get_feature_names is deprecated in 1.0 and will be removed in 1.2. Please use get_feature_names_out instead.\n",
      "  warnings.warn(msg, category=FutureWarning)\n"
     ]
    },
    {
     "name": "stdout",
     "output_type": "stream",
     "text": [
      "['104', '104 first', '104 substrate', 'arranged', 'arranged least', 'becoming', 'becoming liquid', 'chemical', 'chemical liquid', 'coating', 'coating film', 'comprises', 'comprises forming', 'concave', 'concave pattern', 'contacting', 'contacting first', 'drawing', 'drawing figure', 'energy', 'energy specific', 'except', 'except first', 'figure', 'film', 'film 104', 'film energy', 'film liquid', 'fine', 'fine pattern', 'first', 'first coating', 'first region', 'form', 'form fine', 'formation', 'formation concave', 'forming', 'forming concave', 'forming first', 'forming method', 'includes', 'includes contacting', 'includes making', 'insulation', 'insulation layer', 'irradiating', 'irradiating coating', 'irradiation', 'irradiation energy', 'layer', 'layer first', 'layer second', 'least', 'least portion', 'liquid', 'liquid irradiating', 'liquid philic', 'liquid phobic', 'making', 'making surface', 'method', 'method comprises', 'method reduces', 'number', 'number step', 'pattern', 'pattern forming', 'pattern second', 'pattern solution', 'philic', 'philic irradiation', 'phobic', 'phobic property', 'photolithography', 'photolithography form', 'portion', 'portion region', 'problem', 'problem solved', 'property', 'property becoming', 'provide', 'provide pattern', 'r1', 'r1 includes', 'r1 removal', 'r1 specific', 'r1 substrate', 'reduces', 'reduces number', 'region', 'region arranged', 'region formation', 'region includes', 'region liquid', 'region r1', 'region substrate', 'removal', 'removal insulation', 'remove', 'remove first', 'removing', 'removing insulation', 'second', 'second region', 'selected', 'selected drawing', 'solution', 'solution pattern', 'solved', 'solved provide', 'specific', 'specific chemical', 'specific wavelength', 'step', 'step photolithography', 'substrate', 'substrate coating', 'substrate except', 'substrate forming', 'surface', 'surface insulation', 'wavelength', 'wavelength remove', 'wavelength removing', 'wavelength selected']\n",
      "['actuator', 'actuator plurality', 'body', 'body substrate', 'configured', 'configured hold', 'configured sandwich', 'contact', 'contact outer', 'fix', 'fix substrate', 'flat', 'flat plate', 'gap', 'gap groove', 'gripping', 'gripping member', 'groove', 'hand', 'hand body', 'hand configured', 'held', 'held substrate', 'hold', 'hold lower', 'hold outer', 'hold substrate', 'holding', 'holding portion', 'inclined', 'inclined outer', 'inner', 'inner side', 'lower', 'lower surface', 'main', 'main hand', 'member', 'member actuator', 'member fix', 'member flat', 'member gripping', 'mounted', 'mounted main', 'moving', 'moving gripping', 'outer', 'outer peripheral', 'outer periphery', 'peripheral', 'peripheral side', 'periphery', 'periphery holding', 'periphery substrate', 'plate', 'plate shaped', 'plurality', 'plurality receiving', 'portion', 'portion configured', 'portion inclined', 'portion mounted', 'portion portion', 'portion provided', 'portion spaced', 'portion substrate', 'portion supported', 'provided', 'provided vertically', 'receiving', 'receiving member', 'sandwich', 'sandwich substrate', 'shaped', 'shaped support', 'side', 'side substrate', 'side toward', 'spaced', 'spaced gap', 'substrate', 'substrate contact', 'substrate held', 'substrate lower', 'substrate moving', 'substrate outer', 'substrate plurality', 'substrate substrate', 'substrate transfer', 'support', 'support portion', 'supported', 'supported support', 'surface', 'surface holding', 'surface substrate', 'toward', 'toward inner', 'transfer', 'transfer hand', 'vertically', 'vertically support']\n"
     ]
    },
    {
     "name": "stderr",
     "output_type": "stream",
     "text": [
      "C:\\Users\\HP\\anaconda3\\envs\\Pytorchgpu\\lib\\site-packages\\sklearn\\utils\\deprecation.py:87: FutureWarning: Function get_feature_names is deprecated; get_feature_names is deprecated in 1.0 and will be removed in 1.2. Please use get_feature_names_out instead.\n",
      "  warnings.warn(msg, category=FutureWarning)\n",
      "C:\\Users\\HP\\anaconda3\\envs\\Pytorchgpu\\lib\\site-packages\\sklearn\\utils\\deprecation.py:87: FutureWarning: Function get_feature_names is deprecated; get_feature_names is deprecated in 1.0 and will be removed in 1.2. Please use get_feature_names_out instead.\n",
      "  warnings.warn(msg, category=FutureWarning)\n",
      "C:\\Users\\HP\\anaconda3\\envs\\Pytorchgpu\\lib\\site-packages\\sklearn\\utils\\deprecation.py:87: FutureWarning: Function get_feature_names is deprecated; get_feature_names is deprecated in 1.0 and will be removed in 1.2. Please use get_feature_names_out instead.\n",
      "  warnings.warn(msg, category=FutureWarning)\n"
     ]
    },
    {
     "name": "stdout",
     "output_type": "stream",
     "text": [
      "['also', 'also include', 'applying', 'applying one', 'associated', 'associated primary', 'based', 'based determined', 'based least', 'based value', 'block', 'block video', 'coding', 'coding technique', 'coding tool', 'combination', 'combination pdpc', 'data', 'data based', 'data determining', 'data includes', 'decode', 'decode block', 'decoding', 'decoding video', 'dependent', 'dependent prediction', 'determined', 'determined intra', 'determined usage', 'determining', 'determining intra', 'determining usage', 'determining whether', 'element', 'element associated', 'element one', 'include', 'include receiving', 'includes', 'includes receiving', 'intra', 'intra prediction', 'least', 'least determined', 'may', 'may also', 'method', 'method decoding', 'method may', 'mode', 'mode block', 'mode decode', 'mode method', 'one', 'one coding', 'one video', 'pdpc', 'pdpc mode', 'position', 'position dependent', 'prediction', 'prediction combination', 'prediction mode', 'primary', 'primary transform', 'receiving', 'receiving block', 'receiving syntax', 'secondary', 'secondary transform', 'syntax', 'syntax element', 'technique', 'technique primary', 'tool', 'tool based', 'tool block', 'tool video', 'transform', 'transform applying', 'transform secondary', 'transform used', 'usage', 'usage one', 'use', 'use position', 'used', 'used block', 'value', 'value syntax', 'video', 'video coding', 'video data', 'whether', 'whether use']\n",
      "['according', 'according performed', 'analyzes', 'analyzes cache', 'application', 'application high', 'application storage', 'based', 'based collected', 'based shared', 'based user', 'cache', 'cache priority', 'collect', 'collect context', 'collected', 'collected context', 'collection', 'collection unit', 'component', 'component layer', 'context', 'context information', 'cooperative', 'cooperative operation', 'effect', 'effect providing', 'execution', 'execution unit', 'file', 'file application', 'file based', 'file input', 'file least', 'frequency', 'frequency based', 'high', 'high usage', 'identifier', 'identifier uid', 'implement', 'implement cooperative', 'includes', 'includes context', 'information', 'information collection', 'information file', 'information layer', 'information linux', 'information performs', 'information process', 'information processing', 'information sequentially', 'information sharing', 'input', 'input output', 'inside', 'inside linux', 'invention', 'invention effect', 'invention includes', 'kernel', 'kernel input', 'kernel layer', 'layer', 'layer input', 'layer inside', 'layer sharing', 'least', 'least one', 'linux', 'linux kernel', 'management', 'management technique', 'one', 'one application', 'operation', 'operation component', 'output', 'output according', 'output execution', 'output management', 'output scheduling', 'output stack', 'performed', 'performed input', 'performs', 'performs input', 'present', 'present invention', 'priority', 'priority file', 'process', 'process context', 'processed', 'processed context', 'processing', 'processing unit', 'providing', 'providing file', 'recording', 'recording file', 'scheduling', 'scheduling least', 'scheduling present', 'sequentially', 'sequentially recording', 'share', 'share processed', 'shared', 'shared context', 'sharing', 'sharing information', 'sharing unit', 'stack', 'stack linux', 'storage', 'storage context', 'technique', 'technique implement', 'uid', 'uid context', 'unit', 'unit analyzes', 'unit collect', 'unit performs', 'unit share', 'usage', 'usage frequency', 'user', 'user identifier']\n"
     ]
    },
    {
     "name": "stderr",
     "output_type": "stream",
     "text": [
      "C:\\Users\\HP\\anaconda3\\envs\\Pytorchgpu\\lib\\site-packages\\sklearn\\utils\\deprecation.py:87: FutureWarning: Function get_feature_names is deprecated; get_feature_names is deprecated in 1.0 and will be removed in 1.2. Please use get_feature_names_out instead.\n",
      "  warnings.warn(msg, category=FutureWarning)\n",
      "C:\\Users\\HP\\anaconda3\\envs\\Pytorchgpu\\lib\\site-packages\\sklearn\\utils\\deprecation.py:87: FutureWarning: Function get_feature_names is deprecated; get_feature_names is deprecated in 1.0 and will be removed in 1.2. Please use get_feature_names_out instead.\n",
      "  warnings.warn(msg, category=FutureWarning)\n",
      "C:\\Users\\HP\\anaconda3\\envs\\Pytorchgpu\\lib\\site-packages\\sklearn\\utils\\deprecation.py:87: FutureWarning: Function get_feature_names is deprecated; get_feature_names is deprecated in 1.0 and will be removed in 1.2. Please use get_feature_names_out instead.\n",
      "  warnings.warn(msg, category=FutureWarning)\n",
      "C:\\Users\\HP\\anaconda3\\envs\\Pytorchgpu\\lib\\site-packages\\sklearn\\utils\\deprecation.py:87: FutureWarning: Function get_feature_names is deprecated; get_feature_names is deprecated in 1.0 and will be removed in 1.2. Please use get_feature_names_out instead.\n",
      "  warnings.warn(msg, category=FutureWarning)\n",
      "C:\\Users\\HP\\anaconda3\\envs\\Pytorchgpu\\lib\\site-packages\\sklearn\\utils\\deprecation.py:87: FutureWarning: Function get_feature_names is deprecated; get_feature_names is deprecated in 1.0 and will be removed in 1.2. Please use get_feature_names_out instead.\n",
      "  warnings.warn(msg, category=FutureWarning)\n",
      "C:\\Users\\HP\\anaconda3\\envs\\Pytorchgpu\\lib\\site-packages\\sklearn\\utils\\deprecation.py:87: FutureWarning: Function get_feature_names is deprecated; get_feature_names is deprecated in 1.0 and will be removed in 1.2. Please use get_feature_names_out instead.\n",
      "  warnings.warn(msg, category=FutureWarning)\n"
     ]
    },
    {
     "name": "stdout",
     "output_type": "stream",
     "text": [
      "['aging', 'aging disclosed', 'applied', 'applied skin', 'composition', 'composition topically', 'compositions', 'compositions reducing', 'disclosed', 'disclosed herein', 'dryness', 'dryness skin', 'fine', 'fine line', 'herein', 'herein composition', 'itchiness', 'line', 'line thinning', 'prevent', 'prevent skin', 'reduce', 'reduce prevent', 'reducing', 'reducing skin', 'region', 'region reduce', 'sagging', 'sagging skin', 'skin', 'skin aging', 'skin dryness', 'skin itchiness', 'skin region', 'skin sagging', 'skin skin', 'skin wrinkle', 'thinning', 'thinning skin', 'topically', 'topically applied', 'wrinkle', 'wrinkle fine']\n",
      "['able', 'able drive', 'able slide', 'abutment', 'abutment latter', 'accessible', 'accessible mouth', 'around', 'around plug', 'around tubular', 'away', 'away flange', 'axially', 'axially body', 'axially movable', 'axis', 'axis distal', 'body', 'body around', 'body defines', 'body includes', 'body jut', 'central', 'central axis', 'close', 'close flange', 'coaxially', 'coaxially inside', 'comprises', 'comprises sleeve', 'comprises tubular', 'connecting', 'connecting element', 'control', 'control member', 'controlling', 'controlling displacement', 'defines', 'defines central', 'device', 'device distal', 'device locking', 'displacement', 'displacement sleeve', 'displacing', 'displacing sleeve', 'distal', 'distal mouth', 'distal position', 'drive', 'drive first', 'element', 'element comprises', 'end', 'end accessible', 'first', 'first portion', 'first position', 'first second', 'flange', 'flange abutment', 'flange comprises', 'flange second', 'fluid', 'fluid positioned', 'includes', 'includes flange', 'including', 'including first', 'inside', 'inside body', 'jut', 'jut axially', 'latter', 'latter member', 'locking', 'locking control', 'male', 'male connecting', 'maneuvering', 'maneuvering control', 'member', 'member controlling', 'member displacing', 'member including', 'member proximal', 'mouth', 'mouth body', 'mouth tubular', 'movable', 'movable around', 'oppose', 'oppose maneuvering', 'passage', 'passage fluid', 'plug', 'plug distal', 'plug first', 'plug passage', 'portion', 'portion able', 'portion device', 'portion oppose', 'portion prevents', 'portion proximal', 'position', 'position away', 'position close', 'position device', 'position end', 'position first', 'position second', 'position towards', 'positioned', 'positioned coaxially', 'prevents', 'prevents maneuvering', 'proximal', 'proximal position', 'second', 'second portion', 'second position', 'sleeve', 'sleeve axially', 'sleeve first', 'slide', 'slide inside', 'towards', 'towards proximal', 'tubular', 'tubular body', 'tubular plug']\n"
     ]
    },
    {
     "name": "stderr",
     "output_type": "stream",
     "text": [
      "C:\\Users\\HP\\anaconda3\\envs\\Pytorchgpu\\lib\\site-packages\\sklearn\\utils\\deprecation.py:87: FutureWarning: Function get_feature_names is deprecated; get_feature_names is deprecated in 1.0 and will be removed in 1.2. Please use get_feature_names_out instead.\n",
      "  warnings.warn(msg, category=FutureWarning)\n",
      "C:\\Users\\HP\\anaconda3\\envs\\Pytorchgpu\\lib\\site-packages\\sklearn\\utils\\deprecation.py:87: FutureWarning: Function get_feature_names is deprecated; get_feature_names is deprecated in 1.0 and will be removed in 1.2. Please use get_feature_names_out instead.\n",
      "  warnings.warn(msg, category=FutureWarning)\n",
      "C:\\Users\\HP\\anaconda3\\envs\\Pytorchgpu\\lib\\site-packages\\sklearn\\utils\\deprecation.py:87: FutureWarning: Function get_feature_names is deprecated; get_feature_names is deprecated in 1.0 and will be removed in 1.2. Please use get_feature_names_out instead.\n",
      "  warnings.warn(msg, category=FutureWarning)\n",
      "C:\\Users\\HP\\anaconda3\\envs\\Pytorchgpu\\lib\\site-packages\\sklearn\\utils\\deprecation.py:87: FutureWarning: Function get_feature_names is deprecated; get_feature_names is deprecated in 1.0 and will be removed in 1.2. Please use get_feature_names_out instead.\n",
      "  warnings.warn(msg, category=FutureWarning)\n"
     ]
    },
    {
     "name": "stdout",
     "output_type": "stream",
     "text": [
      "['according', 'according aspect', 'air', 'air module', 'area', 'area detachably', 'area placed', 'aspect', 'aspect robot', 'body', 'body cleaning', 'body moving', 'body sucking', 'body suction', 'cleaner', 'cleaner according', 'cleaner comprises', 'cleaning', 'cleaning area', 'cleaning module', 'comprises', 'comprises body', 'coupled', 'coupled module', 'coupling', 'coupling unit', 'detachably', 'detachably coupled', 'device', 'device moving', 'dust', 'dust air', 'external', 'external side', 'invention', 'invention relates', 'least', 'least portion', 'mean', 'mean provided', 'module', 'module cleaning', 'module coupled', 'module coupling', 'moving', 'moving body', 'moving device', 'one', 'one side', 'placed', 'placed external', 'portion', 'portion cleaning', 'present', 'present invention', 'provided', 'provided body', 'provided one', 'relates', 'relates robot', 'robot', 'robot cleaner', 'side', 'side body', 'state', 'state cleaning', 'sucking', 'sucking dust', 'suction', 'suction mean', 'unit', 'unit least', 'unit provided', 'unit state']\n",
      "['addition', 'addition invention', 'affinity', 'affinity subunit', 'agent', 'agent addition', 'cell', 'cell comprising', 'composition', 'composition comprising', 'comprising', 'comprising polynucleotide', 'comprising said', 'comprising us', 'encoding', 'encoding mutant', 'exhibit', 'exhibit reduced', 'generally', 'generally relates', 'host', 'host cell', 'il', 'il polypeptide', 'il receptor', 'immunoconjugates', 'immunoconjugates comprising', 'immunoconjugates pharmaceutical', 'immunoconjugates vector', 'immunotherapeutic', 'immunotherapeutic agent', 'interleukin', 'interleukin polypeptide', 'invention', 'invention generally', 'invention relates', 'method', 'method producing', 'molecule', 'molecule encoding', 'molecule invention', 'mutant', 'mutant il', 'mutant interleukin', 'pharmaceutical', 'pharmaceutical composition', 'polynucleotide', 'polynucleotide molecule', 'polypeptide', 'polypeptide exhibit', 'polypeptide immunoconjugates', 'polypeptide polynucleotide', 'present', 'present invention', 'producing', 'producing mutant', 'receptor', 'receptor use', 'reduced', 'reduced affinity', 'relates', 'relates immunoconjugates', 'relates method', 'relates mutant', 'said', 'said mutant', 'subunit', 'subunit il', 'thereof', 'us', 'us thereof', 'use', 'use immunotherapeutic', 'vector', 'vector host']\n"
     ]
    },
    {
     "name": "stderr",
     "output_type": "stream",
     "text": [
      "C:\\Users\\HP\\anaconda3\\envs\\Pytorchgpu\\lib\\site-packages\\sklearn\\utils\\deprecation.py:87: FutureWarning: Function get_feature_names is deprecated; get_feature_names is deprecated in 1.0 and will be removed in 1.2. Please use get_feature_names_out instead.\n",
      "  warnings.warn(msg, category=FutureWarning)\n",
      "C:\\Users\\HP\\anaconda3\\envs\\Pytorchgpu\\lib\\site-packages\\sklearn\\utils\\deprecation.py:87: FutureWarning: Function get_feature_names is deprecated; get_feature_names is deprecated in 1.0 and will be removed in 1.2. Please use get_feature_names_out instead.\n",
      "  warnings.warn(msg, category=FutureWarning)\n"
     ]
    },
    {
     "name": "stdout",
     "output_type": "stream",
     "text": [
      "['associated', 'associated maximum', 'based', 'based cnn', 'based observation', 'based using', 'cascaded', 'cascaded cnn', 'cnn', 'cnn based', 'cnn embodiment', 'cnn module', 'cnn mtcnn', 'cnn multitask', 'cnn process', 'cnn system', 'configured', 'configured equivalent', 'configured multi', 'constraint', 'convolutional', 'convolutional neutral', 'described', 'described herein', 'detection', 'detection system', 'disclosure', 'disclosure make', 'embodiment', 'embodiment patent', 'embodiment subimage', 'embodiments', 'embodiments described', 'entire', 'entire input', 'equivalent', 'equivalent large', 'exactly', 'exactly identical', 'example', 'example face', 'face', 'face detection', 'given', 'given stage', 'hardware', 'hardware cnn', 'hardware convolutional', 'herein', 'herein provide', 'identical', 'identical output', 'image', 'image given', 'image size', 'image without', 'input', 'input image', 'large', 'large scale', 'larger', 'larger input', 'make', 'make use', 'maximum', 'maximum input', 'module', 'module associated', 'module configured', 'mtcnn', 'mtcnn larger', 'mtcnn partitioned', 'mtcnn use', 'multi', 'multi task', 'multitask', 'multitask cascaded', 'network', 'network cnn', 'neutral', 'neutral network', 'observation', 'observation embodiment', 'one', 'one stage', 'output', 'output large', 'output subimage', 'partitioned', 'partitioned set', 'partitioning', 'partitioning output', 'patent', 'patent disclosure', 'process', 'process entire', 'provide', 'provide various', 'result', 'result stage', 'scale', 'scale cnn', 'scale hardware', 'set', 'set subimages', 'size', 'size constraint', 'size result', 'small', 'small scale', 'smaller', 'smaller size', 'stage', 'stage cascaded', 'subimage', 'subimage based', 'subimages', 'subimages smaller', 'system', 'system based', 'system configured', 'system exactly', 'system technique', 'task', 'task cascaded', 'technique', 'technique one', 'use', 'use small', 'use subimage', 'using', 'using small', 'various', 'various example', 'without', 'without partitioning']\n",
      "['acceptable', 'acceptable salt', 'amide', 'amide compound', 'benzotriazole', 'benzotriazole derived', 'beta', 'beta r1', 'beta unsaturated', 'compound', 'compound shown', 'compound used', 'derived', 'derived beta', 'formula', 'inhibitor', 'inhibitor pharmaceutically', 'pharmaceutically', 'pharmaceutically acceptable', 'r1', 'r1 inhibitor', 'salt', 'salt thereof', 'shown', 'shown formula', 'structure', 'structure compound', 'tgf', 'tgf beta', 'thereof', 'thereof structure', 'unsaturated', 'unsaturated amide', 'used', 'used tgf']\n"
     ]
    },
    {
     "name": "stderr",
     "output_type": "stream",
     "text": [
      "C:\\Users\\HP\\anaconda3\\envs\\Pytorchgpu\\lib\\site-packages\\sklearn\\utils\\deprecation.py:87: FutureWarning: Function get_feature_names is deprecated; get_feature_names is deprecated in 1.0 and will be removed in 1.2. Please use get_feature_names_out instead.\n",
      "  warnings.warn(msg, category=FutureWarning)\n",
      "C:\\Users\\HP\\anaconda3\\envs\\Pytorchgpu\\lib\\site-packages\\sklearn\\utils\\deprecation.py:87: FutureWarning: Function get_feature_names is deprecated; get_feature_names is deprecated in 1.0 and will be removed in 1.2. Please use get_feature_names_out instead.\n",
      "  warnings.warn(msg, category=FutureWarning)\n",
      "C:\\Users\\HP\\anaconda3\\envs\\Pytorchgpu\\lib\\site-packages\\sklearn\\utils\\deprecation.py:87: FutureWarning: Function get_feature_names is deprecated; get_feature_names is deprecated in 1.0 and will be removed in 1.2. Please use get_feature_names_out instead.\n",
      "  warnings.warn(msg, category=FutureWarning)\n",
      "C:\\Users\\HP\\anaconda3\\envs\\Pytorchgpu\\lib\\site-packages\\sklearn\\utils\\deprecation.py:87: FutureWarning: Function get_feature_names is deprecated; get_feature_names is deprecated in 1.0 and will be removed in 1.2. Please use get_feature_names_out instead.\n",
      "  warnings.warn(msg, category=FutureWarning)\n"
     ]
    },
    {
     "name": "stdout",
     "output_type": "stream",
     "text": [
      "['area', 'area electrically', 'area first', 'around', 'around conductive', 'carrier', 'carrier first', 'carrier removed', 'component', 'component mounted', 'conductive', 'conductive layer', 'conductive pillar', 'connected', 'connected conductive', 'deposited', 'deposited semiconductor', 'device', 'device made', 'die', 'die around', 'die component', 'electrically', 'electrically connected', 'electrically isolated', 'encapsulant', 'encapsulant deposited', 'encapsulant first', 'first', 'first area', 'first conductive', 'first encapsulant', 'first interconnect', 'formed', 'formed first', 'formed remaining', 'forming', 'forming first', 'includes', 'includes interconnect', 'interconnect', 'interconnect line', 'interconnect structure', 'isolated', 'isolated second', 'layer', 'layer carrier', 'layer conductive', 'layer first', 'layer includes', 'layer removed', 'layer semiconductor', 'line', 'line ubm', 'made', 'made forming', 'mounted', 'mounted second', 'pad', 'pad second', 'pillar', 'pillar carrier', 'pillar first', 'pillar formed', 'portion', 'portion first', 'remaining', 'remaining portion', 'removed', 'removed portion', 'removed remaining', 'second', 'second area', 'second interconnect', 'semiconductor', 'semiconductor device', 'semiconductor die', 'structure', 'structure electrically', 'structure formed', 'ubm', 'ubm pad']\n",
      "['amountis', 'amountis reduced', 'assembling', 'assembling welding', 'back', 'back side', 'body', 'body welding', 'bulkhead', 'bulkhead body', 'bulkhead reinforcing', 'bulkhead sheet', 'butt', 'butt joint', 'component', 'component back', 'component front', 'component s2', 'component s5', 'component spliced', 'corner', 'corner joint', 'deck', 'deck sheet', 'decksheet', 'decksheet welding', 'deformation', 'deformation reduced', 'deformation welding', 'discloses', 'discloses segmented', 'efficiency', 'efficiency improved', 'enclosure', 'enclosure bulkhead', 'field', 'field ship', 'fire', 'fire work', 'following', 'following step', 'front', 'front side', 'hoisting', 'hoisting deck', 'hoisting enclosure', 'hoisting transporting', 'improved', 'includes', 'includes following', 'installing', 'installing deck', 'invention', 'invention relates', 'joint', 'joint deck', 'joint seam', 'manufacturing', 'manufacturing discloses', 'material', 'material deck', 'material s6', 'material spliced', 'material welding', 'method', 'method includes', 'method ship', 'operation', 'operation process', 'positioning', 'positioning deck', 'positioning enclosure', 'process', 'process simplified', 'production', 'production efficiency', 'reduced', 'reduced fire', 'reduced operation', 'reinforcing', 'reinforcing material', 'relates', 'relates technical', 's1', 's1 hoisting', 's2', 's2 welding', 's3', 's3 turning', 's4', 's4 hoisting', 's5', 's5 installing', 's6', 's6 welding', 's7', 's7 turning', 'seam', 'seam deck', 'seam enclosure', 'segmented', 'segmented assembling', 'sheet', 'sheet component', 'sheet deck', 'sheet positioning', 'sheet reinforcing', 'sheet welding', 'ship', 'ship manufacturing', 'ship superstructure', 'side', 'side hoisting', 'side s3', 'side s4', 'side s7', 'simplified', 'simplified production', 'spliced', 'spliced deck', 'spliced enclosure', 'step', 'step s1', 'superstructure', 'superstructure method', 'technical', 'technical field', 'transporting', 'transporting deformation', 'turning', 'turning decksheet', 'turning enclosure', 'welding', 'welding butt', 'welding corner', 'welding deformation', 'welding enclosure', 'welding method', 'work', 'work amountis']\n"
     ]
    },
    {
     "name": "stderr",
     "output_type": "stream",
     "text": [
      "C:\\Users\\HP\\anaconda3\\envs\\Pytorchgpu\\lib\\site-packages\\sklearn\\utils\\deprecation.py:87: FutureWarning: Function get_feature_names is deprecated; get_feature_names is deprecated in 1.0 and will be removed in 1.2. Please use get_feature_names_out instead.\n",
      "  warnings.warn(msg, category=FutureWarning)\n",
      "C:\\Users\\HP\\anaconda3\\envs\\Pytorchgpu\\lib\\site-packages\\sklearn\\utils\\deprecation.py:87: FutureWarning: Function get_feature_names is deprecated; get_feature_names is deprecated in 1.0 and will be removed in 1.2. Please use get_feature_names_out instead.\n",
      "  warnings.warn(msg, category=FutureWarning)\n",
      "C:\\Users\\HP\\anaconda3\\envs\\Pytorchgpu\\lib\\site-packages\\sklearn\\utils\\deprecation.py:87: FutureWarning: Function get_feature_names is deprecated; get_feature_names is deprecated in 1.0 and will be removed in 1.2. Please use get_feature_names_out instead.\n",
      "  warnings.warn(msg, category=FutureWarning)\n",
      "C:\\Users\\HP\\anaconda3\\envs\\Pytorchgpu\\lib\\site-packages\\sklearn\\utils\\deprecation.py:87: FutureWarning: Function get_feature_names is deprecated; get_feature_names is deprecated in 1.0 and will be removed in 1.2. Please use get_feature_names_out instead.\n",
      "  warnings.warn(msg, category=FutureWarning)\n",
      "C:\\Users\\HP\\anaconda3\\envs\\Pytorchgpu\\lib\\site-packages\\sklearn\\utils\\deprecation.py:87: FutureWarning: Function get_feature_names is deprecated; get_feature_names is deprecated in 1.0 and will be removed in 1.2. Please use get_feature_names_out instead.\n",
      "  warnings.warn(msg, category=FutureWarning)\n"
     ]
    },
    {
     "name": "stdout",
     "output_type": "stream",
     "text": [
      "['according', 'according method', 'actual', 'actual application', 'algorithm', 'algorithm obtain', 'application', 'application transmitting', 'based', 'based deep', 'bicyclegan', 'bicyclegan network', 'blurred', 'blurred image', 'blurred picture', 'blurring', 'blurring algorithm', 'blurring caused', 'blurring expanded', 'blurring processing', 'call', 'call trained', 'carrying', 'carrying blurring', 'caused', 'caused hardware', 'comprises', 'comprises following', 'content', 'content solved', 'data', 'data actual', 'data enabling', 'deep', 'deep neural', 'discloses', 'discloses blurred', 'enabling', 'enabling server', 'expanded', 'following', 'following step', 'hardware', 'hardware image', 'image', 'image blurred', 'image blurring', 'image content', 'image data', 'image needing', 'image training', 'invention', 'invention discloses', 'method', 'method comprises', 'method problem', 'method system', 'mode', 'mode solving', 'needing', 'needing processed', 'network', 'network method', 'network perform', 'network taking', 'network used', 'neural', 'neural network', 'obtain', 'obtain image', 'original', 'original image', 'perform', 'perform sharpeningprocessing', 'picture', 'picture sharpening', 'problem', 'problem blurring', 'problem processing', 'processed', 'processed server', 'processing', 'processing method', 'processing mode', 'processing original', 'processing result', 'receives', 'receives blurred', 'result', 'result according', 'return', 'return processing', 'server', 'server call', 'server receives', 'server server', 'sharpening', 'sharpening processing', 'sharpeningprocessing', 'sharpeningprocessing return', 'solved', 'solved deep', 'solving', 'solving image', 'solving problem', 'step', 'step carrying', 'system', 'system based', 'taking', 'taking original', 'trained', 'trained bicyclegan', 'training', 'training bicyclegan', 'training data', 'transmitting', 'transmitting blurred', 'used', 'used solving']\n",
      "['35', '35 degree', '400', '400 6000', '400 mhz', '45', '45 deg', '55', '55 65', '6000', '6000 mhz', '65', '65 deg', 'according', 'according invention', 'avoided', 'avoided concrete', 'carrying', 'carrying deep', 'carrying initial', 'caused', 'caused stress', 'centrigrade', 'centrigrade 45', 'completed', 'completed according', 'comprises', 'comprises following', 'concrete', 'concrete caused', 'concrete comprises', 'concrete covering', 'concrete ensured', 'concrete layer', 'concrete natural', 'concrete realized', 'concrete synchronously', 'controlled', 'controlled 55', 'controlled range', 'cooling', 'cooling room', 'covering', 'covering surface', 'curing', 'curing completed', 'curing concrete', 'curing method', 'curing process', 'curing using', 'curing wherein', 'damage', 'damage concrete', 'deep', 'deep microwave', 'deg', 'deg microwave', 'degree', 'degree centrigrade', 'device', 'device wherein', 'difference', 'difference curing', 'difference due', 'due', 'due overhigh', 'ensured', 'ensured standard', 'exterior', 'exterior concrete', 'film', 'film standing', 'finally', 'finally subjecting', 'finished', 'finished carrying', 'following', 'following step', 'frequency', 'frequency 400', 'frequency range', 'heated', 'heated microstructure', 'hour', 'hour initial', 'initial', 'initial microwave', 'initial setting', 'interior', 'interior exterior', 'invention', 'invention interior', 'invention provides', 'layer', 'layer film', 'method', 'method concrete', 'mhz', 'mhz 6000', 'mhz carrying', 'mhz finally', 'microstructure', 'microstructure damage', 'microwave', 'microwave curing', 'microwave device', 'microwave frequency', 'molding', 'molding concrete', 'movable', 'movable microwave', 'natural', 'natural cooling', 'overhigh', 'overhigh temperature', 'pouring', 'pouring tamping', 'process', 'process avoided', 'provides', 'provides microwave', 'range', 'range 35', 'range 400', 'rapid', 'rapid curing', 'realized', 'room', 'room temperature', 'setting', 'setting finished', 'setting hour', 'standard', 'standard strength', 'standing', 'standing initial', 'step', 'step pouring', 'strength', 'strength rapid', 'stress', 'stress difference', 'subjecting', 'subjecting concrete', 'surface', 'surface concrete', 'synchronously', 'synchronously heated', 'tamping', 'tamping molding', 'temperature', 'temperature controlled', 'temperature curing', 'temperature difference', 'temperatureis', 'temperatureis controlled', 'using', 'using movable', 'wherein', 'wherein temperature', 'wherein temperatureis']\n"
     ]
    },
    {
     "name": "stderr",
     "output_type": "stream",
     "text": [
      "C:\\Users\\HP\\anaconda3\\envs\\Pytorchgpu\\lib\\site-packages\\sklearn\\utils\\deprecation.py:87: FutureWarning: Function get_feature_names is deprecated; get_feature_names is deprecated in 1.0 and will be removed in 1.2. Please use get_feature_names_out instead.\n",
      "  warnings.warn(msg, category=FutureWarning)\n",
      "C:\\Users\\HP\\anaconda3\\envs\\Pytorchgpu\\lib\\site-packages\\sklearn\\utils\\deprecation.py:87: FutureWarning: Function get_feature_names is deprecated; get_feature_names is deprecated in 1.0 and will be removed in 1.2. Please use get_feature_names_out instead.\n",
      "  warnings.warn(msg, category=FutureWarning)\n",
      "C:\\Users\\HP\\anaconda3\\envs\\Pytorchgpu\\lib\\site-packages\\sklearn\\utils\\deprecation.py:87: FutureWarning: Function get_feature_names is deprecated; get_feature_names is deprecated in 1.0 and will be removed in 1.2. Please use get_feature_names_out instead.\n",
      "  warnings.warn(msg, category=FutureWarning)\n",
      "C:\\Users\\HP\\anaconda3\\envs\\Pytorchgpu\\lib\\site-packages\\sklearn\\utils\\deprecation.py:87: FutureWarning: Function get_feature_names is deprecated; get_feature_names is deprecated in 1.0 and will be removed in 1.2. Please use get_feature_names_out instead.\n",
      "  warnings.warn(msg, category=FutureWarning)\n",
      "C:\\Users\\HP\\anaconda3\\envs\\Pytorchgpu\\lib\\site-packages\\sklearn\\utils\\deprecation.py:87: FutureWarning: Function get_feature_names is deprecated; get_feature_names is deprecated in 1.0 and will be removed in 1.2. Please use get_feature_names_out instead.\n",
      "  warnings.warn(msg, category=FutureWarning)\n"
     ]
    },
    {
     "name": "stdout",
     "output_type": "stream",
     "text": [
      "['adjacent', 'adjacent lifting', 'allow', 'allow movement', 'along', 'along first', 'along second', 'arranged', 'arranged lift', 'arranged opposite', 'body', 'body moving', 'body surround', 'bottom', 'bottom storage', 'cavity', 'cavity bottom', 'cavity within', 'container', 'container grid', 'container handling', 'container level', 'container three', 'device', 'device arranged', 'device positioned', 'device second', 'dimensional', 'dimensional grid', 'direction', 'direction first', 'direction grid', 'direction perpendicular', 'direction second', 'direction vehicle', 'displaceable', 'displaceable vertical', 'first', 'first direction', 'first lifting', 'first position', 'first set', 'grid', 'grid cavity', 'grid second', 'grid underlying', 'handling', 'handling vehicle', 'includes', 'includes first', 'least', 'least first', 'level', 'level lowest', 'level second', 'lift', 'lift storage', 'lifting', 'lifting device', 'lowest', 'lowest level', 'movement', 'movement vehicle', 'moving', 'moving vehicle', 'opposite', 'opposite side', 'perpendicular', 'perpendicular first', 'picking', 'picking storage', 'position', 'position wherein', 'positioned', 'positioned adjacent', 'second', 'second direction', 'second lifting', 'second position', 'second set', 'set', 'set wheel', 'side', 'side vehicle', 'storage', 'storage container', 'storage system', 'surround', 'surround cavity', 'system', 'system includes', 'three', 'three dimensional', 'underlying', 'underlying storage', 'vehicle', 'vehicle along', 'vehicle body', 'vehicle picking', 'vertical', 'vertical direction', 'wheel', 'wheel allow', 'wheel arranged', 'wheel displaceable', 'wherein', 'wherein first', 'wherein second', 'within', 'within least']\n",
      "['apparatus', 'apparatus automatic', 'apparatus automatically', 'apparatus controlled', 'automatic', 'automatic moving', 'automatic testing', 'automatically', 'automatically move', 'automatically testing', 'automation', 'automation testing', 'avoids', 'avoids increase', 'based', 'based automatic', 'card', 'card automatic', 'card based', 'card one', 'card removing', 'card targeted', 'card touching', 'caused', 'caused repetitive', 'combination', 'combination script', 'communication', 'communication path', 'complete', 'complete automation', 'consumption', 'consumption caused', 'contact', 'contact smart', 'control', 'control automatic', 'controlled', 'controlled instruction', 'device', 'device apparatus', 'device combination', 'device control', 'device non', 'device testing', 'efficiency', 'efficiency hand', 'efficiency success', 'establishment', 'establishment communication', 'hand', 'hand avoids', 'hand raise', 'increase', 'increase efficiency', 'increase power', 'instruction', 'instruction automatically', 'invention', 'invention relates', 'method', 'method apparatus', 'move', 'move move', 'move smart', 'moving', 'moving device', 'non', 'non contact', 'obviously', 'obviously increase', 'one', 'one hand', 'path', 'path read', 'position', 'position obviously', 'power', 'power consumption', 'raise', 'raise testing', 'rate', 'rate card', 'read', 'read write', 'realize', 'realize complete', 'relates', 'relates non', 'removing', 'removing testing', 'repetitive', 'repetitive establishment', 'script', 'script testing', 'smart', 'smart card', 'success', 'success rate', 'targeted', 'targeted writing', 'testing', 'testing device', 'testing efficiency', 'testing method', 'testing non', 'testing realize', 'testing smart', 'touching', 'touching card', 'write', 'write device', 'writing', 'writing position']\n"
     ]
    },
    {
     "name": "stderr",
     "output_type": "stream",
     "text": [
      "C:\\Users\\HP\\anaconda3\\envs\\Pytorchgpu\\lib\\site-packages\\sklearn\\utils\\deprecation.py:87: FutureWarning: Function get_feature_names is deprecated; get_feature_names is deprecated in 1.0 and will be removed in 1.2. Please use get_feature_names_out instead.\n",
      "  warnings.warn(msg, category=FutureWarning)\n",
      "C:\\Users\\HP\\anaconda3\\envs\\Pytorchgpu\\lib\\site-packages\\sklearn\\utils\\deprecation.py:87: FutureWarning: Function get_feature_names is deprecated; get_feature_names is deprecated in 1.0 and will be removed in 1.2. Please use get_feature_names_out instead.\n",
      "  warnings.warn(msg, category=FutureWarning)\n",
      "C:\\Users\\HP\\anaconda3\\envs\\Pytorchgpu\\lib\\site-packages\\sklearn\\utils\\deprecation.py:87: FutureWarning: Function get_feature_names is deprecated; get_feature_names is deprecated in 1.0 and will be removed in 1.2. Please use get_feature_names_out instead.\n",
      "  warnings.warn(msg, category=FutureWarning)\n",
      "C:\\Users\\HP\\anaconda3\\envs\\Pytorchgpu\\lib\\site-packages\\sklearn\\utils\\deprecation.py:87: FutureWarning: Function get_feature_names is deprecated; get_feature_names is deprecated in 1.0 and will be removed in 1.2. Please use get_feature_names_out instead.\n",
      "  warnings.warn(msg, category=FutureWarning)\n"
     ]
    },
    {
     "name": "stdout",
     "output_type": "stream",
     "text": [
      "['25', '25 31', '31', '31 33', '33', '33 along', 'along', 'along movement', 'bar', 'bar shuttle', 'created', 'created without', 'drive', 'drive bar', 'embroidery', 'embroidery machine', 'engages', 'engages drive', 'guide', 'guide mean', 'inclined', 'inclined relative', 'linear', 'linear guide', 'linear movement', 'machine', 'machine moved', 'mean', 'mean preferably', 'mechanism', 'mechanism 25', 'mechanism engages', 'moved', 'moved mechanism', 'movement', 'movement path', 'path', 'path created', 'path inclined', 'preferably', 'preferably mechanism', 'relative', 'relative vertical', 'shuttle', 'shuttle embroidery', 'vertical', 'vertical linear', 'without', 'without linear']\n",
      "['according', 'according invention', 'acetyl', 'acetyl chloro', 'acetyl selenium', 'acid', 'acid solution', 'active', 'active substance', 'advantage', 'advantage raw', 'available', 'available cheap', 'carrying', 'carrying nucleophilic', 'cheap', 'cheap operation', 'chiral', 'chiral source', 'chloro', 'chloro serine', 'complex', 'complex tedious', 'comprises', 'comprises following', 'condition', 'condition mild', 'convenient', 'convenient reaction', 'easily', 'easily available', 'easy', 'easy yield', 'ester', 'ester hydrolyzing', 'ester obtain', 'ester obtained', 'ester used', 'following', 'following step', 'high', 'high method', 'hydrochloric', 'hydrochloric acid', 'hydrolyzing', 'hydrolyzing acetyl', 'hydroselenide', 'hydroselenide sodium', 'industrial', 'industrial production', 'invention', 'invention acetyl', 'invention provides', 'material', 'material easily', 'method', 'method comprises', 'method se', 'method suitable', 'methyl', 'methyl ester', 'methyl hydroselenide', 'methyl selenocysteine', 'methylselenocysteine', 'methylselenocysteine according', 'methylselenocysteine preparation', 'mild', 'mild product', 'nucleophilic', 'nucleophilic substitution', 'obtain', 'obtain acetyl', 'obtain se', 'obtained', 'obtained product', 'obtained step', 'operation', 'operation convenient', 'optically', 'optically active', 'overcome', 'overcome process', 'preparation', 'preparation method', 'process', 'process advantage', 'process overcome', 'product', 'product single', 'production', 'provides', 'provides preparation', 'raw', 'raw material', 'reaction', 'reaction condition', 'reaction methyl', 'reagent', 'reagent obtained', 'salt', 'salt acetyl', 'se', 'se methylselenocysteine', 'selenium', 'selenium methyl', 'selenocysteine', 'selenocysteine methyl', 'separation', 'separation easy', 'serine', 'serine methyl', 'single', 'single optically', 'single separation', 'sodium', 'sodium salt', 'solution', 'solution obtain', 'source', 'source reagent', 'splitting', 'splitting process', 'step', 'step carrying', 'step hydrochloric', 'substance', 'substance complex', 'substitution', 'substitution reaction', 'suitable', 'suitable industrial', 'tedious', 'tedious splitting', 'used', 'used chiral', 'yield', 'yield high']\n"
     ]
    },
    {
     "name": "stderr",
     "output_type": "stream",
     "text": [
      "C:\\Users\\HP\\anaconda3\\envs\\Pytorchgpu\\lib\\site-packages\\sklearn\\utils\\deprecation.py:87: FutureWarning: Function get_feature_names is deprecated; get_feature_names is deprecated in 1.0 and will be removed in 1.2. Please use get_feature_names_out instead.\n",
      "  warnings.warn(msg, category=FutureWarning)\n",
      "C:\\Users\\HP\\anaconda3\\envs\\Pytorchgpu\\lib\\site-packages\\sklearn\\utils\\deprecation.py:87: FutureWarning: Function get_feature_names is deprecated; get_feature_names is deprecated in 1.0 and will be removed in 1.2. Please use get_feature_names_out instead.\n",
      "  warnings.warn(msg, category=FutureWarning)\n",
      "C:\\Users\\HP\\anaconda3\\envs\\Pytorchgpu\\lib\\site-packages\\sklearn\\utils\\deprecation.py:87: FutureWarning: Function get_feature_names is deprecated; get_feature_names is deprecated in 1.0 and will be removed in 1.2. Please use get_feature_names_out instead.\n",
      "  warnings.warn(msg, category=FutureWarning)\n"
     ]
    },
    {
     "name": "stdout",
     "output_type": "stream",
     "text": [
      "['additional', 'additional therapy', 'administered', 'administered single', 'administration', 'administration compounds', 'agent', 'agent therapy', 'also', 'also described', 'cancer', 'cancer non', 'combination', 'combination one', 'composition', 'composition comprising', 'compounds', 'compounds compounds', 'compounds described', 'compounds inhibit', 'compounds may', 'compounds method', 'compounds selectively', 'comprising', 'comprising compounds', 'condition', 'condition involving', 'described', 'described also', 'described compounds', 'described method', 'dna', 'dna viral', 'endothelial', 'endothelial growth', 'factor', 'factor vegf', 'growth', 'growth factor', 'human', 'human need', 'human vascular', 'infection', 'infection involving', 'inhibit', 'inhibit pathological', 'inhibit viral', 'inhibiting', 'inhibiting viral', 'involving', 'involving administration', 'may', 'may administered', 'method', 'method inhibiting', 'method reducing', 'method treating', 'need', 'need treatment', 'neoplastic', 'neoplastic condition', 'non', 'non neoplastic', 'one', 'one additional', 'pathological', 'pathological production', 'production', 'production human', 'production viral', 'protein', 'protein composition', 'protein using', 'reducing', 'reducing vegf', 'replication', 'replication production', 'rna', 'rna dna', 'selectively', 'selectively inhibit', 'single', 'single agent', 'therapy', 'therapy combination', 'therapy human', 'treating', 'treating cancer', 'treating viral', 'treatment', 'using', 'using compounds', 'vascular', 'vascular endothelial', 'vegf', 'vegf composition', 'vegf using', 'viral', 'viral infection', 'viral protein', 'viral replication', 'viral rna']\n"
     ]
    },
    {
     "name": "stderr",
     "output_type": "stream",
     "text": [
      "C:\\Users\\HP\\anaconda3\\envs\\Pytorchgpu\\lib\\site-packages\\sklearn\\utils\\deprecation.py:87: FutureWarning: Function get_feature_names is deprecated; get_feature_names is deprecated in 1.0 and will be removed in 1.2. Please use get_feature_names_out instead.\n",
      "  warnings.warn(msg, category=FutureWarning)\n",
      "C:\\Users\\HP\\anaconda3\\envs\\Pytorchgpu\\lib\\site-packages\\sklearn\\utils\\deprecation.py:87: FutureWarning: Function get_feature_names is deprecated; get_feature_names is deprecated in 1.0 and will be removed in 1.2. Please use get_feature_names_out instead.\n",
      "  warnings.warn(msg, category=FutureWarning)\n",
      "C:\\Users\\HP\\anaconda3\\envs\\Pytorchgpu\\lib\\site-packages\\sklearn\\utils\\deprecation.py:87: FutureWarning: Function get_feature_names is deprecated; get_feature_names is deprecated in 1.0 and will be removed in 1.2. Please use get_feature_names_out instead.\n",
      "  warnings.warn(msg, category=FutureWarning)\n"
     ]
    },
    {
     "name": "stdout",
     "output_type": "stream",
     "text": [
      "['acquiring', 'acquiring pluralityof', 'api', 'api call', 'api determined', 'api greatly', 'api request', 'apparatus', 'apparatus server', 'application', 'application data', 'application discloses', 'application programming', 'application time', 'based', 'based call', 'call', 'call parameter', 'call plurality', 'call simplified', 'called', 'called application', 'calling', 'calling plurality', 'collection', 'collection method', 'corresponding', 'corresponding plurality', 'data', 'data collection', 'data item', 'dataitems', 'dataitems integrated', 'determined', 'determined based', 'device', 'device disclosed', 'device method', 'device network', 'device used', 'disclosed', 'disclosed embodiment', 'discloses', 'discloses data', 'embodiment', 'embodiment present', 'experience', 'experience optimized', 'flow', 'flow api', 'following', 'following step', 'greatly', 'greatly shortened', 'includes', 'includes following', 'integrated', 'integrated single', 'interface', 'interface api', 'item', 'item api', 'item need', 'item value', 'item via', 'message', 'message sent', 'message single', 'method', 'method apparatus', 'method includes', 'need', 'need called', 'network', 'network device', 'network resource', 'occupation', 'occupation network', 'optimized', 'parameter', 'parameter call', 'parameter corresponding', 'plurality', 'plurality data', 'plurality dataitems', 'pluralityof', 'pluralityof request', 'present', 'present application', 'programming', 'programming interface', 'reduced', 'reduced flow', 'request', 'request message', 'request plurality', 'resource', 'resource reduced', 'sending', 'sending acquiring', 'sent', 'sent network', 'server', 'server network', 'shortened', 'shortened occupation', 'simplified', 'simplified user', 'simultaneously', 'simultaneously sending', 'single', 'single api', 'step', 'step plurality', 'time', 'time calling', 'used', 'used simultaneously', 'user', 'user experience', 'value', 'value call', 'via', 'via application']\n",
      "['concave', 'concave image', 'convex', 'convex object', 'disposed', 'disposed sequentially', 'fifth', 'fifth lens', 'first', 'first lens', 'first sixth', 'fourth', 'fourth lens', 'image', 'image side', 'imaging', 'imaging plane', 'imaging system', 'includes', 'includes first', 'inflection', 'inflection point', 'lens', 'lens disposed', 'lens inflection', 'lens negative', 'lens positive', 'negative', 'negative refractive', 'object', 'object side', 'optical', 'optical imaging', 'plane', 'point', 'point first', 'positive', 'positive refractive', 'power', 'power convex', 'power fifth', 'power fourth', 'power image', 'power sixth', 'power third', 'refractive', 'refractive power', 'second', 'second lens', 'sequentially', 'sequentially object', 'side', 'side surface', 'side toward', 'sixth', 'sixth lens', 'surface', 'surface concave', 'surface second', 'surface sixth', 'system', 'system includes', 'third', 'third lens', 'toward', 'toward imaging']\n"
     ]
    },
    {
     "name": "stderr",
     "output_type": "stream",
     "text": [
      "C:\\Users\\HP\\anaconda3\\envs\\Pytorchgpu\\lib\\site-packages\\sklearn\\utils\\deprecation.py:87: FutureWarning: Function get_feature_names is deprecated; get_feature_names is deprecated in 1.0 and will be removed in 1.2. Please use get_feature_names_out instead.\n",
      "  warnings.warn(msg, category=FutureWarning)\n",
      "C:\\Users\\HP\\anaconda3\\envs\\Pytorchgpu\\lib\\site-packages\\sklearn\\utils\\deprecation.py:87: FutureWarning: Function get_feature_names is deprecated; get_feature_names is deprecated in 1.0 and will be removed in 1.2. Please use get_feature_names_out instead.\n",
      "  warnings.warn(msg, category=FutureWarning)\n"
     ]
    },
    {
     "name": "stdout",
     "output_type": "stream",
     "text": [
      "['650', '650 deg', 'absorption', 'absorption phenomenon', 'air', 'air product', 'air temperature', 'anti', 'anti oxidation', 'barrel', 'barrel lower', 'barrel putting', 'barrel together', 'bell', 'bell jar', 'boiling', 'boiling state', 'carbon', 'carbon graphite', 'carrying', 'carrying secondary', 'comprises', 'comprises following', 'condition', 'condition keeping', 'curing', 'curing product', 'deg', 'deg anti', 'density', 'density increment', 'disclosed', 'disclosed invention', 'discloses', 'discloses impregnating', 'drying', 'drying oven', 'field', 'field preparation', 'finally', 'finally opening', 'following', 'following step', 'graphite', 'graphite material', 'graphite product', 'heated', 'heated boiling', 'heated product', 'heating', 'heating product', 'high', 'high temperature', 'hydraulic', 'hydraulic machine', 'immerse', 'immerse impregnating', 'impregnating', 'impregnating barrel', 'impregnating heating', 'impregnating inorganic', 'impregnating solution', 'impregnatingvacuum', 'impregnatingvacuum tank', 'impregnation', 'impregnation technology', 'increment', 'increment rate', 'inorganic', 'inorganic salt', 'introducing', 'introducing air', 'introducing impregnating', 'invention', 'invention problem', 'invention relates', 'jar', 'jar hydraulic', 'keeping', 'keeping vacuum', 'loss', 'loss ratio', 'lower', 'lower bell', 'lower percent', 'machine', 'machine sequentially', 'maintaining', 'maintaining pressure', 'material', 'material moisture', 'material specifically', 'moisture', 'moisture absorption', 'opening', 'opening vacuum', 'oven', 'oven putting', 'oxidation', 'oxidation carbon', 'oxidation resistance', 'oxidation weight', 'percent', 'percent density', 'percent treated', 'phenomenon', 'phenomenon air', 'pouring', 'pouring impregnating', 'preparation', 'preparation carbon', 'pressure', 'pressure pouring', 'pressure relieving', 'pressurizing', 'pressurizing impregnating', 'pressurizing maintaining', 'problem', 'problem high', 'product', 'product carrying', 'product curing', 'product drying', 'product immerse', 'product impregnating', 'product solved', 'product stainless', 'product technology', 'putting', 'putting heated', 'putting impregnating', 'putting product', 'rate', 'rate smaller', 'ratio', 'ratio lower', 'relates', 'relates field', 'relieving', 'relieving pressure', 'resistance', 'resistance carbon', 'salt', 'salt technology', 'sealing', 'sealing pressurizing', 'secondary', 'secondary impregnation', 'sequentially', 'sequentially sealing', 'situation', 'situation air', 'smaller', 'smaller percent', 'solution', 'solution finally', 'solution heated', 'solution taking', 'solved', 'solved situation', 'specifically', 'specifically discloses', 'stainless', 'stainless steel', 'state', 'state impregnatingvacuum', 'state introducing', 'steel', 'steel vacuum', 'step', 'step pressurizing', 'taking', 'taking product', 'tank', 'tank condition', 'tank taking', 'tank vacuumizing', 'technology', 'technology anti', 'technology comprises', 'technology disclosed', 'temperature', 'temperature 650', 'temperature oxidation', 'together', 'together heated', 'treated', 'treated material', 'vacuum', 'vacuum state', 'vacuum tank', 'vacuumizing', 'vacuumizing introducing', 'weight', 'weight loss']\n"
     ]
    },
    {
     "name": "stderr",
     "output_type": "stream",
     "text": [
      "C:\\Users\\HP\\anaconda3\\envs\\Pytorchgpu\\lib\\site-packages\\sklearn\\utils\\deprecation.py:87: FutureWarning: Function get_feature_names is deprecated; get_feature_names is deprecated in 1.0 and will be removed in 1.2. Please use get_feature_names_out instead.\n",
      "  warnings.warn(msg, category=FutureWarning)\n",
      "C:\\Users\\HP\\anaconda3\\envs\\Pytorchgpu\\lib\\site-packages\\sklearn\\utils\\deprecation.py:87: FutureWarning: Function get_feature_names is deprecated; get_feature_names is deprecated in 1.0 and will be removed in 1.2. Please use get_feature_names_out instead.\n",
      "  warnings.warn(msg, category=FutureWarning)\n",
      "C:\\Users\\HP\\anaconda3\\envs\\Pytorchgpu\\lib\\site-packages\\sklearn\\utils\\deprecation.py:87: FutureWarning: Function get_feature_names is deprecated; get_feature_names is deprecated in 1.0 and will be removed in 1.2. Please use get_feature_names_out instead.\n",
      "  warnings.warn(msg, category=FutureWarning)\n"
     ]
    },
    {
     "name": "stdout",
     "output_type": "stream",
     "text": [
      "['apparatus', 'apparatus including', 'asset', 'asset based', 'asset corresponding', 'asset deploying', 'asset generating', 'asset management', 'asset wherein', 'based', 'based one', 'blockchain', 'blockchain contract', 'blockchain wherein', 'characteristic', 'characteristic digital', 'comprises', 'comprises one', 'computer', 'computer program', 'computer storage', 'contract', 'contract blockchain', 'contract corresponding', 'contract executable', 'corresponding', 'corresponding tangible', 'creating', 'creating digital', 'deployed', 'deployed blockchain', 'deploying', 'deploying generated', 'digital', 'digital asset', 'encoded', 'encoded computer', 'executable', 'executable issue', 'generated', 'generated blockchain', 'generating', 'generating blockchain', 'includes', 'includes obtaining', 'including', 'including computer', 'issue', 'issue digital', 'management', 'management one', 'medium', 'medium digital', 'method', 'method includes', 'methods', 'methods system', 'obtaining', 'obtaining request', 'one', 'one characteristic', 'one method', 'program', 'program encoded', 'request', 'request comprises', 'request creating', 'storage', 'storage medium', 'system', 'system apparatus', 'tangible', 'tangible asset', 'wherein', 'wherein deployed', 'wherein request']\n",
      "['18f', '18f isoquinoline', '18f nh2', 'alkoxy', 'alkoxy group', 'alkyl', 'alkyl amido', 'alkyl group', 'allow', 'allow early', 'alzheimer', 'alzheimer disease', 'amido', 'amido group', 'application', 'application thereof', 'applied', 'applied positron', 'binding', 'binding capability', 'c1', 'c1 c4', 'c4', 'c4 alkoxy', 'c4 alkyl', 'capability', 'capability hyper', 'ch', 'ch ch', 'ch isoquinoline', 'ch2', 'ch2 nh', 'cn', 'cn oh', 'compound', 'compound applied', 'compound intermediate', 'compound present', 'developer', 'developer tau', 'diagnosis', 'diagnosis alzheimer', 'disclosed', 'disclosed isoquinoline', 'disease', 'disease tracking', 'drug', 'drug efficacy', 'early', 'early diagnosis', 'efficacy', 'emission', 'emission tomography', 'formula', 'formula wherein', 'good', 'good binding', 'group', 'group c1', 'group selected', 'hyper', 'hyper phosphorylated', 'imaging', 'imaging developer', 'independently', 'independently selected', 'intermediate', 'intermediate preparation', 'invention', 'invention good', 'invention structure', 'isoquinoline', 'isoquinoline compound', 'method', 'method application', 'nh', 'nh ch', 'nh2', 'nh2 no2', 'no2', 'no2 cn', 'no2 r3', 'oh', 'oh c1', 'one', 'one 18f', 'one ch2', 'one nh2', 'pet', 'pet imaging', 'phosphorylated', 'phosphorylated tau', 'positron', 'positron emission', 'preparation', 'preparation method', 'present', 'present invention', 'protein', 'protein allow', 'protein radiolabeled', 'r1', 'r1 r2', 'r2', 'r2 independently', 'r3', 'r3 r4', 'r4', 'r4 r5', 'r5', 'r5 independently', 'radiolabeled', 'radiolabeled 18f', 'represented', 'represented formula', 'selected', 'selected one', 'structure', 'structure represented', 'tau', 'tau protein', 'thereof', 'thereof isoquinoline', 'tomography', 'tomography pet', 'tracking', 'tracking drug', 'wherein', 'wherein r1']\n"
     ]
    },
    {
     "name": "stderr",
     "output_type": "stream",
     "text": [
      "C:\\Users\\HP\\anaconda3\\envs\\Pytorchgpu\\lib\\site-packages\\sklearn\\utils\\deprecation.py:87: FutureWarning: Function get_feature_names is deprecated; get_feature_names is deprecated in 1.0 and will be removed in 1.2. Please use get_feature_names_out instead.\n",
      "  warnings.warn(msg, category=FutureWarning)\n",
      "C:\\Users\\HP\\anaconda3\\envs\\Pytorchgpu\\lib\\site-packages\\sklearn\\utils\\deprecation.py:87: FutureWarning: Function get_feature_names is deprecated; get_feature_names is deprecated in 1.0 and will be removed in 1.2. Please use get_feature_names_out instead.\n",
      "  warnings.warn(msg, category=FutureWarning)\n",
      "C:\\Users\\HP\\anaconda3\\envs\\Pytorchgpu\\lib\\site-packages\\sklearn\\utils\\deprecation.py:87: FutureWarning: Function get_feature_names is deprecated; get_feature_names is deprecated in 1.0 and will be removed in 1.2. Please use get_feature_names_out instead.\n",
      "  warnings.warn(msg, category=FutureWarning)\n"
     ]
    },
    {
     "name": "stdout",
     "output_type": "stream",
     "text": [
      "['access', 'access process', 'according', 'according generated', 'according obtained', 'advance', 'advance ta', 'another', 'another ue', 'application', 'application comprises', 'application provides', 'application time', 'base', 'base station', 'broadcast', 'broadcast another', 'broadcasting', 'broadcasting generated', 'comprises', 'comprises generating', 'consumption', 'consumption reduced', 'continuing', 'continuing perform', 'data', 'data according', 'data successfully', 'data transmission', 'data unsuccessfully', 'delay', 'delay power', 'determining', 'determining according', 'executing', 'executing method', 'first', 'first random', 'generated', 'generated first', 'generated ta', 'generating', 'generating first', 'generating ta', 'initiate', 'initiate random', 'initiated', 'initiated listening', 'initiated obtaining', 'listening', 'listening ta', 'mean', 'mean method', 'mean random', 'message', 'message according', 'message broadcast', 'message mean', 'message transmitting', 'method', 'method method', 'method present', 'method user', 'number', 'number determining', 'number whether', 'obtained', 'obtained ta', 'obtaining', 'obtaining ta', 'obtaining timing', 'perform', 'perform uplink', 'power', 'power consumption', 'present', 'present application', 'process', 'process initiated', 'process random', 'provides', 'provides uplink', 'random', 'random access', 'random number', 'reduced', 'returning', 'returning generating', 'station', 'station mean', 'successfully', 'successfully transmitted', 'ta', 'ta message', 'ta value', 'terminal', 'terminal ue', 'time', 'time delay', 'timing', 'timing advance', 'transmission', 'transmission method', 'transmitted', 'transmitted continuing', 'transmitted returning', 'transmitting', 'transmitting uplink', 'ue', 'ue executing', 'ue obtaining', 'unsuccessfully', 'unsuccessfully transmitted', 'uplink', 'uplink data', 'user', 'user terminal', 'value', 'value base', 'value broadcasting', 'value ta', 'value uplink', 'whether', 'whether initiate']\n",
      "['according', 'according invention', 'accuratelycontrolling', 'accuratelycontrolling temperature', 'act', 'act within', 'alarm', 'alarm function', 'alarm release', 'alarm test', 'applicability', 'applicability solved', 'base', 'base accuratelycontrolling', 'base temperature', 'base utilizing', 'block', 'block temperature', 'boundary', 'boundary condition', 'carried', 'carried tested', 'comparison', 'comparison mode', 'condition', 'condition finally', 'data', 'data record', 'detection', 'detection device', 'detection method', 'device', 'device terminal', 'discloses', 'discloses terminal', 'duration', 'duration intelligent', 'electric', 'electric energy', 'energy', 'energy meter', 'error', 'error boundary', 'existing', 'existing intelligent', 'false', 'false alarm', 'finally', 'finally reliable', 'function', 'function detection', 'function guaranteed', 'function reliably', 'function tested', 'guaranteed', 'guaranteed technical', 'happens', 'happens function', 'historical', 'historical data', 'intelligent', 'intelligent electric', 'invention', 'invention discloses', 'invention temperature', 'limit', 'limit alarm', 'limit false', 'limit value', 'low', 'low applicability', 'medium', 'medium according', 'meter', 'meter terminal', 'method', 'method low', 'method terminal', 'misoperation', 'misoperation happens', 'mode', 'mode whether', 'operation', 'operation intelligent', 'preset', 'preset threshold', 'problem', 'problem existing', 'quantitatively', 'quantitatively tested', 'range', 'range quantitatively', 'record', 'record comparison', 'release', 'release test', 'reliable', 'reliable operation', 'reliably', 'reliably act', 'solved', 'stable', 'stable duration', 'technical', 'technical problem', 'temperature', 'temperature limit', 'terminal', 'terminal base', 'terminal block', 'terminal medium', 'test', 'test alarm', 'test carried', 'tested', 'tested intelligent', 'tested preset', 'tested whether', 'threshold', 'threshold value', 'utilizing', 'utilizing historical', 'value', 'value error', 'value range', 'value stable', 'whether', 'whether intelligent', 'whether misoperation', 'within', 'within preset']\n"
     ]
    },
    {
     "name": "stderr",
     "output_type": "stream",
     "text": [
      "C:\\Users\\HP\\anaconda3\\envs\\Pytorchgpu\\lib\\site-packages\\sklearn\\utils\\deprecation.py:87: FutureWarning: Function get_feature_names is deprecated; get_feature_names is deprecated in 1.0 and will be removed in 1.2. Please use get_feature_names_out instead.\n",
      "  warnings.warn(msg, category=FutureWarning)\n",
      "C:\\Users\\HP\\anaconda3\\envs\\Pytorchgpu\\lib\\site-packages\\sklearn\\utils\\deprecation.py:87: FutureWarning: Function get_feature_names is deprecated; get_feature_names is deprecated in 1.0 and will be removed in 1.2. Please use get_feature_names_out instead.\n",
      "  warnings.warn(msg, category=FutureWarning)\n",
      "C:\\Users\\HP\\anaconda3\\envs\\Pytorchgpu\\lib\\site-packages\\sklearn\\utils\\deprecation.py:87: FutureWarning: Function get_feature_names is deprecated; get_feature_names is deprecated in 1.0 and will be removed in 1.2. Please use get_feature_names_out instead.\n",
      "  warnings.warn(msg, category=FutureWarning)\n",
      "C:\\Users\\HP\\anaconda3\\envs\\Pytorchgpu\\lib\\site-packages\\sklearn\\utils\\deprecation.py:87: FutureWarning: Function get_feature_names is deprecated; get_feature_names is deprecated in 1.0 and will be removed in 1.2. Please use get_feature_names_out instead.\n",
      "  warnings.warn(msg, category=FutureWarning)\n",
      "C:\\Users\\HP\\anaconda3\\envs\\Pytorchgpu\\lib\\site-packages\\sklearn\\utils\\deprecation.py:87: FutureWarning: Function get_feature_names is deprecated; get_feature_names is deprecated in 1.0 and will be removed in 1.2. Please use get_feature_names_out instead.\n",
      "  warnings.warn(msg, category=FutureWarning)\n",
      "C:\\Users\\HP\\anaconda3\\envs\\Pytorchgpu\\lib\\site-packages\\sklearn\\utils\\deprecation.py:87: FutureWarning: Function get_feature_names is deprecated; get_feature_names is deprecated in 1.0 and will be removed in 1.2. Please use get_feature_names_out instead.\n",
      "  warnings.warn(msg, category=FutureWarning)\n"
     ]
    },
    {
     "name": "stdout",
     "output_type": "stream",
     "text": [
      "['applied', 'applied compressed', 'area', 'area liquid', 'cavity', 'cavity communicates', 'cavity wherein', 'characteristic', 'characteristic gas', 'closed', 'closed pressure', 'column', 'column pulse', 'communicates', 'communicates pulse', 'complexity', 'complexity system', 'compressed', 'compressed gas', 'compressor', 'compressor comprises', 'compressor expansion', 'compressor provided', 'comprises', 'comprises liquid', 'comprises pulse', 'direct', 'direct expansion', 'directly', 'directly used', 'discharged', 'discharged high', 'discharged liquid', 'enters', 'enters pulse', 'expanded', 'expanded pulse', 'expansion', 'expansion cavity', 'expansion compressor', 'expansion function', 'expansion liquid', 'expansion machine', 'expansion work', 'function', 'function applied', 'gas', 'gas column', 'gas expansion', 'high', 'high pressure', 'increased', 'increased steam', 'inlet', 'inlet valve', 'invention', 'invention relates', 'liquid', 'liquid discharged', 'liquid enters', 'liquid inlet', 'liquid outlet', 'liquid outletvalve', 'liquid refrigerant', 'liquid solved', 'low', 'low pressure', 'machine', 'machine technical', 'medium', 'medium vaporized', 'opened', 'opened high', 'opened low', 'opened steam', 'outlet', 'outlet valve', 'outletvalve', 'outletvalve opened', 'part', 'part working', 'pressure', 'pressure area', 'pressure increased', 'pressure liquid', 'pressure reduced', 'problem', 'problem direct', 'process', 'process comprises', 'provided', 'provided liquid', 'provided steam', 'pulse', 'pulse tube', 'pulse tubeis', 'reduced', 'reduced liquid', 'reduced part', 'refrigerant', 'refrigerant expanded', 'relates', 'relates expansion', 'simplified', 'solved', 'solved using', 'steam', 'steam discharged', 'steam outlet', 'system', 'system simplified', 'technical', 'technical problem', 'temperature', 'temperature reduced', 'tube', 'tube expansion', 'tube liquid', 'tube pulse', 'tubeis', 'tubeis provided', 'used', 'used complexity', 'using', 'using characteristic', 'valve', 'valve closed', 'valve expansion', 'valve liquid', 'valve opened', 'valve working', 'vaporized', 'vaporized temperature', 'wherein', 'wherein expansion', 'work', 'work directly', 'working', 'working medium', 'working process']\n",
      "['according', 'according brightness', 'according determined', 'acquired', 'acquired determining', 'acquiring', 'acquiring exposure', 'acquisition', 'acquisition next', 'adjust', 'adjust exposure', 'adjusting', 'adjusting acquisition', 'adjusting method', 'apparatus', 'apparatus vehicle', 'application', 'application image', 'application quickly', 'brightness', 'brightness region', 'command', 'command acquired', 'command region', 'comprises', 'comprises acquiring', 'critical', 'critical transmission', 'current', 'current image', 'determined', 'determined exposure', 'determining', 'determining brightness', 'determining exposure', 'disclosed', 'disclosed present', 'duration', 'duration gain', 'exposure', 'exposure command', 'exposure duration', 'exposure gain', 'gain', 'gain adjusting', 'gain image', 'gain next', 'image', 'image according', 'image adjusting', 'image determining', 'image exposure', 'image non', 'image present', 'imaging', 'imaging apparatus', 'interest', 'interest current', 'interest image', 'method', 'method comprises', 'method imaging', 'next', 'next image', 'non', 'non critical', 'period', 'period current', 'present', 'present application', 'quickly', 'quickly adjust', 'region', 'region interest', 'transmission', 'transmission period', 'vehicle', 'vehicle method']\n"
     ]
    },
    {
     "name": "stderr",
     "output_type": "stream",
     "text": [
      "C:\\Users\\HP\\anaconda3\\envs\\Pytorchgpu\\lib\\site-packages\\sklearn\\utils\\deprecation.py:87: FutureWarning: Function get_feature_names is deprecated; get_feature_names is deprecated in 1.0 and will be removed in 1.2. Please use get_feature_names_out instead.\n",
      "  warnings.warn(msg, category=FutureWarning)\n",
      "C:\\Users\\HP\\anaconda3\\envs\\Pytorchgpu\\lib\\site-packages\\sklearn\\utils\\deprecation.py:87: FutureWarning: Function get_feature_names is deprecated; get_feature_names is deprecated in 1.0 and will be removed in 1.2. Please use get_feature_names_out instead.\n",
      "  warnings.warn(msg, category=FutureWarning)\n"
     ]
    },
    {
     "name": "stdout",
     "output_type": "stream",
     "text": [
      "['accessed', 'accessed grid', 'according', 'according present', 'achieved', 'achieved considerable', 'adjacent', 'adjacent grid', 'another', 'another used', 'applied', 'applied liquid', 'applied tothe', 'array', 'array electrode', 'based', 'based liquid', 'beam', 'beam achieved', 'beam applied', 'beam set', 'beam wherein', 'bottom', 'bottom top', 'comprises', 'comprises substrate', 'connected', 'connected electrode', 'connected external', 'connected series', 'considerable', 'considerable modulation', 'control', 'control device', 'control terahertz', 'controlling', 'controlling external', 'crystal', 'crystal adjacent', 'crystal isorthogonal', 'crystal wavefront', 'crystal wire', 'device', 'device based', 'device comprises', 'dielectric', 'dielectric isolation', 'dielectric layer', 'direction', 'direction irradiates', 'direction terahertz', 'direction voltage', 'electrode', 'electrode connected', 'electrode independent', 'electrode interval', 'electrode super', 'electrode transmission', 'electromagnetic', 'electromagnetic beam', 'electromagnetic wave', 'external', 'external voltage', 'form', 'form interdigital', 'formed', 'formed pouring', 'frequency', 'frequency polarization', 'front', 'front phase', 'grid', 'grid according', 'grid connected', 'grid shaped', 'grid super', 'grid wire', 'independent', 'independent one', 'interdigital', 'interdigital array', 'interval', 'interval grid', 'invention', 'invention provides', 'invention voltage', 'irradiates', 'irradiates transmission', 'isolation', 'isolation layer', 'isorthogonal', 'isorthogonal transmission', 'layer', 'layer external', 'layer formed', 'layer sequentially', 'layer super', 'liquid', 'liquid crystal', 'meta', 'meta structure', 'meta structuresurface', 'mirror', 'mirror dielectric', 'modulation', 'modulation rate', 'one', 'one another', 'orthogonal', 'orthogonal transmission', 'phase', 'phase control', 'polarization', 'polarization direction', 'pouring', 'pouring liquid', 'present', 'present invention', 'provides', 'provides terahertz', 'rate', 'reflecting', 'reflecting mirror', 'respectively', 'respectively controlling', 'sequentially', 'sequentially stacked', 'series', 'series form', 'set', 'set frequency', 'shaped', 'shaped meta', 'stacked', 'stacked bottom', 'structure', 'structure layer', 'structure surface', 'structuresurface', 'structuresurface electrode', 'substrate', 'substrate reflecting', 'super', 'super structure', 'surface', 'surface direction', 'surface electrode', 'surface structure', 'surface terahertz', 'terahertz', 'terahertz electromagnetic', 'terahertz wave', 'top', 'top terahertz', 'tothe', 'tothe liquid', 'transmission', 'transmission dielectric', 'transmission direction', 'used', 'used respectively', 'voltage', 'voltage accessed', 'voltage applied', 'voltage connected', 'voltage grid', 'voltage orthogonal', 'wave', 'wave beam', 'wave front', 'wavefront', 'wavefront phase', 'wherein', 'wherein interval', 'wire', 'wire grid']\n"
     ]
    },
    {
     "name": "stderr",
     "output_type": "stream",
     "text": [
      "C:\\Users\\HP\\anaconda3\\envs\\Pytorchgpu\\lib\\site-packages\\sklearn\\utils\\deprecation.py:87: FutureWarning: Function get_feature_names is deprecated; get_feature_names is deprecated in 1.0 and will be removed in 1.2. Please use get_feature_names_out instead.\n",
      "  warnings.warn(msg, category=FutureWarning)\n",
      "C:\\Users\\HP\\anaconda3\\envs\\Pytorchgpu\\lib\\site-packages\\sklearn\\utils\\deprecation.py:87: FutureWarning: Function get_feature_names is deprecated; get_feature_names is deprecated in 1.0 and will be removed in 1.2. Please use get_feature_names_out instead.\n",
      "  warnings.warn(msg, category=FutureWarning)\n"
     ]
    },
    {
     "name": "stdout",
     "output_type": "stream",
     "text": [
      "['according', 'according concrete', 'aggregate', 'aggregate feeding', 'aggregate protective', 'aggregate separation', 'air', 'air pollution', 'arranged', 'arranged fixing', 'assembly', 'assembly comprises', 'assembly controller', 'avoided', 'avoided operation', 'avoided utilization', 'base', 'base separation', 'comprises', 'comprises base', 'comprises driving', 'comprises fixing', 'concrete', 'concrete aggregate', 'controller', 'controller used', 'controller wherein', 'cover', 'cover mounted', 'cover separation', 'cover weight', 'detecting', 'detecting real', 'device', 'device comprises', 'device separation', 'discharging', 'discharging end', 'discloses', 'discloses concrete', 'driving', 'driving mechanism', 'driving rod', 'dust', 'dust generated', 'end', 'end according', 'end obliquely', 'end stirring', 'feeding', 'feeding avoided', 'feeding mechanism', 'feeding stirring', 'fixing', 'fixing frame', 'frame', 'frame cover', 'frame discharging', 'frame lifting', 'frame separation', 'frame telescopic', 'frame used', 'generated', 'generated separation', 'guaranteed', 'guaranteed air', 'health', 'health operator', 'improved', 'improved manual', 'installed', 'installed fixing', 'invention', 'invention discloses', 'lifting', 'lifting frame', 'limiting', 'limiting pipe', 'manual', 'manual feeding', 'measuring', 'measuring mechanism', 'mechanism', 'mechanism arranged', 'mechanism feeding', 'mechanism lifting', 'mechanism limiting', 'mechanism stirring', 'mechanism used', 'method', 'method thereof', 'mounted', 'mounted lifting', 'obliquely', 'obliquely telescopic', 'operation', 'operation safety', 'operator', 'operator guaranteed', 'overflowing', 'overflowing operation', 'pipe', 'pipe driving', 'plate', 'plate plurality', 'platform', 'platform comprises', 'platform separation', 'plurality', 'plurality stirring', 'pollution', 'pollution avoided', 'positioning', 'positioning plate', 'pot', 'pot driving', 'pot installed', 'pot protective', 'pot weight', 'prevented', 'prevented overflowing', 'protective', 'protective cover', 'rate', 'rate aggregate', 'real', 'real time', 'rod', 'rod controller', 'rod positioning', 'safety', 'safety health', 'safety improved', 'separating', 'separating concrete', 'separating pot', 'separating separating', 'separation', 'separation device', 'separation improved', 'separation method', 'separation platform', 'separation pot', 'separation prevented', 'stirring', 'stirring assembly', 'stirring rod', 'stirring separating', 'telescopic', 'telescopic end', 'thereof', 'thereof device', 'thereof dust', 'time', 'time weight', 'used', 'used detecting', 'used feeding', 'used separating', 'utilization', 'utilization rate', 'weight', 'weight concrete', 'weight measuring', 'wherein', 'wherein separation']\n"
     ]
    },
    {
     "name": "stderr",
     "output_type": "stream",
     "text": [
      "C:\\Users\\HP\\anaconda3\\envs\\Pytorchgpu\\lib\\site-packages\\sklearn\\utils\\deprecation.py:87: FutureWarning: Function get_feature_names is deprecated; get_feature_names is deprecated in 1.0 and will be removed in 1.2. Please use get_feature_names_out instead.\n",
      "  warnings.warn(msg, category=FutureWarning)\n",
      "C:\\Users\\HP\\anaconda3\\envs\\Pytorchgpu\\lib\\site-packages\\sklearn\\utils\\deprecation.py:87: FutureWarning: Function get_feature_names is deprecated; get_feature_names is deprecated in 1.0 and will be removed in 1.2. Please use get_feature_names_out instead.\n",
      "  warnings.warn(msg, category=FutureWarning)\n"
     ]
    },
    {
     "name": "stdout",
     "output_type": "stream",
     "text": [
      "['acid', 'acid improved', 'acid poly', 'adopting', 'adopting application', 'also', 'also improved', 'andeconomic', 'andeconomic value', 'animal', 'animal husbandry', 'application', 'application cornu', 'application problem', 'applied', 'applied daily', 'benefit', 'benefit milk', 'breeding', 'breeding economic', 'byproduct', 'byproduct solved', 'chain', 'chain fatty', 'combination', 'combination win', 'comprises', 'comprises milk', 'cooperation', 'cooperation prospect', 'cornu', 'cornu officinalis', 'daily', 'daily feed', 'discloses', 'discloses application', 'discovered', 'discovered favorable', 'economic', 'economic benefit', 'effectively', 'effectively improved', 'enlarged', 'enlarged reasonable', 'fatty', 'fatty acid', 'favorable', 'favorable influence', 'feed', 'feed thegoat', 'firstly', 'firstly discovered', 'goat', 'goat also', 'goat cornu', 'goat effectively', 'goat improved', 'goat milk', 'goat use', 'good', 'husbandry', 'husbandry enlarged', 'husbandry realized', 'improved', 'improved adopting', 'improved breeding', 'improved milk', 'improved ratio', 'improvement', 'improvement milk', 'industry', 'industry animal', 'influence', 'influence milk', 'ingredient', 'ingredient cornu', 'invention', 'invention discloses', 'kernel', 'kernel animal', 'kernel applied', 'kernel byproduct', 'kernel improvement', 'medium', 'medium chain', 'milk', 'milk goat', 'milk ingredient', 'milk production', 'milk quality', 'milk yield', 'officinalis', 'officinalis firstly', 'officinalis kernel', 'performance', 'performance comprises', 'performance milk', 'planting', 'planting industry', 'poly', 'poly unsaturated', 'problem', 'problem waste', 'production', 'production performance', 'prospect', 'prospect planting', 'quality', 'quality improved', 'ratio', 'ratio medium', 'realized', 'realized social', 'reasonable', 'reasonable combination', 'social', 'social andeconomic', 'solved', 'solved milk', 'thegoat', 'thegoat milk', 'unsaturated', 'unsaturated fatty', 'use', 'use cornu', 'value', 'value good', 'waste', 'waste cornu', 'win', 'win cooperation', 'win win', 'yield', 'yield milk']\n",
      "['additionally', 'additionally includes', 'air', 'air generate', 'along', 'along axial', 'assembly', 'assembly gas', 'attached', 'attached forward', 'attached frame', 'axial', 'axial centerline', 'cascade', 'cascade segment', 'centerline', 'centerline relative', 'changing', 'changing direction', 'direction', 'direction flow', 'engine', 'engine includes', 'first', 'first position', 'flow', 'flow air', 'forward', 'forward ring', 'frame', 'frame member', 'gas', 'gas turbine', 'generate', 'generate reverse', 'includes', 'includes cascade', 'includes frame', 'incorporation', 'incorporation nacelle', 'inner', 'inner position', 'member', 'member forward', 'member rotatably', 'movable', 'movable along', 'movable first', 'nacelle', 'nacelle assembly', 'outer', 'outer position', 'position', 'position cascade', 'position changing', 'position forward', 'position second', 'position thrust', 'radially', 'radially inner', 'radially outer', 'relative', 'relative frame', 'reverse', 'reverse thrust', 'reverser', 'reverser system', 'ring', 'ring first', 'ring forward', 'ring movable', 'ring second', 'rotatably', 'rotatably attached', 'second', 'second position', 'segment', 'segment radially', 'segment slidably', 'slidably', 'slidably attached', 'system', 'system additionally', 'system incorporation', 'thrust', 'thrust reverser', 'turbine', 'turbine engine']\n"
     ]
    },
    {
     "name": "stderr",
     "output_type": "stream",
     "text": [
      "C:\\Users\\HP\\anaconda3\\envs\\Pytorchgpu\\lib\\site-packages\\sklearn\\utils\\deprecation.py:87: FutureWarning: Function get_feature_names is deprecated; get_feature_names is deprecated in 1.0 and will be removed in 1.2. Please use get_feature_names_out instead.\n",
      "  warnings.warn(msg, category=FutureWarning)\n",
      "C:\\Users\\HP\\anaconda3\\envs\\Pytorchgpu\\lib\\site-packages\\sklearn\\utils\\deprecation.py:87: FutureWarning: Function get_feature_names is deprecated; get_feature_names is deprecated in 1.0 and will be removed in 1.2. Please use get_feature_names_out instead.\n",
      "  warnings.warn(msg, category=FutureWarning)\n",
      "C:\\Users\\HP\\anaconda3\\envs\\Pytorchgpu\\lib\\site-packages\\sklearn\\utils\\deprecation.py:87: FutureWarning: Function get_feature_names is deprecated; get_feature_names is deprecated in 1.0 and will be removed in 1.2. Please use get_feature_names_out instead.\n",
      "  warnings.warn(msg, category=FutureWarning)\n",
      "C:\\Users\\HP\\anaconda3\\envs\\Pytorchgpu\\lib\\site-packages\\sklearn\\utils\\deprecation.py:87: FutureWarning: Function get_feature_names is deprecated; get_feature_names is deprecated in 1.0 and will be removed in 1.2. Please use get_feature_names_out instead.\n",
      "  warnings.warn(msg, category=FutureWarning)\n",
      "C:\\Users\\HP\\anaconda3\\envs\\Pytorchgpu\\lib\\site-packages\\sklearn\\utils\\deprecation.py:87: FutureWarning: Function get_feature_names is deprecated; get_feature_names is deprecated in 1.0 and will be removed in 1.2. Please use get_feature_names_out instead.\n",
      "  warnings.warn(msg, category=FutureWarning)\n",
      "C:\\Users\\HP\\anaconda3\\envs\\Pytorchgpu\\lib\\site-packages\\sklearn\\utils\\deprecation.py:87: FutureWarning: Function get_feature_names is deprecated; get_feature_names is deprecated in 1.0 and will be removed in 1.2. Please use get_feature_names_out instead.\n",
      "  warnings.warn(msg, category=FutureWarning)\n"
     ]
    },
    {
     "name": "stdout",
     "output_type": "stream",
     "text": [
      "['adjusted', 'adjusted premise', 'adopted', 'adopted cooling', 'adopted reverse', 'amount', 'amount adjusted', 'avoid', 'avoid temperature', 'back', 'back starting', 'common', 'common conveying', 'comprises', 'comprises superconductive', 'connected', 'connected liquid', 'connected withthe', 'connection', 'connection lng', 'connection one', 'connection refrigeration', 'control', 'control system', 'conveyed', 'conveyed back', 'conveyed lng', 'conveying', 'conveying amount', 'conveying common', 'conveying pipeline', 'conveying process', 'cooled', 'cooled lng', 'cooling', 'cooling finally', 'demand', 'demand quantityis', 'electric', 'electric power', 'end', 'end one', 'end superconductive', 'energy', 'energy pipeline', 'entering', 'entering liquid', 'enters', 'enters heat', 'enters liquid', 'excessive', 'excessive lng', 'exchange', 'exchange immersed', 'exchanger', 'exchanger connected', 'exchanger pipeline', 'exchanger subjected', 'finally', 'finally reversely', 'heat', 'heat exchange', 'heat exchanger', 'immersed', 'immersed pump', 'inthe', 'inthe conveying', 'invention', 'invention provides', 'large', 'large mixed', 'liquid', 'liquid storage', 'lng', 'lng conveying', 'lng demand', 'lng enters', 'lng immersed', 'lng reversely', 'medium', 'medium refrigerator', 'mixed', 'mixed working', 'normally', 'normally conveyed', 'one', 'one end', 'one liquid', 'operation', 'operation control', 'order', 'order avoid', 'pipeline', 'pipeline adopted', 'pipeline connection', 'pipeline liquid', 'pipeline lng', 'pipeline operation', 'pipeline order', 'point', 'point pipeline', 'power', 'power normally', 'premise', 'premise electric', 'process', 'process large', 'provides', 'provides operation', 'pump', 'pump entering', 'pump heat', 'pump pipeline', 'quantityis', 'quantityis reduced', 'reduced', 'reduced excessive', 'refrigeration', 'refrigeration unit', 'refrigerator', 'refrigerator adopted', 'reverse', 'reverse conveying', 'reversely', 'reversely conveyed', 'rise', 'rise inthe', 'starting', 'starting point', 'storage', 'storage tank', 'subjected', 'subjected heat', 'superconductive', 'superconductive energy', 'system', 'system comprises', 'system superconductive', 'tank', 'tank connected', 'tank cooled', 'tank lng', 'tank pipeline', 'tank refrigeration', 'temperature', 'temperature rise', 'two', 'two end', 'unit', 'unit heat', 'unit pipeline', 'withthe', 'withthe two', 'working', 'working medium']\n",
      "['adjustable', 'adjustable buffer', 'adjusting', 'adjusting type', 'area', 'area different', 'area multi', 'arranged', 'arranged frame', 'body', 'body adjusting', 'body braking', 'body emergency', 'body extruding', 'body protecting', 'braking', 'braking mechanism', 'buffer', 'buffer effect', 'buffer wheel', 'comprises', 'comprises frame', 'condition', 'condition good', 'convenient', 'convenient use', 'device', 'device buffer', 'device comprises', 'device good', 'device mountainous', 'device safety', 'device specifically', 'different', 'different road', 'effect', 'effect adjustable', 'effect suitable', 'emergency', 'emergency braking', 'extruding', 'extruding mechanism', 'frame', 'frame body', 'functional', 'functional transporting', 'good', 'good device', 'invention', 'invention relates', 'life', 'life convenient', 'long', 'long service', 'mechanism', 'mechanism arranged', 'mechanism braking', 'mechanism emergency', 'mechanism extruding', 'mechanism multi', 'mountainous', 'mountainous area', 'multi', 'multi functional', 'protecting', 'protecting mechanism', 'relates', 'relates multi', 'relates transporting', 'road', 'road condition', 'safety', 'safety long', 'service', 'service life', 'specifically', 'specifically relates', 'suitable', 'suitable mountainous', 'transporting', 'transporting device', 'type', 'type buffer', 'use', 'use adjusting', 'wheel', 'wheel arranged', 'wheel protecting']\n"
     ]
    },
    {
     "name": "stderr",
     "output_type": "stream",
     "text": [
      "C:\\Users\\HP\\anaconda3\\envs\\Pytorchgpu\\lib\\site-packages\\sklearn\\utils\\deprecation.py:87: FutureWarning: Function get_feature_names is deprecated; get_feature_names is deprecated in 1.0 and will be removed in 1.2. Please use get_feature_names_out instead.\n",
      "  warnings.warn(msg, category=FutureWarning)\n",
      "C:\\Users\\HP\\anaconda3\\envs\\Pytorchgpu\\lib\\site-packages\\sklearn\\utils\\deprecation.py:87: FutureWarning: Function get_feature_names is deprecated; get_feature_names is deprecated in 1.0 and will be removed in 1.2. Please use get_feature_names_out instead.\n",
      "  warnings.warn(msg, category=FutureWarning)\n"
     ]
    },
    {
     "name": "stdout",
     "output_type": "stream",
     "text": [
      "['11', '11 identifies', '11 thickness', '12', '12 13', '13', '13 opposite', '30', '30 comprising', '30 housed', '30 support', '31', '31 predetermined', '32', '32 wound', '40', '40 first', '90', '90 90', '90 coercive', '90 generates', '90 plurality', 'anchoring', 'anchoring ferrous', 'apparatus', 'apparatus first', 'apparatus magnetically', 'characteristic', 'characteristic apparatus', 'coercive', 'coercive value', 'coil', 'coil 30', 'comprising', 'comprising coil', 'comprising support', 'conductive', 'conductive element', 'core', 'core 40', 'core 90', 'different', 'different direction', 'different said', 'direction', 'direction different', 'direction parallel', 'direction plurality', 'direction respect', 'direction said', 'direction second', 'disclosure', 'disclosure relates', 'electric', 'electric conductive', 'element', 'element 32', 'element comprising', 'extension', 'extension said', 'ferrous', 'ferrous element', 'first', 'first coercive', 'first magnetic', 'first part', 'first second', 'flow', 'flow oriented', 'generates', 'generates second', 'generates third', 'generating', 'generating first', 'greatest', 'greatest extension', 'housed', 'housed said', 'identifies', 'identifies first', 'magnetic', 'magnetic apparatus', 'magnetic core', 'magnetic direction', 'magnetic flow', 'magnetically', 'magnetically anchoring', 'opposite', 'opposite surface', 'oriented', 'oriented first', 'oriented second', 'oriented third', 'parallel', 'parallel said', 'part', 'part 90', 'plurality', 'plurality polar', 'plurality second', 'polar', 'polar unit', 'predetermined', 'predetermined profile', 'present', 'present disclosure', 'profile', 'profile electric', 'relates', 'relates magnetic', 'respect', 'respect said', 'said', 'said first', 'said plurality', 'said second', 'said support', 'said third', 'second', 'second magnetic', 'second part', 'second side', 'side', 'side 12', 'structure', 'structure 11', 'support', 'support 31', 'support first', 'support structure', 'surface', 'surface greatest', 'thickness', 'thickness plurality', 'third', 'third magnetic', 'unit', 'unit 30', 'value', 'value characteristic', 'value different', 'value generating', 'wound', 'wound said']\n",
      "['acquisition', 'acquisition time', 'audio', 'audio data', 'based', 'based group', 'carrying', 'carrying segmentation', 'collecting', 'collecting video', 'combining', 'combining image', 'comprises', 'comprises image', 'comprises step', 'condition', 'condition determining', 'condition ornot', 'content', 'content unfamiliar', 'corresponding', 'corresponding group', 'data', 'data acquisition', 'data audio', 'data comprises', 'data group', 'data judging', 'data least', 'data meet', 'data processing', 'data respectively', 'data satisfies', 'data subjected', 'data user', 'data wherein', 'determined', 'determined corresponding', 'determining', 'determining content', 'device', 'device storage', 'discloses', 'discloses data', 'embodiment', 'embodiment invention', 'first', 'first preset', 'group', 'group data', 'image', 'image data', 'invention', 'invention discloses', 'judging', 'judging whether', 'least', 'least two', 'medium', 'medium method', 'meet', 'meet first', 'method', 'method comprises', 'method device', 'obtain', 'obtain least', 'ornot', 'ornot determined', 'preset', 'preset condition', 'processing', 'processing image', 'processing method', 'processing obtain', 'recitation', 'recitation carrying', 'respectively', 'respectively combining', 'satisfies', 'satisfies first', 'segmentation', 'segmentation processing', 'step', 'step collecting', 'storage', 'storage medium', 'subjected', 'subjected segmentation', 'time', 'time corresponding', 'two', 'two group', 'unfamiliar', 'unfamiliar user', 'user', 'user based', 'user recitation', 'video', 'video data', 'wherein', 'wherein video', 'whether', 'whether corresponding']\n"
     ]
    },
    {
     "name": "stderr",
     "output_type": "stream",
     "text": [
      "C:\\Users\\HP\\anaconda3\\envs\\Pytorchgpu\\lib\\site-packages\\sklearn\\utils\\deprecation.py:87: FutureWarning: Function get_feature_names is deprecated; get_feature_names is deprecated in 1.0 and will be removed in 1.2. Please use get_feature_names_out instead.\n",
      "  warnings.warn(msg, category=FutureWarning)\n",
      "C:\\Users\\HP\\anaconda3\\envs\\Pytorchgpu\\lib\\site-packages\\sklearn\\utils\\deprecation.py:87: FutureWarning: Function get_feature_names is deprecated; get_feature_names is deprecated in 1.0 and will be removed in 1.2. Please use get_feature_names_out instead.\n",
      "  warnings.warn(msg, category=FutureWarning)\n",
      "C:\\Users\\HP\\anaconda3\\envs\\Pytorchgpu\\lib\\site-packages\\sklearn\\utils\\deprecation.py:87: FutureWarning: Function get_feature_names is deprecated; get_feature_names is deprecated in 1.0 and will be removed in 1.2. Please use get_feature_names_out instead.\n",
      "  warnings.warn(msg, category=FutureWarning)\n",
      "C:\\Users\\HP\\anaconda3\\envs\\Pytorchgpu\\lib\\site-packages\\sklearn\\utils\\deprecation.py:87: FutureWarning: Function get_feature_names is deprecated; get_feature_names is deprecated in 1.0 and will be removed in 1.2. Please use get_feature_names_out instead.\n",
      "  warnings.warn(msg, category=FutureWarning)\n",
      "C:\\Users\\HP\\anaconda3\\envs\\Pytorchgpu\\lib\\site-packages\\sklearn\\utils\\deprecation.py:87: FutureWarning: Function get_feature_names is deprecated; get_feature_names is deprecated in 1.0 and will be removed in 1.2. Please use get_feature_names_out instead.\n",
      "  warnings.warn(msg, category=FutureWarning)\n",
      "C:\\Users\\HP\\anaconda3\\envs\\Pytorchgpu\\lib\\site-packages\\sklearn\\utils\\deprecation.py:87: FutureWarning: Function get_feature_names is deprecated; get_feature_names is deprecated in 1.0 and will be removed in 1.2. Please use get_feature_names_out instead.\n",
      "  warnings.warn(msg, category=FutureWarning)\n"
     ]
    },
    {
     "name": "stdout",
     "output_type": "stream",
     "text": [
      "['250', '250 mm', '260', '260 mm', '280', '280 mm', '310', '310 mm', '640', '640 mm', '660', '660 mm', '700', '700 mm', '750', '750 mm', 'battery', 'battery least', 'comprising', 'comprising generating', 'connected', 'connected series', 'consisting', 'consisting reciprocating', 'coupled', 'coupled least', 'depth', 'depth extending', 'depth maximum', 'direction', 'direction vehicle', 'drive', 'drive vehicle', 'driven', 'driven reciprocating', 'driving', 'driving wheel', 'electric', 'electric motor', 'engine', 'engine battery', 'engine generator', 'especially', 'especially maximum', 'extending', 'extending longitudinal', 'extending transversely', 'generating', 'generating set', 'generator', 'generator depth', 'generator driven', 'generator electric', 'hybrid', 'hybrid vehicle', 'invention', 'invention relates', 'least', 'least one', 'longitudinal', 'longitudinal direction', 'maximum', 'maximum 250', 'maximum 260', 'maximum 280', 'maximum 310', 'maximum 640', 'maximum 660', 'maximum 700', 'maximum 750', 'mechanically', 'mechanically coupled', 'mm', 'mm depth', 'mm especially', 'mm particular', 'motor', 'motor mechanically', 'motor reciprocating', 'motor vehicle', 'multi', 'multi track', 'one', 'one driving', 'one electric', 'one generator', 'order', 'order drive', 'particular', 'particular hybrid', 'particular maximum', 'passenger', 'passenger motor', 'piston', 'piston engine', 'reciprocating', 'reciprocating piston', 'relates', 'relates multi', 'series', 'series order', 'set', 'set consisting', 'set least', 'track', 'track passenger', 'transversely', 'transversely longitudinal', 'vehicle', 'vehicle comprising', 'vehicle connected', 'vehicle generating', 'vehicle particular', 'vehicle width', 'wheel', 'wheel vehicle', 'width', 'width extending', 'width maximum']\n",
      "['achieved', 'achieving', 'achieving automatic', 'automatic', 'automatic overturning', 'automatically', 'automatically overturned', 'automation', 'automation degree', 'block', 'block move', 'blockto', 'blockto intermittently', 'box', 'box processing', 'capable', 'capable achieving', 'compared', 'compared traditional', 'comprises', 'comprises fixing', 'connected', 'connected inner', 'connecting', 'connecting rod', 'conveniently', 'conveniently printed', 'cost', 'cost greatly', 'degree', 'degree achieved', 'degree material', 'degree provide', 'different', 'different pattern', 'disc', 'disc drive', 'discloses', 'discloses hard', 'drive', 'drive non', 'efficiency', 'efficiency higher', 'eighty', 'eighty degree', 'enable', 'enable first', 'enable inner', 'enable movable', 'equipment', 'equipment capable', 'equipment comprises', 'equipment printing', 'equipment reduced', 'field', 'field packaging', 'first', 'first printing', 'fixing', 'fixing ring', 'full', 'full gear', 'gear', 'gear intermittently', 'greatly', 'greatly reduced', 'hard', 'hard packaging', 'higher', 'higher automation', 'higher rotary', 'hundred', 'hundred eighty', 'inner', 'inner plate', 'inner side', 'intermittently', 'intermittently reciprocally', 'intermittently rotate', 'invention', 'invention relates', 'material', 'material automatically', 'material outer', 'material rotary', 'material side', 'materialsare', 'materialsare conveniently', 'meanwhile', 'meanwhile position', 'mechanism', 'mechanism outer', 'mechanism second', 'mechanism transposed', 'movable', 'movable blockto', 'movably', 'movably connected', 'move', 'move rightwards', 'non', 'non full', 'one', 'one hundred', 'operation', 'operation material', 'operation slide', 'outer', 'outer side', 'overturn', 'overturn one', 'overturned', 'overturned material', 'overturned materialsare', 'overturning', 'overturning operation', 'overturning printing', 'packaging', 'packaging box', 'packaging discloses', 'pattern', 'pattern printed', 'pattern two', 'plate', 'plate overturn', 'plate rotates', 'plate synchronously', 'position', 'position printing', 'power', 'power source', 'print', 'print material', 'printed', 'printed two', 'printing', 'printing cost', 'printing different', 'printing equipment', 'printing mechanism', 'printing operation', 'processing', 'processing equipment', 'provide', 'provide power', 'reciprocally', 'reciprocally rotate', 'reduced', 'reduced size', 'reduced working', 'relates', 'relates technical', 'rightwards', 'rightwards enable', 'ring', 'ring rotary', 'ring wherein', 'rod', 'rod movably', 'rod print', 'rod rotates', 'rotary', 'rotary disc', 'rotary plate', 'rotary rod', 'rotate', 'rotate one', 'rotate provide', 'rotates', 'rotates enable', 'second', 'second printing', 'side', 'side compared', 'side connecting', 'side fixing', 'side hard', 'side higher', 'side inner', 'side meanwhile', 'size', 'size equipment', 'slide', 'slide block', 'source', 'source subsequent', 'subsequent', 'subsequent overturning', 'subsequent printing', 'synchronously', 'synchronously overturned', 'technical', 'technical field', 'traditional', 'traditional printing', 'transposed', 'transposed different', 'two', 'two side', 'wherein', 'wherein rotary', 'working', 'working efficiency']\n"
     ]
    },
    {
     "name": "stderr",
     "output_type": "stream",
     "text": [
      "C:\\Users\\HP\\anaconda3\\envs\\Pytorchgpu\\lib\\site-packages\\sklearn\\utils\\deprecation.py:87: FutureWarning: Function get_feature_names is deprecated; get_feature_names is deprecated in 1.0 and will be removed in 1.2. Please use get_feature_names_out instead.\n",
      "  warnings.warn(msg, category=FutureWarning)\n",
      "C:\\Users\\HP\\anaconda3\\envs\\Pytorchgpu\\lib\\site-packages\\sklearn\\utils\\deprecation.py:87: FutureWarning: Function get_feature_names is deprecated; get_feature_names is deprecated in 1.0 and will be removed in 1.2. Please use get_feature_names_out instead.\n",
      "  warnings.warn(msg, category=FutureWarning)\n",
      "C:\\Users\\HP\\anaconda3\\envs\\Pytorchgpu\\lib\\site-packages\\sklearn\\utils\\deprecation.py:87: FutureWarning: Function get_feature_names is deprecated; get_feature_names is deprecated in 1.0 and will be removed in 1.2. Please use get_feature_names_out instead.\n",
      "  warnings.warn(msg, category=FutureWarning)\n",
      "C:\\Users\\HP\\anaconda3\\envs\\Pytorchgpu\\lib\\site-packages\\sklearn\\utils\\deprecation.py:87: FutureWarning: Function get_feature_names is deprecated; get_feature_names is deprecated in 1.0 and will be removed in 1.2. Please use get_feature_names_out instead.\n",
      "  warnings.warn(msg, category=FutureWarning)\n"
     ]
    },
    {
     "name": "stdout",
     "output_type": "stream",
     "text": [
      "['550', '550 nm', 'angle', 'base', 'base concave', 'close', 'close gap', 'closing', 'closing layer', 'coated', 'coated coating', 'coating', 'coating concave', 'coating layer', 'component', 'component includes', 'component phase', 'concave', 'concave convex', 'concave portion', 'connect', 'connect top', 'convex', 'convex pattern', 'convex portion', 'defined', 'defined convex', 'difference', 'difference component', 'difference property', 'dispersion', 'dispersion wide', 'equal', 'equal optical', 'gap', 'gap defined', 'gap refractive', 'includes', 'includes transparent', 'index', 'index coating', 'index convex', 'layer', 'layer closing', 'layer coating', 'layer provided', 'layer wavelength', 'le', 'le equal', 'nm', 'nm satisfy', 'optical', 'optical phase', 'pattern', 'pattern close', 'pattern coated', 'pattern concave', 'pattern connect', 'pattern gap', 'phase', 'phase difference', 'portion', 'portion coating', 'portion concave', 'portion convex', 'portion refractive', 'property', 'property reverse', 'provided', 'provided concave', 'refractive', 'refractive index', 'reverse', 'reverse dispersion', 'satisfy', 'satisfy le', 'top', 'top convex', 'transparent', 'transparent base', 'viewing', 'viewing angle', 'wavelength', 'wavelength 550', 'wide', 'wide viewing']\n",
      "['disclosed', 'disclosed herein', 'electrochemical', 'electrochemical oxidation', 'electrochemically', 'electrochemically oxidizing', 'embodiment', 'embodiment oxyhalogenation', 'halide', 'halide metal', 'halogenating', 'halogenating unsaturated', 'halogenation', 'herein', 'herein method', 'higher', 'higher oxidation', 'hydrocarbon', 'hydrocarbon metal', 'hydrocarbon saturated', 'ion', 'ion higher', 'ion lower', 'lower', 'lower oxidation', 'metal', 'metal halide', 'metal ion', 'method', 'method system', 'oxidant', 'oxidant embodiment', 'oxidation', 'oxidation electrochemical', 'oxidation oxyhalogenation', 'oxidation series', 'oxidation state', 'oxidizing', 'oxidizing metal', 'oxyhalogenating', 'oxyhalogenating metal', 'oxyhalogenation', 'oxyhalogenation oxyhalogenation', 'oxyhalogenation parallel', 'oxyhalogenation series', 'oxyhalogenation simultaneous', 'parallel', 'parallel electrochemical', 'presence', 'presence oxidant', 'relate', 'relate electrochemically', 'saturated', 'saturated hydrocarbon', 'series', 'series electrochemical', 'series oxyhalogenation', 'simultaneous', 'simultaneous halogenation', 'state', 'state halogenating', 'state higher', 'state oxyhalogenating', 'state presence', 'system', 'system relate', 'unsaturated', 'unsaturated hydrocarbon']\n"
     ]
    },
    {
     "name": "stderr",
     "output_type": "stream",
     "text": [
      "C:\\Users\\HP\\anaconda3\\envs\\Pytorchgpu\\lib\\site-packages\\sklearn\\utils\\deprecation.py:87: FutureWarning: Function get_feature_names is deprecated; get_feature_names is deprecated in 1.0 and will be removed in 1.2. Please use get_feature_names_out instead.\n",
      "  warnings.warn(msg, category=FutureWarning)\n",
      "C:\\Users\\HP\\anaconda3\\envs\\Pytorchgpu\\lib\\site-packages\\sklearn\\utils\\deprecation.py:87: FutureWarning: Function get_feature_names is deprecated; get_feature_names is deprecated in 1.0 and will be removed in 1.2. Please use get_feature_names_out instead.\n",
      "  warnings.warn(msg, category=FutureWarning)\n",
      "C:\\Users\\HP\\anaconda3\\envs\\Pytorchgpu\\lib\\site-packages\\sklearn\\utils\\deprecation.py:87: FutureWarning: Function get_feature_names is deprecated; get_feature_names is deprecated in 1.0 and will be removed in 1.2. Please use get_feature_names_out instead.\n",
      "  warnings.warn(msg, category=FutureWarning)\n"
     ]
    },
    {
     "name": "stdout",
     "output_type": "stream",
     "text": [
      "['achieve', 'achieve switching', 'air', 'air blown', 'air outlet', 'airoutlet', 'airoutlet heat', 'application', 'application process', 'applied', 'applied application', 'avoiding', 'avoiding notch', 'blocked', 'blocked air', 'blocking', 'blocking airoutlet', 'blown', 'blown air', 'body', 'body achieve', 'body air', 'body corresponds', 'body first', 'body move', 'body provided', 'body second', 'body working', 'caused', 'caused blocking', 'closed', 'closed state', 'comprises', 'comprises first', 'corresponds', 'corresponds position', 'dissipation', 'dissipation air', 'dissipation efficiency', 'dissipation module', 'dissipation theheat', 'efficiency', 'efficiency improved', 'electronic', 'electronic equipment', 'equipment', 'equipment comprises', 'first', 'first body', 'heat', 'heat dissipation', 'improved', 'invention', 'invention provides', 'method', 'method applied', 'module', 'module air', 'module second', 'moment', 'moment receding', 'move', 'move relative', 'notch', 'notch corresponds', 'notch second', 'notch therefore', 'outlet', 'outlet application', 'outlet blocked', 'outlet first', 'outlet heat', 'outlet penetrate', 'outlet solved', 'penetrate', 'penetrate receding', 'position', 'position air', 'problem', 'problem caused', 'process', 'process method', 'process secondbody', 'provided', 'provided avoiding', 'provided heat', 'provides', 'provides electronic', 'receding', 'receding notch', 'relative', 'relative first', 'second', 'second body', 'secondbody', 'secondbody move', 'solved', 'solved heat', 'state', 'state avoiding', 'state closed', 'state moment', 'state second', 'switching', 'switching working', 'theheat', 'theheat dissipation', 'therefore', 'therefore problem', 'working', 'working state']\n",
      "['air', 'air cylinder', 'anti', 'anti sticking', 'arefixedly', 'arefixedly connected', 'arranged', 'arranged first', 'assembly', 'assembly enabling', 'base', 'base pair', 'base slicing', 'belt', 'belt correspondingly', 'belt fixedly', 'belt machine', 'belt provided', 'belt wherein', 'cake', 'cake cutting', 'close', 'close discharging', 'close slicing', 'comprises', 'comprises conveying', 'connected', 'connected anti', 'connected cutter', 'connected lower', 'connected position', 'connected support', 'connected upper', 'connected vertically', 'conveying', 'conveying belt', 'correspondingly', 'correspondingly second', 'cutter', 'cutter base', 'cutter fall', 'cutter fixedly', 'cutter much', 'cutter second', 'cutting', 'cutting machine', 'cylinder', 'cylinder penetrates', 'cylinder piston', 'discharging', 'discharging port', 'donkey', 'donkey hide', 'effect', 'effect preventing', 'enabling', 'enabling donkey', 'fall', 'fall upper', 'feeding', 'feeding port', 'field', 'field donkey', 'first', 'first air', 'first supporting', 'fixedly', 'fixedly connected', 'frame', 'frame fixedly', 'frame upper', 'function', 'function machine', 'gelatin', 'gelatin cake', 'gelatin processing', 'gelatin sheet', 'hide', 'hide gelatin', 'invention', 'invention relates', 'lower', 'lower surface', 'machine', 'machine anti', 'machine comprises', 'machine effect', 'much', 'much possible', 'ofthe', 'ofthe slicing', 'one', 'one side', 'pair', 'pair vertically', 'particular', 'particular donkey', 'penetrates', 'penetrates support', 'piston', 'piston rod', 'port', 'port side', 'port two', 'port upper', 'position', 'position close', 'possible', 'preventing', 'preventing sliced', 'processing', 'processing particular', 'provided', 'provided discharging', 'provided feeding', 'relates', 'relates technical', 'rod', 'rod arefixedly', 'rod connected', 'rod first', 'rod fixedly', 'rod one', 'second', 'second supporting', 'sheet', 'sheet stuck', 'sheet stuckto', 'side', 'side close', 'side conveying', 'side upper', 'sliced', 'sliced donkey', 'slicing', 'slicing cutter', 'sticking', 'sticking assembly', 'sticking function', 'stuck', 'stuck surface', 'stuckto', 'stuckto surface', 'support', 'support frame', 'supporting', 'supporting rod', 'surface', 'surface conveying', 'surface cutter', 'surface first', 'surface ofthe', 'surface slicing', 'surface support', 'technical', 'technical field', 'two', 'two side', 'upper', 'upper side', 'upper surface', 'vertically', 'vertically arranged', 'wherein', 'wherein one']\n"
     ]
    },
    {
     "name": "stderr",
     "output_type": "stream",
     "text": [
      "C:\\Users\\HP\\anaconda3\\envs\\Pytorchgpu\\lib\\site-packages\\sklearn\\utils\\deprecation.py:87: FutureWarning: Function get_feature_names is deprecated; get_feature_names is deprecated in 1.0 and will be removed in 1.2. Please use get_feature_names_out instead.\n",
      "  warnings.warn(msg, category=FutureWarning)\n",
      "C:\\Users\\HP\\anaconda3\\envs\\Pytorchgpu\\lib\\site-packages\\sklearn\\utils\\deprecation.py:87: FutureWarning: Function get_feature_names is deprecated; get_feature_names is deprecated in 1.0 and will be removed in 1.2. Please use get_feature_names_out instead.\n",
      "  warnings.warn(msg, category=FutureWarning)\n",
      "C:\\Users\\HP\\anaconda3\\envs\\Pytorchgpu\\lib\\site-packages\\sklearn\\utils\\deprecation.py:87: FutureWarning: Function get_feature_names is deprecated; get_feature_names is deprecated in 1.0 and will be removed in 1.2. Please use get_feature_names_out instead.\n",
      "  warnings.warn(msg, category=FutureWarning)\n"
     ]
    },
    {
     "name": "stdout",
     "output_type": "stream",
     "text": [
      "['also', 'also elevator', 'basis', 'basis periodically', 'car', 'car defining', 'car invention', 'car suspension', 'comprises', 'comprises obtaining', 'defining', 'defining elongation', 'distance', 'distance elevator', 'elevator', 'elevator car', 'elevator system', 'elongation', 'elongation elevator', 'invention', 'invention relates', 'least', 'least partly', 'mean', 'mean basis', 'mean method', 'method', 'method comprises', 'method defining', 'obtained', 'obtained value', 'obtaining', 'obtaining periodically', 'overtravel', 'overtravel distance', 'partly', 'partly method', 'performing', 'performing least', 'periodically', 'periodically obtained', 'periodically value', 'relates', 'relates also', 'relates method', 'representing', 'representing overtravel', 'suspension', 'suspension mean', 'system', 'system performing', 'value', 'value representing']\n",
      "['10', '10 20', '12', '12 part', '15', '15 25', '20', '20 part', '25', '25 35', '25 part', '35', '35 part', '90', '90 deg', 'according', 'according invention', 'acupuncture', 'acupuncture point', 'adhered', 'adhered affected', 'adhesive', 'adhesive adhered', 'adhesive high', 'adhesive material', 'adhesive prepared', 'adhesive pressure', 'adhesive viscosity', 'affected', 'affected part', 'allergy', 'allergy wide', 'andcannot', 'andcannot bonded', 'antioxidant', 'antioxidant 12', 'applicationprospect', 'baking', 'baking keep', 'bonded', 'bonded outer', 'capacity', 'capacity cause', 'cause', 'cause allergy', 'comprising', 'comprising one', 'consumer', 'consumer hot', 'convenient', 'convenient consumer', 'deg', 'deg 10', 'disappears', 'disappears ointment', 'discloses', 'discloses hot', 'drug', 'drug loading', 'efficacy', 'efficacy disappears', 'efficacy exerting', 'elastomer', 'elastomer 15', 'elastomer mixture', 'enough', 'enough viscosity', 'exerting', 'exerting period', 'following', 'following raw', 'free', 'free ointment', 'generate', 'generate residue', 'heating', 'heating baking', 'high', 'high drug', 'hot', 'hot melt', 'invention', 'invention discloses', 'invention hot', 'keep', 'keep enough', 'loading', 'loading capacity', 'lower', 'lower 90', 'lubricant', 'lubricant part', 'material', 'material packaging', 'material selected', 'material weight', 'melt', 'melt adhesive', 'metal', 'metal oxide', 'mixture', 'mixture comprising', 'normal', 'normal temperature', 'ointment', 'ointment prepared', 'ointment taken', 'ointment wherein', 'one', 'one plurality', 'outer', 'outer package', 'oxide', 'oxide wherein', 'package', 'package adhesive', 'packaging', 'packaging storing', 'part', 'part acupuncture', 'part antioxidant', 'part lubricant', 'part metal', 'part resin', 'part thermoplastic', 'period', 'period generate', 'plurality', 'plurality material', 'point', 'point heating', 'point lower', 'prepared', 'prepared following', 'prepared hot', 'pressure', 'pressure sensitive', 'process', 'process use', 'raw', 'raw material', 'residue', 'residue surface', 'resin', 'resin softening', 'sanitary', 'sanitary ointment', 'sbs', 'sbs sis', 'sebs', 'sebs according', 'selected', 'selected sbs', 'sensitive', 'sensitive free', 'simple', 'simple convenient', 'sis', 'sis sebs', 'skin', 'skin efficacy', 'softening', 'softening point', 'storing', 'storing transporting', 'surface', 'surface skin', 'taken', 'taken sanitary', 'temperature', 'temperature andcannot', 'thermoplastic', 'thermoplastic elastomer', 'transporting', 'transporting process', 'use', 'use simple', 'viscosity', 'viscosity efficacy', 'viscosity normal', 'weight', 'weight 25', 'wherein', 'wherein hot', 'wherein thermoplastic', 'wide', 'wide applicationprospect']\n"
     ]
    },
    {
     "name": "stderr",
     "output_type": "stream",
     "text": [
      "C:\\Users\\HP\\anaconda3\\envs\\Pytorchgpu\\lib\\site-packages\\sklearn\\utils\\deprecation.py:87: FutureWarning: Function get_feature_names is deprecated; get_feature_names is deprecated in 1.0 and will be removed in 1.2. Please use get_feature_names_out instead.\n",
      "  warnings.warn(msg, category=FutureWarning)\n",
      "C:\\Users\\HP\\anaconda3\\envs\\Pytorchgpu\\lib\\site-packages\\sklearn\\utils\\deprecation.py:87: FutureWarning: Function get_feature_names is deprecated; get_feature_names is deprecated in 1.0 and will be removed in 1.2. Please use get_feature_names_out instead.\n",
      "  warnings.warn(msg, category=FutureWarning)\n",
      "C:\\Users\\HP\\anaconda3\\envs\\Pytorchgpu\\lib\\site-packages\\sklearn\\utils\\deprecation.py:87: FutureWarning: Function get_feature_names is deprecated; get_feature_names is deprecated in 1.0 and will be removed in 1.2. Please use get_feature_names_out instead.\n",
      "  warnings.warn(msg, category=FutureWarning)\n",
      "C:\\Users\\HP\\anaconda3\\envs\\Pytorchgpu\\lib\\site-packages\\sklearn\\utils\\deprecation.py:87: FutureWarning: Function get_feature_names is deprecated; get_feature_names is deprecated in 1.0 and will be removed in 1.2. Please use get_feature_names_out instead.\n",
      "  warnings.warn(msg, category=FutureWarning)\n",
      "C:\\Users\\HP\\anaconda3\\envs\\Pytorchgpu\\lib\\site-packages\\sklearn\\utils\\deprecation.py:87: FutureWarning: Function get_feature_names is deprecated; get_feature_names is deprecated in 1.0 and will be removed in 1.2. Please use get_feature_names_out instead.\n",
      "  warnings.warn(msg, category=FutureWarning)\n"
     ]
    },
    {
     "name": "stdout",
     "output_type": "stream",
     "text": [
      "['access', 'access mobility', 'access network', 'according', 'according technical', 'apparatus', 'apparatus method', 'application', 'application first', 'application provides', 'based', 'based capability', 'capability', 'capability information', 'capability performing', 'compatibility', 'compatibility method', 'corresponding', 'corresponding target', 'element', 'element based', 'element capability', 'element first', 'element obtains', 'element radio', 'element selects', 'element used', 'first', 'first network', 'function', 'function network', 'includes', 'includes first', 'indicate', 'indicate access', 'information', 'information access', 'information target', 'information used', 'interface', 'interface compatibility', 'interface function', 'interlace', 'interlace function', 'management', 'management function', 'method', 'method apparatus', 'method includes', 'mobility', 'mobility management', 'network', 'network element', 'network target', 'network therefore', 'obtains', 'obtains capability', 'performing', 'performing signaling', 'provided', 'provided application', 'provides', 'provides signaling', 'radio', 'radio access', 'selects', 'selects corresponding', 'selects target', 'signaling', 'signaling transmission', 'solution', 'solution provided', 'target', 'target interface', 'target interlace', 'technical', 'technical solution', 'therefore', 'therefore according', 'transmission', 'transmission access', 'transmission interface', 'transmission radio', 'used', 'used indicate', 'used signaling']\n",
      "['according', 'according rs485', 'automatic', 'automatic conversion', 'automatic transceiving', 'bus', 'bus data', 'chip', 'chip magnetic', 'chip safety', 'chip u2', 'circuit', 'circuit comprises', 'circuit control', 'circuit providing', 'circuit realizes', 'circuit simple', 'circuit simplified', 'circuit used', 'circuitso', 'circuitso realize', 'common', 'common mode', 'communication', 'communication chip', 'communication circuitso', 'communication data', 'communication isolation', 'communication link', 'communication protocol', 'complete', 'complete isolation', 'comprises', 'comprises isolation', 'control', 'control circuit', 'control requirement', 'control rs485', 'conversion', 'conversion communication', 'conversion isolation', 'cost', 'cost low', 'coupling', 'coupling isolation', 'cpu', 'cpu control', 'cpu rs485', 'data', 'data conversion', 'data flow', 'data realizedby', 'delay', 'delay isolation', 'differential', 'differential common', 'direction', 'direction control', 'direction cpu', 'direction without', 'effectively', 'effectively protecting', 'external', 'external host', 'external rs485', 'external transceiver', 'flow', 'flow direction', 'ground', 'ground rs485', 'high', 'high speed', 'high voltage', 'host', 'host circuit', 'interface', 'interface lightningprotection', 'interface provided', 'interior', 'interior multi', 'internal', 'internal communication', 'internal external', 'invention', 'invention provides', 'isolated', 'isolated power', 'isolation', 'isolation chip', 'isolation circuit', 'isolation communication', 'isolation internal', 'isolation power', 'isolation rs485', 'lightningprotection', 'lightningprotection circuit', 'link', 'link data', 'low', 'magnetic', 'magnetic coupling', 'mean', 'mean high', 'mean rs485', 'mode', 'mode high', 'multi', 'multi node', 'node', 'node rs485slave', 'npn', 'npn type', 'power', 'power supply', 'product', 'product external', 'protecting', 'protecting rs485', 'protocol', 'protocol chip', 'provided', 'provided interior', 'provides', 'provides rs485', 'providing', 'providing isolated', 'realize', 'realize complete', 'realizedby', 'realizedby mean', 'realizes', 'realizes automatic', 'realizes internal', 'requirement', 'requirement data', 'rs485', 'rs485 automatic', 'rs485 bus', 'rs485 communication', 'rs485 data', 'rs485 interface', 'rs485slave', 'rs485slave product', 'safety', 'safety interface', 'simple', 'simple cost', 'simplified', 'simplified zero', 'speed', 'speed npn', 'supply', 'supply circuit', 'supply ground', 'supply internal', 'suppressing', 'suppressing transient', 'transceiver', 'transceiver power', 'transceiving', 'transceiving isolation', 'transient', 'transient differential', 'triode', 'triode mean', 'type', 'type triode', 'u2', 'u2 u3', 'u3', 'u3 according', 'used', 'used suppressing', 'voltage', 'voltage effectively', 'without', 'without cpu', 'zero', 'zero delay']\n"
     ]
    },
    {
     "name": "stderr",
     "output_type": "stream",
     "text": [
      "C:\\Users\\HP\\anaconda3\\envs\\Pytorchgpu\\lib\\site-packages\\sklearn\\utils\\deprecation.py:87: FutureWarning: Function get_feature_names is deprecated; get_feature_names is deprecated in 1.0 and will be removed in 1.2. Please use get_feature_names_out instead.\n",
      "  warnings.warn(msg, category=FutureWarning)\n",
      "C:\\Users\\HP\\anaconda3\\envs\\Pytorchgpu\\lib\\site-packages\\sklearn\\utils\\deprecation.py:87: FutureWarning: Function get_feature_names is deprecated; get_feature_names is deprecated in 1.0 and will be removed in 1.2. Please use get_feature_names_out instead.\n",
      "  warnings.warn(msg, category=FutureWarning)\n",
      "C:\\Users\\HP\\anaconda3\\envs\\Pytorchgpu\\lib\\site-packages\\sklearn\\utils\\deprecation.py:87: FutureWarning: Function get_feature_names is deprecated; get_feature_names is deprecated in 1.0 and will be removed in 1.2. Please use get_feature_names_out instead.\n",
      "  warnings.warn(msg, category=FutureWarning)\n",
      "C:\\Users\\HP\\anaconda3\\envs\\Pytorchgpu\\lib\\site-packages\\sklearn\\utils\\deprecation.py:87: FutureWarning: Function get_feature_names is deprecated; get_feature_names is deprecated in 1.0 and will be removed in 1.2. Please use get_feature_names_out instead.\n",
      "  warnings.warn(msg, category=FutureWarning)\n"
     ]
    },
    {
     "name": "stdout",
     "output_type": "stream",
     "text": [
      "['10', '10 part', '100', '100 part', '12', '12 part', 'acid', 'acid part', 'agent', 'agent part', 'agent uniformly', 'corrugated', 'corrugated pipe', 'coupling', 'coupling agent', 'density', 'density polyethylene', 'densitypolyethylene', 'densitypolyethylene 12', 'dispersed', 'dispersed matrix', 'drawn', 'drawn material', 'easily', 'enhanced', 'enhanced higher', 'enhanced ring', 'enhanced single', 'fiber', 'fiber part', 'fiber silane', 'filament', 'filament drawn', 'glass', 'glass fiber', 'high', 'high density', 'high densitypolyethylene', 'higher', 'higher rigidity', 'improved', 'improved polypropylene', 'including', 'including 100', 'ingredient', 'ingredient including', 'installed', 'installed easily', 'interface', 'interface reaction', 'invention', 'invention relates', 'lead', 'lead stearate', 'made', 'made weight', 'manufacture', 'manufacture method', 'manufactured', 'manufactured high', 'material', 'material 10', 'material matrix', 'material modified', 'material reinforced', 'material strength', 'material uniformity', 'matrix', 'matrix enhanced', 'matrix interface', 'matrix polypropylene', 'method', 'method single', 'micron', 'micron glass', 'mixing', 'mixing polypropylene', 'modified', 'modified material', 'modified micron', 'overall', 'overall rigidity', 'part', 'part high', 'part lead', 'part micron', 'part polyethylene', 'part polypropylene', 'part silane', 'part stearic', 'part talcum', 'part water', 'pipe', 'pipe enhanced', 'pipe installed', 'pipe made', 'pipe manufacture', 'pipe manufactured', 'polyethylene', 'polyethylene improved', 'polyethylene matrix', 'polyethylene wax', 'polypropylene', 'polypropylene filament', 'powder', 'powder part', 'properties', 'properties high', 'reaction', 'reaction polypropylene', 'reinforced', 'reinforced modified', 'relates', 'relates single', 'rigidity', 'rigidity corrugated', 'rigidity overall', 'rigidity single', 'rigidity use', 'ring', 'ring rigidity', 'silane', 'silane coupling', 'single', 'single wall', 'stability', 'stability single', 'stable', 'stable dispersed', 'stearate', 'stearate part', 'stearic', 'stearic acid', 'strength', 'strength rigidity', 'talcum', 'talcum powder', 'uniformity', 'uniformity mixing', 'uniformly', 'uniformly stable', 'use', 'use stability', 'wall', 'wall corrugated', 'water', 'water 10', 'wax', 'wax properties', 'weight', 'weight ingredient']\n"
     ]
    },
    {
     "name": "stderr",
     "output_type": "stream",
     "text": [
      "C:\\Users\\HP\\anaconda3\\envs\\Pytorchgpu\\lib\\site-packages\\sklearn\\utils\\deprecation.py:87: FutureWarning: Function get_feature_names is deprecated; get_feature_names is deprecated in 1.0 and will be removed in 1.2. Please use get_feature_names_out instead.\n",
      "  warnings.warn(msg, category=FutureWarning)\n",
      "C:\\Users\\HP\\anaconda3\\envs\\Pytorchgpu\\lib\\site-packages\\sklearn\\utils\\deprecation.py:87: FutureWarning: Function get_feature_names is deprecated; get_feature_names is deprecated in 1.0 and will be removed in 1.2. Please use get_feature_names_out instead.\n",
      "  warnings.warn(msg, category=FutureWarning)\n",
      "C:\\Users\\HP\\anaconda3\\envs\\Pytorchgpu\\lib\\site-packages\\sklearn\\utils\\deprecation.py:87: FutureWarning: Function get_feature_names is deprecated; get_feature_names is deprecated in 1.0 and will be removed in 1.2. Please use get_feature_names_out instead.\n",
      "  warnings.warn(msg, category=FutureWarning)\n"
     ]
    },
    {
     "name": "stdout",
     "output_type": "stream",
     "text": [
      "['achieved', 'achieved electronic', 'application', 'application discloses', 'arranged', 'arranged second', 'body', 'body changed', 'body first', 'body provided', 'body reduced', 'body rotate', 'body rotation', 'body second', 'body slide', 'changed', 'changed electronic', 'comprising', 'comprising first', 'condition', 'condition sliding', 'connected', 'connected first', 'connecting', 'connecting device', 'device', 'device achieved', 'device arranged', 'device comprising', 'device connecting', 'device distance', 'device enables', 'device orientation', 'device provided', 'device rotationally', 'device second', 'discloses', 'discloses electronic', 'display', 'display device', 'display effect', 'display screen', 'distance', 'distance first', 'effect', 'effect electronic', 'effect integrated', 'electronic', 'electronic device', 'electronic equipment', 'enables', 'enables first', 'equipment', 'equipment remarkably', 'equipment visual', 'first', 'first body', 'first display', 'first surface', 'gap', 'gap first', 'gapless', 'gapless splicing', 'improved', 'integrated', 'integrated whole', 'meet', 'meet condition', 'orientation', 'orientation first', 'orientation second', 'provided', 'provided electronic', 'provided first', 'provided second', 'reduced', 'reduced gapless', 'relative', 'relative first', 'relatively', 'relatively slide', 'relatively time', 'remarkably', 'remarkably improved', 'rotate', 'rotate relatively', 'rotation', 'rotation connecting', 'rotationally', 'rotationally connected', 'screen', 'screen display', 'second', 'second body', 'second display', 'second surface', 'slide', 'slide relative', 'slide relatively', 'sliding', 'sliding connecting', 'splicing', 'splicing first', 'surface', 'surface connecting', 'surface meet', 'surface orientation', 'surface provided', 'surface second', 'therefore', 'therefore gap', 'time', 'time therefore', 'visual', 'visual effect', 'whole', 'whole display']\n",
      "['acetamide', 'acetamide polar', 'acetylferrocene', 'acetylferrocene high', 'achieved', 'achieved steamdistillation', 'adopted', 'adopted compared', 'advantage', 'advantage good', 'alcohol', 'alcohol water', 'andsolubility', 'andsolubility difference', 'atmosphere', 'atmosphere steam', 'boiling', 'boiling point', 'bottle', 'bottle producing', 'carbon', 'carbon environmentally', 'compared', 'compared ordinary', 'comprises', 'comprises step', 'conducting', 'conducting multiple', 'cost', 'cost low', 'device', 'device method', 'diethylferroene', 'diethylferroene acetylferrocene', 'difference', 'difference ferrocene', 'distillation', 'distillation bottle', 'distillation device', 'distillation method', 'distilling', 'distilling ethylferrocene', 'effect', 'effect obtained', 'energy', 'energy saved', 'environmentally', 'environmentally friendly', 'ethylferrocene', 'ethylferrocene andsolubility', 'ethylferrocene ferrocene', 'ethylferrocene method', 'ethylferrocene mixed', 'ethylferrocene multi', 'extraction', 'extraction purification', 'ferrocene', 'ferrocene ethylferrocene', 'ferrocene impurity', 'ferrocene low', 'finally', 'finally obtain', 'friendly', 'good', 'good separation', 'high', 'high boiling', 'high purity', 'impurity', 'impurity conducting', 'industrial', 'industrial large', 'inert', 'inert atmosphere', 'invention', 'invention relates', 'large', 'large scale', 'leaving', 'leaving diethylferroene', 'low', 'low boiling', 'low carbon', 'low cost', 'low method', 'low pollution', 'lower', 'lower boiling', 'matter', 'matter energy', 'method', 'method adopted', 'method advantage', 'method distilling', 'method low', 'method method', 'method producing', 'methyl', 'methyl alcohol', 'mixed', 'mixed solvent', 'much', 'much lower', 'multi', 'multi stage', 'multiple', 'multiple extraction', 'multiple repeated', 'obtain', 'obtain high', 'obtained', 'obtained temperature', 'ordinary', 'ordinary distillation', 'oscillation', 'oscillation separation', 'point', 'point distillation', 'point leaving', 'point separated', 'polar', 'polar solvent', 'polarity', 'polarity ferrocene', 'pollution', 'pollution industrial', 'producing', 'producing high', 'producing methyl', 'production', 'production achieved', 'production cost', 'purification', 'purification finally', 'purity', 'purity ethylferrocene', 'relates', 'relates method', 'remove', 'remove ferrocene', 'repeated', 'repeated ultrasonic', 'saved', 'saved production', 'scale', 'scale production', 'separated', 'separated matter', 'separation', 'separation comprises', 'separation effect', 'separation remove', 'separation steam', 'solvent', 'solvent multiple', 'solvent using', 'stage', 'stage separation', 'steam', 'steam distillation', 'steamdistillation', 'steamdistillation method', 'step', 'step inert', 'temperature', 'temperature much', 'ultrasonic', 'ultrasonic oscillation', 'using', 'using polarity', 'water', 'water acetamide']\n"
     ]
    },
    {
     "name": "stderr",
     "output_type": "stream",
     "text": [
      "C:\\Users\\HP\\anaconda3\\envs\\Pytorchgpu\\lib\\site-packages\\sklearn\\utils\\deprecation.py:87: FutureWarning: Function get_feature_names is deprecated; get_feature_names is deprecated in 1.0 and will be removed in 1.2. Please use get_feature_names_out instead.\n",
      "  warnings.warn(msg, category=FutureWarning)\n",
      "C:\\Users\\HP\\anaconda3\\envs\\Pytorchgpu\\lib\\site-packages\\sklearn\\utils\\deprecation.py:87: FutureWarning: Function get_feature_names is deprecated; get_feature_names is deprecated in 1.0 and will be removed in 1.2. Please use get_feature_names_out instead.\n",
      "  warnings.warn(msg, category=FutureWarning)\n"
     ]
    },
    {
     "name": "stdout",
     "output_type": "stream",
     "text": [
      "['accounting', 'accounting percent', 'activator', 'activator accounting', 'added', 'added mixture', 'aftertreatment', 'aftertreatment operation', 'aging', 'aging sulfonation', 'alkali', 'alkali cellulose', 'alkali free', 'better', 'better traditional', 'cake', 'cake added', 'cake cationic', 'cake raw', 'cake taken', 'cationic', 'cationic modifier', 'cellulose', 'cellulose fiber', 'cellulose obtained', 'cellulose pulp', 'cellulose subjected', 'cellulose sulfonate', 'cellulosefiber', 'cellulosefiber dyeing', 'color', 'color fastness', 'concentration', 'concentration percent', 'condition', 'condition better', 'crushing', 'crushing sequentially', 'dissolved', 'dissolved naoh', 'dyeing', 'dyeing alkali', 'dyeing process', 'fabric', 'fabric processed', 'fabric woven', 'fastness', 'fastness knitted', 'fiber', 'fiber dyeing', 'fiber forming', 'fiber knitted', 'fiber obtained', 'fiber prepared', 'fiber viscose', 'field', 'field textile', 'following', 'following step', 'forming', 'forming aftertreatment', 'free', 'free condition', 'free salt', 'impregnation', 'impregnation squeezing', 'invention', 'invention relates', 'knitted', 'knitted fabric', 'mass', 'mass concentration', 'material', 'material following', 'material subjected', 'mixed', 'mixed viscose', 'mixture', 'mixture stirred', 'modified', 'modified fabric', 'modified regenerated', 'modifier', 'modifier accounting', 'naoh', 'naoh solution', 'obtained', 'obtained cellulose', 'obtained color', 'obtained preparation', 'operation', 'operation sequentially', 'particularly', 'particularly relates', 'percent', 'percent powerful', 'percent pulp', 'powerful', 'powerful activator', 'preparation', 'preparation alkali', 'preparation modified', 'preparation viscose', 'prepared', 'prepared pulp', 'process', 'process modified', 'processed', 'processed modified', 'processing', 'processing particularly', 'pulp', 'pulp cake', 'raw', 'raw material', 'regenerated', 'regenerated cellulose', 'regenerated cellulosefiber', 'relates', 'relates modified', 'relates technical', 'salt', 'salt free', 'sequentially', 'sequentially alkali', 'sequentially cellulose', 'sequentially modified', 'solution', 'solution mass', 'squeezing', 'squeezing crushing', 'step', 'step preparation', 'stirred', 'stirred mixed', 'subjected', 'subjected aging', 'subjected fiber', 'subjected impregnation', 'sulfonate', 'sulfonate dissolved', 'sulfonate obtained', 'sulfonation', 'sulfonation treatment', 'taken', 'taken raw', 'technical', 'technical field', 'textile', 'textile processing', 'traditional', 'traditional modified', 'treatment', 'treatment sequentially', 'viscose', 'viscose alkali', 'viscose obtained', 'viscose subjected', 'woven', 'woven modified']\n"
     ]
    },
    {
     "name": "stderr",
     "output_type": "stream",
     "text": [
      "C:\\Users\\HP\\anaconda3\\envs\\Pytorchgpu\\lib\\site-packages\\sklearn\\utils\\deprecation.py:87: FutureWarning: Function get_feature_names is deprecated; get_feature_names is deprecated in 1.0 and will be removed in 1.2. Please use get_feature_names_out instead.\n",
      "  warnings.warn(msg, category=FutureWarning)\n",
      "C:\\Users\\HP\\anaconda3\\envs\\Pytorchgpu\\lib\\site-packages\\sklearn\\utils\\deprecation.py:87: FutureWarning: Function get_feature_names is deprecated; get_feature_names is deprecated in 1.0 and will be removed in 1.2. Please use get_feature_names_out instead.\n",
      "  warnings.warn(msg, category=FutureWarning)\n"
     ]
    },
    {
     "name": "stdout",
     "output_type": "stream",
     "text": [
      "['accurate', 'accurate mapping', 'achieve', 'achieve automatic', 'acoustic', 'acoustic perception', 'acoustic system', 'acousto', 'acousto optic', 'addition', 'addition optical', 'also', 'also use', 'array', 'array position', 'automatic', 'automatic light', 'based', 'based virtual', 'capture', 'capture technology', 'consists', 'consists virtual', 'control', 'control light', 'coordinate', 'coordinate speaker', 'coordinate transformation', 'device', 'device voice', 'discloses', 'discloses acousto', 'effect', 'effect addition', 'effectively', 'effectively integrates', 'end', 'end virtual', 'enhances', 'enhances immersion', 'environment', 'environment head', 'establish', 'establish accurate', 'feeling', 'feeling virtual', 'finally', 'finally realizes', 'following', 'following effect', 'following technology', 'gesture', 'gesture coordinate', 'gesture used', 'guided', 'guided sound', 'head', 'head gesture', 'immersion', 'immersion feeling', 'integrates', 'integrates stage', 'intelligent', 'intelligent tracking', 'interaction', 'interaction low', 'interaction sound', 'interaction system', 'invention', 'invention discloses', 'kinect', 'kinect optical', 'light', 'light following', 'light scene', 'light shadow', 'light sound', 'light system', 'low', 'low precision', 'mapping', 'mapping user', 'mode', 'mode establish', 'motion', 'motion capture', 'optic', 'optic interaction', 'optical', 'optical device', 'optical tracking', 'panoramic', 'panoramic acoustic', 'pc', 'pc software', 'perception', 'perception technology', 'position', 'position achieve', 'position setting', 'position virtual', 'positioning', 'positioning motion', 'precision', 'precision scene', 'reality', 'reality acoustic', 'reality environment', 'reality optical', 'reality panoramic', 'reality utilizes', 'reality vr', 'realize', 'realize interaction', 'realizes', 'realizes interaction', 'scene', 'scene head', 'scene realize', 'setting', 'setting mode', 'shadow', 'shadow enhances', 'software', 'software end', 'sound', 'sound control', 'sound light', 'sound scene', 'sound source', 'source', 'source coordinate', 'source position', 'speaker', 'speaker array', 'stage', 'stage light', 'system', 'system based', 'system consists', 'system intelligent', 'system pc', 'system virtual', 'target', 'target positioning', 'technology', 'technology effectively', 'technology finally', 'technology virtual', 'tracking', 'tracking system', 'tracking target', 'tracking user', 'transformation', 'transformation guided', 'use', 'use kinect', 'used', 'used control', 'user', 'user also', 'user position', 'utilizes', 'utilizes tracking', 'virtual', 'virtual reality', 'virtual sound', 'voice', 'voice interaction', 'vr', 'vr sound']\n"
     ]
    },
    {
     "name": "stderr",
     "output_type": "stream",
     "text": [
      "C:\\Users\\HP\\anaconda3\\envs\\Pytorchgpu\\lib\\site-packages\\sklearn\\utils\\deprecation.py:87: FutureWarning: Function get_feature_names is deprecated; get_feature_names is deprecated in 1.0 and will be removed in 1.2. Please use get_feature_names_out instead.\n",
      "  warnings.warn(msg, category=FutureWarning)\n",
      "C:\\Users\\HP\\anaconda3\\envs\\Pytorchgpu\\lib\\site-packages\\sklearn\\utils\\deprecation.py:87: FutureWarning: Function get_feature_names is deprecated; get_feature_names is deprecated in 1.0 and will be removed in 1.2. Please use get_feature_names_out instead.\n",
      "  warnings.warn(msg, category=FutureWarning)\n",
      "C:\\Users\\HP\\anaconda3\\envs\\Pytorchgpu\\lib\\site-packages\\sklearn\\utils\\deprecation.py:87: FutureWarning: Function get_feature_names is deprecated; get_feature_names is deprecated in 1.0 and will be removed in 1.2. Please use get_feature_names_out instead.\n",
      "  warnings.warn(msg, category=FutureWarning)\n"
     ]
    },
    {
     "name": "stdout",
     "output_type": "stream",
     "text": [
      "['according', 'according information', 'according method', 'according received', 'acquisition', 'acquisition method', 'acquisition vehicle', 'apparatus', 'apparatus information', 'application', 'application discloses', 'collect', 'collect information', 'collected', 'collected information', 'collected terminal', 'collecting', 'collecting information', 'comprises', 'comprises terminal', 'current', 'current position', 'discloses', 'discloses acquisition', 'find', 'find information', 'generate', 'generate information', 'go', 'go terminal', 'holding', 'holding terminal', 'information', 'information position', 'information route', 'input', 'input sending', 'instruction', 'instruction terminal', 'make', 'make server', 'method', 'method acquisition', 'method apparatus', 'method comprises', 'moment', 'moment terminal', 'navigation', 'navigation service', 'origin', 'origin collecting', 'origin terminal', 'point', 'point according', 'point collected', 'point route', 'point server', 'point user', 'position', 'position collected', 'position origin', 'position save', 'position server', 'position terminal', 'process', 'process user', 'provide', 'provide navigation', 'reach', 'reach terminal', 'received', 'received information', 'receives', 'receives instruction', 'route', 'route according', 'route information', 'route method', 'route origin', 'route position', 'route provide', 'route taking', 'save', 'save information', 'sending', 'sending origin', 'server', 'server generate', 'server make', 'service', 'service origin', 'taking', 'taking current', 'terminal', 'terminal find', 'terminal go', 'terminal moment', 'terminal point', 'terminal reach', 'terminal receives', 'terminal terminal', 'terminal user', 'user', 'user holding', 'user input', 'user process', 'vehicle', 'vehicle collect']\n",
      "['also', 'also relates', 'also supplying', 'attached', 'attached sensor', 'battery', 'battery cell', 'battery management', 'battery system', 'battery unit', 'cell', 'cell wherein', 'connection', 'connection wire', 'coupled', 'coupled sensor', 'electric', 'electric motor', 'electrical', 'electrical energy', 'electrically', 'electrically coupled', 'element', 'element form', 'element formed', 'element mechanically', 'element onto', 'element wherein', 'energy', 'energy also', 'energy temperature', 'fastened', 'fastened battery', 'fitting', 'fitting battery', 'form', 'form least', 'formed', 'formed helical', 'formed spring', 'head', 'head connection', 'head least', 'head pressed', 'head temperature', 'helical', 'helical spring', 'invention', 'invention also', 'invention relates', 'least', 'least one', 'least part', 'least partially', 'management', 'management system', 'measuring', 'measuring point', 'measuring temperature', 'mechanically', 'mechanically attached', 'method', 'method fitting', 'motor', 'motor motor', 'motor vehicle', 'one', 'one battery', 'one connection', 'one spring', 'one temperature', 'onto', 'onto measuring', 'part', 'part spring', 'partially', 'partially formed', 'point', 'point battery', 'pressed', 'pressed spring', 'relates', 'relates battery', 'relates method', 'relates temperature', 'sensor', 'sensor fastened', 'sensor head', 'sensor least', 'sensor measuring', 'sensor sensor', 'spring', 'spring element', 'spring twisted', 'storing', 'storing electrical', 'supplying', 'supplying electric', 'system', 'system invention', 'system least', 'system storing', 'system way', 'temperature', 'temperature battery', 'temperature least', 'temperature sensor', 'twisted', 'twisted invention', 'unit', 'unit battery', 'vehicle', 'vehicle electrical', 'way', 'way sensor', 'wherein', 'wherein spring', 'wherein temperature', 'wire', 'wire electrically', 'wire least']\n"
     ]
    },
    {
     "name": "stderr",
     "output_type": "stream",
     "text": [
      "C:\\Users\\HP\\anaconda3\\envs\\Pytorchgpu\\lib\\site-packages\\sklearn\\utils\\deprecation.py:87: FutureWarning: Function get_feature_names is deprecated; get_feature_names is deprecated in 1.0 and will be removed in 1.2. Please use get_feature_names_out instead.\n",
      "  warnings.warn(msg, category=FutureWarning)\n",
      "C:\\Users\\HP\\anaconda3\\envs\\Pytorchgpu\\lib\\site-packages\\sklearn\\utils\\deprecation.py:87: FutureWarning: Function get_feature_names is deprecated; get_feature_names is deprecated in 1.0 and will be removed in 1.2. Please use get_feature_names_out instead.\n",
      "  warnings.warn(msg, category=FutureWarning)\n",
      "C:\\Users\\HP\\anaconda3\\envs\\Pytorchgpu\\lib\\site-packages\\sklearn\\utils\\deprecation.py:87: FutureWarning: Function get_feature_names is deprecated; get_feature_names is deprecated in 1.0 and will be removed in 1.2. Please use get_feature_names_out instead.\n",
      "  warnings.warn(msg, category=FutureWarning)\n"
     ]
    },
    {
     "name": "stdout",
     "output_type": "stream",
     "text": [
      "['70', '70 wt', 'adding', 'adding reducing', 'adding step', 'alumina', 'alumina firing', 'based', 'based component', 'based honeycomb', 'body', 'body containing', 'body manufacture', 'carbide', 'carbide based', 'ceramic', 'ceramic material', 'component', 'component together', 'containing', 'containing 70', 'containing silicon', 'extruded', 'extruded honeycomb', 'firing', 'firing furnace', 'firing honeycomb', 'firing member', 'firing step', 'formed', 'formed body', 'formed using', 'furnace', 'furnace firing', 'furnace gas', 'furnace space', 'gas', 'gas adding', 'gas furnace', 'gas supplying', 'honeycomb', 'honeycomb formed', 'honeycomb structure', 'includes', 'includes inert', 'including', 'including firing', 'inert', 'inert gas', 'introducing', 'introducing extruded', 'manufacture', 'manufacture silicon', 'manufacturing', 'manufacturing method', 'material', 'material containing', 'member', 'member firing', 'member formed', 'method', 'method silicon', 'percent', 'percent alumina', 'reducing', 'reducing gas', 'silicon', 'silicon carbide', 'space', 'space firing', 'step', 'step adding', 'step includes', 'step introducing', 'step supplying', 'structure', 'structure including', 'structure wherein', 'supplying', 'supplying inert', 'supplying step', 'together', 'together firing', 'using', 'using ceramic', 'wherein', 'wherein firing', 'wt', 'wt percent']\n",
      "['acupoint', 'acupoint stimulating', 'antihypertensive', 'antihypertensive effect', 'antihypertensive paste', 'antihypertensive traditional', 'apocynum', 'apocynum venetum', 'apreparation', 'apreparation method', 'carryingand', 'carryingand use', 'chinese', 'chinese medicine', 'chrysanthemum', 'chrysanthemum flower', 'comprehensively', 'comprehensively superposed', 'concha', 'concha haliotidis', 'convenient', 'cortex', 'cortex eucommiae', 'cum', 'cum uncis', 'deficiency', 'deficiency reducing', 'directly', 'directly reach', 'discloses', 'discloses antihypertensive', 'effect', 'effect directly', 'effect good', 'effect reinforcing', 'eucommiae', 'eucommiae part', 'excess', 'excess regulating', 'flatstem', 'flatstem milkvetch', 'fleeceflower', 'fleeceflower stem', 'flower', 'flower part', 'focus', 'focus antihypertensive', 'following', 'following raw', 'good', 'good moreover', 'haliotidis', 'haliotidis part', 'hawthornfruits', 'hawthornfruits part', 'herb', 'herb part', 'invention', 'invention discloses', 'invention provides', 'kidney', 'kidney focus', 'leonurus', 'leonurus herb', 'ligustici', 'ligustici wallichii', 'liquorice', 'liquorice root', 'material', 'material part', 'medicine', 'medicine antihypertensive', 'medicine effect', 'medicine prepared', 'medicine well', 'method', 'method thereof', 'milkvetch', 'milkvetch seed', 'moreover', 'moreover carryingand', 'ntihypertensive', 'ntihypertensive traditional', 'part', 'part apocynum', 'part chrysanthemum', 'part concha', 'part cortex', 'part flatstem', 'part leonurus', 'part liquorice', 'part raw', 'part rhizome', 'part safflower', 'part tribulus', 'part tuber', 'part uncariae', 'part weight', 'paste', 'paste apreparation', 'paste comprehensively', 'paste ntihypertensive', 'prepared', 'prepared following', 'preparing', 'preparing antihypertensive', 'provides', 'provides antihypertensive', 'ramulus', 'ramulus cum', 'raw', 'raw hawthornfruits', 'raw material', 'reach', 'reach kidney', 'reducing', 'reducing excess', 'regulating', 'regulating antihypertensive', 'regulating yin', 'reinforcing', 'reinforcing deficiency', 'relatively', 'relatively convenient', 'rhizome', 'rhizome ligustici', 'root', 'root invention', 'safflower', 'safflower part', 'seed', 'seed part', 'stem', 'stem part', 'stimulating', 'stimulating regulating', 'superposed', 'superposed medicine', 'terrestris', 'terrestris part', 'thereof', 'thereof effect', 'thereof preparing', 'traditional', 'traditional chinese', 'tribulus', 'tribulus terrestris', 'tuber', 'tuber fleeceflower', 'uncariae', 'uncariae ramulus', 'uncis', 'uncis part', 'use', 'use relatively', 'venetum', 'venetum part', 'wallichii', 'wallichii part', 'weight', 'weight part', 'well', 'well method', 'yang', 'yang acupoint', 'yin', 'yin yang']\n"
     ]
    },
    {
     "name": "stderr",
     "output_type": "stream",
     "text": [
      "C:\\Users\\HP\\anaconda3\\envs\\Pytorchgpu\\lib\\site-packages\\sklearn\\utils\\deprecation.py:87: FutureWarning: Function get_feature_names is deprecated; get_feature_names is deprecated in 1.0 and will be removed in 1.2. Please use get_feature_names_out instead.\n",
      "  warnings.warn(msg, category=FutureWarning)\n",
      "C:\\Users\\HP\\anaconda3\\envs\\Pytorchgpu\\lib\\site-packages\\sklearn\\utils\\deprecation.py:87: FutureWarning: Function get_feature_names is deprecated; get_feature_names is deprecated in 1.0 and will be removed in 1.2. Please use get_feature_names_out instead.\n",
      "  warnings.warn(msg, category=FutureWarning)\n",
      "C:\\Users\\HP\\anaconda3\\envs\\Pytorchgpu\\lib\\site-packages\\sklearn\\utils\\deprecation.py:87: FutureWarning: Function get_feature_names is deprecated; get_feature_names is deprecated in 1.0 and will be removed in 1.2. Please use get_feature_names_out instead.\n",
      "  warnings.warn(msg, category=FutureWarning)\n",
      "C:\\Users\\HP\\anaconda3\\envs\\Pytorchgpu\\lib\\site-packages\\sklearn\\utils\\deprecation.py:87: FutureWarning: Function get_feature_names is deprecated; get_feature_names is deprecated in 1.0 and will be removed in 1.2. Please use get_feature_names_out instead.\n",
      "  warnings.warn(msg, category=FutureWarning)\n"
     ]
    },
    {
     "name": "stdout",
     "output_type": "stream",
     "text": [
      "['accurate', 'accurate deflection', 'andpositioned', 'andpositioned mounting', 'arranged', 'arranged left', 'bearing', 'bearing middle', 'board', 'board accurate', 'board mounted', 'board mounting', 'board non', 'board solved', 'bottom', 'bottom moving', 'comprises', 'comprises two', 'connected', 'connected connecting', 'connected right', 'connected side', 'connecting', 'connecting supporting', 'deflection', 'deflection prone', 'end', 'end bottom', 'end moving', 'end normal', 'end right', 'end two', 'existing', 'existing partition', 'exists', 'exists partition', 'face', 'face normal', 'fit', 'fit manner', 'frame', 'frame connected', 'frame located', 'generating', 'generating partition', 'grc', 'grc light', 'invention', 'invention relates', 'left', 'left end', 'left side', 'light', 'light partition', 'located', 'located left', 'machine', 'machine comprises', 'machine mounting', 'manner', 'manner rotating', 'manual', 'manual positioning', 'manually', 'manually positioned', 'mechanism', 'mechanism left', 'method', 'method machine', 'middle', 'middle left', 'middle normal', 'mounted', 'mounted andpositioned', 'mounting', 'mounting method', 'mounting one', 'mounting partition', 'mounting position', 'moving', 'moving supporting', 'moving type', 'moving wheel', 'need', 'need manually', 'non', 'non place', 'normal', 'normal position', 'normal positionframe', 'one', 'one machine', 'partition', 'partition board', 'place', 'place splicing', 'plate', 'plate connected', 'plate left', 'plate middle', 'plate moving', 'plate positioning', 'plate provided', 'plate thread', 'position', 'position frame', 'position need', 'position stud', 'positioned', 'positioned manual', 'positionframe', 'positionframe normal', 'positioning', 'positioning mechanism', 'positioning partition', 'problem', 'problem existing', 'prone', 'prone generating', 'provided', 'provided moving', 'relates', 'relates moving', 'right', 'right end', 'rod', 'rod structure', 'rotating', 'rotating rod', 'side', 'side face', 'side vertical', 'solved', 'splicing', 'splicing exists', 'structure', 'structure arranged', 'stud', 'stud bearing', 'stud connected', 'stud problem', 'stud side', 'supporting', 'supporting plate', 'thread', 'thread fit', 'two', 'two moving', 'type', 'type grc', 'vertical', 'vertical plate', 'wheel', 'wheel normal']\n",
      "['10', '10 includes', '110', '110 rotatably', '118', '118 bearing', '118 encoder', '12', '12 includes', '136', '136 axial', '136 within', '140', '140 inside', '150', '150 located', '16', '16 integrally', '18', '18 case', '18 planar', '22', '22 annular', '24', '24 annular', '48', '48 case', '54', '54 located', '56', '56 located', '60', '60 enclosure', '60 second', 'annular', 'annular disc', 'annular end', 'annular seal', 'annular sleeve', 'annular wall', 'apparatus', 'apparatus form', 'axial', 'axial extent', 'bearing', 'bearing 140', 'bearing cap', 'cap', 'cap 136', 'cap 48', 'case', 'case inner', 'case outer', 'control', 'control apparatus', 'cylindrical', 'cylindrical flange', 'diameter', 'diameter cylindrical', 'disc', 'disc 16', 'drive', 'drive station', 'enclosure', 'enclosure 24', 'encoder', 'encoder 150', 'end', 'end cap', 'extent', 'extent annular', 'extent le', 'first', 'first annular', 'flange', 'flange 60', 'form', 'form sealed', 'formed', 'formed single', 'homogenous', 'homogenous material', 'includes', 'includes first', 'includes rotor', 'inner', 'inner diameter', 'inside', 'inside annular', 'integrally', 'integrally formed', 'le', 'le annular', 'ledge', 'ledge 22', 'located', 'located bearing', 'located seal', 'located within', 'material', 'material drive', 'motion', 'motion control', 'mounted', 'mounted inside', 'outer', 'outer diameter', 'part', 'part homogenous', 'piece', 'piece part', 'planar', 'planar annular', 'rotary', 'rotary table', 'rotatably', 'rotatably mounted', 'rotor', 'rotor 110', 'seal', 'seal 54', 'seal 56', 'seal ledge', 'sealed', 'sealed rotary', 'second', 'second annular', 'single', 'single piece', 'sleeve', 'sleeve 118', 'station', 'station 12', 'table', 'table 10', 'wall', 'wall 18', 'within', 'within annular', 'within axial']\n"
     ]
    },
    {
     "name": "stderr",
     "output_type": "stream",
     "text": [
      "C:\\Users\\HP\\anaconda3\\envs\\Pytorchgpu\\lib\\site-packages\\sklearn\\utils\\deprecation.py:87: FutureWarning: Function get_feature_names is deprecated; get_feature_names is deprecated in 1.0 and will be removed in 1.2. Please use get_feature_names_out instead.\n",
      "  warnings.warn(msg, category=FutureWarning)\n",
      "C:\\Users\\HP\\anaconda3\\envs\\Pytorchgpu\\lib\\site-packages\\sklearn\\utils\\deprecation.py:87: FutureWarning: Function get_feature_names is deprecated; get_feature_names is deprecated in 1.0 and will be removed in 1.2. Please use get_feature_names_out instead.\n",
      "  warnings.warn(msg, category=FutureWarning)\n",
      "C:\\Users\\HP\\anaconda3\\envs\\Pytorchgpu\\lib\\site-packages\\sklearn\\utils\\deprecation.py:87: FutureWarning: Function get_feature_names is deprecated; get_feature_names is deprecated in 1.0 and will be removed in 1.2. Please use get_feature_names_out instead.\n",
      "  warnings.warn(msg, category=FutureWarning)\n",
      "C:\\Users\\HP\\anaconda3\\envs\\Pytorchgpu\\lib\\site-packages\\sklearn\\utils\\deprecation.py:87: FutureWarning: Function get_feature_names is deprecated; get_feature_names is deprecated in 1.0 and will be removed in 1.2. Please use get_feature_names_out instead.\n",
      "  warnings.warn(msg, category=FutureWarning)\n",
      "C:\\Users\\HP\\anaconda3\\envs\\Pytorchgpu\\lib\\site-packages\\sklearn\\utils\\deprecation.py:87: FutureWarning: Function get_feature_names is deprecated; get_feature_names is deprecated in 1.0 and will be removed in 1.2. Please use get_feature_names_out instead.\n",
      "  warnings.warn(msg, category=FutureWarning)\n",
      "C:\\Users\\HP\\anaconda3\\envs\\Pytorchgpu\\lib\\site-packages\\sklearn\\utils\\deprecation.py:87: FutureWarning: Function get_feature_names is deprecated; get_feature_names is deprecated in 1.0 and will be removed in 1.2. Please use get_feature_names_out instead.\n",
      "  warnings.warn(msg, category=FutureWarning)\n"
     ]
    },
    {
     "name": "stdout",
     "output_type": "stream",
     "text": [
      "['added', 'added container', 'aluminum', 'aluminum electrode', 'aluminum particle', 'arranged', 'arranged top', 'comprises', 'comprises container', 'connected', 'connected top', 'consumed', 'consumed need', 'container', 'container divide', 'container first', 'container pressing', 'container second', 'container supplementing', 'container top', 'container type', 'container upper', 'container used', 'convenient', 'convenient aluminum', 'convenient fast', 'cover', 'cover arranged', 'cover first', 'cover installed', 'cover operation', 'cover pressing', 'covering', 'covering top', 'divide', 'divide internal', 'drive', 'drive pressing', 'edge', 'edge pressing', 'electrode', 'electrode comprises', 'electrode electrode', 'electrode maintenanceare', 'electrode material', 'excessively', 'excessively consumed', 'fast', 'filled', 'filled aluminum', 'first', 'first hinge', 'first spring', 'gap', 'gap isreserved', 'hinge', 'hinge pressing', 'hinge top', 'inner', 'inner wall', 'installed', 'installed side', 'installed top', 'internal', 'internal portion', 'invention', 'invention aluminum', 'invention relates', 'isreserved', 'isreserved edge', 'loaded', 'loaded container', 'located', 'located container', 'lower', 'lower space', 'maintenanceare', 'maintenanceare simple', 'material', 'material electrode', 'material excessively', 'need', 'need added', 'need supplemented', 'opened', 'opened upwards', 'opening', 'opening container', 'opening top', 'operation', 'operation process', 'particle', 'particle invention', 'particle need', 'particle set', 'particle supplemented', 'particle supplementing', 'plate', 'plate connected', 'plate convenient', 'plate filled', 'plate first', 'plate inner', 'plate installed', 'plate located', 'plate opened', 'portion', 'portion container', 'pressing', 'pressing plate', 'process', 'process aluminum', 'relates', 'relates container', 'second', 'second hinge', 'set', 'set loaded', 'side', 'side container', 'side wall', 'simple', 'simple convenient', 'space', 'space pressing', 'space space', 'spaceand', 'spaceand lower', 'spring', 'spring drive', 'spring gap', 'spring top', 'supplemented', 'supplemented aluminum', 'supplemented first', 'supplementing', 'supplementing electrode', 'supplementing lower', 'time', 'time opening', 'top', 'top container', 'top cover', 'top opening', 'top wall', 'type', 'type aluminum', 'upper', 'upper spaceand', 'upwards', 'upwards time', 'used', 'used covering', 'used electrode', 'wall', 'wall container', 'wall side']\n",
      "['apparatus', 'apparatus communication', 'application', 'application provides', 'channel', 'channel first', 'channel third', 'communication', 'communication apparatus', 'communication method', 'control', 'control information', 'device', 'device downlink', 'device first', 'device receive', 'domain', 'domain receiving', 'downlink', 'downlink control', 'first', 'first channel', 'first indication', 'first resource', 'includes', 'includes receiving', 'indicate', 'indicate second', 'indicate terminal', 'indication', 'indication information', 'information', 'information downlink', 'information first', 'information used', 'method', 'method communication', 'method includes', 'overlap', 'overlap time', 'provides', 'provides communication', 'receive', 'receive send', 'receiving', 'receiving sending', 'receiving terminal', 'resource', 'resource first', 'resource overlap', 'resource receiving', 'resource second', 'resource third', 'second', 'second resource', 'send', 'send first', 'sending', 'sending terminal', 'terminal', 'terminal device', 'third', 'third resource', 'time', 'time domain', 'used', 'used indicate']\n"
     ]
    },
    {
     "name": "stderr",
     "output_type": "stream",
     "text": [
      "C:\\Users\\HP\\anaconda3\\envs\\Pytorchgpu\\lib\\site-packages\\sklearn\\utils\\deprecation.py:87: FutureWarning: Function get_feature_names is deprecated; get_feature_names is deprecated in 1.0 and will be removed in 1.2. Please use get_feature_names_out instead.\n",
      "  warnings.warn(msg, category=FutureWarning)\n",
      "C:\\Users\\HP\\anaconda3\\envs\\Pytorchgpu\\lib\\site-packages\\sklearn\\utils\\deprecation.py:87: FutureWarning: Function get_feature_names is deprecated; get_feature_names is deprecated in 1.0 and will be removed in 1.2. Please use get_feature_names_out instead.\n",
      "  warnings.warn(msg, category=FutureWarning)\n",
      "C:\\Users\\HP\\anaconda3\\envs\\Pytorchgpu\\lib\\site-packages\\sklearn\\utils\\deprecation.py:87: FutureWarning: Function get_feature_names is deprecated; get_feature_names is deprecated in 1.0 and will be removed in 1.2. Please use get_feature_names_out instead.\n",
      "  warnings.warn(msg, category=FutureWarning)\n"
     ]
    },
    {
     "name": "stdout",
     "output_type": "stream",
     "text": [
      "['arranged', 'arranged lifting', 'arranged stay', 'bin', 'bin branch', 'bin lifting', 'bin located', 'bin mounting', 'bin pipeline', 'body', 'body fixed', 'body stay', 'branch', 'branch water', 'bridge', 'bridge body', 'bridge comprises', 'bridge fire', 'bridge quickly', 'bridge tower', 'cable', 'cable sleeve', 'cable sleeved', 'cable stay', 'cable stayed', 'comprises', 'comprises bridge', 'comprises main', 'connected', 'connected bridge', 'device', 'device cable', 'device quickly', 'device technical', 'divide', 'divide interior', 'existing', 'existing cable', 'extinguish', 'extinguish fire', 'extinguished', 'extinguished solved', 'fighting', 'fighting device', 'fire', 'fire cable', 'fire fighting', 'fire occurring', 'fixed', 'fixed bridge', 'interior', 'interior bridge', 'invention', 'invention provides', 'lifting', 'lifting bin', 'lifting mechanism', 'located', 'located mounting', 'located stay', 'located upper', 'lower', 'lower side', 'main', 'main water', 'mechanism', 'mechanism arranged', 'mechanism water', 'mounting', 'mounting bin', 'network', 'network comprises', 'network wherein', 'occurring', 'occurring existing', 'partition', 'partition plate', 'pipe', 'pipe located', 'pipe main', 'pipe plurality', 'pipeline', 'pipeline network', 'plate', 'plate fixed', 'plate respectively', 'plurality', 'plurality branch', 'problem', 'problem fire', 'provides', 'provides fire', 'pumping', 'pumping mechanism', 'quickly', 'quickly extinguish', 'quickly extinguished', 'respectively', 'respectively lifting', 'side', 'side bridge', 'side lower', 'side partition', 'sleeve', 'sleeve fire', 'sleeve partition', 'sleeve spraying', 'sleeved', 'sleeved stay', 'solved', 'solved fire', 'spraying', 'spraying mechanism', 'stay', 'stay cable', 'stayed', 'stayed bridge', 'technical', 'technical problem', 'tower', 'tower connected', 'tower divide', 'tower mounting', 'tower pipeline', 'tower two', 'two', 'two side', 'upper', 'upper side', 'water', 'water pipe', 'water pumping', 'wherein', 'wherein bridge']\n",
      "['according', 'according waste', 'achieved', 'achieved inclined', 'achieved multiple', 'arranged', 'arranged bottom', 'arranged inside', 'arranged top', 'automatic', 'automatic discharging', 'base', 'base clamping', 'base pipe', 'bottom', 'bottom one', 'clamping', 'clamping conveying', 'clamping positioning', 'close', 'close pipe', 'comprises', 'comprises base', 'comprises first', 'conducted', 'conducted time', 'connected', 'connected rotating', 'controlling', 'controlling rotating', 'conveniently', 'conveniently conducted', 'conveying', 'conveying mechanism', 'conveying roller', 'cutting', 'cutting grinding', 'cutting machine', 'cutting rust', 'device', 'device comprises', 'device controlling', 'device improved', 'device use', 'device waste', 'discharging', 'discharging achieved', 'discloses', 'discloses waste', 'driven', 'driven tocontinuously', 'efficiency', 'efficiency device', 'end', 'end close', 'end plate', 'end top', 'enhanced', 'finally', 'finally automatic', 'first', 'first end', 'fixedly', 'fixedly installed', 'frame', 'frame according', 'frame rotate', 'function', 'function pipe', 'grinding', 'grinding like', 'grinding mechanism', 'improved', 'improved practicability', 'inclined', 'inclined plate', 'inner', 'inner side', 'inside', 'inside pipe', 'installed', 'installed one', 'installed top', 'invention', 'invention discloses', 'lifting', 'lifting cutting', 'like', 'like finally', 'machine', 'machine arranged', 'machine fixedly', 'machining', 'machining efficiency', 'meanwhile', 'meanwhile clamping', 'mechanism', 'mechanism arranged', 'mechanism comprises', 'mechanism lifting', 'move', 'move subjected', 'multiple', 'multiple procedure', 'one', 'one end', 'one side', 'pipe', 'pipe achieved', 'pipe arranged', 'pipe conveying', 'pipe cutting', 'pipe driven', 'plate', 'plate inner', 'plate meanwhile', 'plate rotationally', 'plate second', 'positioning', 'positioning function', 'practicability', 'practicability device', 'procedure', 'procedure conveniently', 'procedure cutting', 'removing', 'removing device', 'roller', 'roller clamping', 'roller grinding', 'roller installed', 'rotate', 'rotate pipe', 'rotating', 'rotating frame', 'rotationally', 'rotationally connected', 'rust', 'rust removing', 'second', 'second end', 'side', 'side clamping', 'side first', 'side thesecond', 'subjected', 'subjected procedure', 'thesecond', 'thesecond end', 'time', 'time machining', 'tocontinuously', 'tocontinuously move', 'top', 'top base', 'top end', 'use', 'use enhanced', 'waste', 'waste pipe']\n"
     ]
    },
    {
     "name": "stderr",
     "output_type": "stream",
     "text": [
      "C:\\Users\\HP\\anaconda3\\envs\\Pytorchgpu\\lib\\site-packages\\sklearn\\utils\\deprecation.py:87: FutureWarning: Function get_feature_names is deprecated; get_feature_names is deprecated in 1.0 and will be removed in 1.2. Please use get_feature_names_out instead.\n",
      "  warnings.warn(msg, category=FutureWarning)\n",
      "C:\\Users\\HP\\anaconda3\\envs\\Pytorchgpu\\lib\\site-packages\\sklearn\\utils\\deprecation.py:87: FutureWarning: Function get_feature_names is deprecated; get_feature_names is deprecated in 1.0 and will be removed in 1.2. Please use get_feature_names_out instead.\n",
      "  warnings.warn(msg, category=FutureWarning)\n",
      "C:\\Users\\HP\\anaconda3\\envs\\Pytorchgpu\\lib\\site-packages\\sklearn\\utils\\deprecation.py:87: FutureWarning: Function get_feature_names is deprecated; get_feature_names is deprecated in 1.0 and will be removed in 1.2. Please use get_feature_names_out instead.\n",
      "  warnings.warn(msg, category=FutureWarning)\n",
      "C:\\Users\\HP\\anaconda3\\envs\\Pytorchgpu\\lib\\site-packages\\sklearn\\utils\\deprecation.py:87: FutureWarning: Function get_feature_names is deprecated; get_feature_names is deprecated in 1.0 and will be removed in 1.2. Please use get_feature_names_out instead.\n",
      "  warnings.warn(msg, category=FutureWarning)\n"
     ]
    },
    {
     "name": "stdout",
     "output_type": "stream",
     "text": [
      "['140', '140 160', '15', '15 synergistic', '160', '160 deg', '48', '48 percent', 'alcohol', 'alcohol dimethyl', 'aluminum', 'aluminum trifluoromethanesulfonate', 'amberlyst', 'amberlyst 15', 'anhydrous', 'anhydrous ethyl', 'application', 'application prospect', 'benefit', 'benefit high', 'catalyst', 'catalyst easy', 'catalyst form', 'combination', 'combination aluminum', 'comprises', 'comprises following', 'conversion', 'conversion reaction', 'converted', 'converted target', 'cosolvent', 'cosolvent effectively', 'cosolvent system', 'cost', 'cost used', 'deg', 'deg obtain', 'dimethyl', 'dimethyl sulfoxide', 'discloses', 'discloses method', 'easy', 'easy recycle', 'effective', 'effective catalyst', 'effectively', 'effectively inhibit', 'ethoxymethylfurfural', 'ethoxymethylfurfural dimethyl', 'ethoxymethylfurfural glucose', 'ethoxymethylfurfural maximum', 'ethyl', 'ethyl alcohol', 'exchange', 'exchange resin', 'following', 'following step', 'form', 'form conversion', 'generation', 'generation side', 'glucose', 'glucose converted', 'glucose method', 'glucose reaction', 'glucose wide', 'good', 'good industrial', 'high', 'high good', 'high selectivity', 'industrial', 'industrial application', 'inhibit', 'inhibit generation', 'invention', 'invention discloses', 'ion', 'ion exchange', 'low', 'low cost', 'material', 'material theeconomic', 'maximum', 'maximum yield', 'medium', 'medium using', 'method', 'method comprises', 'method preparing', 'method simple', 'method theadvantages', 'namely', 'namely ethoxymethylfurfural', 'obtain', 'obtain ethoxymethylfurfural', 'percent', 'percent preparation', 'preparation', 'preparation method', 'preparing', 'preparing ethoxymethylfurfural', 'primer', 'primer using', 'product', 'product high', 'prospect', 'prospect realized', 'rate', 'rate reach', 'raw', 'raw material', 'reach', 'reach 48', 'reacting', 'reacting temperature', 'reaction', 'reaction glucose', 'reaction medium', 'reaction primer', 'reaction raw', 'reaction system', 'realized', 'recycle', 'recycle repeatedly', 'repeatedly', 'repeatedly use', 'resin', 'resin amberlyst', 'selectivity', 'selectivity namely', 'side', 'side reaction', 'simple', 'simple effective', 'source', 'source low', 'step', 'step using', 'sulfoxide', 'sulfoxide cosolvent', 'sulfoxide used', 'synergistic', 'synergistic catalyst', 'system', 'system reacting', 'system reaction', 'target', 'target product', 'temperature', 'temperature 140', 'theadvantages', 'theadvantages preparation', 'theeconomic', 'theeconomic benefit', 'trifluoromethanesulfonate', 'trifluoromethanesulfonate ion', 'use', 'use glucose', 'used', 'used cosolvent', 'used reaction', 'using', 'using anhydrous', 'using combination', 'using glucose', 'wide', 'wide source', 'yield', 'yield rate']\n"
     ]
    },
    {
     "name": "stderr",
     "output_type": "stream",
     "text": [
      "C:\\Users\\HP\\anaconda3\\envs\\Pytorchgpu\\lib\\site-packages\\sklearn\\utils\\deprecation.py:87: FutureWarning: Function get_feature_names is deprecated; get_feature_names is deprecated in 1.0 and will be removed in 1.2. Please use get_feature_names_out instead.\n",
      "  warnings.warn(msg, category=FutureWarning)\n",
      "C:\\Users\\HP\\anaconda3\\envs\\Pytorchgpu\\lib\\site-packages\\sklearn\\utils\\deprecation.py:87: FutureWarning: Function get_feature_names is deprecated; get_feature_names is deprecated in 1.0 and will be removed in 1.2. Please use get_feature_names_out instead.\n",
      "  warnings.warn(msg, category=FutureWarning)\n"
     ]
    },
    {
     "name": "stdout",
     "output_type": "stream",
     "text": [
      "['acid', 'acid base', 'adding', 'adding cetyl', 'adding tetrabutyl', 'adopted', 'adopted base', 'adopted material', 'anti', 'anti hydrostatic', 'anti wear', 'applying', 'applying novel', 'base', 'base catalysis', 'base material', 'belongs', 'belongs field', 'better', 'better combined', 'catalysis', 'catalysis needed', 'cetyl', 'cetyl trimethylsilane', 'combined', 'combined anti', 'contains', 'contains rich', 'continue', 'continue evenly', 'discloses', 'discloses preparing', 'dried', 'dried obtain', 'easily', 'easily realized', 'edible', 'edible liquid', 'effect', 'effect edible', 'endowed', 'endowed good', 'evenly', 'evenly mixed', 'excellent', 'excellent lyophobic', 'field', 'field high', 'first', 'first step', 'firstly', 'firstly adding', 'fluoride', 'fluoride price', 'following', 'following step', 'good', 'good anti', 'high', 'high polymer', 'hydrostatic', 'hydrostatic pressure', 'hydroxyl', 'hydroxyl surface', 'include', 'include fluoride', 'includes', 'includes following', 'industrial', 'industrial production', 'invention', 'invention belongs', 'liquid', 'liquid prepared', 'liquid secondly', 'low', 'low preparing', 'lyophobic', 'lyophobic effect', 'material', 'material better', 'material contains', 'material dried', 'material include', 'material modified', 'material science', 'method', 'method reaction', 'minute', 'minute prepare', 'mixed', 'mixed obtain', 'mixed solution', 'modified', 'modified liquid', 'needed', 'needed preparing', 'novel', 'novel anti', 'obtain', 'obtain anti', 'obtain mixed', 'obtain modified', 'organic', 'organic solvent', 'performance', 'performance anti', 'performance processed', 'polymer', 'polymer material', 'prepare', 'prepare anti', 'prepared', 'prepared first', 'preparing', 'preparing anti', 'preparing applying', 'preparing method', 'preparing process', 'pressure', 'pressure performance', 'price', 'price low', 'process', 'process industrial', 'process simple', 'processed', 'processed surface', 'production', 'production easily', 'quite', 'quite rapid', 'rapid', 'rapid take', 'reaction', 'reaction time', 'realized', 'realized adopted', 'rich', 'rich hydroxyl', 'science', 'science discloses', 'secondly', 'secondly soaking', 'several', 'several minute', 'simple', 'simple process', 'soaking', 'soaking base', 'solution', 'solution adding', 'solvent', 'solvent mixed', 'step', 'step firstly', 'step taking', 'superomniphobic', 'superomniphobic surface', 'surface', 'surface acid', 'surface adopted', 'surface endowed', 'surface excellent', 'surface includes', 'surface preparing', 'surface surface', 'surface therefore', 'take', 'take several', 'taking', 'taking base', 'tetrabutyl', 'tetrabutyl titanate', 'therefore', 'therefore base', 'time', 'time quite', 'titanate', 'titanate continue', 'trimethylsilane', 'trimethylsilane organic', 'wear', 'wear performance', 'wear superomniphobic']\n"
     ]
    },
    {
     "name": "stderr",
     "output_type": "stream",
     "text": [
      "C:\\Users\\HP\\anaconda3\\envs\\Pytorchgpu\\lib\\site-packages\\sklearn\\utils\\deprecation.py:87: FutureWarning: Function get_feature_names is deprecated; get_feature_names is deprecated in 1.0 and will be removed in 1.2. Please use get_feature_names_out instead.\n",
      "  warnings.warn(msg, category=FutureWarning)\n",
      "C:\\Users\\HP\\anaconda3\\envs\\Pytorchgpu\\lib\\site-packages\\sklearn\\utils\\deprecation.py:87: FutureWarning: Function get_feature_names is deprecated; get_feature_names is deprecated in 1.0 and will be removed in 1.2. Please use get_feature_names_out instead.\n",
      "  warnings.warn(msg, category=FutureWarning)\n",
      "C:\\Users\\HP\\anaconda3\\envs\\Pytorchgpu\\lib\\site-packages\\sklearn\\utils\\deprecation.py:87: FutureWarning: Function get_feature_names is deprecated; get_feature_names is deprecated in 1.0 and will be removed in 1.2. Please use get_feature_names_out instead.\n",
      "  warnings.warn(msg, category=FutureWarning)\n"
     ]
    },
    {
     "name": "stdout",
     "output_type": "stream",
     "text": [
      "['10', '10 structure', '11', '11 communicates', '11 comprises', '11 connected', '12', '12 water', '13', '13 comprise', '13 opening', '14', '14 multi', '19', '19 power', 'administration', 'administration environment', 'administration lighting', 'along', 'along tree', 'also', 'also contained', 'body', 'body capable', 'body comprehensive', 'body internal', 'body internally', 'body trees', 'capable', 'capable wound', 'coating', 'coating body', 'colored', 'colored lamp', 'communicates', 'communicates sub', 'comprehensive', 'comprehensive coating', 'comprehensive pipe', 'comprise', 'comprise opening', 'comprises', 'comprises coating', 'comprises plurality', 'connected', 'connected coating', 'connected electric', 'connected sub', 'contained', 'contained water', 'crown', 'crown along', 'device', 'device head', 'electric', 'electric wire', 'element', 'element multi', 'environment', 'environment greening', 'environment management', 'extend', 'extend wire', 'extends', 'extends upwards', 'field', 'field municipal', 'filter', 'filter element', 'greening', 'greening haze', 'haze', 'haze purification', 'head', 'head 12', 'hole', 'hole 10', 'internal', 'internal filter', 'internally', 'internally comprises', 'invention', 'invention relates', 'lamp', 'lamp extend', 'layer', 'layer outer', 'lighting', 'lighting environment', 'lighting particularly', 'management', 'management comprehensive', 'multi', 'multi purpose', 'municipal', 'municipal administration', 'opening', 'opening 13', 'opening device', 'outer', 'outer shell', 'particularly', 'particularly municipal', 'pipe', 'pipe 19', 'pipe extends', 'pipeline', 'pipeline 11', 'planting', 'planting hole', 'plurality', 'plurality colored', 'plurality opening', 'plurality tree', 'position', 'position tree', 'positioned', 'positioned planting', 'power', 'power supply', 'present', 'present invention', 'pump', 'pump connected', 'pump power', 'purification', 'purification urban', 'purpose', 'purpose pipeline', 'relates', 'relates field', 'root', 'root coating', 'shell', 'shell 14', 'street', 'street positioned', 'structure', 'structure comprises', 'sub', 'sub washing', 'supply', 'supply also', 'supply connected', 'tree', 'tree crown', 'tree root', 'tree trunk', 'tree wound', 'trees', 'trees street', 'trunk', 'trunk plurality', 'upwards', 'upwards position', 'urban', 'urban lighting', 'washing', 'washing water', 'water', 'water pipe', 'water pump', 'wire', 'wire layer', 'wire multi', 'wound', 'wound plurality', 'wound tree']\n",
      "['calculation', 'calculation circuit', 'characteristic', 'characteristic calculation', 'characteristic signal', 'circuit', 'circuit comprising', 'circuit electrically', 'circuit receive', 'circuit receiving', 'circuit receivingthe', 'comparison', 'comparison circuit', 'comparison signal', 'comprising', 'comprising comparison', 'connected', 'connected comparison', 'connected feature', 'connected weight', 'electrically', 'electrically connected', 'enhancement', 'enhancement circuit', 'feature', 'feature calculation', 'feature signal', 'global', 'global mapping', 'image', 'image enhancement', 'image input', 'image output', 'image segmentation', 'input', 'input signal', 'invention', 'invention provides', 'mapping', 'mapping circuit', 'output', 'output characteristic', 'output comparison', 'output image', 'output signal', 'output weight', 'present', 'present invention', 'provides', 'provides image', 'receive', 'receive comparison', 'receive feature', 'receive weight', 'receiving', 'receiving image', 'receivingthe', 'receivingthe image', 'segmentation', 'segmentation circuit', 'segmentation signal', 'signal', 'signal characteristic', 'signal global', 'signal image', 'signal output', 'signal weight', 'weight', 'weight calculation', 'weight signal']\n"
     ]
    },
    {
     "name": "stderr",
     "output_type": "stream",
     "text": [
      "C:\\Users\\HP\\anaconda3\\envs\\Pytorchgpu\\lib\\site-packages\\sklearn\\utils\\deprecation.py:87: FutureWarning: Function get_feature_names is deprecated; get_feature_names is deprecated in 1.0 and will be removed in 1.2. Please use get_feature_names_out instead.\n",
      "  warnings.warn(msg, category=FutureWarning)\n",
      "C:\\Users\\HP\\anaconda3\\envs\\Pytorchgpu\\lib\\site-packages\\sklearn\\utils\\deprecation.py:87: FutureWarning: Function get_feature_names is deprecated; get_feature_names is deprecated in 1.0 and will be removed in 1.2. Please use get_feature_names_out instead.\n",
      "  warnings.warn(msg, category=FutureWarning)\n",
      "C:\\Users\\HP\\anaconda3\\envs\\Pytorchgpu\\lib\\site-packages\\sklearn\\utils\\deprecation.py:87: FutureWarning: Function get_feature_names is deprecated; get_feature_names is deprecated in 1.0 and will be removed in 1.2. Please use get_feature_names_out instead.\n",
      "  warnings.warn(msg, category=FutureWarning)\n"
     ]
    },
    {
     "name": "stdout",
     "output_type": "stream",
     "text": [
      "['adjacent', 'adjacent selected', 'applying', 'applying floating', 'applying plurality', 'applying pre', 'applying program', 'applying series', 'cell', 'cell performing', 'cell verification', 'corresponding', 'corresponding target', 'device', 'device includes', 'first', 'first wordline', 'flash', 'flash memory', 'floating', 'floating voltage', 'includes', 'includes applying', 'includes selecting', 'incremental', 'incremental verifying', 'loop', 'loop includes', 'loop programming', 'memory', 'memory cell', 'memory device', 'method', 'method programming', 'pas', 'pas voltage', 'performing', 'performing programming', 'performing verification', 'plurality', 'plurality pas', 'plurality wordlines', 'pre', 'pre pulse', 'program', 'program voltage', 'programmed', 'programmed selected', 'programming', 'programming flash', 'programming loop', 'pulse', 'pulse voltage', 'second', 'second wordline', 'select', 'select selected', 'selected', 'selected wordline', 'selecting', 'selecting first', 'series', 'series incremental', 'target', 'target memory', 'unselected', 'unselected wordlines', 'verification', 'verification includes', 'verification target', 'verifying', 'verifying voltage', 'voltage', 'voltage applying', 'voltage second', 'voltage selected', 'voltage unselected', 'wordline', 'wordline adjacent', 'wordline applying', 'wordline corresponding', 'wordline performing', 'wordline plurality', 'wordline programmed', 'wordline selected', 'wordlines', 'wordlines applying', 'wordlines plurality', 'wordlines second', 'wordlines select']\n",
      "['acquisition', 'acquisition request', 'application', 'application discloses', 'based', 'based block', 'block', 'block chain', 'carrying', 'carrying platform', 'chain', 'chain network', 'chain technology', 'checking', 'checking method', 'comprises', 'comprises following', 'copyright', 'copyright acquisition', 'copyright checking', 'copyright information', 'copyright verification', 'cost', 'cost resource', 'creating', 'creating maintaining', 'device', 'device related', 'discloses', 'discloses resource', 'effectively', 'effectively reduced', 'effectiveness', 'effectiveness tamper', 'embodiment', 'embodiment application', 'equipment', 'equipment method', 'establishing', 'establishing public', 'following', 'following step', 'furthermore', 'furthermore real', 'guaranteed', 'guaranteed block', 'identifier', 'identifier block', 'identifier resource', 'information', 'information guaranteed', 'information resource', 'information system', 'maintaining', 'maintaining resource', 'maintenance', 'maintenance cost', 'method', 'method comprises', 'method device', 'multi', 'multi resource', 'need', 'need perform', 'network', 'network node', 'network resource', 'network return', 'network sending', 'network without', 'node', 'node block', 'operation', 'operation maintenance', 'perform', 'perform resource', 'platform', 'platform based', 'platform effectively', 'platform need', 'platform response', 'platform share', 'platform unique', 'public', 'public resource', 'real', 'real effectiveness', 'reduced', 'reduced furthermore', 'related', 'related equipment', 'related resource', 'request', 'request carrying', 'request since', 'resistance', 'resistance resource', 'resource', 'resource copyright', 'resource platform', 'resource unique', 'response', 'response resource', 'return', 'return related', 'security', 'security resource', 'sending', 'sending resource', 'set', 'set resource', 'share', 'share set', 'since', 'since various', 'singly', 'singly creating', 'step', 'step establishing', 'system', 'system block', 'system multi', 'system operation', 'tamper', 'tamper resistance', 'technology', 'technology security', 'unique', 'unique identifier', 'various', 'various platform', 'verification', 'verification wherein', 'wherein', 'wherein network', 'without', 'without singly']\n"
     ]
    },
    {
     "name": "stderr",
     "output_type": "stream",
     "text": [
      "C:\\Users\\HP\\anaconda3\\envs\\Pytorchgpu\\lib\\site-packages\\sklearn\\utils\\deprecation.py:87: FutureWarning: Function get_feature_names is deprecated; get_feature_names is deprecated in 1.0 and will be removed in 1.2. Please use get_feature_names_out instead.\n",
      "  warnings.warn(msg, category=FutureWarning)\n",
      "C:\\Users\\HP\\anaconda3\\envs\\Pytorchgpu\\lib\\site-packages\\sklearn\\utils\\deprecation.py:87: FutureWarning: Function get_feature_names is deprecated; get_feature_names is deprecated in 1.0 and will be removed in 1.2. Please use get_feature_names_out instead.\n",
      "  warnings.warn(msg, category=FutureWarning)\n",
      "C:\\Users\\HP\\anaconda3\\envs\\Pytorchgpu\\lib\\site-packages\\sklearn\\utils\\deprecation.py:87: FutureWarning: Function get_feature_names is deprecated; get_feature_names is deprecated in 1.0 and will be removed in 1.2. Please use get_feature_names_out instead.\n",
      "  warnings.warn(msg, category=FutureWarning)\n"
     ]
    },
    {
     "name": "stdout",
     "output_type": "stream",
     "text": [
      "['according', 'according comparison', 'according invention', 'adversarial', 'adversarial network', 'based', 'based original', 'based standard', 'collection', 'collection difficulty', 'comparison', 'comparison condition', 'comprises', 'comprises image', 'comprises standard', 'comprises step', 'condition', 'condition detected', 'condition template', 'degree', 'degree reach', 'detected', 'detected image', 'detection', 'detection method', 'detection result', 'determining', 'determining detection', 'determining similarity', 'device', 'device storage', 'difficulty', 'difficulty training', 'discloses', 'discloses image', 'generated', 'generated based', 'generation', 'generation model', 'generative', 'generative adversarial', 'image', 'image according', 'image detection', 'image generation', 'image pair', 'image reduced', 'image set', 'image similarity', 'image target', 'image template', 'image wherein', 'invention', 'invention collection', 'invention discloses', 'lot', 'lot manpowerand', 'manpowerand', 'manpowerand material', 'material', 'material resource', 'medium', 'medium method', 'method', 'method comprises', 'method device', 'model', 'model based', 'model comprises', 'model obtained', 'model obtaining', 'network', 'network model', 'normal', 'normal state', 'object', 'object determining', 'object generated', 'object normal', 'obtained', 'obtained training', 'obtaining', 'obtaining detected', 'obtaining target', 'original', 'original image', 'pair', 'pair target', 'preset', 'preset condition', 'reach', 'reach preset', 'reduced', 'reduced lot', 'resource', 'resource saved', 'result', 'result detected', 'saved', 'set', 'set comprises', 'set determining', 'set wherein', 'similarity', 'similarity degree', 'similarity detected', 'standard', 'standard image', 'state', 'state according', 'step', 'step obtaining', 'storage', 'storage medium', 'target', 'target object', 'target template', 'template', 'template image', 'training', 'training generative', 'training image', 'wherein', 'wherein standard', 'wherein template']\n",
      "['according', 'according tothe', 'accuracy', 'accuracy compared', 'accuracy perform', 'advertisement', 'advertisement click', 'advertisement preprocessing', 'algorithm', 'algorithm deep', 'algorithm form', 'algorithm reduce', 'andenhances', 'andenhances integrity', 'based', 'based advertisement', 'based gru', 'based lstm', 'bit', 'bit value', 'carried', 'carried improved', 'character', 'character way', 'click', 'click rate', 'coding', 'coding subscript', 'combine', 'combine regression', 'compared', 'compared lstm', 'compared rnn', 'compared user', 'construct', 'construct time', 'data', 'data andenhances', 'data based', 'data compared', 'data text', 'deep', 'deep learning', 'digitally', 'digitally encoded', 'dimension', 'dimension feature', 'discloses', 'discloses method', 'encoded', 'encoded one', 'faster', 'faster model', 'feature', 'feature digitally', 'feature greatly', 'feature model', 'feature selection', 'final', 'final prediction', 'firstly', 'firstly feature', 'form', 'form final', 'greatly', 'greatly reduced', 'gru', 'gru neural', 'gru prediction', 'hot', 'hot coding', 'improve', 'improve prediction', 'improved', 'improved according', 'improved gru', 'integrity', 'integrity stability', 'interference', 'interference invalid', 'invalid', 'invalid feature', 'invention', 'invention combine', 'invention discloses', 'learning', 'learning algorithm', 'lstm', 'lstm neural', 'lstm prediction', 'mapped', 'mapped value', 'method', 'method advertisement', 'method construct', 'method firstly', 'model', 'model improve', 'model improved', 'model quickly', 'model training', 'network', 'network based', 'network gru', 'network invention', 'network method', 'neural', 'neural network', 'one', 'one hot', 'perform', 'perform faster', 'performed', 'performed ridge', 'predicting', 'predicting carried', 'prediction', 'prediction accuracy', 'prediction based', 'prediction method', 'prediction model', 'preprocessing', 'preprocessing data', 'quickly', 'quickly improve', 'rate', 'rate prediction', 'reduce', 'reduce interference', 'reduced', 'reduced training', 'regression', 'regression algorithm', 'ridge', 'ridge regression', 'rnn', 'rnn prediction', 'selection', 'selection performed', 'series', 'series data', 'speed', 'speed model', 'stability', 'stability series', 'subscript', 'subscript bit', 'taken', 'taken mapped', 'text', 'text feature', 'time', 'time series', 'tothe', 'tothe method', 'training', 'training compared', 'training predicting', 'training speed', 'training training', 'user', 'user series', 'value', 'value character', 'value mapped', 'value taken', 'way', 'way dimension']\n"
     ]
    },
    {
     "name": "stderr",
     "output_type": "stream",
     "text": [
      "C:\\Users\\HP\\anaconda3\\envs\\Pytorchgpu\\lib\\site-packages\\sklearn\\utils\\deprecation.py:87: FutureWarning: Function get_feature_names is deprecated; get_feature_names is deprecated in 1.0 and will be removed in 1.2. Please use get_feature_names_out instead.\n",
      "  warnings.warn(msg, category=FutureWarning)\n",
      "C:\\Users\\HP\\anaconda3\\envs\\Pytorchgpu\\lib\\site-packages\\sklearn\\utils\\deprecation.py:87: FutureWarning: Function get_feature_names is deprecated; get_feature_names is deprecated in 1.0 and will be removed in 1.2. Please use get_feature_names_out instead.\n",
      "  warnings.warn(msg, category=FutureWarning)\n",
      "C:\\Users\\HP\\anaconda3\\envs\\Pytorchgpu\\lib\\site-packages\\sklearn\\utils\\deprecation.py:87: FutureWarning: Function get_feature_names is deprecated; get_feature_names is deprecated in 1.0 and will be removed in 1.2. Please use get_feature_names_out instead.\n",
      "  warnings.warn(msg, category=FutureWarning)\n",
      "C:\\Users\\HP\\anaconda3\\envs\\Pytorchgpu\\lib\\site-packages\\sklearn\\utils\\deprecation.py:87: FutureWarning: Function get_feature_names is deprecated; get_feature_names is deprecated in 1.0 and will be removed in 1.2. Please use get_feature_names_out instead.\n",
      "  warnings.warn(msg, category=FutureWarning)\n",
      "C:\\Users\\HP\\anaconda3\\envs\\Pytorchgpu\\lib\\site-packages\\sklearn\\utils\\deprecation.py:87: FutureWarning: Function get_feature_names is deprecated; get_feature_names is deprecated in 1.0 and will be removed in 1.2. Please use get_feature_names_out instead.\n",
      "  warnings.warn(msg, category=FutureWarning)\n"
     ]
    },
    {
     "name": "stdout",
     "output_type": "stream",
     "text": [
      "['adopting', 'adopting storage', 'andthe', 'andthe system', 'arranged', 'arranged distribution', 'body', 'body controller', 'box', 'box body', 'building', 'building andthe', 'building delivery', 'cabin', 'cabin resident', 'carrying', 'carrying good', 'carrying platform', 'comprises', 'comprises plurality', 'connected', 'connected signal', 'connection', 'connection signal', 'control', 'control push', 'controller', 'controller controller', 'controller driving', 'controller motor', 'cost', 'cost reduced', 'cylinder', 'cylinder adopting', 'cylinder motor', 'delivery', 'delivery good', 'detecting', 'detecting real', 'discloses', 'discloses storage', 'distribution', 'distribution cabin', 'distribution failure', 'distribution maintenance', 'drive', 'drive good', 'driving', 'driving connection', 'efficiency', 'efficiency distribution', 'electric', 'electric cylinder', 'electrically', 'electrically connected', 'end', 'end controller', 'end plurality', 'end servo', 'equipment', 'equipment improved', 'failure', 'failure reduced', 'good', 'good carrying', 'good system', 'good wherein', 'improved', 'input', 'input end', 'invention', 'invention discloses', 'maintenance', 'maintenance cost', 'maintenance equipment', 'method', 'method residential', 'method theprobability', 'motor', 'motor control', 'motor drive', 'platform', 'platform servo', 'platform used', 'plurality', 'plurality sensing', 'positioning', 'positioning method', 'pull', 'pull good', 'push', 'push pull', 'push rod', 'real', 'real time', 'reduced', 'reduced efficiency', 'reduced maintenance', 'resident', 'resident residential', 'residential', 'residential building', 'rod', 'rod push', 'sensing', 'sensing unit', 'servo', 'servo electric', 'signal', 'signal input', 'signaloutput', 'signaloutput end', 'state', 'state box', 'storage', 'storage system', 'system', 'system arranged', 'system comprises', 'system positioning', 'theprobability', 'theprobability distribution', 'time', 'time state', 'unit', 'unit detecting', 'unit electrically', 'used', 'used carrying', 'wherein', 'wherein signaloutput']\n",
      "['air', 'air piston', 'air pressurized', 'air source', 'applying', 'applying inertial', 'body', 'body purge', 'booster', 'booster circuit', 'booster system', 'booster valve', 'causing', 'causing plunger', 'chamber', 'chamber air', 'chamber liquid', 'chamber piston', 'circuit', 'circuit communicates', 'circuit includes', 'communicates', 'communicates pressure', 'device', 'device air', 'device discharging', 'device includes', 'device supply', 'discharge', 'discharge device', 'discharge port', 'discharging', 'discharging liquid', 'disposed', 'disposed pressurized', 'elastic', 'elastic body', 'end', 'end piston', 'excess', 'excess urging', 'first', 'first booster', 'first second', 'force', 'force elastic', 'force liquid', 'formed', 'formed rear', 'forward', 'forward applying', 'gas', 'gas supplied', 'includes', 'includes first', 'includes plunger', 'including', 'including booster', 'including piston', 'inertial', 'inertial force', 'liquid', 'liquid material', 'material', 'material booster', 'material discharge', 'merge', 'merge together', 'merging', 'merging section', 'move', 'move forward', 'piston', 'piston chamber', 'piston disposed', 'piston formed', 'plunger', 'plunger including', 'plunger move', 'port', 'port causing', 'pressure', 'pressure reducing', 'pressure supply', 'pressurized', 'pressurized air', 'pressurized excess', 'pressurized gas', 'purge', 'purge pressurized', 'rear', 'rear end', 'reducing', 'reducing valve', 'second', 'second booster', 'section', 'section first', 'source', 'source booster', 'supplied', 'supplied pressure', 'supply', 'supply device', 'supply piston', 'system', 'system including', 'system merge', 'system second', 'together', 'urging', 'urging force', 'valve', 'valve merging', 'valve pressure']\n"
     ]
    },
    {
     "name": "stderr",
     "output_type": "stream",
     "text": [
      "C:\\Users\\HP\\anaconda3\\envs\\Pytorchgpu\\lib\\site-packages\\sklearn\\utils\\deprecation.py:87: FutureWarning: Function get_feature_names is deprecated; get_feature_names is deprecated in 1.0 and will be removed in 1.2. Please use get_feature_names_out instead.\n",
      "  warnings.warn(msg, category=FutureWarning)\n",
      "C:\\Users\\HP\\anaconda3\\envs\\Pytorchgpu\\lib\\site-packages\\sklearn\\utils\\deprecation.py:87: FutureWarning: Function get_feature_names is deprecated; get_feature_names is deprecated in 1.0 and will be removed in 1.2. Please use get_feature_names_out instead.\n",
      "  warnings.warn(msg, category=FutureWarning)\n",
      "C:\\Users\\HP\\anaconda3\\envs\\Pytorchgpu\\lib\\site-packages\\sklearn\\utils\\deprecation.py:87: FutureWarning: Function get_feature_names is deprecated; get_feature_names is deprecated in 1.0 and will be removed in 1.2. Please use get_feature_names_out instead.\n",
      "  warnings.warn(msg, category=FutureWarning)\n"
     ]
    },
    {
     "name": "stdout",
     "output_type": "stream",
     "text": [
      "['achieved', 'achieved heating', 'andthe', 'andthe two', 'battery', 'battery contact', 'battery cooled', 'battery cooling', 'battery high', 'battery pack', 'battery reduced', 'battery semiconductor', 'battery side', 'battery thermal', 'battery transmitted', 'carry', 'carry high', 'change', 'change material', 'charging', 'charging discharging', 'chilling', 'chilling plate', 'cling', 'cling phase', 'cling square', 'comprises', 'comprises square', 'conducted', 'conducted semiconductor', 'consumption', 'consumption achieved', 'contact', 'contact semiconductor', 'cooled', 'cooled phase', 'cooling', 'cooling requirement', 'current', 'current conducted', 'deg', 'deg reverse', 'discharging', 'discharging heat', 'dissipation', 'dissipation function', 'efficiency', 'efficiency low', 'electrified', 'electrified work', 'energy', 'energy consumption', 'environment', 'environment temperature', 'even', 'even environment', 'exists', 'exists highest', 'field', 'field lithium', 'function', 'function battery', 'generated', 'generated battery', 'heat', 'heat battery', 'heat dissipation', 'heat generated', 'heating', 'heating function', 'high', 'high efficiency', 'high rate', 'higher', 'higher temperature', 'highest', 'highest temperature', 'invention', 'invention carry', 'invention relates', 'ion', 'ion battery', 'lithium', 'lithium battery', 'lithium ion', 'low', 'low energy', 'lower', 'lower zero', 'mainly', 'mainly comprises', 'management', 'management method', 'management structure', 'material', 'material andthe', 'material contact', 'material semiconductor', 'material two', 'method', 'method thereof', 'one', 'one side', 'pack', 'pack achieved', 'pack realized', 'pack thermal', 'particular', 'particular square', 'phase', 'phase change', 'plate', 'plate battery', 'plate cling', 'plate electrified', 'plate heat', 'plate one', 'plate phase', 'provided', 'provided invention', 'rate', 'rate charging', 'realized', 'realized even', 'reduced', 'reduced heat', 'refrigerate', 'refrigerate battery', 'relates', 'relates technical', 'requirement', 'requirement still', 'reverse', 'reverse current', 'semiconductor', 'semiconductor chilling', 'side', 'side cling', 'side semiconductor', 'side surface', 'square', 'square lithium', 'still', 'still exists', 'structure', 'structure mainly', 'structure provided', 'structure square', 'surface', 'surface phase', 'surface square', 'technical', 'technical field', 'temperature', 'temperature battery', 'temperature higher', 'temperature lower', 'thereof', 'thereof particular', 'thermal', 'thermal management', 'transmitted', 'transmitted phase', 'two', 'two side', 'work', 'work refrigerate', 'zero', 'zero deg']\n"
     ]
    },
    {
     "name": "stderr",
     "output_type": "stream",
     "text": [
      "C:\\Users\\HP\\anaconda3\\envs\\Pytorchgpu\\lib\\site-packages\\sklearn\\utils\\deprecation.py:87: FutureWarning: Function get_feature_names is deprecated; get_feature_names is deprecated in 1.0 and will be removed in 1.2. Please use get_feature_names_out instead.\n",
      "  warnings.warn(msg, category=FutureWarning)\n",
      "C:\\Users\\HP\\anaconda3\\envs\\Pytorchgpu\\lib\\site-packages\\sklearn\\utils\\deprecation.py:87: FutureWarning: Function get_feature_names is deprecated; get_feature_names is deprecated in 1.0 and will be removed in 1.2. Please use get_feature_names_out instead.\n",
      "  warnings.warn(msg, category=FutureWarning)\n"
     ]
    },
    {
     "name": "stdout",
     "output_type": "stream",
     "text": [
      "['according', 'according cleaning', 'achieved', 'achieved efficiency', 'antiskidding', 'antiskidding layer', 'arranging', 'arranging hydraulic', 'baffle', 'baffle cleaning', 'baffle motor', 'baking', 'baking device', 'base', 'base cleaning', 'base sequentially', 'base whereinan', 'bottom', 'bottom baffle', 'bottom cleaning', 'bottom fixed', 'brush', 'brush device', 'brush rotating', 'cleaning', 'cleaning cleaning', 'cleaning device', 'cleaning hair', 'cleaning snail', 'comprises', 'comprises fixed', 'connected', 'connected drainage', 'device', 'device according', 'device baking', 'device fixedly', 'device one', 'device surface', 'device used', 'drainage', 'drainage opening', 'driven', 'driven move', 'driven pas', 'efficiency', 'efficiency cleaning', 'field', 'field snail', 'fixed', 'fixed base', 'fixedly', 'fixedly connected', 'fixedly mounted', 'groove', 'groove hydraulic', 'hair', 'hair brush', 'hydraulic', 'hydraulic press', 'inclusive', 'inclusive cleaning', 'increased', 'internal', 'internal wall', 'invention', 'invention provides', 'jointly', 'jointly arranging', 'layer', 'layer fixedly', 'left', 'left right', 'motor', 'motor driven', 'motor rotating', 'motor thus', 'mounted', 'mounted bottom', 'mounted internal', 'mounted top', 'move', 'move sliding', 'moving', 'moving port', 'one', 'one side', 'opening', 'opening penetrating', 'pas', 'pas rotating', 'penetrating', 'penetrating one', 'port', 'port cleaning', 'port rotating', 'press', 'press baffle', 'press rotating', 'provides', 'provides cleaning', 'relates', 'relates technical', 'right', 'right sewage', 'rotating', 'rotating motor', 'rotating shaft', 'sequentially', 'sequentially left', 'sewage', 'sewage tank', 'shaft', 'shaft driven', 'shaft moving', 'shaft topbaffle', 'side', 'side sewage', 'side thecleaning', 'sliding', 'sliding groove', 'snail', 'snail achieved', 'snail cleaning', 'snail comprises', 'snail increased', 'snail jointly', 'snail motor', 'snail relates', 'surface', 'surface snail', 'tank', 'tank fixedly', 'technical', 'technical field', 'thecleaning', 'thecleaning device', 'thus', 'thus inclusive', 'top', 'top fixed', 'topbaffle', 'topbaffle bottom', 'used', 'used cleaning', 'wall', 'wall bottom', 'whereinan', 'whereinan antiskidding']\n",
      "['arranged', 'arranged left', 'column', 'column fixed', 'column flat', 'column folding', 'column left', 'compressing', 'compressing device', 'comprises', 'comprises flat', 'connected', 'connected fixed', 'connection', 'connection left', 'controlled', 'controlled different', 'device', 'device comprises', 'device mask', 'different', 'different folding', 'end', 'end folding', 'end two', 'field', 'field mask', 'fixed', 'fixed shaft', 'fixed two', 'fixedly', 'fixedly connected', 'flat', 'flat plate', 'fold', 'fold controlled', 'folded', 'folded position', 'folding', 'folding compressing', 'folding requirement', 'folding rotating', 'formed', 'formed left', 'groove', 'groove formed', 'groove left', 'hinged', 'hinged upper', 'invention', 'invention relates', 'left', 'left right', 'left rightdirection', 'left side', 'manufacturing', 'manufacturing particular', 'mask', 'mask folded', 'mask folding', 'mask manufacturing', 'mean', 'mean mask', 'met', 'met side', 'moving', 'moving column', 'one', 'one end', 'particular', 'particular mask', 'plate', 'plate arranged', 'plate fixed', 'plate fixedly', 'plate hinged', 'plate side', 'plate sliding', 'position', 'position fold', 'position left', 'relates', 'relates field', 'relative', 'relative position', 'requirement', 'requirement met', 'right', 'right moving', 'right one', 'right side', 'rightdirection', 'rightdirection relative', 'rotating', 'rotating plate', 'shaft', 'shaft mean', 'shaft two', 'side', 'side flat', 'side groove', 'side right', 'sliding', 'sliding connection', 'two', 'two folding', 'two left', 'upper', 'upper end']\n"
     ]
    },
    {
     "name": "stderr",
     "output_type": "stream",
     "text": [
      "C:\\Users\\HP\\anaconda3\\envs\\Pytorchgpu\\lib\\site-packages\\sklearn\\utils\\deprecation.py:87: FutureWarning: Function get_feature_names is deprecated; get_feature_names is deprecated in 1.0 and will be removed in 1.2. Please use get_feature_names_out instead.\n",
      "  warnings.warn(msg, category=FutureWarning)\n",
      "C:\\Users\\HP\\anaconda3\\envs\\Pytorchgpu\\lib\\site-packages\\sklearn\\utils\\deprecation.py:87: FutureWarning: Function get_feature_names is deprecated; get_feature_names is deprecated in 1.0 and will be removed in 1.2. Please use get_feature_names_out instead.\n",
      "  warnings.warn(msg, category=FutureWarning)\n",
      "C:\\Users\\HP\\anaconda3\\envs\\Pytorchgpu\\lib\\site-packages\\sklearn\\utils\\deprecation.py:87: FutureWarning: Function get_feature_names is deprecated; get_feature_names is deprecated in 1.0 and will be removed in 1.2. Please use get_feature_names_out instead.\n",
      "  warnings.warn(msg, category=FutureWarning)\n",
      "C:\\Users\\HP\\anaconda3\\envs\\Pytorchgpu\\lib\\site-packages\\sklearn\\utils\\deprecation.py:87: FutureWarning: Function get_feature_names is deprecated; get_feature_names is deprecated in 1.0 and will be removed in 1.2. Please use get_feature_names_out instead.\n",
      "  warnings.warn(msg, category=FutureWarning)\n",
      "C:\\Users\\HP\\anaconda3\\envs\\Pytorchgpu\\lib\\site-packages\\sklearn\\utils\\deprecation.py:87: FutureWarning: Function get_feature_names is deprecated; get_feature_names is deprecated in 1.0 and will be removed in 1.2. Please use get_feature_names_out instead.\n",
      "  warnings.warn(msg, category=FutureWarning)\n"
     ]
    },
    {
     "name": "stdout",
     "output_type": "stream",
     "text": [
      "['adsorbed', 'adsorbed evenly', 'biocompatibility', 'biocompatibility tribological', 'board', 'board graphene', 'board immersing', 'composite', 'composite material', 'dried', 'dried uhmwpe', 'drying', 'drying substrate', 'effectively', 'effectively reduce', 'evenly', 'evenly spread', 'excellent', 'excellent biocompatibility', 'film', 'film effectively', 'following', 'following step', 'form', 'form lurbricating', 'form uhmwpe', 'fully', 'fully dried', 'grade', 'grade ultra', 'graphene', 'graphene oxide', 'high', 'high molecular', 'immersing', 'immersing uhmwpe', 'including', 'including following', 'induction', 'induction form', 'induction ultrasonic', 'infiltrates', 'infiltrates uhmwpe', 'invention', 'invention provides', 'lurbricating', 'lurbricating film', 'material', 'material excellent', 'material including', 'material medical', 'material obtain', 'medical', 'medical grade', 'method', 'method preparing', 'molecular', 'molecular weight', 'obtain', 'obtain fully', 'obtain ultra', 'oxide', 'oxide adsorbed', 'oxide solution', 'performing', 'performing ultrasonic', 'polyethylene', 'polyethylene composite', 'polyethylene powder', 'polyethylene uhmwpe', 'powder', 'powder drying', 'powder form', 'powder pressing', 'preparing', 'preparing ultra', 'present', 'present invention', 'pressing', 'pressing fully', 'processor', 'processor graphene', 'property', 'property graphene', 'provides', 'provides method', 'providing', 'providing substrate', 'reduce', 'reduce wear', 'solution', 'solution infiltrates', 'solution performing', 'spread', 'spread surface', 'step', 'step providing', 'substrate', 'substrate material', 'substrate obtain', 'substrate ultrasonic', 'surface', 'surface uhmwpe', 'tribological', 'tribological property', 'uhmwpe', 'uhmwpe board', 'uhmwpe composite', 'uhmwpe powder', 'uhmwpe substrate', 'ultra', 'ultra high', 'ultrasonic', 'ultrasonic induction', 'ultrasonic processor', 'wear', 'weight', 'weight polyethylene']\n"
     ]
    },
    {
     "name": "stderr",
     "output_type": "stream",
     "text": [
      "C:\\Users\\HP\\anaconda3\\envs\\Pytorchgpu\\lib\\site-packages\\sklearn\\utils\\deprecation.py:87: FutureWarning: Function get_feature_names is deprecated; get_feature_names is deprecated in 1.0 and will be removed in 1.2. Please use get_feature_names_out instead.\n",
      "  warnings.warn(msg, category=FutureWarning)\n",
      "C:\\Users\\HP\\anaconda3\\envs\\Pytorchgpu\\lib\\site-packages\\sklearn\\utils\\deprecation.py:87: FutureWarning: Function get_feature_names is deprecated; get_feature_names is deprecated in 1.0 and will be removed in 1.2. Please use get_feature_names_out instead.\n",
      "  warnings.warn(msg, category=FutureWarning)\n"
     ]
    },
    {
     "name": "stdout",
     "output_type": "stream",
     "text": [
      "['ability', 'ability assessment', 'ap', 'ap automatic', 'apch', 'apch trial', 'approach', 'approach operation', 'approach zone', 'aspect', 'aspect rnp', 'assessment', 'assessment condition', 'assessment wherein', 'automatic', 'automatic conversion', 'automatic piloting', 'based', 'based trial', 'characterized', 'characterized comprising', 'check', 'check condition', 'check flight', 'complete', 'complete rnp', 'comprises', 'comprises following', 'comprises terminal', 'comprising', 'comprising following', 'condition', 'condition complete', 'condition rnp', 'consistent', 'consistent given', 'conversion', 'conversion logic', 'designing', 'designing trial', 'direction', 'direction vor', 'distance', 'distance measurement', 'dme', 'dme dme', 'dme navigation', 'dme precision', 'dme sequentially', 'fd', 'fd flight', 'flight', 'flight approach', 'flight comprises', 'flight direction', 'flight management', 'flight method', 'flight plan', 'flight specifically', 'flightplan', 'flightplan operation', 'fms', 'fms flight', 'following', 'following several', 'following step', 'function', 'function check', 'given', 'given state', 'gps', 'gps dme', 'invention', 'invention provides', 'isperformed', 'isperformed gps', 'logic', 'logic navigation', 'management', 'management system', 'measurement', 'measurement fms', 'meet', 'meet rnp', 'method', 'method characterized', 'method required', 'mode', 'mode observed', 'mode selection', 'mode suppressed', 'navigation', 'navigation mode', 'navigation performance', 'observed', 'operation', 'operation condition', 'operation consistent', 'operation function', 'performance', 'performance based', 'performed', 'performed vor', 'piloting', 'piloting fd', 'plan', 'plan operation', 'plan rnp', 'point', 'point isperformed', 'point performed', 'precision', 'precision distance', 'prediction', 'prediction ap', 'prediction meet', 'process', 'process raim', 'provides', 'provides required', 'raim', 'raim prediction', 'raim satellite', 'reliability', 'reliability prediction', 'required', 'required navigation', 'rnp', 'rnp apch', 'rnp approach', 'rnp flight', 'rnp flightplan', 'rnp operation', 'rnp raim', 'rnp trial', 'satellite', 'satellite reliability', 'selection', 'selection ability', 'sequentially', 'sequentially suppressed', 'several', 'several aspect', 'specifically', 'specifically comprises', 'state', 'state point', 'step', 'step designing', 'suppressed', 'suppressed automatic', 'suppressed whole', 'system', 'system flight', 'system navigation', 'terminal', 'terminal zone', 'trial', 'trial flight', 'vor', 'vor dme', 'vor vor', 'wherein', 'wherein rnp', 'whole', 'whole process', 'zone', 'zone rnp']\n"
     ]
    },
    {
     "name": "stderr",
     "output_type": "stream",
     "text": [
      "C:\\Users\\HP\\anaconda3\\envs\\Pytorchgpu\\lib\\site-packages\\sklearn\\utils\\deprecation.py:87: FutureWarning: Function get_feature_names is deprecated; get_feature_names is deprecated in 1.0 and will be removed in 1.2. Please use get_feature_names_out instead.\n",
      "  warnings.warn(msg, category=FutureWarning)\n",
      "C:\\Users\\HP\\anaconda3\\envs\\Pytorchgpu\\lib\\site-packages\\sklearn\\utils\\deprecation.py:87: FutureWarning: Function get_feature_names is deprecated; get_feature_names is deprecated in 1.0 and will be removed in 1.2. Please use get_feature_names_out instead.\n",
      "  warnings.warn(msg, category=FutureWarning)\n",
      "C:\\Users\\HP\\anaconda3\\envs\\Pytorchgpu\\lib\\site-packages\\sklearn\\utils\\deprecation.py:87: FutureWarning: Function get_feature_names is deprecated; get_feature_names is deprecated in 1.0 and will be removed in 1.2. Please use get_feature_names_out instead.\n",
      "  warnings.warn(msg, category=FutureWarning)\n"
     ]
    },
    {
     "name": "stdout",
     "output_type": "stream",
     "text": [
      "['adjusted', 'adjusted vertical', 'areference', 'areference piece', 'combination', 'combination rebar', 'diameter', 'diameter hole', 'dimension', 'dimension inner', 'discloses', 'discloses method', 'efficiency', 'efficiency embedded', 'embedded', 'embedded part', 'end', 'end needing', 'end rebar', 'flushed', 'flushed surface', 'following', 'following step', 'frame', 'frame welding', 'hole', 'hole horizontally', 'hole reference', 'hole thickness', 'horizontal', 'horizontal plane', 'horizontally', 'horizontally placed', 'improved', 'improved productionquality', 'includes', 'includes following', 'inner', 'inner diameter', 'inserted', 'inserted hole', 'installed', 'installed end', 'invention', 'invention discloses', 'jig', 'jig frame', 'length', 'length dimension', 'method', 'method improved', 'method includes', 'method welding', 'mm', 'mm taken', 'needing', 'needing welding', 'part', 'part welding', 'performs', 'performs welding', 'piece', 'piece flushed', 'piece installed', 'piece removed', 'piece whose', 'placed', 'placed horizontal', 'placed jig', 'plane', 'plane areference', 'plate', 'plate hole', 'plate placed', 'plate rebar', 'productionquality', 'productionquality efficiency', 'rebar', 'rebar adjusted', 'rebar end', 'rebar inserted', 'rebar steel', 'reference', 'reference piece', 'removed', 'removed welding', 'robot', 'robot method', 'robot performs', 'robot reference', 'spot', 'spot welding', 'steel', 'steel plate', 'step', 'step steel', 'surface', 'surface steel', 'taken', 'taken reference', 'thickness', 'thickness mm', 'vertical', 'vertical spot', 'welding', 'welding combination', 'welding embedded', 'welding method', 'welding rebar', 'welding robot', 'welding spot', 'whose', 'whose length']\n",
      "['according', 'according invention', 'achieved', 'achieved one', 'arranged', 'arranged bilateral', 'arranged two', 'arranged upper', 'avoided', 'avoided data', 'bilateral', 'bilateral symmetry', 'board', 'board electric', 'board main', 'board provided', 'clamped', 'clamped inwards', 'clamping', 'clamping head', 'clamping interface', 'clamping opening', 'comprises', 'comprises main', 'connected', 'connected first', 'connecting', 'connecting structure', 'controller', 'controller solved', 'controller structure', 'convenient', 'data', 'data interface', 'difficulty', 'difficulty small', 'direction', 'direction according', 'discloses', 'discloses wiring', 'dismounting', 'dismounting stable', 'easy', 'easy pull', 'elastic', 'elastic mechanism', 'electric', 'electric wall', 'enabling', 'enabling overturning', 'end', 'end pin', 'first', 'first interface', 'hand', 'hand prone', 'hanging', 'hanging stove', 'head', 'head arranged', 'injured', 'injured manual', 'interface', 'interface arranged', 'interface connecting', 'interface main', 'interface need', 'interface terminal', 'interface terminalsand', 'invention', 'invention discloses', 'invention problem', 'inwards', 'inwards arranged', 'left', 'left right', 'main', 'main board', 'manner', 'manner elastic', 'manual', 'manual pulling', 'many', 'many data', 'matched', 'matched mode', 'mechanism', 'mechanism used', 'mode', 'mode first', 'mounting', 'mounting provided', 'mountingcan', 'mountingcan achieved', 'need', 'need replaced', 'needed', 'needed pulling', 'one', 'one one', 'one pulling', 'opening', 'opening clamped', 'opening symmetrical', 'overturning', 'overturning clamping', 'pin', 'pin clamping', 'pin second', 'plurality', 'plurality first', 'problem', 'problem data', 'problem hand', 'prone', 'prone injured', 'provided', 'provided overturning', 'provided plurality', 'provided structure', 'provided two', 'pull', 'pull stable', 'pulled', 'pulled rapid', 'pulling', 'pulling avoided', 'pulling difficulty', 'pulling needed', 'rapid', 'rapid dismounting', 'replaced', 'replaced pulled', 'right', 'right direction', 'second', 'second interface', 'simple', 'simple use', 'small', 'small problem', 'solved', 'solved many', 'stable', 'stable mounting', 'stable mountingcan', 'stove', 'stove controller', 'structure', 'structure comprises', 'structure easy', 'structure electric', 'structure simple', 'symmetrical', 'symmetrical left', 'symmetry', 'symmetry manner', 'terminal', 'terminal matched', 'terminal provided', 'terminal used', 'terminalsand', 'terminalsand second', 'two', 'two overturning', 'two pin', 'upper', 'upper end', 'use', 'use convenient', 'used', 'used connected', 'used enabling', 'wall', 'wall hanging', 'wiring', 'wiring structure']\n"
     ]
    },
    {
     "name": "stderr",
     "output_type": "stream",
     "text": [
      "C:\\Users\\HP\\anaconda3\\envs\\Pytorchgpu\\lib\\site-packages\\sklearn\\utils\\deprecation.py:87: FutureWarning: Function get_feature_names is deprecated; get_feature_names is deprecated in 1.0 and will be removed in 1.2. Please use get_feature_names_out instead.\n",
      "  warnings.warn(msg, category=FutureWarning)\n",
      "C:\\Users\\HP\\anaconda3\\envs\\Pytorchgpu\\lib\\site-packages\\sklearn\\utils\\deprecation.py:87: FutureWarning: Function get_feature_names is deprecated; get_feature_names is deprecated in 1.0 and will be removed in 1.2. Please use get_feature_names_out instead.\n",
      "  warnings.warn(msg, category=FutureWarning)\n",
      "C:\\Users\\HP\\anaconda3\\envs\\Pytorchgpu\\lib\\site-packages\\sklearn\\utils\\deprecation.py:87: FutureWarning: Function get_feature_names is deprecated; get_feature_names is deprecated in 1.0 and will be removed in 1.2. Please use get_feature_names_out instead.\n",
      "  warnings.warn(msg, category=FutureWarning)\n",
      "C:\\Users\\HP\\anaconda3\\envs\\Pytorchgpu\\lib\\site-packages\\sklearn\\utils\\deprecation.py:87: FutureWarning: Function get_feature_names is deprecated; get_feature_names is deprecated in 1.0 and will be removed in 1.2. Please use get_feature_names_out instead.\n",
      "  warnings.warn(msg, category=FutureWarning)\n"
     ]
    },
    {
     "name": "stdout",
     "output_type": "stream",
     "text": [
      "['acceptable', 'acceptable salt', 'composition', 'composition comprising', 'compound', 'compound formula', 'comprising', 'comprising compound', 'concerned', 'concerned manufacture', 'described', 'described herein', 'formula', 'formula use', 'formula wherein', 'herein', 'herein well', 'invention', 'invention concerned', 'invention provides', 'manufacture', 'manufacture pharmaceutical', 'medicament', 'pharmaceutical', 'pharmaceutical composition', 'pharmaceutically', 'pharmaceutically acceptable', 'present', 'present invention', 'provides', 'provides pharmaceutical', 'salt', 'salt thereof', 'thereof', 'thereof present', 'use', 'use medicament', 'well', 'well pharmaceutically', 'wherein', 'wherein described']\n",
      "['arranged', 'arranged body', 'basic', 'basic signal', 'body', 'body display', 'body least', 'body used', 'component', 'component least', 'component two', 'component used', 'component whereinthe', 'comprises', 'comprises body', 'comprises display', 'comprising', 'comprising two', 'connected', 'connected processing', 'connecting', 'connecting component', 'device', 'device comprises', 'device display', 'display', 'display device', 'display equipment', 'display function', 'display module', 'display signal', 'electronic', 'electronic equipment', 'equipment', 'equipment display', 'equipment least', 'except', 'except display', 'extension', 'extension function', 'extension module', 'extension signal', 'first', 'first connecting', 'function', 'function except', 'function extension', 'function invention', 'function least', 'function second', 'function transmission', 'interface', 'interface arranged', 'interface connected', 'invention', 'invention provides', 'least', 'least comprising', 'least one', 'least part', 'least realizes', 'least used', 'module', 'module arranged', 'one', 'one display', 'one function', 'part', 'part function', 'processing', 'processing equipment', 'provides', 'provides display', 'provides electronic', 'realizes', 'realizes one', 'realizing', 'realizing display', 'realizing extension', 'related', 'related display', 'related extension', 'second', 'second connecting', 'signal', 'signal basic', 'signal comprises', 'signal related', 'transmission', 'transmission interface', 'transmitting', 'transmitting basic', 'transmitting least', 'two', 'two connecting', 'used', 'used realizing', 'used transmitting', 'whereinthe', 'whereinthe first']\n"
     ]
    },
    {
     "name": "stderr",
     "output_type": "stream",
     "text": [
      "C:\\Users\\HP\\anaconda3\\envs\\Pytorchgpu\\lib\\site-packages\\sklearn\\utils\\deprecation.py:87: FutureWarning: Function get_feature_names is deprecated; get_feature_names is deprecated in 1.0 and will be removed in 1.2. Please use get_feature_names_out instead.\n",
      "  warnings.warn(msg, category=FutureWarning)\n",
      "C:\\Users\\HP\\anaconda3\\envs\\Pytorchgpu\\lib\\site-packages\\sklearn\\utils\\deprecation.py:87: FutureWarning: Function get_feature_names is deprecated; get_feature_names is deprecated in 1.0 and will be removed in 1.2. Please use get_feature_names_out instead.\n",
      "  warnings.warn(msg, category=FutureWarning)\n",
      "C:\\Users\\HP\\anaconda3\\envs\\Pytorchgpu\\lib\\site-packages\\sklearn\\utils\\deprecation.py:87: FutureWarning: Function get_feature_names is deprecated; get_feature_names is deprecated in 1.0 and will be removed in 1.2. Please use get_feature_names_out instead.\n",
      "  warnings.warn(msg, category=FutureWarning)\n",
      "C:\\Users\\HP\\anaconda3\\envs\\Pytorchgpu\\lib\\site-packages\\sklearn\\utils\\deprecation.py:87: FutureWarning: Function get_feature_names is deprecated; get_feature_names is deprecated in 1.0 and will be removed in 1.2. Please use get_feature_names_out instead.\n",
      "  warnings.warn(msg, category=FutureWarning)\n"
     ]
    },
    {
     "name": "stdout",
     "output_type": "stream",
     "text": [
      "['active', 'active amino', 'amino', 'amino aryl', 'aryl', 'aryl benzamide', 'benzamide', 'benzamide compound', 'compound', 'compound method', 'disclosed', 'disclosed method', 'disease', 'disease nafld', 'fatty', 'fatty liver', 'liver', 'liver disease', 'method', 'method preparation', 'method treatment', 'method us', 'nafld', 'nafld nonalcoholic', 'nash', 'nash disclosed', 'nonalcoholic', 'nonalcoholic fatty', 'nonalcoholic steatohepatitis', 'preparation', 'preparation thereof', 'reduction', 'reduction nonalcoholic', 'steatohepatitis', 'steatohepatitis nash', 'thereof', 'treatment', 'treatment reduction', 'us', 'us active']\n",
      "['according', 'according embodiment', 'arranged', 'arranged display', 'arranged interval', 'arranged shell', 'body', 'body arranged', 'body display', 'body fixedly', 'body isused', 'body ratio', 'body vibration', 'comprises', 'comprises shell', 'conductor', 'conductor arranged', 'conductor display', 'conductor used', 'conductor vibration', 'connected', 'connected exciter', 'connected vibration', 'conversation', 'conversation information', 'converting', 'converting conversation', 'display', 'display screen', 'electronic', 'electronic equipment', 'embodiment', 'embodiment invention', 'equipment', 'equipment according', 'equipment comprises', 'equipment electronic', 'equipment improved', 'exciter', 'exciter arranged', 'exciter display', 'exciter used', 'exciter vibration', 'fixedly', 'fixedly connected', 'generated', 'generated exciter', 'improved', 'information', 'information generated', 'information outside', 'information vibration', 'interval', 'interval exciter', 'interval vibration', 'invention', 'invention provides', 'invention screen', 'isused', 'isused transmitting', 'outside', 'outside electronic', 'provides', 'provides electronic', 'ratio', 'ratio electronic', 'screen', 'screen arranged', 'screen body', 'screen exciter', 'shell', 'shell display', 'shell exciter', 'shell wherein', 'sounding', 'sounding body', 'transmitting', 'transmitting vibration', 'used', 'used converting', 'used transmitting', 'vibration', 'vibration conductor', 'vibration information', 'vibration sounding', 'vibrationconductor', 'vibrationconductor connected', 'vibrationsounding', 'vibrationsounding body', 'wherein', 'wherein exciter', 'wherein vibrationconductor', 'wherein vibrationsounding']\n"
     ]
    },
    {
     "name": "stderr",
     "output_type": "stream",
     "text": [
      "C:\\Users\\HP\\anaconda3\\envs\\Pytorchgpu\\lib\\site-packages\\sklearn\\utils\\deprecation.py:87: FutureWarning: Function get_feature_names is deprecated; get_feature_names is deprecated in 1.0 and will be removed in 1.2. Please use get_feature_names_out instead.\n",
      "  warnings.warn(msg, category=FutureWarning)\n",
      "C:\\Users\\HP\\anaconda3\\envs\\Pytorchgpu\\lib\\site-packages\\sklearn\\utils\\deprecation.py:87: FutureWarning: Function get_feature_names is deprecated; get_feature_names is deprecated in 1.0 and will be removed in 1.2. Please use get_feature_names_out instead.\n",
      "  warnings.warn(msg, category=FutureWarning)\n",
      "C:\\Users\\HP\\anaconda3\\envs\\Pytorchgpu\\lib\\site-packages\\sklearn\\utils\\deprecation.py:87: FutureWarning: Function get_feature_names is deprecated; get_feature_names is deprecated in 1.0 and will be removed in 1.2. Please use get_feature_names_out instead.\n",
      "  warnings.warn(msg, category=FutureWarning)\n"
     ]
    },
    {
     "name": "stdout",
     "output_type": "stream",
     "text": [
      "['according', 'according evaluation', 'according preset', 'accurate', 'accurate wide', 'also', 'also determines', 'applicability', 'basis', 'basis static', 'calculating', 'calculating evaluation', 'characteristic', 'characteristic opportunistic', 'characteristic theopportunistic', 'comprises', 'comprises following', 'comprises second', 'condensation', 'condensation graph', 'connection', 'connection strength', 'considering', 'considering dynamic', 'considers', 'considers dynamic', 'converting', 'converting dynamic', 'corresponding', 'corresponding topological', 'degree', 'degree connection', 'determines', 'determines key', 'determining', 'determining key', 'dividing', 'dividing opportunistic', 'domain', 'domain importance', 'dynamic', 'dynamic characteristic', 'dynamic opportunistic', 'embodiment', 'embodiment present', 'establishing', 'establishing corresponding', 'evaluation', 'evaluation index', 'following', 'following step', 'graph', 'graph determining', 'graph opportunistic', 'importance', 'importance embodiment', 'index', 'index parameter', 'invention', 'invention considering', 'invention relates', 'key', 'key domain', 'key node', 'measuring', 'measuring key', 'method', 'method measuring', 'method used', 'network', 'network according', 'network accurate', 'network also', 'network basis', 'network comprises', 'network considers', 'network method', 'network preset', 'network static', 'network time', 'network unit', 'node', 'node degree', 'node opportunistic', 'node topological', 'obtain', 'obtain plurality', 'opportunistic', 'opportunistic network', 'order', 'order node', 'parameter', 'parameter comprises', 'parameter node', 'parameter wherein', 'period', 'period according', 'plurality', 'plurality opportunistic', 'present', 'present invention', 'preset', 'preset time', 'relates', 'relates method', 'second', 'second order', 'slice', 'slice method', 'static', 'static network', 'step', 'step dividing', 'strength', 'strength key', 'theopportunistic', 'theopportunistic network', 'time', 'time period', 'time slice', 'time window', 'topological', 'topological condensation', 'unit', 'unit calculating', 'unit establishing', 'used', 'used converting', 'wherein', 'wherein evaluation', 'wide', 'wide applicability', 'window', 'window obtain']\n"
     ]
    },
    {
     "name": "stderr",
     "output_type": "stream",
     "text": [
      "C:\\Users\\HP\\anaconda3\\envs\\Pytorchgpu\\lib\\site-packages\\sklearn\\utils\\deprecation.py:87: FutureWarning: Function get_feature_names is deprecated; get_feature_names is deprecated in 1.0 and will be removed in 1.2. Please use get_feature_names_out instead.\n",
      "  warnings.warn(msg, category=FutureWarning)\n",
      "C:\\Users\\HP\\anaconda3\\envs\\Pytorchgpu\\lib\\site-packages\\sklearn\\utils\\deprecation.py:87: FutureWarning: Function get_feature_names is deprecated; get_feature_names is deprecated in 1.0 and will be removed in 1.2. Please use get_feature_names_out instead.\n",
      "  warnings.warn(msg, category=FutureWarning)\n"
     ]
    },
    {
     "name": "stdout",
     "output_type": "stream",
     "text": [
      "['according', 'according first', 'according gear', 'according oil', 'acquiring', 'acquiring first', 'acquiring oil', 'adjustment', 'adjustment full', 'adopting', 'adopting rotate', 'aiming', 'aiming control', 'aturbine', 'aturbine output', 'based', 'based speed', 'bulldozer', 'bulldozer carry', 'bulldozer determined', 'bulldozer gear', 'carry', 'carry variable', 'cavity', 'cavity first', 'clutch', 'clutch determined', 'clutch oil', 'comfort', 'comfort driver', 'command', 'command according', 'control', 'control proportional', 'controlled', 'controlled volume', 'controller', 'controller system', 'controller target', 'controller used', 'converter', 'converter determine', 'converter turbine', 'current', 'current value', 'data', 'data acquiring', 'data aturbine', 'data clutch', 'data first', 'data generating', 'data load', 'data ofan', 'data second', 'determine', 'determine first', 'determine second', 'determined', 'determined adopting', 'determined based', 'determined bulldozer', 'discloses', 'discloses bulldozer', 'driver', 'driver passenger', 'effectively', 'effectively reduced', 'electromagnetic', 'electromagnetic value', 'end', 'end torque', 'engagement', 'engagement speed', 'engine', 'engine determine', 'engine oil', 'engine rotate', 'first', 'first controlled', 'first rotate', 'full', 'full rotate', 'full temperature', 'gear', 'gear shifting', 'gear shiftingcontrol', 'gearbox', 'gearbox effectively', 'gearbox prolonged', 'generating', 'generating gear', 'impact', 'impact gearbox', 'improved', 'invention', 'invention discloses', 'life', 'life gearbox', 'load', 'load bulldozer', 'ofan', 'ofan engine', 'oil', 'oil cavity', 'oil temperature', 'output', 'output end', 'passenger', 'passenger improved', 'prolonged', 'prolonged comfort', 'proportional', 'proportional electromagnetic', 'range', 'range full', 'range gear', 'ratio', 'ratio rotate', 'reduced', 'reduced service', 'rotate', 'rotate speed', 'second', 'second controlled', 'second rotate', 'service', 'service life', 'shifting', 'shifting controller', 'shifting impact', 'shiftingcontrol', 'shiftingcontrol command', 'speed', 'speed adjustment', 'speed clutch', 'speed data', 'speed engine', 'speed range', 'speed ratio', 'speed torque', 'system', 'system gear', 'target', 'target current', 'temperature', 'temperature data', 'temperature range', 'torque', 'torque converter', 'turbine', 'turbine engagement', 'used', 'used acquiring', 'value', 'value according', 'value aiming', 'value determined', 'value second', 'variable', 'variable speed', 'volume', 'volume value']\n"
     ]
    },
    {
     "name": "stderr",
     "output_type": "stream",
     "text": [
      "C:\\Users\\HP\\anaconda3\\envs\\Pytorchgpu\\lib\\site-packages\\sklearn\\utils\\deprecation.py:87: FutureWarning: Function get_feature_names is deprecated; get_feature_names is deprecated in 1.0 and will be removed in 1.2. Please use get_feature_names_out instead.\n",
      "  warnings.warn(msg, category=FutureWarning)\n",
      "C:\\Users\\HP\\anaconda3\\envs\\Pytorchgpu\\lib\\site-packages\\sklearn\\utils\\deprecation.py:87: FutureWarning: Function get_feature_names is deprecated; get_feature_names is deprecated in 1.0 and will be removed in 1.2. Please use get_feature_names_out instead.\n",
      "  warnings.warn(msg, category=FutureWarning)\n"
     ]
    },
    {
     "name": "stdout",
     "output_type": "stream",
     "text": [
      "['active', 'active conductive', 'application', 'application besides', 'application occasion', 'arranged', 'arranged edge', 'arranged housing', 'battery', 'battery battery', 'battery cell', 'battery compact', 'battery comprises', 'battery employ', 'battery winding', 'besides', 'besides winding', 'bonded', 'bonded fixed', 'capacity', 'capacity improve', 'cell', 'cell formed', 'compact', 'compact structure', 'comprises', 'comprises leakage', 'comprises non', 'conduction', 'conduction capacity', 'conductive', 'conductive material', 'conductive particle', 'convenient', 'convenient flexible', 'current', 'current conduction', 'current distribution', 'design', 'design effectively', 'distributed', 'distributed multi', 'distribution', 'distribution improve', 'edge', 'edge positive', 'effectively', 'effectively improve', 'electrode', 'electrode active', 'electrode piece', 'employ', 'employ uniformly', 'fixed', 'fixed electrode', 'flexible', 'flexible application', 'formed', 'formed winding', 'frombeing', 'frombeing leaked', 'full', 'full tab', 'group', 'group full', 'housing', 'housing prevent', 'improve', 'improve current', 'improve utilization', 'invention', 'invention provides', 'layer', 'layer electrode', 'layer frombeing', 'layer leaked', 'leakage', 'leakage preventing', 'leaked', 'leaked negative', 'leaked positive', 'lithium', 'lithium paste', 'material', 'material layer', 'multi', 'multi tab', 'negative', 'negative plate', 'negative pole', 'non', 'non bonded', 'occasion', 'occasion convenient', 'particle', 'particle negative', 'particle positivepole', 'particle winding', 'paste', 'paste battery', 'piece', 'piece comprises', 'plate', 'plate arranged', 'plate electrode', 'plate negative', 'plate prevent', 'plate winding', 'pole', 'pole active', 'portion', 'portion arranged', 'portion leakage', 'positive', 'positive plate', 'positive pole', 'positivepole', 'positivepole active', 'present', 'present invention', 'prevent', 'prevent negative', 'prevent positive', 'preventing', 'preventing portion', 'provides', 'provides winding', 'rate', 'rate electrode', 'regulate', 'regulate shape', 'shape', 'shape application', 'structure', 'structure regulate', 'tab', 'tab design', 'tab group', 'uniformly', 'uniformly distributed', 'utilization', 'utilization rate', 'winding', 'winding lithium', 'winding positive']\n"
     ]
    },
    {
     "name": "stderr",
     "output_type": "stream",
     "text": [
      "C:\\Users\\HP\\anaconda3\\envs\\Pytorchgpu\\lib\\site-packages\\sklearn\\utils\\deprecation.py:87: FutureWarning: Function get_feature_names is deprecated; get_feature_names is deprecated in 1.0 and will be removed in 1.2. Please use get_feature_names_out instead.\n",
      "  warnings.warn(msg, category=FutureWarning)\n",
      "C:\\Users\\HP\\anaconda3\\envs\\Pytorchgpu\\lib\\site-packages\\sklearn\\utils\\deprecation.py:87: FutureWarning: Function get_feature_names is deprecated; get_feature_names is deprecated in 1.0 and will be removed in 1.2. Please use get_feature_names_out instead.\n",
      "  warnings.warn(msg, category=FutureWarning)\n",
      "C:\\Users\\HP\\anaconda3\\envs\\Pytorchgpu\\lib\\site-packages\\sklearn\\utils\\deprecation.py:87: FutureWarning: Function get_feature_names is deprecated; get_feature_names is deprecated in 1.0 and will be removed in 1.2. Please use get_feature_names_out instead.\n",
      "  warnings.warn(msg, category=FutureWarning)\n"
     ]
    },
    {
     "name": "stdout",
     "output_type": "stream",
     "text": [
      "['11', '11 provided', '12', '12 face', '12 outer', '12 pin', '12 recess', '12a', '12a inner', '14', '14 disposed', '17', '17 cylindrical', '17 end', '17 inserted', '17 pair', '18', '18 bush', '18 inserted', '20', '20 end', '21', '21 respectively', '21 rotatably', 'bonded', 'bonded formed', 'bonded pair', 'bush', 'bush 17', 'chain', 'chain 11', 'cylindrical', 'cylindrical bush', 'cylindrical roller', 'disposed', 'disposed sandwich', 'disposed separate', 'end', 'end pin', 'end respectively', 'end roller', 'face', 'face disposed', 'formed', 'formed inside', 'inner', 'inner link', 'inserted', 'inserted bush', 'inserted rotatably', 'inside', 'inside surface', 'link', 'link plate', 'outer', 'outer link', 'outer side', 'pair', 'pair inner', 'pair outer', 'pin', 'pin 21', 'plate', 'plate 12', 'plate 14', 'provided', 'provided pair', 'recess', 'recess 20', 'respectively', 'respectively bonded', 'roller', 'roller 18', 'rotatably', 'rotatably inserted', 'rotatably supported', 'sandwich', 'sandwich pair', 'seal', 'seal chain', 'separate', 'separate cylindrical', 'side', 'side end', 'supported', 'supported bush', 'surface', 'surface 12a']\n",
      "['abandoned', 'abandoned inquiry', 'according', 'according invention', 'achieved', 'address', 'address attribution', 'address information', 'address ipv4', 'also', 'also judged', 'apparatus', 'apparatus ip', 'attribution', 'attribution checksum', 'attribution information', 'characteristic', 'characteristic positioning', 'checksum', 'checksum also', 'checksum four', 'checksum identical', 'checksum inquiry', 'checksum storage', 'converted', 'converted checksum', 'current', 'current segment', 'effectively', 'effectively whether', 'efficiency', 'efficiency improved', 'equal', 'equal second', 'first', 'first attribution', 'first ip', 'first ipchecksum', 'four', 'four segment', 'granularity', 'granularity performing', 'greatly', 'greatly meanwhile', 'high', 'high precision', 'identical', 'identical second', 'improved', 'improved greatly', 'information', 'information converted', 'information inquiry', 'information ip', 'information reduced', 'inquiry', 'inquiry abandoned', 'inquiry achieved', 'inquiry efficiency', 'inquiry method', 'inquiry system', 'invention', 'invention characteristic', 'invention provides', 'ip', 'ip address', 'ip checksum', 'ip high', 'ip inquiry', 'ipchecksum', 'ipchecksum current', 'ipv4', 'ipv4 address', 'judged', 'judged segment', 'judged whether', 'meanwhile', 'meanwhile according', 'method', 'method inquiry', 'method storage', 'performing', 'performing ip', 'positioning', 'positioning ip', 'precision', 'precision granularity', 'provides', 'provides storage', 'reduced', 'reduced effectively', 'respectively', 'respectively identical', 'second', 'second attribution', 'second first', 'second ip', 'segment', 'segment equal', 'segment first', 'segment judged', 'segment respectively', 'segment segment', 'space', 'space ip', 'storage', 'storage apparatus', 'storage method', 'storage space', 'system', 'system ipv4', 'whether', 'whether first']\n"
     ]
    },
    {
     "name": "stderr",
     "output_type": "stream",
     "text": [
      "C:\\Users\\HP\\anaconda3\\envs\\Pytorchgpu\\lib\\site-packages\\sklearn\\utils\\deprecation.py:87: FutureWarning: Function get_feature_names is deprecated; get_feature_names is deprecated in 1.0 and will be removed in 1.2. Please use get_feature_names_out instead.\n",
      "  warnings.warn(msg, category=FutureWarning)\n",
      "C:\\Users\\HP\\anaconda3\\envs\\Pytorchgpu\\lib\\site-packages\\sklearn\\utils\\deprecation.py:87: FutureWarning: Function get_feature_names is deprecated; get_feature_names is deprecated in 1.0 and will be removed in 1.2. Please use get_feature_names_out instead.\n",
      "  warnings.warn(msg, category=FutureWarning)\n"
     ]
    },
    {
     "name": "stdout",
     "output_type": "stream",
     "text": [
      "['adding', 'adding hydrogen', 'application', 'application prospect', 'application thereof', 'battery', 'battery electrode', 'capacity', 'capacity cycling', 'carrying', 'carrying heat', 'carrying ultrasonic', 'chemical', 'chemical vapor', 'compound', 'compound hexagonal', 'comprises', 'comprises following', 'comprises nitrogen', 'conductivity', 'conductivity ionic', 'conductivity specific', 'containing', 'containing lithium', 'cycling', 'cycling stability', 'deposition', 'deposition method', 'discharge', 'discharge capacity', 'dispersion', 'dispersion liquid', 'doped', 'doped graphene', 'doped material', 'dried', 'dried product', 'drying', 'drying carrying', 'electrode', 'electrode material', 'electronic', 'electronic conductivity', 'field', 'field lithium', 'following', 'following step', 'gaseous', 'gaseous nitrogen', 'graphene', 'graphene dispersion', 'graphene hydrogen', 'greatly', 'greatly improve', 'heat', 'heat treatment', 'hexagonal', 'hexagonal phase', 'hydrogen', 'hydrogen containing', 'improve', 'improve electronic', 'invention', 'invention provides', 'invention used', 'ion', 'ion battery', 'ionic', 'ionic conductivity', 'life', 'life lithium', 'liquid', 'liquid carrying', 'lithium', 'lithium ion', 'lithium titanium', 'material', 'material greatly', 'material preparation', 'material wide', 'method', 'method application', 'method modifier', 'method obtain', 'modifier', 'modifier comprises', 'modifier modifier', 'modifier provided', 'modifier well', 'modifying', 'modifying lithium', 'nitrogen', 'nitrogen doped', 'nitrogen source', 'obtain', 'obtain modifier', 'obtained', 'obtained step', 'oxide', 'oxide compound', 'oxide graphene', 'oxide hydrogen', 'oxide nitrogen', 'phase', 'phase tungsten', 'preparation', 'preparation method', 'product', 'product obtained', 'prospect', 'prospect field', 'provided', 'provided invention', 'provides', 'provides modifier', 'service', 'service life', 'source', 'source chemical', 'specific', 'specific discharge', 'stability', 'stability service', 'step', 'step adding', 'step using', 'thereof', 'thereof modifier', 'titanium', 'titanium oxide', 'treatment', 'treatment dried', 'treatment drying', 'tungsten', 'tungsten oxide', 'ultrasonic', 'ultrasonic treatment', 'used', 'used modifying', 'using', 'using gaseous', 'vapor', 'vapor deposition', 'well', 'well preparation', 'wide', 'wide application']\n"
     ]
    },
    {
     "name": "stderr",
     "output_type": "stream",
     "text": [
      "C:\\Users\\HP\\anaconda3\\envs\\Pytorchgpu\\lib\\site-packages\\sklearn\\utils\\deprecation.py:87: FutureWarning: Function get_feature_names is deprecated; get_feature_names is deprecated in 1.0 and will be removed in 1.2. Please use get_feature_names_out instead.\n",
      "  warnings.warn(msg, category=FutureWarning)\n",
      "C:\\Users\\HP\\anaconda3\\envs\\Pytorchgpu\\lib\\site-packages\\sklearn\\utils\\deprecation.py:87: FutureWarning: Function get_feature_names is deprecated; get_feature_names is deprecated in 1.0 and will be removed in 1.2. Please use get_feature_names_out instead.\n",
      "  warnings.warn(msg, category=FutureWarning)\n"
     ]
    },
    {
     "name": "stdout",
     "output_type": "stream",
     "text": [
      "['ability', 'ability improved', 'acid', 'acid alkali', 'acid molecule', 'acidsequence', 'acidsequence hepatitis', 'affinity', 'affinity stable', 'alkali', 'alkali resistance', 'amino', 'amino acidsequence', 'antibody', 'antibody amino', 'antibody antibody', 'antibody applied', 'antibody fragment', 'antibody taken', 'antigen', 'antigen detection', 'antigen hepatitis', 'antigen nanobody', 'antigennanobody', 'antigennanobody low', 'application', 'application relates', 'applied', 'applied hepatitis', 'compared', 'compared traditional', 'cost', 'cost efficiently', 'detection', 'detection purification', 'disclosed', 'disclosed invention', 'discloses', 'discloses hepatitis', 'efficiently', 'efficiently expressed', 'engineered', 'engineered antibody', 'environmental', 'environmental tolerance', 'expressed', 'expressed prokaryotic', 'expression', 'fab', 'fab hepatitis', 'field', 'field genetically', 'fragment', 'fragment scfv', 'genetically', 'genetically engineered', 'greatly', 'greatly improved', 'hepatitis', 'hepatitis surface', 'hepatitis vaccine', 'high', 'high affinity', 'high specificity', 'high temperature', 'id', 'id hepatitis', 'immunodetection', 'immunodetection performed', 'improved', 'improved hepatitis', 'improved immunodetection', 'invention', 'invention discloses', 'invention serve', 'invention shown', 'ligand', 'ligand environmental', 'like', 'like purification', 'low', 'low preparation', 'molecule', 'molecule application', 'nanobody', 'nanobody disclosed', 'nanobody high', 'nanobody well', 'performed', 'performed antibody', 'preparation', 'preparation cost', 'prokaryotic', 'prokaryotic expression', 'purification', 'purification hepatitis', 'purification ligand', 'purification stability', 'relates', 'relates technical', 'resistance', 'resistance high', 'resistance like', 'scfv', 'scfv fab', 'seq', 'seq id', 'serve', 'serve antibody', 'shown', 'shown seq', 'specificity', 'specificity high', 'stability', 'stability greatly', 'stable', 'stable structure', 'structure', 'structure acid', 'surface', 'surface antigen', 'surface antigennanobody', 'taken', 'taken purification', 'technical', 'technical field', 'temperature', 'temperature resistance', 'tolerance', 'tolerance ability', 'traditional', 'traditional antibody', 'ucleic', 'ucleic acid', 'vaccine', 'vaccine compared', 'well', 'well ucleic']\n",
      "['accommodating', 'accommodating hollow', 'advantage', 'advantage good', 'cavity', 'cavity cylindrical', 'cleaning', 'cleaning sediment', 'comprises', 'comprises end', 'comprises pouring', 'connecting', 'connecting head', 'connection', 'connection cover', 'connection limiting', 'contact', 'contact cover', 'contact limiting', 'convenient', 'convenient cleaning', 'cover', 'cover cover', 'cover plate', 'cover sealing', 'cover threaded', 'cylindrical', 'cylindrical structure', 'device', 'device geothermal', 'driving', 'driving structure', 'effect', 'effect sediment', 'end', 'end cover', 'filter', 'filter sleeve', 'filtering', 'filtering effect', 'filtering structure', 'filteringstructure', 'filteringstructure two', 'fixed', 'fixed cover', 'fixed limiting', 'fixed pouring', 'forfiltering', 'forfiltering sediment', 'geothermal', 'geothermal water', 'good', 'good filtering', 'head', 'head limiting', 'hole', 'hole cover', 'hollow', 'hollow cavity', 'invention', 'invention advantage', 'invention provides', 'limiting', 'limiting structure', 'plate', 'plate contact', 'plate cover', 'plate filter', 'plate provided', 'plate sand', 'plate storage', 'pouring', 'pouring sleeve', 'provided', 'provided end', 'provided invention', 'provides', 'provides sand', 'removing', 'removing device', 'sand', 'sand removing', 'sealing', 'sealing storage', 'sediment', 'sediment convenient', 'sediment fixed', 'sleeve', 'sleeve accommodating', 'sleeve driving', 'sleeve end', 'sleeve hole', 'sleeve limiting', 'sleeve storage', 'storage', 'storage sleeve', 'structure', 'structure comprises', 'structure contact', 'structure driving', 'structure filtering', 'structure filteringstructure', 'structure fixed', 'structure forfiltering', 'structure threaded', 'threaded', 'threaded connection', 'two', 'two connecting', 'water', 'water comprises', 'water provided', 'water sand']\n"
     ]
    },
    {
     "name": "stderr",
     "output_type": "stream",
     "text": [
      "C:\\Users\\HP\\anaconda3\\envs\\Pytorchgpu\\lib\\site-packages\\sklearn\\utils\\deprecation.py:87: FutureWarning: Function get_feature_names is deprecated; get_feature_names is deprecated in 1.0 and will be removed in 1.2. Please use get_feature_names_out instead.\n",
      "  warnings.warn(msg, category=FutureWarning)\n",
      "C:\\Users\\HP\\anaconda3\\envs\\Pytorchgpu\\lib\\site-packages\\sklearn\\utils\\deprecation.py:87: FutureWarning: Function get_feature_names is deprecated; get_feature_names is deprecated in 1.0 and will be removed in 1.2. Please use get_feature_names_out instead.\n",
      "  warnings.warn(msg, category=FutureWarning)\n",
      "C:\\Users\\HP\\anaconda3\\envs\\Pytorchgpu\\lib\\site-packages\\sklearn\\utils\\deprecation.py:87: FutureWarning: Function get_feature_names is deprecated; get_feature_names is deprecated in 1.0 and will be removed in 1.2. Please use get_feature_names_out instead.\n",
      "  warnings.warn(msg, category=FutureWarning)\n",
      "C:\\Users\\HP\\anaconda3\\envs\\Pytorchgpu\\lib\\site-packages\\sklearn\\utils\\deprecation.py:87: FutureWarning: Function get_feature_names is deprecated; get_feature_names is deprecated in 1.0 and will be removed in 1.2. Please use get_feature_names_out instead.\n",
      "  warnings.warn(msg, category=FutureWarning)\n",
      "C:\\Users\\HP\\anaconda3\\envs\\Pytorchgpu\\lib\\site-packages\\sklearn\\utils\\deprecation.py:87: FutureWarning: Function get_feature_names is deprecated; get_feature_names is deprecated in 1.0 and will be removed in 1.2. Please use get_feature_names_out instead.\n",
      "  warnings.warn(msg, category=FutureWarning)\n"
     ]
    },
    {
     "name": "stdout",
     "output_type": "stream",
     "text": [
      "['according', 'according civil', 'achieve', 'achieve base', 'achieves', 'achieves fixing', 'additive', 'additive selected', 'adhesive', 'adhesive additive', 'adopted', 'adopted air', 'adopted core', 'air', 'air defense', 'air hole', 'arranged', 'arranged achieve', 'arranged gravel', 'base', 'base stabilizing', 'broken', 'broken state', 'casting', 'casting forming', 'casting technology', 'chamber', 'chamber gas', 'characteristic', 'characteristic steel', 'civil', 'civil air', 'combination', 'combination door', 'controlled', 'controlled dry', 'convenient', 'convenient stabilizing', 'core', 'core layer', 'covering', 'covering material', 'defect', 'defect steel', 'defense', 'defense door', 'discloses', 'discloses civil', 'door', 'door hinge', 'double', 'double structure', 'dry', 'dry quartz', 'effect', 'effect broken', 'effect door', 'enhanced', 'entering', 'entering vacuum', 'film', 'film covering', 'firm', 'firm material', 'firmness', 'firmness performance', 'fixing', 'fixing effect', 'flexiblelayer', 'flexiblelayer protected', 'forming', 'forming characteristic', 'fundamentally', 'fundamentally improved', 'gas', 'gas tension', 'gravel', 'gravel prevented', 'guaranteed', 'guaranteed protection', 'guaranteed safety', 'hinge', 'hinge seat', 'hinge seatmachining', 'hole', 'hole defect', 'hole leaking', 'improved', 'improved air', 'improved mounting', 'improved result', 'improved stability', 'improved thickness', 'included', 'included according', 'invention', 'invention discloses', 'isadditionally', 'isadditionally arranged', 'layer', 'layer adopted', 'layer included', 'layer isadditionally', 'layer protection', 'layer stabilizing', 'layer steel', 'layer still', 'leaking', 'leaking net', 'machining', 'machining method', 'mastered', 'mastered casting', 'material', 'material controlled', 'material firmness', 'method', 'method core', 'method steel', 'mounting', 'mounting using', 'net', 'net arranged', 'performance', 'performance door', 'periphery', 'periphery flexiblelayer', 'pouring', 'pouring process', 'prevented', 'prevented entering', 'process', 'process reduced', 'protected', 'protected firm', 'protection', 'protection layer', 'quality', 'quality core', 'quality steel', 'quartz', 'quartz sand', 'reduced', 'reduced quality', 'result', 'result quality', 'safety', 'safety improved', 'sand', 'sand without', 'sandbox', 'sandbox adopted', 'scale', 'scale mastered', 'seat', 'seat combination', 'seat guaranteed', 'seat machining', 'seat wall', 'seatmachining', 'seatmachining method', 'selected', 'selected double', 'stability', 'stability steel', 'stabilizing', 'stabilizing effect', 'stabilizing layer', 'state', 'state periphery', 'steel', 'steel casting', 'steel fundamentally', 'steel guaranteed', 'steel improved', 'steel pouring', 'still', 'still achieves', 'structure', 'structure sandbox', 'technology', 'technology improved', 'tension', 'tension scale', 'thickness', 'thickness film', 'using', 'using convenient', 'vacuum', 'vacuum chamber', 'wall', 'wall enhanced', 'without', 'without adhesive']\n"
     ]
    },
    {
     "name": "stderr",
     "output_type": "stream",
     "text": [
      "C:\\Users\\HP\\anaconda3\\envs\\Pytorchgpu\\lib\\site-packages\\sklearn\\utils\\deprecation.py:87: FutureWarning: Function get_feature_names is deprecated; get_feature_names is deprecated in 1.0 and will be removed in 1.2. Please use get_feature_names_out instead.\n",
      "  warnings.warn(msg, category=FutureWarning)\n",
      "C:\\Users\\HP\\anaconda3\\envs\\Pytorchgpu\\lib\\site-packages\\sklearn\\utils\\deprecation.py:87: FutureWarning: Function get_feature_names is deprecated; get_feature_names is deprecated in 1.0 and will be removed in 1.2. Please use get_feature_names_out instead.\n",
      "  warnings.warn(msg, category=FutureWarning)\n",
      "C:\\Users\\HP\\anaconda3\\envs\\Pytorchgpu\\lib\\site-packages\\sklearn\\utils\\deprecation.py:87: FutureWarning: Function get_feature_names is deprecated; get_feature_names is deprecated in 1.0 and will be removed in 1.2. Please use get_feature_names_out instead.\n",
      "  warnings.warn(msg, category=FutureWarning)\n"
     ]
    },
    {
     "name": "stdout",
     "output_type": "stream",
     "text": [
      "['according', 'according power', 'central', 'central controller', 'comprises', 'comprises step', 'connecting', 'connecting energy', 'considering', 'considering power', 'controller', 'controller power', 'detected', 'detected obtaining', 'detecting', 'detecting residual', 'device', 'device lower', 'device microgrid', 'distribute', 'distribute power', 'distributing', 'distributing power', 'distribution', 'distribution method', 'distribution priority', 'electric', 'electric load', 'electric quantity', 'electricity', 'electricity utilization', 'embodiment', 'embodiment invention', 'energy', 'energy storage', 'fails', 'fails residual', 'fault', 'fault detected', 'grid', 'grid fails', 'grid fault', 'information', 'information used', 'informationof', 'informationof used', 'invention', 'invention provides', 'load', 'load according', 'load considering', 'load distribute', 'load energy', 'load main', 'load residual', 'load thatthe', 'load utilizing', 'lower', 'lower preset', 'main', 'main power', 'method', 'method comprises', 'method thereof', 'microgrid', 'microgrid according', 'microgrid central', 'microgrid distribute', 'microgrid lower', 'microgrid main', 'microgrid reduced', 'obtaining', 'obtaining electricity', 'power', 'power distribution', 'power grid', 'power load', 'power used', 'power utilization', 'preset', 'preset electric', 'priority', 'priority used', 'provides', 'provides microgrid', 'quantity', 'quantity energy', 'quantity threshold', 'reduced', 'residual', 'residual electric', 'step', 'step detecting', 'storage', 'storage device', 'thatthe', 'thatthe electric', 'thereof', 'thereof method', 'threshold', 'threshold value', 'used', 'used load', 'used power', 'utilization', 'utilization information', 'utilization informationof', 'utilizing', 'utilizing energy', 'value', 'value connecting', 'value distributing']\n",
      "['better', 'better entire', 'combined', 'combined sensor', 'correlation', 'correlation physical', 'correlation sensor', 'desired', 'desired gas', 'determined', 'determined correlation', 'determined way', 'determined within', 'entire', 'entire set', 'function', 'function determined', 'function wherein', 'gas', 'gas mixture', 'gas property', 'group', 'group gas', 'making', 'making use', 'measuring', 'measuring quantity', 'method', 'method gas', 'method physical', 'micro', 'micro gas', 'mixture', 'mixture gas', 'mixture method', 'mixture separated', 'output', 'output desired', 'output function', 'output making', 'physical', 'physical measuring', 'property', 'property better', 'property determined', 'quantity', 'quantity combined', 'quantity micro', 'sensor', 'sensor output', 'separated', 'separated set', 'set', 'set gas', 'use', 'use sensor', 'way', 'way group', 'wherein', 'wherein sensor', 'within', 'within correlation']\n"
     ]
    },
    {
     "name": "stderr",
     "output_type": "stream",
     "text": [
      "C:\\Users\\HP\\anaconda3\\envs\\Pytorchgpu\\lib\\site-packages\\sklearn\\utils\\deprecation.py:87: FutureWarning: Function get_feature_names is deprecated; get_feature_names is deprecated in 1.0 and will be removed in 1.2. Please use get_feature_names_out instead.\n",
      "  warnings.warn(msg, category=FutureWarning)\n",
      "C:\\Users\\HP\\anaconda3\\envs\\Pytorchgpu\\lib\\site-packages\\sklearn\\utils\\deprecation.py:87: FutureWarning: Function get_feature_names is deprecated; get_feature_names is deprecated in 1.0 and will be removed in 1.2. Please use get_feature_names_out instead.\n",
      "  warnings.warn(msg, category=FutureWarning)\n",
      "C:\\Users\\HP\\anaconda3\\envs\\Pytorchgpu\\lib\\site-packages\\sklearn\\utils\\deprecation.py:87: FutureWarning: Function get_feature_names is deprecated; get_feature_names is deprecated in 1.0 and will be removed in 1.2. Please use get_feature_names_out instead.\n",
      "  warnings.warn(msg, category=FutureWarning)\n"
     ]
    },
    {
     "name": "stdout",
     "output_type": "stream",
     "text": [
      "['activating', 'activating self', 'also', 'also relates', 'associated', 'associated unwanted', 'average', 'average life', 'based', 'based observing', 'blocking', 'blocking inhibiting', 'cancer', 'cancer particular', 'capable', 'capable activating', 'capable blocking', 'cell', 'cell cancer', 'cell proliferation', 'cell vitro', 'composition', 'composition treatment', 'compound', 'compound capable', 'cytokine', 'cytokine used', 'determining', 'determining predisposition', 'diagnosis', 'diagnosis disease', 'disease', 'disease associated', 'expectancy', 'expectancy subject', 'generally', 'generally il', 'glioma', 'glioma indicates', 'identification', 'identification compound', 'il', 'il type', 'indicates', 'indicates inhibition', 'inhibiting', 'inhibiting proliferation', 'inhibition', 'inhibition lif', 'invention', 'invention also', 'invention based', 'lif', 'lif capable', 'lif generally', 'life', 'life expectancy', 'method', 'method diagnosis', 'method identification', 'observing', 'observing lif', 'particular', 'particular glioma', 'predisposition', 'predisposition subject', 'prognosis', 'prognosis average', 'proliferation', 'proliferation invention', 'proliferation prognosis', 'proliferation stem', 'proliferation subject', 'relates', 'relates method', 'renewal', 'renewal tumor', 'said', 'said disease', 'said tumor', 'self', 'self renewal', 'stem', 'stem cell', 'subject', 'subject determining', 'subject suffer', 'subject suffering', 'suffer', 'suffer said', 'suffering', 'suffering said', 'therapeutic', 'therapeutic composition', 'treatment', 'treatment disease', 'tumor', 'tumor stem', 'type', 'type cytokine', 'unwanted', 'unwanted cell', 'unwanted proliferation', 'used', 'used therapeutic', 'vitro', 'vitro method']\n",
      "['according', 'according pre', 'application', 'application relate', 'base', 'base vector', 'basic', 'basic spatial', 'beam', 'beam vector', 'bit', 'bit length', 'broadband', 'broadband pmi', 'broadband pre', 'channel', 'channel state', 'coding', 'coding matrix', 'coefficient', 'coefficient compressed', 'communication', 'communication disclosed', 'communication method', 'compressed', 'compressed format', 'compression', 'compression type', 'comprises', 'comprises first', 'comprising', 'comprising csi', 'consolidation', 'consolidation coefficient', 'csi', 'csi first', 'csi report', 'csi second', 'determining', 'determining first', 'device', 'device determining', 'device first', 'device sending', 'device support', 'device within', 'disclosed', 'disclosed thereby', 'embodiment', 'embodiment present', 'factor', 'factor preset', 'field', 'field communication', 'first', 'first channel', 'first csi', 'first device', 'first part', 'format', 'format method', 'index', 'index broadband', 'index preset', 'indicate', 'indicate bit', 'indicate oversampling', 'indicate pmi', 'information', 'information broadband', 'information csi', 'information used', 'length', 'length csi', 'matrix', 'matrix index', 'matrix type', 'method', 'method comprises', 'method device', 'non', 'non compression', 'orthogonal', 'orthogonal base', 'orthogonal beam', 'oversampling', 'oversampling factor', 'part', 'part csi', 'part pre', 'part used', 'pmi', 'pmi information', 'pre', 'pre coding', 'present', 'present application', 'preset', 'preset orthogonal', 'relate', 'relate field', 'report', 'report according', 'report comprising', 'report second', 'reporting', 'reporting set', 'second', 'second device', 'second part', 'selected', 'selected first', 'sending', 'sending first', 'set', 'set consolidation', 'spatial', 'spatial orthogonal', 'spatial vector', 'state', 'state information', 'support', 'support reporting', 'thereby', 'thereby communication', 'type', 'type compression', 'type csi', 'type first', 'type non', 'type pre', 'used', 'used indicate', 'vector', 'vector index', 'vector preset', 'vector selected', 'vector set', 'vector spatial', 'within', 'within basic']\n"
     ]
    },
    {
     "name": "stderr",
     "output_type": "stream",
     "text": [
      "C:\\Users\\HP\\anaconda3\\envs\\Pytorchgpu\\lib\\site-packages\\sklearn\\utils\\deprecation.py:87: FutureWarning: Function get_feature_names is deprecated; get_feature_names is deprecated in 1.0 and will be removed in 1.2. Please use get_feature_names_out instead.\n",
      "  warnings.warn(msg, category=FutureWarning)\n",
      "C:\\Users\\HP\\anaconda3\\envs\\Pytorchgpu\\lib\\site-packages\\sklearn\\utils\\deprecation.py:87: FutureWarning: Function get_feature_names is deprecated; get_feature_names is deprecated in 1.0 and will be removed in 1.2. Please use get_feature_names_out instead.\n",
      "  warnings.warn(msg, category=FutureWarning)\n",
      "C:\\Users\\HP\\anaconda3\\envs\\Pytorchgpu\\lib\\site-packages\\sklearn\\utils\\deprecation.py:87: FutureWarning: Function get_feature_names is deprecated; get_feature_names is deprecated in 1.0 and will be removed in 1.2. Please use get_feature_names_out instead.\n",
      "  warnings.warn(msg, category=FutureWarning)\n"
     ]
    },
    {
     "name": "stdout",
     "output_type": "stream",
     "text": [
      "['according', 'according frequency', 'according mentioned', 'adjusted', 'adjusted according', 'adjusts', 'adjusts amplifier', 'amplified', 'amplified amplifying', 'amplifier', 'amplifier device', 'amplifier linearity', 'amplifying', 'amplifying unit', 'bias', 'bias module', 'bias voltage', 'connects', 'connects bias', 'connects first', 'connects second', 'connects voltage', 'device', 'device impedance', 'device includes', 'electrically', 'electrically connects', 'electronically', 'electronically connects', 'end', 'end amplifying', 'first', 'first end', 'first reference', 'frequency', 'frequency value', 'impedance', 'impedance adjusted', 'impedance unit', 'impedance value', 'includes', 'includes amplifying', 'input', 'input signal', 'linearity', 'linearity according', 'mentioned', 'mentioned value', 'module', 'module adjusts', 'module electrically', 'module impedance', 'output', 'output output', 'output signal', 'potential', 'potential bias', 'providing', 'providing bias', 'receives', 'receives input', 'reference', 'reference potential', 'second', 'second end', 'signal', 'signal amplified', 'signal first', 'signal voltage', 'source', 'source second', 'source temperature', 'temperature', 'temperature value', 'third', 'third end', 'unit', 'unit bias', 'unit connects', 'unit electrically', 'unit electronically', 'unit first', 'unit impedance', 'unit output', 'unit providing', 'unit receives', 'unit third', 'unit variable', 'value', 'value amplifier', 'value impedance', 'value input', 'value voltage', 'variable', 'variable bias', 'voltage', 'voltage amplifying', 'voltage source', 'voltage value']\n",
      "['aerial', 'aerial photography', 'aerial vehicle', 'authentication', 'authentication photographic', 'authentication processor', 'communicates', 'communicates photographic', 'communicator', 'communicator communicates', 'communicator determines', 'determines', 'determines whether', 'determining', 'determining photographic', 'device', 'device authentication', 'device incapable', 'device legitimate', 'device mounted', 'device mounting', 'device satisfies', 'device using', 'function', 'function unmanned', 'incapable', 'incapable performing', 'includes', 'includes photographic', 'legitimate', 'legitimate device', 'limitation', 'limitation predetermined', 'mounted', 'mounted communicator', 'mounting', 'mounting portion', 'operation', 'operation limitation', 'performing', 'performing aerial', 'performs', 'performs authentication', 'performs operation', 'photographic', 'photographic device', 'photography', 'photography requirement', 'portion', 'portion photographic', 'predetermined', 'predetermined aerial', 'predetermined function', 'processor', 'processor performs', 'requirement', 'requirement upon', 'satisfies', 'satisfies predetermined', 'unmanned', 'unmanned aerial', 'upon', 'upon determining', 'using', 'using communicator', 'vehicle', 'vehicle includes', 'vehicle photographic', 'whether', 'whether photographic']\n"
     ]
    },
    {
     "name": "stderr",
     "output_type": "stream",
     "text": [
      "C:\\Users\\HP\\anaconda3\\envs\\Pytorchgpu\\lib\\site-packages\\sklearn\\utils\\deprecation.py:87: FutureWarning: Function get_feature_names is deprecated; get_feature_names is deprecated in 1.0 and will be removed in 1.2. Please use get_feature_names_out instead.\n",
      "  warnings.warn(msg, category=FutureWarning)\n",
      "C:\\Users\\HP\\anaconda3\\envs\\Pytorchgpu\\lib\\site-packages\\sklearn\\utils\\deprecation.py:87: FutureWarning: Function get_feature_names is deprecated; get_feature_names is deprecated in 1.0 and will be removed in 1.2. Please use get_feature_names_out instead.\n",
      "  warnings.warn(msg, category=FutureWarning)\n",
      "C:\\Users\\HP\\anaconda3\\envs\\Pytorchgpu\\lib\\site-packages\\sklearn\\utils\\deprecation.py:87: FutureWarning: Function get_feature_names is deprecated; get_feature_names is deprecated in 1.0 and will be removed in 1.2. Please use get_feature_names_out instead.\n",
      "  warnings.warn(msg, category=FutureWarning)\n",
      "C:\\Users\\HP\\anaconda3\\envs\\Pytorchgpu\\lib\\site-packages\\sklearn\\utils\\deprecation.py:87: FutureWarning: Function get_feature_names is deprecated; get_feature_names is deprecated in 1.0 and will be removed in 1.2. Please use get_feature_names_out instead.\n",
      "  warnings.warn(msg, category=FutureWarning)\n",
      "C:\\Users\\HP\\anaconda3\\envs\\Pytorchgpu\\lib\\site-packages\\sklearn\\utils\\deprecation.py:87: FutureWarning: Function get_feature_names is deprecated; get_feature_names is deprecated in 1.0 and will be removed in 1.2. Please use get_feature_names_out instead.\n",
      "  warnings.warn(msg, category=FutureWarning)\n"
     ]
    },
    {
     "name": "stdout",
     "output_type": "stream",
     "text": [
      "['01', '01 part', '10', '10 12', '10 deg', '10 degree', '12', '12 part', '24', '24 percent', '285', '285 percent', '30', '30 degree', '44', '44 percent', '60', '60 part', '72', '72 percent', 'advantage', 'advantage hardnesschange', 'agent', 'agent 30', 'agent ana', 'agent contains', 'agent preparation', 'ana', 'ana advantage', 'ana prepared', 'ana used', 'anchoring', 'anchoring agent', 'break', 'break increased', 'capping', 'capping reagent', 'catalyst', 'catalyst anchoring', 'centrigrade', 'centrigrade 24', 'centrigrade percent', 'chain', 'chain extender', 'change', 'change rate', 'compared', 'compared dotp', 'component', 'component part', 'compound', 'compound plasticizer', 'contains', 'contains following', 'decreased', 'decreased 44', 'decreased 72', 'deg', 'deg separation', 'degree', 'degree centrigrade', 'dissolved', 'dissolved pvc', 'dotp', 'dotp compound', 'dotp plasticizer', 'elongation', 'elongation break', 'end', 'end capping', 'extender', 'extender part', 'following', 'following component', 'hardness', 'hardness change', 'hardnesschange', 'hardnesschange rate', 'increased', 'increased 285', 'invention', 'invention provides', 'isocyanate', 'isocyanate 10', 'linear', 'linear thermoplastic', 'method', 'method mutually', 'method thereof', 'migration', 'migration separation', 'mutually', 'mutually dissolved', 'part', 'part anchoring', 'part catalyst', 'part chain', 'part end', 'part isocyanate', 'part polyether', 'part weight', 'percent', 'percent 10', 'percent compared', 'percent hardness', 'percent two', 'plasticizer', 'plasticizer anchoring', 'plasticizer migration', 'plasticizer pure', 'polyether', 'polyether polyol', 'polyol', 'polyol part', 'polyurethane', 'polyurethane anchoring', 'preparation', 'preparation method', 'prepared', 'prepared virtue', 'provides', 'provides linear', 'pure', 'pure dotp', 'pvc', 'pvc 60', 'rate', 'rate 10', 'rate anchoring', 'rate decreased', 'rate elongation', 'reagent', 'reagent 01', 'retention', 'retention rate', 'separation', 'separation rate', 'thereof', 'thereof anchoring', 'thermoplastic', 'thermoplastic polyurethane', 'two', 'two plasticizer', 'used', 'used retention', 'virtue', 'virtue preparation', 'weight', 'weight part']\n"
     ]
    },
    {
     "name": "stderr",
     "output_type": "stream",
     "text": [
      "C:\\Users\\HP\\anaconda3\\envs\\Pytorchgpu\\lib\\site-packages\\sklearn\\utils\\deprecation.py:87: FutureWarning: Function get_feature_names is deprecated; get_feature_names is deprecated in 1.0 and will be removed in 1.2. Please use get_feature_names_out instead.\n",
      "  warnings.warn(msg, category=FutureWarning)\n",
      "C:\\Users\\HP\\anaconda3\\envs\\Pytorchgpu\\lib\\site-packages\\sklearn\\utils\\deprecation.py:87: FutureWarning: Function get_feature_names is deprecated; get_feature_names is deprecated in 1.0 and will be removed in 1.2. Please use get_feature_names_out instead.\n",
      "  warnings.warn(msg, category=FutureWarning)\n"
     ]
    },
    {
     "name": "stdout",
     "output_type": "stream",
     "text": [
      "['anode', 'anode bar', 'bar', 'bar electroplating', 'barrel', 'barrel conduct', 'barrel enable', 'barrel enables', 'barrel hardware', 'barrel rotate', 'barrel water', 'bath', 'bath electroplating', 'bracket', 'bracket filter', 'cabinet', 'cabinet anode', 'case', 'case movable', 'cathode', 'cathode copper', 'cleaning', 'cleaning hairbrush', 'composed', 'composed vertical', 'comprises', 'comprises electroplating', 'conduct', 'conduct flat', 'constrained', 'constrained inner', 'copper', 'copper fork', 'damaged', 'damaged prevented', 'device', 'device cathode', 'discloses', 'discloses vertical', 'drive', 'drive electroplating', 'efficiency', 'efficiency improved', 'electric', 'electric cabinet', 'electroplating', 'electroplating bath', 'electroplating device', 'electroplating efficiency', 'electroplating equipment', 'electroplating fixture', 'electroplating layer', 'electroplating machine', 'electroplating roll', 'electroplating solution', 'electroplating workpiecesin', 'enable', 'enable small', 'enables', 'enables electroplating', 'equipment', 'equipment structurally', 'equipment vertical', 'fall', 'fall electroplating', 'filter', 'filter electric', 'filtered', 'filtered permeate', 'filtering', 'filtering bracket', 'filtering inner', 'filtering net', 'fitting', 'fitting inserting', 'fixture', 'fixture thus', 'flat', 'flat scanning', 'fork', 'fork electroplating', 'frame', 'frame cleaning', 'hairbrush', 'hairbrush electroplating', 'handle', 'handle roll', 'hardware', 'hardware fitting', 'improved', 'improved electroplating', 'inner', 'inner barrel', 'inner wall', 'inserting', 'inserting strip', 'installation', 'installation frame', 'invention', 'invention discloses', 'layer', 'layer workpiece', 'lifting', 'lifting handle', 'machine', 'machine composed', 'machine lifting', 'machine utilizes', 'mechanism', 'mechanism quality', 'motor', 'motor drive', 'motor shaft', 'movable', 'movable installation', 'net', 'net hardware', 'onto', 'onto surface', 'orderly', 'orderly constrained', 'permeate', 'permeate onto', 'prevented', 'prevented filtering', 'quality', 'quality electroplating', 'roll', 'roll barrel', 'rotate', 'rotate motor', 'scanning', 'scanning electroplating', 'scanning mechanism', 'shaft', 'shaft electroplating', 'situation', 'situation workpiece', 'size', 'size workpiece', 'small', 'small size', 'solution', 'solution filtered', 'strip', 'strip electroplating', 'strip flat', 'strip situation', 'structurally', 'structurally comprises', 'surface', 'surface workpiece', 'througha', 'througha filtering', 'thus', 'thus workpiece', 'utilizes', 'utilizes motor', 'vertical', 'vertical case', 'vertical electroplating', 'wall', 'wall electroplating', 'water', 'water filtering', 'workpiece', 'workpiece damaged', 'workpiece fall', 'workpiece improved', 'workpiece orderly', 'workpiece througha', 'workpiecesin', 'workpiecesin hardware']\n"
     ]
    },
    {
     "name": "stderr",
     "output_type": "stream",
     "text": [
      "C:\\Users\\HP\\anaconda3\\envs\\Pytorchgpu\\lib\\site-packages\\sklearn\\utils\\deprecation.py:87: FutureWarning: Function get_feature_names is deprecated; get_feature_names is deprecated in 1.0 and will be removed in 1.2. Please use get_feature_names_out instead.\n",
      "  warnings.warn(msg, category=FutureWarning)\n",
      "C:\\Users\\HP\\anaconda3\\envs\\Pytorchgpu\\lib\\site-packages\\sklearn\\utils\\deprecation.py:87: FutureWarning: Function get_feature_names is deprecated; get_feature_names is deprecated in 1.0 and will be removed in 1.2. Please use get_feature_names_out instead.\n",
      "  warnings.warn(msg, category=FutureWarning)\n"
     ]
    },
    {
     "name": "stdout",
     "output_type": "stream",
     "text": [
      "['achieving', 'achieving automatic', 'advantage', 'advantage structure', 'along', 'along curtain', 'arranged', 'arranged rolling', 'arranged slant', 'arranged top', 'arranged two', 'arrangedon', 'arrangedon transverse', 'automatic', 'automatic folding', 'chain', 'chain structure', 'cloth', 'cloth arranged', 'cloth provided', 'cloth thereby', 'cloth wherein', 'compared', 'compared traditional', 'comprises', 'comprises transverse', 'convenient', 'convenient curtain', 'curtain', 'curtain cloth', 'curtain compared', 'curtain quick', 'curtain rod', 'curtain structure', 'curtaincloth', 'curtaincloth perform', 'device', 'device curtain', 'driven', 'driven le', 'driving', 'driving motor', 'electric', 'electric curtain', 'end', 'end curtain', 'end transverse', 'expansion', 'expansion curtain', 'folding', 'folding unfolding', 'front', 'front pull', 'greatly', 'greatly improved', 'group', 'group oflimiting', 'group rolling', 'improved', 'improved service', 'installation', 'installation convenient', 'invention', 'invention provides', 'islowered', 'islowered repairing', 'le', 'le reliability', 'life', 'life curtain', 'magnetic', 'magnetic stripe', 'maintenance', 'maintenance convenient', 'motion', 'motion along', 'motor', 'motor curtaincloth', 'multiple', 'multiple group', 'noise', 'noise islowered', 'oflimiting', 'oflimiting device', 'perform', 'perform reciprocating', 'piece', 'piece arrangedon', 'piece curtain', 'piece side', 'plate', 'plate arranged', 'plate multiple', 'plate provided', 'prolonged', 'prolonged noise', 'provided', 'provided magnetic', 'provided multiple', 'provides', 'provides curtain', 'pull', 'pull rod', 'quick', 'quick chain', 'rear', 'rear pull', 'reciprocating', 'reciprocating motion', 'reliability', 'reliability curtain', 'repairing', 'repairing maintenance', 'respectively', 'respectively top', 'retraction', 'retraction expansion', 'rod', 'rod arranged', 'rod curtain', 'rod front', 'rod rear', 'rod respectively', 'rod rolling', 'rod top', 'rolling', 'rolling piece', 'service', 'service life', 'side', 'side end', 'simple', 'simple installation', 'slant', 'slant driving', 'stripe', 'stripe top', 'structure', 'structure advantage', 'structure comprises', 'structure curtain', 'structure driven', 'structure greatly', 'structure prolonged', 'structure retraction', 'structure simple', 'thereby', 'thereby achieving', 'top', 'top plate', 'top transverse', 'traditional', 'traditional electric', 'transverse', 'transverse rod', 'two', 'two end', 'unfolding', 'unfolding curtain', 'wherein', 'wherein front']\n"
     ]
    },
    {
     "name": "stderr",
     "output_type": "stream",
     "text": [
      "C:\\Users\\HP\\anaconda3\\envs\\Pytorchgpu\\lib\\site-packages\\sklearn\\utils\\deprecation.py:87: FutureWarning: Function get_feature_names is deprecated; get_feature_names is deprecated in 1.0 and will be removed in 1.2. Please use get_feature_names_out instead.\n",
      "  warnings.warn(msg, category=FutureWarning)\n",
      "C:\\Users\\HP\\anaconda3\\envs\\Pytorchgpu\\lib\\site-packages\\sklearn\\utils\\deprecation.py:87: FutureWarning: Function get_feature_names is deprecated; get_feature_names is deprecated in 1.0 and will be removed in 1.2. Please use get_feature_names_out instead.\n",
      "  warnings.warn(msg, category=FutureWarning)\n"
     ]
    },
    {
     "name": "stdout",
     "output_type": "stream",
     "text": [
      "['acarbon', 'acarbon fiber', 'accelerated', 'accelerated rapid', 'adopted', 'adopted basis', 'adopted matched', 'adopts', 'adopts acarbon', 'advantage', 'advantage light', 'arm', 'arm adopts', 'arm compression', 'arm suitable', 'automatic', 'automatic production', 'avoid', 'avoid potential', 'basis', 'basis technological', 'berepeatedly', 'berepeatedly used', 'bismaleimide', 'bismaleimide resin', 'carbon', 'carbon fiber', 'composite', 'composite material', 'composite mechanical', 'compression', 'compression molding', 'core', 'core adopted', 'cost', 'cost low', 'dependence', 'dependence imported', 'development', 'development industrial', 'die', 'die core', 'die pressing', 'die steel', 'dy', 'dy prepreg', 'efficiency', 'efficiency high', 'eliminated', 'eliminated steel', 'environment', 'environment avoid', 'equipment', 'equipment simple', 'female', 'female die', 'fiber', 'fiber composite', 'fiber reinforced', 'guaranteed', 'guaranteed carbon', 'hazard', 'hazard manual', 'high', 'high rigidity', 'high strength', 'high technological', 'high temperature', 'high temperatureenvironment', 'importantly', 'importantly dependence', 'imported', 'imported product', 'industrial', 'industrial production', 'invention', 'invention relates', 'light', 'light weight', 'low', 'low production', 'male', 'male die', 'manual', 'manual operation', 'matched', 'matched dy', 'material', 'material mechanical', 'material mold', 'mechanical', 'mechanical arm', 'method', 'method advantage', 'method carbon', 'mold', 'mold mechanical', 'molded', 'molded equipment', 'molding', 'molding method', 'molding quality', 'operated', 'operated high', 'operation', 'operation automatic', 'potential', 'potential safety', 'prepreg', 'prepreg die', 'pressing', 'pressing technology', 'product', 'product accelerated', 'product eliminated', 'product molding', 'production', 'production cost', 'production efficiency', 'production product', 'production promoted', 'promoted', 'promoted importantly', 'quality', 'quality guaranteed', 'rapid', 'rapid development', 'reduced', 'reduced product', 'reinforced', 'reinforced bismaleimide', 'relates', 'relates compression', 'resin', 'resin composite', 'rigidity', 'rigidity berepeatedly', 'risk', 'risk reduced', 'risk small', 'safety', 'safety hazard', 'simple', 'simple production', 'small', 'steel', 'steel female', 'steel male', 'strength', 'strength high', 'suitable', 'suitable operated', 'technological', 'technological risk', 'technology', 'technology adopted', 'temperature', 'temperature environment', 'temperatureenvironment', 'temperatureenvironment molded', 'used', 'used high', 'weight', 'weight high']\n"
     ]
    },
    {
     "name": "stderr",
     "output_type": "stream",
     "text": [
      "C:\\Users\\HP\\anaconda3\\envs\\Pytorchgpu\\lib\\site-packages\\sklearn\\utils\\deprecation.py:87: FutureWarning: Function get_feature_names is deprecated; get_feature_names is deprecated in 1.0 and will be removed in 1.2. Please use get_feature_names_out instead.\n",
      "  warnings.warn(msg, category=FutureWarning)\n",
      "C:\\Users\\HP\\anaconda3\\envs\\Pytorchgpu\\lib\\site-packages\\sklearn\\utils\\deprecation.py:87: FutureWarning: Function get_feature_names is deprecated; get_feature_names is deprecated in 1.0 and will be removed in 1.2. Please use get_feature_names_out instead.\n",
      "  warnings.warn(msg, category=FutureWarning)\n"
     ]
    },
    {
     "name": "stdout",
     "output_type": "stream",
     "text": [
      "['adjustment', 'adjustment moisture', 'andfrying', 'andfrying process', 'arranged', 'arranged side', 'assembly', 'assembly equipment', 'automatically', 'automatically completed', 'base', 'base feeding', 'base two', 'belt', 'belt flattening', 'bin', 'bin feeding', 'blank', 'blank formed', 'blank rolling', 'blank squeezing', 'blank subsequent', 'camellia', 'camellia oil', 'completed', 'completed blank', 'comprises', 'comprises base', 'comprises feeding', 'comprises reciprocating', 'contact', 'contact surface', 'conveniently', 'conveniently enter', 'cylinder', 'cylinder stroke', 'driving', 'driving gear', 'end', 'end base', 'ensured', 'ensured adjustment', 'enter', 'enter gap', 'equipment', 'equipment preparing', 'equipment specifically', 'facilitated', 'feeding', 'feeding mechanism', 'feeding motor', 'feeding rod', 'fixedly', 'fixedly mounted', 'flaky', 'flaky tea', 'flattening', 'flattening blank', 'flattening mechanism', 'flattening processing', 'formed', 'formed blank', 'gap', 'gap roller', 'gear', 'gear plunger', 'green', 'green blank', 'heating', 'heating contact', 'hydraulic', 'hydraulic cylinder', 'integrates', 'integrates flattening', 'invention', 'invention relates', 'involved', 'involved technology', 'material', 'material scattering', 'material temperature', 'mechanism', 'mechanism comprises', 'mechanism flattening', 'mechanism roller', 'mechanism wherein', 'moisture', 'moisture material', 'motor', 'motor driving', 'motor feeding', 'mounted', 'mounted upper', 'oil', 'oil equipment', 'oil particular', 'particular', 'particular processing', 'pipe', 'pipe set', 'plate', 'plate arranged', 'plate processing', 'plate rotating', 'plunger', 'plunger assembly', 'plunger pipe', 'preparing', 'preparing rolled', 'process', 'process ensured', 'processing', 'processing automatically', 'processing bin', 'processing equipment', 'processing technology', 'reciprocating', 'reciprocating hydraulic', 'relates', 'relates processing', 'rod', 'rod material', 'rod synchronous', 'rolled', 'rolled blank', 'roller', 'roller blank', 'roller mechanism', 'rolling', 'rolling flattening', 'rolling heating', 'rolling smaller', 'rolling tea', 'rotating', 'rotating motor', 'scattering', 'scattering rod', 'seed', 'seed blank', 'seed conveniently', 'seed green', 'set', 'set plunger', 'side', 'side fixedly', 'side plate', 'side side', 'smaller', 'smaller flaky', 'specifically', 'specifically comprises', 'specifically involved', 'squeezing', 'squeezing camellia', 'squeezing thecamellia', 'steaming', 'steaming andfrying', 'stroke', 'stroke plate', 'subsequent', 'subsequent steaming', 'supporting', 'supporting side', 'supportingside', 'supportingside plate', 'surface', 'surface tea', 'synchronous', 'synchronous transmission', 'tea', 'tea seed', 'technology', 'technology integrates', 'technology preparing', 'temperature', 'temperature facilitated', 'thecamellia', 'thecamellia oil', 'transmission', 'transmission belt', 'two', 'two supporting', 'two supportingside', 'upper', 'upper end', 'wherein', 'wherein two']\n"
     ]
    },
    {
     "name": "stderr",
     "output_type": "stream",
     "text": [
      "C:\\Users\\HP\\anaconda3\\envs\\Pytorchgpu\\lib\\site-packages\\sklearn\\utils\\deprecation.py:87: FutureWarning: Function get_feature_names is deprecated; get_feature_names is deprecated in 1.0 and will be removed in 1.2. Please use get_feature_names_out instead.\n",
      "  warnings.warn(msg, category=FutureWarning)\n",
      "C:\\Users\\HP\\anaconda3\\envs\\Pytorchgpu\\lib\\site-packages\\sklearn\\utils\\deprecation.py:87: FutureWarning: Function get_feature_names is deprecated; get_feature_names is deprecated in 1.0 and will be removed in 1.2. Please use get_feature_names_out instead.\n",
      "  warnings.warn(msg, category=FutureWarning)\n"
     ]
    },
    {
     "name": "stdout",
     "output_type": "stream",
     "text": [
      "['always', 'always cleaned', 'automatically', 'automatically cleaned', 'bit', 'bit replaced', 'body', 'body surface', 'cleaned', 'cleaned cleaning', 'cleaned glue', 'cleaned prevent', 'cleaning', 'cleaning device', 'collecting', 'collecting groove', 'column', 'column automatically', 'column distributed', 'column nesting', 'column prevented', 'column processing', 'column triangular', 'column two', 'completed', 'completed cleaning', 'completed roller', 'comprises', 'comprises roller', 'connected', 'connected roller', 'damaged', 'damaged groove', 'detachably', 'detachably cleaned', 'device', 'device connected', 'device detachably', 'device drive', 'device two', 'discloses', 'discloses glue', 'distributed', 'distributed embedded', 'drive', 'drive sliding', 'embedded', 'embedded mode', 'film', 'film glue', 'film remains', 'fixed', 'fixed two', 'force', 'force scraping', 'glue', 'glue homogenizing', 'glue liquid', 'glue outside', 'glue producing', 'glue remaining', 'groove', 'groove prevent', 'groove surface', 'guide', 'guide scraped', 'head', 'head guide', 'head made', 'head tool', 'homogenizing', 'homogenizing roller', 'horizontally', 'horizontally inertia', 'inertia', 'inertia force', 'influenced', 'influenced triangular', 'invention', 'invention discloses', 'liquid', 'liquid collecting', 'made', 'made rubber', 'mode', 'mode cleaning', 'mode production', 'move', 'move horizontally', 'nesting', 'nesting mode', 'outside', 'outside roller', 'passing', 'passing time', 'pet', 'pet film', 'plate', 'plate scrape', 'prevent', 'prevent scraped', 'prevent situation', 'prevented', 'prevented damaged', 'processing', 'processing completed', 'processing glue', 'producing', 'producing pet', 'production', 'production pet', 'production processing', 'remaining', 'remaining outside', 'remaining triangular', 'remains', 'remains outside', 'replaced', 'replaced scraping', 'ring', 'ring move', 'ring scrape', 'roller', 'roller body', 'roller column', 'roller completed', 'roller production', 'roller small', 'roller structurally', 'roller uneven', 'rubber', 'rubber head', 'rubber texture', 'scrape', 'scrape glue', 'scraped', 'scraped glue', 'scraping', 'scraping plate', 'scraping ring', 'seam', 'seam glue', 'shaft', 'shaft cleaning', 'shaft fixed', 'side', 'side roller', 'situation', 'situation seam', 'sliding', 'sliding ring', 'small', 'small always', 'soft', 'soft outside', 'structurally', 'structurally comprises', 'supporting', 'supporting shaft', 'surface', 'surface glue', 'surface triangular', 'texture', 'texture soft', 'time', 'time using', 'tool', 'tool bit', 'triangular', 'triangular rubber', 'two', 'two side', 'two supporting', 'uneven', 'uneven passing', 'using', 'using influenced']\n"
     ]
    },
    {
     "name": "stderr",
     "output_type": "stream",
     "text": [
      "C:\\Users\\HP\\anaconda3\\envs\\Pytorchgpu\\lib\\site-packages\\sklearn\\utils\\deprecation.py:87: FutureWarning: Function get_feature_names is deprecated; get_feature_names is deprecated in 1.0 and will be removed in 1.2. Please use get_feature_names_out instead.\n",
      "  warnings.warn(msg, category=FutureWarning)\n",
      "C:\\Users\\HP\\anaconda3\\envs\\Pytorchgpu\\lib\\site-packages\\sklearn\\utils\\deprecation.py:87: FutureWarning: Function get_feature_names is deprecated; get_feature_names is deprecated in 1.0 and will be removed in 1.2. Please use get_feature_names_out instead.\n",
      "  warnings.warn(msg, category=FutureWarning)\n"
     ]
    },
    {
     "name": "stdout",
     "output_type": "stream",
     "text": [
      "['according', 'according invention', 'atthe', 'atthe moment', 'automatically', 'automatically recovering', 'awakening', 'awakening process', 'awakening triggered', 'circuit', 'circuit structure', 'code', 'code atthe', 'completely', 'completely powered', 'comprises', 'comprises following', 'consumption', 'consumption processing', 'continue', 'continue supply', 'continuously', 'continuously self', 'control', 'control ios', 'ddr', 'ddr continuously', 'ddr control', 'ddr maintaining', 'ddr recovery', 'ddrio', 'ddrio retention', 'device', 'device soc', 'disconnecting', 'disconnecting first', 'enable', 'enable ddr', 'enabling', 'enabling soc', 'executing', 'executing ddr', 'first', 'first power', 'following', 'following step', 'function', 'function enable', 'identifying', 'identifying state', 'invention', 'invention provides', 'invention soc', 'ios', 'ios ddrio', 'judged', 'judged recovery', 'keeping', 'keeping second', 'low', 'low power', 'maintaining', 'maintaining plurality', 'method', 'method comprises', 'method device', 'moment', 'moment executing', 'offand', 'offand recovered', 'operate', 'operate sleep', 'pin', 'pin standby', 'plurality', 'plurality ddr', 'pmic', 'pmic judged', 'pmic reset', 'pmic sleep', 'power', 'power consumption', 'power soc', 'power supply', 'powered', 'powered offand', 'powerto', 'powerto ddr', 'process', 'process according', 'process awakening', 'process enabling', 'process state', 'processing', 'processing method', 'provides', 'provides low', 'quickly', 'quickly completely', 'recovered', 'recovered circuit', 'recovering', 'recovering first', 'recovery', 'recovery code', 'recovery process', 'refreshing', 'refreshing state', 'register', 'register pmic', 'reset', 'reset soc', 'retention', 'retention function', 'second', 'second power', 'self', 'self refreshing', 'setting', 'setting state', 'simple', 'sleep', 'sleep pin', 'sleep state', 'soc', 'soc identifying', 'soc keeping', 'soc method', 'soc operate', 'soc quickly', 'standby', 'standby process', 'standby state', 'state', 'state awakening', 'state ddr', 'state disconnecting', 'state register', 'state setting', 'step', 'step standby', 'structure', 'structure simple', 'supply', 'supply continue', 'supply pmic', 'supply powerto', 'supply supplying', 'supplying', 'supplying power', 'triggered', 'triggered automatically']\n"
     ]
    },
    {
     "name": "stderr",
     "output_type": "stream",
     "text": [
      "C:\\Users\\HP\\anaconda3\\envs\\Pytorchgpu\\lib\\site-packages\\sklearn\\utils\\deprecation.py:87: FutureWarning: Function get_feature_names is deprecated; get_feature_names is deprecated in 1.0 and will be removed in 1.2. Please use get_feature_names_out instead.\n",
      "  warnings.warn(msg, category=FutureWarning)\n",
      "C:\\Users\\HP\\anaconda3\\envs\\Pytorchgpu\\lib\\site-packages\\sklearn\\utils\\deprecation.py:87: FutureWarning: Function get_feature_names is deprecated; get_feature_names is deprecated in 1.0 and will be removed in 1.2. Please use get_feature_names_out instead.\n",
      "  warnings.warn(msg, category=FutureWarning)\n"
     ]
    },
    {
     "name": "stdout",
     "output_type": "stream",
     "text": [
      "['adjust', 'adjust device', 'adjustment', 'adjustment completed', 'along', 'along bottom', 'apparatus', 'apparatus instrument', 'appropriate', 'appropriate position', 'arm', 'arm arranged', 'arm convenience', 'arranged', 'arranged camera', 'arranged lamp', 'back', 'back forth', 'base', 'base plate', 'bearing', 'bearing rod', 'blade', 'blade arm', 'blade device', 'blade fit', 'block', 'block fixedly', 'block top', 'bottom', 'bottom fixed', 'bulb', 'bulb caneffectively', 'camera', 'camera effectively', 'caneffectively', 'caneffectively supplement', 'clinic', 'clinic sampling', 'completed', 'completed meanwhile', 'comprises', 'comprises installing', 'connecting', 'connecting cross', 'contact', 'contact point', 'convenience', 'convenience doctor', 'convenience provided', 'cross', 'cross rod', 'department', 'department clinic', 'dermatology', 'dermatology department', 'device', 'device appropriate', 'device comprises', 'device improves', 'device used', 'discloses', 'discloses clinic', 'displayscreen', 'displayscreen convenience', 'doctor', 'doctor adjust', 'doctor operation', 'effectively', 'effectively transmit', 'field', 'field medical', 'fit', 'fit arm', 'fixed', 'fixed rail', 'fixedly', 'fixedly installed', 'forth', 'forth pushing', 'guarantee', 'guarantee thesafety', 'handle', 'handle blade', 'handle height', 'height', 'height adjustment', 'improves', 'improves sampling', 'installed', 'installed opposite', 'installed top', 'installing', 'installing base', 'installing block', 'instrument', 'instrument discloses', 'invention', 'invention relates', 'lamp', 'lamp bulb', 'light', 'light contact', 'meanwhile', 'meanwhile skin', 'medical', 'medical apparatus', 'move', 'move along', 'moved', 'moved turning', 'moving', 'moving rod', 'operation', 'operation arranged', 'operation guarantee', 'opposite', 'opposite side', 'patient', 'patient sampled', 'picture', 'picture displayscreen', 'plate', 'plate installing', 'plate moved', 'plate wherein', 'point', 'point blade', 'position', 'position moving', 'precision', 'precision provides', 'provided', 'provided doctor', 'provides', 'provides convenience', 'pushing', 'pushing handle', 'rail', 'rail back', 'relates', 'relates technical', 'rod', 'rod connecting', 'rod fixedly', 'rod move', 'sampled', 'sampled blade', 'sampled picture', 'sampling', 'sampling device', 'sampling precision', 'side', 'side two', 'skin', 'skin patient', 'supplement', 'supplement light', 'technical', 'technical field', 'thesafety', 'thesafety patient', 'top', 'top installing', 'top plate', 'top two', 'transmit', 'transmit sampled', 'turning', 'turning handle', 'two', 'two bearing', 'two installing', 'used', 'used dermatology', 'wherein', 'wherein two']\n"
     ]
    },
    {
     "name": "stderr",
     "output_type": "stream",
     "text": [
      "C:\\Users\\HP\\anaconda3\\envs\\Pytorchgpu\\lib\\site-packages\\sklearn\\utils\\deprecation.py:87: FutureWarning: Function get_feature_names is deprecated; get_feature_names is deprecated in 1.0 and will be removed in 1.2. Please use get_feature_names_out instead.\n",
      "  warnings.warn(msg, category=FutureWarning)\n",
      "C:\\Users\\HP\\anaconda3\\envs\\Pytorchgpu\\lib\\site-packages\\sklearn\\utils\\deprecation.py:87: FutureWarning: Function get_feature_names is deprecated; get_feature_names is deprecated in 1.0 and will be removed in 1.2. Please use get_feature_names_out instead.\n",
      "  warnings.warn(msg, category=FutureWarning)\n"
     ]
    },
    {
     "name": "stdout",
     "output_type": "stream",
     "text": [
      "['agent', 'agent solution', 'alkali', 'alkali liquor', 'assisted', 'assisted deposition', 'auxiliary', 'auxiliary deposition', 'base', 'base film', 'base membrane', 'belongs', 'belongs technical', 'carboxylation', 'carboxylation modification', 'carry', 'carry base', 'carrying', 'carrying carboxylation', 'carrying dopamine', 'carrying interfacial', 'carrying situ', 'coating', 'coating carrying', 'composite', 'composite nanofiltration', 'comprises', 'comprises following', 'crosslinking', 'crosslinking agent', 'crosslinking crosslinking', 'deposition', 'deposition belongs', 'deposition polydopamine', 'dopamine', 'dopamine assisted', 'dopamine coating', 'dopamine layer', 'dopamine solution', 'dot', 'dot composite', 'dot layer', 'dot solution', 'excellent', 'excellent operation', 'field', 'field membrane', 'film', 'film finally', 'finally', 'finally carrying', 'firstly', 'firstly carrying', 'flux', 'flux graphene', 'following', 'following step', 'form', 'form dopamine', 'form graphene', 'graphene', 'graphene oxide', 'high', 'high flux', 'immersing', 'immersing reaction', 'interfacial', 'interfacial polymerization', 'invention', 'invention relates', 'layer', 'layer immersing', 'layer surface', 'layer virtue', 'liquor', 'liquor immersing', 'membrane', 'membrane base', 'membrane dopamine', 'membrane firstly', 'membrane high', 'membrane modification', 'membrane prepared', 'membrane separation', 'method', 'method comprises', 'method excellent', 'method firstly', 'method novel', 'method preparing', 'modification', 'modification alkali', 'modification form', 'nanofiltration', 'nanofiltration membrane', 'novel', 'novel preparation', 'obtain', 'obtain high', 'operation', 'operation stability', 'oxide', 'oxide quantum', 'polyacrylonitrile', 'polyacrylonitrile ultrafiltration', 'polydopamine', 'polydopamine layer', 'polymerization', 'polymerization method', 'preparation', 'preparation method', 'preparation process', 'prepared', 'prepared method', 'preparing', 'preparing high', 'process', 'process simple', 'product', 'product dopamine', 'product graphene', 'quantum', 'quantum dot', 'reaction', 'reaction product', 'relates', 'relates method', 'separation', 'separation method', 'simple', 'simple preparation', 'situ', 'situ crosslinking', 'solution', 'solution carry', 'solution form', 'solution obtain', 'stability', 'step', 'step taking', 'surface', 'surface base', 'taking', 'taking polyacrylonitrile', 'technical', 'technical field', 'ultrafiltration', 'ultrafiltration membrane', 'virtue', 'virtue auxiliary']\n"
     ]
    },
    {
     "name": "stderr",
     "output_type": "stream",
     "text": [
      "C:\\Users\\HP\\anaconda3\\envs\\Pytorchgpu\\lib\\site-packages\\sklearn\\utils\\deprecation.py:87: FutureWarning: Function get_feature_names is deprecated; get_feature_names is deprecated in 1.0 and will be removed in 1.2. Please use get_feature_names_out instead.\n",
      "  warnings.warn(msg, category=FutureWarning)\n",
      "C:\\Users\\HP\\anaconda3\\envs\\Pytorchgpu\\lib\\site-packages\\sklearn\\utils\\deprecation.py:87: FutureWarning: Function get_feature_names is deprecated; get_feature_names is deprecated in 1.0 and will be removed in 1.2. Please use get_feature_names_out instead.\n",
      "  warnings.warn(msg, category=FutureWarning)\n"
     ]
    },
    {
     "name": "stdout",
     "output_type": "stream",
     "text": [
      "['according', 'according flow', 'alternately', 'alternately spray', 'among', 'among silicon', 'area', 'area silicon', 'avoided', 'avoided influence', 'central', 'central part', 'centralized', 'centralized way', 'certain', 'certain time', 'cleaned', 'cleaned number', 'cleaned using', 'cleaning', 'cleaning central', 'cleaning edge', 'cleaning nozzle', 'cleaning silicon', 'combination', 'combination used', 'controlled', 'controlled minimized', 'device', 'device method', 'difference', 'difference set', 'different', 'different position', 'different water', 'distribution', 'distribution single', 'due', 'due insufficient', 'edge', 'edge part', 'flow', 'flow combination', 'flow distribution', 'flow rate', 'flow respectively', 'flushing', 'flushing point', 'forsetting', 'forsetting flushing', 'four', 'four row', 'fully', 'fully cleaned', 'gap', 'gap among', 'gap controlled', 'influence', 'influence gap', 'insufficient', 'insufficient flow', 'invention', 'invention provides', 'liquid', 'liquid medicine', 'liquid nozzle', 'mainly', 'mainly cleaning', 'medicine', 'medicine according', 'method', 'method cleaning', 'minimized', 'minimized different', 'nozzle', 'nozzle alternately', 'nozzle central', 'nozzle supply', 'nozzle used', 'number', 'number particle', 'part', 'part area', 'part cleaning', 'part peripheral', 'part silicon', 'part surface', 'particle', 'particle reduced', 'peripheral', 'peripheral part', 'phenomenon', 'phenomenon flow', 'point', 'point different', 'position', 'position silicon', 'provides', 'provides device', 'quartz', 'quartz nozzle', 'rate', 'rate avoided', 'rate gap', 'rate phenomenon', 'rate two', 'reduced', 'respectively', 'respectively four', 'row', 'row nozzle', 'row silicon', 'set', 'set forsetting', 'silicon', 'silicon wafer', 'single', 'single silicon', 'spray', 'spray liquid', 'stage', 'stage quartz', 'supply', 'supply liquid', 'surface', 'surface silicon', 'surface uniform', 'tank', 'tank unbalanced', 'time', 'time difference', 'two', 'two row', 'two stage', 'two type', 'type', 'type nozzle', 'unbalanced', 'unbalanced water', 'uniform', 'uniform due', 'used', 'used cleaning', 'used mainly', 'used two', 'used whole', 'using', 'using different', 'using two', 'wafer', 'wafer according', 'wafer central', 'wafer centralized', 'wafer cleaned', 'wafer fully', 'wafer peripheral', 'wafer surface', 'wafer tank', 'wafer using', 'water', 'water flow', 'way', 'way certain', 'way two', 'whole', 'whole surface']\n"
     ]
    },
    {
     "name": "stderr",
     "output_type": "stream",
     "text": [
      "C:\\Users\\HP\\anaconda3\\envs\\Pytorchgpu\\lib\\site-packages\\sklearn\\utils\\deprecation.py:87: FutureWarning: Function get_feature_names is deprecated; get_feature_names is deprecated in 1.0 and will be removed in 1.2. Please use get_feature_names_out instead.\n",
      "  warnings.warn(msg, category=FutureWarning)\n",
      "C:\\Users\\HP\\anaconda3\\envs\\Pytorchgpu\\lib\\site-packages\\sklearn\\utils\\deprecation.py:87: FutureWarning: Function get_feature_names is deprecated; get_feature_names is deprecated in 1.0 and will be removed in 1.2. Please use get_feature_names_out instead.\n",
      "  warnings.warn(msg, category=FutureWarning)\n",
      "C:\\Users\\HP\\anaconda3\\envs\\Pytorchgpu\\lib\\site-packages\\sklearn\\utils\\deprecation.py:87: FutureWarning: Function get_feature_names is deprecated; get_feature_names is deprecated in 1.0 and will be removed in 1.2. Please use get_feature_names_out instead.\n",
      "  warnings.warn(msg, category=FutureWarning)\n"
     ]
    },
    {
     "name": "stdout",
     "output_type": "stream",
     "text": [
      "['accordingly', 'accordingly provided', 'acid', 'acid sequence', 'administering', 'administering subject', 'agonist', 'agonist cd137', 'agonist cd27', 'agonist cd28', 'agonist cd40', 'agonist gitr', 'agonist icos', 'agonist thereby', 'also', 'also provided', 'amino', 'amino acid', 'amount', 'amount pd1', 'amount peptide', 'analog', 'analog derivative', 'antagonist', 'antagonist ctla', 'antagonist ido', 'antagonist kir', 'antagonist lag', 'antagonist ox40', 'antagonist pdl', 'antagonist tim', 'antagonistic', 'antagonistic peptide', 'article', 'article manufacture', 'cancer', 'cancer provided', 'cancer subject', 'cd137', 'cd137 agonist', 'cd27', 'cd27 agonist', 'cd28', 'cd28 agonist', 'cd40', 'cd40 agonist', 'check', 'check point', 'composition', 'composition article', 'comprising', 'comprising administering', 'ctla', 'ctla antagonist', 'cxcr4', 'cxcr4 antagonistic', 'derivative', 'derivative thereof', 'effective', 'effective amount', 'forth', 'forth seq', 'gitr', 'gitr agonist', 'icos', 'icos agonist', 'id', 'id analog', 'ido', 'ido antagonist', 'immune', 'immune check', 'kir', 'kir antagonist', 'lag', 'lag antagonist', 'manufacture', 'method', 'method comprising', 'method treating', 'need', 'need thereof', 'ox40', 'ox40 agonist', 'pd1', 'pd1 antagonist', 'pdl', 'pdl antagonist', 'peptide', 'peptide amino', 'peptide immune', 'pharmaceutical', 'pharmaceutical composition', 'point', 'point regulator', 'provided', 'provided accordingly', 'provided method', 'provided pharmaceutical', 'regulator', 'regulator treatment', 'seq', 'seq id', 'sequence', 'sequence set', 'set', 'set forth', 'subject', 'subject also', 'subject need', 'subject therapeutically', 'therapeutically', 'therapeutically effective', 'thereby', 'thereby treating', 'thereof', 'thereof method', 'thereof therapeutically', 'tim', 'tim antagonist', 'treating', 'treating cancer', 'treatment', 'treatment cancer', 'use', 'use cxcr4']\n",
      "['affecting', 'affecting current', 'application', 'application applied', 'application interface', 'application relates', 'applied', 'applied processing', 'applied terminal', 'configured', 'configured implement', 'continuing', 'continuing displaying', 'current', 'current operation', 'discloses', 'discloses message', 'display', 'display screen', 'displaying', 'displaying prompt', 'displaying terminal', 'embodiments', 'embodiments application', 'field', 'field terminal', 'implement', 'implement quick', 'includes', 'includes displaying', 'including', 'including display', 'input', 'input terminating', 'input user', 'interface', 'interface display', 'interface receiving', 'interface responding', 'message', 'message application', 'message displaying', 'message embodiments', 'message processing', 'message viewing', 'method', 'method applied', 'method includes', 'method message', 'method terminal', 'operation', 'operation message', 'processing', 'processing message', 'processing method', 'processing viewing', 'prompt', 'prompt message', 'prompt processing', 'quick', 'quick message', 'receiving', 'receiving terminal', 'relates', 'relates field', 'responding', 'responding input', 'screen', 'screen method', 'screen receiving', 'terminal', 'terminal application', 'terminal configured', 'terminal discloses', 'terminal including', 'terminal input', 'terminal message', 'terminal prompt', 'terminating', 'terminating displaying', 'user', 'user continuing', 'viewing', 'viewing method', 'viewing without', 'without', 'without affecting']\n"
     ]
    },
    {
     "name": "stderr",
     "output_type": "stream",
     "text": [
      "C:\\Users\\HP\\anaconda3\\envs\\Pytorchgpu\\lib\\site-packages\\sklearn\\utils\\deprecation.py:87: FutureWarning: Function get_feature_names is deprecated; get_feature_names is deprecated in 1.0 and will be removed in 1.2. Please use get_feature_names_out instead.\n",
      "  warnings.warn(msg, category=FutureWarning)\n",
      "C:\\Users\\HP\\anaconda3\\envs\\Pytorchgpu\\lib\\site-packages\\sklearn\\utils\\deprecation.py:87: FutureWarning: Function get_feature_names is deprecated; get_feature_names is deprecated in 1.0 and will be removed in 1.2. Please use get_feature_names_out instead.\n",
      "  warnings.warn(msg, category=FutureWarning)\n",
      "C:\\Users\\HP\\anaconda3\\envs\\Pytorchgpu\\lib\\site-packages\\sklearn\\utils\\deprecation.py:87: FutureWarning: Function get_feature_names is deprecated; get_feature_names is deprecated in 1.0 and will be removed in 1.2. Please use get_feature_names_out instead.\n",
      "  warnings.warn(msg, category=FutureWarning)\n"
     ]
    },
    {
     "name": "stdout",
     "output_type": "stream",
     "text": [
      "['37', '37 degree', 'active', 'active pharmaceutical', 'also', 'also known', 'also relates', 'animal', 'animal comprising', 'animal treated', 'bovine', 'bovine gelatin', 'cavity', 'cavity animal', 'centigrade', 'centigrade invention', 'centigrade plus', 'composition', 'composition direct', 'composition invention', 'composition one', 'composition used', 'comprising', 'comprising bovine', 'comprising step', 'corresponding', 'corresponding method', 'degree', 'degree centigrade', 'deionized', 'deionized water', 'delivering', 'delivering active', 'direct', 'direct system', 'direct systemic', 'disintegration', 'disintegration time', 'dsi', 'dsi pharmaceutical', 'embodiment', 'embodiment invention', 'flavorant', 'flavorant active', 'gelatin', 'gelatin mannitol', 'human', 'human veterinary', 'ingredient', 'ingredient animal', 'ingredient corresponding', 'ingredient dsi', 'introduction', 'introduction also', 'introduction comprising', 'invention', 'invention also', 'invention disintegration', 'invention mucosal', 'invention relates', 'known', 'known dsi', 'le', 'le deionized', 'maintained', 'maintained 37', 'mannitol', 'mannitol optional', 'method', 'method delivering', 'method treatment', 'minus', 'minus degree', 'mucosal', 'mucosal cavity', 'one', 'one embodiment', 'optional', 'optional flavorant', 'optional surfactant', 'pharmaceutical', 'pharmaceutical composition', 'pharmaceutical ingredient', 'placing', 'placing dsi', 'plus', 'plus minus', 'relates', 'relates method', 'relates pharmaceutical', 'second', 'second le', 'step', 'step placing', 'surfactant', 'surfactant optional', 'system', 'system introduction', 'systemic', 'systemic introduction', 'time', 'time second', 'treated', 'treated active', 'treatment', 'used', 'used human', 'veterinary', 'veterinary pharmaceutical', 'water', 'water maintained']\n",
      "['adaptation', 'adaptation difficult', 'agent', 'agent fpga', 'app', 'app module', 'architecture', 'architecture platform', 'based', 'based sca', 'communications', 'communications architecture', 'component', 'component fpga', 'component link', 'configuring', 'configuring waveform', 'control', 'control cpu', 'cpu', 'cpu load', 'ddr', 'ddr flash', 'ddr_ctrl', 'ddr_ctrl moduleand', 'difficult', 'difficult reconstruction', 'discloses', 'discloses software', 'due', 'due general', 'dynamic', 'dynamic reconfiguration', 'effectively', 'effectively handled', 'fail', 'fail due', 'flash', 'flash waveform', 'flash_ctrl', 'flash_ctrl module', 'following', 'following program', 'fpga', 'fpga ddr', 'fpga dynamic', 'fpga includes', 'fpga load', 'fpga problem', 'fpga responsible', 'general', 'general fpga', 'hal_ld', 'hal_ld app', 'hal_ld pd', 'handled', 'includes', 'includes following', 'includes main', 'invention', 'invention discloses', 'io', 'io component', 'k7_cfg', 'k7_cfg module', 'liable', 'liable fail', 'link', 'link adaptation', 'load', 'load agent', 'main', 'main control', 'main_ctrl', 'main_ctrl module', 'module', 'module ddr_ctrl', 'module flash_ctrl', 'module hal_ld', 'module load', 'module main_ctrl', 'module srio_driver', 'moduleand', 'moduleand k7_cfg', 'pd', 'pd module', 'platform', 'platform based', 'platform includes', 'problem', 'problem io', 'program', 'program module', 'radio', 'radio platform', 'reconfiguration', 'reconfiguration effectively', 'reconstruction', 'reconstruction liable', 'responsible', 'responsible configuring', 'sca', 'sca software', 'software', 'software communications', 'software radio', 'srio_driver', 'srio_driver module', 'waveform', 'waveform component']\n"
     ]
    },
    {
     "name": "stderr",
     "output_type": "stream",
     "text": [
      "C:\\Users\\HP\\anaconda3\\envs\\Pytorchgpu\\lib\\site-packages\\sklearn\\utils\\deprecation.py:87: FutureWarning: Function get_feature_names is deprecated; get_feature_names is deprecated in 1.0 and will be removed in 1.2. Please use get_feature_names_out instead.\n",
      "  warnings.warn(msg, category=FutureWarning)\n",
      "C:\\Users\\HP\\anaconda3\\envs\\Pytorchgpu\\lib\\site-packages\\sklearn\\utils\\deprecation.py:87: FutureWarning: Function get_feature_names is deprecated; get_feature_names is deprecated in 1.0 and will be removed in 1.2. Please use get_feature_names_out instead.\n",
      "  warnings.warn(msg, category=FutureWarning)\n",
      "C:\\Users\\HP\\anaconda3\\envs\\Pytorchgpu\\lib\\site-packages\\sklearn\\utils\\deprecation.py:87: FutureWarning: Function get_feature_names is deprecated; get_feature_names is deprecated in 1.0 and will be removed in 1.2. Please use get_feature_names_out instead.\n",
      "  warnings.warn(msg, category=FutureWarning)\n"
     ]
    },
    {
     "name": "stdout",
     "output_type": "stream",
     "text": [
      "['adaptability', 'adaptability asphalt', 'adhesivity', 'adhesivity asphalt', 'adhesivity stone', 'adhesivity strength', 'advantage', 'advantage excellent', 'aging', 'aging resistance', 'amino', 'amino silicone', 'asphalt', 'asphalt advantage', 'asphalt amino', 'asphalt capable', 'asphalt comprises', 'asphalt material', 'asphalt mixture', 'asphalt pavement', 'asphalt preparation', 'asphalt stone', 'asphalt suitable', 'capable', 'capable improving', 'compatibilizer', 'compatibilizer stabilizer', 'comprises', 'comprises matrix', 'construction', 'cost', 'cost asphalt', 'damage', 'damage resistance', 'engineering', 'engineering particularly', 'excellent', 'excellent storage', 'field', 'field asphalt', 'high', 'high aging', 'improved', 'improved adaptability', 'improved service', 'improving', 'improving adhesivity', 'invention', 'invention relates', 'life', 'life pavement', 'like', 'like adhesivity', 'material', 'material road', 'matrix', 'matrix asphalt', 'method', 'method special', 'mixture', 'mixture improved', 'particularly', 'particularly relates', 'pavement', 'pavement cost', 'pavement material', 'pavement prolonged', 'pavement reduced', 'preparation', 'preparation method', 'prolonged', 'prolonged pavement', 'reduced', 'reduced special', 'relates', 'relates special', 'relates technical', 'remarkably', 'remarkably improved', 'resin', 'resin compatibilizer', 'resistance', 'resistance adhesivity', 'resistance asphalt', 'road', 'road construction', 'road engineering', 'selecting', 'selecting asphalt', 'service', 'service life', 'silicone', 'silicone resin', 'special', 'special asphalt', 'stability', 'stability high', 'stabilizer', 'stabilizer special', 'stone', 'stone asphalt', 'stone remarkably', 'stone water', 'storage', 'storage stability', 'strength', 'strength like', 'suitable', 'suitable selecting', 'technical', 'technical field', 'water', 'water damage']\n",
      "['axle', 'axle cover', 'axle disc', 'body', 'body plurality', 'body rotatably', 'brake', 'brake dust', 'circular', 'circular ring', 'coupled', 'coupled first', 'coupled second', 'cover', 'cover disc', 'cover disposed', 'cover includes', 'cut', 'cut second', 'direction', 'direction brake', 'disc', 'disc rotor', 'disposed', 'disposed non', 'dust', 'dust cover', 'edge', 'edge first', 'edge fixed', 'extending', 'extending radially', 'first', 'first plate', 'fixed', 'fixed non', 'fixed portion', 'formed', 'formed inner', 'includes', 'includes first', 'includes fixed', 'inner', 'inner edge', 'inner side', 'like', 'like member', 'member', 'member coupled', 'member includes', 'member outer', 'member overlap', 'member second', 'member shape', 'member viewed', 'non', 'non rotating', 'opening', 'opening portion', 'outer', 'outer edge', 'overlap', 'overlap support', 'part', 'part circular', 'plate', 'plate like', 'plurality', 'plurality support', 'portion', 'portion extending', 'portion first', 'portion fixed', 'portion formed', 'portion opening', 'portion second', 'radially', 'radially fixed', 'ring', 'ring cut', 'rotatably', 'rotatably supporting', 'rotating', 'rotating body', 'rotating together', 'rotor', 'rotor inner', 'rotor rotating', 'second', 'second plate', 'shape', 'shape part', 'side', 'side vehicle', 'support', 'support portion', 'supporting', 'supporting axle', 'together', 'together axle', 'vehicle', 'vehicle width', 'viewed', 'viewed vehicle', 'width', 'width direction']\n"
     ]
    },
    {
     "name": "stderr",
     "output_type": "stream",
     "text": [
      "C:\\Users\\HP\\anaconda3\\envs\\Pytorchgpu\\lib\\site-packages\\sklearn\\utils\\deprecation.py:87: FutureWarning: Function get_feature_names is deprecated; get_feature_names is deprecated in 1.0 and will be removed in 1.2. Please use get_feature_names_out instead.\n",
      "  warnings.warn(msg, category=FutureWarning)\n",
      "C:\\Users\\HP\\anaconda3\\envs\\Pytorchgpu\\lib\\site-packages\\sklearn\\utils\\deprecation.py:87: FutureWarning: Function get_feature_names is deprecated; get_feature_names is deprecated in 1.0 and will be removed in 1.2. Please use get_feature_names_out instead.\n",
      "  warnings.warn(msg, category=FutureWarning)\n",
      "C:\\Users\\HP\\anaconda3\\envs\\Pytorchgpu\\lib\\site-packages\\sklearn\\utils\\deprecation.py:87: FutureWarning: Function get_feature_names is deprecated; get_feature_names is deprecated in 1.0 and will be removed in 1.2. Please use get_feature_names_out instead.\n",
      "  warnings.warn(msg, category=FutureWarning)\n",
      "C:\\Users\\HP\\anaconda3\\envs\\Pytorchgpu\\lib\\site-packages\\sklearn\\utils\\deprecation.py:87: FutureWarning: Function get_feature_names is deprecated; get_feature_names is deprecated in 1.0 and will be removed in 1.2. Please use get_feature_names_out instead.\n",
      "  warnings.warn(msg, category=FutureWarning)\n",
      "C:\\Users\\HP\\anaconda3\\envs\\Pytorchgpu\\lib\\site-packages\\sklearn\\utils\\deprecation.py:87: FutureWarning: Function get_feature_names is deprecated; get_feature_names is deprecated in 1.0 and will be removed in 1.2. Please use get_feature_names_out instead.\n",
      "  warnings.warn(msg, category=FutureWarning)\n",
      "C:\\Users\\HP\\anaconda3\\envs\\Pytorchgpu\\lib\\site-packages\\sklearn\\utils\\deprecation.py:87: FutureWarning: Function get_feature_names is deprecated; get_feature_names is deprecated in 1.0 and will be removed in 1.2. Please use get_feature_names_out instead.\n",
      "  warnings.warn(msg, category=FutureWarning)\n"
     ]
    },
    {
     "name": "stdout",
     "output_type": "stream",
     "text": [
      "['also', 'also described', 'apparatus', 'apparatus including', 'apparatus system', 'article', 'article also', 'aspect', 'aspect provided', 'computer', 'computer program', 'described', 'detected', 'detected event', 'detecting', 'detecting first', 'determine', 'determine least', 'enable', 'enable second', 'event', 'event generating', 'event sending', 'first', 'first node', 'generating', 'generating first', 'importance', 'importance message', 'include', 'include detecting', 'including', 'including computer', 'least', 'least one', 'least second', 'may', 'may include', 'message', 'message least', 'message related', 'message response', 'method', 'method article', 'method may', 'method method', 'methods', 'methods apparatus', 'node', 'node determine', 'node enable', 'node event', 'node message', 'one', 'one aspect', 'one reliability', 'product', 'product provided', 'program', 'program product', 'provided', 'provided method', 'provided one', 'related', 'related apparatus', 'reliability', 'reliability importance', 'response', 'response detected', 'second', 'second node', 'sending', 'sending first', 'system', 'system method']\n",
      "['access', 'access laa', 'apparatus', 'apparatus user', 'assisted', 'assisted access', 'burst', 'burst transmitted', 'channel', 'channel enb', 'communication', 'communication unlicensed', 'computer', 'computer readable', 'construct', 'construct subframe', 'contain', 'contain discovery', 'contain primary', 'described', 'described license', 'determines', 'determines last', 'determines subframe', 'discovery', 'discovery reference', 'dl', 'dl transmission', 'downlink', 'downlink dl', 'drs', 'drs transmission', 'embodiment', 'embodiment enb', 'enb', 'enb computer', 'enb determines', 'equipment', 'equipment ue', 'evolved', 'evolved node', 'fixed', 'fixed symbol', 'laa', 'laa communication', 'last', 'last subframe', 'license', 'license assisted', 'medium', 'medium method', 'method', 'method described', 'node', 'node enb', 'partial', 'partial subframe', 'position', 'position within', 'primary', 'primary synchronization', 'pss', 'pss secondary', 'readable', 'readable medium', 'reference', 'reference signal', 'secondary', 'secondary synchronization', 'signal', 'signal drs', 'signal pss', 'signal sss', 'sss', 'sss fixed', 'subframe', 'subframe construct', 'subframe contain', 'subframe downlink', 'subframe embodiment', 'subframe partial', 'subframe subframe', 'subframe transmitted', 'symbol', 'symbol position', 'synchronization', 'synchronization signal', 'systems', 'systems apparatus', 'transmission', 'transmission burst', 'transmitted', 'transmitted partial', 'ue', 'ue evolved', 'unlicensed', 'unlicensed channel', 'user', 'user equipment', 'within', 'within subframe']\n"
     ]
    },
    {
     "name": "stderr",
     "output_type": "stream",
     "text": [
      "C:\\Users\\HP\\anaconda3\\envs\\Pytorchgpu\\lib\\site-packages\\sklearn\\utils\\deprecation.py:87: FutureWarning: Function get_feature_names is deprecated; get_feature_names is deprecated in 1.0 and will be removed in 1.2. Please use get_feature_names_out instead.\n",
      "  warnings.warn(msg, category=FutureWarning)\n",
      "C:\\Users\\HP\\anaconda3\\envs\\Pytorchgpu\\lib\\site-packages\\sklearn\\utils\\deprecation.py:87: FutureWarning: Function get_feature_names is deprecated; get_feature_names is deprecated in 1.0 and will be removed in 1.2. Please use get_feature_names_out instead.\n",
      "  warnings.warn(msg, category=FutureWarning)\n"
     ]
    },
    {
     "name": "stdout",
     "output_type": "stream",
     "text": [
      "['anti', 'anti displacement', 'arc', 'arc pipe', 'arc shaped', 'arcuate', 'arcuate tube', 'away', 'away axis', 'axis', 'axis first', 'barb', 'barb third', 'bile', 'bile drainage', 'bile internal', 'circular', 'circular arc', 'communicated', 'communicated turn', 'comprises', 'comprises circular', 'comprises head', 'comprises plurality', 'device', 'device gallbladder', 'diameter', 'diameter second', 'discloses', 'discloses gallbladder', 'displacement', 'displacement role', 'distributed', 'distributed axis', 'drainage', 'drainage hole', 'drainage tube', 'elastic', 'elastic tension', 'end', 'end first', 'end head', 'end inner', 'end open', 'end provided', 'equal', 'equal larger', 'first', 'first hole', 'first tube', 'gallbladder', 'gallbladder bile', 'gallbladder wall', 'generating', 'generating elastic', 'head', 'head end', 'hole', 'hole first', 'hole lumen', 'ii', 'ii provided', 'ii wherein', 'includes', 'includes plurality', 'inner', 'inner side', 'insertion', 'insertion device', 'integrally', 'integrally spherical', 'internal', 'internal drainage', 'invention', 'invention comprises', 'invention discloses', 'larger', 'larger first', 'low', 'low end', 'lower', 'lower end', 'lumen', 'lumen diameter', 'lumen upper', 'natural', 'natural release', 'open', 'open low', 'outer', 'outer wall', 'pigtail', 'pigtail pipe', 'pipe', 'pipe second', 'pipe section', 'play', 'play anti', 'plurality', 'plurality arc', 'plurality arcuate', 'present', 'present invention', 'protruding', 'protruding away', 'provided', 'provided barb', 'provided bile', 'provided first', 'release', 'release play', 'role', 'role generating', 'second', 'second pipe', 'second third', 'second tube', 'section', 'section circular', 'section communicated', 'section comprises', 'section equal', 'section ii', 'section includes', 'section protruding', 'section provided', 'section second', 'section single', 'sectionand', 'sectionand third', 'segment', 'segment comprises', 'segment present', 'shaped', 'shaped tube', 'side', 'side outer', 'single', 'single pigtail', 'spherical', 'spherical natural', 'tension', 'tension theperipheral', 'theperipheral', 'theperipheral gallbladder', 'third', 'third pipe', 'third tube', 'tube', 'tube comprises', 'tube insertion', 'tube section', 'tube sectionand', 'tube segment', 'tube wall', 'turn', 'turn lumen', 'uniformly', 'uniformly distributed', 'upper', 'upper end', 'wall', 'wall circular', 'wall first', 'wall integrally', 'wall uniformly', 'wall wherein', 'wherein', 'wherein arc', 'wherein lower']\n"
     ]
    },
    {
     "name": "stderr",
     "output_type": "stream",
     "text": [
      "C:\\Users\\HP\\anaconda3\\envs\\Pytorchgpu\\lib\\site-packages\\sklearn\\utils\\deprecation.py:87: FutureWarning: Function get_feature_names is deprecated; get_feature_names is deprecated in 1.0 and will be removed in 1.2. Please use get_feature_names_out instead.\n",
      "  warnings.warn(msg, category=FutureWarning)\n",
      "C:\\Users\\HP\\anaconda3\\envs\\Pytorchgpu\\lib\\site-packages\\sklearn\\utils\\deprecation.py:87: FutureWarning: Function get_feature_names is deprecated; get_feature_names is deprecated in 1.0 and will be removed in 1.2. Please use get_feature_names_out instead.\n",
      "  warnings.warn(msg, category=FutureWarning)\n",
      "C:\\Users\\HP\\anaconda3\\envs\\Pytorchgpu\\lib\\site-packages\\sklearn\\utils\\deprecation.py:87: FutureWarning: Function get_feature_names is deprecated; get_feature_names is deprecated in 1.0 and will be removed in 1.2. Please use get_feature_names_out instead.\n",
      "  warnings.warn(msg, category=FutureWarning)\n"
     ]
    },
    {
     "name": "stdout",
     "output_type": "stream",
     "text": [
      "['approximates', 'approximates geographic', 'area', 'area depicted', 'associated', 'associated static', 'based', 'based evaluation', 'corresponding', 'corresponding least', 'depicted', 'depicted static', 'determination', 'determination may', 'device', 'device replacing', 'directed', 'directed system', 'disclosure', 'disclosure directed', 'entities', 'entities intent', 'entity', 'entity intent', 'evaluated', 'evaluated based', 'evaluation', 'evaluation least', 'geo', 'geo entities', 'geo entity', 'geographic', 'geographic area', 'identification', 'identification threshold', 'identified', 'identified geo', 'identified static', 'image', 'image corresponding', 'image interactive', 'image may', 'image meet', 'image static', 'inspected', 'inspected determination', 'intent', 'intent may', 'interactive', 'interactive map', 'least', 'least one', 'made', 'made whether', 'map', 'map approximates', 'map identification', 'map image', 'may', 'may evaluated', 'may identified', 'may inspected', 'may made', 'may replaced', 'meet', 'meet map', 'method', 'method device', 'one', 'one geo', 'one identified', 'one signal', 'present', 'present disclosure', 'replaced', 'replaced static', 'replacing', 'replacing static', 'signal', 'signal associated', 'static', 'static image', 'static map', 'system', 'system method', 'threshold', 'threshold value', 'value', 'value least', 'whether', 'whether static']\n",
      "['access', 'access domain', 'according', 'according calling', 'ads', 'ads ims', 'ads support', 'answer', 'answer uda', 'apparatus', 'apparatus electronic', 'asubscriber', 'asubscriber data', 'busy', 'busy idle', 'call', 'call false', 'call idle', 'call scp', 'calling', 'calling false', 'calling identification', 'calling ps', 'calling subscriber', 'control', 'control point', 'corresponding', 'corresponding calling', 'data', 'data answer', 'data request', 'determined', 'determined calling', 'discloses', 'discloses false', 'domain', 'domain busy', 'domain determined', 'domain selection', 'electronic', 'electronic equipment', 'entity', 'entity mme', 'equipment', 'equipment storage', 'false', 'false calling', 'home', 'home subscriber', 'hss', 'hss asubscriber', 'hss received', 'identification', 'identification method', 'identifying', 'identifying false', 'identity', 'identity information', 'idle', 'idle determined', 'idle state', 'ims', 'ims corresponding', 'includes', 'includes information', 'includes step', 'including', 'including identity', 'information', 'information calling', 'information ip', 'information ofterminating', 'inquired', 'inquired mobility', 'invention', 'invention discloses', 'ip', 'ip multimedia', 'management', 'management entity', 'medium', 'medium false', 'message', 'message includes', 'message including', 'message sent', 'method', 'method apparatus', 'method includes', 'method used', 'mme', 'mme busy', 'mobility', 'mobility management', 'multimedia', 'multimedia subsystem', 'ofterminating', 'ofterminating access', 'packet', 'packet switching', 'point', 'point sends', 'ps', 'ps domain', 'received', 'received wherein', 'registered', 'registered ads', 'request', 'request udr', 'scp', 'scp service', 'selection', 'selection ads', 'sends', 'sends subscriber', 'sent', 'sent hss', 'server', 'server hss', 'service', 'service control', 'state', 'state calling', 'step', 'step according', 'storage', 'storage medium', 'subscribed', 'subscribed registered', 'subscriber', 'subscriber call', 'subscriber data', 'subscriber home', 'subscriber information', 'subscriber inquired', 'subscriber ps', 'subscriber server', 'subscriber subscribed', 'subsystem', 'subsystem ims', 'support', 'support packet', 'switching', 'switching ps', 'uda', 'uda message', 'udr', 'udr message', 'used', 'used identifying', 'wherein', 'wherein uda']\n"
     ]
    },
    {
     "name": "stderr",
     "output_type": "stream",
     "text": [
      "C:\\Users\\HP\\anaconda3\\envs\\Pytorchgpu\\lib\\site-packages\\sklearn\\utils\\deprecation.py:87: FutureWarning: Function get_feature_names is deprecated; get_feature_names is deprecated in 1.0 and will be removed in 1.2. Please use get_feature_names_out instead.\n",
      "  warnings.warn(msg, category=FutureWarning)\n",
      "C:\\Users\\HP\\anaconda3\\envs\\Pytorchgpu\\lib\\site-packages\\sklearn\\utils\\deprecation.py:87: FutureWarning: Function get_feature_names is deprecated; get_feature_names is deprecated in 1.0 and will be removed in 1.2. Please use get_feature_names_out instead.\n",
      "  warnings.warn(msg, category=FutureWarning)\n",
      "C:\\Users\\HP\\anaconda3\\envs\\Pytorchgpu\\lib\\site-packages\\sklearn\\utils\\deprecation.py:87: FutureWarning: Function get_feature_names is deprecated; get_feature_names is deprecated in 1.0 and will be removed in 1.2. Please use get_feature_names_out instead.\n",
      "  warnings.warn(msg, category=FutureWarning)\n",
      "C:\\Users\\HP\\anaconda3\\envs\\Pytorchgpu\\lib\\site-packages\\sklearn\\utils\\deprecation.py:87: FutureWarning: Function get_feature_names is deprecated; get_feature_names is deprecated in 1.0 and will be removed in 1.2. Please use get_feature_names_out instead.\n",
      "  warnings.warn(msg, category=FutureWarning)\n"
     ]
    },
    {
     "name": "stdout",
     "output_type": "stream",
     "text": [
      "['adapted', 'adapted mechanical', 'ambulance', 'ambulance baby', 'apart', 'apart connected', 'arm', 'arm attached', 'arm configured', 'arm contact', 'arm end', 'arm form', 'arm length', 'arm located', 'arm made', 'arm oriented', 'arm pair', 'arm rotatably', 'arm spaced', 'arm tangent', 'arm transverse', 'arms', 'arms pair', 'attached', 'attached central', 'attached thereto', 'axis', 'axis rotation', 'baby', 'baby carriage', 'back', 'back arm', 'based', 'based objective', 'carriage', 'carriage wheelchair', 'central', 'central portion', 'central zone', 'changing', 'changing direction', 'component', 'component vehicle', 'comprises', 'comprises quadrangular', 'comprises two', 'condition', 'condition function', 'configured', 'configured connected', 'connected', 'connected hub', 'connected least', 'connecting', 'connecting rod', 'contact', 'contact surface', 'conventional', 'conventional special', 'corresponding', 'corresponding arm', 'corresponding side', 'coupling', 'coupling arm', 'creation', 'creation condition', 'cylindrical', 'cylindrical adapted', 'direction', 'direction rotation', 'downwards', 'downwards contact', 'due', 'due lower', 'end', 'end longitudinal', 'end said', 'equal', 'equal width', 'extending', 'extending axis', 'follows', 'follows longitudinal', 'form', 'form parallelogram', 'frame', 'frame pair', 'frame rest', 'frame rubber', 'front', 'front back', 'function', 'function mechanism', 'hub', 'hub respective', 'hub two', 'identical', 'identical longitudinal', 'identical transverse', 'invention', 'invention based', 'invention comprises', 'invention relates', 'joint', 'joint wherein', 'least', 'least one', 'left', 'left right', 'length', 'length equal', 'level', 'level mechanical', 'located', 'located one', 'longitudinal', 'longitudinal arm', 'longitudinal left', 'lower', 'lower level', 'made', 'made pair', 'mechanical', 'mechanical coupling', 'mechanical stress', 'mechanism', 'mechanism changing', 'mechanism result', 'metal', 'metal joint', 'objective', 'objective provide', 'one', 'one connecting', 'one side', 'oriented', 'oriented downwards', 'oriented follows', 'oriented upwards', 'pair', 'pair arm', 'pair arms', 'pair identical', 'parallelogram', 'parallelogram invention', 'particularly', 'particularly suspension', 'performed', 'performed transverse', 'plane', 'plane extending', 'portion', 'portion corresponding', 'present', 'present invention', 'provide', 'provide suspension', 'quadrangular', 'quadrangular frame', 'relates', 'relates structural', 'reliable', 'reliable due', 'respective', 'respective wheel', 'rest', 'rest upon', 'result', 'result creation', 'right', 'right arm', 'rod', 'rod spaced', 'rotatably', 'rotatably attached', 'rotation', 'rotation arm', 'rotation performed', 'rubber', 'rubber metal', 'said', 'said arm', 'side', 'side quadrangular', 'side side', 'spaced', 'spaced apart', 'spaced arm', 'special', 'special vehicle', 'stress', 'stress suspension', 'structural', 'structural component', 'surface', 'surface arm', 'surface cylindrical', 'surface oriented', 'suspension', 'suspension comprises', 'suspension conventional', 'suspension mechanism', 'suspension present', 'suspension reliable', 'tangent', 'tangent plane', 'thereto', 'thereto end', 'transverse', 'transverse arm', 'transverse front', 'transverse longitudinal', 'two', 'two pair', 'two wheel', 'upon', 'upon hub', 'upwards', 'upwards transverse', 'vehicle', 'vehicle ambulance', 'vehicle particularly', 'wheel', 'wheel corresponding', 'wheel suspension', 'wheel wherein', 'wheelchair', 'wheelchair suspension', 'wherein', 'wherein arm', 'width', 'width suspension', 'zone', 'zone central']\n"
     ]
    },
    {
     "name": "stderr",
     "output_type": "stream",
     "text": [
      "C:\\Users\\HP\\anaconda3\\envs\\Pytorchgpu\\lib\\site-packages\\sklearn\\utils\\deprecation.py:87: FutureWarning: Function get_feature_names is deprecated; get_feature_names is deprecated in 1.0 and will be removed in 1.2. Please use get_feature_names_out instead.\n",
      "  warnings.warn(msg, category=FutureWarning)\n",
      "C:\\Users\\HP\\anaconda3\\envs\\Pytorchgpu\\lib\\site-packages\\sklearn\\utils\\deprecation.py:87: FutureWarning: Function get_feature_names is deprecated; get_feature_names is deprecated in 1.0 and will be removed in 1.2. Please use get_feature_names_out instead.\n",
      "  warnings.warn(msg, category=FutureWarning)\n",
      "C:\\Users\\HP\\anaconda3\\envs\\Pytorchgpu\\lib\\site-packages\\sklearn\\utils\\deprecation.py:87: FutureWarning: Function get_feature_names is deprecated; get_feature_names is deprecated in 1.0 and will be removed in 1.2. Please use get_feature_names_out instead.\n",
      "  warnings.warn(msg, category=FutureWarning)\n"
     ]
    },
    {
     "name": "stdout",
     "output_type": "stream",
     "text": [
      "['1101', '1101 grinding', '1101 pressure', '1101 relative', '1101 rotation', '1201', '1201 polished', '1201 polishing', '1201 rotation', 'apparatus', 'apparatus polishing', 'apparatus realize', 'article', 'article 1201', 'automatic', 'automatic continuous', 'bottle', 'bottle particularly', 'bottle profiled', 'bringing', 'bringing rotating', 'centrifugally', 'centrifugally outspread', 'comprises', 'comprises bringing', 'contact', 'contact surface', 'contact various', 'continuous', 'continuous grinding', 'contour', 'contour extent', 'controlling', 'controlling feed', 'corresponding', 'corresponding polishing', 'cost', 'cost corresponding', 'disclosed', 'disclosed process', 'edge', 'edge flap', 'extent', 'extent look', 'feed', 'feed flexible', 'flap', 'flap flexible', 'flap grinding', 'flap rotating', 'flexible', 'flexible flap', 'glass', 'glass article', 'glass bottle', 'grinding', 'grinding polishing', 'grinding wheel', 'like', 'like new', 'look', 'look like', 'lower', 'lower cost', 'new', 'new lower', 'outer', 'outer edge', 'outspread', 'outspread flexible', 'parallel', 'parallel article', 'particularly', 'particularly glass', 'pneumatically', 'pneumatically controlling', 'polished', 'polished article', 'polished contact', 'polished outer', 'polished polishing', 'polishing', 'polishing apparatus', 'polishing glass', 'polishing polishing', 'polishing process', 'polishing worn', 'pressure', 'pressure contact', 'process', 'process apparatus', 'process comprises', 'process restore', 'profiled', 'profiled contour', 'realize', 'realize automatic', 'relative', 'relative surface', 'restore', 'restore worn', 'rotating', 'rotating article', 'rotating flexible', 'rotation', 'rotation shaft', 'shaft', 'shaft parallel', 'shaft pneumatically', 'surface', 'surface article', 'surface polished', 'various', 'various centrifugally', 'wheel', 'wheel 1101', 'worn', 'worn glass']\n",
      "['accessory', 'accessory cleaning', 'anddried', 'anddried use', 'beneficial', 'beneficial effect', 'centrifugal', 'centrifugal force', 'clamped', 'clamped transported', 'clamping', 'clamping mechanism', 'cleaned', 'cleaned completion', 'cleaned part', 'cleaning', 'cleaning device', 'cleaning fluid', 'cleaning liquid', 'cleaning mechanism', 'cleaning spin', 'cleaning tank', 'cleaning unit', 'completion', 'completion cleaning', 'completion spin', 'comprises', 'comprises mounting', 'comprises movable', 'convenient', 'device', 'device beneficial', 'device comprises', 'discloses', 'discloses multifunctional', 'drying', 'drying centrifugal', 'drying mechanism', 'drying part', 'effect', 'effect cleaned', 'fluid', 'fluid cleaning', 'force', 'force cleaning', 'force completion', 'forward', 'forward reversely', 'generate', 'generate centrifugal', 'high', 'high speed', 'impurity', 'impurity part', 'invention', 'invention discloses', 'liquid', 'liquid high', 'located', 'located one', 'mechanism', 'mechanism cleaning', 'mechanism mounted', 'mechanism movable', 'mechanism rotary', 'mechanism rotated', 'mode', 'mode generate', 'mounted', 'mounted mounting', 'mounted position', 'mounting', 'mounting table', 'movable', 'movable clamping', 'movable cleaning', 'multifunctional', 'multifunctional water', 'one', 'one side', 'part', 'part clamped', 'part cleaned', 'part placed', 'placed', 'placed anddried', 'position', 'position located', 'pump', 'pump accessory', 'reciprocating', 'reciprocating mode', 'reversely', 'reversely reciprocating', 'reversely spin', 'rotary', 'rotary cleaning', 'rotated', 'rotated forward', 'rub', 'rub cleaning', 'side', 'side movable', 'speed', 'speed impurity', 'spin', 'spin drying', 'table', 'table movable', 'table spin', 'tank', 'tank rub', 'transported', 'transported movable', 'unit', 'unit comprises', 'unit mounted', 'unit mounting', 'unit rotary', 'use', 'use convenient', 'water', 'water pump']\n"
     ]
    },
    {
     "name": "stderr",
     "output_type": "stream",
     "text": [
      "C:\\Users\\HP\\anaconda3\\envs\\Pytorchgpu\\lib\\site-packages\\sklearn\\utils\\deprecation.py:87: FutureWarning: Function get_feature_names is deprecated; get_feature_names is deprecated in 1.0 and will be removed in 1.2. Please use get_feature_names_out instead.\n",
      "  warnings.warn(msg, category=FutureWarning)\n",
      "C:\\Users\\HP\\anaconda3\\envs\\Pytorchgpu\\lib\\site-packages\\sklearn\\utils\\deprecation.py:87: FutureWarning: Function get_feature_names is deprecated; get_feature_names is deprecated in 1.0 and will be removed in 1.2. Please use get_feature_names_out instead.\n",
      "  warnings.warn(msg, category=FutureWarning)\n",
      "C:\\Users\\HP\\anaconda3\\envs\\Pytorchgpu\\lib\\site-packages\\sklearn\\utils\\deprecation.py:87: FutureWarning: Function get_feature_names is deprecated; get_feature_names is deprecated in 1.0 and will be removed in 1.2. Please use get_feature_names_out instead.\n",
      "  warnings.warn(msg, category=FutureWarning)\n"
     ]
    },
    {
     "name": "stdout",
     "output_type": "stream",
     "text": [
      "['access', 'access method', 'access path', 'access request', 'access storage', 'addition', 'addition universality', 'additional', 'additional security', 'advance', 'advance access', 'allocated', 'allocated data', 'allocated requester', 'application', 'application improve', 'application provides', 'based', 'based access', 'carrying', 'carrying certificate', 'case', 'case data', 'center', 'center access', 'center possibility', 'center receives', 'center requester', 'center shared', 'certificate', 'certificate additional', 'certificate includes', 'certificate requester', 'configuration', 'configuration required', 'credibility', 'credibility security', 'data', 'data center', 'data stolen', 'high', 'high credibility', 'improve', 'improve security', 'includes', 'includes access', 'information', 'information high', 'information storage', 'logic', 'logic configuration', 'long', 'long storage', 'method', 'method data', 'multiple', 'multiple application', 'path', 'path information', 'path storage', 'possibility', 'possibility data', 'pre', 'pre allocated', 'prevented', 'prevented sendingan', 'provides', 'provides access', 'receives', 'receives access', 'reduced', 'reduced case', 'request', 'request carrying', 'request storage', 'requester', 'requester advance', 'requester certificate', 'requester data', 'requester prevented', 'requester requester', 'required', 'required requester', 'security', 'security addition', 'security logic', 'security thecertificate', 'sendingan', 'sendingan access', 'shared', 'shared multiple', 'space', 'space allocated', 'space based', 'space pre', 'space written', 'stolen', 'stolen reduced', 'storage', 'storage space', 'thecertificate', 'thecertificate long', 'universality', 'universality use', 'use', 'use certificate', 'written', 'written certificate']\n",
      "['acridinyl', 'acridinyl phenothiazinyl', 'alkyl', 'alkyl group', 'alkyl substituted', 'application', 'application thereof', 'aromatic', 'aromatic diphenylamine', 'based', 'based bipolar', 'better', 'better satisfies', 'bipolar', 'bipolar host', 'c1', 'c1 c4', 'c4', 'c4 alkyl', 'carbazole', 'carbazole indenocarbazole', 'cbp', 'cbp present', 'common', 'common host', 'compound', 'compound present', 'compound structure', 'derivative', 'derivative experiments', 'derivative hydrogen', 'dibenzofuran', 'dibenzofuran based', 'diode', 'diode host', 'diphenyl', 'diphenyl sulphone', 'diphenylamine', 'diphenylamine aromatic', 'diphenylamine derivative', 'emitting', 'emitting diode', 'experiments', 'experiments show', 'formula', 'formula wherein', 'glass', 'glass transition', 'group', 'group least', 'halogen', 'halogen c1', 'higher', 'higher glass', 'host', 'host material', 'hydrogen', 'hydrogen halogen', 'increase', 'increase host', 'indenocarbazole', 'indenocarbazole diphenylamine', 'invention', 'invention higher', 'invention relates', 'invention significantly', 'least', 'least one', 'light', 'light emitting', 'material', 'material application', 'material cbp', 'material compound', 'material requirement', 'material thermal', 'one', 'one r1', 'organic', 'organic light', 'phenothiazinyl', 'phenothiazinyl phenoxazinyl', 'phenoxazinyl', 'phenoxazinyl carbazole', 'present', 'present invention', 'r1', 'r1 r6', 'r6', 'r6 represent', 'r6 substituted', 'relates', 'relates diphenyl', 'represent', 'represent alkyl', 'requirement', 'satisfies', 'satisfies organic', 'show', 'show compound', 'shown', 'shown formula', 'significantly', 'significantly increase', 'stability', 'stability better', 'structure', 'structure shown', 'substituted', 'substituted unsubstituted', 'sulphone', 'sulphone dibenzofuran', 'temperature', 'temperature common', 'thereof', 'thereof bipolar', 'thermal', 'thermal stability', 'transition', 'transition temperature', 'unsubstituted', 'unsubstituted acridinyl', 'wherein', 'wherein r1']\n"
     ]
    },
    {
     "name": "stderr",
     "output_type": "stream",
     "text": [
      "C:\\Users\\HP\\anaconda3\\envs\\Pytorchgpu\\lib\\site-packages\\sklearn\\utils\\deprecation.py:87: FutureWarning: Function get_feature_names is deprecated; get_feature_names is deprecated in 1.0 and will be removed in 1.2. Please use get_feature_names_out instead.\n",
      "  warnings.warn(msg, category=FutureWarning)\n",
      "C:\\Users\\HP\\anaconda3\\envs\\Pytorchgpu\\lib\\site-packages\\sklearn\\utils\\deprecation.py:87: FutureWarning: Function get_feature_names is deprecated; get_feature_names is deprecated in 1.0 and will be removed in 1.2. Please use get_feature_names_out instead.\n",
      "  warnings.warn(msg, category=FutureWarning)\n",
      "C:\\Users\\HP\\anaconda3\\envs\\Pytorchgpu\\lib\\site-packages\\sklearn\\utils\\deprecation.py:87: FutureWarning: Function get_feature_names is deprecated; get_feature_names is deprecated in 1.0 and will be removed in 1.2. Please use get_feature_names_out instead.\n",
      "  warnings.warn(msg, category=FutureWarning)\n"
     ]
    },
    {
     "name": "stdout",
     "output_type": "stream",
     "text": [
      "['according', 'according hash', 'according invention', 'actively', 'actively collect', 'addition', 'addition excitation', 'address', 'address corresponding', 'address executing', 'address obtaining', 'based', 'based block', 'based intelligent', 'block', 'block chain', 'bonus', 'bonus data', 'carrying', 'carrying data', 'chain', 'chain block', 'chain intelligent', 'chain sharing', 'chain utilized', 'collect', 'collect data', 'comprises', 'comprises data', 'consumer', 'consumer corresponding', 'contract', 'contract module', 'corresponding', 'corresponding data', 'corresponding hash', 'data', 'data addition', 'data carrying', 'data consumer', 'data data', 'data distributed', 'data fragment', 'data fragmentation', 'data management', 'data obtaining', 'data piece', 'data quality', 'data sending', 'data stored', 'data transaction', 'discloses', 'discloses internet', 'distributed', 'distributed manner', 'distributed stored', 'ensuring', 'ensuring fairness', 'environment', 'environment system', 'excitation', 'excitation bonus', 'excitation mechanism', 'excitedto', 'excitedto actively', 'executing', 'executing transaction', 'fairness', 'fairness data', 'fragment', 'fragment block', 'fragment regional', 'fragment storing', 'fragmentation', 'fragmentation obtaining', 'fully', 'fully utilizing', 'hash', 'hash address', 'hashaddress', 'hashaddress stored', 'improved', 'intelligent', 'intelligent contract', 'internet', 'internet things', 'introduced', 'introduced user', 'invention', 'invention discloses', 'invention internet', 'management', 'management system', 'manner', 'manner data', 'mechanism', 'mechanism introduced', 'module', 'module thereby', 'module used', 'obtaining', 'obtaining corresponding', 'obtaining data', 'obtaining internet', 'obtaining storage', 'overall', 'overall planning', 'perform', 'perform overall', 'performed', 'performed based', 'piece', 'piece according', 'planning', 'planning data', 'quality', 'quality improved', 'receiving', 'receiving data', 'regional', 'regional server', 'request', 'request sent', 'sending', 'sending excitation', 'sent', 'sent data', 'server', 'server hashaddress', 'server storing', 'sharing', 'sharing environment', 'storage', 'storage module', 'stored', 'stored block', 'stored distributed', 'stored regional', 'storing', 'storing data', 'storing hash', 'system', 'system based', 'system comprises', 'thereby', 'thereby ensuring', 'things', 'things data', 'transaction', 'transaction according', 'transaction fully', 'transaction performed', 'transaction request', 'used', 'used obtaining', 'used receiving', 'user', 'user excitedto', 'utilized', 'utilized perform', 'utilizing', 'utilizing data']\n"
     ]
    },
    {
     "name": "stderr",
     "output_type": "stream",
     "text": [
      "C:\\Users\\HP\\anaconda3\\envs\\Pytorchgpu\\lib\\site-packages\\sklearn\\utils\\deprecation.py:87: FutureWarning: Function get_feature_names is deprecated; get_feature_names is deprecated in 1.0 and will be removed in 1.2. Please use get_feature_names_out instead.\n",
      "  warnings.warn(msg, category=FutureWarning)\n",
      "C:\\Users\\HP\\anaconda3\\envs\\Pytorchgpu\\lib\\site-packages\\sklearn\\utils\\deprecation.py:87: FutureWarning: Function get_feature_names is deprecated; get_feature_names is deprecated in 1.0 and will be removed in 1.2. Please use get_feature_names_out instead.\n",
      "  warnings.warn(msg, category=FutureWarning)\n"
     ]
    },
    {
     "name": "stdout",
     "output_type": "stream",
     "text": [
      "['341st', '341st site', 'acid', 'acid residue', 'adolescentis', 'adolescentis specificity', 'advantage', 'advantage primer', 'aim', 'aim provide', 'amino', 'amino acid', 'application', 'application thereof', 'application value', 'basp', 'basp l341w', 'bifidobacterium', 'bifidobacterium adolescentis', 'byproduct', 'byproduct glycerol', 'derived', 'derived bifidobacterium', 'field', 'field production', 'glucoside', 'glucoside lowered', 'glucoside produced', 'glucoside sucrose', 'glycerin', 'glycerin raw', 'glycerol', 'glycerol glucoside', 'important', 'important application', 'invention', 'invention aim', 'l341w', 'l341w protein', 'leucine', 'leucine sucrose', 'lowered', 'lowered sucrose', 'material', 'material yield', 'mutant', 'mutant advantage', 'mutant application', 'mutant important', 'mutant protein', 'mutant sucrose', 'mutation', 'mutation 341st', 'obtained', 'obtained replacing', 'obtained replacingthe', 'ofthe', 'ofthe wild', 'phosphorylase', 'phosphorylase amino', 'phosphorylase derived', 'phosphorylase mutant', 'phosphorylase tryptophan', 'point', 'point mutation', 'primer', 'primer point', 'produced', 'produced using', 'production', 'production glycerol', 'protein', 'protein basp', 'protein obtained', 'provide', 'provide sucrose', 'raw', 'raw material', 'replacing', 'replacing 341st', 'replacingthe', 'replacingthe 341st', 'residue', 'residue leucine', 'residue ofthe', 'residue protein', 'site', 'site amino', 'specificity', 'specificity glycerol', 'sucrose', 'sucrose glycerin', 'sucrose phosphorylase', 'thereof', 'thereof production', 'tryptophan', 'tryptophan sucrose', 'using', 'using sucrose', 'value', 'value field', 'wild', 'wild sucrose', 'yield', 'yield byproduct']\n"
     ]
    },
    {
     "name": "stderr",
     "output_type": "stream",
     "text": [
      "C:\\Users\\HP\\anaconda3\\envs\\Pytorchgpu\\lib\\site-packages\\sklearn\\utils\\deprecation.py:87: FutureWarning: Function get_feature_names is deprecated; get_feature_names is deprecated in 1.0 and will be removed in 1.2. Please use get_feature_names_out instead.\n",
      "  warnings.warn(msg, category=FutureWarning)\n",
      "C:\\Users\\HP\\anaconda3\\envs\\Pytorchgpu\\lib\\site-packages\\sklearn\\utils\\deprecation.py:87: FutureWarning: Function get_feature_names is deprecated; get_feature_names is deprecated in 1.0 and will be removed in 1.2. Please use get_feature_names_out instead.\n",
      "  warnings.warn(msg, category=FutureWarning)\n"
     ]
    },
    {
     "name": "stdout",
     "output_type": "stream",
     "text": [
      "['10', '10 part', '20', '20 50', '50', '50 80', '50 part', '80', '80 part', 'according', 'according uv', 'achieve', 'achieve post', 'acrylate', 'acrylate resin', 'adhesion', 'adhesion effect', 'adhesive', 'adhesive comprises', 'adhesive high', 'adhesive isocyanate', 'adhesive preparation', 'adhesive pressure', 'adhesive processing', 'adhesive strength', 'adhesive used', 'agent', 'agent part', 'air', 'air cross', 'alcohol', 'alcohol 20', 'capable', 'capable moisture', 'characteristic', 'characteristic fast', 'comprises', 'comprises following', 'continue', 'continue react', 'coupling', 'coupling agent', 'cross', 'cross linking', 'cured', 'cured continue', 'cured polyurethane', 'cured pressure', 'cured roomtemperature', 'curing', 'curing achieve', 'curing moisture', 'dihydric', 'dihydric alcohol', 'diluted', 'diluted monomer', 'discloses', 'discloses uv', 'effect', 'effect isgreatly', 'environmentally', 'environmentally friendly', 'even', 'even low', 'fast', 'fast uv', 'field', 'field adhesive', 'finished', 'finished adhesion', 'following', 'following raw', 'friendly', 'friendly high', 'green', 'green environmentally', 'group', 'group capable', 'high', 'high adhesive', 'high performance', 'improved', 'improved adhesive', 'improved pressure', 'invention', 'invention relates', 'isgreatly', 'isgreatly improved', 'isocyanate', 'isocyanate group', 'linking', 'linking photocuring', 'low', 'low temperature', 'material', 'material part', 'method', 'method pressure', 'modified', 'modified acrylate', 'moisture', 'moisture adhesive', 'moisture cured', 'monomer', 'monomer 10', 'nco', 'nco terminated', 'part', 'part diluted', 'part nco', 'part photoinitiator', 'part silane', 'part tackifying', 'part uv', 'part weight', 'performance', 'performance green', 'photocuring', 'photocuring finished', 'photoinitiator', 'photoinitiator according', 'polymer', 'polymer dihydric', 'polyurethane', 'polyurethane modified', 'popularization', 'popularization use', 'post', 'post curing', 'preparation', 'preparation method', 'pressure', 'pressure sensitive', 'processing', 'processing discloses', 'raw', 'raw material', 'react', 'react water', 'relates', 'relates technical', 'resin', 'resin 20', 'resin part', 'room', 'room temperature', 'roomtemperature', 'sensitive', 'sensitive adhesive', 'silane', 'silane coupling', 'strength', 'strength improved', 'strength suitable', 'suitable', 'suitable popularization', 'tackifying', 'tackifying resin', 'technical', 'technical field', 'temperature', 'temperature characteristic', 'temperature even', 'terminated', 'terminated polymer', 'ultraviolet', 'ultraviolet moisture', 'use', 'use cured', 'used', 'used room', 'uv', 'uv curing', 'uv moisture', 'uv ultraviolet', 'water', 'water air', 'weight', 'weight 50']\n",
      "['also', 'also performs', 'analysis', 'analysis combination', 'analysis system', 'blinking', 'blinking state', 'combination', 'combination data', 'comparison', 'comparison combination', 'comprehensive', 'comprehensive analysis', 'comprises', 'comprises picture', 'data', 'data eachtime', 'data eyelid', 'data reference', 'discloses', 'discloses emotion', 'eachtime', 'eachtime obtain', 'emotion', 'emotion analysis', 'emotion data', 'emotion recognition', 'eye', 'eye movement', 'eye tracker', 'eyelid', 'eyelid blinking', 'integrated', 'integrated eye', 'invention', 'invention discloses', 'method', 'method eye', 'monitoring', 'monitoring system', 'movement', 'movement monitoring', 'movement state', 'obtain', 'obtain weighted', 'performs', 'performs comparison', 'performs comprehensive', 'picture', 'picture playing', 'playing', 'playing system', 'recognition', 'recognition system', 'reference', 'reference integrated', 'state', 'state also', 'state performs', 'system', 'system comprises', 'system emotion', 'system eye', 'system method', 'system track', 'track', 'track eye', 'tracker', 'tracker system', 'weighted', 'weighted emotion']\n"
     ]
    },
    {
     "name": "stderr",
     "output_type": "stream",
     "text": [
      "C:\\Users\\HP\\anaconda3\\envs\\Pytorchgpu\\lib\\site-packages\\sklearn\\utils\\deprecation.py:87: FutureWarning: Function get_feature_names is deprecated; get_feature_names is deprecated in 1.0 and will be removed in 1.2. Please use get_feature_names_out instead.\n",
      "  warnings.warn(msg, category=FutureWarning)\n",
      "C:\\Users\\HP\\anaconda3\\envs\\Pytorchgpu\\lib\\site-packages\\sklearn\\utils\\deprecation.py:87: FutureWarning: Function get_feature_names is deprecated; get_feature_names is deprecated in 1.0 and will be removed in 1.2. Please use get_feature_names_out instead.\n",
      "  warnings.warn(msg, category=FutureWarning)\n",
      "C:\\Users\\HP\\anaconda3\\envs\\Pytorchgpu\\lib\\site-packages\\sklearn\\utils\\deprecation.py:87: FutureWarning: Function get_feature_names is deprecated; get_feature_names is deprecated in 1.0 and will be removed in 1.2. Please use get_feature_names_out instead.\n",
      "  warnings.warn(msg, category=FutureWarning)\n",
      "C:\\Users\\HP\\anaconda3\\envs\\Pytorchgpu\\lib\\site-packages\\sklearn\\utils\\deprecation.py:87: FutureWarning: Function get_feature_names is deprecated; get_feature_names is deprecated in 1.0 and will be removed in 1.2. Please use get_feature_names_out instead.\n",
      "  warnings.warn(msg, category=FutureWarning)\n"
     ]
    },
    {
     "name": "stdout",
     "output_type": "stream",
     "text": [
      "['acquiring', 'acquiring first', 'acquiring second', 'attribute', 'attribute information', 'based', 'based first', 'based second', 'capable', 'capable replacing', 'comprises', 'comprises acquiring', 'connected', 'connected electronic', 'device', 'device acquiring', 'device based', 'device capable', 'device device', 'device electrically', 'discloses', 'discloses electronic', 'discloses information', 'driving', 'driving program', 'electrically', 'electrically connected', 'electronic', 'electronic device', 'electronicdevice', 'electronicdevice based', 'embodiment', 'embodiment invention', 'first', 'first attribute', 'first hardware', 'hardware', 'hardware device', 'information', 'information first', 'information obtaining', 'information processing', 'information second', 'information target', 'information wherein', 'invention', 'invention discloses', 'method', 'method comprises', 'method method', 'obtaining', 'obtaining target', 'processing', 'processing method', 'program', 'program embodiment', 'program updating', 'registry', 'registry electronicdevice', 'replacing', 'replacing first', 'second', 'second attribute', 'second hardware', 'secondhardware', 'secondhardware device', 'target', 'target driving', 'updating', 'updating registry', 'wherein', 'wherein secondhardware']\n",
      "['addition', 'addition sheet', 'alcohol', 'alcohol polymer', 'auxiliary', 'auxiliary surfactant', 'cleaning', 'cleaning performance', 'completely', 'completely dissolve', 'confirmed', 'confirmed storing', 'copolymer', 'copolymer specific', 'dissolve', 'dissolve water', 'good', 'good cleaning', 'inconvenience', 'inconvenience user', 'invention', 'invention prepared', 'invention provides', 'ionic', 'ionic surfactant', 'la7', 'la7 la9', 'la9', 'main', 'main surfactant', 'need', 'need removed', 'non', 'non ionic', 'optionally', 'optionally auxiliary', 'performance', 'performance simple', 'polymer', 'polymer copolymer', 'polyvinyl', 'polyvinyl alcohol', 'preferably', 'preferably la7', 'preferably non', 'prepared', 'prepared using', 'present', 'present invention', 'provides', 'provides sheet', 'removed', 'removed washing', 'sheet', 'sheet washing', 'simple', 'simple use', 'specific', 'specific main', 'stability', 'stability inconvenience', 'storing', 'storing stability', 'surfactant', 'surfactant optionally', 'surfactant preferably', 'use', 'use confirmed', 'use sheet', 'user', 'user use', 'using', 'using polyvinyl', 'washing', 'washing addition', 'washing completely', 'washing good', 'washing present', 'water', 'water need']\n"
     ]
    },
    {
     "name": "stderr",
     "output_type": "stream",
     "text": [
      "C:\\Users\\HP\\anaconda3\\envs\\Pytorchgpu\\lib\\site-packages\\sklearn\\utils\\deprecation.py:87: FutureWarning: Function get_feature_names is deprecated; get_feature_names is deprecated in 1.0 and will be removed in 1.2. Please use get_feature_names_out instead.\n",
      "  warnings.warn(msg, category=FutureWarning)\n",
      "C:\\Users\\HP\\anaconda3\\envs\\Pytorchgpu\\lib\\site-packages\\sklearn\\utils\\deprecation.py:87: FutureWarning: Function get_feature_names is deprecated; get_feature_names is deprecated in 1.0 and will be removed in 1.2. Please use get_feature_names_out instead.\n",
      "  warnings.warn(msg, category=FutureWarning)\n",
      "C:\\Users\\HP\\anaconda3\\envs\\Pytorchgpu\\lib\\site-packages\\sklearn\\utils\\deprecation.py:87: FutureWarning: Function get_feature_names is deprecated; get_feature_names is deprecated in 1.0 and will be removed in 1.2. Please use get_feature_names_out instead.\n",
      "  warnings.warn(msg, category=FutureWarning)\n",
      "C:\\Users\\HP\\anaconda3\\envs\\Pytorchgpu\\lib\\site-packages\\sklearn\\utils\\deprecation.py:87: FutureWarning: Function get_feature_names is deprecated; get_feature_names is deprecated in 1.0 and will be removed in 1.2. Please use get_feature_names_out instead.\n",
      "  warnings.warn(msg, category=FutureWarning)\n",
      "C:\\Users\\HP\\anaconda3\\envs\\Pytorchgpu\\lib\\site-packages\\sklearn\\utils\\deprecation.py:87: FutureWarning: Function get_feature_names is deprecated; get_feature_names is deprecated in 1.0 and will be removed in 1.2. Please use get_feature_names_out instead.\n",
      "  warnings.warn(msg, category=FutureWarning)\n",
      "C:\\Users\\HP\\anaconda3\\envs\\Pytorchgpu\\lib\\site-packages\\sklearn\\utils\\deprecation.py:87: FutureWarning: Function get_feature_names is deprecated; get_feature_names is deprecated in 1.0 and will be removed in 1.2. Please use get_feature_names_out instead.\n",
      "  warnings.warn(msg, category=FutureWarning)\n"
     ]
    },
    {
     "name": "stdout",
     "output_type": "stream",
     "text": [
      "['absolute', 'absolute value', 'acceleration', 'acceleration needed', 'according', 'according vehicle', 'angle', 'angle vehicle', 'body', 'body rotating', 'calculating', 'calculating load', 'calculating rotating', 'complex', 'complex matrix', 'complex sensor', 'comprises', 'comprises following', 'control', 'control method', 'control system', 'cost', 'cost installing', 'critical', 'critical value', 'current', 'current absolute', 'current difference', 'current extreme', 'current first', 'current greater', 'current second', 'detecting', 'detecting first', 'difference', 'difference critical', 'difference first', 'difference greater', 'discloses', 'discloses vehicle', 'driving', 'driving motor', 'extreme', 'extreme value', 'first', 'first driving', 'first load', 'first rotating', 'first wheel', 'following', 'following step', 'greater', 'greater load', 'greater rotating', 'installing', 'installing various', 'invention', 'invention discloses', 'load', 'load current', 'matrix', 'matrix operation', 'method', 'method comprises', 'method cost', 'method vehicle', 'motor', 'motor first', 'motor second', 'needed', 'needed therefore', 'one', 'one first', 'operation', 'operation vehicle', 'part', 'part vehicle', 'reaction', 'reaction time', 'reduced', 'reduced complex', 'reducing', 'reducing first', 'rotating', 'rotating angle', 'rotating speed', 'second', 'second driving', 'second load', 'second rotating', 'second wheel', 'sensor', 'sensor part', 'shortened', 'speed', 'speed calculating', 'speed difference', 'speed first', 'speed second', 'step', 'step detecting', 'system', 'system method', 'therefore', 'therefore reaction', 'time', 'time shortened', 'travel', 'travel control', 'traveling', 'traveling control', 'value', 'value absolute', 'value load', 'value one', 'value reducing', 'value rotating', 'various', 'various complex', 'vehicle', 'vehicle acceleration', 'vehicle body', 'vehicle reduced', 'vehicle travel', 'vehicle traveling', 'wheel', 'wheel according', 'wheel calculating', 'wheel detecting', 'wheel second']\n",
      "['automobile', 'automobile consumption', 'automobile marketing', 'automobile purchase', 'avoids', 'avoids loan', 'based', 'based automobile', 'brought', 'brought dealer', 'certificate', 'certificate management', 'chain', 'chain comprehensive', 'channel', 'channel effectively', 'characterized', 'characterized whole', 'collection', 'collection low', 'completely', 'completely realizes', 'comprehensive', 'comprehensive service', 'comprises', 'comprises automobile', 'consumption', 'consumption ecological', 'control', 'control management', 'cost', 'cost completely', 'dealer', 'dealer purchase', 'discloses', 'discloses risk', 'ecological', 'ecological chain', 'effectively', 'effectively avoids', 'financial', 'financial cost', 'financial financing', 'financial risk', 'financing', 'financing process', 'financing risk', 'financing well', 'flow', 'flow based', 'flow characterized', 'flow management', 'fraud', 'fraud phenomenon', 'information', 'information system', 'integrated', 'integrated management', 'invention', 'invention discloses', 'loan', 'loan fraud', 'low', 'low financial', 'mall', 'mall order', 'management', 'management flow', 'management information', 'management process', 'management service', 'management system', 'management terminal', 'manual', 'manual collection', 'marketing', 'marketing channel', 'national', 'national offline', 'need', 'need manual', 'official', 'official shopping', 'offline', 'offline terminal', 'online', 'online flow', 'order', 'order scheduling', 'parking', 'parking stall', 'party', 'party service', 'phenomenon', 'phenomenon need', 'platform', 'platform national', 'platform official', 'platform real', 'problem', 'problem financial', 'process', 'process automobile', 'purchase', 'purchase financial', 'purchase financing', 'real', 'real right', 'realizes', 'realizes whole', 'right', 'right management', 'risk', 'risk brought', 'risk control', 'scheduling', 'scheduling platform', 'service', 'service management', 'service platform', 'service terminal', 'shop', 'shop third', 'shopping', 'shopping mall', 'solves', 'solves problem', 'stall', 'stall certificate', 'system', 'system comprises', 'system integrated', 'system parking', 'system third', 'terminal', 'terminal shop', 'terminal system', 'terminal user', 'third', 'third party', 'user', 'user risk', 'well', 'well solves', 'whole', 'whole online', 'whole system']\n"
     ]
    },
    {
     "name": "stderr",
     "output_type": "stream",
     "text": [
      "C:\\Users\\HP\\anaconda3\\envs\\Pytorchgpu\\lib\\site-packages\\sklearn\\utils\\deprecation.py:87: FutureWarning: Function get_feature_names is deprecated; get_feature_names is deprecated in 1.0 and will be removed in 1.2. Please use get_feature_names_out instead.\n",
      "  warnings.warn(msg, category=FutureWarning)\n",
      "C:\\Users\\HP\\anaconda3\\envs\\Pytorchgpu\\lib\\site-packages\\sklearn\\utils\\deprecation.py:87: FutureWarning: Function get_feature_names is deprecated; get_feature_names is deprecated in 1.0 and will be removed in 1.2. Please use get_feature_names_out instead.\n",
      "  warnings.warn(msg, category=FutureWarning)\n"
     ]
    },
    {
     "name": "stdout",
     "output_type": "stream",
     "text": [
      "['adjusted', 'adjusted downwards', 'adjusted get', 'areimproved', 'arranged', 'arranged spreading', 'arranged upwards', 'away', 'away eachother', 'bamboo', 'bamboo board', 'bamboo section', 'better', 'better met', 'board', 'board conveyed', 'board cooled', 'board cracking', 'board method', 'board production', 'body', 'body length', 'comprises', 'comprises following', 'conveyed', 'conveyed bamboo', 'conveying', 'conveying process', 'cooled', 'cooled sized', 'cracking', 'cracking rate', 'cutting', 'cutting line', 'different', 'different size', 'direction', 'direction bamboo', 'downwards', 'downwards press', 'eachother', 'eachother bamboo', 'effectively', 'effectively reduced', 'efficiency', 'efficiency product', 'flattened', 'flattened bamboo', 'flattened flattened', 'flattening', 'flattening production', 'following', 'following step', 'formed', 'formed bamboo', 'get', 'get away', 'heated', 'heated subjected', 'inner', 'inner wall', 'invention', 'invention relates', 'length', 'length direction', 'line', 'line bamboo', 'line formed', 'line heated', 'met', 'met bamboo', 'method', 'method comprises', 'method flattening', 'method used', 'oppositely', 'oppositely arranged', 'part', 'part adjusted', 'part cutting', 'placed', 'placed supporting', 'press', 'press inner', 'process', 'process method', 'producing', 'producing bamboo', 'product', 'product yield', 'production', 'production efficiency', 'production wide', 'rate', 'rate effectively', 'reduced', 'reduced spreading', 'relates', 'relates method', 'requirement', 'requirement bamboo', 'section', 'section arranged', 'section bamboo', 'section body', 'section cutting', 'section different', 'section flattened', 'section placed', 'section two', 'size', 'size better', 'sized', 'sized conveying', 'softening', 'softening treatment', 'spreading', 'spreading part', 'spreading requirement', 'step', 'step cutting', 'subjected', 'subjected softening', 'supporting', 'supporting part', 'treatment', 'treatment bamboo', 'two', 'two oppositely', 'two spreading', 'upwards', 'upwards two', 'used', 'used producing', 'wall', 'wall bamboo', 'wide', 'wide bamboo', 'yield', 'yield areimproved']\n",
      "['attestation', 'attestation provided', 'authenticating', 'authenticating one', 'based', 'based discovery', 'based verification', 'certificate', 'certificate authenticating', 'certificate public', 'channel', 'channel first', 'channel identity', 'communication', 'communication channel', 'control', 'control register', 'device', 'device based', 'device discovery', 'device identity', 'device one', 'device receiving', 'device second', 'discovery', 'discovery message', 'endorsement', 'endorsement key', 'establishing', 'establishing communication', 'example', 'example method', 'first', 'first device', 'identity', 'identity information', 'identity key', 'includes', 'includes receiving', 'including', 'including one', 'information', 'information including', 'information second', 'key', 'key certificate', 'key one', 'key verifying', 'message', 'message establishing', 'message second', 'method', 'method includes', 'module', 'module tpm', 'one', 'one communication', 'one pcr', 'one platform', 'one trusted', 'pcr', 'pcr value', 'peer', 'peer attestation', 'peer peer', 'platform', 'platform control', 'platform module', 'portion', 'portion identity', 'provided', 'provided example', 'public', 'public portion', 'quote', 'quote endorsement', 'quote pcr', 'received', 'received second', 'receiving', 'receiving first', 'register', 'register pcr', 'second', 'second device', 'signature', 'signature received', 'techniques', 'techniques peer', 'tpm', 'tpm endorsement', 'trusted', 'trusted platform', 'value', 'value identity', 'value quote', 'verification', 'verification signature', 'verifying', 'verifying first']\n"
     ]
    },
    {
     "name": "stderr",
     "output_type": "stream",
     "text": [
      "C:\\Users\\HP\\anaconda3\\envs\\Pytorchgpu\\lib\\site-packages\\sklearn\\utils\\deprecation.py:87: FutureWarning: Function get_feature_names is deprecated; get_feature_names is deprecated in 1.0 and will be removed in 1.2. Please use get_feature_names_out instead.\n",
      "  warnings.warn(msg, category=FutureWarning)\n",
      "C:\\Users\\HP\\anaconda3\\envs\\Pytorchgpu\\lib\\site-packages\\sklearn\\utils\\deprecation.py:87: FutureWarning: Function get_feature_names is deprecated; get_feature_names is deprecated in 1.0 and will be removed in 1.2. Please use get_feature_names_out instead.\n",
      "  warnings.warn(msg, category=FutureWarning)\n",
      "C:\\Users\\HP\\anaconda3\\envs\\Pytorchgpu\\lib\\site-packages\\sklearn\\utils\\deprecation.py:87: FutureWarning: Function get_feature_names is deprecated; get_feature_names is deprecated in 1.0 and will be removed in 1.2. Please use get_feature_names_out instead.\n",
      "  warnings.warn(msg, category=FutureWarning)\n",
      "C:\\Users\\HP\\anaconda3\\envs\\Pytorchgpu\\lib\\site-packages\\sklearn\\utils\\deprecation.py:87: FutureWarning: Function get_feature_names is deprecated; get_feature_names is deprecated in 1.0 and will be removed in 1.2. Please use get_feature_names_out instead.\n",
      "  warnings.warn(msg, category=FutureWarning)\n",
      "C:\\Users\\HP\\anaconda3\\envs\\Pytorchgpu\\lib\\site-packages\\sklearn\\utils\\deprecation.py:87: FutureWarning: Function get_feature_names is deprecated; get_feature_names is deprecated in 1.0 and will be removed in 1.2. Please use get_feature_names_out instead.\n",
      "  warnings.warn(msg, category=FutureWarning)\n",
      "C:\\Users\\HP\\anaconda3\\envs\\Pytorchgpu\\lib\\site-packages\\sklearn\\utils\\deprecation.py:87: FutureWarning: Function get_feature_names is deprecated; get_feature_names is deprecated in 1.0 and will be removed in 1.2. Please use get_feature_names_out instead.\n",
      "  warnings.warn(msg, category=FutureWarning)\n"
     ]
    },
    {
     "name": "stdout",
     "output_type": "stream",
     "text": [
      "['according', 'according preparation', 'achieved', 'achieved corrosion', 'action', 'action external', 'adopted', 'adopted stretching', 'advantage', 'advantage effect', 'alloy', 'alloy continuous', 'alloy material', 'alloy tendon', 'andfibers', 'andfibers arranged', 'andlongitudinally', 'andlongitudinally wrapped', 'application', 'application range', 'around', 'around shape', 'arranged', 'arranged outer', 'austenite', 'austenite high', 'characterized', 'characterized inner', 'circumferential', 'circumferential winding', 'circumferentially', 'circumferentially wound', 'compared', 'compared traditional', 'composite', 'composite fiber', 'composite tendon', 'comprise', 'comprise circumferential', 'constraint', 'constraint compared', 'continuous', 'continuous fiber', 'converted', 'converted martensite', 'core', 'core andfibers', 'core shape', 'correspondingly', 'correspondingly according', 'corrosion', 'corrosion resistance', 'discloses', 'discloses preparation', 'durability', 'durability prestressed', 'effect', 'effect presetting', 'external', 'external constraint', 'factory', 'factory achieved', 'fiber', 'fiber circumferential', 'fiber circumferentially', 'fiber composite', 'fiber comprise', 'fiber longitudinal', 'fiber made', 'fiber reinforced', 'form', 'form thereby', 'generating', 'generating prestress', 'high', 'high temperature', 'improved', 'improved application', 'induction', 'induction overall', 'initial', 'initial form', 'inner', 'inner core', 'invention', 'invention discloses', 'layer', 'layer wrapping', 'leave', 'leave factory', 'length', 'length shape', 'longitudinal', 'longitudinal wrapping', 'made', 'made fiber', 'martensite', 'martensite austenite', 'martensite state', 'material', 'material adopted', 'material leave', 'memory', 'memory alloy', 'method', 'method characterized', 'method prestressed', 'method shape', 'method using', 'mode', 'mode wherein', 'outer', 'outer layer', 'overall', 'overall length', 'performed', 'performed martensite', 'preparation', 'preparation method', 'presetting', 'presetting prestress', 'prestress', 'prestress action', 'prestress tendon', 'prestressed', 'prestressed shape', 'prestressed tendon', 'range', 'range prestressed', 'recovering', 'recovering initial', 'reinforced', 'reinforced composite', 'resistance', 'resistance durability', 'shape', 'shape memory', 'state', 'state shape', 'stretching', 'stretching performed', 'temperature', 'temperature induction', 'tendency', 'tendency recovering', 'tendon', 'tendon advantage', 'tendon converted', 'tendon correspondingly', 'tendon fiber', 'tendon improved', 'tendon material', 'tendon preparation', 'tendon prestressed', 'tendon tendency', 'tendon wider', 'thereby', 'thereby generating', 'traditional', 'traditional prestressed', 'using', 'using method', 'wherein', 'wherein inner', 'wider', 'winding', 'winding continuous', 'wound', 'wound andlongitudinally', 'wrapped', 'wrapped around', 'wrapping', 'wrapping continuous', 'wrapping mode']\n",
      "['according', 'according target', 'apparatus', 'apparatus device', 'applicable', 'applicable scenario', 'binding', 'binding first', 'bound', 'bound receiver', 'browse', 'browse information', 'determining', 'determining target', 'device', 'device method', 'disclose', 'disclose message', 'display', 'display method', 'display reminder', 'electronic', 'electronic information', 'embodiment', 'embodiment present', 'embodiments', 'embodiments present', 'extracting', 'extracting key', 'field', 'field electronic', 'first', 'first input', 'includes', 'includes receiving', 'information', 'information extracting', 'information first', 'information matching', 'information target', 'information technology', 'information user', 'input', 'input information', 'invention', 'invention applicable', 'invention includes', 'invention relate', 'key', 'key information', 'matching', 'matching key', 'message', 'message according', 'message display', 'method', 'method apparatus', 'method embodiment', 'name', 'name binding', 'name bound', 'name determining', 'name present', 'name sending', 'need', 'need quickly', 'present', 'present invention', 'quickly', 'quickly browse', 'receiver', 'receiver terminal', 'receiving', 'receiving first', 'relate', 'relate field', 'reminder', 'reminder message', 'scenario', 'scenario user', 'sending', 'sending receiver', 'target', 'target user', 'technology', 'technology disclose', 'terminal', 'terminal display', 'terminal first', 'user', 'user name', 'user need']\n"
     ]
    },
    {
     "name": "stderr",
     "output_type": "stream",
     "text": [
      "C:\\Users\\HP\\anaconda3\\envs\\Pytorchgpu\\lib\\site-packages\\sklearn\\utils\\deprecation.py:87: FutureWarning: Function get_feature_names is deprecated; get_feature_names is deprecated in 1.0 and will be removed in 1.2. Please use get_feature_names_out instead.\n",
      "  warnings.warn(msg, category=FutureWarning)\n",
      "C:\\Users\\HP\\anaconda3\\envs\\Pytorchgpu\\lib\\site-packages\\sklearn\\utils\\deprecation.py:87: FutureWarning: Function get_feature_names is deprecated; get_feature_names is deprecated in 1.0 and will be removed in 1.2. Please use get_feature_names_out instead.\n",
      "  warnings.warn(msg, category=FutureWarning)\n"
     ]
    },
    {
     "name": "stdout",
     "output_type": "stream",
     "text": [
      "['activity', 'activity enables', 'anti', 'anti collision', 'anti knock', 'arranged', 'arranged leftand', 'arranged vehicle', 'assist', 'assist educator', 'belongs', 'belongs technical', 'bench', 'bench anti', 'bench installed', 'bench safe', 'bench test', 'bin', 'bin arranged', 'bin two', 'bottom', 'bottom part', 'carry', 'carry teaching', 'characterized', 'characterized comprising', 'collection', 'collection specimen', 'collision', 'collision type', 'combined', 'combined field', 'comprehensive', 'comprehensive experiment', 'comprises', 'comprises test', 'comprising', 'comprising vehicle', 'device', 'device arranged', 'device comprises', 'device folding', 'educator', 'educator carry', 'enables', 'enables student', 'equipment', 'equipment field', 'equipment safe', 'existing', 'existing vehicle', 'experiment', 'experiment teaching', 'experimental', 'experimental equipment', 'experimental storage', 'feeling', 'feeling understanding', 'field', 'field outdoor', 'field safely', 'field situation', 'folding', 'folding experimental', 'frame', 'frame anti', 'frame installed', 'immersive', 'immersive way', 'installed', 'installed test', 'installed vehicle', 'invention', 'invention provides', 'knock', 'knock travelling', 'knowledge', 'knowledge immersive', 'learn', 'learn knowledge', 'left', 'left right', 'leftand', 'leftand right', 'lively', 'lively activity', 'lower', 'lower part', 'mean', 'mean left', 'mobile', 'mobile teaching', 'operation', 'operation combined', 'operation outdoors', 'outdoor', 'outdoor mobile', 'outdoor safe', 'outdoors', 'outdoors transport', 'panel', 'panel bottom', 'panel mean', 'panel provided', 'panel wherein', 'part', 'part existing', 'part test', 'part vehicle', 'performing', 'performing vivid', 'plate', 'plate lower', 'plate test', 'platform', 'platform assist', 'platform belongs', 'platform characterized', 'platform rear', 'platform used', 'profound', 'provided', 'provided anti', 'provides', 'provides safe', 'reagent', 'reagent storage', 'real', 'real time', 'rear', 'rear part', 'right', 'right supporting', 'safe', 'safe comprehensive', 'safely', 'safely trailing', 'side', 'side test', 'situation', 'situation real', 'specimen', 'specimen used', 'storage', 'storage bin', 'storage device', 'student', 'student learn', 'supporting', 'supporting plate', 'teaching', 'teaching experimental', 'teaching lively', 'teaching operation', 'teaching platform', 'technical', 'technical field', 'test', 'test bench', 'test equipment', 'test frame', 'test reagent', 'time', 'time collection', 'trailing', 'trailing safe', 'transport', 'transport test', 'travelling', 'travelling device', 'two', 'two side', 'type', 'type test', 'understanding', 'understanding vivid', 'used', 'used performing', 'used teaching', 'vehicle', 'vehicle outdoor', 'vehicle panel', 'vivid', 'vivid profound', 'vivid teaching', 'way', 'way feeling', 'wherein', 'wherein folding']\n"
     ]
    },
    {
     "name": "stderr",
     "output_type": "stream",
     "text": [
      "C:\\Users\\HP\\anaconda3\\envs\\Pytorchgpu\\lib\\site-packages\\sklearn\\utils\\deprecation.py:87: FutureWarning: Function get_feature_names is deprecated; get_feature_names is deprecated in 1.0 and will be removed in 1.2. Please use get_feature_names_out instead.\n",
      "  warnings.warn(msg, category=FutureWarning)\n",
      "C:\\Users\\HP\\anaconda3\\envs\\Pytorchgpu\\lib\\site-packages\\sklearn\\utils\\deprecation.py:87: FutureWarning: Function get_feature_names is deprecated; get_feature_names is deprecated in 1.0 and will be removed in 1.2. Please use get_feature_names_out instead.\n",
      "  warnings.warn(msg, category=FutureWarning)\n"
     ]
    },
    {
     "name": "stdout",
     "output_type": "stream",
     "text": [
      "['15', '15 percent', '15 weight', '150', '150 deg', '372', '372 mpa', '422', '422 mpa', '65', '65 percent', 'al', 'al alloy', 'al le', 'alloy', 'alloy extruded', 'alloy material', 'also', 'also discloses', 'application', 'application popularization', 'applied', 'applied low', 'average', 'average elongation', 'balance', 'balance mg', 'bus', 'bus rail', 'carrying', 'carrying hot', 'characterized', 'characterized comprising', 'civilian', 'civilian field', 'component', 'component percentage', 'comprising', 'comprising following', 'cost', 'cost civilian', 'deformation', 'deformation magnesium', 'deg', 'deg reach', 'discloses', 'discloses high', 'discloses preparation', 'electric', 'electric bus', 'elongation', 'elongation rate', 'equal', 'equal 15', 'extruded', 'extruded 150', 'extruded profile', 'extrusion', 'extrusion tensile', 'field', 'field electric', 'following', 'following component', 'following step', 'good', 'good application', 'heat', 'heat resistant', 'high', 'high strength', 'homogenizing', 'homogenizing carrying', 'hot', 'hot extrusion', 'impurity', 'impurity balance', 'inevitable', 'inevitable impurity', 'invention', 'invention also', 'invention discloses', 'le', 'le equal', 'low', 'low cost', 'machining', 'machining homogenizing', 'magnesium', 'magnesium alloy', 'material', 'material characterized', 'material high', 'material preparation', 'method', 'method characterized', 'method good', 'method high', 'mg', 'mg invention', 'mg zn', 'mn', 'mn al', 'mn weight', 'mpa', 'mpa average', 'mpa yield', 'percent', 'percent al', 'percent inevitable', 'percent magnesium', 'percent mn', 'percent percent', 'percent sn', 'percent zn', 'percentage', 'percentage weight', 'popularization', 'popularization prospect', 'preparation', 'preparation method', 'prepared', 'prepared mg', 'profile', 'profile reach', 'prospect', 'prospect applied', 'rail', 'rail transit', 'rate', 'rate extruded', 'reach', 'reach 372', 'reach 422', 'reach 65', 'resistant', 'resistant deformation', 'smelting', 'smelting machining', 'sn', 'sn mn', 'sn weight', 'step', 'step smelting', 'strength', 'strength heat', 'strength prepared', 'strength reach', 'tensile', 'tensile strength', 'transit', 'weight', 'weight 15', 'weight percent', 'yield', 'yield strength', 'zn', 'zn sn', 'zn weight']\n",
      "['activatable', 'activatable first', 'activatable fsm', 'address', 'address pin', 'circuit', 'circuit includes', 'clock', 'clock signal', 'configured', 'configured generate', 'controller', 'controller including', 'coupled', 'coupled first', 'device', 'device controller', 'device includes', 'device led', 'device set', 'drive', 'drive pwm', 'driver', 'driver device', 'finite', 'finite state', 'first', 'first signal', 'first slave', 'fsm', 'fsm configured', 'fsm first', 'fsm second', 'generate', 'generate clock', 'generate led', 'includes', 'includes finite', 'includes set', 'including', 'including set', 'led', 'led drive', 'led driver', 'machine', 'machine fsm', 'modulated', 'modulated signal', 'node', 'node coupled', 'oscillator', 'oscillator configured', 'path', 'path activatable', 'pattern', 'pattern oscillator', 'pin', 'pin fsm', 'pin led', 'pin second', 'pwm', 'pwm modulated', 'second', 'second signal', 'second slave', 'set', 'set led', 'set node', 'signal', 'signal fsm', 'signal path', 'signal pattern', 'slave', 'slave address', 'state', 'state machine']\n"
     ]
    },
    {
     "name": "stderr",
     "output_type": "stream",
     "text": [
      "C:\\Users\\HP\\anaconda3\\envs\\Pytorchgpu\\lib\\site-packages\\sklearn\\utils\\deprecation.py:87: FutureWarning: Function get_feature_names is deprecated; get_feature_names is deprecated in 1.0 and will be removed in 1.2. Please use get_feature_names_out instead.\n",
      "  warnings.warn(msg, category=FutureWarning)\n",
      "C:\\Users\\HP\\anaconda3\\envs\\Pytorchgpu\\lib\\site-packages\\sklearn\\utils\\deprecation.py:87: FutureWarning: Function get_feature_names is deprecated; get_feature_names is deprecated in 1.0 and will be removed in 1.2. Please use get_feature_names_out instead.\n",
      "  warnings.warn(msg, category=FutureWarning)\n",
      "C:\\Users\\HP\\anaconda3\\envs\\Pytorchgpu\\lib\\site-packages\\sklearn\\utils\\deprecation.py:87: FutureWarning: Function get_feature_names is deprecated; get_feature_names is deprecated in 1.0 and will be removed in 1.2. Please use get_feature_names_out instead.\n",
      "  warnings.warn(msg, category=FutureWarning)\n",
      "C:\\Users\\HP\\anaconda3\\envs\\Pytorchgpu\\lib\\site-packages\\sklearn\\utils\\deprecation.py:87: FutureWarning: Function get_feature_names is deprecated; get_feature_names is deprecated in 1.0 and will be removed in 1.2. Please use get_feature_names_out instead.\n",
      "  warnings.warn(msg, category=FutureWarning)\n"
     ]
    },
    {
     "name": "stdout",
     "output_type": "stream",
     "text": [
      "['add', 'add aligned', 'add mixed', 'align', 'align mixed', 'aligned', 'aligned signal', 'audio', 'audio component', 'audio mixture', 'blind', 'blind source', 'bss', 'bss module', 'component', 'component align', 'component least', 'component mix', 'component speech', 'enhance', 'enhance extracted', 'enhancement', 'enhancement target', 'extracted', 'extracted noise', 'extracted speech', 'filtering', 'filtering spectral', 'finally', 'finally add', 'first', 'first mix', 'first weight', 'generate', 'generate extracted', 'independent', 'independent audio', 'least', 'least one', 'method', 'method speech', 'microphone', 'microphone recorded', 'mix', 'mix weighted', 'mixed', 'mixed signal', 'mixer', 'mixer used', 'mixture', 'mixture statistically', 'module', 'module used', 'noise', 'noise mixer', 'noise signal', 'one', 'one plurality', 'plurality', 'plurality microphone', 'plurality speaker', 'post', 'post processing', 'power', 'power spectrum', 'presented', 'presented blind', 'procedure', 'procedure subtracting', 'processing', 'processing used', 'profile', 'profile used', 'recorded', 'recorded audio', 'score', 'score weight', 'separate', 'separate plurality', 'separation', 'separation bss', 'shaped', 'shaped power', 'signal', 'signal extracted', 'signal finally', 'signal generate', 'signal post', 'signal similarly', 'signal wiener', 'similarly', 'similarly noise', 'source', 'source separation', 'speaker', 'speaker presented', 'speaker profile', 'spectral', 'spectral subtraction', 'spectrum', 'spectrum extracted', 'speech', 'speech enhancement', 'speech mixer', 'speech signal', 'statistically', 'statistically independent', 'subtracting', 'subtracting shaped', 'subtraction', 'subtraction procedure', 'target', 'target speaker', 'used', 'used enhance', 'used first', 'used score', 'used separate', 'weight', 'weight audio', 'weighted', 'weighted audio', 'weighted signal', 'wiener', 'wiener filtering']\n"
     ]
    },
    {
     "name": "stderr",
     "output_type": "stream",
     "text": [
      "C:\\Users\\HP\\anaconda3\\envs\\Pytorchgpu\\lib\\site-packages\\sklearn\\utils\\deprecation.py:87: FutureWarning: Function get_feature_names is deprecated; get_feature_names is deprecated in 1.0 and will be removed in 1.2. Please use get_feature_names_out instead.\n",
      "  warnings.warn(msg, category=FutureWarning)\n",
      "C:\\Users\\HP\\anaconda3\\envs\\Pytorchgpu\\lib\\site-packages\\sklearn\\utils\\deprecation.py:87: FutureWarning: Function get_feature_names is deprecated; get_feature_names is deprecated in 1.0 and will be removed in 1.2. Please use get_feature_names_out instead.\n",
      "  warnings.warn(msg, category=FutureWarning)\n"
     ]
    },
    {
     "name": "stdout",
     "output_type": "stream",
     "text": [
      "['angled', 'angled unloading', 'arranged', 'arranged one', 'assistance', 'assistance receiving', 'automation', 'automation degree', 'away', 'away overturning', 'bearing', 'bearing overturning', 'belongs', 'belongs technical', 'body', 'body overturning', 'bottom', 'bottom countersunk', 'bottom cylinder', 'bracket', 'bracket bracket', 'bracket guide', 'bracket hanging', 'bracket isinserted', 'capable', 'capable increasing', 'characterized', 'characterized comprising', 'close', 'close slope', 'comprising', 'comprising countersunk', 'conveying', 'conveying belongs', 'conveying characterized', 'countersunk', 'countersunk groove', 'cylinder', 'cylinder arranged', 'cylinder body', 'cylinder bracket', 'cylinder hanging', 'cylinder installed', 'cylinder rod', 'degree', 'degree capable', 'device', 'device intermittent', 'device ishigh', 'diameter', 'diameter guide', 'diameter hanging', 'discloses', 'discloses receiving', 'efficiency', 'efficiency rim', 'end', 'end cylinder', 'end hanging', 'fastening', 'fastening screw', 'field', 'field rim', 'fixed', 'fixed hanging', 'fixed one', 'formed', 'formed bracket', 'greater', 'greater diameter', 'groove', 'groove formed', 'groove overturning', 'groove overturningrod', 'groove pin', 'groove right', 'groove shaft', 'groove slope', 'guide', 'guide rod', 'hanging', 'hanging rod', 'hinged', 'hinged top', 'hydraulic', 'hydraulic cylinder', 'increasing', 'increasing production', 'insertion', 'insertion groove', 'installed', 'installed bottom', 'installed shaft', 'intermittent', 'intermittent vehicle', 'invention', 'invention discloses', 'ishigh', 'ishigh automation', 'isinserted', 'isinserted overturning', 'one', 'one side', 'one sidepart', 'overturning', 'overturning hydraulic', 'overturning rod', 'overturning shaft', 'overturningrod', 'overturningrod bottom', 'part', 'part away', 'part countersunk', 'part overturning', 'part side', 'pin', 'pin shaft', 'production', 'production assistance', 'production efficiency', 'receiving', 'receiving device', 'right', 'right angled', 'rim', 'rim production', 'rod', 'rod diameter', 'rod fastening', 'rod fixed', 'rod greater', 'rod guide', 'rod hinged', 'rod insertion', 'rod installed', 'rod overturning', 'rod sleeve', 'rod wherein', 'screw', 'screw receiving', 'seat', 'seat bearing', 'seat overturning', 'shaft', 'shaft insertion', 'shaft installed', 'shaft overturning', 'shaft seat', 'shaft shaft', 'shaped', 'shaped part', 'shaped slide', 'side', 'side close', 'side part', 'sidepart', 'sidepart countersunk', 'sleeve', 'sleeve rod', 'sleeve top', 'slide', 'slide part', 'slope', 'slope shaped', 'technical', 'technical field', 'top', 'top end', 'unloading', 'unloading part', 'vehicle', 'vehicle wheel', 'wheel', 'wheel conveying', 'wherein', 'wherein one']\n"
     ]
    },
    {
     "name": "stderr",
     "output_type": "stream",
     "text": [
      "C:\\Users\\HP\\anaconda3\\envs\\Pytorchgpu\\lib\\site-packages\\sklearn\\utils\\deprecation.py:87: FutureWarning: Function get_feature_names is deprecated; get_feature_names is deprecated in 1.0 and will be removed in 1.2. Please use get_feature_names_out instead.\n",
      "  warnings.warn(msg, category=FutureWarning)\n",
      "C:\\Users\\HP\\anaconda3\\envs\\Pytorchgpu\\lib\\site-packages\\sklearn\\utils\\deprecation.py:87: FutureWarning: Function get_feature_names is deprecated; get_feature_names is deprecated in 1.0 and will be removed in 1.2. Please use get_feature_names_out instead.\n",
      "  warnings.warn(msg, category=FutureWarning)\n",
      "C:\\Users\\HP\\anaconda3\\envs\\Pytorchgpu\\lib\\site-packages\\sklearn\\utils\\deprecation.py:87: FutureWarning: Function get_feature_names is deprecated; get_feature_names is deprecated in 1.0 and will be removed in 1.2. Please use get_feature_names_out instead.\n",
      "  warnings.warn(msg, category=FutureWarning)\n",
      "C:\\Users\\HP\\anaconda3\\envs\\Pytorchgpu\\lib\\site-packages\\sklearn\\utils\\deprecation.py:87: FutureWarning: Function get_feature_names is deprecated; get_feature_names is deprecated in 1.0 and will be removed in 1.2. Please use get_feature_names_out instead.\n",
      "  warnings.warn(msg, category=FutureWarning)\n"
     ]
    },
    {
     "name": "stdout",
     "output_type": "stream",
     "text": [
      "['abstract', 'abstract intended', 'agent', 'agent known', 'art', 'art intended', 'aspect', 'aspect pharmaceutical', 'cdk2', 'cdk2 inhibitor', 'composition', 'composition comprising', 'composition disclosed', 'comprising', 'comprising cdk2', 'disclosed', 'disclosed abstract', 'disorder', 'disorder using', 'hearing', 'hearing impairment', 'impairment', 'impairment disorder', 'impairment least', 'impairment method', 'inhibitor', 'inhibitor one', 'intended', 'intended limiting', 'intended scanning', 'invention', 'known', 'known prevent', 'known treat', 'least', 'least one', 'limiting', 'limiting present', 'method', 'method treating', 'one', 'one agent', 'one aspect', 'one least', 'particular', 'particular art', 'pharmaceutical', 'pharmaceutical composition', 'present', 'present invention', 'prevent', 'prevent hearing', 'preventing', 'preventing hearing', 'purpose', 'purpose searching', 'scanning', 'scanning tool', 'searching', 'searching particular', 'tool', 'tool purpose', 'treat', 'treat hearing', 'treating', 'treating preventing', 'using', 'using composition']\n",
      "['accelerated', 'accelerated treatment', 'adding', 'adding light', 'adjust', 'adjust density', 'air', 'air hydrogen', 'bed', 'bed pressure', 'bifunctional', 'bifunctional oxidation', 'bubble', 'bubble wastewater', 'carrier', 'carrier adding', 'catalyst', 'catalyst catalyze', 'catalyst easily', 'catalyst method', 'catalyst promoted', 'catalytic', 'catalytic degradation', 'catalytic oxidation', 'catalyze', 'catalyze hydrogen', 'compared', 'compared existing', 'comprises', 'comprises step', 'containing', 'containing air', 'degradation', 'degradation rate', 'degraded', 'degraded small', 'density', 'density loaded', 'easily', 'easily suspend', 'effect', 'effect improved', 'effect wastewater', 'enable', 'enable organic', 'enables', 'enables fluidized', 'existing', 'existing method', 'ferrous', 'ferrous ion', 'fluidization', 'fluidization state', 'fluidized', 'fluidized bed', 'generate', 'generate hydroxyl', 'hydrogen', 'hydrogen peroxide', 'hydroxyl', 'hydroxyl radical', 'improved', 'improved prepared', 'improving', 'improving treatment', 'increased', 'increased wastewater', 'introducing', 'introducing ozone', 'invention', 'invention enables', 'invention relates', 'ion', 'ion ferrous', 'ion prepare', 'ion using', 'iron', 'iron ion', 'light', 'light powder', 'loaded', 'loaded ion', 'loading', 'loading iron', 'mass', 'mass transfer', 'matter', 'matter water', 'metallurgy', 'metallurgy method', 'metallurgy process', 'method', 'method catalytic', 'method provided', 'method using', 'molecular', 'molecular sieve', 'molecule', 'molecule compared', 'organic', 'organic matter', 'organicmatters', 'organicmatters accelerated', 'oxidation', 'oxidation catalyst', 'oxidation pretreatment', 'oxidatively', 'oxidatively degraded', 'ozone', 'ozone containing', 'ozone generate', 'ozone wastewater', 'peroxide', 'peroxide ozone', 'peroxide solution', 'powder', 'powder adjust', 'prepare', 'prepare bifunctional', 'prepared', 'prepared bifunctional', 'pressure', 'pressure solubility', 'pretreatment', 'pretreatment raffinate', 'process', 'process comprises', 'produced', 'produced wet', 'promoted', 'promoted fluidization', 'provided', 'provided invention', 'radical', 'radical thus', 'raffinate', 'raffinate wastewater', 'rate', 'rate organicmatters', 'relates', 'relates oxidation', 'shortened', 'sieve', 'sieve carrier', 'small', 'small molecule', 'solubility', 'solubility ozone', 'solution', 'solution enable', 'state', 'state catalytic', 'step', 'step loading', 'suspend', 'suspend introducing', 'thus', 'thus improving', 'time', 'time shortened', 'transfer', 'transfer bubble', 'treat', 'treat raffinate', 'treatment', 'treatment effect', 'treatment time', 'using', 'using molecular', 'using treat', 'wastewater', 'wastewater catalyst', 'wastewater increased', 'wastewater mass', 'wastewater produced', 'wastewater treatment', 'water', 'water oxidatively', 'wet', 'wet metallurgy']\n"
     ]
    },
    {
     "name": "stderr",
     "output_type": "stream",
     "text": [
      "C:\\Users\\HP\\anaconda3\\envs\\Pytorchgpu\\lib\\site-packages\\sklearn\\utils\\deprecation.py:87: FutureWarning: Function get_feature_names is deprecated; get_feature_names is deprecated in 1.0 and will be removed in 1.2. Please use get_feature_names_out instead.\n",
      "  warnings.warn(msg, category=FutureWarning)\n",
      "C:\\Users\\HP\\anaconda3\\envs\\Pytorchgpu\\lib\\site-packages\\sklearn\\utils\\deprecation.py:87: FutureWarning: Function get_feature_names is deprecated; get_feature_names is deprecated in 1.0 and will be removed in 1.2. Please use get_feature_names_out instead.\n",
      "  warnings.warn(msg, category=FutureWarning)\n",
      "C:\\Users\\HP\\anaconda3\\envs\\Pytorchgpu\\lib\\site-packages\\sklearn\\utils\\deprecation.py:87: FutureWarning: Function get_feature_names is deprecated; get_feature_names is deprecated in 1.0 and will be removed in 1.2. Please use get_feature_names_out instead.\n",
      "  warnings.warn(msg, category=FutureWarning)\n",
      "C:\\Users\\HP\\anaconda3\\envs\\Pytorchgpu\\lib\\site-packages\\sklearn\\utils\\deprecation.py:87: FutureWarning: Function get_feature_names is deprecated; get_feature_names is deprecated in 1.0 and will be removed in 1.2. Please use get_feature_names_out instead.\n",
      "  warnings.warn(msg, category=FutureWarning)\n"
     ]
    },
    {
     "name": "stdout",
     "output_type": "stream",
     "text": [
      "['access', 'access control', 'assembly', 'assembly first', 'based', 'based result', 'comparison', 'comparison transmission', 'control', 'control mac', 'data', 'data based', 'data perform', 'data transmission', 'data transmitted', 'data unit', 'device', 'device first', 'device performs', 'first', 'first data', 'first terminal', 'mac', 'mac pdu', 'mac protocol', 'medium', 'medium access', 'pdu', 'pdu assembly', 'perform', 'perform mac', 'performs', 'performs medium', 'priority', 'priority first', 'priority second', 'protocol', 'protocol data', 'result', 'result comparison', 'second', 'second data', 'sidelink', 'sidelink second', 'terminal', 'terminal device', 'transmission', 'transmission priority', 'transmitted', 'transmitted sidelink', 'transmitted uplink', 'unit', 'unit pdu', 'uplink', 'uplink first']\n",
      "['according', 'according description', 'according migration', 'according thedata', 'analyze', 'analyze storage', 'calculate', 'calculate migration', 'calculation', 'calculation module', 'complexity', 'complexity reduced', 'comprises', 'comprises following', 'computer', 'computer readable', 'data', 'data according', 'data calculation', 'data determining', 'data indicating', 'data migration', 'data receiving', 'data sending', 'data storage', 'description', 'description information', 'determining', 'determining migrated', 'device', 'device computer', 'discloses', 'discloses data', 'efficiency', 'efficiency improved', 'execution', 'execution module', 'field', 'field data', 'following', 'following step', 'improved', 'indicating', 'indicating calculation', 'indicating data', 'information', 'information migrated', 'information storage', 'instructing', 'instructing task', 'invention', 'invention discloses', 'medium', 'medium relates', 'medium user', 'method', 'method comprises', 'method system', 'migrate', 'migrate migrated', 'migrated', 'migrated data', 'migrateddata', 'migrateddata according', 'migrating', 'migrating data', 'migration', 'migration efficiency', 'migration method', 'migration module', 'migration rule', 'migration scheduling', 'module', 'module analyze', 'module calculate', 'module indicating', 'module migrate', 'operation', 'operation complexity', 'readable', 'readable storage', 'receiving', 'receiving data', 'reduced', 'reduced data', 'relates', 'relates technical', 'rule', 'rule according', 'rule migrateddata', 'scheduling', 'scheduling task', 'sending', 'sending description', 'step', 'step migrating', 'storage', 'storage data', 'storage information', 'storage medium', 'system', 'system device', 'task', 'task execution', 'task instructing', 'technical', 'technical field', 'thedata', 'thedata migration', 'user', 'user operation']\n"
     ]
    },
    {
     "name": "stderr",
     "output_type": "stream",
     "text": [
      "C:\\Users\\HP\\anaconda3\\envs\\Pytorchgpu\\lib\\site-packages\\sklearn\\utils\\deprecation.py:87: FutureWarning: Function get_feature_names is deprecated; get_feature_names is deprecated in 1.0 and will be removed in 1.2. Please use get_feature_names_out instead.\n",
      "  warnings.warn(msg, category=FutureWarning)\n",
      "C:\\Users\\HP\\anaconda3\\envs\\Pytorchgpu\\lib\\site-packages\\sklearn\\utils\\deprecation.py:87: FutureWarning: Function get_feature_names is deprecated; get_feature_names is deprecated in 1.0 and will be removed in 1.2. Please use get_feature_names_out instead.\n",
      "  warnings.warn(msg, category=FutureWarning)\n",
      "C:\\Users\\HP\\anaconda3\\envs\\Pytorchgpu\\lib\\site-packages\\sklearn\\utils\\deprecation.py:87: FutureWarning: Function get_feature_names is deprecated; get_feature_names is deprecated in 1.0 and will be removed in 1.2. Please use get_feature_names_out instead.\n",
      "  warnings.warn(msg, category=FutureWarning)\n"
     ]
    },
    {
     "name": "stdout",
     "output_type": "stream",
     "text": [
      "['according', 'according asymmetric', 'algorithm', 'algorithm using', 'apparatus', 'apparatus including', 'associated', 'associated cryptographic', 'asymmetric', 'asymmetric encryption', 'based', 'based file', 'based identification', 'blockchain', 'blockchain based', 'blockchain hashing', 'blockchain receiving', 'comprising', 'comprising identification', 'comprising interactive', 'computer', 'computer program', 'computer storage', 'cryptographic', 'cryptographic key', 'digest', 'digest according', 'digest signing', 'digital', 'digital digest', 'digital signature', 'element', 'element selecting', 'encoded', 'encoded computer', 'encryption', 'encryption algorithm', 'file', 'file based', 'file blockchain', 'file digital', 'file generate', 'file obtaining', 'file providing', 'file query', 'file querying', 'generate', 'generate digital', 'hashing', 'hashing target', 'identification', 'identification information', 'includes', 'includes receiving', 'including', 'including computer', 'information', 'information user', 'interactive', 'interactive element', 'key', 'key associated', 'key pair', 'medium', 'medium blockchain', 'method', 'method includes', 'methods', 'methods system', 'obtain', 'obtain digital', 'obtaining', 'obtaining target', 'one', 'one method', 'page', 'page comprising', 'page target', 'pair', 'pair obtain', 'private', 'private key', 'program', 'program encoded', 'provided', 'provided one', 'providing', 'providing query', 'public', 'public key', 'query', 'query page', 'query request', 'querying', 'querying provided', 'receiving', 'receiving query', 'receiving user', 'request', 'request comprising', 'request target', 'selecting', 'selecting upload', 'selecting whether', 'signature', 'signature public', 'signature uploading', 'signing', 'signing digital', 'storage', 'storage medium', 'system', 'system apparatus', 'target', 'target file', 'upload', 'upload target', 'uploading', 'uploading target', 'user', 'user selecting', 'user target', 'using', 'using private', 'whether', 'whether upload']\n",
      "['000', '000 part', '005', '005 mass', '100', '100 000', '100 part', '15', '15 part', 'accounting', 'accounting 100', 'accounting part', 'acidic', 'acidic group', 'agent', 'agent compound', 'agent containing', 'agent least', 'agent organic', 'agent thermal', 'alkali', 'alkali soluble', 'alkoxymethyl', 'alkoxymethyl compound', 'amide', 'amide cyclic', 'cause', 'cause decrease', 'composition', 'composition comprises', 'composition including', 'composition unlikely', 'compound', 'compound accounting', 'compound acidic', 'compound cured', 'compound isocyanate', 'compound oxetanyl', 'compound selected', 'compound thermal', 'compound total', 'comprises', 'comprises alkali', 'comprising', 'comprising cured', 'consisting', 'consisting cyclic', 'containing', 'containing alkoxymethyl', 'containing epoxy', 'containing methylol', 'content', 'content compound', 'crosslinking', 'crosslinking agent', 'cured', 'cured film', 'cured product', 'cyclic', 'cyclic amide', 'cyclic urea', 'decrease', 'decrease light', 'derivative', 'derivative thereof', 'emission', 'emission luminance', 'epoxy', 'epoxy compound', 'film', 'film 005', 'film comprising', 'film positive', 'generating', 'generating agent', 'group', 'group consisting', 'group containing', 'high', 'high long', 'including', 'including alkali', 'invention', 'invention provides', 'isocyanate', 'isocyanate compound', 'le', 'le photosensitive', 'le relative', 'least', 'least one', 'light', 'light emission', 'long', 'long term', 'luminance', 'luminance shrinkage', 'mass', 'mass 15', 'mass alkali', 'mass le', 'mass percent', 'mass relative', 'methylol', 'methylol compound', 'one', 'one compound', 'organic', 'organic solvent', 'oxetanyl', 'oxetanyl compound', 'part', 'part mass', 'percent', 'percent le', 'percent mass', 'photoacid', 'photoacid generating', 'photosensitive', 'photosensitive resin', 'pixel', 'pixel high', 'positive', 'positive type', 'product', 'product photosensitive', 'provides', 'provides cured', 'relative', 'relative 100', 'relative thereto', 'reliability', 'reliability invention', 'resin', 'resin composition', 'resin organic', 'resin photoacid', 'selected', 'selected group', 'shrinkage', 'shrinkage pixel', 'soluble', 'soluble resin', 'solvent', 'solvent accounting', 'solvent compound', 'term', 'term reliability', 'thereof', 'thereof thermal', 'thereto', 'thermal', 'thermal crosslinking', 'total', 'total content', 'type', 'type photosensitive', 'unlikely', 'unlikely cause', 'urea', 'urea derivative']\n"
     ]
    },
    {
     "name": "stderr",
     "output_type": "stream",
     "text": [
      "C:\\Users\\HP\\anaconda3\\envs\\Pytorchgpu\\lib\\site-packages\\sklearn\\utils\\deprecation.py:87: FutureWarning: Function get_feature_names is deprecated; get_feature_names is deprecated in 1.0 and will be removed in 1.2. Please use get_feature_names_out instead.\n",
      "  warnings.warn(msg, category=FutureWarning)\n",
      "C:\\Users\\HP\\anaconda3\\envs\\Pytorchgpu\\lib\\site-packages\\sklearn\\utils\\deprecation.py:87: FutureWarning: Function get_feature_names is deprecated; get_feature_names is deprecated in 1.0 and will be removed in 1.2. Please use get_feature_names_out instead.\n",
      "  warnings.warn(msg, category=FutureWarning)\n",
      "C:\\Users\\HP\\anaconda3\\envs\\Pytorchgpu\\lib\\site-packages\\sklearn\\utils\\deprecation.py:87: FutureWarning: Function get_feature_names is deprecated; get_feature_names is deprecated in 1.0 and will be removed in 1.2. Please use get_feature_names_out instead.\n",
      "  warnings.warn(msg, category=FutureWarning)\n",
      "C:\\Users\\HP\\anaconda3\\envs\\Pytorchgpu\\lib\\site-packages\\sklearn\\utils\\deprecation.py:87: FutureWarning: Function get_feature_names is deprecated; get_feature_names is deprecated in 1.0 and will be removed in 1.2. Please use get_feature_names_out instead.\n",
      "  warnings.warn(msg, category=FutureWarning)\n",
      "C:\\Users\\HP\\anaconda3\\envs\\Pytorchgpu\\lib\\site-packages\\sklearn\\utils\\deprecation.py:87: FutureWarning: Function get_feature_names is deprecated; get_feature_names is deprecated in 1.0 and will be removed in 1.2. Please use get_feature_names_out instead.\n",
      "  warnings.warn(msg, category=FutureWarning)\n"
     ]
    },
    {
     "name": "stdout",
     "output_type": "stream",
     "text": [
      "['affecting', 'affecting normal', 'amounting', 'amounting arm', 'arm', 'arm assembly', 'arm form', 'arm sliding', 'arm used', 'arranged', 'arranged door', 'arranged mounting', 'arranged outside', 'ascend', 'ascend descend', 'assembly', 'assembly comprises', 'assembly covering', 'assembly driving', 'block', 'block connected', 'block driven', 'block steel', 'block used', 'cavity', 'cavity vehicle', 'comprises', 'comprises amounting', 'comprises shell', 'connected', 'connected sliding', 'connected steel', 'connected vehicle', 'covering', 'covering manner', 'descend', 'descend shell', 'descend window', 'device', 'device shell', 'device used', 'direction', 'direction driving', 'door', 'door ascend', 'door cavity', 'door drive', 'door glass', 'door inner', 'door vehicle', 'drive', 'drive glass', 'driven', 'driven ascend', 'driven move', 'driving', 'driving device', 'dust', 'dust rainwater', 'effectively', 'effectively prevented', 'environment', 'environment window', 'exterior', 'exterior dust', 'form', 'form sliding', 'glass', 'glass connected', 'glass steel', 'glass vehicle', 'improved', 'improved service', 'improved wear', 'inner', 'inner plate', 'invention', 'invention relates', 'life', 'life prolonged', 'manner', 'manner mounting', 'manner mountingarm', 'mounted', 'mounted shell', 'mounting', 'mounting arm', 'mounting vehicle', 'mountingarm', 'mountingarm sliding', 'move', 'move sliding', 'normal', 'normal work', 'outside', 'outside mounting', 'plate', 'plate mounting', 'prevented', 'prevented affecting', 'prolonged', 'protection', 'protection shell', 'rail', 'rail direction', 'rail sliding', 'rail vehicle', 'rainwater', 'rainwater effectively', 'reduced', 'reduced reliability', 'regulator', 'regulator arranged', 'regulator comprises', 'regulator improved', 'regulator reduced', 'regulator vehicle', 'regulator work', 'relates', 'relates window', 'reliability', 'reliability improved', 'rope', 'rope driven', 'rope mounted', 'rope mounting', 'rope sliding', 'service', 'service life', 'shell', 'shell arranged', 'shell exterior', 'shell mounting', 'shell protection', 'sliding', 'sliding block', 'sliding rail', 'steel', 'steel rope', 'unwinding', 'unwinding steel', 'used', 'used connected', 'used mounting', 'used winding', 'vehicle', 'vehicle door', 'vehicle window', 'wear', 'wear window', 'winding', 'winding unwinding', 'window', 'window regulator', 'work', 'work environment', 'work window']\n",
      "['11', '11 capable', '11 comprising', '11a', '11a body', '11a handle', '11a usage', '14', '14 provided', '14 storage', '61', '61 holding', 'body', 'body case', 'body handle', 'body inverted', 'body upright', 'capable', 'capable moved', 'case', 'case 11', 'cleaner', 'cleaner body', 'cleaner comprises', 'cleaner movable', 'cleaner used', 'comprises', 'comprises body', 'comprising', 'comprising handle', 'electric', 'electric vacuum', 'etc', 'etc electric', 'even', 'even vacuum', 'handle', 'handle 14', 'handle holding', 'handle removed', 'handle retracted', 'handle stored', 'handle storing', 'holding', 'holding body', 'holding mechanism', 'inverted', 'inverted state', 'mechanism', 'mechanism 61', 'movable', 'movable handle', 'moved', 'moved storage', 'non', 'non obtrusive', 'obtrusive', 'obtrusive position', 'position', 'position even', 'position handle', 'provided', 'provided body', 'provided electric', 'recess', 'recess 11a', 'removed', 'removed handle', 'retracted', 'retracted handle', 'state', 'state etc', 'state vacuum', 'storage', 'storage position', 'stored', 'stored non', 'storing', 'storing recess', 'upright', 'upright state', 'usage', 'usage position', 'used', 'used vacuum', 'vacuum', 'vacuum cleaner']\n"
     ]
    },
    {
     "name": "stderr",
     "output_type": "stream",
     "text": [
      "C:\\Users\\HP\\anaconda3\\envs\\Pytorchgpu\\lib\\site-packages\\sklearn\\utils\\deprecation.py:87: FutureWarning: Function get_feature_names is deprecated; get_feature_names is deprecated in 1.0 and will be removed in 1.2. Please use get_feature_names_out instead.\n",
      "  warnings.warn(msg, category=FutureWarning)\n",
      "C:\\Users\\HP\\anaconda3\\envs\\Pytorchgpu\\lib\\site-packages\\sklearn\\utils\\deprecation.py:87: FutureWarning: Function get_feature_names is deprecated; get_feature_names is deprecated in 1.0 and will be removed in 1.2. Please use get_feature_names_out instead.\n",
      "  warnings.warn(msg, category=FutureWarning)\n",
      "C:\\Users\\HP\\anaconda3\\envs\\Pytorchgpu\\lib\\site-packages\\sklearn\\utils\\deprecation.py:87: FutureWarning: Function get_feature_names is deprecated; get_feature_names is deprecated in 1.0 and will be removed in 1.2. Please use get_feature_names_out instead.\n",
      "  warnings.warn(msg, category=FutureWarning)\n"
     ]
    },
    {
     "name": "stdout",
     "output_type": "stream",
     "text": [
      "['applied', 'applied flexible', 'battery', 'battery good', 'belongs', 'belongs technical', 'calcination', 'calcination obtain', 'carrying', 'carrying high', 'ceramic', 'ceramic fabric', 'certain', 'certain type', 'cleaned', 'cleaned silk', 'composite', 'composite solid', 'comprises', 'comprises following', 'conductive', 'conductive lithium', 'device', 'device material', 'electrochemical', 'electrochemical performance', 'electrolyte', 'electrolyte material', 'electrolyte polymer', 'electrolyte taking', 'energy', 'energy storage', 'fabric', 'fabric composite', 'fabric finally', 'fabric metal', 'fabric precursor', 'fabric sacrificial', 'field', 'field energy', 'finally', 'finally pouring', 'firstly', 'firstly preparing', 'flexibility', 'flexible', 'flexible solid', 'following', 'following step', 'good', 'good electrochemical', 'high', 'high temperature', 'invention', 'invention relates', 'ion', 'ion precursor', 'lithium', 'lithium battery', 'lithium salt', 'material', 'material applied', 'material particularly', 'material preparation', 'mechanical', 'mechanical flexibility', 'metal', 'metal ion', 'method', 'method comprises', 'method energy', 'method preparing', 'obtain', 'obtain oxide', 'oxide', 'oxide type', 'particularly', 'particularly relates', 'performance', 'performance mechanical', 'polymer', 'polymer conductive', 'polymer electrolyte', 'pouring', 'pouring polymer', 'precursor', 'precursor solution', 'preparation', 'preparation method', 'preparation preparation', 'preparing', 'preparing certain', 'preparing oxide', 'relates', 'relates method', 'relates preparation', 'sacrificial', 'sacrificial template', 'salt', 'salt system', 'silk', 'silk fabric', 'soaking', 'soaking cleaned', 'solid', 'solid electrolyte', 'solid state', 'solution', 'solution carrying', 'solution soaking', 'state', 'state lithium', 'step', 'step firstly', 'storage', 'storage system', 'system', 'system device', 'system obtain', 'taking', 'taking silk', 'technical', 'technical field', 'temperature', 'temperature calcination', 'template', 'template belongs', 'type', 'type ceramic', 'type oxide']\n",
      "['barrel', 'barrel interior', 'barrel lumen', 'barrel slideably', 'bodily', 'bodily fluid', 'characteristic', 'characteristic bodily', 'communicative', 'communicative path', 'drawn', 'drawn first', 'exposed', 'exposed bodily', 'exterior', 'exterior first', 'first', 'first barrel', 'first second', 'fluid', 'fluid drawn', 'fluid test', 'fluidly', 'fluidly communicative', 'form', 'form respective', 'hub', 'hub first', 'hub orifice', 'indicator', 'indicator first', 'indicator positioned', 'indicator responsive', 'interior', 'interior surface', 'least', 'least one', 'lumen', 'lumen optional', 'lumen slider', 'lumen visible', 'movement', 'movement therein', 'one', 'one characteristic', 'operable', 'operable provide', 'optional', 'optional test', 'orifice', 'orifice first', 'orifice hub', 'path', 'path orifice', 'plunger', 'plunger movement', 'positioned', 'positioned exposed', 'provide', 'provide fluidly', 'provided', 'provided hub', 'receive', 'receive respective', 'respective', 'respective first', 'respective lumen', 'responsive', 'responsive least', 'second', 'second barrel', 'second plunger', 'slideably', 'slideably receive', 'slider', 'slider operable', 'slider optional', 'surface', 'surface form', 'syringe', 'syringe provided', 'test', 'test indicator', 'therein', 'therein slider', 'visible', 'visible exterior']\n"
     ]
    },
    {
     "name": "stderr",
     "output_type": "stream",
     "text": [
      "C:\\Users\\HP\\anaconda3\\envs\\Pytorchgpu\\lib\\site-packages\\sklearn\\utils\\deprecation.py:87: FutureWarning: Function get_feature_names is deprecated; get_feature_names is deprecated in 1.0 and will be removed in 1.2. Please use get_feature_names_out instead.\n",
      "  warnings.warn(msg, category=FutureWarning)\n",
      "C:\\Users\\HP\\anaconda3\\envs\\Pytorchgpu\\lib\\site-packages\\sklearn\\utils\\deprecation.py:87: FutureWarning: Function get_feature_names is deprecated; get_feature_names is deprecated in 1.0 and will be removed in 1.2. Please use get_feature_names_out instead.\n",
      "  warnings.warn(msg, category=FutureWarning)\n",
      "C:\\Users\\HP\\anaconda3\\envs\\Pytorchgpu\\lib\\site-packages\\sklearn\\utils\\deprecation.py:87: FutureWarning: Function get_feature_names is deprecated; get_feature_names is deprecated in 1.0 and will be removed in 1.2. Please use get_feature_names_out instead.\n",
      "  warnings.warn(msg, category=FutureWarning)\n"
     ]
    },
    {
     "name": "stdout",
     "output_type": "stream",
     "text": [
      "['achieved', 'achieved meanwhile', 'aesthetic', 'aesthetic finished', 'affected', 'affected crack', 'arranging', 'arranging press', 'automatic', 'automatic multi', 'auxiliary', 'auxiliary specific', 'base', 'base moving', 'block', 'block inner', 'body', 'body base', 'body controller', 'body radiator', 'certain', 'certain difficulty', 'clamped', 'clamped fixed', 'clamped watch', 'comprises', 'comprises drill', 'controller', 'controller drill', 'convenience', 'convenience achieved', 'crack', 'crack due', 'crack generating', 'determining', 'determining position', 'device', 'device automatic', 'device loading', 'difficulty', 'difficulty exists', 'discloses', 'discloses automatic', 'displacement', 'displacement transferring', 'distributed', 'distributed two', 'drill', 'drill device', 'drill floor', 'drill reduced', 'drill rotates', 'drilling', 'drilling machine', 'drilling operation', 'drilling solved', 'due', 'due extrusion', 'due fact', 'edge', 'edge watch', 'exists', 'exists determining', 'extrusion', 'extrusion tension', 'fact', 'fact watch', 'finished', 'finished product', 'fit', 'fit groove', 'fitting', 'fitting line', 'fixed', 'fixed fitting', 'floor', 'floor machine', 'generating', 'generating surface', 'generation', 'generation crack', 'groove', 'groove mechanism', 'high', 'hole', 'hole side', 'inner', 'inner interlayer', 'interaction', 'interaction transferring', 'interlayer', 'interlayer watch', 'invention', 'invention discloses', 'leather', 'leather watch', 'line', 'line distributed', 'line walking', 'loading', 'loading table', 'machine', 'machine automatic', 'machine body', 'machine structurally', 'machine used', 'main', 'main machine', 'meanwhile', 'meanwhile mutual', 'meanwhile probability', 'mechanism', 'mechanism problem', 'moving', 'moving rod', 'multi', 'multi station', 'mutual', 'mutual auxiliary', 'operation', 'operation seam', 'performs', 'performs sliding', 'plate', 'plate block', 'position', 'position targeted', 'press', 'press fit', 'pressing', 'pressing plate', 'probability', 'probability generation', 'problem', 'problem aesthetic', 'product', 'product affected', 'prone', 'prone sliding', 'radiator', 'radiator main', 'reduced', 'reduced thus', 'rod', 'rod body', 'rotates', 'rotates due', 'seam', 'seam line', 'side', 'side edge', 'side leather', 'sliding', 'sliding displacement', 'sliding meanwhile', 'solved', 'solved watch', 'specific', 'specific pressing', 'station', 'station drilling', 'strap', 'strap certain', 'strap clamped', 'strap drill', 'strap performs', 'strap prone', 'strap subjected', 'structurally', 'structurally comprises', 'subjected', 'subjected drilling', 'surface', 'surface watch', 'table', 'table convenience', 'targeted', 'targeted drilling', 'tension', 'tension drill', 'thus', 'thus yield', 'transferring', 'transferring device', 'transferring interaction', 'two', 'two side', 'used', 'used arranging', 'walking', 'walking hole', 'watch', 'watch strap', 'yield', 'yield high']\n"
     ]
    },
    {
     "name": "stderr",
     "output_type": "stream",
     "text": [
      "C:\\Users\\HP\\anaconda3\\envs\\Pytorchgpu\\lib\\site-packages\\sklearn\\utils\\deprecation.py:87: FutureWarning: Function get_feature_names is deprecated; get_feature_names is deprecated in 1.0 and will be removed in 1.2. Please use get_feature_names_out instead.\n",
      "  warnings.warn(msg, category=FutureWarning)\n",
      "C:\\Users\\HP\\anaconda3\\envs\\Pytorchgpu\\lib\\site-packages\\sklearn\\utils\\deprecation.py:87: FutureWarning: Function get_feature_names is deprecated; get_feature_names is deprecated in 1.0 and will be removed in 1.2. Please use get_feature_names_out instead.\n",
      "  warnings.warn(msg, category=FutureWarning)\n",
      "C:\\Users\\HP\\anaconda3\\envs\\Pytorchgpu\\lib\\site-packages\\sklearn\\utils\\deprecation.py:87: FutureWarning: Function get_feature_names is deprecated; get_feature_names is deprecated in 1.0 and will be removed in 1.2. Please use get_feature_names_out instead.\n",
      "  warnings.warn(msg, category=FutureWarning)\n",
      "C:\\Users\\HP\\anaconda3\\envs\\Pytorchgpu\\lib\\site-packages\\sklearn\\utils\\deprecation.py:87: FutureWarning: Function get_feature_names is deprecated; get_feature_names is deprecated in 1.0 and will be removed in 1.2. Please use get_feature_names_out instead.\n",
      "  warnings.warn(msg, category=FutureWarning)\n"
     ]
    },
    {
     "name": "stdout",
     "output_type": "stream",
     "text": [
      "['allocated', 'allocated one', 'associated', 'associated resource', 'based', 'based downlink', 'blind', 'blind detection', 'candidate', 'candidate resource', 'channel', 'channel network', 'control', 'control channel', 'control information', 'data', 'data transmission', 'data transmitted', 'detection', 'detection data', 'determines', 'determines downlink', 'device', 'device determines', 'device downlink', 'device enable', 'device network', 'device perform', 'device transmits', 'disclosure', 'disclosure generally', 'downlink', 'downlink control', 'embodiments', 'embodiments disclosure', 'enable', 'enable terminal', 'generally', 'generally relate', 'includes', 'includes plurality', 'information', 'information associated', 'information includes', 'information terminal', 'network', 'network device', 'one', 'one terminal', 'perform', 'perform blind', 'plurality', 'plurality candidate', 'region', 'region allocated', 'region based', 'relate', 'relate transmission', 'resource', 'resource region', 'resource set', 'set', 'set data', 'terminal', 'terminal device', 'transmission', 'transmission downlink', 'transmission terminal', 'transmits', 'transmits downlink', 'transmitted', 'transmitted resource']\n",
      "['back', 'back electrode', 'bphen', 'bphen interface', 'cell', 'cell excellent', 'cell preparation', 'chloride', 'chloride interface', 'composite', 'composite layer', 'comprises', 'comprises following', 'conversion', 'conversion efficiency', 'efficiency', 'electrode', 'electrode preparing', 'electrode silicon', 'excellent', 'excellent photoelectric', 'film', 'film preparing', 'following', 'following step', 'front', 'front grid', 'grid', 'grid electrode', 'heterojunction', 'heterojunction solar', 'interface', 'interface layer', 'interface modified', 'invention', 'invention relates', 'layer', 'layer preparing', 'method', 'method comprises', 'method thereof', 'modified', 'modified film', 'ometad', 'ometad composite', 'passivating', 'passivating type', 'pedot', 'pedot pss', 'photoelectric', 'photoelectric conversion', 'preparation', 'preparation method', 'preparing', 'preparing back', 'preparing bphen', 'preparing front', 'preparing pedot', 'preparing spiro', 'preparing strontium', 'pss', 'pss composite', 'relates', 'relates silicon', 'silicon', 'silicon heterojunction', 'silicon wafer', 'solar', 'solar cell', 'spiro', 'spiro ometad', 'step', 'step texturing', 'strontium', 'strontium chloride', 'texturing', 'texturing type', 'thereof', 'thereof preparation', 'type', 'type silicon', 'wafer', 'wafer passivating', 'wafer preparing']\n"
     ]
    },
    {
     "name": "stderr",
     "output_type": "stream",
     "text": [
      "C:\\Users\\HP\\anaconda3\\envs\\Pytorchgpu\\lib\\site-packages\\sklearn\\utils\\deprecation.py:87: FutureWarning: Function get_feature_names is deprecated; get_feature_names is deprecated in 1.0 and will be removed in 1.2. Please use get_feature_names_out instead.\n",
      "  warnings.warn(msg, category=FutureWarning)\n",
      "C:\\Users\\HP\\anaconda3\\envs\\Pytorchgpu\\lib\\site-packages\\sklearn\\utils\\deprecation.py:87: FutureWarning: Function get_feature_names is deprecated; get_feature_names is deprecated in 1.0 and will be removed in 1.2. Please use get_feature_names_out instead.\n",
      "  warnings.warn(msg, category=FutureWarning)\n",
      "C:\\Users\\HP\\anaconda3\\envs\\Pytorchgpu\\lib\\site-packages\\sklearn\\utils\\deprecation.py:87: FutureWarning: Function get_feature_names is deprecated; get_feature_names is deprecated in 1.0 and will be removed in 1.2. Please use get_feature_names_out instead.\n",
      "  warnings.warn(msg, category=FutureWarning)\n",
      "C:\\Users\\HP\\anaconda3\\envs\\Pytorchgpu\\lib\\site-packages\\sklearn\\utils\\deprecation.py:87: FutureWarning: Function get_feature_names is deprecated; get_feature_names is deprecated in 1.0 and will be removed in 1.2. Please use get_feature_names_out instead.\n",
      "  warnings.warn(msg, category=FutureWarning)\n"
     ]
    },
    {
     "name": "stdout",
     "output_type": "stream",
     "text": [
      "['aforementioned', 'aforementioned step', 'bending', 'bending discharging', 'bending glass', 'bent', 'bent mounted', 'carried', 'carried cyclical', 'cyclical', 'cyclical manner', 'device', 'device removing', 'discharging', 'discharging bent', 'furnace', 'furnace bending', 'furnace inlet', 'furnace wherein', 'furnace withdrawing', 'glass', 'glass pane', 'includes', 'includes providing', 'inlet', 'inlet furnace', 'inlet outlet', 'installing', 'installing thermal', 'insulation', 'insulation mounting', 'insulation prior', 'insulation using', 'introducing', 'introducing mounted', 'manner', 'method', 'method bending', 'mounted', 'mounted glass', 'mounting', 'mounting installing', 'mounting preheated', 'mounting returning', 'mounting thermal', 'mounting wherein', 'outlet', 'outlet furnace', 'outlet includes', 'pane', 'pane furnace', 'pane inlet', 'pane mounting', 'pane outlet', 'preheated', 'preheated introducing', 'prior', 'prior renewed', 'providing', 'providing glass', 'removing', 'removing thermal', 'renewed', 'renewed mounting', 'returning', 'returning mounting', 'step', 'step carried', 'thermal', 'thermal insulation', 'transport', 'transport device', 'using', 'using transport', 'wherein', 'wherein aforementioned', 'wherein furnace', 'wherein mounting', 'withdrawing', 'withdrawing bent']\n",
      "['also', 'also relates', 'automatically', 'automatically control', 'cause', 'cause communication', 'cluster', 'cluster invention', 'communicating', 'communicating electronic', 'communication', 'communication method', 'comprises', 'comprises processing', 'comprising', 'comprising device', 'comprising instruction', 'control', 'control propagation', 'cooperating', 'cooperating program', 'creation', 'creation cluster', 'device', 'device communicating', 'device comprises', 'device implementing', 'device making', 'dynamically', 'dynamically automatically', 'electronic', 'electronic device', 'enrollment', 'enrollment message', 'execution', 'execution interpretation', 'implemented', 'implementing', 'implementing said', 'instruction', 'instruction program', 'interpretation', 'interpretation said', 'invention', 'invention also', 'invention relates', 'making', 'making possible', 'memory', 'memory comprising', 'message', 'message creation', 'method', 'method implemented', 'method system', 'method within', 'network', 'network wireless', 'possible', 'possible dynamically', 'processing', 'processing unit', 'program', 'program execution', 'program memory', 'propagation', 'propagation enrollment', 'relates', 'relates communication', 'relates electronic', 'said', 'said communication', 'said processing', 'system', 'system comprising', 'unit', 'unit cause', 'unit cooperating', 'wireless', 'wireless communicating', 'within', 'within network']\n"
     ]
    },
    {
     "name": "stderr",
     "output_type": "stream",
     "text": [
      "C:\\Users\\HP\\anaconda3\\envs\\Pytorchgpu\\lib\\site-packages\\sklearn\\utils\\deprecation.py:87: FutureWarning: Function get_feature_names is deprecated; get_feature_names is deprecated in 1.0 and will be removed in 1.2. Please use get_feature_names_out instead.\n",
      "  warnings.warn(msg, category=FutureWarning)\n",
      "C:\\Users\\HP\\anaconda3\\envs\\Pytorchgpu\\lib\\site-packages\\sklearn\\utils\\deprecation.py:87: FutureWarning: Function get_feature_names is deprecated; get_feature_names is deprecated in 1.0 and will be removed in 1.2. Please use get_feature_names_out instead.\n",
      "  warnings.warn(msg, category=FutureWarning)\n",
      "C:\\Users\\HP\\anaconda3\\envs\\Pytorchgpu\\lib\\site-packages\\sklearn\\utils\\deprecation.py:87: FutureWarning: Function get_feature_names is deprecated; get_feature_names is deprecated in 1.0 and will be removed in 1.2. Please use get_feature_names_out instead.\n",
      "  warnings.warn(msg, category=FutureWarning)\n",
      "C:\\Users\\HP\\anaconda3\\envs\\Pytorchgpu\\lib\\site-packages\\sklearn\\utils\\deprecation.py:87: FutureWarning: Function get_feature_names is deprecated; get_feature_names is deprecated in 1.0 and will be removed in 1.2. Please use get_feature_names_out instead.\n",
      "  warnings.warn(msg, category=FutureWarning)\n"
     ]
    },
    {
     "name": "stdout",
     "output_type": "stream",
     "text": [
      "['administering', 'administering one', 'administering sap', 'administration', 'administration anti', 'agent', 'agent certain', 'agonist', 'agonist certain', 'agonist optionally', 'amyloid', 'amyloid protein', 'anti', 'anti cancer', 'aspect', 'aspect disclosure', 'aspect method', 'cancer', 'cancer administering', 'cancer therapeutic', 'certain', 'certain aspect', 'chemotherapeutic', 'chemotherapeutic agent', 'comprises', 'comprises conjoint', 'conjoint', 'conjoint administration', 'disclosure', 'disclosure relates', 'fibrotic', 'fibrotic cancer', 'method', 'method comprises', 'method treating', 'myelofibrosis', 'myelofibrosis administering', 'one', 'one anti', 'one serum', 'optionally', 'optionally one', 'part', 'part disclosure', 'protein', 'protein sap', 'relates', 'relates method', 'sap', 'sap agonist', 'serum', 'serum amyloid', 'therapeutic', 'therapeutic agent', 'therapeutic chemotherapeutic', 'treating', 'treating fibrotic', 'treating myelofibrosis']\n",
      "['according', 'according intelligent', 'adjust', 'adjust shooting', 'adjusted', 'adjusted intelligence', 'adjustment', 'adjustment based', 'adjustment parameter', 'analyze', 'analyze first', 'automatically', 'automatically adjusted', 'based', 'based adjustment', 'basedon', 'basedon related', 'collectthe', 'collectthe first', 'comprises', 'comprises intelligent', 'configured', 'configured collectthe', 'configured perform', 'configured shoot', 'control', 'control device', 'control method', 'control system', 'cost', 'cost saved', 'determine', 'determine adjustment', 'device', 'device comprises', 'device intelligent', 'device shooting', 'discloses', 'discloses intelligent', 'embodiment', 'embodiment invention', 'environment', 'environment automatically', 'environment determine', 'environment obtain', 'environment second', 'environment send', 'environment shoot', 'environment target', 'first', 'first image', 'first shooting', 'image', 'image according', 'image intelligent', 'image obtain', 'image shooting', 'information', 'information first', 'intelligence', 'intelligence shooting', 'intelligent', 'intelligent control', 'intelligent shooting', 'invention', 'invention discloses', 'labor', 'labor cost', 'located', 'located first', 'method', 'method intelligent', 'obtain', 'obtain first', 'obtain related', 'obtain second', 'parameter', 'parameter adjust', 'parameter shooting', 'perform', 'perform adjustment', 'process', 'process realized', 'realized', 'realized labor', 'related', 'related information', 'saved', 'second', 'second image', 'second shooting', 'second shootingenvironment', 'send', 'send adjustment', 'shoot', 'shoot target', 'shooting', 'shooting device', 'shooting environment', 'shooting process', 'shooting system', 'shootingenvironment', 'shootingenvironment obtain', 'system', 'system analyze', 'system basedon', 'system configured', 'system shooting', 'target', 'target first', 'target located', 'target second']\n"
     ]
    },
    {
     "name": "stderr",
     "output_type": "stream",
     "text": [
      "C:\\Users\\HP\\anaconda3\\envs\\Pytorchgpu\\lib\\site-packages\\sklearn\\utils\\deprecation.py:87: FutureWarning: Function get_feature_names is deprecated; get_feature_names is deprecated in 1.0 and will be removed in 1.2. Please use get_feature_names_out instead.\n",
      "  warnings.warn(msg, category=FutureWarning)\n",
      "C:\\Users\\HP\\anaconda3\\envs\\Pytorchgpu\\lib\\site-packages\\sklearn\\utils\\deprecation.py:87: FutureWarning: Function get_feature_names is deprecated; get_feature_names is deprecated in 1.0 and will be removed in 1.2. Please use get_feature_names_out instead.\n",
      "  warnings.warn(msg, category=FutureWarning)\n",
      "C:\\Users\\HP\\anaconda3\\envs\\Pytorchgpu\\lib\\site-packages\\sklearn\\utils\\deprecation.py:87: FutureWarning: Function get_feature_names is deprecated; get_feature_names is deprecated in 1.0 and will be removed in 1.2. Please use get_feature_names_out instead.\n",
      "  warnings.warn(msg, category=FutureWarning)\n"
     ]
    },
    {
     "name": "stdout",
     "output_type": "stream",
     "text": [
      "['associated', 'associated system', 'automatically', 'automatically selectable', 'automatically switched', 'change', 'change one', 'chromatography', 'chromatography system', 'comprises', 'comprises pump', 'coupled', 'coupled pump', 'different', 'different automatically', 'dispersion', 'dispersion volume', 'exit', 'exit first', 'first', 'first position', 'first valve', 'flow', 'flow gradient', 'fluidically', 'fluidically coupled', 'gradient', 'gradient exit', 'gradient pump', 'gradient sample', 'gradient valve', 'includes', 'includes least', 'including', 'including inlet', 'inlet', 'inlet port', 'introducing', 'introducing sample', 'least', 'least one', 'least two', 'manager', 'manager fluidically', 'manager includes', 'manager introducing', 'manager valve', 'one', 'one system', 'one valve', 'operating', 'operating change', 'outlet', 'outlet port', 'plurality', 'plurality port', 'port', 'port flow', 'port including', 'port receives', 'position', 'position first', 'position least', 'position operating', 'pump', 'pump outlet', 'pump pumping', 'pump sample', 'pumping', 'pumping flow', 'receives', 'receives flow', 'sample', 'sample dispersion', 'sample flow', 'sample manager', 'selectable', 'selectable position', 'switched', 'switched first', 'system', 'system associated', 'system comprises', 'system first', 'system sample', 'system volume', 'two', 'two different', 'valve', 'valve automatically', 'valve first', 'valve least', 'valve manager', 'valve plurality', 'volume', 'volume chromatography', 'volume sample']\n",
      "['air', 'air blowing', 'arc', 'arc part', 'arranged', 'arranged base', 'arranged movable', 'arranged namely', 'automatic', 'automatic driving', 'automatically', 'automatically rotate', 'automobile', 'automobile driving', 'automobile seat', 'back', 'back hinged', 'back leveled', 'back rotates', 'base', 'base fixedly', 'base seat', 'blowing', 'blowing mechanism', 'body', 'body automatically', 'body base', 'body conveniently', 'body first', 'body gradually', 'body hinged', 'body one', 'comprises', 'comprises seat', 'comprises slide', 'containing', 'containing groove', 'conveniently', 'conveniently seat', 'cylinder', 'cylinder headrest', 'device', 'device comprises', 'device especially', 'discloses', 'discloses automatic', 'driver', 'driver isguaranteed', 'driver rest', 'driving', 'driving automobile', 'driving position', 'ejection', 'ejection mechanism', 'end', 'end base', 'end seat', 'enters', 'enters containing', 'especially', 'especially relates', 'experience', 'experience driver', 'field', 'field automobile', 'finally', 'finally enters', 'first', 'first arc', 'first ejection', 'first sliding', 'fixedly', 'fixedly arranged', 'friendly', 'friendly good', 'good', 'good experience', 'gradually', 'gradually rotate', 'groove', 'groove driver', 'groove finally', 'groove first', 'groove manual', 'groove second', 'headrest', 'headrest body', 'headrest mechanism', 'headrest user', 'hinged', 'hinged one', 'hydraulic', 'hydraulic cylinder', 'interior', 'interior containing', 'invention', 'invention discloses', 'isguaranteed', 'leveled', 'leveled second', 'manual', 'manual operation', 'mechanism', 'mechanism air', 'mechanism arranged', 'mechanism containing', 'mechanism second', 'mechanism transmission', 'movable', 'movable part', 'namely', 'namely seat', 'needed', 'needed headrest', 'one', 'one end', 'operation', 'operation people', 'part', 'part headrest', 'part second', 'part slide', 'people', 'people needed', 'position', 'position seat', 'rail', 'rail base', 'rail seat', 'relates', 'relates technical', 'rest', 'rest headrest', 'rotate', 'rotate containing', 'rotate towards', 'rotates', 'rotates upwards', 'seat', 'seat arranged', 'seat back', 'seat body', 'seat comprises', 'seat device', 'second', 'second arc', 'second ejection', 'second hydraulic', 'second sliding', 'slide', 'slide rail', 'sliding', 'sliding groove', 'technical', 'technical field', 'towards', 'towards interior', 'transmission', 'transmission mechanism', 'upwards', 'upwards headrest', 'user', 'user friendly']\n"
     ]
    },
    {
     "name": "stderr",
     "output_type": "stream",
     "text": [
      "C:\\Users\\HP\\anaconda3\\envs\\Pytorchgpu\\lib\\site-packages\\sklearn\\utils\\deprecation.py:87: FutureWarning: Function get_feature_names is deprecated; get_feature_names is deprecated in 1.0 and will be removed in 1.2. Please use get_feature_names_out instead.\n",
      "  warnings.warn(msg, category=FutureWarning)\n",
      "C:\\Users\\HP\\anaconda3\\envs\\Pytorchgpu\\lib\\site-packages\\sklearn\\utils\\deprecation.py:87: FutureWarning: Function get_feature_names is deprecated; get_feature_names is deprecated in 1.0 and will be removed in 1.2. Please use get_feature_names_out instead.\n",
      "  warnings.warn(msg, category=FutureWarning)\n",
      "C:\\Users\\HP\\anaconda3\\envs\\Pytorchgpu\\lib\\site-packages\\sklearn\\utils\\deprecation.py:87: FutureWarning: Function get_feature_names is deprecated; get_feature_names is deprecated in 1.0 and will be removed in 1.2. Please use get_feature_names_out instead.\n",
      "  warnings.warn(msg, category=FutureWarning)\n",
      "C:\\Users\\HP\\anaconda3\\envs\\Pytorchgpu\\lib\\site-packages\\sklearn\\utils\\deprecation.py:87: FutureWarning: Function get_feature_names is deprecated; get_feature_names is deprecated in 1.0 and will be removed in 1.2. Please use get_feature_names_out instead.\n",
      "  warnings.warn(msg, category=FutureWarning)\n",
      "C:\\Users\\HP\\anaconda3\\envs\\Pytorchgpu\\lib\\site-packages\\sklearn\\utils\\deprecation.py:87: FutureWarning: Function get_feature_names is deprecated; get_feature_names is deprecated in 1.0 and will be removed in 1.2. Please use get_feature_names_out instead.\n",
      "  warnings.warn(msg, category=FutureWarning)\n"
     ]
    },
    {
     "name": "stdout",
     "output_type": "stream",
     "text": [
      "['55', '55 lb', '75', '75 percent', '880', '880 kg', 'absorbance', 'absorbance light', 'absorbency', 'absorbency based', 'absorbency greater', 'absorption', 'absorption solidification', 'amendment', 'animal', 'animal litter', 'based', 'based rule', 'blend', 'blend discrete', 'clump', 'clump strength', 'component', 'component greater', 'composition', 'composition comprising', 'composition exhibit', 'comprising', 'comprising diatomaceous', 'comprising physical', 'density', 'density high', 'density may', 'diatomaceous', 'diatomaceous earth', 'discrete', 'discrete particulate', 'dustiness', 'dustiness suitable', 'earth', 'earth may', 'exhibit', 'exhibit synergistic', 'expected', 'expected absorbency', 'ft', 'ft composition', 'greater', 'greater 75', 'greater expected', 'greater individual', 'high', 'high clump', 'household', 'household absorption', 'individual', 'individual component', 'industrial', 'industrial household', 'kg', 'kg 55', 'lb', 'lb ft', 'le', 'le 880', 'light', 'light density', 'liquid', 'liquid absorbency', 'litter', 'litter soil', 'low', 'low dustiness', 'may', 'may clump', 'may le', 'mixture', 'mixture composition', 'particulate', 'particulate liquid', 'percent', 'percent thy', 'physical', 'physical blend', 'rule', 'rule mixture', 'soil', 'soil amendment', 'solidification', 'solidification animal', 'strength', 'strength greater', 'strength low', 'suitable', 'suitable industrial', 'synergistic', 'synergistic absorbance', 'thy', 'thy density']\n",
      "['adjusted', 'adjusted test', 'automatically', 'automatically brush', 'automatically clean', 'automatically convey', 'base', 'base plate', 'biochemistry', 'biochemistry device', 'body', 'body fixed', 'body lifting', 'body test', 'box', 'box body', 'box conveying', 'box placing', 'brush', 'brush test', 'brushing', 'brushing device', 'clean', 'clean test', 'cleaning', 'cleaning box', 'cleaning device', 'cleaningbox', 'cleaningbox conveying', 'connected', 'connected fixed', 'connected fixedbox', 'connected lifting', 'control', 'control device', 'convey', 'convey test', 'conveying', 'conveying device', 'device', 'device adjusted', 'device automatically', 'device biochemistry', 'device connected', 'device device', 'device lifted', 'device particular', 'fixed', 'fixed base', 'fixed box', 'fixedbox', 'fixedbox body', 'height', 'height test', 'invention', 'invention relates', 'lifted', 'lifted device', 'lifting', 'lifting control', 'lifting device', 'move', 'move brushing', 'moving', 'moving device', 'multifunctional', 'multifunctional test', 'particular', 'particular multifunctional', 'placing', 'placing plate', 'plate', 'plate connected', 'plate device', 'plate lifting', 'plate moving', 'plate test', 'relates', 'relates biochemistry', 'test', 'test tube', 'tube', 'tube automatically', 'tube box', 'tube brushing', 'tube cleaning', 'tube cleaningbox', 'tube height', 'tube move']\n"
     ]
    },
    {
     "name": "stderr",
     "output_type": "stream",
     "text": [
      "C:\\Users\\HP\\anaconda3\\envs\\Pytorchgpu\\lib\\site-packages\\sklearn\\utils\\deprecation.py:87: FutureWarning: Function get_feature_names is deprecated; get_feature_names is deprecated in 1.0 and will be removed in 1.2. Please use get_feature_names_out instead.\n",
      "  warnings.warn(msg, category=FutureWarning)\n",
      "C:\\Users\\HP\\anaconda3\\envs\\Pytorchgpu\\lib\\site-packages\\sklearn\\utils\\deprecation.py:87: FutureWarning: Function get_feature_names is deprecated; get_feature_names is deprecated in 1.0 and will be removed in 1.2. Please use get_feature_names_out instead.\n",
      "  warnings.warn(msg, category=FutureWarning)\n"
     ]
    },
    {
     "name": "stdout",
     "output_type": "stream",
     "text": [
      "['adjacent', 'adjacent punching', 'along', 'along circumferential', 'annular', 'annular groove', 'anti', 'anti theft', 'arranged', 'arranged lower', 'art', 'art safety', 'bottom', 'bottom annular', 'bridge', 'bridge cap', 'bridge safe', 'cap', 'cap comprises', 'cap effectively', 'cap prior', 'cap safe', 'cap top', 'cap uncapping', 'cap wall', 'circumferential', 'circumferential direction', 'comprises', 'comprises cap', 'connected', 'connected cap', 'convex', 'convex ring', 'cylindrical', 'cylindrical cap', 'direction', 'direction cap', 'discloses', 'discloses safe', 'downward', 'downward extending', 'edge', 'edge cap', 'effectively', 'effectively solves', 'extending', 'extending outer', 'form', 'form anti', 'form bridge', 'form punching', 'formed', 'formed downward', 'formed groove', 'formed position', 'greatly', 'greatly improved', 'groove', 'groove along', 'groove bottom', 'groove formed', 'high', 'hurt', 'hurt uncapping', 'improved', 'improved practical', 'incline', 'incline inwards', 'invention', 'invention discloses', 'inwards', 'inwards form', 'lower', 'lower part', 'open', 'open cap', 'opening', 'opening bridge', 'opening form', 'opening penetrating', 'operator', 'operator prone', 'outer', 'outer edge', 'parallel', 'parallel surround', 'part', 'part cap', 'penetrating', 'penetrating cap', 'plurality', 'plurality shaped', 'position', 'position two', 'practical', 'practical value', 'prior', 'prior art', 'problem', 'problem operator', 'process', 'process greatly', 'process twist', 'prone', 'prone hurt', 'punching', 'punching opening', 'ring', 'ring anti', 'ring connected', 'ring parallel', 'ring plurality', 'safe', 'safe twist', 'safety', 'safety twist', 'shaped', 'shaped slit', 'side', 'side shaped', 'slit', 'slit formed', 'slit incline', 'solves', 'solves problem', 'surround', 'surround cap', 'theft', 'theft ring', 'top', 'top cylindrical', 'top wherein', 'twist', 'twist open', 'two', 'two convex', 'uncapping', 'uncapping process', 'upper', 'upper side', 'value', 'value high', 'wall', 'wall adjacent', 'wall annular', 'wall arranged', 'wall cap', 'wall formed', 'wall punching', 'wall upper', 'wherein', 'wherein two']\n"
     ]
    },
    {
     "name": "stderr",
     "output_type": "stream",
     "text": [
      "C:\\Users\\HP\\anaconda3\\envs\\Pytorchgpu\\lib\\site-packages\\sklearn\\utils\\deprecation.py:87: FutureWarning: Function get_feature_names is deprecated; get_feature_names is deprecated in 1.0 and will be removed in 1.2. Please use get_feature_names_out instead.\n",
      "  warnings.warn(msg, category=FutureWarning)\n",
      "C:\\Users\\HP\\anaconda3\\envs\\Pytorchgpu\\lib\\site-packages\\sklearn\\utils\\deprecation.py:87: FutureWarning: Function get_feature_names is deprecated; get_feature_names is deprecated in 1.0 and will be removed in 1.2. Please use get_feature_names_out instead.\n",
      "  warnings.warn(msg, category=FutureWarning)\n"
     ]
    },
    {
     "name": "stdout",
     "output_type": "stream",
     "text": [
      "['21', '21 pivot', '23', '23 connected', '24', '24 vibration', '25', '25 clutch', '26', '26 rotating', '26 vibration', '262', '262 threaded', '263', '263 267', '266', '266 thereby', '267', '267 allowing', '268', '268 retracts', '268 rotated', '30', '30 drive', '31', '31 connected', '33', '33 adjust', '34', '34 alters', '36', '36 polishing', '38', '38 open', '3a', '3a operate', 'adjust', 'adjust distance', 'allowing', 'allowing clutch', 'also', 'also cooling', 'alters', 'alters spacing', 'apparatus', 'apparatus cast', 'apparatus drive', 'apparatus fixing', 'apparatus polishing', 'apparatus working', 'away', 'away clutch', 'bearing', 'bearing traction', 'block', 'block 23', 'block 263', 'block cam', 'blocking', 'blocking plate', 'blowing', 'blowing metal', 'cam', 'cam 33', 'cast', 'cast moulded', 'clutch', 'clutch place', 'clutch plate', 'clutch slid', 'clutch whilst', 'clutches', 'clutches may', 'connected', 'connected extrusion', 'connected working', 'connecting', 'connecting rod', 'cooling', 'cooling clutches', 'damper', 'damper plate', 'distance', 'distance sliding', 'drive', 'drive connecting', 'drive gear', 'extrusion', 'extrusion block', 'fan', 'fan 3a', 'filing', 'filing away', 'fix', 'fix clutch', 'fixed', 'fixed rod', 'fixing', 'fixing apparatus', 'gear', 'gear 24', 'gear 30', 'installation', 'installation panel', 'lath', 'lath 34', 'link', 'link 266', 'machining', 'manually', 'manually mounted', 'may', 'may manually', 'metal', 'metal filing', 'moulded', 'moulded clutch', 'mounted', 'mounted onto', 'mounting', 'mounting rod', 'onto', 'onto rod', 'open', 'open fan', 'operate', 'operate blowing', 'panel', 'panel fixing', 'pivot', 'pivot block', 'place', 'place prior', 'plate', 'plate 25', 'plate 36', 'plate 38', 'plate connected', 'plate installation', 'plate mounting', 'plate separate', 'polishing', 'polishing apparatus', 'polishing plate', 'prior', 'prior machining', 'pulling', 'pulling block', 'retracts', 'retracts rotating', 'rod', 'rod 21', 'rod 26', 'rod 268', 'rod 31', 'rotated', 'rotated way', 'rotating', 'rotating link', 'rotating threaded', 'separate', 'separate blocking', 'slid', 'slid tube', 'sliding', 'sliding lath', 'spacing', 'spacing polishing', 'spring', 'spring polishing', 'station', 'station fixed', 'station spring', 'station via', 'thereby', 'thereby pulling', 'threaded', 'threaded rod', 'traction', 'traction gear', 'tube', 'tube 262', 'via', 'via bearing', 'vibration', 'vibration damper', 'way', 'way fix', 'whilst', 'whilst also', 'working', 'working station']\n",
      "['adjustment', 'adjustment based', 'arrival', 'arrival method', 'arrival relative', 'based', 'based calculated', 'calculated', 'calculated time', 'characteristic', 'characteristic reference', 'determination', 'determination machine', 'determination vehicle', 'display', 'display modified', 'instantaneous', 'instantaneous display', 'machine', 'machine performance', 'method', 'method determination', 'method provides', 'modified', 'modified vehicle', 'operator', 'optimum', 'optimum path', 'optimum time', 'path', 'path determination', 'performance', 'performance adjustment', 'provides', 'provides resultant', 'reference', 'reference optimum', 'relative', 'relative optimum', 'resultant', 'resultant instantaneous', 'setting', 'setting operator', 'time', 'time arrival', 'vehicle', 'vehicle characteristic', 'vehicle setting']\n"
     ]
    },
    {
     "name": "stderr",
     "output_type": "stream",
     "text": [
      "C:\\Users\\HP\\anaconda3\\envs\\Pytorchgpu\\lib\\site-packages\\sklearn\\utils\\deprecation.py:87: FutureWarning: Function get_feature_names is deprecated; get_feature_names is deprecated in 1.0 and will be removed in 1.2. Please use get_feature_names_out instead.\n",
      "  warnings.warn(msg, category=FutureWarning)\n",
      "C:\\Users\\HP\\anaconda3\\envs\\Pytorchgpu\\lib\\site-packages\\sklearn\\utils\\deprecation.py:87: FutureWarning: Function get_feature_names is deprecated; get_feature_names is deprecated in 1.0 and will be removed in 1.2. Please use get_feature_names_out instead.\n",
      "  warnings.warn(msg, category=FutureWarning)\n",
      "C:\\Users\\HP\\anaconda3\\envs\\Pytorchgpu\\lib\\site-packages\\sklearn\\utils\\deprecation.py:87: FutureWarning: Function get_feature_names is deprecated; get_feature_names is deprecated in 1.0 and will be removed in 1.2. Please use get_feature_names_out instead.\n",
      "  warnings.warn(msg, category=FutureWarning)\n",
      "C:\\Users\\HP\\anaconda3\\envs\\Pytorchgpu\\lib\\site-packages\\sklearn\\utils\\deprecation.py:87: FutureWarning: Function get_feature_names is deprecated; get_feature_names is deprecated in 1.0 and will be removed in 1.2. Please use get_feature_names_out instead.\n",
      "  warnings.warn(msg, category=FutureWarning)\n",
      "C:\\Users\\HP\\anaconda3\\envs\\Pytorchgpu\\lib\\site-packages\\sklearn\\utils\\deprecation.py:87: FutureWarning: Function get_feature_names is deprecated; get_feature_names is deprecated in 1.0 and will be removed in 1.2. Please use get_feature_names_out instead.\n",
      "  warnings.warn(msg, category=FutureWarning)\n"
     ]
    },
    {
     "name": "stdout",
     "output_type": "stream",
     "text": [
      "['across', 'across least', 'air', 'air system', 'chamber', 'chamber plurality', 'configured', 'configured divide', 'configured receive', 'configured supply', 'divide', 'divide parallel', 'engine', 'engine chamber', 'exchanger', 'exchanger configured', 'exchanger plurality', 'exchanger recirculation', 'exchanger second', 'exchanger valve', 'first', 'first heat', 'flowing', 'flowing low', 'heat', 'heat exchanger', 'includes', 'includes inlet', 'inlet', 'inlet line', 'least', 'least first', 'line', 'line configured', 'line valve', 'located', 'located upstream', 'location', 'location engine', 'low', 'low pressure', 'medium', 'medium across', 'medium flowing', 'medium inlet', 'parallel', 'parallel medium', 'plurality', 'plurality heat', 'pressure', 'pressure location', 'receive', 'receive medium', 'recirculation', 'recirculation air', 'second', 'second heat', 'supply', 'supply recirculation', 'system', 'system configured', 'system includes', 'upstream', 'upstream plurality', 'valve', 'valve configured', 'valve located']\n",
      "['10', '10 heat', 'according', 'according method', 'acid', 'acid quickly', 'acidification', 'acidification liquid', 'acidification methylation', 'added', 'added adjust', 'added extraction', 'added hydrochloric', 'added ph', 'adjust', 'adjust ph', 'alkali', 'alkali quickly', 'amount', 'amount organic', 'amount prepared', 'azithromycin', 'azithromycin according', 'azithromycin obtained', 'azithromycin whole', 'borohydride', 'borohydride solution', 'borohydride water', 'carried', 'carried mean', 'carried washing', 'carried wherein', 'color', 'color product', 'condition', 'condition low', 'dichloromethane', 'dichloromethane added', 'direct', 'direct rearrangement', 'directly', 'directly carried', 'discloses', 'discloses method', 'dissociation', 'dissociation azithromycin', 'dropwise', 'dropwise added', 'erythromycin', 'erythromycin oxime', 'erythromycin thiocyanate', 'extraction', 'extraction reduction', 'heat', 'heat preservation', 'high', 'high pollution', 'high yield', 'hydrochloric', 'hydrochloric acid', 'industrial', 'industrial production', 'initial', 'initial raw', 'invention', 'invention discloses', 'layer', 'layer washed', 'layering', 'layering performed', 'liquid', 'liquid alkali', 'low', 'low temperature', 'material', 'material erythromycin', 'mean', 'mean one', 'method', 'method erythromycin', 'method mild', 'method rearrangement', 'method suitable', 'method synthesizing', 'methylation', 'methylation reaction', 'mild', 'mild color', 'obtain', 'obtain azithromycin', 'obtained', 'obtained direct', 'obtained oximation', 'one', 'one pot', 'organic', 'organic layer', 'organic solvent', 'oximation', 'oximation dissociation', 'oxime', 'oxime obtained', 'performed', 'performed organic', 'ph', 'ph value', 'pollution', 'pollution small', 'pot', 'pot method', 'potassium', 'potassium borohydride', 'prepared', 'prepared several', 'present', 'present reduction', 'preservation', 'preservation threeminutes', 'product', 'product white', 'production', 'purity', 'purity high', 'qualified', 'qualified dichloromethane', 'qualified small', 'quickly', 'quickly dropwise', 'raw', 'raw material', 'reaction', 'reaction carried', 'reaction directly', 'reaction qualified', 'reaction reagent', 'reaction route', 'reaction wherein', 'reagent', 'reagent potassium', 'rearrangement', 'rearrangement reaction', 'rearrangement reduction', 'reduction', 'reduction acidification', 'reduction qualified', 'reduction reaction', 'route', 'route method', 'several', 'several time', 'site', 'site use', 'small', 'small amount', 'small method', 'solution', 'solution added', 'solution potassium', 'solution small', 'solvent', 'solvent added', 'sorbitol', 'sorbitol water', 'state', 'state site', 'suitable', 'suitable industrial', 'synthesizing', 'synthesizing azithromycin', 'temperature', 'temperature acidification', 'temperature state', 'thiocyanate', 'thiocyanate used', 'threeminutes', 'threeminutes methylation', 'time', 'time low', 'use', 'use present', 'used', 'used initial', 'value', 'value 10', 'value condition', 'value layering', 'washed', 'washed sorbitol', 'washing', 'washing water', 'water', 'water obtain', 'water solution', 'wherein', 'wherein reduction', 'wherein whole', 'white', 'white purity', 'whole', 'whole reaction', 'yield', 'yield high']\n"
     ]
    },
    {
     "name": "stderr",
     "output_type": "stream",
     "text": [
      "C:\\Users\\HP\\anaconda3\\envs\\Pytorchgpu\\lib\\site-packages\\sklearn\\utils\\deprecation.py:87: FutureWarning: Function get_feature_names is deprecated; get_feature_names is deprecated in 1.0 and will be removed in 1.2. Please use get_feature_names_out instead.\n",
      "  warnings.warn(msg, category=FutureWarning)\n",
      "C:\\Users\\HP\\anaconda3\\envs\\Pytorchgpu\\lib\\site-packages\\sklearn\\utils\\deprecation.py:87: FutureWarning: Function get_feature_names is deprecated; get_feature_names is deprecated in 1.0 and will be removed in 1.2. Please use get_feature_names_out instead.\n",
      "  warnings.warn(msg, category=FutureWarning)\n",
      "C:\\Users\\HP\\anaconda3\\envs\\Pytorchgpu\\lib\\site-packages\\sklearn\\utils\\deprecation.py:87: FutureWarning: Function get_feature_names is deprecated; get_feature_names is deprecated in 1.0 and will be removed in 1.2. Please use get_feature_names_out instead.\n",
      "  warnings.warn(msg, category=FutureWarning)\n",
      "C:\\Users\\HP\\anaconda3\\envs\\Pytorchgpu\\lib\\site-packages\\sklearn\\utils\\deprecation.py:87: FutureWarning: Function get_feature_names is deprecated; get_feature_names is deprecated in 1.0 and will be removed in 1.2. Please use get_feature_names_out instead.\n",
      "  warnings.warn(msg, category=FutureWarning)\n"
     ]
    },
    {
     "name": "stdout",
     "output_type": "stream",
     "text": [
      "['along', 'along second', 'back', 'back side', 'close', 'close fit', 'comprises', 'comprises step', 'conductive', 'conductive layer', 'conductive material', 'connected', 'connected silicon', 'contact', 'contact electrically', 'contact part', 'device', 'device improved', 'device manufacturing', 'discloses', 'discloses memory', 'electrically', 'electrically connected', 'etching', 'etching form', 'extends', 'extends first', 'first', 'first surface', 'fit', 'fit stability', 'form', 'form silicon', 'forming', 'forming insulating', 'forming least', 'forming metal', 'hole', 'hole extends', 'hole forming', 'hole penetrating', 'hole second', 'improved', 'insulating', 'insulating layer', 'interconnection', 'interconnection conductive', 'interconnection structure', 'invention', 'invention discloses', 'layer', 'layer back', 'layer conductive', 'layer located', 'layer make', 'layer metal', 'layer part', 'layer removed', 'layer removing', 'layer second', 'layer silicon', 'layer surface', 'layer time', 'layer wherein', 'layerand', 'layerand part', 'least', 'least one', 'located', 'located hole', 'located surface', 'make', 'make contact', 'manufacturing', 'manufacturing method', 'material', 'material layer', 'material layerand', 'memory', 'memory device', 'metal', 'metal material', 'method', 'method comprises', 'method thereof', 'one', 'one hole', 'one time', 'part', 'part back', 'part conductive', 'part insulating', 'part metal', 'part substrate', 'penetrating', 'penetrating substrate', 'redundant', 'redundant conductive', 'removed', 'removed one', 'removing', 'removing part', 'second', 'second surface', 'sequentially', 'sequentially forming', 'serf', 'serf back', 'serf silicon', 'side', 'side interconnection', 'silicon', 'silicon interconnection', 'stability', 'stability memory', 'step', 'step forming', 'structure', 'structure back', 'structure close', 'structure metal', 'structure redundant', 'structure serf', 'substrate', 'substrate along', 'substrate sequentially', 'substrate serf', 'substrate wherein', 'surface', 'surface conductive', 'surface part', 'surface silicon', 'surface substrate', 'surface thesubstrate', 'thereof', 'thereof manufacturing', 'thesubstrate', 'thesubstrate hole', 'thethrough', 'thethrough hole', 'time', 'time contact', 'time etching', 'wherein', 'wherein conductive', 'wherein thethrough']\n"
     ]
    },
    {
     "name": "stderr",
     "output_type": "stream",
     "text": [
      "C:\\Users\\HP\\anaconda3\\envs\\Pytorchgpu\\lib\\site-packages\\sklearn\\utils\\deprecation.py:87: FutureWarning: Function get_feature_names is deprecated; get_feature_names is deprecated in 1.0 and will be removed in 1.2. Please use get_feature_names_out instead.\n",
      "  warnings.warn(msg, category=FutureWarning)\n",
      "C:\\Users\\HP\\anaconda3\\envs\\Pytorchgpu\\lib\\site-packages\\sklearn\\utils\\deprecation.py:87: FutureWarning: Function get_feature_names is deprecated; get_feature_names is deprecated in 1.0 and will be removed in 1.2. Please use get_feature_names_out instead.\n",
      "  warnings.warn(msg, category=FutureWarning)\n"
     ]
    },
    {
     "name": "stdout",
     "output_type": "stream",
     "text": [
      "['13', '13 percent', 'active', 'active site', 'advantage', 'advantage catalytic', 'also', 'also provides', 'application', 'application graphene', 'application preparation', 'art', 'art catalyst', 'available', 'available raw', 'belongs', 'belongs technical', 'bismuth', 'bismuth tungstate', 'catalyst', 'catalyst advantage', 'catalyst particularly', 'catalyst photoelectric', 'catalyst prepared', 'catalytic', 'catalytic effect', 'catalytic material', 'catalytic performance', 'cathode', 'cathode hydrogen', 'compared', 'compared conventional', 'compounding', 'compounding invention', 'comprises', 'comprises step', 'convenient', 'convenient easy', 'conventional', 'conventional bismuth', 'corrosion', 'corrosion compounding', 'defect', 'defect prior', 'degradation', 'degradation water', 'detection', 'detection compared', 'development', 'development electrolytic', 'difficult', 'difficult recycle', 'dot', 'dot active', 'dot preparation', 'easily', 'easily available', 'easy', 'easy obtain', 'effect', 'effect low', 'effectively', 'effectively improved', 'electricity', 'electricity catalytic', 'electrolysis', 'electrolysis cathode', 'electrolytic', 'electrolytic catalyst', 'evolution', 'evolution reaction', 'field', 'field research', 'force', 'force electricity', 'goal', 'goal good', 'good', 'good catalytic', 'graphene', 'graphene bismuth', 'graphene quantum', 'hydrogen', 'hydrogen evolution', 'hydrothermal', 'hydrothermal reaction', 'improved', 'improved 13', 'improved detection', 'increased', 'increased catalytic', 'introducing', 'introducing graphene', 'invention', 'invention also', 'invention belongs', 'laser', 'laser corrosion', 'low', 'low price', 'material', 'material convenient', 'material realize', 'material used', 'meanwhile', 'meanwhile introducing', 'method', 'method application', 'method comprises', 'method preparation', 'obtain', 'obtain meanwhile', 'overcome', 'particularly', 'particularly relates', 'percent', 'percent technical', 'performance', 'performance bismuth', 'performance improved', 'photoelectric', 'photoelectric degradation', 'preparation', 'preparation force', 'preparation laser', 'preparation method', 'prepared', 'prepared graphene', 'preparing', 'preparing bismuth', 'price', 'price easily', 'prior', 'prior art', 'provides', 'provides application', 'quantum', 'quantum dot', 'raw', 'raw material', 'reaction', 'reaction difficult', 'reaction preparing', 'realize', 'realize time', 'recycle', 'recycle reuse', 'relates', 'relates preparation', 'research', 'research development', 'reuse', 'reuse goal', 'site', 'site bismuth', 'step', 'step hydrothermal', 'stripping', 'stripping graphene', 'technical', 'technical defect', 'technical field', 'thepreparation', 'thepreparation method', 'time', 'time overcome', 'tungstate', 'tungstate catalyst', 'tungstate effectively', 'tungstate increased', 'tungstate thepreparation', 'tungstate ultrasonic', 'ultrasonic', 'ultrasonic stripping', 'used', 'used raw', 'water', 'water electrolysis']\n"
     ]
    },
    {
     "name": "stderr",
     "output_type": "stream",
     "text": [
      "C:\\Users\\HP\\anaconda3\\envs\\Pytorchgpu\\lib\\site-packages\\sklearn\\utils\\deprecation.py:87: FutureWarning: Function get_feature_names is deprecated; get_feature_names is deprecated in 1.0 and will be removed in 1.2. Please use get_feature_names_out instead.\n",
      "  warnings.warn(msg, category=FutureWarning)\n",
      "C:\\Users\\HP\\anaconda3\\envs\\Pytorchgpu\\lib\\site-packages\\sklearn\\utils\\deprecation.py:87: FutureWarning: Function get_feature_names is deprecated; get_feature_names is deprecated in 1.0 and will be removed in 1.2. Please use get_feature_names_out instead.\n",
      "  warnings.warn(msg, category=FutureWarning)\n",
      "C:\\Users\\HP\\anaconda3\\envs\\Pytorchgpu\\lib\\site-packages\\sklearn\\utils\\deprecation.py:87: FutureWarning: Function get_feature_names is deprecated; get_feature_names is deprecated in 1.0 and will be removed in 1.2. Please use get_feature_names_out instead.\n",
      "  warnings.warn(msg, category=FutureWarning)\n"
     ]
    },
    {
     "name": "stdout",
     "output_type": "stream",
     "text": [
      "['10', '10 completing', '11', '11 querying', '12', '12 completing', '13', '13 completing', 'acquiring', 'acquiring attribute', 'acquiring single', 'address', 'address step', 'address valid', 'array', 'array assembly', 'array class', 'array command', 'array dereference', 'arrayssupporting', 'arrayssupporting partial', 'assembling', 'assembling attribute', 'assembling method', 'assembly', 'assembly step', 'attribute', 'attribute arrayssupporting', 'attribute command', 'attribute data', 'attribute drawing', 'attribute index', 'attribute step', 'belongs', 'belongs field', 'calculating', 'calculating memory', 'carriedin', 'carriedin multi', 'class', 'class step', 'command', 'command dereferencing', 'command step', 'command type', 'completing', 'completing multi', 'completing single', 'completing vertex', 'comprises', 'comprises step', 'computer', 'computer graphic', 'data', 'data step', 'dereference', 'dereference assembly', 'dereferencing', 'dereferencing assembling', 'dereferencing multi', 'dereferencing single', 'drawing', 'drawing command', 'entering', 'entering initial', 'field', 'field computer', 'graphic', 'graphic relates', 'index', 'index address', 'initial', 'initial state', 'invention', 'invention belongs', 'issuing', 'issuing single', 'judging', 'judging vertex', 'memory', 'memory address', 'method', 'method comprises', 'method vertex', 'multi', 'multi vertex', 'number', 'number vertex', 'order', 'order step', 'partial', 'partial order', 'querying', 'querying number', 'relates', 'relates dereferencing', 'single', 'single vertex', 'state', 'state vertex', 'step', 'step 10', 'step 11', 'step 12', 'step 13', 'step acquiring', 'step assembling', 'step calculating', 'step dereferencing', 'step entering', 'step issuing', 'step judging', 'step step', 'type', 'type step', 'valid', 'valid attribute', 'vertex', 'vertex array', 'vertex attribute', 'vertex carriedin', 'vertex valid']\n",
      "['according', 'according adjusted', 'according characteristic', 'according invention', 'according response', 'accurate', 'accurate cleaning', 'achieved', 'adjusted', 'adjusted response', 'adjusting', 'adjusting response', 'adopting', 'adopting idea', 'analysis', 'analysis due', 'andgenerating', 'andgenerating response', 'area', 'area data', 'area file', 'attack', 'attack defense', 'attack flow', 'attack traffic', 'based', 'based characteristic', 'based dns', 'characteristic', 'characteristic adopting', 'characteristic attack', 'characteristic responseof', 'classification', 'classification based', 'classified', 'classified according', 'cleaning', 'cleaning different', 'code', 'code corresponding', 'code response', 'comprises', 'comprises step', 'corresponding', 'corresponding attack', 'corresponding dns', 'corresponding response', 'cost', 'cost response', 'data', 'data andgenerating', 'ddos', 'ddos attack', 'defense', 'defense effect', 'defense method', 'detected', 'detected dns', 'device', 'device electronic', 'different', 'different attack', 'dns', 'dns protocol', 'dns request', 'dns server', 'dnsrequest', 'dnsrequest flow', 'due', 'due attack', 'effect', 'effect effective', 'effective', 'effective accurate', 'electronic', 'electronic equipment', 'equipment', 'equipment medium', 'file', 'file setting', 'filter', 'filter corresponding', 'filtering', 'filtering processing', 'flow', 'flow achieved', 'flow based', 'flow classified', 'flow defense', 'generating', 'generating response', 'idea', 'idea classification', 'initial', 'initial response', 'invention', 'invention dnsrequest', 'invention provides', 'loading', 'loading area', 'medium', 'medium method', 'message', 'message dns', 'method', 'method comprises', 'method device', 'normal', 'normal analysis', 'packet', 'packet according', 'packet corresponding', 'packet detected', 'packet filter', 'perform', 'perform normal', 'performing', 'performing filtering', 'processing', 'processing response', 'protocol', 'protocol retrieval', 'provides', 'provides ddos', 'receiving', 'receiving dns', 'request', 'request flow', 'request message', 'request traffic', 'response', 'response characteristic', 'response cost', 'response packet', 'response threshold', 'response value', 'response weight', 'responseof', 'responseof attack', 'retrieval', 'retrieval area', 'server', 'server loading', 'server perform', 'setting', 'setting initial', 'starting', 'starting dns', 'step', 'step starting', 'threshold', 'threshold receiving', 'threshold value', 'traffic', 'traffic according', 'traffic adjusting', 'traffic generating', 'traffic performing', 'value', 'value according', 'value response', 'weight', 'weight code']\n"
     ]
    },
    {
     "name": "stderr",
     "output_type": "stream",
     "text": [
      "C:\\Users\\HP\\anaconda3\\envs\\Pytorchgpu\\lib\\site-packages\\sklearn\\utils\\deprecation.py:87: FutureWarning: Function get_feature_names is deprecated; get_feature_names is deprecated in 1.0 and will be removed in 1.2. Please use get_feature_names_out instead.\n",
      "  warnings.warn(msg, category=FutureWarning)\n",
      "C:\\Users\\HP\\anaconda3\\envs\\Pytorchgpu\\lib\\site-packages\\sklearn\\utils\\deprecation.py:87: FutureWarning: Function get_feature_names is deprecated; get_feature_names is deprecated in 1.0 and will be removed in 1.2. Please use get_feature_names_out instead.\n",
      "  warnings.warn(msg, category=FutureWarning)\n"
     ]
    },
    {
     "name": "stdout",
     "output_type": "stream",
     "text": [
      "['according', 'according anchoring', 'according method', 'achieve', 'achieve anchoring', 'achieved', 'achieved construction', 'adopts', 'adopts connecting', 'anchor', 'anchor point', 'anchor track', 'anchor trussed', 'anchorage', 'anchorage device', 'anchoring', 'anchoring device', 'anchoring front', 'anchoring hanging', 'anchoring hole', 'anchoring method', 'anchoring ofthe', 'anchoring rear', 'assemble', 'assemble disassemble', 'bar', 'bar fully', 'basket', 'basket according', 'basket adopts', 'basket anchor', 'basket anchoring', 'basket cantilever', 'basket rear', 'basket safer', 'beam', 'beam rear', 'benefit', 'benefit remarkably', 'bereserved', 'bereserved problem', 'box', 'box girder', 'cantilever', 'cantilever construction', 'channel', 'channel need', 'connecting', 'connecting device', 'connecting section', 'connection', 'connection inconvenient', 'connector', 'connector prestressed', 'construction', 'construction adopts', 'construction cost', 'convenient', 'convenient assemble', 'cooperation', 'cooperation anchoring', 'cost', 'cost effectively', 'device', 'device anchoring', 'device convenient', 'device front', 'device troublesome', 'device used', 'disassemble', 'disassemble solved', 'disassemble working', 'economic', 'economic benefit', 'effectively', 'effectively reduced', 'efficiency', 'efficiency high', 'embedded', 'embedded high', 'front', 'front anchor', 'front anchoring', 'fully', 'fully utilized', 'girder', 'girder overlong', 'hanging', 'hanging basket', 'high', 'high repeated', 'high strength', 'hole', 'hole channel', 'improved', 'inconvenient', 'inconvenient disassemble', 'invention', 'invention provides', 'method', 'method embedded', 'method hanging', 'need', 'need bereserved', 'need reserved', 'ofthe', 'ofthe hanging', 'overlong', 'overlong prestressed', 'point', 'point hanging', 'prestressed', 'prestressed reinforcement', 'problem', 'problem connector', 'provides', 'provides anchoring', 'rear', 'rear anchor', 'rear anchoring', 'reduced', 'reduced economic', 'reinforcement', 'reinforcement connecting', 'reinforcement tensioning', 'reliable', 'reliable anchoring', 'remarkably', 'remarkably improved', 'repeated', 'repeated use', 'reserved', 'reserved box', 'safer', 'safer reliable', 'section', 'section need', 'solved', 'solved according', 'steel', 'steel bar', 'strength', 'strength steel', 'tensioning', 'tensioning anchorage', 'track', 'track front', 'troublesome', 'troublesome connection', 'trussed', 'trussed beam', 'use', 'use achieved', 'used', 'used cooperation', 'utilized', 'utilized achieve', 'working', 'working efficiency']\n"
     ]
    },
    {
     "name": "stderr",
     "output_type": "stream",
     "text": [
      "C:\\Users\\HP\\anaconda3\\envs\\Pytorchgpu\\lib\\site-packages\\sklearn\\utils\\deprecation.py:87: FutureWarning: Function get_feature_names is deprecated; get_feature_names is deprecated in 1.0 and will be removed in 1.2. Please use get_feature_names_out instead.\n",
      "  warnings.warn(msg, category=FutureWarning)\n",
      "C:\\Users\\HP\\anaconda3\\envs\\Pytorchgpu\\lib\\site-packages\\sklearn\\utils\\deprecation.py:87: FutureWarning: Function get_feature_names is deprecated; get_feature_names is deprecated in 1.0 and will be removed in 1.2. Please use get_feature_names_out instead.\n",
      "  warnings.warn(msg, category=FutureWarning)\n",
      "C:\\Users\\HP\\anaconda3\\envs\\Pytorchgpu\\lib\\site-packages\\sklearn\\utils\\deprecation.py:87: FutureWarning: Function get_feature_names is deprecated; get_feature_names is deprecated in 1.0 and will be removed in 1.2. Please use get_feature_names_out instead.\n",
      "  warnings.warn(msg, category=FutureWarning)\n"
     ]
    },
    {
     "name": "stdout",
     "output_type": "stream",
     "text": [
      "['advantage', 'advantage arranging', 'arranged', 'arranged shell', 'arranged wherein', 'arranging', 'arranging reinforcing', 'away', 'away shell', 'backlight', 'backlight unit', 'bending', 'bending reduced', 'bottom', 'bottom bottomis', 'bottom light', 'bottom respectively', 'bottomis', 'bottomis parallel', 'caused', 'caused stress', 'closed', 'closed space', 'comprises', 'comprises bottom', 'comprises display', 'comprises reinforcing', 'connected', 'connected reinforcing', 'device', 'device display', 'discloses', 'discloses display', 'display', 'display device', 'display module', 'display panel', 'edge', 'edge display', 'effectively', 'effectively fixed', 'elastic', 'elastic member', 'emitting', 'emitting side', 'end', 'end elastic', 'extends', 'extends light', 'fit', 'fit display', 'fixed', 'fixed fragmentation', 'form', 'form closed', 'fragmentation', 'fragmentation caused', 'frame', 'frame arranged', 'frame form', 'invention', 'invention discloses', 'light', 'light emitting', 'located', 'located light', 'located plastic', 'member', 'member connected', 'member reinforcing', 'module', 'module advantage', 'module comprises', 'module display', 'oppositely', 'oppositely arranged', 'panel', 'panel backlight', 'panel bottom', 'panel located', 'panel plastic', 'panel reinforcing', 'panel shell', 'panel two', 'parallel', 'parallel plane', 'part', 'part comprises', 'part extends', 'part reinforcing', 'part side', 'plane', 'plane display', 'plastic', 'plastic frame', 'reduced', 'reinforcing', 'reinforcing part', 'reinforcing sheet', 'respectively', 'respectively display', 'sheet', 'sheet bottom', 'sheet elastic', 'sheet located', 'shell', 'shell comprises', 'shell display', 'shell effectively', 'shell fit', 'shell oppositely', 'side', 'side away', 'side display', 'side edge', 'side side', 'space', 'space shell', 'stress', 'stress bending', 'two', 'two end', 'unit', 'unit display', 'wherein', 'wherein shell']\n",
      "['aim', 'aim solving', 'alternately', 'alternately conveying', 'arranged', 'arranged alternately', 'arranged conveying', 'arranged device', 'arranged front', 'arranged lifting', 'arranged lower', 'arranged one', 'art', 'art situation', 'attached', 'attached conveying', 'batten', 'batten arranged', 'batten attached', 'batten conveying', 'batten number', 'batten plurality', 'blocked', 'blocked cargo', 'cargo', 'cargo handled', 'comprises', 'comprises two', 'connected', 'connected conveying', 'consistent', 'consistent conveying', 'conveying', 'conveying batten', 'conveying sleeve', 'conveyingbattens', 'conveyingbattens arranged', 'correspondingly', 'correspondingly fixedly', 'device', 'device aim', 'device logistics', 'device outer', 'discloses', 'discloses unloading', 'end', 'end conveying', 'end lifting', 'field', 'field logistics', 'fixedly', 'fixedly connected', 'frame', 'frame shape', 'front', 'front end', 'handled', 'handled plurality', 'hydraulic', 'hydraulic push', 'inlet', 'inlet blocked', 'invention', 'invention discloses', 'lifting', 'lifting batten', 'logistics', 'logistics transportation', 'lower', 'lower end', 'multiple', 'multiple set', 'number', 'number conveying', 'one', 'one conveying', 'outer', 'outer shell', 'plurality', 'plurality conveying', 'plurality lifting', 'prior', 'prior art', 'problem', 'problem prior', 'push', 'push rod', 'rectangular', 'rectangular frame', 'related', 'related field', 'relates', 'relates related', 'rod', 'rod arranged', 'rod comprises', 'rod set', 'second', 'second hydraulic', 'set', 'set second', 'shape', 'shape conveyingbattens', 'shell', 'shell device', 'shell rectangular', 'situation', 'situation inlet', 'sleeve', 'sleeve arranged', 'sleeve consistent', 'sleeve correspondingly', 'sleeve multiple', 'sleeve set', 'solving', 'solving problem', 'transportation', 'transportation device', 'transportation relates', 'two', 'two second', 'unloading', 'unloading device']\n"
     ]
    },
    {
     "name": "stderr",
     "output_type": "stream",
     "text": [
      "C:\\Users\\HP\\anaconda3\\envs\\Pytorchgpu\\lib\\site-packages\\sklearn\\utils\\deprecation.py:87: FutureWarning: Function get_feature_names is deprecated; get_feature_names is deprecated in 1.0 and will be removed in 1.2. Please use get_feature_names_out instead.\n",
      "  warnings.warn(msg, category=FutureWarning)\n",
      "C:\\Users\\HP\\anaconda3\\envs\\Pytorchgpu\\lib\\site-packages\\sklearn\\utils\\deprecation.py:87: FutureWarning: Function get_feature_names is deprecated; get_feature_names is deprecated in 1.0 and will be removed in 1.2. Please use get_feature_names_out instead.\n",
      "  warnings.warn(msg, category=FutureWarning)\n",
      "C:\\Users\\HP\\anaconda3\\envs\\Pytorchgpu\\lib\\site-packages\\sklearn\\utils\\deprecation.py:87: FutureWarning: Function get_feature_names is deprecated; get_feature_names is deprecated in 1.0 and will be removed in 1.2. Please use get_feature_names_out instead.\n",
      "  warnings.warn(msg, category=FutureWarning)\n",
      "C:\\Users\\HP\\anaconda3\\envs\\Pytorchgpu\\lib\\site-packages\\sklearn\\utils\\deprecation.py:87: FutureWarning: Function get_feature_names is deprecated; get_feature_names is deprecated in 1.0 and will be removed in 1.2. Please use get_feature_names_out instead.\n",
      "  warnings.warn(msg, category=FutureWarning)\n"
     ]
    },
    {
     "name": "stdout",
     "output_type": "stream",
     "text": [
      "['achieved', 'achieved technical', 'aim', 'aim provide', 'angle', 'angle formed', 'around', 'around circumferential', 'arranged', 'arranged encapsulating', 'assembly', 'assembly rubber', 'assembly seal', 'assembly thecoil', 'base', 'base bottom', 'base ofthe', 'body', 'body connected', 'bottom', 'bottom upper', 'cavity', 'cavity body', 'cavity draft', 'cavity encapsulating', 'cavity fix', 'cavity ptc', 'cavity sealant', 'cavity straight', 'circular', 'circular cone', 'circumferential', 'circumferential slot', 'coil', 'coil assembly', 'coil sealant', 'cone', 'cone cavity', 'connected', 'connected high', 'connected toan', 'convenient', 'convenient take', 'cover', 'cover excircle', 'crack', 'crack encapsulating', 'cured', 'cured form', 'cylinder', 'cylinder lower', 'device', 'device achieved', 'device aim', 'device convenient', 'device solves', 'discloses', 'discloses coil', 'draft', 'draft angle', 'elastomer', 'elastomer protects', 'encapsulating', 'encapsulating cavity', 'encapsulating device', 'encapsulating position', 'encapsulating sealant', 'end', 'end lower', 'end penetrates', 'excircle', 'excircle thereof', 'external', 'external power', 'filling', 'filling encapsulating', 'fix', 'fix load', 'flexible', 'flexible elastomer', 'form', 'form flexible', 'formed', 'formed inner', 'free', 'free withdrawn', 'gap', 'gap crack', 'heat', 'heat encapsulating', 'heat source', 'heating', 'heating sheet', 'high', 'high temperature', 'hole', 'hole small', 'injected', 'injected top', 'inner', 'inner cavity', 'invention', 'invention discloses', 'load', 'load coil', 'lower', 'lower end', 'lower part', 'ofthe', 'ofthe load', 'outer', 'outer wall', 'part', 'part circular', 'pattern', 'pattern coil', 'penetrates', 'penetrates base', 'plug', 'plug connected', 'position', 'power', 'power supply', 'problem', 'problem gap', 'protects', 'protects load', 'provide', 'provide encapsulating', 'provide heat', 'ptc', 'ptc heating', 'ring', 'ring shaft', 'ring stepped', 'rubber', 'rubber seal', 'scheme', 'scheme circular', 'seal', 'seal cover', 'seal ring', 'sealant', 'sealant cured', 'sealant encapsulating', 'sealant filling', 'sealant injected', 'shaft', 'shaft shoulder', 'sheet', 'sheet around', 'sheet heat', 'shoulder', 'shoulder base', 'slot', 'slot outer', 'small', 'small end', 'solves', 'solves problem', 'source', 'source encapsulating', 'stepped', 'stepped cylinder', 'straight', 'straight hole', 'supply', 'supply plug', 'take', 'take free', 'technical', 'technical scheme', 'temperature', 'temperature wire', 'thecoil', 'thecoil sealant', 'thereof', 'thereof ptc', 'toan', 'toan external', 'top', 'top encapsulating', 'upper', 'upper seal', 'wall', 'wall arranged', 'wire', 'wire provide', 'withdrawn', 'withdrawn pattern']\n"
     ]
    },
    {
     "name": "stderr",
     "output_type": "stream",
     "text": [
      "C:\\Users\\HP\\anaconda3\\envs\\Pytorchgpu\\lib\\site-packages\\sklearn\\utils\\deprecation.py:87: FutureWarning: Function get_feature_names is deprecated; get_feature_names is deprecated in 1.0 and will be removed in 1.2. Please use get_feature_names_out instead.\n",
      "  warnings.warn(msg, category=FutureWarning)\n",
      "C:\\Users\\HP\\anaconda3\\envs\\Pytorchgpu\\lib\\site-packages\\sklearn\\utils\\deprecation.py:87: FutureWarning: Function get_feature_names is deprecated; get_feature_names is deprecated in 1.0 and will be removed in 1.2. Please use get_feature_names_out instead.\n",
      "  warnings.warn(msg, category=FutureWarning)\n",
      "C:\\Users\\HP\\anaconda3\\envs\\Pytorchgpu\\lib\\site-packages\\sklearn\\utils\\deprecation.py:87: FutureWarning: Function get_feature_names is deprecated; get_feature_names is deprecated in 1.0 and will be removed in 1.2. Please use get_feature_names_out instead.\n",
      "  warnings.warn(msg, category=FutureWarning)\n"
     ]
    },
    {
     "name": "stdout",
     "output_type": "stream",
     "text": [
      "['allow', 'allow structure', 'arranged', 'arranged mirror', 'changing', 'changing employ', 'collect', 'collect light', 'comprises', 'comprises three', 'concave', 'concave mirror', 'cone', 'cone ensure', 'configured', 'configured collect', 'configured deflect', 'configured emit', 'connect', 'connect mirror', 'connected', 'connected interferometer', 'connection', 'connection facilitate', 'convex', 'convex mirror', 'deflect', 'deflect light', 'detachably', 'detachably connected', 'detectable', 'detectable connection', 'detection', 'detection employ', 'detection etalon', 'detection technology', 'discloses', 'discloses interferometer', 'element', 'element realize', 'emit', 'emit light', 'employ', 'employ detectable', 'employ gluing', 'employ optical', 'ensure', 'ensure image', 'especially', 'especially discloses', 'etalon', 'etalon allow', 'etalon comprises', 'etalon optical', 'facilitate', 'facilitate changing', 'field', 'field especially', 'gluing', 'gluing mode', 'image', 'image quality', 'integration', 'integration etalon', 'interferometer', 'interferometer etalon', 'invention', 'invention relates', 'lens', 'lens cone', 'light', 'light ray', 'mirror', 'mirror set', 'mode', 'mode connect', 'optical', 'optical detection', 'optical element', 'optical precision', 'overlapped', 'overlapped arranged', 'precision', 'precision detection', 'present', 'present invention', 'quality', 'quality requirement', 'ray', 'ray convex', 'ray three', 'ray wedge', 'realize', 'realize integration', 'relates', 'relates optical', 'requirement', 'set', 'set concave', 'set configured', 'set convex', 'set detachably', 'set lens', 'set mirror', 'set overlapped', 'set wedge', 'shaped', 'shaped mirror', 'simplified', 'simplified employ', 'structure', 'structure simplified', 'technology', 'technology field', 'three', 'three mirror', 'wedge', 'wedge shaped']\n",
      "['according', 'according impact', 'act', 'act reciprocally', 'areprevented', 'areprevented falling', 'arranged', 'arranged baffle', 'arranged transmission', 'baffle', 'baffle plate', 'block', 'block areprevented', 'block contained', 'block frame', 'clamping', 'clamping block', 'comprises', 'comprises baffle', 'comprises feeding', 'connected', 'connected discharging', 'connecting', 'connecting shaft', 'contained', 'contained ore', 'crusher', 'crusher baffle', 'crusher mineral', 'crusher structurally', 'damaging', 'damaging crusher', 'discharging', 'discharging tank', 'discloses', 'discloses impact', 'double', 'double roller', 'edge', 'edge discharging', 'edge machine', 'falling', 'falling double', 'feeding', 'feeding port', 'formed', 'formed machine', 'frame', 'frame connecting', 'frame edge', 'frame feeding', 'frame machine', 'frame welded', 'front', 'front lining', 'horizontally', 'horizontally connected', 'host', 'host feeding', 'host installed', 'impact', 'impact crusher', 'input', 'input feeding', 'installed', 'installed side', 'invention', 'invention discloses', 'iron', 'iron block', 'lining', 'lining plate', 'machine', 'machine frame', 'machinery', 'machinery clamping', 'machinery impact', 'machinery magnetic', 'magnetic', 'magnetic plate', 'magnetism', 'magnetism thus', 'matched', 'matched ore', 'mineral', 'mineral separation', 'mining', 'mining machinery', 'movably', 'movably matched', 'ore', 'ore input', 'ore iron', 'ore screened', 'plate', 'plate act', 'plate arranged', 'plate connecting', 'plate horizontally', 'plate transmission', 'plate vertically', 'port', 'port comprises', 'port formed', 'port front', 'port transmission', 'reciprocally', 'reciprocally ore', 'roller', 'roller damaging', 'screened', 'screened using', 'separation', 'separation mining', 'shaft', 'shaft arranged', 'shaft transmissionhost', 'side', 'side edge', 'structurally', 'structurally comprises', 'tank', 'tank according', 'tank baffle', 'thus', 'thus iron', 'transmission', 'transmission host', 'transmission machinery', 'transmissionhost', 'transmissionhost machine', 'using', 'using magnetism', 'vertically', 'vertically movably', 'welded', 'welded front']\n"
     ]
    },
    {
     "name": "stderr",
     "output_type": "stream",
     "text": [
      "C:\\Users\\HP\\anaconda3\\envs\\Pytorchgpu\\lib\\site-packages\\sklearn\\utils\\deprecation.py:87: FutureWarning: Function get_feature_names is deprecated; get_feature_names is deprecated in 1.0 and will be removed in 1.2. Please use get_feature_names_out instead.\n",
      "  warnings.warn(msg, category=FutureWarning)\n",
      "C:\\Users\\HP\\anaconda3\\envs\\Pytorchgpu\\lib\\site-packages\\sklearn\\utils\\deprecation.py:87: FutureWarning: Function get_feature_names is deprecated; get_feature_names is deprecated in 1.0 and will be removed in 1.2. Please use get_feature_names_out instead.\n",
      "  warnings.warn(msg, category=FutureWarning)\n"
     ]
    },
    {
     "name": "stdout",
     "output_type": "stream",
     "text": [
      "['adjust', 'adjust angle', 'adjusted', 'adjusted first', 'adjusting', 'adjusting device', 'angle', 'angle adjusting', 'angle machining', 'angle position', 'arranged', 'arranged bottom', 'arranged four', 'assist', 'assist whole', 'asupporting', 'asupporting device', 'base', 'base adjust', 'base comprises', 'base mechanical', 'base move', 'belongs', 'belongs technical', 'bottom', 'bottom mounting', 'bottom plate', 'bottom supporting', 'comprises', 'comprises mounting', 'comprises supporting', 'connected', 'connected four', 'control', 'control machine', 'convenient', 'convenient move', 'corner', 'corner bottom', 'corner top', 'cylinder', 'cylinder fixedly', 'device', 'device assist', 'device base', 'device comprises', 'device first', 'device four', 'device second', 'device wherein', 'end', 'end first', 'end four', 'field', 'field numerical', 'first', 'first angle', 'first spring', 'fixedly', 'fixedly arranged', 'fixedly connected', 'fixedly provided', 'four', 'four corner', 'four first', 'four group', 'good', 'good shock', 'group', 'group hydraulic', 'group moving', 'higher', 'higher supporting', 'hydraulic', 'hydraulic cylinder', 'invention', 'invention provides', 'machine', 'machine tool', 'machining', 'machining belongs', 'machining platform', 'mechanical', 'mechanical machining', 'mounting', 'mounting plate', 'mounting platform', 'move', 'move four', 'moving', 'moving device', 'numerical', 'numerical control', 'one', 'one end', 'piece', 'piece fixedly', 'piece one', 'piece respectively', 'piece slightly', 'plate', 'plate angle', 'plate four', 'plate respectively', 'platform', 'platform asupporting', 'platform comprises', 'platform good', 'platform numerical', 'position', 'position machining', 'provided', 'provided bottom', 'provided supporting', 'provides', 'provides numerical', 'push', 'push rod', 'resistance', 'resistance convenient', 'respectively', 'respectively fixedly', 'respectively push', 'rod', 'rod hydraulic', 'second', 'second angle', 'shock', 'shock resistance', 'sleeve', 'sleeve end', 'sleeve first', 'sleeve mounting', 'slightly', 'slightly higher', 'spring', 'spring piece', 'supporting', 'supporting device', 'supporting plate', 'supporting sleeve', 'technical', 'technical field', 'tool', 'tool adjusted', 'tool base', 'top', 'top supporting', 'wherein', 'wherein supporting', 'whole', 'whole base']\n"
     ]
    },
    {
     "name": "stderr",
     "output_type": "stream",
     "text": [
      "C:\\Users\\HP\\anaconda3\\envs\\Pytorchgpu\\lib\\site-packages\\sklearn\\utils\\deprecation.py:87: FutureWarning: Function get_feature_names is deprecated; get_feature_names is deprecated in 1.0 and will be removed in 1.2. Please use get_feature_names_out instead.\n",
      "  warnings.warn(msg, category=FutureWarning)\n",
      "C:\\Users\\HP\\anaconda3\\envs\\Pytorchgpu\\lib\\site-packages\\sklearn\\utils\\deprecation.py:87: FutureWarning: Function get_feature_names is deprecated; get_feature_names is deprecated in 1.0 and will be removed in 1.2. Please use get_feature_names_out instead.\n",
      "  warnings.warn(msg, category=FutureWarning)\n"
     ]
    },
    {
     "name": "stdout",
     "output_type": "stream",
     "text": [
      "['according', 'according tester', 'adopts', 'adopts independent', 'ball', 'ball bearing', 'bearing', 'bearing adopts', 'bearing capacity', 'bearing central', 'bearing chuck', 'bearing fixedly', 'bearing installed', 'bearing measured', 'bearing performance', 'bearing tested', 'bearing turbine', 'bearing turbocharger', 'bearing verified', 'capacity', 'capacity thrust', 'central', 'central hole', 'chuck', 'chuck one', 'chuck provided', 'connected', 'connected suspension', 'connection', 'connection guide', 'consumption', 'consumption bearing', 'cylinder', 'cylinder sliding', 'disc', 'disc one', 'displacement', 'displacement sensor', 'displacement target', 'drive', 'drive sleeved', 'end', 'end second', 'film', 'film thickness', 'first', 'first force', 'fixed', 'fixed sliding', 'fixedly', 'fixedly connected', 'force', 'force sensor', 'forcesensor', 'forcesensor pressed', 'fork', 'fork installed', 'fork torque', 'frame', 'frame end', 'frame loading', 'frame thesliding', 'frame used', 'guide', 'guide shaft', 'hole', 'hole sliding', 'independent', 'independent oil', 'installed', 'installed chuck', 'installed one', 'installed suspension', 'invention', 'invention provides', 'loading', 'loading cylinder', 'loading tested', 'measured', 'measured problem', 'measuring', 'measuring displacement', 'mode', 'mode according', 'mounted', 'mounted ball', 'oil', 'oil film', 'oil supply', 'one', 'one end', 'one side', 'parameter', 'parameter oil', 'performance', 'performance tester', 'performance thrust', 'power', 'power consumption', 'pressed', 'pressed torque', 'problem', 'problem bearing', 'provided', 'provided displacement', 'provides', 'provides bearing', 'second', 'second force', 'second forcesensor', 'sensor', 'sensor fixed', 'sensor installed', 'sensor used', 'shaft', 'shaft first', 'shifting', 'shifting fork', 'side', 'side sliding', 'side tested', 'sleeved', 'sleeved tested', 'sliding', 'sliding connection', 'sliding frame', 'solved', 'supply', 'supply mode', 'suspension', 'suspension mounted', 'suspension suspension', 'suspension tested', 'target', 'target disc', 'test', 'test solved', 'tested', 'tested thrust', 'tester', 'tester parameter', 'tester tested', 'tester thrust', 'thesliding', 'thesliding frame', 'thickness', 'thickness power', 'thrust', 'thrust bearing', 'torque', 'torque transmission', 'transmission', 'transmission shifting', 'turbine', 'turbine drive', 'turbocharger', 'turbocharger tester', 'used', 'used loading', 'used measuring', 'verified', 'verified test']\n"
     ]
    },
    {
     "name": "stderr",
     "output_type": "stream",
     "text": [
      "C:\\Users\\HP\\anaconda3\\envs\\Pytorchgpu\\lib\\site-packages\\sklearn\\utils\\deprecation.py:87: FutureWarning: Function get_feature_names is deprecated; get_feature_names is deprecated in 1.0 and will be removed in 1.2. Please use get_feature_names_out instead.\n",
      "  warnings.warn(msg, category=FutureWarning)\n",
      "C:\\Users\\HP\\anaconda3\\envs\\Pytorchgpu\\lib\\site-packages\\sklearn\\utils\\deprecation.py:87: FutureWarning: Function get_feature_names is deprecated; get_feature_names is deprecated in 1.0 and will be removed in 1.2. Please use get_feature_names_out instead.\n",
      "  warnings.warn(msg, category=FutureWarning)\n"
     ]
    },
    {
     "name": "stdout",
     "output_type": "stream",
     "text": [
      "['abolished', 'abolished cleavage', 'acid', 'acid comprising', 'acid thereby', 'active', 'active plant', 'also', 'also described', 'cleavage', 'cleavage protease', 'cleavage site', 'comprise', 'comprise one', 'comprise plant', 'comprises', 'comprises introducing', 'comprises modified', 'comprising', 'comprising modified', 'comprising regulatory', 'condition', 'condition permit', 'consisting', 'consisting ha', 'described', 'described virus', 'encoding', 'encoding ha', 'encoding modified', 'exhibiting', 'exhibiting reduced', 'expressing', 'expressing vlp', 'expression', 'expression nucleic', 'followed', 'followed incubating', 'glycans', 'glycans modified', 'group', 'group consisting', 'h1', 'h1 h2', 'h10', 'h10 h11', 'h11', 'h11 h12', 'h12', 'h12 h13', 'h13', 'h13 h14', 'h14', 'h14 h15', 'h15', 'h15 h16', 'h16', 'h16 also', 'h2', 'h2 h3', 'h3', 'h3 h4', 'h4', 'h4 h5', 'h5', 'h5 h6', 'h6', 'h6 h7', 'h7', 'h7 h8', 'h8', 'h8 h9', 'h9', 'h9 h10', 'ha', 'ha h1', 'ha may', 'ha protein', 'hemagglutinin', 'hemagglutinin ha', 'hemagglutinin provided', 'incubating', 'incubating plant', 'influenza', 'influenza hemagglutinin', 'introducing', 'introducing nucleic', 'like', 'like particle', 'linked', 'linked nucleotide', 'loop', 'loop followed', 'loop may', 'may', 'may comprise', 'may selected', 'method', 'method comprises', 'method plant', 'method producing', 'modified', 'modified glycans', 'modified ha', 'modified hemagglutinin', 'modified influenza', 'modified proteolytic', 'nucleic', 'nucleic acid', 'nucleotide', 'nucleotide sequence', 'one', 'one protease', 'operatively', 'operatively linked', 'particle', 'particle vlp', 'permit', 'permit expression', 'plant', 'plant comprising', 'plant condition', 'plant expressing', 'plant modified', 'plant operatively', 'plant portion', 'plant specific', 'portion', 'portion plant', 'produced', 'produced method', 'producing', 'producing virus', 'producing vlp', 'protease', 'protease cleavage', 'protease nucleotide', 'protein', 'protein comprises', 'protein plant', 'proteolytic', 'proteolytic loop', 'provided', 'provided method', 'reduced', 'reduced abolished', 'region', 'region active', 'regulatory', 'regulatory region', 'selected', 'selected group', 'sequence', 'sequence encoding', 'site', 'site exhibiting', 'specific', 'specific glycans', 'thereby', 'thereby producing', 'virus', 'virus like', 'vlp', 'vlp may', 'vlp modified', 'vlp plant', 'vlp produced', 'vlp virus']\n"
     ]
    },
    {
     "name": "stderr",
     "output_type": "stream",
     "text": [
      "C:\\Users\\HP\\anaconda3\\envs\\Pytorchgpu\\lib\\site-packages\\sklearn\\utils\\deprecation.py:87: FutureWarning: Function get_feature_names is deprecated; get_feature_names is deprecated in 1.0 and will be removed in 1.2. Please use get_feature_names_out instead.\n",
      "  warnings.warn(msg, category=FutureWarning)\n",
      "C:\\Users\\HP\\anaconda3\\envs\\Pytorchgpu\\lib\\site-packages\\sklearn\\utils\\deprecation.py:87: FutureWarning: Function get_feature_names is deprecated; get_feature_names is deprecated in 1.0 and will be removed in 1.2. Please use get_feature_names_out instead.\n",
      "  warnings.warn(msg, category=FutureWarning)\n",
      "C:\\Users\\HP\\anaconda3\\envs\\Pytorchgpu\\lib\\site-packages\\sklearn\\utils\\deprecation.py:87: FutureWarning: Function get_feature_names is deprecated; get_feature_names is deprecated in 1.0 and will be removed in 1.2. Please use get_feature_names_out instead.\n",
      "  warnings.warn(msg, category=FutureWarning)\n"
     ]
    },
    {
     "name": "stdout",
     "output_type": "stream",
     "text": [
      "['allow', 'allow hyper', 'application', 'application exclusively', 'avoid', 'avoid privacy', 'blockchain', 'blockchain scene', 'comprise', 'comprise following', 'computing', 'computing efficiency', 'condition', 'condition determining', 'constructed', 'constructed physical', 'controlling', 'controlling logic', 'core', 'core avoid', 'core generates', 'core marked', 'core privacy', 'corresponding', 'corresponding physical', 'determining', 'determining logic', 'device', 'device safely', 'efficiency', 'efficiency premise', 'embodiment', 'embodiment present', 'ensuring', 'ensuring trusted', 'enter', 'enter trusted', 'entering', 'entering trusted', 'entry', 'entry event', 'environment', 'environment condition', 'environment constructed', 'environment entry', 'environment hyper', 'environment respectively', 'event', 'event path', 'exclusively', 'exclusively occupies', 'execution', 'execution environment', 'expected', 'expected enter', 'following', 'following step', 'generates', 'generates trusted', 'hyper', 'hyper thread', 'hyper threaded', 'improve', 'improve computing', 'leakage', 'leakage risk', 'logic', 'logic processor', 'logic processoras', 'machine', 'machine monitor', 'marked', 'marked expected', 'marking', 'marking logic', 'method', 'method comprise', 'method device', 'monitor', 'monitor marking', 'occupies', 'occupies physical', 'one', 'one embodiment', 'path', 'path provided', 'physical', 'physical processor', 'premise', 'premise ensuring', 'present', 'present specification', 'privacy', 'privacy blockchain', 'privacy leakage', 'privacy protection', 'processor', 'processor core', 'processor corresponding', 'processor enter', 'processor running', 'processoras', 'processoras state', 'protection', 'protection scene', 'provide', 'provide method', 'provided', 'provided virtual', 'respectively', 'respectively controlling', 'risk', 'running', 'running physical', 'safely', 'safely entering', 'scene', 'scene method', 'scene privacy', 'scene scheme', 'scheme', 'scheme allow', 'specification', 'specification provide', 'started', 'started improve', 'state', 'state expected', 'step', 'step logic', 'technology', 'technology started', 'thread', 'thread technology', 'threaded', 'threaded scene', 'trusted', 'trusted application', 'trusted execution', 'virtual', 'virtual machine']\n",
      "['arranged', 'arranged axially', 'arranged coaxially', 'arranged least', 'axially', 'axially parallel', 'axis', 'axis rotation', 'coaxially', 'coaxially input', 'connected', 'connected input', 'constant', 'constant transmission', 'drive', 'drive flexible', 'drive mechanism', 'electric', 'electric machine', 'element', 'element electric', 'element elements', 'element plurality', 'element spur', 'elements', 'elements third', 'engaging', 'engaging shift', 'first', 'first second', 'flexible', 'flexible traction', 'formable', 'formable input', 'gear', 'gear drive', 'gear set', 'gear step', 'input', 'input shaft', 'least', 'least partially', 'machine', 'machine arranged', 'mechanism', 'mechanism arranged', 'mechanism plane', 'mechanism various', 'motor', 'motor vehicle', 'operatively', 'operatively connected', 'oriented', 'oriented orthogonally', 'orthogonally', 'orthogonally axis', 'output', 'output shaft', 'parallel', 'parallel input', 'partially', 'partially radially', 'plane', 'plane oriented', 'planetary', 'planetary gear', 'plurality', 'plurality shift', 'radially', 'radially within', 'ratio', 'ratio via', 'rotation', 'rotation input', 'second', 'second third', 'selectively', 'selectively engaging', 'set', 'set arranged', 'set plurality', 'set selectively', 'shaft', 'shaft constant', 'shaft first', 'shaft operatively', 'shaft output', 'shaft planetary', 'shaft together', 'shift', 'shift element', 'spur', 'spur gear', 'step', 'step formable', 'third', 'third planetary', 'together', 'together spur', 'traction', 'traction drive', 'transmission', 'transmission motor', 'transmission ratio', 'various', 'various gear', 'vehicle', 'vehicle input', 'via', 'via spur', 'within', 'within element']\n"
     ]
    },
    {
     "name": "stderr",
     "output_type": "stream",
     "text": [
      "C:\\Users\\HP\\anaconda3\\envs\\Pytorchgpu\\lib\\site-packages\\sklearn\\utils\\deprecation.py:87: FutureWarning: Function get_feature_names is deprecated; get_feature_names is deprecated in 1.0 and will be removed in 1.2. Please use get_feature_names_out instead.\n",
      "  warnings.warn(msg, category=FutureWarning)\n",
      "C:\\Users\\HP\\anaconda3\\envs\\Pytorchgpu\\lib\\site-packages\\sklearn\\utils\\deprecation.py:87: FutureWarning: Function get_feature_names is deprecated; get_feature_names is deprecated in 1.0 and will be removed in 1.2. Please use get_feature_names_out instead.\n",
      "  warnings.warn(msg, category=FutureWarning)\n",
      "C:\\Users\\HP\\anaconda3\\envs\\Pytorchgpu\\lib\\site-packages\\sklearn\\utils\\deprecation.py:87: FutureWarning: Function get_feature_names is deprecated; get_feature_names is deprecated in 1.0 and will be removed in 1.2. Please use get_feature_names_out instead.\n",
      "  warnings.warn(msg, category=FutureWarning)\n"
     ]
    },
    {
     "name": "stdout",
     "output_type": "stream",
     "text": [
      "['access', 'access area', 'access control', 'according', 'according embodiment', 'also', 'also include', 'area', 'area monitored', 'authenticating', 'authenticating one', 'authorized', 'authorized moreover', 'connecting', 'connecting smart', 'control', 'control panel', 'control reader', 'control system', 'credential', 'credential access', 'credential authenticating', 'credential authorized', 'determining', 'determining smart', 'disclosed', 'disclosed system', 'embodiment', 'embodiment method', 'first', 'first credential', 'first user', 'include', 'include determining', 'include installing', 'include receiving', 'include transmitting', 'installing', 'installing smart', 'method', 'method also', 'method include', 'method relate', 'monitored', 'monitored access', 'moreover', 'moreover method', 'one', 'one first', 'one user', 'panel', 'panel access', 'reader', 'reader access', 'reader one', 'reader second', 'receiving', 'receiving smart', 'relate', 'relate smart', 'request', 'request first', 'response', 'response request', 'second', 'second credential', 'smart', 'smart access', 'system', 'system according', 'system connecting', 'system method', 'system response', 'system via', 'transmitting', 'transmitting smart', 'user', 'user access', 'via', 'via wiring', 'wiring', 'wiring access']\n",
      "['abr', 'abr anaerobic', 'acidifying', 'acidifying reaction', 'activated', 'activated carbon', 'active', 'active carbon', 'aerobic', 'aerobic tank', 'aggregation', 'aggregation recirculating', 'anaerobic', 'anaerobic baffled', 'anaerobic microbe', 'baffled', 'baffled reactor', 'biochemical', 'biochemical treatment', 'carbon', 'carbon anaerobic', 'chamber', 'chamber abr', 'chamber obtain', 'comprises', 'comprises following', 'cooperate', 'cooperate sludge', 'deep', 'deep degradation', 'degradation', 'degradation biochemical', 'delivered', 'delivered multi', 'designed', 'designed cooperate', 'discharge', 'discharge abr', 'discharge gas', 'discharge pipeline', 'distribution', 'distribution pipeline', 'distribution system', 'driven', 'driven flow', 'flow', 'flow reacted', 'following', 'following step', 'gas', 'gas discharge', 'gas distribution', 'hydrolysis', 'hydrolysis acidifying', 'intermediate', 'intermediate waste', 'introduced', 'introduced pact', 'invention', 'invention provides', 'method', 'method comprises', 'method organosilicon', 'microbe', 'microbe biochemical', 'microbe deep', 'microbe reaction', 'multi', 'multi stage', 'obtain', 'obtain intermediate', 'obtain produced', 'organosilicon', 'organosilicon waste', 'pact', 'pact aerobic', 'particle', 'particle activated', 'pipeline', 'pipeline gas', 'pipeline water', 'powdery', 'powdery active', 'processing', 'processing technology', 'produced', 'produced water', 'provides', 'provides organosilicon', 'reacted', 'reacted powdery', 'reaction', 'reaction chamber', 'reaction particle', 'reaction zone', 'reactor', 'reactor intermediate', 'reactor subjected', 'recirculating', 'recirculating zone', 'recycling', 'recycling powdery', 'settling', 'settling zone', 'side', 'side reaction', 'sludge', 'sludge discharge', 'stage', 'stage reaction', 'step', 'step organosilicon', 'subjected', 'subjected hydrolysis', 'system', 'system designed', 'tank', 'tank driven', 'tank obtain', 'technology', 'technology method', 'time', 'time settling', 'time sludge', 'treatment', 'treatment zone', 'used', 'used recycling', 'waste', 'waste water', 'water', 'water delivered', 'water distribution', 'water introduced', 'water processing', 'water time', 'zone', 'zone aggregation', 'zone pact', 'zone settling', 'zone side', 'zone used']\n"
     ]
    },
    {
     "name": "stderr",
     "output_type": "stream",
     "text": [
      "C:\\Users\\HP\\anaconda3\\envs\\Pytorchgpu\\lib\\site-packages\\sklearn\\utils\\deprecation.py:87: FutureWarning: Function get_feature_names is deprecated; get_feature_names is deprecated in 1.0 and will be removed in 1.2. Please use get_feature_names_out instead.\n",
      "  warnings.warn(msg, category=FutureWarning)\n",
      "C:\\Users\\HP\\anaconda3\\envs\\Pytorchgpu\\lib\\site-packages\\sklearn\\utils\\deprecation.py:87: FutureWarning: Function get_feature_names is deprecated; get_feature_names is deprecated in 1.0 and will be removed in 1.2. Please use get_feature_names_out instead.\n",
      "  warnings.warn(msg, category=FutureWarning)\n",
      "C:\\Users\\HP\\anaconda3\\envs\\Pytorchgpu\\lib\\site-packages\\sklearn\\utils\\deprecation.py:87: FutureWarning: Function get_feature_names is deprecated; get_feature_names is deprecated in 1.0 and will be removed in 1.2. Please use get_feature_names_out instead.\n",
      "  warnings.warn(msg, category=FutureWarning)\n",
      "C:\\Users\\HP\\anaconda3\\envs\\Pytorchgpu\\lib\\site-packages\\sklearn\\utils\\deprecation.py:87: FutureWarning: Function get_feature_names is deprecated; get_feature_names is deprecated in 1.0 and will be removed in 1.2. Please use get_feature_names_out instead.\n",
      "  warnings.warn(msg, category=FutureWarning)\n",
      "C:\\Users\\HP\\anaconda3\\envs\\Pytorchgpu\\lib\\site-packages\\sklearn\\utils\\deprecation.py:87: FutureWarning: Function get_feature_names is deprecated; get_feature_names is deprecated in 1.0 and will be removed in 1.2. Please use get_feature_names_out instead.\n",
      "  warnings.warn(msg, category=FutureWarning)\n"
     ]
    },
    {
     "name": "stdout",
     "output_type": "stream",
     "text": [
      "['acid', 'acid aninitial', 'acid methyl', 'adding', 'adding small', 'alcohol', 'alcohol effect', 'amino', 'amino effect', 'amino taking', 'amount', 'amount triisopropylsilane', 'aninitial', 'aninitial raw', 'butyl', 'butyl ester', 'byproduct', 'byproduct extremely', 'cansolve', 'cansolve problem', 'chloride', 'chloride reacting', 'comprises', 'comprises following', 'concentration', 'concentration dichloromethane', 'dichloromethane', 'dichloromethane trifluoroacetate', 'difficulty', 'difficulty existing', 'dimethyl', 'dimethyl glutamate', 'discloses', 'discloses method', 'easy', 'easy treat', 'effect', 'effect sodium', 'effect thionyl', 'ester', 'ester adding', 'ester generate', 'ester low', 'ester method', 'ester position', 'ester reacting', 'ester tert', 'ester trichloroacetic', 'existing', 'existing synthesizing', 'extremely', 'extremely easy', 'following', 'following step', 'generate', 'generate dimethyl', 'generate glutamic', 'generate triphenylmethyl', 'generating', 'generating dimethyl', 'glutamate', 'glutamate triphenylchloromethane', 'glutamate triphenylmethyl', 'glutamate using', 'glutamic', 'glutamic acid', 'high', 'high product', 'hydroxide', 'hydroxide generate', 'imine', 'imine tert', 'invention', 'invention discloses', 'large', 'large operation', 'low', 'low concentration', 'material', 'material methyl', 'method', 'method comprises', 'method simple', 'method synthesizing', 'methyl', 'methyl alcohol', 'methyl ester', 'operation', 'operation byproduct', 'operation difficulty', 'position', 'position dimethyl', 'problem', 'problem large', 'product', 'product yield', 'protected', 'protected amino', 'raw', 'raw material', 'reacting', 'reacting dimethyl', 'reacting triphenylmethyl', 'simple', 'simple operation', 'small', 'small amount', 'sodium', 'sodium hydroxide', 'solution', 'solution take', 'step', 'step generating', 'synthesizing', 'synthesizing glutamic', 'synthesizing method', 'take', 'take triphenylmethyl', 'taking', 'taking methyl', 'tert', 'tert butyl', 'thionyl', 'thionyl chloride', 'treat', 'treat high', 'trichloroacetic', 'trichloroacetic imine', 'trifluoroacetate', 'trifluoroacetate solution', 'triisopropylsilane', 'triisopropylsilane triphenylmethyl', 'triphenylchloromethane', 'triphenylchloromethane generate', 'triphenylmethyl', 'triphenylmethyl generate', 'triphenylmethyl glutamic', 'triphenylmethyl protected', 'using', 'using glutamic', 'yield', 'yield cansolve']\n"
     ]
    },
    {
     "name": "stderr",
     "output_type": "stream",
     "text": [
      "C:\\Users\\HP\\anaconda3\\envs\\Pytorchgpu\\lib\\site-packages\\sklearn\\utils\\deprecation.py:87: FutureWarning: Function get_feature_names is deprecated; get_feature_names is deprecated in 1.0 and will be removed in 1.2. Please use get_feature_names_out instead.\n",
      "  warnings.warn(msg, category=FutureWarning)\n",
      "C:\\Users\\HP\\anaconda3\\envs\\Pytorchgpu\\lib\\site-packages\\sklearn\\utils\\deprecation.py:87: FutureWarning: Function get_feature_names is deprecated; get_feature_names is deprecated in 1.0 and will be removed in 1.2. Please use get_feature_names_out instead.\n",
      "  warnings.warn(msg, category=FutureWarning)\n",
      "C:\\Users\\HP\\anaconda3\\envs\\Pytorchgpu\\lib\\site-packages\\sklearn\\utils\\deprecation.py:87: FutureWarning: Function get_feature_names is deprecated; get_feature_names is deprecated in 1.0 and will be removed in 1.2. Please use get_feature_names_out instead.\n",
      "  warnings.warn(msg, category=FutureWarning)\n"
     ]
    },
    {
     "name": "stdout",
     "output_type": "stream",
     "text": [
      "['according', 'according mathematical', 'according orientation', 'adjustment', 'adjustment system', 'air', 'air condition', 'algorithm', 'aninjection', 'aninjection type', 'baseband', 'baseband sampling', 'based', 'based virtual', 'clutter', 'clutter iq', 'completed', 'completed according', 'comprises', 'comprises step', 'condition', 'condition iq', 'data', 'data air', 'data clutter', 'data generation', 'data processing', 'data radar', 'data software', 'data synthesized', 'discloses', 'discloses interference', 'distance', 'distance based', 'distribution', 'distribution information', 'empty', 'empty situation', 'frequency', 'frequency interference', 'generates', 'generates interference', 'generation', 'generation completed', 'guide', 'guide adjustment', 'information', 'information issued', 'injection', 'injection type', 'interference', 'interference machine', 'interference semi', 'interference signal', 'invention', 'invention discloses', 'iq', 'iq data', 'issued', 'issued guide', 'issued pilot', 'machine', 'machine according', 'mathematical', 'mathematical modeling', 'method', 'method comprises', 'method injection', 'modeling', 'modeling software', 'modulated', 'modulated interference', 'modulates', 'modulates radio', 'modulation', 'modulation method', 'orientation', 'orientation distance', 'performs', 'performs vector', 'physical', 'physical radar', 'pilot', 'pilot seat', 'processing', 'processing algorithm', 'processing data', 'radar', 'radar baseband', 'radar performs', 'radar receives', 'radar signal', 'radar simulator', 'radio', 'radio frequency', 'realizing', 'realizing radar', 'receives', 'receives aninjection', 'receives target', 'sampling', 'sampling signal', 'seat', 'seat target', 'semi', 'semi physical', 'signal', 'signal interference', 'signal iq', 'signal modulates', 'signal modulation', 'signal processing', 'signal used', 'simulator', 'simulator method', 'situation', 'situation issued', 'software', 'software radar', 'station', 'station distribution', 'step', 'step software', 'synthesis', 'synthesis modulated', 'synthesized', 'synthesized data', 'system', 'system generates', 'target', 'target clutter', 'target empty', 'type', 'type interference', 'used', 'used realizing', 'vector', 'vector synthesis', 'virtual', 'virtual station']\n",
      "['abstraction', 'abstraction layer', 'adopting', 'adopting embodiment', 'advance', 'advance medium', 'algorithm', 'algorithm process', 'algorithm provided', 'algorithm third', 'android', 'android system', 'application', 'application adopting', 'application advance', 'application data', 'application directly', 'application layer', 'application method', 'application request', 'application sends', 'applied', 'applied electronic', 'call', 'call image', 'comprises', 'comprises medium', 'comprises step', 'current', 'current photographing', 'dark', 'dark environment', 'dark light', 'data', 'data call', 'data dark', 'data image', 'data obtain', 'data request', 'data third', 'directly', 'directly use', 'discloses', 'discloses dark', 'electronic', 'electronic equipment', 'embodiment', 'embodiment invention', 'enhancement', 'enhancement algorithm', 'environment', 'environment electronic', 'environment third', 'equipment', 'equipment comprises', 'equipment dark', 'equipment electronic', 'hardware', 'hardware abstraction', 'image', 'image enhancement', 'invention', 'invention discloses', 'invention third', 'layer', 'layer android', 'layer receives', 'layer sends', 'light', 'light environment', 'light photographing', 'medium', 'medium service', 'method', 'method applied', 'method comprises', 'method related', 'module', 'module android', 'module hardware', 'obtain', 'obtain target', 'obtains', 'obtains processed', 'open', 'open third', 'original', 'original application', 'party', 'party application', 'photographing', 'photographing environment', 'photographing method', 'process', 'process original', 'processed', 'processed original', 'provided', 'provided system', 'provided third', 'receives', 'receives data', 'related', 'related equipment', 'request', 'request android', 'request hardware', 'request obtains', 'sends', 'sends data', 'sends target', 'service', 'service module', 'step', 'step current', 'system', 'system application', 'system hardware', 'system open', 'system process', 'system provided', 'target', 'target application', 'third', 'third party', 'use', 'use image']\n"
     ]
    },
    {
     "name": "stderr",
     "output_type": "stream",
     "text": [
      "C:\\Users\\HP\\anaconda3\\envs\\Pytorchgpu\\lib\\site-packages\\sklearn\\utils\\deprecation.py:87: FutureWarning: Function get_feature_names is deprecated; get_feature_names is deprecated in 1.0 and will be removed in 1.2. Please use get_feature_names_out instead.\n",
      "  warnings.warn(msg, category=FutureWarning)\n",
      "C:\\Users\\HP\\anaconda3\\envs\\Pytorchgpu\\lib\\site-packages\\sklearn\\utils\\deprecation.py:87: FutureWarning: Function get_feature_names is deprecated; get_feature_names is deprecated in 1.0 and will be removed in 1.2. Please use get_feature_names_out instead.\n",
      "  warnings.warn(msg, category=FutureWarning)\n",
      "C:\\Users\\HP\\anaconda3\\envs\\Pytorchgpu\\lib\\site-packages\\sklearn\\utils\\deprecation.py:87: FutureWarning: Function get_feature_names is deprecated; get_feature_names is deprecated in 1.0 and will be removed in 1.2. Please use get_feature_names_out instead.\n",
      "  warnings.warn(msg, category=FutureWarning)\n"
     ]
    },
    {
     "name": "stdout",
     "output_type": "stream",
     "text": [
      "['application', 'application explores', 'application generates', 'application receives', 'approach', 'approach solving', 'attribute', 'attribute common', 'attribute exemplary', 'attribute relevant', 'based', 'based set', 'class', 'class functionally', 'class include', 'common', 'common exemplary', 'describes', 'describes functional', 'descriptive', 'descriptive label', 'design', 'design application', 'design based', 'design end', 'design one', 'design problem', 'different', 'different approach', 'end', 'end user', 'exemplary', 'exemplary design', 'explores', 'explores functional', 'functional', 'functional attribute', 'functional space', 'functionally', 'functionally descriptive', 'generated', 'generated exemplary', 'generates', 'generates set', 'include', 'include different', 'label', 'label describes', 'label design', 'label generated', 'label similar', 'least', 'least functional', 'one', 'one functional', 'one system', 'problem', 'problem design', 'problem represent', 'receives', 'receives exemplary', 'relevant', 'relevant solving', 'represent', 'represent system', 'retrieve', 'retrieve one', 'set', 'set label', 'similar', 'similar set', 'solving', 'solving design', 'space', 'space retrieve', 'system', 'system class', 'system least', 'user', 'user one']\n",
      "['access', 'access disk', 'accessing', 'accessing efficiency', 'according', 'according method', 'according organizing', 'according preorder', 'according preset', 'according storage', 'accordingly', 'accordingly corresponding', 'address', 'address dirty', 'address serf', 'also', 'also determined', 'arranged', 'arranged element', 'array', 'array cache', 'array corresponding', 'array equal', 'array serve', 'array writing', 'black', 'black tree', 'block', 'block corresponding', 'block organized', 'block written', 'cache', 'cache module', 'cache space', 'cache storage', 'cacheand', 'cacheand storage', 'capacity', 'capacity disk', 'conducting', 'conducting ordered', 'corresponding', 'corresponding address', 'corresponding logical', 'data', 'data cache', 'data cacheand', 'data dirty', 'determined', 'determined according', 'determined accordingly', 'determined corresponding', 'dirty', 'dirty block', 'dirty data', 'discloses', 'discloses organizing', 'disk', 'disk array', 'distributed', 'distributed logical', 'divided', 'divided multiple', 'efficiency', 'efficiency system', 'element', 'element array', 'equal', 'equal conducting', 'improved', 'improved writing', 'invention', 'invention discloses', 'key', 'key value', 'logical', 'logical volume', 'management', 'management method', 'method', 'method cache', 'method system', 'mode', 'mode arranged', 'mode written', 'module', 'module also', 'module distributed', 'module multiple', 'multiple', 'multiple cache', 'multiple logical', 'node', 'node red', 'one', 'one mode', 'one one', 'ordered', 'ordered access', 'organized', 'organized red', 'organizing', 'organizing management', 'preorder', 'preorder traversal', 'preset', 'preset red', 'ranking', 'ranking rule', 'red', 'red black', 'respectively', 'respectively according', 'root', 'root node', 'rule', 'rule dirty', 'serf', 'serf key', 'serve', 'serve root', 'shortened', 'shortened accessing', 'space', 'space divided', 'speed', 'speed improved', 'storage', 'storage capacity', 'storage system', 'system', 'system according', 'system address', 'system dirty', 'system improved', 'time', 'time shortened', 'traversal', 'traversal mode', 'tree', 'tree according', 'tree corresponding', 'tree ranking', 'tree respectively', 'value', 'value node', 'volume', 'volume array', 'volume cache', 'volume determined', 'volume dirty', 'volume one', 'writing', 'writing speed', 'writing time', 'written', 'written according', 'written disk']\n"
     ]
    },
    {
     "name": "stderr",
     "output_type": "stream",
     "text": [
      "C:\\Users\\HP\\anaconda3\\envs\\Pytorchgpu\\lib\\site-packages\\sklearn\\utils\\deprecation.py:87: FutureWarning: Function get_feature_names is deprecated; get_feature_names is deprecated in 1.0 and will be removed in 1.2. Please use get_feature_names_out instead.\n",
      "  warnings.warn(msg, category=FutureWarning)\n",
      "C:\\Users\\HP\\anaconda3\\envs\\Pytorchgpu\\lib\\site-packages\\sklearn\\utils\\deprecation.py:87: FutureWarning: Function get_feature_names is deprecated; get_feature_names is deprecated in 1.0 and will be removed in 1.2. Please use get_feature_names_out instead.\n",
      "  warnings.warn(msg, category=FutureWarning)\n",
      "C:\\Users\\HP\\anaconda3\\envs\\Pytorchgpu\\lib\\site-packages\\sklearn\\utils\\deprecation.py:87: FutureWarning: Function get_feature_names is deprecated; get_feature_names is deprecated in 1.0 and will be removed in 1.2. Please use get_feature_names_out instead.\n",
      "  warnings.warn(msg, category=FutureWarning)\n",
      "C:\\Users\\HP\\anaconda3\\envs\\Pytorchgpu\\lib\\site-packages\\sklearn\\utils\\deprecation.py:87: FutureWarning: Function get_feature_names is deprecated; get_feature_names is deprecated in 1.0 and will be removed in 1.2. Please use get_feature_names_out instead.\n",
      "  warnings.warn(msg, category=FutureWarning)\n",
      "C:\\Users\\HP\\anaconda3\\envs\\Pytorchgpu\\lib\\site-packages\\sklearn\\utils\\deprecation.py:87: FutureWarning: Function get_feature_names is deprecated; get_feature_names is deprecated in 1.0 and will be removed in 1.2. Please use get_feature_names_out instead.\n",
      "  warnings.warn(msg, category=FutureWarning)\n"
     ]
    },
    {
     "name": "stdout",
     "output_type": "stream",
     "text": [
      "['adjusts', 'adjusts output', 'along', 'along projection', 'angle', 'angle project', 'ar', 'ar image', 'area', 'area optical', 'converter', 'converter optical', 'converter receives', 'device', 'device first', 'device optical', 'device receives', 'direction', 'direction optical', 'display', 'display device', 'display hmd', 'display image', 'engine', 'engine display', 'engine first', 'engine second', 'external', 'external image', 'first', 'first luminance', 'first time', 'generating', 'generating method', 'head', 'head mounted', 'hmd', 'hmd image', 'hmd includes', 'image', 'image adjusts', 'image along', 'image display', 'image external', 'image generating', 'image provided', 'image target', 'image transmits', 'includes', 'includes display', 'inhibits', 'inhibits transmission', 'longer', 'longer second', 'lower', 'lower second', 'luminance', 'luminance ar', 'method', 'method thereof', 'mounted', 'mounted display', 'open', 'open transmission', 'optical', 'optical converter', 'optical engine', 'optical shutter', 'output', 'output angle', 'output image', 'path', 'path external', 'path second', 'period', 'period first', 'period inhibits', 'period longer', 'period lower', 'project', 'project output', 'projection', 'projection direction', 'provided', 'provided hmd', 'provided optical', 'receives', 'receives ar', 'receives display', 'second', 'second luminance', 'second time', 'shutter', 'shutter open', 'shutter optical', 'target', 'target area', 'thereof', 'thereof provided', 'time', 'time period', 'transmission', 'transmission path', 'transmits', 'transmits display']\n",
      "['advantageously', 'advantageously single', 'analyzer', 'analyzer vitro', 'arm', 'arm establishes', 'arm pca', 'arm probe', 'assembly', 'assembly pca', 'attach', 'attach fluid', 'automated', 'automated connection', 'capacitive', 'capacitive liquid', 'circuit', 'circuit assembly', 'circuity', 'circuity probe', 'clinical', 'clinical analyzer', 'comprise', 'comprise respective', 'comprises', 'comprises plurality', 'comprises primary', 'connection', 'connection pca', 'connection probe', 'connection required', 'connection transfer', 'detection', 'detection circuity', 'detection printed', 'diagnostics', 'diagnostics ivd', 'directed', 'directed simple', 'electrical', 'electrical connection', 'electrically', 'electrically isolated', 'embodiments', 'embodiments directed', 'environment', 'environment hospital', 'establishes', 'establishes connection', 'fitting', 'fitting secures', 'fitting used', 'fluid', 'fluid electrical', 'fluid tubing', 'forming', 'forming set', 'head', 'head respective', 'hospital', 'hospital laboratory', 'isolated', 'isolated surface', 'ivd', 'ivd environment', 'laboratory', 'laboratory setting', 'less', 'less automated', 'level', 'level detection', 'liquid', 'liquid level', 'loaded', 'loaded pin', 'mechanical', 'mechanical fluid', 'nested', 'nested within', 'pca', 'pca comprises', 'pca probe', 'pca use', 'pin', 'pin capacitive', 'plurality', 'plurality spring', 'portion', 'portion thereof', 'primary', 'primary tube', 'printed', 'printed circuit', 'probe', 'probe capacitive', 'probe comprises', 'probe resulting', 'probe transfer', 'probe within', 'required', 'required fitting', 'respective', 'respective head', 'respective top', 'resulting', 'resulting mechanical', 'secondary', 'secondary tube', 'secures', 'secures probe', 'set', 'set electrically', 'setting', 'setting advantageously', 'simple', 'simple tool', 'single', 'single user', 'spring', 'spring loaded', 'surface', 'surface fitting', 'thereof', 'thereof forming', 'tool', 'tool less', 'top', 'top portion', 'transfer', 'transfer arm', 'transfer probe', 'tube', 'tube comprise', 'tube nested', 'tube secondary', 'tube wherein', 'tubing', 'tubing transfer', 'use', 'use clinical', 'used', 'used attach', 'user', 'user connection', 'vitro', 'vitro diagnostics', 'wherein', 'wherein primary', 'within', 'within secondary', 'within transfer']\n"
     ]
    },
    {
     "name": "stderr",
     "output_type": "stream",
     "text": [
      "C:\\Users\\HP\\anaconda3\\envs\\Pytorchgpu\\lib\\site-packages\\sklearn\\utils\\deprecation.py:87: FutureWarning: Function get_feature_names is deprecated; get_feature_names is deprecated in 1.0 and will be removed in 1.2. Please use get_feature_names_out instead.\n",
      "  warnings.warn(msg, category=FutureWarning)\n",
      "C:\\Users\\HP\\anaconda3\\envs\\Pytorchgpu\\lib\\site-packages\\sklearn\\utils\\deprecation.py:87: FutureWarning: Function get_feature_names is deprecated; get_feature_names is deprecated in 1.0 and will be removed in 1.2. Please use get_feature_names_out instead.\n",
      "  warnings.warn(msg, category=FutureWarning)\n",
      "C:\\Users\\HP\\anaconda3\\envs\\Pytorchgpu\\lib\\site-packages\\sklearn\\utils\\deprecation.py:87: FutureWarning: Function get_feature_names is deprecated; get_feature_names is deprecated in 1.0 and will be removed in 1.2. Please use get_feature_names_out instead.\n",
      "  warnings.warn(msg, category=FutureWarning)\n",
      "C:\\Users\\HP\\anaconda3\\envs\\Pytorchgpu\\lib\\site-packages\\sklearn\\utils\\deprecation.py:87: FutureWarning: Function get_feature_names is deprecated; get_feature_names is deprecated in 1.0 and will be removed in 1.2. Please use get_feature_names_out instead.\n",
      "  warnings.warn(msg, category=FutureWarning)\n"
     ]
    },
    {
     "name": "stdout",
     "output_type": "stream",
     "text": [
      "['abnormality', 'abnormality diagnosis', 'among', 'among area', 'area', 'area cause', 'area easily', 'area facility', 'area factor', 'area monitored', 'basis', 'basis information', 'basis state', 'cause', 'cause state', 'causing', 'causing state', 'change', 'change change', 'change detection', 'change facility', 'change relationship', 'containing', 'containing propagation', 'correspond', 'correspond detection', 'data', 'data item', 'detection', 'detection mean', 'detection result', 'detection unit', 'detects', 'detects state', 'determine', 'determine area', 'device', 'device facility', 'diagnosis', 'diagnosis system', 'differs', 'differs normal', 'easily', 'easily determine', 'effect', 'effect among', 'estimated', 'estimated basis', 'even', 'even extremely', 'express', 'express propagation', 'extremely', 'extremely large', 'facility', 'facility correspond', 'facility detects', 'facility estimated', 'facility present', 'factor', 'factor causing', 'information', 'information containing', 'information relationship', 'invention', 'invention state', 'item', 'item pertaining', 'large', 'large number', 'mean', 'mean basis', 'mean plurality', 'monitored', 'monitored detection', 'normal', 'normal operation', 'number', 'number device', 'operation', 'operation data', 'operation even', 'pertaining', 'pertaining area', 'plurality', 'plurality detection', 'plurality operation', 'possible', 'possible express', 'present', 'present invention', 'propagation', 'propagation relationship', 'provided', 'provided abnormality', 'relationship', 'relationship detection', 'relationship effect', 'relationship plurality', 'result', 'result detection', 'set', 'set area', 'state', 'state change', 'state differs', 'system', 'system possible', 'unit', 'unit area', 'unit information', 'unit set', 'unit state']\n",
      "['antibody', 'antibody preparation', 'antibody together', 'application', 'application prospect', 'better', 'better application', 'better therapeutic', 'canproduce', 'canproduce synergistic', 'cisplatin', 'cisplatin canproduce', 'combination', 'combination comprising', 'comprising', 'comprising nfib', 'cosmetic', 'cosmetic use', 'effect', 'effect better', 'invention', 'invention relates', 'medicament', 'medicament cosmetic', 'monoclonal', 'monoclonal antibody', 'nfib', 'nfib monoclonal', 'preparation', 'preparation medicament', 'present', 'present invention', 'prospect', 'relates', 'relates use', 'synergistic', 'synergistic effect', 'therapeutic', 'therapeutic effect', 'together', 'together cisplatin', 'use', 'use antibody', 'use combination']\n"
     ]
    },
    {
     "name": "stderr",
     "output_type": "stream",
     "text": [
      "C:\\Users\\HP\\anaconda3\\envs\\Pytorchgpu\\lib\\site-packages\\sklearn\\utils\\deprecation.py:87: FutureWarning: Function get_feature_names is deprecated; get_feature_names is deprecated in 1.0 and will be removed in 1.2. Please use get_feature_names_out instead.\n",
      "  warnings.warn(msg, category=FutureWarning)\n",
      "C:\\Users\\HP\\anaconda3\\envs\\Pytorchgpu\\lib\\site-packages\\sklearn\\utils\\deprecation.py:87: FutureWarning: Function get_feature_names is deprecated; get_feature_names is deprecated in 1.0 and will be removed in 1.2. Please use get_feature_names_out instead.\n",
      "  warnings.warn(msg, category=FutureWarning)\n",
      "C:\\Users\\HP\\anaconda3\\envs\\Pytorchgpu\\lib\\site-packages\\sklearn\\utils\\deprecation.py:87: FutureWarning: Function get_feature_names is deprecated; get_feature_names is deprecated in 1.0 and will be removed in 1.2. Please use get_feature_names_out instead.\n",
      "  warnings.warn(msg, category=FutureWarning)\n"
     ]
    },
    {
     "name": "stdout",
     "output_type": "stream",
     "text": [
      "['absorbing', 'absorbing filling', 'achieved', 'along', 'along annular', 'also', 'also relates', 'among', 'among ball', 'annular', 'annular center', 'annular inner', 'arranged', 'arranged side', 'away', 'away annular', 'balance', 'balance ring', 'ball', 'ball betteruse', 'ball housing', 'ball invention', 'ball rotate', 'betteruse', 'betteruse effect', 'caused', 'caused collision', 'cavity', 'cavity annular', 'cavity internally', 'cavity liquid', 'cavity maintaining', 'cavity used', 'center', 'center annular', 'collision', 'collision among', 'comprises', 'comprises housing', 'device', 'device arranged', 'device discharged', 'device housing', 'discharged', 'discharged increase', 'effect', 'effect achieved', 'equal', 'equal second', 'filling', 'filling liquid', 'first', 'first rotation', 'higher', 'higher first', 'holding', 'holding device', 'housing', 'housing annular', 'housing rotated', 'increase', 'increase thefilling', 'inner', 'inner cavity', 'internally', 'internally provided', 'invention', 'invention also', 'invention relates', 'liquid', 'liquid among', 'liquid annular', 'liquid holding', 'liquid liquid', 'liquid plurality', 'lower', 'lower equal', 'machine', 'machine provided', 'maintaining', 'maintaining filling', 'noise', 'noise caused', 'plurality', 'plurality ball', 'provided', 'provided balance', 'provided filling', 'reduce', 'reduce filling', 'reduce noise', 'relates', 'relates balance', 'relates washing', 'ring', 'ring balance', 'ring comprises', 'ring reduce', 'rotate', 'rotate along', 'rotated', 'rotated rotation', 'rotation', 'rotation speed', 'second', 'second rotation', 'side', 'side away', 'speed', 'speed filling', 'speed higher', 'speed lower', 'speed reduce', 'thefilling', 'thefilling liquid', 'used', 'used absorbing', 'washing', 'washing machine']\n",
      "['16567', '16567 application', '33', '33 33', '33 mm', 'application', 'application thereof', 'bacillus', 'bacillus velezensis', 'better', 'better prevention', 'collection', 'collection number', 'confrontation', 'confrontation culture', 'control', 'control effect', 'culture', 'culture test', 'effect', 'effect rice', 'false', 'false smut', 'field', 'field microorganism', 'inhibition', 'inhibition zoneof', 'invention', 'invention better', 'invention relates', 'microorganism', 'microorganism particular', 'mm', 'number', 'number 16567', 'particular', 'particular relates', 'point', 'point confrontation', 'prevention', 'prevention control', 'qyqn', 'qyqn collection', 'qyqn rice', 'relates', 'relates bacillus', 'relates technical', 'result', 'result three', 'rice', 'rice false', 'show', 'show inhibition', 'smut', 'smut 33', 'smut bacillus', 'smut result', 'strain', 'strain qyqn', 'technical', 'technical field', 'test', 'test show', 'thereof', 'thereof rice', 'three', 'three point', 'velezensis', 'velezensis invention', 'velezensis qyqn', 'velezensis strain', 'zoneof', 'zoneof bacillus']\n"
     ]
    },
    {
     "name": "stderr",
     "output_type": "stream",
     "text": [
      "C:\\Users\\HP\\anaconda3\\envs\\Pytorchgpu\\lib\\site-packages\\sklearn\\utils\\deprecation.py:87: FutureWarning: Function get_feature_names is deprecated; get_feature_names is deprecated in 1.0 and will be removed in 1.2. Please use get_feature_names_out instead.\n",
      "  warnings.warn(msg, category=FutureWarning)\n",
      "C:\\Users\\HP\\anaconda3\\envs\\Pytorchgpu\\lib\\site-packages\\sklearn\\utils\\deprecation.py:87: FutureWarning: Function get_feature_names is deprecated; get_feature_names is deprecated in 1.0 and will be removed in 1.2. Please use get_feature_names_out instead.\n",
      "  warnings.warn(msg, category=FutureWarning)\n",
      "C:\\Users\\HP\\anaconda3\\envs\\Pytorchgpu\\lib\\site-packages\\sklearn\\utils\\deprecation.py:87: FutureWarning: Function get_feature_names is deprecated; get_feature_names is deprecated in 1.0 and will be removed in 1.2. Please use get_feature_names_out instead.\n",
      "  warnings.warn(msg, category=FutureWarning)\n"
     ]
    },
    {
     "name": "stdout",
     "output_type": "stream",
     "text": [
      "['abnormal', 'abnormal automatically', 'abnormal condition', 'accident', 'accident caused', 'according', 'according embodiment', 'acquiring', 'acquiring state', 'alarm', 'alarm prompt', 'alarm prompting', 'automatically', 'automatically making', 'automatically taken', 'avoided', 'avoided driving', 'braking', 'braking alarm', 'caused', 'caused control', 'comprises', 'comprises step', 'condition', 'condition avoided', 'condition vehicle', 'control', 'control method', 'control vehicle', 'controlled', 'controlled perform', 'deceleration', 'deceleration braking', 'device', 'device storage', 'driver', 'driver abnormal', 'driver thereby', 'driver vehicle', 'driving', 'driving safety', 'embodiment', 'embodiment invention', 'greater', 'greater preset', 'improved', 'indicates', 'indicates state', 'information', 'information driver', 'information indicates', 'invention', 'invention relates', 'invention vehicle', 'making', 'making vehicle', 'medium', 'medium vehicle', 'method', 'method comprises', 'method device', 'monitoring', 'monitoring speed', 'perform', 'perform deceleration', 'preset', 'preset speed', 'prompt', 'prompt according', 'prompt driver', 'prompting', 'prompting reduce', 'reduce', 'reduce vehicle', 'relates', 'relates vehicle', 'safety', 'safety improved', 'speed', 'speed greater', 'speed prompt', 'speed value', 'speed vehicle', 'state', 'state driver', 'state information', 'step', 'step monitoring', 'storage', 'storage medium', 'taken', 'taken abnormal', 'thereby', 'thereby traffic', 'traffic', 'traffic accident', 'value', 'value state', 'vehicle', 'vehicle abnormal', 'vehicle acquiring', 'vehicle automatically', 'vehicle control', 'vehicle controlled', 'vehicle perform', 'vehicle speed', 'vehicle vehicle']\n",
      "['advantage', 'advantage dangerous', 'annular', 'annular inner', 'annular outer', 'annular structural', 'automobile', 'automobile convenience', 'avoided', 'avoided zero', 'axial', 'axial direction', 'axially', 'axially distributed', 'base', 'base plurality', 'body', 'body axial', 'body fixed', 'body inner', 'brought', 'brought mounting', 'castoff', 'castoff tire', 'circumferential', 'circumferential direction', 'comprises', 'comprises inner', 'comprises rim', 'condition', 'condition like', 'connected', 'connected corresponding', 'connected self', 'convenience', 'convenience brought', 'corresponding', 'corresponding inner', 'corresponding manner', 'dangerous', 'dangerous working', 'device', 'device comprises', 'device connected', 'device inner', 'device plurality', 'direction', 'direction annular', 'direction fixedly', 'direction lifting', 'discloses', 'discloses safety', 'distributed', 'distributed circumferential', 'distributed staggered', 'drive', 'drive move', 'due', 'due tire', 'fixed', 'fixed annular', 'fixedly', 'fixedly connected', 'fixedly mounted', 'form', 'form least', 'individual', 'individual axial', 'individual drive', 'individual moved', 'individual uniformly', 'inner', 'inner supporting', 'inner supportingindividuals', 'inner wall', 'inside', 'inside outside', 'invention', 'invention discloses', 'least', 'least two', 'lifting', 'lifting device', 'like', 'like castoff', 'locking', 'locking mechanism', 'manner', 'manner form', 'manner inner', 'manner moving', 'mechanism', 'mechanism annular', 'mechanism safety', 'mounted', 'mounted outer', 'mounting', 'mounting process', 'move', 'move radially', 'moved', 'moved position', 'moving', 'moving portion', 'mutually', 'mutually overlapped', 'one', 'one corresponding', 'one one', 'outer', 'outer wall', 'outside', 'outside mutually', 'overlapped', 'overlapped part', 'part', 'part two', 'plurality', 'plurality inner', 'plurality lifting', 'plurality self', 'portion', 'portion lifting', 'position', 'position inside', 'pressure', 'pressure traveling', 'process', 'radially', 'radially inner', 'rim', 'rim sleeved', 'rim tire', 'rupture', 'rupture tire', 'safety', 'safety tire', 'self', 'self locking', 'side', 'side squeezing', 'sleeved', 'sleeved manner', 'squeezing', 'squeezing rupture', 'staggered', 'staggered manner', 'structural', 'structural body', 'supporting', 'supporting base', 'supporting device', 'supporting individual', 'supporting structural', 'supportingindividuals', 'supportingindividuals plurality', 'tire', 'tire advantage', 'tire avoided', 'tire body', 'tire comprises', 'tire due', 'tire side', 'traveling', 'traveling automobile', 'two', 'two annular', 'two inner', 'uniformly', 'uniformly distributed', 'wall', 'wall axially', 'wall fixedly', 'wall one', 'wall rim', 'working', 'working condition', 'zero', 'zero pressure']\n"
     ]
    },
    {
     "name": "stderr",
     "output_type": "stream",
     "text": [
      "C:\\Users\\HP\\anaconda3\\envs\\Pytorchgpu\\lib\\site-packages\\sklearn\\utils\\deprecation.py:87: FutureWarning: Function get_feature_names is deprecated; get_feature_names is deprecated in 1.0 and will be removed in 1.2. Please use get_feature_names_out instead.\n",
      "  warnings.warn(msg, category=FutureWarning)\n",
      "C:\\Users\\HP\\anaconda3\\envs\\Pytorchgpu\\lib\\site-packages\\sklearn\\utils\\deprecation.py:87: FutureWarning: Function get_feature_names is deprecated; get_feature_names is deprecated in 1.0 and will be removed in 1.2. Please use get_feature_names_out instead.\n",
      "  warnings.warn(msg, category=FutureWarning)\n",
      "C:\\Users\\HP\\anaconda3\\envs\\Pytorchgpu\\lib\\site-packages\\sklearn\\utils\\deprecation.py:87: FutureWarning: Function get_feature_names is deprecated; get_feature_names is deprecated in 1.0 and will be removed in 1.2. Please use get_feature_names_out instead.\n",
      "  warnings.warn(msg, category=FutureWarning)\n",
      "C:\\Users\\HP\\anaconda3\\envs\\Pytorchgpu\\lib\\site-packages\\sklearn\\utils\\deprecation.py:87: FutureWarning: Function get_feature_names is deprecated; get_feature_names is deprecated in 1.0 and will be removed in 1.2. Please use get_feature_names_out instead.\n",
      "  warnings.warn(msg, category=FutureWarning)\n"
     ]
    },
    {
     "name": "stdout",
     "output_type": "stream",
     "text": [
      "['achieved', 'achieved defect', 'afterceramic', 'afterceramic tile', 'arranged', 'arranged left', 'belt', 'belt self', 'block', 'block machined', 'block pulled', 'burr', 'burr found', 'carried', 'carried sorting', 'caused', 'caused collision', 'ceramic', 'ceramic tile', 'collision', 'collision ceramic', 'comprises', 'comprises picking', 'consumption', 'consumption generated', 'control', 'control system', 'controlling', 'controlling energy', 'conveyor', 'conveyor belt', 'defect', 'defect original', 'development', 'development prospect', 'device', 'device ceramic', 'device comprises', 'downwards', 'downwards downwards', 'downwards press', 'effect', 'effect ceramic', 'electronic', 'electronic control', 'energy', 'energy consumption', 'equipment', 'equipment electronic', 'fall', 'fall processing', 'field', 'field ceramic', 'force', 'force telescopic', 'found', 'found telescopic', 'generated', 'generated lamination', 'good', 'good development', 'gravity', 'gravity tightening', 'happening', 'happening machining', 'inclined', 'inclined opening', 'integrated', 'integrated processing', 'invention', 'invention relates', 'lamination', 'lamination caused', 'lamination rapid', 'left', 'left right', 'limiting', 'limiting mechanism', 'located', 'located polishing', 'machined', 'machined non', 'machining', 'machining carried', 'materialscreening', 'materialscreening inclined', 'mechanism', 'mechanism limiting', 'mechanism located', 'mechanism polishing', 'mechanism recycling', 'mechanism sequentially', 'mechanism wherein', 'non', 'non lamination', 'opening', 'opening ceramic', 'original', 'original equipment', 'overcome', 'overcome good', 'particular', 'particular ceramic', 'picking', 'picking mechanism', 'polishing', 'polishing integrated', 'polishing mechanism', 'polishing particular', 'press', 'press surface', 'pressing', 'pressing block', 'processing', 'processing conveyor', 'processing device', 'prone', 'prone happening', 'prospect', 'prospect achieved', 'pulled', 'pulled downwards', 'rapid', 'rapid sorting', 'reach', 'reach materialscreening', 'recycling', 'recycling mechanism', 'relates', 'relates technical', 'right', 'right afterceramic', 'screening', 'screening polishing', 'self', 'self gravity', 'sequentially', 'sequentially arranged', 'sorting', 'sorting effect', 'sorting overcome', 'surface', 'surface ceramic', 'system', 'system used', 'technical', 'technical field', 'telescopic', 'telescopic pressing', 'tightening', 'tightening force', 'tile', 'tile achieved', 'tile burr', 'tile ceramic', 'tile fall', 'tile prone', 'tile screening', 'tile transported', 'transported', 'transported reach', 'used', 'used controlling', 'wherein', 'wherein picking']\n"
     ]
    },
    {
     "name": "stderr",
     "output_type": "stream",
     "text": [
      "C:\\Users\\HP\\anaconda3\\envs\\Pytorchgpu\\lib\\site-packages\\sklearn\\utils\\deprecation.py:87: FutureWarning: Function get_feature_names is deprecated; get_feature_names is deprecated in 1.0 and will be removed in 1.2. Please use get_feature_names_out instead.\n",
      "  warnings.warn(msg, category=FutureWarning)\n",
      "C:\\Users\\HP\\anaconda3\\envs\\Pytorchgpu\\lib\\site-packages\\sklearn\\utils\\deprecation.py:87: FutureWarning: Function get_feature_names is deprecated; get_feature_names is deprecated in 1.0 and will be removed in 1.2. Please use get_feature_names_out instead.\n",
      "  warnings.warn(msg, category=FutureWarning)\n",
      "C:\\Users\\HP\\anaconda3\\envs\\Pytorchgpu\\lib\\site-packages\\sklearn\\utils\\deprecation.py:87: FutureWarning: Function get_feature_names is deprecated; get_feature_names is deprecated in 1.0 and will be removed in 1.2. Please use get_feature_names_out instead.\n",
      "  warnings.warn(msg, category=FutureWarning)\n",
      "C:\\Users\\HP\\anaconda3\\envs\\Pytorchgpu\\lib\\site-packages\\sklearn\\utils\\deprecation.py:87: FutureWarning: Function get_feature_names is deprecated; get_feature_names is deprecated in 1.0 and will be removed in 1.2. Please use get_feature_names_out instead.\n",
      "  warnings.warn(msg, category=FutureWarning)\n"
     ]
    },
    {
     "name": "stdout",
     "output_type": "stream",
     "text": [
      "['according', 'according first', 'according plurality', 'according scheme', 'acquires', 'acquires first', 'arranged', 'arranged load', 'arranges', 'arranges plurality', 'balancing', 'balancing method', 'balancing requirement', 'balancing strategy', 'call', 'call request', 'calling', 'calling first', 'calling request', 'complex', 'complex micro', 'comprises', 'comprises step', 'consumption', 'consumption end', 'consumption terminal', 'determines', 'determines first', 'embodiment', 'embodiment invention', 'end', 'end arranges', 'end determines', 'end initiate', 'first', 'first micro', 'first target', 'increasingly', 'increasingly complex', 'initiate', 'initiate micro', 'invention', 'invention increasingly', 'invention provides', 'load', 'load balancing', 'message', 'message micro', 'message obtain', 'met', 'method', 'method comprises', 'method server', 'micro', 'micro service', 'node', 'node according', 'node plurality', 'obtain', 'obtain plurality', 'plurality', 'plurality arranged', 'plurality load', 'plurality micro', 'provides', 'provides load', 'request', 'request message', 'requirement', 'requirement service', 'scheme', 'scheme embodiment', 'server', 'server method', 'service', 'service call', 'service calling', 'service consumption', 'service load', 'service met', 'service node', 'step', 'step micro', 'strategy', 'strategy according', 'strategy micro', 'target', 'target micro', 'terminal', 'terminal acquires']\n",
      "['adapted', 'adapted reflect', 'adapted reflective', 'adjustable', 'adjustable light', 'another', 'another curved', 'beam', 'beam emitted', 'beam reflected', 'configured', 'configured drive', 'curved', 'curved surface', 'different', 'different first', 'different second', 'drive', 'drive first', 'driving', 'driving mechanism', 'element', 'element first', 'element including', 'element provided', 'element second', 'emitted', 'emitted light', 'first', 'first another', 'first curved', 'first reflective', 'including', 'including first', 'including light', 'including second', 'lamp', 'lamp adjustable', 'light', 'light beam', 'light pattern', 'light source', 'mechanism', 'mechanism configured', 'pattern', 'pattern including', 'provided', 'provided first', 'reflect', 'reflect light', 'reflected', 'reflected first', 'reflective', 'reflective element', 'reflective light', 'reflective surface', 'second', 'second another', 'second curved', 'second reflective', 'source', 'source first', 'source second', 'surface', 'surface adapted', 'surface different', 'surface driving', 'surface first', 'surface second']\n"
     ]
    },
    {
     "name": "stderr",
     "output_type": "stream",
     "text": [
      "C:\\Users\\HP\\anaconda3\\envs\\Pytorchgpu\\lib\\site-packages\\sklearn\\utils\\deprecation.py:87: FutureWarning: Function get_feature_names is deprecated; get_feature_names is deprecated in 1.0 and will be removed in 1.2. Please use get_feature_names_out instead.\n",
      "  warnings.warn(msg, category=FutureWarning)\n",
      "C:\\Users\\HP\\anaconda3\\envs\\Pytorchgpu\\lib\\site-packages\\sklearn\\utils\\deprecation.py:87: FutureWarning: Function get_feature_names is deprecated; get_feature_names is deprecated in 1.0 and will be removed in 1.2. Please use get_feature_names_out instead.\n",
      "  warnings.warn(msg, category=FutureWarning)\n",
      "C:\\Users\\HP\\anaconda3\\envs\\Pytorchgpu\\lib\\site-packages\\sklearn\\utils\\deprecation.py:87: FutureWarning: Function get_feature_names is deprecated; get_feature_names is deprecated in 1.0 and will be removed in 1.2. Please use get_feature_names_out instead.\n",
      "  warnings.warn(msg, category=FutureWarning)\n"
     ]
    },
    {
     "name": "stdout",
     "output_type": "stream",
     "text": [
      "['according', 'according first', 'according state', 'arithmetic', 'arithmetic device', 'arithmetic unit', 'based', 'based arithmetic', 'binary', 'binary sequence', 'bit', 'bit data', 'calculation', 'calculation method', 'comprises', 'comprises controller', 'comprises first', 'comprises step', 'connected', 'connected negativeelectrode', 'connection', 'connection first', 'controller', 'controller first', 'controller isin', 'controller specifically', 'controlling', 'controlling state', 'controlling target', 'current', 'current source', 'data', 'data according', 'data input', 'determining', 'determining first', 'determining hamming', 'device', 'device arithmetic', 'device comprises', 'discloses', 'discloses hamming', 'drain', 'drain electrode', 'electrode', 'electrode first', 'embodiment', 'embodiment invention', 'executed', 'executed controller', 'first', 'first arithmetic', 'first binary', 'first bit', 'first gate', 'first memory', 'first output', 'first transistor', 'gate', 'gate voltage', 'grounded', 'grounded hamming', 'hamming', 'hamming weight', 'initial', 'initial resistance', 'input', 'input first', 'invention', 'invention discloses', 'isin', 'isin signal', 'low', 'low resistance', 'memory', 'memory according', 'memory first', 'memory low', 'memory source', 'method', 'method based', 'method comprises', 'method executed', 'negativeelectrode', 'negativeelectrode first', 'ofthe', 'ofthe first', 'output', 'output current', 'resistance', 'resistance state', 'sequence', 'sequence controlling', 'setting', 'setting initial', 'signal', 'signal connection', 'source', 'source electrode', 'specifically', 'specifically method', 'state', 'state determining', 'state first', 'state ofthe', 'step', 'step setting', 'target', 'target resistance', 'transistor', 'transistor according', 'transistor connected', 'transistor determining', 'transistor drain', 'transistor grounded', 'unit', 'unit comprises', 'unit controller', 'unit first', 'voltage', 'voltage controlling', 'voltage first', 'weight', 'weight calculation', 'weight first']\n",
      "['accuracy', 'accuracy weighing', 'air', 'air weighing', 'built', 'built model', 'calculation', 'calculation method', 'caused', 'caused single', 'combination', 'combination multiple', 'compensation', 'compensation calculation', 'data', 'data problem', 'data solved', 'differential', 'differential pressure', 'discloses', 'discloses interference', 'especially', 'especially processing', 'generated', 'generated air', 'improved', 'interference', 'interference compensation', 'interference micro', 'invention', 'invention discloses', 'low', 'low precision', 'measurement', 'measurement data', 'method', 'method system', 'micro', 'micro differential', 'model', 'model combination', 'multiple', 'multiple type', 'precision', 'precision caused', 'pressure', 'pressure generated', 'problem', 'problem low', 'process', 'process improved', 'processing', 'processing interference', 'production', 'production process', 'result', 'result built', 'result production', 'sensor', 'sensor accuracy', 'sensor data', 'sensor measurement', 'single', 'single type', 'solved', 'solved especially', 'system', 'system weighing', 'type', 'type sensor', 'weighing', 'weighing result', 'weighing sensor']\n"
     ]
    },
    {
     "name": "stderr",
     "output_type": "stream",
     "text": [
      "C:\\Users\\HP\\anaconda3\\envs\\Pytorchgpu\\lib\\site-packages\\sklearn\\utils\\deprecation.py:87: FutureWarning: Function get_feature_names is deprecated; get_feature_names is deprecated in 1.0 and will be removed in 1.2. Please use get_feature_names_out instead.\n",
      "  warnings.warn(msg, category=FutureWarning)\n",
      "C:\\Users\\HP\\anaconda3\\envs\\Pytorchgpu\\lib\\site-packages\\sklearn\\utils\\deprecation.py:87: FutureWarning: Function get_feature_names is deprecated; get_feature_names is deprecated in 1.0 and will be removed in 1.2. Please use get_feature_names_out instead.\n",
      "  warnings.warn(msg, category=FutureWarning)\n",
      "C:\\Users\\HP\\anaconda3\\envs\\Pytorchgpu\\lib\\site-packages\\sklearn\\utils\\deprecation.py:87: FutureWarning: Function get_feature_names is deprecated; get_feature_names is deprecated in 1.0 and will be removed in 1.2. Please use get_feature_names_out instead.\n",
      "  warnings.warn(msg, category=FutureWarning)\n"
     ]
    },
    {
     "name": "stdout",
     "output_type": "stream",
     "text": [
      "['acquires', 'acquires first', 'based', 'based customer', 'based first', 'based moving', 'calculating', 'calculating first', 'comprises', 'comprises server', 'corresponding', 'corresponding customer', 'customer', 'customer based', 'customer first', 'customer information', 'determining', 'determining based', 'determining pushing', 'discloses', 'discloses information', 'first', 'first information', 'first parameter', 'first store', 'includes', 'includes moving', 'including', 'including customer', 'information', 'information determining', 'information first', 'information includes', 'information including', 'information moving', 'information optimize', 'information processing', 'information store', 'information various', 'invention', 'invention discloses', 'layout', 'layout information', 'magnitude', 'magnitude related', 'merchandise', 'merchandise information', 'method', 'method comprises', 'method server', 'moving', 'moving information', 'moving speed', 'optimization', 'optimization information', 'optimize', 'optimize first', 'parameter', 'parameter corresponding', 'parameter merchandise', 'parameter statistical', 'processing', 'processing method', 'pushing', 'pushing storefront', 'related', 'related moving', 'server', 'server acquires', 'server method', 'speed', 'speed calculating', 'speed customer', 'speed determining', 'statistical', 'statistical magnitude', 'store', 'store based', 'store first', 'store layout', 'store merchandise', 'store store', 'store wherein', 'storefront', 'storefront optimization', 'various', 'various customer', 'wherein', 'wherein moving']\n",
      "['90', '90 degree', 'accommodating', 'accommodating cabinet', 'arranged', 'arranged base', 'arranged top', 'base', 'base bottom', 'base cabinet', 'base connected', 'base form', 'base pin', 'base provided', 'bed', 'bed body', 'bed sleeping', 'bed well', 'body', 'body base', 'body move', 'body multifunctional', 'body overturning', 'body pin', 'body rotated', 'body symmetrically', 'body two', 'bottom', 'bottom cabinet', 'cabinet', 'cabinet body', 'cabinet comprises', 'cabinet forthe', 'cabinet multifunctional', 'cabinet provided', 'cabinet turned', 'chute', 'chute drive', 'chute mounting', 'comprises', 'comprises base', 'connected', 'connected cabinet', 'connected overturning', 'degree', 'degree overturning', 'drive', 'drive cabinet', 'folding', 'folding thereby', 'form', 'form bed', 'forthe', 'forthe placement', 'improvingthe', 'improvingthe utilization', 'includes', 'includes mounting', 'inserted', 'inserted mounting', 'inthe', 'inthe chute', 'invention', 'invention provides', 'invention used', 'item', 'item cabinet', 'item turned', 'mechanism', 'mechanism cabinet', 'mechanism includes', 'mechanism overturning', 'mechanism wherein', 'mounting', 'mounting seat', 'move', 'move inthe', 'move splice', 'multifunctional', 'multifunctional item', 'needed', 'needed item', 'overturning', 'overturning mechanism', 'pin', 'pin shaft', 'placement', 'placement item', 'provided', 'provided chute', 'provided invention', 'provided space', 'provides', 'provides multifunctional', 'rate', 'resting', 'resting folding', 'rotate', 'rotate mounting', 'rotated', 'rotated 90', 'saving', 'saving space', 'seat', 'seat arranged', 'seat base', 'seat connected', 'seat move', 'seat pin', 'shaft', 'shaft inserted', 'shaft mounting', 'shaft rotate', 'sleeping', 'sleeping resting', 'space', 'space accommodating', 'space improvingthe', 'splice', 'splice surface', 'surface', 'surface base', 'symmetrically', 'symmetrically arranged', 'thereby', 'thereby saving', 'top', 'top base', 'turned', 'turned bed', 'two', 'two cabinet', 'used', 'used item', 'utilization', 'utilization rate', 'well', 'well needed', 'wherein', 'wherein top']\n"
     ]
    },
    {
     "name": "stderr",
     "output_type": "stream",
     "text": [
      "C:\\Users\\HP\\anaconda3\\envs\\Pytorchgpu\\lib\\site-packages\\sklearn\\utils\\deprecation.py:87: FutureWarning: Function get_feature_names is deprecated; get_feature_names is deprecated in 1.0 and will be removed in 1.2. Please use get_feature_names_out instead.\n",
      "  warnings.warn(msg, category=FutureWarning)\n",
      "C:\\Users\\HP\\anaconda3\\envs\\Pytorchgpu\\lib\\site-packages\\sklearn\\utils\\deprecation.py:87: FutureWarning: Function get_feature_names is deprecated; get_feature_names is deprecated in 1.0 and will be removed in 1.2. Please use get_feature_names_out instead.\n",
      "  warnings.warn(msg, category=FutureWarning)\n",
      "C:\\Users\\HP\\anaconda3\\envs\\Pytorchgpu\\lib\\site-packages\\sklearn\\utils\\deprecation.py:87: FutureWarning: Function get_feature_names is deprecated; get_feature_names is deprecated in 1.0 and will be removed in 1.2. Please use get_feature_names_out instead.\n",
      "  warnings.warn(msg, category=FutureWarning)\n",
      "C:\\Users\\HP\\anaconda3\\envs\\Pytorchgpu\\lib\\site-packages\\sklearn\\utils\\deprecation.py:87: FutureWarning: Function get_feature_names is deprecated; get_feature_names is deprecated in 1.0 and will be removed in 1.2. Please use get_feature_names_out instead.\n",
      "  warnings.warn(msg, category=FutureWarning)\n",
      "C:\\Users\\HP\\anaconda3\\envs\\Pytorchgpu\\lib\\site-packages\\sklearn\\utils\\deprecation.py:87: FutureWarning: Function get_feature_names is deprecated; get_feature_names is deprecated in 1.0 and will be removed in 1.2. Please use get_feature_names_out instead.\n",
      "  warnings.warn(msg, category=FutureWarning)\n",
      "C:\\Users\\HP\\anaconda3\\envs\\Pytorchgpu\\lib\\site-packages\\sklearn\\utils\\deprecation.py:87: FutureWarning: Function get_feature_names is deprecated; get_feature_names is deprecated in 1.0 and will be removed in 1.2. Please use get_feature_names_out instead.\n",
      "  warnings.warn(msg, category=FutureWarning)\n"
     ]
    },
    {
     "name": "stdout",
     "output_type": "stream",
     "text": [
      "['application', 'application cardamine', 'arrhythmia', 'arrhythmia belongs', 'arrhythmia meanwhile', 'arrhythmia shortened', 'belongs', 'belongs technical', 'biomedical', 'biomedical medicine', 'cardamine', 'cardamine extract', 'duration', 'duration arrhythmia', 'effectively', 'effectively prevent', 'extract', 'extract thereof', 'fibrillation', 'fibrillation rate', 'field', 'field biomedical', 'high', 'high operability', 'invention', 'invention relates', 'meanwhile', 'meanwhile ventricular', 'medicine', 'medicine cardamine', 'medicine preventing', 'methodof', 'methodof cardamine', 'operability', 'preparation', 'preparation methodof', 'preparing', 'preparing medicine', 'prevent', 'prevent treat', 'preventing', 'preventing treating', 'process', 'process high', 'rate', 'rate duration', 'reasonable', 'reasonable simple', 'relates', 'relates application', 'scientific', 'scientific reasonable', 'shortened', 'shortened preparation', 'simple', 'simple process', 'technical', 'technical field', 'thereof', 'thereof effectively', 'thereof preparing', 'thereof scientific', 'treat', 'treat arrhythmia', 'treating', 'treating arrhythmia', 'ventricular', 'ventricular fibrillation']\n",
      "['amplitude', 'amplitude series', 'arranged', 'arranged side', 'arranged vertical', 'basically', 'basically influence', 'commonly', 'commonly exceed', 'compression', 'compression wave', 'comprises', 'comprises multiple', 'connected', 'connected filter', 'connection', 'connection electromagnetic', 'connection variable', 'consolidation', 'consolidation water', 'construction', 'construction method', 'controller', 'controller electrical', 'device', 'device comprises', 'device horizontal', 'device particularly', 'device provided', 'direction', 'direction construction', 'direction filter', 'draining', 'draining device', 'dynamic', 'dynamic consolidation', 'electrical', 'electrical connection', 'electromagnetic', 'electromagnetic high', 'exceed', 'exceed mm', 'exciters', 'exciters arranged', 'exciters filter', 'exciters sequentially', 'exciters small', 'filter', 'filter pipe', 'formed', 'formed wall', 'frequency', 'frequency controller', 'frequency vibration', 'frequency vibrationexciters', 'generated', 'generated compression', 'high', 'high frequency', 'hole', 'hole formed', 'horizontal', 'horizontal dynamic', 'influence', 'influence surrounding', 'invention', 'invention provides', 'length', 'length direction', 'method', 'method horizontal', 'mm', 'mm generated', 'multiple', 'multiple electromagnetic', 'multiple water', 'narrow', 'narrow soft', 'particularly', 'particularly suitable', 'pipe', 'pipe electromagnetic', 'pipe length', 'pipe pipeline', 'pipe water', 'pipeline', 'pipeline electromagnetic', 'practicability', 'practicability high', 'provided', 'provided amplitude', 'provides', 'provides horizontal', 'pump', 'pump connected', 'pumping', 'pumping hole', 'sequentially', 'sequentially arranged', 'series', 'series connection', 'side', 'side multiple', 'side side', 'small', 'small commonly', 'soft', 'soft soil', 'soil', 'soil stratum', 'stratum', 'stratum practicability', 'suction', 'suction pump', 'suitable', 'suitable narrow', 'surrounding', 'surrounding device', 'variable', 'variable frequency', 'vertical', 'vertical direction', 'vibration', 'vibration exciters', 'vibrationexciters', 'vibrationexciters series', 'wall', 'wall filter', 'water', 'water draining', 'water pumping', 'water suction', 'wave', 'wave basically']\n"
     ]
    },
    {
     "name": "stderr",
     "output_type": "stream",
     "text": [
      "C:\\Users\\HP\\anaconda3\\envs\\Pytorchgpu\\lib\\site-packages\\sklearn\\utils\\deprecation.py:87: FutureWarning: Function get_feature_names is deprecated; get_feature_names is deprecated in 1.0 and will be removed in 1.2. Please use get_feature_names_out instead.\n",
      "  warnings.warn(msg, category=FutureWarning)\n",
      "C:\\Users\\HP\\anaconda3\\envs\\Pytorchgpu\\lib\\site-packages\\sklearn\\utils\\deprecation.py:87: FutureWarning: Function get_feature_names is deprecated; get_feature_names is deprecated in 1.0 and will be removed in 1.2. Please use get_feature_names_out instead.\n",
      "  warnings.warn(msg, category=FutureWarning)\n"
     ]
    },
    {
     "name": "stdout",
     "output_type": "stream",
     "text": [
      "['action', 'action elastic', 'action magnetic', 'action self', 'back', 'back locking', 'bank', 'bank prevented', 'bank shared', 'bank still', 'bank taken', 'base', 'base charging', 'base comprises', 'base magnetic', 'base power', 'buckling', 'buckling hole', 'charging', 'charging base', 'charging system', 'coil', 'coil charging', 'coil power', 'comprises', 'comprises main', 'condition', 'condition power', 'control', 'control panel', 'cost', 'device', 'device relatively', 'elastic', 'elastic action', 'elastic part', 'electromagnetic', 'electromagnetic lock', 'extends', 'extends sleeve', 'failure', 'failure meanwhile', 'failure thus', 'field', 'field force', 'first', 'first coil', 'force', 'force namely', 'furthermore', 'furthermore shared', 'gravity', 'gravity inserted', 'hole', 'hole action', 'hole elastic', 'hole instead', 'hole lock', 'hole shared', 'inserted', 'inserted limited', 'inserted limiting', 'insertion', 'insertion hole', 'instead', 'instead action', 'invention', 'invention relates', 'limited', 'limited buckling', 'limiting', 'limiting hole', 'limiting magnetic', 'located', 'located charging', 'lock', 'lock inserted', 'lock permanent', 'lock sleeve', 'locking', 'locking needle', 'low', 'low cost', 'magnetic', 'magnetic back', 'magnetic field', 'magnetic needle', 'main', 'main control', 'meanwhile', 'meanwhile device', 'move', 'move insertion', 'moving', 'moving sleeve', 'namely', 'namely back', 'needle', 'needle electromagnetic', 'needle extends', 'needle magnetic', 'needle move', 'needle play', 'needle prevented', 'needle second', 'panel', 'panel electromagnetic', 'part', 'part back', 'permanent', 'permanent magnetic', 'play', 'play role', 'power', 'power bank', 'power failure', 'power state', 'prevent', 'prevent shared', 'prevented', 'prevented moving', 'prevented stolen', 'relates', 'relates charging', 'relatively', 'relatively simple', 'role', 'role limiting', 'second', 'second coil', 'self', 'self gravity', 'shared', 'shared power', 'simple', 'simple structure', 'sleeve', 'sleeve furthermore', 'sleeve hole', 'state', 'state first', 'state magnetic', 'state second', 'still', 'still located', 'stolen', 'stolen condition', 'stolen power', 'structure', 'structure low', 'system', 'system charging', 'system prevent', 'taken', 'taken stolen', 'thus', 'thus charging']\n"
     ]
    },
    {
     "name": "stderr",
     "output_type": "stream",
     "text": [
      "C:\\Users\\HP\\anaconda3\\envs\\Pytorchgpu\\lib\\site-packages\\sklearn\\utils\\deprecation.py:87: FutureWarning: Function get_feature_names is deprecated; get_feature_names is deprecated in 1.0 and will be removed in 1.2. Please use get_feature_names_out instead.\n",
      "  warnings.warn(msg, category=FutureWarning)\n",
      "C:\\Users\\HP\\anaconda3\\envs\\Pytorchgpu\\lib\\site-packages\\sklearn\\utils\\deprecation.py:87: FutureWarning: Function get_feature_names is deprecated; get_feature_names is deprecated in 1.0 and will be removed in 1.2. Please use get_feature_names_out instead.\n",
      "  warnings.warn(msg, category=FutureWarning)\n"
     ]
    },
    {
     "name": "stdout",
     "output_type": "stream",
     "text": [
      "['addition', 'addition process', 'andthen', 'andthen enters', 'belongs', 'belongs field', 'beneficial', 'beneficial safe', 'boiler', 'boiler water', 'channel', 'channel enters', 'channel one', 'continuously', 'continuously preheating', 'convection', 'convection section', 'cost', 'cost reducing', 'cracking', 'cracking device', 'cracking furnace', 'device', 'device addition', 'device beneficial', 'device realizes', 'divided', 'divided two', 'economic', 'economic efficiency', 'efficiency', 'efficiency ethylene', 'efficient', 'efficient operation', 'energy', 'energy saving', 'energy utilization', 'engineering', 'engineering relates', 'enters', 'enters convection', 'enters second', 'enters steam', 'ethylene', 'ethylene cracking', 'exchange', 'exchange process', 'exchange pyrolysis', 'exchange system', 'exchanger', 'exchanger device', 'exchanger group', 'field', 'field petrochemical', 'first', 'first quenching', 'furnace', 'furnace divided', 'furnace heat', 'furnace tube', 'gas', 'gas energy', 'gas first', 'gas reduced', 'group', 'group channel', 'group perform', 'group temperature', 'heat', 'heat exchange', 'heat exchanger', 'heat pyrolysis', 'heated', 'heated torecover', 'helpful', 'helpful theburning', 'high', 'high steam', 'improves', 'improves energy', 'improving', 'improving economic', 'increasing', 'increasing yield', 'invention', 'invention belongs', 'invention significantly', 'long', 'long term', 'meanwhile', 'meanwhile boiler', 'one', 'one channel', 'operation', 'operation production', 'perform', 'perform heat', 'petrochemical', 'petrochemical engineering', 'pocket', 'pocket perform', 'preheated', 'preheated convection', 'preheating', 'preheating andthen', 'process', 'process boiler', 'process furnace', 'process heat', 'process increasing', 'process invention', 'process technology', 'production', 'production device', 'production process', 'pyrolysis', 'pyrolysis gas', 'quenching', 'quenching heat', 'realizes', 'realizes energy', 'reduced', 'reduced meanwhile', 'reducing', 'reducing production', 'relates', 'relates heat', 'safe', 'safe long', 'saving', 'saving cost', 'saving process', 'second', 'second quenching', 'section', 'section continuously', 'section cracking', 'significantly', 'significantly improves', 'steam', 'steam improving', 'steam pocket', 'super', 'super high', 'supply', 'supply heated', 'supply preheated', 'system', 'system ethylene', 'technology', 'technology helpful', 'temperature', 'temperature pyrolysis', 'term', 'term efficient', 'theburning', 'theburning process', 'torecover', 'torecover heat', 'tube', 'tube quenching', 'two', 'two channel', 'utilization', 'utilization device', 'water', 'water supply', 'yield', 'yield super']\n"
     ]
    },
    {
     "name": "stderr",
     "output_type": "stream",
     "text": [
      "C:\\Users\\HP\\anaconda3\\envs\\Pytorchgpu\\lib\\site-packages\\sklearn\\utils\\deprecation.py:87: FutureWarning: Function get_feature_names is deprecated; get_feature_names is deprecated in 1.0 and will be removed in 1.2. Please use get_feature_names_out instead.\n",
      "  warnings.warn(msg, category=FutureWarning)\n",
      "C:\\Users\\HP\\anaconda3\\envs\\Pytorchgpu\\lib\\site-packages\\sklearn\\utils\\deprecation.py:87: FutureWarning: Function get_feature_names is deprecated; get_feature_names is deprecated in 1.0 and will be removed in 1.2. Please use get_feature_names_out instead.\n",
      "  warnings.warn(msg, category=FutureWarning)\n",
      "C:\\Users\\HP\\anaconda3\\envs\\Pytorchgpu\\lib\\site-packages\\sklearn\\utils\\deprecation.py:87: FutureWarning: Function get_feature_names is deprecated; get_feature_names is deprecated in 1.0 and will be removed in 1.2. Please use get_feature_names_out instead.\n",
      "  warnings.warn(msg, category=FutureWarning)\n"
     ]
    },
    {
     "name": "stdout",
     "output_type": "stream",
     "text": [
      "['according', 'according activity', 'according feature', 'according method', 'activity', 'activity state', 'adjusted', 'adjusted according', 'adopted', 'adopted sensor', 'comprises', 'comprises step', 'consumption', 'consumption sensor', 'control', 'control method', 'controlledto', 'controlledto perform', 'controlling', 'controlling sensor', 'corresponding', 'corresponding current', 'current', 'current activity', 'current signal', 'currently', 'currently used', 'determined', 'determined according', 'determined sampling', 'determining', 'determining current', 'determining second', 'different', 'different first', 'different sampling', 'embodiments', 'embodiments invention', 'energy', 'energy consumption', 'feature', 'feature current', 'first', 'first sampling', 'frequency', 'frequency according', 'frequency adopted', 'frequency controlling', 'frequency corresponding', 'frequency currently', 'frequency different', 'intelligent', 'intelligent terminal', 'invention', 'invention provide', 'method', 'method comprises', 'method current', 'method sensor', 'obtained', 'obtained performing', 'obtained sensor', 'obtaining', 'obtaining current', 'ofthe', 'ofthe user', 'perform', 'perform sampling', 'performing', 'performing sampling', 'provide', 'provide control', 'reduced', 'sampling', 'sampling frequency', 'sampling sampling', 'sampling second', 'sampling sensor', 'second', 'second sampling', 'sensor', 'sensor adjusted', 'sensor controlledto', 'sensor first', 'sensor intelligent', 'sensor perform', 'sensor reduced', 'sensor sampling', 'sensor sensor', 'signal', 'signal determining', 'signal obtained', 'state', 'state determined', 'state ofthe', 'state sampling', 'state second', 'state user', 'step', 'step obtaining', 'terminal', 'terminal determining', 'terminal intelligent', 'terminal method', 'used', 'used sensor', 'user', 'user determined', 'user energy', 'user using', 'using', 'using intelligent']\n",
      "['achieved', 'achieved operation', 'adoption', 'adoption thelte', 'assembly', 'assembly disassembly', 'avoided', 'back', 'back side', 'back towards', 'base', 'base station', 'block', 'block located', 'block provided', 'bottom', 'bottom column', 'caused', 'caused fact', 'column', 'column groove', 'communicating', 'communicating column', 'comprising', 'comprising base', 'connected', 'connected back', 'connected column', 'connected locating', 'convenient', 'convenient problem', 'corresponding', 'corresponding two', 'device', 'device comprising', 'device rapid', 'disassemble', 'disassemble base', 'disassembly', 'disassembly base', 'discloses', 'discloses lte', 'easy', 'easy convenient', 'end', 'end locating', 'end pressing', 'equipment', 'equipment discloses', 'fact', 'fact work', 'field', 'field base', 'fixed', 'fixed together', 'fixedly', 'fixedly connected', 'front', 'front side', 'groove', 'groove bottom', 'groove communicating', 'groove fixed', 'groove left', 'groove pressing', 'groove sliding', 'hazard', 'hazard caused', 'high', 'high long', 'huge', 'huge potential', 'installation', 'installation plate', 'invention', 'invention relates', 'left', 'left outer', 'located', 'located two', 'locating', 'locating block', 'locating plate', 'long', 'long time', 'lower', 'lower end', 'lte', 'lte small', 'management', 'management device', 'manner', 'manner lower', 'multiple', 'multiple groove', 'operation', 'operation easy', 'outer', 'outer wall', 'personnel', 'personnel stay', 'plate', 'plate fixedly', 'plate locating', 'plate symmetrically', 'plate two', 'plate upper', 'platform', 'platform achieved', 'platform avoided', 'platform front', 'platform installation', 'potential', 'potential safety', 'pressing', 'pressing rod', 'pressing rodis', 'problem', 'problem huge', 'provided', 'provided column', 'provided multiple', 'rapid', 'rapid assembly', 'receiving', 'receiving transmitting', 'relates', 'relates technical', 'reset', 'reset spring', 'right', 'right outer', 'rod', 'rod groove', 'rodis', 'rodis connected', 'safety', 'safety hazard', 'side', 'side base', 'side installation', 'signal', 'signal management', 'sliding', 'sliding manner', 'small', 'small base', 'spring', 'spring adoption', 'station', 'station equipment', 'station receiving', 'station signal', 'stay', 'stay high', 'symmetrically', 'symmetrically fixedly', 'technical', 'technical field', 'thelte', 'thelte small', 'time', 'time disassemble', 'together', 'together reset', 'towards', 'towards corresponding', 'transmitting', 'transmitting platform', 'two', 'two locating', 'upper', 'upper end', 'wall', 'wall back', 'wall right', 'work', 'work personnel']\n"
     ]
    },
    {
     "name": "stderr",
     "output_type": "stream",
     "text": [
      "C:\\Users\\HP\\anaconda3\\envs\\Pytorchgpu\\lib\\site-packages\\sklearn\\utils\\deprecation.py:87: FutureWarning: Function get_feature_names is deprecated; get_feature_names is deprecated in 1.0 and will be removed in 1.2. Please use get_feature_names_out instead.\n",
      "  warnings.warn(msg, category=FutureWarning)\n",
      "C:\\Users\\HP\\anaconda3\\envs\\Pytorchgpu\\lib\\site-packages\\sklearn\\utils\\deprecation.py:87: FutureWarning: Function get_feature_names is deprecated; get_feature_names is deprecated in 1.0 and will be removed in 1.2. Please use get_feature_names_out instead.\n",
      "  warnings.warn(msg, category=FutureWarning)\n",
      "C:\\Users\\HP\\anaconda3\\envs\\Pytorchgpu\\lib\\site-packages\\sklearn\\utils\\deprecation.py:87: FutureWarning: Function get_feature_names is deprecated; get_feature_names is deprecated in 1.0 and will be removed in 1.2. Please use get_feature_names_out instead.\n",
      "  warnings.warn(msg, category=FutureWarning)\n",
      "C:\\Users\\HP\\anaconda3\\envs\\Pytorchgpu\\lib\\site-packages\\sklearn\\utils\\deprecation.py:87: FutureWarning: Function get_feature_names is deprecated; get_feature_names is deprecated in 1.0 and will be removed in 1.2. Please use get_feature_names_out instead.\n",
      "  warnings.warn(msg, category=FutureWarning)\n",
      "C:\\Users\\HP\\anaconda3\\envs\\Pytorchgpu\\lib\\site-packages\\sklearn\\utils\\deprecation.py:87: FutureWarning: Function get_feature_names is deprecated; get_feature_names is deprecated in 1.0 and will be removed in 1.2. Please use get_feature_names_out instead.\n",
      "  warnings.warn(msg, category=FutureWarning)\n"
     ]
    },
    {
     "name": "stdout",
     "output_type": "stream",
     "text": [
      "['activity', 'activity functional', 'adopts', 'adopts main', 'antitumor', 'antitumor activity', 'antitumor compound', 'antitumor drug', 'application', 'application sloanea', 'applied', 'applied preparationof', 'assisting', 'assisting tumor', 'cell', 'cell proliferation', 'compound', 'compound drug', 'discloses', 'discloses application', 'drug', 'drug adopts', 'drug assisting', 'drug drug', 'drug extract', 'expression', 'expression tumor', 'extract', 'extract sloanea', 'extract specie', 'functional', 'functional mechanism', 'gene', 'hemsleyana', 'hemsleyana leaf', 'inhibit', 'inhibit tumor', 'invention', 'invention discloses', 'leaf', 'leaf antitumor', 'leaf extract', 'main', 'main drug', 'mechanism', 'mechanism antitumor', 'plant', 'plant antitumor', 'plant applied', 'plant extract', 'plant inhibit', 'preparationof', 'preparationof antitumor', 'prepared', 'prepared extract', 'proliferation', 'proliferation regulate', 'regulate', 'regulate expression', 'related', 'related gene', 'sloanea', 'sloanea hemsleyana', 'specie', 'specie plant', 'treatment', 'treatment antitumor', 'treatment prepared', 'tumor', 'tumor cell', 'tumor related', 'tumor treatment']\n",
      "['absorbs', 'absorbs heat', 'accelerate', 'accelerate defrosting', 'accelerated', 'accelerated phase', 'according', 'according airconditioning', 'accumulator', 'accumulator absorbs', 'accumulator compressor', 'accumulator defrosting', 'accumulator release', 'achieve', 'achieve heating', 'air', 'air achieve', 'air conditioner', 'air conditioning', 'airconditioning', 'airconditioning system', 'auser', 'auser guaranteed', 'based', 'based phase', 'change', 'change defrosting', 'change heat', 'change material', 'comfort', 'comfort auser', 'compensating', 'compensating indoor', 'compensation', 'compensation phase', 'compressor', 'compressor four', 'comprises', 'comprises temperature', 'conditioner', 'conditioner accelerated', 'conditioner system', 'conditioning', 'conditioning system', 'constant', 'constant defrosting', 'defrosting', 'defrosting accelerate', 'defrosting according', 'defrosting air', 'defrosting based', 'defrosting phase', 'defrosting process', 'effect', 'effect defrosting', 'effect influenced', 'exchanger', 'exchanger throttle', 'exchanger wherein', 'four', 'four way', 'guaranteed', 'heat', 'heat accumulator', 'heat exchanger', 'heat indoor', 'heat refrigerant', 'heating', 'heating effect', 'indoor', 'indoor air', 'indoor heat', 'indoor heating', 'indoor temperature', 'influenced', 'influenced defrosting', 'invention', 'invention provides', 'kept', 'kept constant', 'least', 'least comprises', 'material', 'material indoor', 'material order', 'order', 'order solve', 'outdoor', 'outdoor heat', 'phase', 'phase change', 'problem', 'problem indoor', 'process', 'process air', 'process comfort', 'provides', 'provides air', 'refrigerant', 'refrigerant defrosting', 'refrigerant heat', 'release', 'release heat', 'solve', 'solve problem', 'system', 'system compensating', 'system defrosting', 'system least', 'temperature', 'temperature change', 'temperature compensation', 'temperature kept', 'throttle', 'throttle valve', 'valve', 'valve indoor', 'valve outdoor', 'way', 'way valve', 'wherein', 'wherein temperature']\n"
     ]
    },
    {
     "name": "stderr",
     "output_type": "stream",
     "text": [
      "C:\\Users\\HP\\anaconda3\\envs\\Pytorchgpu\\lib\\site-packages\\sklearn\\utils\\deprecation.py:87: FutureWarning: Function get_feature_names is deprecated; get_feature_names is deprecated in 1.0 and will be removed in 1.2. Please use get_feature_names_out instead.\n",
      "  warnings.warn(msg, category=FutureWarning)\n",
      "C:\\Users\\HP\\anaconda3\\envs\\Pytorchgpu\\lib\\site-packages\\sklearn\\utils\\deprecation.py:87: FutureWarning: Function get_feature_names is deprecated; get_feature_names is deprecated in 1.0 and will be removed in 1.2. Please use get_feature_names_out instead.\n",
      "  warnings.warn(msg, category=FutureWarning)\n",
      "C:\\Users\\HP\\anaconda3\\envs\\Pytorchgpu\\lib\\site-packages\\sklearn\\utils\\deprecation.py:87: FutureWarning: Function get_feature_names is deprecated; get_feature_names is deprecated in 1.0 and will be removed in 1.2. Please use get_feature_names_out instead.\n",
      "  warnings.warn(msg, category=FutureWarning)\n",
      "C:\\Users\\HP\\anaconda3\\envs\\Pytorchgpu\\lib\\site-packages\\sklearn\\utils\\deprecation.py:87: FutureWarning: Function get_feature_names is deprecated; get_feature_names is deprecated in 1.0 and will be removed in 1.2. Please use get_feature_names_out instead.\n",
      "  warnings.warn(msg, category=FutureWarning)\n"
     ]
    },
    {
     "name": "stdout",
     "output_type": "stream",
     "text": [
      "['absorption', 'absorption oral', 'activity', 'activity low', 'antibacterial', 'antibacterial activity', 'characterized', 'characterized highly', 'highly', 'highly selective', 'imidazo', 'imidazo rifamycins', 'invention', 'invention relates', 'low', 'low absorption', 'novel', 'novel pyrido', 'oral', 'oral route', 'present', 'present invention', 'pyrido', 'pyrido imidazo', 'relates', 'relates novel', 'rifamycins', 'rifamycins characterized', 'route', 'selective', 'selective antibacterial']\n",
      "['arranged', 'arranged connecting', 'arranged containing', 'arranged end', 'arranged lamp', 'arranged one', 'arranged theconnecting', 'assembly', 'assembly arranged', 'block', 'block arranged', 'block sliding', 'cavity', 'cavity comprises', 'cavity formed', 'cavity sliding', 'communicated', 'communicated arranged', 'comprises', 'comprises lamp', 'comprises sliding', 'connected', 'connected series', 'connecting', 'connecting end', 'connecting female', 'connecting male', 'containing', 'containing cavity', 'control', 'control assembly', 'convenient', 'convenient wiring', 'cost', 'cost lamp', 'discloses', 'discloses square', 'effectively', 'effectively reduced', 'end', 'end arranged', 'end communicated', 'end connecting', 'end face', 'end lamp', 'end metal', 'face', 'face connecting', 'female', 'female end', 'formed', 'formed connecting', 'guide', 'guide rod', 'guide sleeve', 'invention', 'invention discloses', 'lamp', 'lamp comprises', 'lamp connected', 'lamp lamp', 'lamp reduced', 'lamp shell', 'lamp square', 'length', 'length effectively', 'light', 'light source', 'male', 'male end', 'metal', 'metal guide', 'mode', 'mode control', 'one', 'one end', 'operation', 'operation convenient', 'reduced', 'reduced operation', 'rod', 'rod arranged', 'series', 'series wiring', 'shell', 'shell connecting', 'shell containing', 'shell light', 'sleeve', 'sleeve arranged', 'sliding', 'sliding mode', 'sliding wedge', 'source', 'source connecting', 'square', 'square lamp', 'theconnecting', 'theconnecting female', 'wedge', 'wedge block', 'wiring', 'wiring cost', 'wiring length']\n"
     ]
    },
    {
     "name": "stderr",
     "output_type": "stream",
     "text": [
      "C:\\Users\\HP\\anaconda3\\envs\\Pytorchgpu\\lib\\site-packages\\sklearn\\utils\\deprecation.py:87: FutureWarning: Function get_feature_names is deprecated; get_feature_names is deprecated in 1.0 and will be removed in 1.2. Please use get_feature_names_out instead.\n",
      "  warnings.warn(msg, category=FutureWarning)\n",
      "C:\\Users\\HP\\anaconda3\\envs\\Pytorchgpu\\lib\\site-packages\\sklearn\\utils\\deprecation.py:87: FutureWarning: Function get_feature_names is deprecated; get_feature_names is deprecated in 1.0 and will be removed in 1.2. Please use get_feature_names_out instead.\n",
      "  warnings.warn(msg, category=FutureWarning)\n",
      "C:\\Users\\HP\\anaconda3\\envs\\Pytorchgpu\\lib\\site-packages\\sklearn\\utils\\deprecation.py:87: FutureWarning: Function get_feature_names is deprecated; get_feature_names is deprecated in 1.0 and will be removed in 1.2. Please use get_feature_names_out instead.\n",
      "  warnings.warn(msg, category=FutureWarning)\n"
     ]
    },
    {
     "name": "stdout",
     "output_type": "stream",
     "text": [
      "['according', 'according obtained', 'anda', 'anda short', 'apparatus', 'apparatus computer', 'apparatus disclosed', 'backlogged', 'backlogged according', 'backlogged sending', 'backlogging', 'backlogging short', 'case', 'case backlogging', 'complaint', 'complaint rate', 'comprises', 'comprises following', 'computer', 'computer readable', 'determined', 'determined short', 'disclosed', 'disclosed embodiment', 'discloses', 'discloses short', 'effectively', 'effectively reduced', 'embodiment', 'embodiment invention', 'following', 'following step', 'instant', 'instant short', 'invention', 'invention discloses', 'invention since', 'judging', 'judging whether', 'medium', 'medium method', 'message', 'message complaint', 'message processing', 'message realized', 'message receiving', 'message sending', 'message server', 'message short', 'method', 'method apparatus', 'method comprises', 'obtained', 'obtained short', 'obtaining', 'obtaining short', 'preferential', 'preferential sending', 'processing', 'processing method', 'rate', 'rate short', 'readable', 'readable storage', 'realized', 'realized case', 'receiving', 'receiving speed', 'reduced', 'seen', 'seen theshort', 'sending', 'sending instant', 'sending speed', 'server', 'server backlogged', 'server effectively', 'server judging', 'server seen', 'short', 'short message', 'since', 'since preferential', 'speed', 'speed anda', 'speed determined', 'speed short', 'step', 'step obtaining', 'storage', 'storage medium', 'theshort', 'theshort message', 'whether', 'whether short']\n"
     ]
    },
    {
     "name": "stderr",
     "output_type": "stream",
     "text": [
      "C:\\Users\\HP\\anaconda3\\envs\\Pytorchgpu\\lib\\site-packages\\sklearn\\utils\\deprecation.py:87: FutureWarning: Function get_feature_names is deprecated; get_feature_names is deprecated in 1.0 and will be removed in 1.2. Please use get_feature_names_out instead.\n",
      "  warnings.warn(msg, category=FutureWarning)\n"
     ]
    },
    {
     "name": "stdout",
     "output_type": "stream",
     "text": [
      "['0005', '0005 percent', '003', '003 018', '005', '005 percent', '008', '008 020', '012', '012 percent', '015', '015 030', '018', '018 percent', '02', '02 12', '020', '020 percent', '03', '03 10', '030', '030 percent', '04', '04 07', '07', '07 percent', '10', '10 40', '10 percent', '12', '12 percent', '20', '20 40', '20nb', '20nb ni', '25', '25 45', '2cu', '2cu 4si', '30', '30 50', '35', '35 60', '40', '40 percent', '45', '45 percent', '4si', '4si addition', '50', '50 percent', '5mo', '5mo cr', '60', '60 deg', '60 percent', '60j', '60j 60', 'absorbing', 'absorbing energy', 'absorption', 'absorption energy', 'according', 'according weather', 'addition', 'addition invention', 'affected', 'affected zone', 'al', 'al 003', 'angle', 'angle grain', 'balance', 'balance fe', 'belongs', 'belongs field', 'boundary', 'boundary density', 'bridge', 'bridge steel', 'bridgesteel', 'bridgesteel impact', 'ca', 'ca le', 'chemical', 'chemical component', 'coarse', 'coarse grain', 'cold', 'cold region', 'component', 'component percentage', 'content', 'content nb', 'cr', 'cr 02', 'cr 2cu', 'cr cu', 'cu', 'cu 03', 'cu weather', 'deg', 'deg according', 'deg belongs', 'density', 'density welding', 'discloses', 'discloses weather', 'effectively', 'effectively improved', 'energy', 'energy welding', 'equal', 'equal 0005', 'equal 005', 'equal 012', 'equal 20nb', 'equal greater', 'equal wherein', 'fe', 'fe inevitable', 'field', 'field weather', 'following', 'following chemical', 'grain', 'grain boundary', 'grain heat', 'greater', 'greater equal', 'heat', 'heat affected', 'impact', 'impact absorbing', 'impact absorption', 'impact toughness', 'improved', 'improved impact', 'improved use', 'impurity', 'impurity content', 'inevitable', 'inevitable impurity', 'invention', 'invention discloses', 'invention provides', 'large', 'large angle', 'le', 'le equal', 'le thanor', 'lower', 'lower 60j', 'mass', 'mass 04', 'meet', 'meet proportion', 'met', 'method', 'method weather', 'mn', 'mn le', 'mo', 'mo 25', 'mo si', 'nb', 'nb 008', 'nb ni', 'ni', 'ni 35', 'ni 5mo', 'ni mo', 'percent', 'percent 20', 'percent 30', 'percent al', 'percent balance', 'percent ca', 'percent cr', 'percent cu', 'percent le', 'percent mn', 'percent mo', 'percent nb', 'percent ni', 'percent si', 'percent ti', 'percentage', 'percentage mass', 'preparation', 'preparation method', 'prepared', 'prepared following', 'proof', 'proof bridge', 'proof bridgesteel', 'proof steel', 'proportion', 'proportion theta', 'provides', 'provides preparation', 'region', 'region met', 'remarkably', 'remarkably improved', 'requirement', 'requirement cold', 'si', 'si 10', 'si cr', 'steel', 'steel impact', 'steel large', 'steel meet', 'steel prepared', 'steel weather', 'structure', 'structure remarkably', 'thanor', 'thanor equal', 'theta', 'theta equal', 'theta le', 'ti', 'ti 015', 'toughness', 'toughness effectively', 'use', 'use requirement', 'weather', 'weather proof', 'welding', 'welding coarse', 'welding heat', 'wherein', 'wherein theta', 'zone', 'zone lower', 'zone structure']\n"
     ]
    },
    {
     "name": "stderr",
     "output_type": "stream",
     "text": [
      "C:\\Users\\HP\\anaconda3\\envs\\Pytorchgpu\\lib\\site-packages\\sklearn\\utils\\deprecation.py:87: FutureWarning: Function get_feature_names is deprecated; get_feature_names is deprecated in 1.0 and will be removed in 1.2. Please use get_feature_names_out instead.\n",
      "  warnings.warn(msg, category=FutureWarning)\n",
      "C:\\Users\\HP\\anaconda3\\envs\\Pytorchgpu\\lib\\site-packages\\sklearn\\utils\\deprecation.py:87: FutureWarning: Function get_feature_names is deprecated; get_feature_names is deprecated in 1.0 and will be removed in 1.2. Please use get_feature_names_out instead.\n",
      "  warnings.warn(msg, category=FutureWarning)\n"
     ]
    },
    {
     "name": "stdout",
     "output_type": "stream",
     "text": [
      "['advantage', 'advantage service', 'arresting', 'arresting position', 'avoided', 'avoided valve', 'belongs', 'belongs field', 'beneficial', 'beneficial safety', 'body', 'body closed', 'body move', 'body opened', 'body prevented', 'closed', 'closed water', 'closing', 'closing valve', 'communicates', 'communicates highest', 'control', 'control control', 'control end', 'control impact', 'control method', 'control valve', 'damage', 'damage meanwhile', 'difficult', 'difficult damage', 'discloses', 'discloses water', 'eliminated', 'eliminated water', 'end', 'end water', 'ensured', 'ensured frequent', 'entering', 'entering water', 'enters', 'enters water', 'fact', 'fact valve', 'field', 'field water', 'frequent', 'frequent movement', 'frequent opening', 'hammer', 'hammer arresting', 'hammer avoided', 'hammerarresting', 'hammerarresting position', 'higher', 'higher highest', 'highest', 'highest water', 'impact', 'impact valve', 'invention', 'invention discloses', 'level', 'level control', 'level ensured', 'level fact', 'level highest', 'level lowest', 'level positioned', 'level valve', 'level water', 'life', 'life longer', 'longer', 'longer valve', 'lower', 'lower water', 'lowest', 'lowest water', 'meanwhile', 'meanwhile occurrence', 'method', 'method position', 'method thereof', 'mounting', 'mounting method', 'move', 'move water', 'movement', 'movement mounting', 'movement valve', 'network', 'network water', 'occurrence', 'occurrence pipeline', 'opened', 'opened water', 'opening', 'opening closing', 'pipe', 'pipe valve', 'pipeline', 'pipeline water', 'position', 'position control', 'positioned', 'positioned lowest', 'pressure', 'pressure control', 'prevented', 'prevented water', 'release', 'release pipe', 'safety', 'safety pipeline', 'service', 'service life', 'stop', 'stop entering', 'structure', 'structure frequent', 'supply', 'supply system', 'supplypipe', 'supplypipe network', 'system', 'tank', 'tank higher', 'tank lower', 'tank thewater', 'tank water', 'thereof', 'thereof belongs', 'thewater', 'thewater level', 'valve', 'valve advantage', 'valve beneficial', 'valve body', 'valve communicates', 'valve difficult', 'valve eliminated', 'valve structure', 'valve without', 'water', 'water enters', 'water hammer', 'water hammerarresting', 'water level', 'water pressure', 'water release', 'water stop', 'water supply', 'water supplypipe', 'water tank', 'without', 'without frequent']\n"
     ]
    },
    {
     "name": "stderr",
     "output_type": "stream",
     "text": [
      "C:\\Users\\HP\\anaconda3\\envs\\Pytorchgpu\\lib\\site-packages\\sklearn\\utils\\deprecation.py:87: FutureWarning: Function get_feature_names is deprecated; get_feature_names is deprecated in 1.0 and will be removed in 1.2. Please use get_feature_names_out instead.\n",
      "  warnings.warn(msg, category=FutureWarning)\n",
      "C:\\Users\\HP\\anaconda3\\envs\\Pytorchgpu\\lib\\site-packages\\sklearn\\utils\\deprecation.py:87: FutureWarning: Function get_feature_names is deprecated; get_feature_names is deprecated in 1.0 and will be removed in 1.2. Please use get_feature_names_out instead.\n",
      "  warnings.warn(msg, category=FutureWarning)\n"
     ]
    },
    {
     "name": "stdout",
     "output_type": "stream",
     "text": [
      "['10', '10 mm', '100', '100 mm', '1000', '1000 mpa', '114', '114 mm', '150', '150 degree', '300', '300 degree', 'amino', 'amino group', 'astm', 'astm type', 'centigrade', 'centigrade condition', 'centigrade mold', 'chuck', 'chuck 114', 'composed', 'composed resin', 'composition', 'composition includes', 'composition mpa', 'composition observed', 'compound', 'compound epoxy', 'condition', 'condition distance', 'containing', 'containing compound', 'containing elastomer', 'continuous', 'continuous phase', 'cylinder', 'cylinder temperature', 'degree', 'degree centigrade', 'determined', 'determined performing', 'dispersed', 'dispersed phase', 'distance', 'distance 100', 'distance chuck', 'dumbbell', 'dumbbell test', 'elastic', 'elastic modulus', 'elastomer', 'elastomer form', 'elastomer wherein', 'electron', 'electron microscope', 'elongation', 'elongation elastic', 'elongation rate', 'epoxy', 'epoxy group', 'form', 'form continuous', 'form dispersed', 'forming', 'forming product', 'group', 'group containing', 'includes', 'includes polyphenylene', 'injection', 'injection molding', 'le', 'microscope', 'microscope modulus', 'min', 'min resin', 'mm', 'mm elongation', 'mm min', 'mm test', 'modulus', 'modulus determined', 'modulus elongation', 'mold', 'mold temperature', 'molding', 'molding cylinder', 'morphology', 'morphology forming', 'mpa', 'mpa 1000', 'mpa le', 'observed', 'observed transmission', 'obtained', 'obtained injection', 'performing', 'performing tensile', 'phase', 'phase amino', 'phase morphology', 'piece', 'piece distance', 'piece obtained', 'polyphenylene', 'polyphenylene sulfide', 'product', 'product composed', 'rate', 'rate 10', 'resin', 'resin amino', 'resin composition', 'resin form', 'sulfide', 'sulfide resin', 'temperature', 'temperature 150', 'temperature 300', 'tensile', 'tensile test', 'test', 'test astm', 'test piece', 'transmission', 'transmission electron', 'type', 'type dumbbell', 'wherein', 'wherein polyphenylene']\n",
      "['crystalline', 'crystalline form', 'crystallizing', 'crystallizing intermediate', 'form', 'form method', 'including', 'including crystalline', 'inhibitor', 'inhibitor provided', 'intermediate', 'intermediate sglt2', 'method', 'method crystallizing', 'methods', 'methods preparing', 'preparing', 'preparing intermediate', 'provided', 'provided including', 'sglt2', 'sglt2 inhibitor']\n"
     ]
    },
    {
     "name": "stderr",
     "output_type": "stream",
     "text": [
      "C:\\Users\\HP\\anaconda3\\envs\\Pytorchgpu\\lib\\site-packages\\sklearn\\utils\\deprecation.py:87: FutureWarning: Function get_feature_names is deprecated; get_feature_names is deprecated in 1.0 and will be removed in 1.2. Please use get_feature_names_out instead.\n",
      "  warnings.warn(msg, category=FutureWarning)\n",
      "C:\\Users\\HP\\anaconda3\\envs\\Pytorchgpu\\lib\\site-packages\\sklearn\\utils\\deprecation.py:87: FutureWarning: Function get_feature_names is deprecated; get_feature_names is deprecated in 1.0 and will be removed in 1.2. Please use get_feature_names_out instead.\n",
      "  warnings.warn(msg, category=FutureWarning)\n",
      "C:\\Users\\HP\\anaconda3\\envs\\Pytorchgpu\\lib\\site-packages\\sklearn\\utils\\deprecation.py:87: FutureWarning: Function get_feature_names is deprecated; get_feature_names is deprecated in 1.0 and will be removed in 1.2. Please use get_feature_names_out instead.\n",
      "  warnings.warn(msg, category=FutureWarning)\n",
      "C:\\Users\\HP\\anaconda3\\envs\\Pytorchgpu\\lib\\site-packages\\sklearn\\utils\\deprecation.py:87: FutureWarning: Function get_feature_names is deprecated; get_feature_names is deprecated in 1.0 and will be removed in 1.2. Please use get_feature_names_out instead.\n",
      "  warnings.warn(msg, category=FutureWarning)\n"
     ]
    },
    {
     "name": "stdout",
     "output_type": "stream",
     "text": [
      "['according', 'according currency', 'according electronic', 'account', 'account number', 'adopted', 'adopted attack', 'advanced', 'advanced technology', 'also', 'also used', 'amount', 'amount contained', 'amount small', 'anti', 'anti counterfeiting', 'attack', 'attack quantum', 'bank', 'bank card', 'based', 'based novel', 'calculation', 'calculation resisted', 'card', 'card identity', 'certificate', 'certificate like', 'certificate manufactured', 'checked', 'checked referred', 'commodity', 'commodity also', 'commodity even', 'commodity purchased', 'completely', 'completely verification', 'contained', 'contained anti', 'conventional', 'conventional anti', 'copy', 'copy completely', 'counterfeit', 'counterfeit product', 'counterfeit significance', 'counterfeiter', 'counterfeiter get', 'counterfeiting', 'counterfeiting commodity', 'counterfeiting irregular', 'counterfeiting material', 'counterfeiting payment', 'critical', 'critical defect', 'currency', 'currency bank', 'currency far', 'currency identity', 'currency manufactured', 'current', 'current electronic', 'data', 'data easy', 'defect', 'defect conventional', 'determined', 'determined thereal', 'difficult', 'difficult copy', 'easy', 'easy lose', 'easy novel', 'electronic', 'electronic currency', 'electronic payment', 'even', 'even counterfeit', 'far', 'far higher', 'finger', 'finger shroff', 'get', 'get money', 'higher', 'higher safety', 'huge', 'huge anti', 'identity', 'identity certificate', 'imitated', 'imitated information', 'information', 'information amount', 'invention', 'invention provides', 'irregular', 'irregular material', 'iscarried', 'iscarried specific', 'like', 'like according', 'lose', 'lose safety', 'manufactured', 'manufactured novel', 'manufacturing', 'manufacturing currency', 'material', 'material advanced', 'material data', 'material difficult', 'material huge', 'material imitated', 'material irregular', 'material novel', 'material required', 'material solves', 'material true', 'material used', 'money', 'money counterfeit', 'need', 'need checked', 'novel', 'novel anti', 'number', 'number commodity', 'number payment', 'offline', 'offline verification', 'one', 'one time', 'operation', 'operation easy', 'order', 'order prevent', 'password', 'password adopted', 'payment', 'payment based', 'payment determined', 'payment finger', 'position', 'position need', 'prevent', 'prevent one', 'product', 'product sold', 'provides', 'provides novel', 'purchased', 'purchased anti', 'quantum', 'quantum calculation', 'random', 'random password', 'referred', 'referred information', 'required', 'required used', 'resisted', 'resisted commodity', 'safety', 'safety currency', 'safety current', 'seller', 'seller shroff', 'shroff', 'shroff account', 'significance', 'significance order', 'small', 'small operation', 'sold', 'sold counterfeiter', 'solves', 'solves critical', 'specific', 'specific position', 'technology', 'technology offline', 'thereal', 'thereal seller', 'time', 'time counterfeiting', 'true', 'true random', 'used', 'used anti', 'used manufacturing', 'verification', 'verification according', 'verification iscarried']\n"
     ]
    },
    {
     "name": "stderr",
     "output_type": "stream",
     "text": [
      "C:\\Users\\HP\\anaconda3\\envs\\Pytorchgpu\\lib\\site-packages\\sklearn\\utils\\deprecation.py:87: FutureWarning: Function get_feature_names is deprecated; get_feature_names is deprecated in 1.0 and will be removed in 1.2. Please use get_feature_names_out instead.\n",
      "  warnings.warn(msg, category=FutureWarning)\n",
      "C:\\Users\\HP\\anaconda3\\envs\\Pytorchgpu\\lib\\site-packages\\sklearn\\utils\\deprecation.py:87: FutureWarning: Function get_feature_names is deprecated; get_feature_names is deprecated in 1.0 and will be removed in 1.2. Please use get_feature_names_out instead.\n",
      "  warnings.warn(msg, category=FutureWarning)\n",
      "C:\\Users\\HP\\anaconda3\\envs\\Pytorchgpu\\lib\\site-packages\\sklearn\\utils\\deprecation.py:87: FutureWarning: Function get_feature_names is deprecated; get_feature_names is deprecated in 1.0 and will be removed in 1.2. Please use get_feature_names_out instead.\n",
      "  warnings.warn(msg, category=FutureWarning)\n",
      "C:\\Users\\HP\\anaconda3\\envs\\Pytorchgpu\\lib\\site-packages\\sklearn\\utils\\deprecation.py:87: FutureWarning: Function get_feature_names is deprecated; get_feature_names is deprecated in 1.0 and will be removed in 1.2. Please use get_feature_names_out instead.\n",
      "  warnings.warn(msg, category=FutureWarning)\n"
     ]
    },
    {
     "name": "stdout",
     "output_type": "stream",
     "text": [
      "['component', 'component concave', 'component formed', 'compressive', 'compressive force', 'concave', 'concave surface', 'concaved', 'concaved respect', 'cover', 'cover concave', 'covering', 'covering cover', 'force', 'force concave', 'formed', 'formed covering', 'includes', 'includes metallic', 'instrument', 'instrument includes', 'medical', 'medical instrument', 'metallic', 'metallic component', 'receiving', 'receiving compressive', 'respect', 'respect surface', 'surface', 'surface concaved', 'surface metallic', 'surface receiving']\n",
      "['according', 'according historical', 'accurately', 'accurately estimated', 'based', 'based estimation', 'based historical', 'behavior', 'behavior data', 'comprises', 'comprises step', 'credible', 'credible guaranteed', 'current', 'current behavior', 'current moment', 'current user', 'data', 'data current', 'data decentralizing', 'data estimation', 'data first', 'data historical', 'data obtain', 'data performing', 'data second', 'data theuser', 'data toobtain', 'data user', 'decentralized', 'decentralized according', 'decentralizing', 'decentralizing first', 'device', 'device method', 'estimated', 'estimated parameter', 'estimating', 'estimating use', 'estimation', 'estimation method', 'estimation parameter', 'first', 'first behavior', 'first historical', 'first use', 'future', 'future usedata', 'guaranteed', 'guaranteed future', 'guaranteed obtained', 'historical', 'historical time', 'historical user', 'invention', 'invention relates', 'method', 'method comprises', 'method device', 'moment', 'moment estimating', 'obtain', 'obtain estimated', 'obtained', 'obtained estimation', 'obtaining', 'obtaining current', 'obtaining first', 'parameter', 'parameter credible', 'parameter obtaining', 'parameter thus', 'performing', 'performing regression', 'period', 'period based', 'period obtaining', 'portrait', 'portrait data', 'processing', 'processing second', 'regression', 'regression processing', 'relates', 'relates data', 'second', 'second behavior', 'second historical', 'second use', 'step', 'step obtaining', 'theuser', 'theuser decentralized', 'thus', 'thus first', 'time', 'time period', 'toobtain', 'toobtain second', 'use', 'use data', 'usedata', 'usedata user', 'user', 'user accurately', 'user based', 'user current', 'user first', 'user guaranteed', 'user portrait', 'user second']\n"
     ]
    },
    {
     "name": "stderr",
     "output_type": "stream",
     "text": [
      "C:\\Users\\HP\\anaconda3\\envs\\Pytorchgpu\\lib\\site-packages\\sklearn\\utils\\deprecation.py:87: FutureWarning: Function get_feature_names is deprecated; get_feature_names is deprecated in 1.0 and will be removed in 1.2. Please use get_feature_names_out instead.\n",
      "  warnings.warn(msg, category=FutureWarning)\n",
      "C:\\Users\\HP\\anaconda3\\envs\\Pytorchgpu\\lib\\site-packages\\sklearn\\utils\\deprecation.py:87: FutureWarning: Function get_feature_names is deprecated; get_feature_names is deprecated in 1.0 and will be removed in 1.2. Please use get_feature_names_out instead.\n",
      "  warnings.warn(msg, category=FutureWarning)\n",
      "C:\\Users\\HP\\anaconda3\\envs\\Pytorchgpu\\lib\\site-packages\\sklearn\\utils\\deprecation.py:87: FutureWarning: Function get_feature_names is deprecated; get_feature_names is deprecated in 1.0 and will be removed in 1.2. Please use get_feature_names_out instead.\n",
      "  warnings.warn(msg, category=FutureWarning)\n"
     ]
    },
    {
     "name": "stdout",
     "output_type": "stream",
     "text": [
      "['accordance', 'accordance embodiment', 'application', 'application server', 'associated', 'associated partition', 'back', 'back doubt', 'commit', 'commit doubt', 'commit transaction', 'committed', 'committed provided', 'described', 'described herein', 'designated', 'designated determiner', 'determiner', 'determiner resource', 'doubt', 'doubt transaction', 'eliminating', 'eliminating transaction', 'embodiment', 'embodiment described', 'environment', 'environment least', 'furthermore', 'furthermore transaction', 'herein', 'herein system', 'least', 'least one', 'list', 'list doubt', 'list outstanding', 'log', 'log tlog', 'manager', 'manager associated', 'manager commit', 'manager match', 'manager mid', 'manager prepare', 'manager rely', 'manager roll', 'match', 'match list', 'method', 'method transaction', 'mid', 'mid tier', 'multitenant', 'multitenant application', 'one', 'one resource', 'order', 'order support', 'otherwise', 'otherwise transaction', 'outstanding', 'outstanding transaction', 'partition', 'partition designated', 'partition order', 'phase', 'phase commit', 'prepare', 'prepare resource', 'processing', 'processing two', 'provided', 'provided determiner', 'recovering', 'recovering transaction', 'recovery', 'recovery multitenant', 'rely', 'rely list', 'resource', 'resource furthermore', 'resource manager', 'resource otherwise', 'resource partition', 'resource recovering', 'returned', 'returned determiner', 'returned resource', 'roll', 'roll back', 'server', 'server environment', 'support', 'support eliminating', 'system', 'system determiner', 'system method', 'tier', 'tier transactional', 'tlog', 'tlog processing', 'transaction', 'transaction committed', 'transaction log', 'transaction manager', 'transaction recovery', 'transaction returned', 'transaction transaction', 'transactional', 'transactional system', 'two', 'two phase']\n",
      "['adapted', 'adapted protect', 'anchor', 'anchor including', 'another', 'another structure', 'bracket', 'bracket cable', 'breaking', 'breaking fiber', 'cable', 'cable securing', 'cable trays', 'cassettes', 'cassettes mesh', 'clamping', 'clamping housing', 'configuration', 'configuration breaking', 'disclosure', 'disclosure relates', 'end', 'end protective', 'example', 'example mesh', 'fiber', 'fiber cable', 'fiber pas', 'fit', 'fit mesh', 'housing', 'housing mount', 'including', 'including reinforcing', 'insert', 'insert fit', 'mesh', 'mesh sleeve', 'mount', 'mount mesh', 'one', 'one example', 'optical', 'optical fiber', 'pas', 'pas therethrough', 'present', 'present disclosure', 'protect', 'protect optical', 'protective', 'protective mesh', 'reinforcing', 'reinforcing insert', 'relates', 'relates structure', 'secured', 'secured another', 'securing', 'securing end', 'sleeve', 'sleeve adapted', 'sleeve clamping', 'sleeve secured', 'sleeve structure', 'structure', 'structure anchor', 'structure bracket', 'structure configuration', 'therethrough', 'therethrough one', 'trays', 'trays cassettes']\n"
     ]
    },
    {
     "name": "stderr",
     "output_type": "stream",
     "text": [
      "C:\\Users\\HP\\anaconda3\\envs\\Pytorchgpu\\lib\\site-packages\\sklearn\\utils\\deprecation.py:87: FutureWarning: Function get_feature_names is deprecated; get_feature_names is deprecated in 1.0 and will be removed in 1.2. Please use get_feature_names_out instead.\n",
      "  warnings.warn(msg, category=FutureWarning)\n",
      "C:\\Users\\HP\\anaconda3\\envs\\Pytorchgpu\\lib\\site-packages\\sklearn\\utils\\deprecation.py:87: FutureWarning: Function get_feature_names is deprecated; get_feature_names is deprecated in 1.0 and will be removed in 1.2. Please use get_feature_names_out instead.\n",
      "  warnings.warn(msg, category=FutureWarning)\n",
      "C:\\Users\\HP\\anaconda3\\envs\\Pytorchgpu\\lib\\site-packages\\sklearn\\utils\\deprecation.py:87: FutureWarning: Function get_feature_names is deprecated; get_feature_names is deprecated in 1.0 and will be removed in 1.2. Please use get_feature_names_out instead.\n",
      "  warnings.warn(msg, category=FutureWarning)\n"
     ]
    },
    {
     "name": "stdout",
     "output_type": "stream",
     "text": [
      "['action', 'action type', 'arc', 'arc shaped', 'astud', 'astud gear', 'base', 'base device', 'baseplate', 'baseplate strut', 'beneficial', 'beneficial effect', 'bevel', 'bevel gear', 'bolt', 'bolt swinging', 'carbonized', 'carbonized wood', 'carburized', 'carburized plank', 'carburized uniformly', 'carburizing', 'carburizing conducted', 'carburizing device', 'certain', 'certain distance', 'comprises', 'comprises baseplate', 'conducted', 'conducted surface', 'connected', 'connected base', 'constant', 'constant time', 'control', 'control duration', 'cool', 'cool carburized', 'coordination', 'coordination astud', 'device', 'device especially', 'device provided', 'device technological', 'distance', 'distance oxygen', 'distance telescopic', 'driven', 'driven rotate', 'driven swing', 'duration', 'duration intensity', 'effect', 'effect plank', 'especially', 'especially relates', 'fastening', 'fastening bolt', 'fixed', 'fixed placement', 'fixedly', 'fixedly connected', 'flame', 'flame spray', 'frame', 'frame driven', 'frame fastening', 'frame rolling', 'gear', 'gear bevel', 'gear plank', 'guide', 'guide frame', 'gun', 'gun plank', 'hollow', 'hollow swinging', 'intensity', 'intensity flame', 'invention', 'invention beneficial', 'invention relates', 'keep', 'keep certain', 'kept', 'kept constant', 'layer', 'layer carburizing', 'like', 'like wherein', 'oxygen', 'oxygen welding', 'pipe', 'pipe driven', 'pipe plank', 'placement', 'placement frame', 'plank', 'plank carburized', 'plank cool', 'plank fixed', 'plank kept', 'plank placement', 'plank superficial', 'plank time', 'plank uniformly', 'problem', 'problem provide', 'properly', 'provide', 'provide superficial', 'provided', 'provided invention', 'rack', 'rack driven', 'relates', 'relates carburizing', 'relates superficial', 'rod', 'rod swing', 'rod telescopic', 'rolling', 'rolling shaft', 'rotate', 'rotate superficial', 'shaft', 'shaft distance', 'shaped', 'shaped rack', 'spray', 'spray pipe', 'spray surface', 'strut', 'strut fixedly', 'strut like', 'superficial', 'superficial layer', 'surface', 'surface plank', 'swing', 'swing action', 'swing arc', 'swing coordination', 'swinging', 'swinging hollow', 'swinging rod', 'technical', 'technical problem', 'technological', 'technological carbonized', 'telescopic', 'telescopic flame', 'time', 'time control', 'time plank', 'type', 'type guide', 'uniformly', 'uniformly hollow', 'uniformly properly', 'welding', 'welding gun', 'wherein', 'wherein strut', 'wood', 'wood comprises', 'wood keep', 'wood technical']\n"
     ]
    },
    {
     "name": "stderr",
     "output_type": "stream",
     "text": [
      "C:\\Users\\HP\\anaconda3\\envs\\Pytorchgpu\\lib\\site-packages\\sklearn\\utils\\deprecation.py:87: FutureWarning: Function get_feature_names is deprecated; get_feature_names is deprecated in 1.0 and will be removed in 1.2. Please use get_feature_names_out instead.\n",
      "  warnings.warn(msg, category=FutureWarning)\n",
      "C:\\Users\\HP\\anaconda3\\envs\\Pytorchgpu\\lib\\site-packages\\sklearn\\utils\\deprecation.py:87: FutureWarning: Function get_feature_names is deprecated; get_feature_names is deprecated in 1.0 and will be removed in 1.2. Please use get_feature_names_out instead.\n",
      "  warnings.warn(msg, category=FutureWarning)\n"
     ]
    },
    {
     "name": "stdout",
     "output_type": "stream",
     "text": [
      "['advantage', 'advantage labor', 'air', 'air cylinder', 'arefixedly', 'arefixedly connected', 'arranged', 'arranged bottom', 'arranged fixing', 'arranged rotating', 'arranged stand', 'arranged upper', 'astand', 'astand column', 'base', 'base rotating', 'base stand', 'base telescopic', 'bearing', 'bearing arranged', 'binding', 'binding efficiency', 'blade', 'blade garlic', 'bottom', 'bottom plate', 'cart', 'cart longitudinal', 'cart rotating', 'column', 'column arranged', 'column lower', 'column power', 'column rotating', 'column transverse', 'column vertical', 'comprises', 'comprises cart', 'connected', 'connected bearing', 'connected stand', 'connected strip', 'connected upper', 'connected vertical', 'connection', 'connection vertical', 'cutting', 'cutting air', 'cutting binding', 'cylinder', 'cylinder arranged', 'cylinder connected', 'discloses', 'discloses garlic', 'driving', 'driving longitudinal', 'effectively', 'effectively relieved', 'efficiency', 'efficiency improved', 'end', 'end lower', 'end stand', 'end vertical', 'fit', 'fit mode', 'fixing', 'fixing air', 'fixing base', 'garlic', 'garlic sprout', 'guide', 'guide rod', 'harvesting', 'harvesting system', 'improved', 'intensity', 'intensity effectively', 'invention', 'invention discloses', 'labor', 'labor intensity', 'longitudinal', 'longitudinal guide', 'longitudinal screw', 'lower', 'lower end', 'mode', 'mode sliding', 'motor', 'motor arranged', 'motor astand', 'motor connected', 'motor used', 'motor vertical', 'motor wherein', 'plate', 'plate cart', 'plate cutting', 'power', 'power motor', 'relieved', 'relieved cutting', 'rod', 'rod arefixedly', 'rod arranged', 'rod connected', 'rod cutting', 'rod fixing', 'rod longitudinal', 'rod motor', 'rod power', 'rod rotate', 'rod screw', 'rod threaded', 'rod upper', 'rod vertical', 'rotate', 'rotate arranged', 'rotating', 'rotating motor', 'rotating shaft', 'screw', 'screw rod', 'shaft', 'shaft power', 'shaped', 'shaped blade', 'sliding', 'sliding connection', 'sprout', 'sprout harvesting', 'stand', 'stand column', 'strip', 'strip shaped', 'system', 'system advantage', 'system comprises', 'system garlic', 'telescopic', 'telescopic rod', 'threaded', 'threaded fit', 'transverse', 'transverse fixing', 'upper', 'upper end', 'used', 'used driving', 'vertical', 'vertical guide', 'vertical screw', 'wherein', 'wherein longitudinal']\n"
     ]
    },
    {
     "name": "stderr",
     "output_type": "stream",
     "text": [
      "C:\\Users\\HP\\anaconda3\\envs\\Pytorchgpu\\lib\\site-packages\\sklearn\\utils\\deprecation.py:87: FutureWarning: Function get_feature_names is deprecated; get_feature_names is deprecated in 1.0 and will be removed in 1.2. Please use get_feature_names_out instead.\n",
      "  warnings.warn(msg, category=FutureWarning)\n",
      "C:\\Users\\HP\\anaconda3\\envs\\Pytorchgpu\\lib\\site-packages\\sklearn\\utils\\deprecation.py:87: FutureWarning: Function get_feature_names is deprecated; get_feature_names is deprecated in 1.0 and will be removed in 1.2. Please use get_feature_names_out instead.\n",
      "  warnings.warn(msg, category=FutureWarning)\n",
      "C:\\Users\\HP\\anaconda3\\envs\\Pytorchgpu\\lib\\site-packages\\sklearn\\utils\\deprecation.py:87: FutureWarning: Function get_feature_names is deprecated; get_feature_names is deprecated in 1.0 and will be removed in 1.2. Please use get_feature_names_out instead.\n",
      "  warnings.warn(msg, category=FutureWarning)\n"
     ]
    },
    {
     "name": "stdout",
     "output_type": "stream",
     "text": [
      "['based', 'based communication', 'calling', 'calling driver', 'carried', 'carried security', 'ciphertext', 'ciphertext data', 'communication', 'communication connection', 'comprises', 'comprises following', 'connection', 'connection driver', 'connection processing', 'corresponding', 'corresponding ciphertext', 'data', 'data corresponding', 'data obtained', 'data plaintext', 'data processed', 'data processing', 'device', 'device device', 'device storage', 'discloses', 'discloses data', 'driver', 'driver based', 'driver security', 'element', 'element communication', 'element data', 'element private', 'element throughan', 'embodiment', 'embodiment invention', 'engine', 'engine establishing', 'establishing', 'establishing open', 'even', 'even hacker', 'following', 'following step', 'hacker', 'hacker obtains', 'improving', 'improving safety', 'invention', 'invention carried', 'invention discloses', 'key', 'key stored', 'layer', 'layer protocol', 'medium', 'medium embodiment', 'medium method', 'memory', 'memory even', 'method', 'method comprises', 'method device', 'obtained', 'obtained thereby', 'obtains', 'obtains transmitted', 'open', 'open secure', 'plaintext', 'plaintext data', 'private', 'private key', 'processed', 'processed secure', 'processing', 'processing data', 'processing method', 'protocol', 'protocol engine', 'protocol secure', 'safety', 'safety data', 'secure', 'secure element', 'secure socket', 'security', 'security element', 'socket', 'socket layer', 'step', 'step calling', 'storage', 'storage medium', 'stored', 'stored memory', 'thereby', 'thereby improving', 'throughan', 'throughan open', 'transmitted', 'transmitted ciphertext']\n",
      "['also', 'also include', 'application', 'application describes', 'describes', 'describes tunnel', 'determines', 'determines least', 'device', 'device determines', 'device downstream', 'device first', 'device generating', 'device least', 'device path', 'device second', 'device support', 'downstream', 'downstream network', 'established', 'established tunnel', 'establishing', 'establishing sr', 'establishment', 'establishment method', 'first', 'first network', 'first request', 'first response', 'furthermore', 'furthermore method', 'generating', 'generating tunnel', 'hop', 'hop network', 'identifier', 'identifier used', 'identify', 'identify sr', 'include', 'include first', 'include receiving', 'include sending', 'includes', 'includes tunnel', 'label', 'label first', 'least', 'least one', 'may', 'may also', 'may include', 'message', 'message includes', 'message previous', 'message sent', 'message used', 'method', 'method may', 'method method', 'network', 'network device', 'obtain', 'obtain rsvp', 'one', 'one network', 'path', 'path established', 'previous', 'previous hop', 'receiving', 'receiving first', 'request', 'request message', 'request obtain', 'response', 'response message', 'rsvp', 'rsvp te', 'second', 'second network', 'sending', 'sending first', 'sent', 'sent previous', 'sr', 'sr te', 'support', 'support rsvp', 'support sr', 'te', 'te establishing', 'te label', 'te method', 'te previous', 'te sr', 'te tunnel', 'tunnel', 'tunnel establishment', 'tunnel first', 'tunnel furthermore', 'tunnel identifier', 'tunnel support', 'used', 'used identify', 'used request']\n"
     ]
    },
    {
     "name": "stderr",
     "output_type": "stream",
     "text": [
      "C:\\Users\\HP\\anaconda3\\envs\\Pytorchgpu\\lib\\site-packages\\sklearn\\utils\\deprecation.py:87: FutureWarning: Function get_feature_names is deprecated; get_feature_names is deprecated in 1.0 and will be removed in 1.2. Please use get_feature_names_out instead.\n",
      "  warnings.warn(msg, category=FutureWarning)\n",
      "C:\\Users\\HP\\anaconda3\\envs\\Pytorchgpu\\lib\\site-packages\\sklearn\\utils\\deprecation.py:87: FutureWarning: Function get_feature_names is deprecated; get_feature_names is deprecated in 1.0 and will be removed in 1.2. Please use get_feature_names_out instead.\n",
      "  warnings.warn(msg, category=FutureWarning)\n",
      "C:\\Users\\HP\\anaconda3\\envs\\Pytorchgpu\\lib\\site-packages\\sklearn\\utils\\deprecation.py:87: FutureWarning: Function get_feature_names is deprecated; get_feature_names is deprecated in 1.0 and will be removed in 1.2. Please use get_feature_names_out instead.\n",
      "  warnings.warn(msg, category=FutureWarning)\n"
     ]
    },
    {
     "name": "stdout",
     "output_type": "stream",
     "text": [
      "['base', 'base element', 'body', 'body vehicle', 'box', 'box diffusor', 'configured', 'configured mounted', 'device', 'device movable', 'diffusor', 'diffusor element', 'diffusor unit', 'drive', 'drive device', 'element', 'element box', 'element configured', 'element drive', 'element movable', 'element two', 'end', 'end position', 'fixed', 'fixed base', 'fixed position', 'fixed rear', 'fixed side', 'includes', 'includes base', 'mounted', 'mounted fixed', 'movable', 'movable diffusor', 'movable relative', 'position', 'position body', 'position diffusor', 'rear', 'rear diffusor', 'rear wall', 'relative', 'relative base', 'side', 'side wall', 'two', 'two end', 'two fixed', 'unit', 'unit includes', 'vehicle', 'vehicle movable', 'wall', 'wall fixed']\n",
      "['according', 'according forming', 'anchoring', 'anchoring part', 'arranged', 'arranged bottom', 'arranged fixing', 'arranged top', 'arrangedat', 'arrangedat bottom', 'ascend', 'ascend descend', 'auxiliary', 'auxiliary device', 'avoided', 'avoided jacking', 'bending', 'bending auxiliary', 'bent', 'bent anchoring', 'bottom', 'bottom fixing', 'bottom workbench', 'calibrated', 'calibrated positioning', 'cam', 'cam used', 'comprises', 'comprises workbench', 'curtain', 'curtain wall', 'decorative', 'decorative curtain', 'descend', 'descend reciprocating', 'detached', 'detached fixed', 'detaching', 'detaching fixing', 'deviation', 'deviation punched', 'device', 'device arranged', 'device arrangedat', 'device bending', 'device jacking', 'device rotationally', 'driving', 'driving multiple', 'efficiency', 'efficiency anchoring', 'equipment', 'equipment used', 'firstly', 'firstly anchoring', 'fixed', 'fixed anchoring', 'fixed whole', 'fixing', 'fixing device', 'fixing saved', 'forming', 'forming machining', 'head', 'head ascend', 'head deviation', 'hole', 'hole avoided', 'improved', 'improved moreover', 'installed', 'installed integrated', 'integrated', 'integrated decorative', 'invention', 'invention relates', 'jacking', 'jacking mechanism', 'machining', 'machining equipment', 'machining method', 'machining process', 'manner', 'manner time', 'matched', 'matched bending', 'matched pressing', 'meanwhile', 'meanwhile machining', 'mechanism', 'mechanism firstly', 'mechanism matched', 'metal', 'metal anchoring', 'method', 'method cam', 'method metal', 'methodand', 'methodand comprises', 'midway', 'midway detaching', 'moreover', 'moreover anchoring', 'multiple', 'multiple anchoring', 'multiple set', 'need', 'need detached', 'needed', 'needed midway', 'opposite', 'opposite punching', 'part', 'part bent', 'part calibrated', 'part fixed', 'part forming', 'part improved', 'part installed', 'part need', 'part punched', 'part right', 'part simplified', 'perforating', 'perforating device', 'positioning', 'positioning mechanism', 'pressing', 'pressing roller', 'process', 'process anchoring', 'process time', 'punched', 'punched anchoring', 'punched hole', 'punched time', 'punching', 'punching efficiency', 'punching head', 'reciprocating', 'reciprocating manner', 'relates', 'relates forming', 'right', 'right opposite', 'roller', 'roller punched', 'rotationally', 'rotationally arranged', 'saved', 'saved meanwhile', 'set', 'set punching', 'simplified', 'therefore', 'therefore multiple', 'time', 'time needed', 'time punching', 'time therefore', 'top', 'top workbench', 'used', 'used driving', 'used methodand', 'wall', 'wall metal', 'whole', 'whole process', 'workbench', 'workbench according', 'workbench fixing', 'workbench perforating']\n"
     ]
    },
    {
     "name": "stderr",
     "output_type": "stream",
     "text": [
      "C:\\Users\\HP\\anaconda3\\envs\\Pytorchgpu\\lib\\site-packages\\sklearn\\utils\\deprecation.py:87: FutureWarning: Function get_feature_names is deprecated; get_feature_names is deprecated in 1.0 and will be removed in 1.2. Please use get_feature_names_out instead.\n",
      "  warnings.warn(msg, category=FutureWarning)\n",
      "C:\\Users\\HP\\anaconda3\\envs\\Pytorchgpu\\lib\\site-packages\\sklearn\\utils\\deprecation.py:87: FutureWarning: Function get_feature_names is deprecated; get_feature_names is deprecated in 1.0 and will be removed in 1.2. Please use get_feature_names_out instead.\n",
      "  warnings.warn(msg, category=FutureWarning)\n",
      "C:\\Users\\HP\\anaconda3\\envs\\Pytorchgpu\\lib\\site-packages\\sklearn\\utils\\deprecation.py:87: FutureWarning: Function get_feature_names is deprecated; get_feature_names is deprecated in 1.0 and will be removed in 1.2. Please use get_feature_names_out instead.\n",
      "  warnings.warn(msg, category=FutureWarning)\n",
      "C:\\Users\\HP\\anaconda3\\envs\\Pytorchgpu\\lib\\site-packages\\sklearn\\utils\\deprecation.py:87: FutureWarning: Function get_feature_names is deprecated; get_feature_names is deprecated in 1.0 and will be removed in 1.2. Please use get_feature_names_out instead.\n",
      "  warnings.warn(msg, category=FutureWarning)\n",
      "C:\\Users\\HP\\anaconda3\\envs\\Pytorchgpu\\lib\\site-packages\\sklearn\\utils\\deprecation.py:87: FutureWarning: Function get_feature_names is deprecated; get_feature_names is deprecated in 1.0 and will be removed in 1.2. Please use get_feature_names_out instead.\n",
      "  warnings.warn(msg, category=FutureWarning)\n",
      "C:\\Users\\HP\\anaconda3\\envs\\Pytorchgpu\\lib\\site-packages\\sklearn\\utils\\deprecation.py:87: FutureWarning: Function get_feature_names is deprecated; get_feature_names is deprecated in 1.0 and will be removed in 1.2. Please use get_feature_names_out instead.\n",
      "  warnings.warn(msg, category=FutureWarning)\n"
     ]
    },
    {
     "name": "stdout",
     "output_type": "stream",
     "text": [
      "['composition', 'composition expression', 'containing', 'containing polypeptide', 'disclosure', 'disclosure provides', 'expression', 'expression secretion', 'heme', 'heme containing', 'method', 'method composition', 'polypeptide', 'provides', 'provides method', 'secretion', 'secretion heme']\n",
      "['10', '10 nozzle', '20', '20 nozzle', '30', '30 consequence', '30 open', '30 operatively', '32', '32 formed', '40', '40 clasp', '40 nozzle', '42', '42 retaining', '50', '50 nozzle', 'applied', 'applied fluid', 'assembly', 'assembly 10', 'body', 'body 20', 'cap', 'cap 30', 'clasp', 'clasp 42', 'co', 'co operatively', 'component', 'component 50', 'consequence', 'consequence hydraulic', 'coupled', 'coupled co', 'delivered', 'delivered spray', 'detent', 'detent 32', 'fluid', 'fluid delivered', 'formed', 'formed relief', 'high', 'high pressure', 'house', 'house retainer', 'hydraulic', 'hydraulic pressure', 'internal', 'internal peripheral', 'nozzle', 'nozzle assembly', 'nozzle body', 'nozzle cap', 'open', 'open stepped', 'operatively', 'operatively coupled', 'operatively house', 'operatively permit', 'peripheral', 'peripheral surface', 'permit', 'permit sealing', 'pressure', 'pressure applied', 'pressure spray', 'relief', 'relief internal', 'retainer', 'retainer 40', 'retaining', 'retaining wear', 'sealing', 'sealing retainer', 'spray', 'spray nozzle', 'stepped', 'stepped detent', 'surface', 'surface nozzle', 'wear', 'wear component']\n"
     ]
    },
    {
     "name": "stderr",
     "output_type": "stream",
     "text": [
      "C:\\Users\\HP\\anaconda3\\envs\\Pytorchgpu\\lib\\site-packages\\sklearn\\utils\\deprecation.py:87: FutureWarning: Function get_feature_names is deprecated; get_feature_names is deprecated in 1.0 and will be removed in 1.2. Please use get_feature_names_out instead.\n",
      "  warnings.warn(msg, category=FutureWarning)\n",
      "C:\\Users\\HP\\anaconda3\\envs\\Pytorchgpu\\lib\\site-packages\\sklearn\\utils\\deprecation.py:87: FutureWarning: Function get_feature_names is deprecated; get_feature_names is deprecated in 1.0 and will be removed in 1.2. Please use get_feature_names_out instead.\n",
      "  warnings.warn(msg, category=FutureWarning)\n",
      "C:\\Users\\HP\\anaconda3\\envs\\Pytorchgpu\\lib\\site-packages\\sklearn\\utils\\deprecation.py:87: FutureWarning: Function get_feature_names is deprecated; get_feature_names is deprecated in 1.0 and will be removed in 1.2. Please use get_feature_names_out instead.\n",
      "  warnings.warn(msg, category=FutureWarning)\n"
     ]
    },
    {
     "name": "stdout",
     "output_type": "stream",
     "text": [
      "['absolute', 'absolute alcohol', 'according', 'according invention', 'alcohol', 'alcohol strength', 'alpha', 'alpha calcium', 'application', 'application thereof', 'autoclaving', 'autoclaving method', 'autoclaving performed', 'basis', 'basis autoclaving', 'calcium', 'calcium chloride', 'calcium sulfate', 'chloride', 'chloride magnesium', 'chloride washing', 'corresponding', 'corresponding application', 'cured', 'cured product', 'degradation', 'degradation performance', 'effectively', 'effectively improved', 'good', 'good degradation', 'grade', 'grade alpha', 'hemihydrate', 'hemihydrate provides', 'high', 'high strength', 'improved', 'improved good', 'inorganic', 'inorganic salt', 'invention', 'invention basis', 'invention provides', 'large', 'large scale', 'magnesium', 'magnesium chloride', 'maintained', 'medical', 'medical surgical', 'method', 'method calcium', 'method high', 'modified', 'modified inorganic', 'particularly', 'particularly calcium', 'performance', 'performance maintained', 'performed', 'performed absolute', 'preparation', 'preparation method', 'product', 'product corresponding', 'product effectively', 'provides', 'provides large', 'provides specific', 'salt', 'salt particularly', 'scale', 'scale preparation', 'specific', 'specific product', 'strength', 'strength cured', 'strength medical', 'sulfate', 'sulfate hemihydrate', 'sulfate modified', 'surgical', 'surgical grade', 'thereof', 'thereof according', 'washing', 'washing autoclaving']\n",
      "['also', 'also configured', 'also includes', 'arm', 'arm configured', 'based', 'based request', 'bottle', 'bottle couple', 'bottle first', 'bottle processor', 'bottle second', 'bottle socket', 'bottle unload', 'bottle using', 'cap', 'cap second', 'configured', 'configured load', 'configured move', 'configured receive', 'configured transmit', 'container', 'container load', 'container remove', 'couple', 'couple socket', 'describes', 'describes method', 'disclosure', 'disclosure describes', 'exemplary', 'exemplary vehicle', 'first', 'first container', 'first location', 'first pr', 'includes', 'includes plurality', 'includes processor', 'includes robotic', 'load', 'load first', 'load second', 'location', 'location first', 'location second', 'location vehicle', 'method', 'method replacing', 'move', 'move vehicle', 'order', 'order based', 'photoresist', 'photoresist pr', 'plurality', 'plurality wheel', 'pr', 'pr bottle', 'present', 'present disclosure', 'processor', 'processor also', 'processor configured', 'receive', 'receive request', 'remove', 'remove cap', 'replace', 'replace first', 'replacing', 'replacing photoresist', 'request', 'request signal', 'robotic', 'robotic arm', 'second', 'second container', 'second location', 'second pr', 'signal', 'signal replace', 'signal vehicle', 'socket', 'socket first', 'transmit', 'transmit order', 'unload', 'unload second', 'using', 'using vehicle', 'vehicle', 'vehicle also', 'vehicle exemplary', 'vehicle first', 'vehicle includes', 'wheel', 'wheel configured']\n"
     ]
    },
    {
     "name": "stderr",
     "output_type": "stream",
     "text": [
      "C:\\Users\\HP\\anaconda3\\envs\\Pytorchgpu\\lib\\site-packages\\sklearn\\utils\\deprecation.py:87: FutureWarning: Function get_feature_names is deprecated; get_feature_names is deprecated in 1.0 and will be removed in 1.2. Please use get_feature_names_out instead.\n",
      "  warnings.warn(msg, category=FutureWarning)\n",
      "C:\\Users\\HP\\anaconda3\\envs\\Pytorchgpu\\lib\\site-packages\\sklearn\\utils\\deprecation.py:87: FutureWarning: Function get_feature_names is deprecated; get_feature_names is deprecated in 1.0 and will be removed in 1.2. Please use get_feature_names_out instead.\n",
      "  warnings.warn(msg, category=FutureWarning)\n",
      "C:\\Users\\HP\\anaconda3\\envs\\Pytorchgpu\\lib\\site-packages\\sklearn\\utils\\deprecation.py:87: FutureWarning: Function get_feature_names is deprecated; get_feature_names is deprecated in 1.0 and will be removed in 1.2. Please use get_feature_names_out instead.\n",
      "  warnings.warn(msg, category=FutureWarning)\n"
     ]
    },
    {
     "name": "stdout",
     "output_type": "stream",
     "text": [
      "['according', 'according position', 'according related', 'comprises', 'comprises following', 'containing', 'containing first', 'content', 'content determining', 'content display', 'content first', 'content related', 'corresponding', 'corresponding device', 'data', 'data determining', 'data least', 'datacomprising', 'datacomprising keywords', 'determining', 'determining number', 'determining position', 'device', 'device storage', 'discloses', 'discloses user', 'display', 'display method', 'displaying', 'displaying virtual', 'drawing', 'drawing keyword', 'embodiment', 'embodiment invention', 'first', 'first virtual', 'following', 'following step', 'generated', 'generated content', 'invention', 'invention discloses', 'invention provides', 'keyword', 'keyword user', 'keywords', 'keywords user', 'least', 'least one', 'medium', 'method', 'method comprises', 'number', 'number first', 'object', 'object according', 'object displaying', 'object virtual', 'one', 'one user', 'position', 'position first', 'provides', 'provides corresponding', 'receiving', 'receiving related', 'related', 'related data', 'related datacomprising', 'respectively', 'respectively drawing', 'space', 'space according', 'space containing', 'space embodiment', 'space respectively', 'step', 'step receiving', 'storage', 'storage medium', 'user', 'user generated', 'virtual', 'virtual object', 'virtual space']\n",
      "['acceptable', 'acceptable salt', 'also', 'also provided', 'aromatic', 'aromatic ring', 'compound', 'compound shown', 'dioxinoquinazoline', 'dioxinoquinazoline urea', 'dioxinoquinoline', 'dioxinoquinoline formula', 'disease', 'drug', 'drug drug', 'drug used', 'formula', 'formula pharmaceutically', 'hydrate', 'hydrate thereof', 'inhibitor', 'inhibitor tyrosine', 'invention', 'invention relates', 'kinase', 'kinase related', 'kinase vegfr', 'linked', 'linked dioxinoquinazoline', 'linked dioxinoquinoline', 'pharmaceutically', 'pharmaceutically acceptable', 'preparation', 'preparation compound', 'present', 'present invention', 'provided', 'provided preparation', 'raf', 'raf raf', 'raf treating', 'related', 'related disease', 'relates', 'relates urea', 'ring', 'ring linked', 'salt', 'salt thereof', 'shown', 'shown formula', 'substituted', 'substituted aromatic', 'thereof', 'thereof also', 'thereof drug', 'thereof hydrate', 'thereof use', 'treating', 'treating tyrosine', 'tyrosine', 'tyrosine kinase', 'urea', 'urea substituted', 'use', 'use thereof', 'used', 'used inhibitor', 'vegfr', 'vegfr raf']\n"
     ]
    },
    {
     "name": "stderr",
     "output_type": "stream",
     "text": [
      "C:\\Users\\HP\\anaconda3\\envs\\Pytorchgpu\\lib\\site-packages\\sklearn\\utils\\deprecation.py:87: FutureWarning: Function get_feature_names is deprecated; get_feature_names is deprecated in 1.0 and will be removed in 1.2. Please use get_feature_names_out instead.\n",
      "  warnings.warn(msg, category=FutureWarning)\n",
      "C:\\Users\\HP\\anaconda3\\envs\\Pytorchgpu\\lib\\site-packages\\sklearn\\utils\\deprecation.py:87: FutureWarning: Function get_feature_names is deprecated; get_feature_names is deprecated in 1.0 and will be removed in 1.2. Please use get_feature_names_out instead.\n",
      "  warnings.warn(msg, category=FutureWarning)\n",
      "C:\\Users\\HP\\anaconda3\\envs\\Pytorchgpu\\lib\\site-packages\\sklearn\\utils\\deprecation.py:87: FutureWarning: Function get_feature_names is deprecated; get_feature_names is deprecated in 1.0 and will be removed in 1.2. Please use get_feature_names_out instead.\n",
      "  warnings.warn(msg, category=FutureWarning)\n",
      "C:\\Users\\HP\\anaconda3\\envs\\Pytorchgpu\\lib\\site-packages\\sklearn\\utils\\deprecation.py:87: FutureWarning: Function get_feature_names is deprecated; get_feature_names is deprecated in 1.0 and will be removed in 1.2. Please use get_feature_names_out instead.\n",
      "  warnings.warn(msg, category=FutureWarning)\n"
     ]
    },
    {
     "name": "stdout",
     "output_type": "stream",
     "text": [
      "['agent', 'agent said', 'alkenylene', 'alkenylene chain', 'alkyl', 'alkyl group', 'alkylene', 'alkylene alkenylene', 'also', 'also claimed', 'aryl', 'aryl group', 'atom', 'atom alkyl', 'attached', 'attached protein', 'bonding', 'bonding portion', 'ch', 'ch ch', 'ch represents', 'chain', 'chain represents', 'chain terminal', 'claimed', 'claimed method', 'conjugate', 'conjugate containing', 'conjugate novel', 'conjugate protein', 'containing', 'containing protein', 'diagnostic', 'diagnostic labelling', 'electron', 'electron withdrawing', 'end', 'end group', 'formula', 'formula ch', 'formula pr', 'general', 'general formula', 'glycol', 'glycol chain', 'glycol portion', 'group', 'group also', 'group formula', 'group group', 'group obtained', 'group optionally', 'group said', 'hydrogen', 'hydrogen atom', 'includes', 'includes pendant', 'independently', 'independently represents', 'invention', 'invention relates', 'labelling', 'labelling agent', 'making', 'making conjugate', 'method', 'method making', 'novel', 'novel reagent', 'nu', 'nu represents', 'nucleophile', 'nucleophile present', 'obtained', 'obtained reduction', 'optionally', 'optionally substituted', 'pendant', 'pendant polyethylene', 'peptide', 'peptide bonding', 'peptide independently', 'peptide nu', 'peptide therapeutic', 'polyethylene', 'polyethylene glycol', 'portion', 'portion general', 'portion includes', 'portion polyethylene', 'portion said', 'pr', 'pr represents', 'present', 'present attached', 'protein', 'protein peptide', 'reagent', 'reagent useful', 'reduction', 'reduction electron', 'relates', 'relates conjugate', 'represents', 'represents alkylene', 'represents electron', 'represents hydrogen', 'represents nucleophile', 'represents said', 'said', 'said conjugate', 'said polyethylene', 'said protein', 'substituted', 'substituted aryl', 'terminal', 'terminal end', 'therapeutic', 'therapeutic diagnostic', 'useful', 'useful method', 'withdrawing', 'withdrawing group']\n",
      "['arranged', 'arranged inside', 'avoided', 'away', 'away inner', 'blocked', 'blocked sludge', 'body', 'body filter', 'body inner', 'body outer', 'body wherein', 'buckled', 'buckled connection', 'buckled hook', 'central', 'central water', 'certain', 'certain extent', 'cleared', 'cleared conveniently', 'clearing', 'clearing difficulty', 'clearing ofthe', 'comprises', 'comprises drill', 'connection', 'connection hook', 'conveniently', 'conveniently filtering', 'diameter', 'diameter flowing', 'difficulty', 'difficulty inside', 'discloses', 'discloses fire', 'drill', 'drill rod', 'end', 'end away', 'end drill', 'extent', 'extent clearing', 'extinguishing', 'extinguishing drill', 'filter', 'filter function', 'filter mechanism', 'filter net', 'filtered', 'filtered filter', 'filtering', 'filtering mode', 'fire', 'fire preventing', 'fixing', 'fixing hole', 'flowing', 'flowing fluid', 'flowing interior', 'fluid', 'fluid le', 'formed', 'formed drill', 'formed inside', 'formed one', 'formed outside', 'function', 'function provided', 'hole', 'hole buckled', 'hole drill', 'hole formed', 'hook', 'hook fire', 'hook unnecessary', 'impurity', 'impurity certain', 'inner', 'inner thread', 'inside', 'inside drill', 'interior', 'interior drill', 'invention', 'invention discloses', 'le', 'le thediameter', 'liquid', 'liquid flowing', 'mechanism', 'mechanism arranged', 'mechanism central', 'mechanism fixing', 'mechanism liquid', 'mode', 'mode filter', 'molecular', 'molecular diameter', 'net', 'net thus', 'obstacle', 'obstacle clearing', 'ofthe', 'ofthe interior', 'one', 'one end', 'outer', 'outer thread', 'outside', 'outside end', 'prevented', 'prevented blocked', 'preventing', 'preventing extinguishing', 'provided', 'provided filter', 'reduced', 'reduced theinterior', 'rod', 'rod avoided', 'rod body', 'rod cleared', 'rod comprises', 'rod filter', 'rod filtered', 'rod prevented', 'rod reduced', 'sludge', 'sludge impurity', 'thediameter', 'thediameter filter', 'theinterior', 'theinterior drill', 'thread', 'thread formed', 'thread hole', 'thus', 'thus interior', 'thus molecular', 'unnecessary', 'unnecessary obstacle', 'water', 'water hole', 'wherein', 'wherein fixing']\n"
     ]
    },
    {
     "name": "stderr",
     "output_type": "stream",
     "text": [
      "C:\\Users\\HP\\anaconda3\\envs\\Pytorchgpu\\lib\\site-packages\\sklearn\\utils\\deprecation.py:87: FutureWarning: Function get_feature_names is deprecated; get_feature_names is deprecated in 1.0 and will be removed in 1.2. Please use get_feature_names_out instead.\n",
      "  warnings.warn(msg, category=FutureWarning)\n",
      "C:\\Users\\HP\\anaconda3\\envs\\Pytorchgpu\\lib\\site-packages\\sklearn\\utils\\deprecation.py:87: FutureWarning: Function get_feature_names is deprecated; get_feature_names is deprecated in 1.0 and will be removed in 1.2. Please use get_feature_names_out instead.\n",
      "  warnings.warn(msg, category=FutureWarning)\n",
      "C:\\Users\\HP\\anaconda3\\envs\\Pytorchgpu\\lib\\site-packages\\sklearn\\utils\\deprecation.py:87: FutureWarning: Function get_feature_names is deprecated; get_feature_names is deprecated in 1.0 and will be removed in 1.2. Please use get_feature_names_out instead.\n",
      "  warnings.warn(msg, category=FutureWarning)\n",
      "C:\\Users\\HP\\anaconda3\\envs\\Pytorchgpu\\lib\\site-packages\\sklearn\\utils\\deprecation.py:87: FutureWarning: Function get_feature_names is deprecated; get_feature_names is deprecated in 1.0 and will be removed in 1.2. Please use get_feature_names_out instead.\n",
      "  warnings.warn(msg, category=FutureWarning)\n",
      "C:\\Users\\HP\\anaconda3\\envs\\Pytorchgpu\\lib\\site-packages\\sklearn\\utils\\deprecation.py:87: FutureWarning: Function get_feature_names is deprecated; get_feature_names is deprecated in 1.0 and will be removed in 1.2. Please use get_feature_names_out instead.\n",
      "  warnings.warn(msg, category=FutureWarning)\n"
     ]
    },
    {
     "name": "stdout",
     "output_type": "stream",
     "text": [
      "['anisaldehyde', 'anisaldehyde enzyme', 'anisaldehyde reaction', 'anisaldehyde trans', 'anisette', 'anisette oxygenase', 'anisette using', 'anthrax', 'anthrax shown', 'building', 'building engineering', 'catalyzing', 'catalyzing oxidization', 'catalyzing trans', 'classified', 'classified natural', 'coding', 'coding trans', 'comprises', 'comprises following', 'condition', 'condition mild', 'containing', 'containing nucleotide', 'culture', 'culture performing', 'engineering', 'engineering method', 'engineering strain', 'environment', 'environment reduced', 'enzyme', 'enzyme used', 'following', 'following step', 'gene', 'gene engineering', 'generate', 'generate anisaldehyde', 'id', 'id using', 'invention', 'invention provides', 'method', 'method comprises', 'method synthesizing', 'method wherein', 'mild', 'mild pollution', 'natural', 'natural spice', 'needle', 'needle anthrax', 'nucleotide', 'nucleotide sequence', 'obtain', 'obtain anisaldehyde', 'obtain trans', 'obtained', 'obtained product', 'oxidization', 'oxidization reaction', 'oxygenase', 'oxygenase catalyzing', 'oxygenase generate', 'oxygenase method', 'oxygenase obtain', 'oxygenase pine', 'oxygenase using', 'performing', 'performing separation', 'pine', 'pine needle', 'pollution', 'pollution reaction', 'product', 'product classified', 'provides', 'provides method', 'purification', 'purification obtain', 'reaction', 'reaction condition', 'reaction system', 'reaction trans', 'reduced', 'reduced obtained', 'separation', 'separation purification', 'seq', 'seq id', 'sequence', 'sequence coding', 'sequence trans', 'shown', 'shown seq', 'spice', 'step', 'step building', 'strain', 'strain containing', 'strain culture', 'synthesizing', 'synthesizing anisaldehyde', 'system', 'system environment', 'trans', 'trans anisette', 'used', 'used catalyzing', 'using', 'using engineering', 'using gene', 'using trans', 'wherein', 'wherein nucleotide']\n"
     ]
    },
    {
     "name": "stderr",
     "output_type": "stream",
     "text": [
      "C:\\Users\\HP\\anaconda3\\envs\\Pytorchgpu\\lib\\site-packages\\sklearn\\utils\\deprecation.py:87: FutureWarning: Function get_feature_names is deprecated; get_feature_names is deprecated in 1.0 and will be removed in 1.2. Please use get_feature_names_out instead.\n",
      "  warnings.warn(msg, category=FutureWarning)\n",
      "C:\\Users\\HP\\anaconda3\\envs\\Pytorchgpu\\lib\\site-packages\\sklearn\\utils\\deprecation.py:87: FutureWarning: Function get_feature_names is deprecated; get_feature_names is deprecated in 1.0 and will be removed in 1.2. Please use get_feature_names_out instead.\n",
      "  warnings.warn(msg, category=FutureWarning)\n"
     ]
    },
    {
     "name": "stdout",
     "output_type": "stream",
     "text": [
      "['2q', '2q phosphorus', '90', '90 percent', 'adjusting', 'adjusting nitrogen', 'adopted', 'adopted total', 'aerobic', 'aerobic decarbonization', 'aerobic nitrification', 'anaerobic', 'anaerobic area', 'anoxic', 'anoxic area', 'area', 'area aerobic', 'area anaerobic', 'area denitrification', 'area middle', 'area saved', 'area system', 'area water', 'belongs', 'belongs field', 'bod', 'bod delta', 'branch', 'branch water', 'capability', 'capability belongs', 'capable', 'capable adjusting', 'carbon', 'carbon load', 'composed', 'composed reaction', 'comprises', 'comprises main', 'connecting', 'connecting pipeline', 'content', 'content sludge', 'control', 'control simple', 'convenient', 'convenient like', 'decarbonization', 'decarbonization area', 'delta', 'delta bod', 'delta tn', 'denitrification', 'denitrification area', 'denitrifying', 'denitrifying phosphorus', 'discharge', 'discharge pipe', 'discloses', 'discloses sewage', 'efficiency', 'efficiency nitrogen', 'effluent', 'effluent tp', 'end', 'end connecting', 'end water', 'energy', 'energy saving', 'enhanced', 'enhanced overrun', 'exceed2', 'exceed2 2q', 'field', 'field sewage', 'flow', 'flow flux', 'flow simple', 'flux', 'flux area', 'greater', 'greater 90', 'greater percent', 'high', 'high efficiency', 'high occupied', 'inlet', 'inlet end', 'inlet pipe', 'invention', 'invention discloses', 'le', 'le maximum', 'le mg', 'like', 'like process', 'like system', 'limited', 'limited reflux', 'load', 'load high', 'low', 'low carbon', 'main', 'main water', 'management', 'management convenient', 'maximum', 'maximum flow', 'method', 'method capable', 'method theadvantages', 'mg', 'mg delta', 'middle', 'middle sedimentation', 'mode', 'mode adopted', 'nitrification', 'nitrification area', 'nitrogen', 'nitrogen phosphorus', 'occupied', 'occupied area', 'operation', 'operation energy', 'operation management', 'operation mode', 'outlet', 'outlet area', 'outlet end', 'outlet pipe', 'overrun', 'overrun pipe', 'overrun sludge', 'pass', 'pass reaction', 'percent', 'percent effluent', 'percent high', 'phosphorus', 'phosphorus content', 'phosphorus removal', 'pipe', 'pipe branch', 'pipe like', 'pipe residual', 'pipe sludge', 'pipe water', 'pipeline', 'pipeline comprises', 'pipeline reaction', 'pre', 'pre anoxic', 'process', 'process flow', 'provided', 'provided pre', 'rate', 'rate greater', 'rate limited', 'ratio', 'ratio control', 'reaction', 'reaction tank', 'realized', 'realized operation', 'realized tn', 'reflux', 'reflux ratio', 'removal', 'removal capability', 'removal enhanced', 'removal rate', 'removal realized', 'residual', 'residual sludge', 'return', 'return pipe', 'returned', 'returned sludge', 'saved', 'saved denitrifying', 'saving', 'saving low', 'secondary', 'secondary sedimentation', 'sedimentation', 'sedimentation area', 'sedimentation tank', 'sequentially', 'sequentially pass', 'sequentially provided', 'sewage', 'sewage sequentially', 'sewage treatment', 'simple', 'simple operation', 'sludge', 'sludge discharge', 'sludge greater', 'sludge operation', 'sludge overrun', 'sludge return', 'sludge returned', 'system', 'system composed', 'system exceed2', 'tank', 'tank connecting', 'tank nitrogen', 'tank secondary', 'tank sequentially', 'theadvantages', 'theadvantages sewage', 'tn', 'tn le', 'tn removal', 'total', 'total phosphorus', 'tp', 'tp le', 'treatment', 'treatment method', 'treatment sewage', 'water', 'water inlet', 'water outlet']\n"
     ]
    },
    {
     "name": "stderr",
     "output_type": "stream",
     "text": [
      "C:\\Users\\HP\\anaconda3\\envs\\Pytorchgpu\\lib\\site-packages\\sklearn\\utils\\deprecation.py:87: FutureWarning: Function get_feature_names is deprecated; get_feature_names is deprecated in 1.0 and will be removed in 1.2. Please use get_feature_names_out instead.\n",
      "  warnings.warn(msg, category=FutureWarning)\n",
      "C:\\Users\\HP\\anaconda3\\envs\\Pytorchgpu\\lib\\site-packages\\sklearn\\utils\\deprecation.py:87: FutureWarning: Function get_feature_names is deprecated; get_feature_names is deprecated in 1.0 and will be removed in 1.2. Please use get_feature_names_out instead.\n",
      "  warnings.warn(msg, category=FutureWarning)\n",
      "C:\\Users\\HP\\anaconda3\\envs\\Pytorchgpu\\lib\\site-packages\\sklearn\\utils\\deprecation.py:87: FutureWarning: Function get_feature_names is deprecated; get_feature_names is deprecated in 1.0 and will be removed in 1.2. Please use get_feature_names_out instead.\n",
      "  warnings.warn(msg, category=FutureWarning)\n"
     ]
    },
    {
     "name": "stdout",
     "output_type": "stream",
     "text": [
      "['according', 'according locking', 'achieved', 'achieved compared', 'adjacent', 'adjacent edge', 'along', 'along adjacent', 'arranged', 'arranged locking', 'arranged surface', 'art', 'art operator', 'assembling', 'assembling hard', 'button', 'button motionreset', 'button need', 'button used', 'capable', 'capable quickly', 'carry', 'carry capable', 'carry comprises', 'compared', 'compared prior', 'comprises', 'comprises mounting', 'direction', 'direction adjacent', 'disassembling', 'disassembling assembling', 'disassembly', 'disassembly hard', 'discloses', 'discloses locking', 'disk', 'disk achieved', 'disk installation', 'disk locking', 'disk movable', 'disk one', 'disk realized', 'edge', 'edge arranged', 'edge disassembly', 'edge hard', 'edge locking', 'edge mounting', 'edge movable', 'edge move', 'edge press', 'edge pressing', 'edge slide', 'edge unlocking', 'effect', 'effect locking', 'ensured', 'ensured unlocking', 'fastener', 'fastener screw', 'fixing', 'fixing movable', 'frame', 'frame mounting', 'frame movable', 'free', 'free hdd', 'greatly', 'greatly saved', 'hard', 'hard disk', 'hdd', 'hdd carry', 'installation', 'installation stability', 'invention', 'invention discloses', 'labor', 'labor greatly', 'length', 'length direction', 'locking', 'locking effect', 'locking free', 'locking mechanism', 'locking movable', 'loosening', 'loosening operation', 'meanwhile', 'meanwhile locking', 'mechanism', 'mechanism according', 'mechanism movable', 'mechanism used', 'motionreset', 'motionreset movable', 'mounting', 'mounting frame', 'mounting hard', 'movable', 'movable edge', 'move', 'move along', 'move length', 'need', 'need push', 'need screw', 'one', 'one side', 'operation', 'operation hard', 'operator', 'operator need', 'position', 'position arranged', 'preset', 'preset position', 'press', 'press unlocking', 'pressing', 'pressing loosening', 'prior', 'prior art', 'push', 'push movable', 'quickly', 'quickly disassembling', 'realized', 'realized meanwhile', 'saved', 'screw', 'screw time', 'screw unscrew', 'side', 'side edge', 'slide', 'slide preset', 'stability', 'stability ensured', 'surface', 'surface adjacent', 'time', 'time labor', 'unlocking', 'unlocking button', 'unlocking locking', 'unscrew', 'unscrew fastener', 'used', 'used fixing', 'used unlocking']\n",
      "['accumulates', 'accumulates process', 'air', 'air inlet', 'air jet', 'air storage', 'away', 'away close', 'away pushing', 'back', 'back close', 'blow', 'blow fertilizer', 'casing', 'casing discharging', 'close', 'close pushing', 'compressed', 'compressed gas', 'comprises', 'comprises step', 'contact', 'contact air', 'conveyed', 'conveyed spray', 'conveying', 'conveying piece', 'device', 'device fixing', 'discharging', 'discharging hole', 'discloses', 'discloses uniform', 'drive', 'drive air', 'driving', 'driving mechanism', 'driving member', 'enters', 'enters air', 'feeding', 'feeding hopper', 'fertilizer', 'fertilizer feeding', 'fertilizer method', 'fertilizer pushed', 'fertilizer spray', 'first', 'first second', 'fixing', 'fixing casing', 'flow', 'flow pushing', 'gas', 'gas air', 'hole', 'hole accumulates', 'hole first', 'hopper', 'hopper conveyed', 'hopper fertilizer', 'inlet', 'inlet driving', 'inlet mechanism', 'invention', 'invention discloses', 'jet', 'jet valve', 'make', 'make push', 'mechanism', 'mechanism run', 'member', 'member fertilizer', 'member run', 'member triggering', 'member ventilation', 'member wherein', 'method', 'method comprises', 'method fertilizer', 'move', 'move away', 'move back', 'open', 'open air', 'opened', 'opened process', 'outsideair', 'outsideair enters', 'piece', 'piece contact', 'piece pushing', 'plug', 'plug move', 'plug reciprocate', 'pours', 'pours fertilizer', 'process', 'process air', 'process sealing', 'push', 'push rods', 'pushed', 'pushed side', 'pushing', 'pushing driving', 'pushing shell', 'reciprocate', 'reciprocate away', 'rods', 'rods sealing', 'run', 'run drive', 'run make', 'run outsideair', 'sealing', 'sealing plug', 'second', 'second conveying', 'shell', 'shell air', 'side', 'side away', 'spray', 'spray spreading', 'spreading', 'spreading device', 'spreading mechanism', 'spreading method', 'step', 'step air', 'storage', 'storage tank', 'storage worker', 'tank', 'tank flow', 'tank storage', 'triggering', 'triggering piece', 'uniform', 'uniform spray', 'valve', 'valve blow', 'valve compressed', 'valve open', 'valve opened', 'ventilation', 'ventilation hole', 'wherein', 'wherein sealing', 'worker', 'worker pours']\n"
     ]
    },
    {
     "name": "stderr",
     "output_type": "stream",
     "text": [
      "C:\\Users\\HP\\anaconda3\\envs\\Pytorchgpu\\lib\\site-packages\\sklearn\\utils\\deprecation.py:87: FutureWarning: Function get_feature_names is deprecated; get_feature_names is deprecated in 1.0 and will be removed in 1.2. Please use get_feature_names_out instead.\n",
      "  warnings.warn(msg, category=FutureWarning)\n",
      "C:\\Users\\HP\\anaconda3\\envs\\Pytorchgpu\\lib\\site-packages\\sklearn\\utils\\deprecation.py:87: FutureWarning: Function get_feature_names is deprecated; get_feature_names is deprecated in 1.0 and will be removed in 1.2. Please use get_feature_names_out instead.\n",
      "  warnings.warn(msg, category=FutureWarning)\n",
      "C:\\Users\\HP\\anaconda3\\envs\\Pytorchgpu\\lib\\site-packages\\sklearn\\utils\\deprecation.py:87: FutureWarning: Function get_feature_names is deprecated; get_feature_names is deprecated in 1.0 and will be removed in 1.2. Please use get_feature_names_out instead.\n",
      "  warnings.warn(msg, category=FutureWarning)\n",
      "C:\\Users\\HP\\anaconda3\\envs\\Pytorchgpu\\lib\\site-packages\\sklearn\\utils\\deprecation.py:87: FutureWarning: Function get_feature_names is deprecated; get_feature_names is deprecated in 1.0 and will be removed in 1.2. Please use get_feature_names_out instead.\n",
      "  warnings.warn(msg, category=FutureWarning)\n"
     ]
    },
    {
     "name": "stdout",
     "output_type": "stream",
     "text": [
      "['administration', 'administration eye', 'certain', 'certain semifluorinated', 'composition', 'composition comprising', 'composition medicament', 'compound', 'compound composition', 'compound invention', 'comprising', 'comprising compound', 'directed', 'directed certain', 'eye', 'invention', 'invention directed', 'invention provides', 'medicament', 'medicament topical', 'present', 'present invention', 'provides', 'provides use', 'semifluorinated', 'semifluorinated compound', 'topical', 'topical administration', 'use', 'use compound']\n",
      "['101', '101 controlling', '102', '102 locating', '103', '103 method', 'according', 'according millisecond', 'achieves', 'achieves objective', 'apparatus', 'apparatus testing', 'caused', 'caused switching', 'clock', 'clock signal', 'colored', 'colored picture', 'comprises', 'comprises connecting', 'connecting', 'connecting synchronization', 'controlled', 'controlled thereby', 'controlling', 'controlling sub', 'controlling synchronization', 'device', 'device apparatus', 'display', 'display multi', 'display result', 'displayed', 'displayed respective', 'displaying', 'displaying millisecond', 'effect', 'effect precision', 'error', 'error caused', 'evaluation', 'evaluation measuring', 'evaluation synchronous', 'field', 'field signal', 'improving', 'improving technical', 'invention', 'invention relates', 'locating', 'locating synchronous', 'measuring', 'measuring error', 'meter', 'meter displayed', 'meter sub', 'method', 'method achieves', 'method comprises', 'method device', 'millisecond', 'millisecond meter', 'multi', 'multi screen', 'objective', 'objective quantitative', 'operating', 'operating displaying', 'performs', 'performs processing', 'picture', 'picture thereby', 'plurality', 'plurality multi', 'precision', 'precision quantitative', 'present', 'present invention', 'processing', 'processing clock', 'processing colored', 'processing method', 'processor', 'processor multi', 'processor plurality', 'quantitative', 'quantitative synchronization', 'relates', 'relates field', 'respective', 'respective sub', 'respectively', 'respectively controlled', 'result', 'result sub', 'screen', 'screen sub', 'screen system', 'screens', 'screens according', 'screens respectively', 'screens video', 'signal', 'signal operating', 'signal processing', 'signal processor', 'signal source', 'source', 'source processor', 'source uniformly', 'sub', 'sub screens', 'sub systems', 'switching', 'switching processing', 'synchronization', 'synchronization evaluation', 'synchronization testing', 'synchronous', 'synchronous display', 'system', 'system present', 'system without', 'systems', 'systems controlling', 'systems performs', 'systems processor', 'technical', 'technical effect', 'testing', 'testing signal', 'testing synchronous', 'thereby', 'thereby 102', 'thereby improving', 'transmit', 'transmit clock', 'uniformly', 'uniformly transmit', 'video', 'video wall', 'wall', 'wall 101', 'wall 103', 'without', 'without evaluation']\n"
     ]
    },
    {
     "name": "stderr",
     "output_type": "stream",
     "text": [
      "C:\\Users\\HP\\anaconda3\\envs\\Pytorchgpu\\lib\\site-packages\\sklearn\\utils\\deprecation.py:87: FutureWarning: Function get_feature_names is deprecated; get_feature_names is deprecated in 1.0 and will be removed in 1.2. Please use get_feature_names_out instead.\n",
      "  warnings.warn(msg, category=FutureWarning)\n",
      "C:\\Users\\HP\\anaconda3\\envs\\Pytorchgpu\\lib\\site-packages\\sklearn\\utils\\deprecation.py:87: FutureWarning: Function get_feature_names is deprecated; get_feature_names is deprecated in 1.0 and will be removed in 1.2. Please use get_feature_names_out instead.\n",
      "  warnings.warn(msg, category=FutureWarning)\n",
      "C:\\Users\\HP\\anaconda3\\envs\\Pytorchgpu\\lib\\site-packages\\sklearn\\utils\\deprecation.py:87: FutureWarning: Function get_feature_names is deprecated; get_feature_names is deprecated in 1.0 and will be removed in 1.2. Please use get_feature_names_out instead.\n",
      "  warnings.warn(msg, category=FutureWarning)\n"
     ]
    },
    {
     "name": "stdout",
     "output_type": "stream",
     "text": [
      "['allow', 'allow dc', 'array', 'array assembly', 'array shim', 'assembly', 'assembly configured', 'assembly includes', 'assembly magnetic', 'b0', 'b0 magnetic', 'b0 shimming', 'bo', 'bo magnetic', 'coil', 'coil array', 'coil assembly', 'coil element', 'coil relative', 'configured', 'configured simultaneously', 'connection', 'connection allow', 'current', 'current generate', 'current loop', 'current mode', 'dc', 'dc current', 'dc power', 'decoupling', 'decoupling method', 'direct', 'direct current', 'disclosed', 'disclosed coil', 'element', 'element includes', 'element minimized', 'element physically', 'element provides', 'element rf', 'element shim', 'field', 'field b0', 'field unified', 'generate', 'generate local', 'geometrical', 'geometrical decoupling', 'imaging', 'imaging disclosed', 'includes', 'includes dc', 'includes rf', 'inductance', 'inductance shim', 'interaction', 'interaction two', 'larger', 'larger number', 'least', 'least one', 'local', 'local b0', 'local bo', 'loop', 'loop dc', 'magnetic', 'magnetic field', 'magnetic resonance', 'method', 'method order', 'minimize', 'minimize rf', 'minimized', 'minimized proposed', 'mode', 'mode generate', 'mode least', 'mutual', 'mutual inductance', 'number', 'number shim', 'one', 'one transmit', 'order', 'order minimize', 'partially', 'partially separated', 'performance', 'performance mutual', 'physically', 'physically separated', 'power', 'power supply', 'proposed', 'proposed geometrical', 'provide', 'provide rf', 'provides', 'provides superior', 'receive', 'receive direct', 'relative', 'relative rf', 'resonance', 'resonance imaging', 'rf', 'rf coil', 'rf interaction', 'rf mode', 'separated', 'separated partially', 'separated rf', 'shim', 'shim coil', 'shimming', 'shimming larger', 'shimming performance', 'simultaneously', 'simultaneously provide', 'superior', 'superior shimming', 'supply', 'supply connection', 'transmit', 'transmit receive', 'two', 'unified', 'unified coil']\n",
      "['according', 'according plurality', 'applied', 'apply', 'apply plurality', 'array', 'array test', 'column', 'column pixel', 'column plurality', 'configured', 'configured output', 'configured selectively', 'connected', 'connected first', 'connected plurality', 'connected second', 'control', 'control signal', 'data', 'data line', 'data pad', 'detect', 'detect signal', 'display', 'display panel', 'emitting', 'emitting display', 'end', 'end plurality', 'first', 'first end', 'includes', 'includes pixel', 'including', 'including plurality', 'light', 'light emitting', 'line', 'line array', 'line configured', 'line including', 'line plurality', 'organic', 'organic light', 'output', 'output panel', 'output pixel', 'pad', 'pad connected', 'panel', 'panel includes', 'panel test', 'pixel', 'pixel column', 'pixel panel', 'pixel plurality', 'pixel unit', 'plurality', 'plurality array', 'plurality data', 'plurality pixel', 'plurality scanning', 'scanning', 'scanning line', 'second', 'second end', 'selectively', 'selectively apply', 'signal', 'signal applied', 'signal detect', 'signal output', 'signal pixel', 'signal testing', 'test', 'test control', 'test signal', 'test unit', 'testing', 'testing plurality', 'unit', 'unit according', 'unit configured', 'unit connected']\n"
     ]
    },
    {
     "name": "stderr",
     "output_type": "stream",
     "text": [
      "C:\\Users\\HP\\anaconda3\\envs\\Pytorchgpu\\lib\\site-packages\\sklearn\\utils\\deprecation.py:87: FutureWarning: Function get_feature_names is deprecated; get_feature_names is deprecated in 1.0 and will be removed in 1.2. Please use get_feature_names_out instead.\n",
      "  warnings.warn(msg, category=FutureWarning)\n",
      "C:\\Users\\HP\\anaconda3\\envs\\Pytorchgpu\\lib\\site-packages\\sklearn\\utils\\deprecation.py:87: FutureWarning: Function get_feature_names is deprecated; get_feature_names is deprecated in 1.0 and will be removed in 1.2. Please use get_feature_names_out instead.\n",
      "  warnings.warn(msg, category=FutureWarning)\n",
      "C:\\Users\\HP\\anaconda3\\envs\\Pytorchgpu\\lib\\site-packages\\sklearn\\utils\\deprecation.py:87: FutureWarning: Function get_feature_names is deprecated; get_feature_names is deprecated in 1.0 and will be removed in 1.2. Please use get_feature_names_out instead.\n",
      "  warnings.warn(msg, category=FutureWarning)\n"
     ]
    },
    {
     "name": "stdout",
     "output_type": "stream",
     "text": [
      "['agent', 'agent stacked', 'alloy', 'alloy correspondingly', 'alloy panel', 'beam', 'beam modification', 'body', 'body subjected', 'bottom', 'bottom top', 'carried', 'carried inhibited', 'carried periphery', 'carried two', 'cleaningthe', 'cleaningthe surface', 'coated', 'coated flux', 'comprises', 'comprises following', 'connecting', 'connecting part', 'connection', 'connection part', 'connection superplastic', 'controlling', 'controlling surface', 'core', 'core plate', 'correspondingly', 'correspondingly gradient', 'defect', 'defect three', 'deformation', 'deformation periphery', 'deformation resistance', 'detached', 'diffusion', 'diffusion connection', 'energy', 'energy beam', 'field', 'field welding', 'flux', 'flux stopping', 'following', 'following step', 'forming', 'forming carried', 'forming upper', 'gradient', 'gradient structure', 'groove', 'groove defect', 'heated', 'heated pressurized', 'high', 'high energy', 'high temperature', 'higher', 'higher plastic', 'hole', 'hole reserved', 'hollow', 'hollow sandwich', 'inhibited', 'inhibited cleaningthe', 'invention', 'invention relates', 'layer', 'layer hollow', 'local', 'local deformation', 'lower', 'lower panel', 'lower wrapping', 'matched', 'matched size', 'method', 'method comprises', 'method controlling', 'modification', 'modification treatment', 'obtained', 'obtained local', 'panel', 'panel core', 'panel lower', 'panel prepared', 'panel titanium', 'panel upper', 'paneland', 'paneland lower', 'part', 'part superplastic', 'part upper', 'periphery', 'periphery connecting', 'periphery stacked', 'plastic', 'plastic deformation', 'plate', 'plate gradient', 'plate upper', 'prepared', 'prepared deformation', 'pressurized', 'pressurized realize', 'realize', 'realize diffusion', 'relates', 'relates method', 'relates technical', 'reserved', 'reserved sealing', 'resistance', 'resistance lower', 'resistance obtained', 'resistance titanium', 'resistance upper', 'sandwich', 'sandwich structure', 'sealing', 'sealing carried', 'sealing structure', 'sealing welding', 'side', 'side diffusion', 'size', 'size upper', 'sleeve', 'sleeve coated', 'sleeve deformation', 'sleeve detached', 'sleeve higher', 'sleeve lower', 'sleeve matched', 'stacked', 'stacked bottom', 'stacked structure', 'stacking', 'stacking sealing', 'step', 'step high', 'stopping', 'stopping agent', 'structure', 'structure body', 'structure high', 'structure method', 'structure upper', 'structure vent', 'subjected', 'subjected stacking', 'superplastic', 'superplastic forming', 'surface', 'surface groove', 'surface upper', 'technical', 'technical field', 'temperature', 'temperature deformation', 'three', 'three layer', 'titanium', 'titanium alloy', 'top', 'top welding', 'treatment', 'treatment carried', 'two', 'two side', 'upper', 'upper panel', 'upper paneland', 'upper wrapping', 'vent', 'vent hole', 'welding', 'welding heated', 'welding relates', 'welding sealing', 'wrapping', 'wrapping sleeve']\n"
     ]
    },
    {
     "name": "stderr",
     "output_type": "stream",
     "text": [
      "C:\\Users\\HP\\anaconda3\\envs\\Pytorchgpu\\lib\\site-packages\\sklearn\\utils\\deprecation.py:87: FutureWarning: Function get_feature_names is deprecated; get_feature_names is deprecated in 1.0 and will be removed in 1.2. Please use get_feature_names_out instead.\n",
      "  warnings.warn(msg, category=FutureWarning)\n",
      "C:\\Users\\HP\\anaconda3\\envs\\Pytorchgpu\\lib\\site-packages\\sklearn\\utils\\deprecation.py:87: FutureWarning: Function get_feature_names is deprecated; get_feature_names is deprecated in 1.0 and will be removed in 1.2. Please use get_feature_names_out instead.\n",
      "  warnings.warn(msg, category=FutureWarning)\n"
     ]
    },
    {
     "name": "stdout",
     "output_type": "stream",
     "text": [
      "['absorbing', 'absorbing contrast', 'absorbing grating', 'absorption', 'absorption grating', 'acquiring', 'acquiring two', 'algorithm', 'algorithm differential', 'algorithm scattering', 'algorithm stepping', 'analysis', 'analysis method', 'anx', 'anx ray', 'arranging', 'arranging talbot', 'attenuation', 'attenuation imaging', 'backprojection', 'backprojection reconstruction', 'based', 'based ray', 'based transverse', 'beam', 'beam computerized', 'beam tomography', 'collected', 'collected two', 'comprisesthe', 'comprisesthe following', 'computerized', 'computerized tomography', 'cone', 'cone beam', 'contract', 'contract ct', 'contract image', 'contrast', 'contrast filtered', 'contrast image', 'contrast three', 'ct', 'ct scanning', 'ct slicing', 'device', 'device based', 'difference', 'difference phase', 'differential', 'differential phase', 'dimensional', 'dimensional cone', 'dimensional intensity', 'discloses', 'discloses ray', 'dislocation', 'dislocation absorbing', 'dislocation grating', 'dosage', 'dosage reduced', 'efficiency', 'efficiency stability', 'filtered', 'filtered backprojection', 'following', 'following step', 'fourier', 'fourier analysis', 'grating', 'grating acquiring', 'grating difference', 'grating method', 'grating required', 'greatly', 'greatly shortened', 'image', 'image object', 'image obtained', 'image reconstruction', 'image sequence', 'image sequencefrom', 'image using', 'imaging', 'imaging dosage', 'imaging efficiency', 'imaging time', 'improved', 'intensity', 'intensity image', 'invention', 'invention discloses', 'lau', 'lau three', 'method', 'method based', 'method comprisesthe', 'method device', 'method performing', 'object', 'object structure', 'object using', 'obtain', 'obtain three', 'obtained', 'obtained traditional', 'passing', 'passing object', 'performing', 'performing image', 'phase', 'phase contrast', 'ray', 'ray absorbing', 'ray attenuation', 'ray grating', 'ray passing', 'reconstruction', 'reconstruction algorithm', 'reconstruction three', 'reduced', 'reduced system', 'required', 'required three', 'scanning', 'scanning method', 'scattering', 'scattering contrast', 'separating', 'separating ray', 'sequence', 'sequence anx', 'sequence differential', 'sequence obtain', 'sequence scattering', 'sequencefrom', 'sequencefrom collected', 'shortened', 'shortened imaging', 'slicing', 'slicing image', 'stability', 'stability improved', 'step', 'step arranging', 'stepping', 'stepping absorption', 'structure', 'structure separating', 'structure transverse', 'system', 'system imaging', 'talbot', 'talbot lau', 'three', 'three contract', 'three dimensional', 'time', 'time greatly', 'tomography', 'tomography method', 'tomography structure', 'traditional', 'traditional ct', 'transverse', 'transverse dislocation', 'two', 'two dimensional', 'using', 'using absorbing', 'using fourier']\n"
     ]
    },
    {
     "name": "stderr",
     "output_type": "stream",
     "text": [
      "C:\\Users\\HP\\anaconda3\\envs\\Pytorchgpu\\lib\\site-packages\\sklearn\\utils\\deprecation.py:87: FutureWarning: Function get_feature_names is deprecated; get_feature_names is deprecated in 1.0 and will be removed in 1.2. Please use get_feature_names_out instead.\n",
      "  warnings.warn(msg, category=FutureWarning)\n",
      "C:\\Users\\HP\\anaconda3\\envs\\Pytorchgpu\\lib\\site-packages\\sklearn\\utils\\deprecation.py:87: FutureWarning: Function get_feature_names is deprecated; get_feature_names is deprecated in 1.0 and will be removed in 1.2. Please use get_feature_names_out instead.\n",
      "  warnings.warn(msg, category=FutureWarning)\n",
      "C:\\Users\\HP\\anaconda3\\envs\\Pytorchgpu\\lib\\site-packages\\sklearn\\utils\\deprecation.py:87: FutureWarning: Function get_feature_names is deprecated; get_feature_names is deprecated in 1.0 and will be removed in 1.2. Please use get_feature_names_out instead.\n",
      "  warnings.warn(msg, category=FutureWarning)\n"
     ]
    },
    {
     "name": "stdout",
     "output_type": "stream",
     "text": [
      "['according', 'according invention', 'acquire', 'acquire parameter', 'acquires', 'acquires four', 'acquisition', 'acquisition channel', 'acquisition detect', 'ad', 'ad acquisition', 'aerial', 'aerial vehicle', 'antenna', 'antenna sub', 'area', 'area receives', 'area signal', 'atarget', 'atarget scattered', 'avoidance', 'avoidance fixed', 'avoidance method', 'avoidance system', 'basis', 'basis data', 'beam', 'beam required', 'belongs', 'belongs field', 'channel', 'channel process', 'collision', 'collision avoidance', 'collision multi', 'combination', 'combination sub', 'comprises', 'comprises antenna', 'conditioning', 'conditioning sub', 'data', 'data acquisition', 'detect', 'detect possibility', 'detection', 'detection radiates', 'distance', 'distance speed', 'echo', 'echo signal', 'field', 'field signal', 'fixed', 'fixed wing', 'form', 'form transmitting', 'four', 'four intermediate', 'frequency', 'frequency signal', 'frequency sub', 'intermediate', 'intermediate frequency', 'invention', 'invention combination', 'invention provides', 'method', 'method millimeter', 'millimeter', 'millimeter wave', 'multi', 'multi objective', 'objective', 'objective obstacle', 'obstacle', 'obstacle basis', 'obstacle unmanned', 'output', 'output signal', 'parameter', 'parameter distance', 'possibility', 'possibility collision', 'process', 'process output', 'processing', 'processing collision', 'processing sub', 'provides', 'provides fixed', 'radar', 'radar belongs', 'radar detection', 'radar realized', 'radiates', 'radiates transmission', 'radio', 'radio frequency', 'realized', 'realized system', 'receives', 'receives atarget', 'receiving', 'receiving beam', 'required', 'required radar', 'scattered', 'scattered echo', 'signal', 'signal according', 'signal conditioning', 'signal output', 'signal processing', 'signal specified', 'signal within', 'specified', 'specified area', 'speed', 'speed multi', 'sub', 'sub system', 'sub systems', 'system', 'system acquire', 'system acquires', 'system ad', 'system antenna', 'system collision', 'system comprises', 'system form', 'system radio', 'system signal', 'systems', 'systems system', 'transmission', 'transmission signal', 'transmitting', 'transmitting receiving', 'unmanned', 'unmanned aerial', 'vehicle', 'vehicle collision', 'vehicle millimeter', 'wave', 'wave radar', 'wing', 'wing unmanned', 'within', 'within specified']\n",
      "['adoption', 'adoption method', 'adsorbent', 'adsorbent refers', 'adsorbent subjecting', 'adsorbent theconnection', 'adsorption', 'adsorption subjecting', 'adsorption treatment', 'algae', 'algae gel', 'animal', 'animal gelatin', 'application', 'application process', 'appropriate', 'appropriate porous', 'ash', 'ash heavy', 'avoid', 'avoid secondary', 'based', 'based sewage', 'calcination', 'calcination regeneration', 'ceramic', 'ceramic coated', 'ceramic heavy', 'ceramic high', 'ceramic material', 'chitosan', 'chitosan gel', 'coated', 'coated organic', 'coating', 'coating connection', 'combination', 'combination starch', 'connection', 'connection adsorbent', 'dextrin', 'dextrin animal', 'efficiency', 'efficiency environmental', 'efficiently', 'efficiently transferred', 'energy', 'energy saving', 'environment', 'environment form', 'environmental', 'environmental friendliness', 'form', 'form solid', 'friendliness', 'friendliness realized', 'gel', 'gel application', 'gel chitosan', 'gel glucosyl', 'gelatin', 'gelatin algae', 'glucosyl', 'glucosyl resin', 'heavy', 'heavy metal', 'high', 'high efficiency', 'high temperature', 'includes', 'includes selecting', 'invention', 'invention provides', 'material', 'material based', 'material modificationtreatment', 'material modifying', 'material recyclable', 'metal', 'metal adsorption', 'metal efficiently', 'metal sewage', 'metal substance', 'method', 'method pollutant', 'method porous', 'modificationtreatment', 'modificationtreatment recycling', 'modified', 'modified porous', 'modifying', 'modifying coating', 'one', 'one combination', 'organic', 'organic connection', 'performed', 'performed avoid', 'pollutant', 'pollutant heavy', 'pollution', 'pollution porous', 'porous', 'porous ceramic', 'porous surface', 'process', 'process includes', 'provides', 'provides reusable', 'realized', 'recyclable', 'recyclable energy', 'recycling', 'recycling adoption', 'recycling safety', 'reduced', 'reduced recycling', 'refers', 'refers one', 'regeneration', 'regeneration treatment', 'resin', 'resin gel', 'reusable', 'reusable modified', 'safety', 'safety treatment', 'saturated', 'saturated modified', 'saving', 'saving high', 'secondary', 'secondary pollution', 'selecting', 'selecting appropriate', 'sewage', 'sewage adsorption', 'sewage treatment', 'sharply', 'sharply reduced', 'size', 'size sharply', 'solid', 'solid substance', 'starch', 'starch dextrin', 'subjecting', 'subjecting ash', 'subjecting modified', 'subjecting porous', 'subjecting saturated', 'substance', 'substance safety', 'substance size', 'surface', 'surface modified', 'temperature', 'temperature calcination', 'theconnection', 'theconnection adsorbent', 'transferred', 'transferred water', 'treatment', 'treatment heavy', 'treatment method', 'treatment performed', 'treatment subjecting', 'water', 'water environment']\n"
     ]
    },
    {
     "name": "stderr",
     "output_type": "stream",
     "text": [
      "C:\\Users\\HP\\anaconda3\\envs\\Pytorchgpu\\lib\\site-packages\\sklearn\\utils\\deprecation.py:87: FutureWarning: Function get_feature_names is deprecated; get_feature_names is deprecated in 1.0 and will be removed in 1.2. Please use get_feature_names_out instead.\n",
      "  warnings.warn(msg, category=FutureWarning)\n",
      "C:\\Users\\HP\\anaconda3\\envs\\Pytorchgpu\\lib\\site-packages\\sklearn\\utils\\deprecation.py:87: FutureWarning: Function get_feature_names is deprecated; get_feature_names is deprecated in 1.0 and will be removed in 1.2. Please use get_feature_names_out instead.\n",
      "  warnings.warn(msg, category=FutureWarning)\n",
      "C:\\Users\\HP\\anaconda3\\envs\\Pytorchgpu\\lib\\site-packages\\sklearn\\utils\\deprecation.py:87: FutureWarning: Function get_feature_names is deprecated; get_feature_names is deprecated in 1.0 and will be removed in 1.2. Please use get_feature_names_out instead.\n",
      "  warnings.warn(msg, category=FutureWarning)\n",
      "C:\\Users\\HP\\anaconda3\\envs\\Pytorchgpu\\lib\\site-packages\\sklearn\\utils\\deprecation.py:87: FutureWarning: Function get_feature_names is deprecated; get_feature_names is deprecated in 1.0 and will be removed in 1.2. Please use get_feature_names_out instead.\n",
      "  warnings.warn(msg, category=FutureWarning)\n",
      "C:\\Users\\HP\\anaconda3\\envs\\Pytorchgpu\\lib\\site-packages\\sklearn\\utils\\deprecation.py:87: FutureWarning: Function get_feature_names is deprecated; get_feature_names is deprecated in 1.0 and will be removed in 1.2. Please use get_feature_names_out instead.\n",
      "  warnings.warn(msg, category=FutureWarning)\n"
     ]
    },
    {
     "name": "stdout",
     "output_type": "stream",
     "text": [
      "['aligned', 'aligned overlapped', 'application', 'application discloses', 'arranged', 'arranged outside', 'automatically', 'automatically aligned', 'buffer', 'buffer layer', 'conductive', 'conductive layer', 'contact', 'contact semiconductor', 'corresponding', 'corresponding buffer', 'corresponding gate', 'corresponding photoresist', 'dielectric', 'dielectric layer', 'discloses', 'discloses thin', 'disposed', 'disposed corresponding', 'drain', 'drain electrode', 'drainelectrode', 'drainelectrode automatically', 'electrode', 'electrode contact', 'electrode corresponding', 'electrode drain', 'electrode drainelectrode', 'electrode enables', 'electrode forming', 'electrode pattern', 'electrode removing', 'electrode semiconductor', 'enables', 'enables source', 'fabricating', 'fabricating manufacturing', 'film', 'film transistor', 'first', 'first conductive', 'form', 'form gate', 'form source', 'forming', 'forming photoresist', 'forming second', 'gate', 'gate dielectric', 'gate electrode', 'includes', 'includes forming', 'layer', 'layer disposed', 'layer first', 'layer form', 'layer gate', 'layer patterning', 'layer semiconductor', 'layer wherein', 'manufacturing', 'manufacturing method', 'material', 'material layer', 'method', 'method fabricating', 'method includes', 'order', 'order slope', 'outside', 'outside gate', 'overlapped', 'pattern', 'pattern recess', 'patterning', 'patterning first', 'patterning second', 'patterning semiconductor', 'photoresist', 'photoresist corresponding', 'photoresist patterning', 'photoresist recess', 'plane', 'plane arranged', 'recess', 'recess corresponding', 'recess order', 'removing', 'removing photoresist', 'second', 'second conductive', 'semiconductor', 'semiconductor material', 'slope', 'slope plane', 'source', 'source electrode', 'thin', 'thin film', 'transistor', 'transistor method', 'wherein', 'wherein source']\n",
      "['axial', 'axial gap', 'concave', 'concave portion', 'core', 'core included', 'core includes', 'denoting', 'denoting one', 'dust', 'dust core', 'edge', 'edge tooth', 'edge yoke', 'electric', 'electric machine', 'gap', 'gap rotary', 'included', 'included axial', 'includes', 'includes sector', 'integrated', 'integrated yoke', 'like', 'like yoke', 'machine', 'machine dust', 'one', 'one surface', 'peripheral', 'peripheral edge', 'plate', 'plate like', 'portion', 'portion denoting', 'portion integrated', 'portion peripheral', 'portion project', 'portion projecting', 'portion provided', 'portion tooth', 'project', 'project toothed', 'projecting', 'projecting yoke', 'provided', 'provided peripheral', 'rotary', 'rotary electric', 'sector', 'sector shaped', 'shaped', 'shaped plate', 'surface', 'surface concave', 'surface toothed', 'surface yoke', 'tooth', 'tooth portion', 'toothed', 'toothed surface', 'yoke', 'yoke portion']\n"
     ]
    },
    {
     "name": "stderr",
     "output_type": "stream",
     "text": [
      "C:\\Users\\HP\\anaconda3\\envs\\Pytorchgpu\\lib\\site-packages\\sklearn\\utils\\deprecation.py:87: FutureWarning: Function get_feature_names is deprecated; get_feature_names is deprecated in 1.0 and will be removed in 1.2. Please use get_feature_names_out instead.\n",
      "  warnings.warn(msg, category=FutureWarning)\n",
      "C:\\Users\\HP\\anaconda3\\envs\\Pytorchgpu\\lib\\site-packages\\sklearn\\utils\\deprecation.py:87: FutureWarning: Function get_feature_names is deprecated; get_feature_names is deprecated in 1.0 and will be removed in 1.2. Please use get_feature_names_out instead.\n",
      "  warnings.warn(msg, category=FutureWarning)\n",
      "C:\\Users\\HP\\anaconda3\\envs\\Pytorchgpu\\lib\\site-packages\\sklearn\\utils\\deprecation.py:87: FutureWarning: Function get_feature_names is deprecated; get_feature_names is deprecated in 1.0 and will be removed in 1.2. Please use get_feature_names_out instead.\n",
      "  warnings.warn(msg, category=FutureWarning)\n"
     ]
    },
    {
     "name": "stdout",
     "output_type": "stream",
     "text": [
      "['according', 'according method', 'avoided', 'avoided safety', 'based', 'based first', 'based longitudinal', 'based plurality', 'based split', 'comprises', 'comprises step', 'current', 'current decision', 'data', 'data determining', 'data leaked', 'data participant', 'data privacy', 'decision', 'decision model', 'decision tree', 'determined', 'determined node', 'determining', 'determining node', 'determining splitting', 'device', 'device based', 'device problem', 'feature', 'feature node', 'feature set', 'federated', 'federated learning', 'first', 'first split', 'first splitting', 'gain', 'gain set', 'generated', 'generated least', 'generating', 'generating decision', 'generating first', 'generating second', 'improved', 'improved data', 'information', 'information node', 'invention', 'invention relates', 'label', 'label data', 'leaked', 'leaked transmission', 'learning', 'learning training', 'least', 'least one', 'longitudinal', 'longitudinal federated', 'method', 'method comprises', 'method device', 'method prediction', 'model', 'model based', 'model training', 'node', 'node based', 'node current', 'node data', 'node generating', 'node information', 'node protected', 'one', 'one second', 'participant', 'participant improved', 'participant node', 'participating', 'participating training', 'plurality', 'plurality trained', 'prediction', 'prediction method', 'privacy', 'privacy participant', 'problem', 'problem label', 'process', 'process avoided', 'protected', 'randomly', 'randomly determined', 'receiving', 'receiving split', 'relates', 'relates decision', 'safety', 'safety node', 'sample', 'sample set', 'second', 'second split', 'second splitting', 'second terminal', 'set', 'set based', 'set generated', 'set generating', 'set label', 'set participating', 'set randomly', 'set receiving', 'set second', 'split', 'split gain', 'split sample', 'splitting', 'splitting feature', 'splitting gain', 'step', 'step training', 'target', 'target decision', 'terminal', 'terminal generating', 'trained', 'trained determining', 'trained target', 'training', 'training feature', 'training method', 'training sample', 'training training', 'transmission', 'transmission process', 'tree', 'tree according', 'tree trained']\n",
      "['accelerate', 'accelerate accumulation', 'accumulation', 'accumulation melanin', 'active', 'active ingredient', 'berberine', 'berberine salt', 'comprising', 'comprising least', 'consisting', 'consisting plant', 'containing', 'containing berberine', 'decomposition', 'decomposition inhibits', 'decomposition keratinocytes', 'decomposition melanin', 'extract', 'extract containing', 'group', 'group consisting', 'hair', 'hair inhibitor', 'ingredient', 'inhibitor', 'inhibitor melanin', 'inhibits', 'inhibits decomposition', 'keratinocytes', 'keratinocytes accelerate', 'keratinocytes comprising', 'least', 'least one', 'melanin', 'melanin decomposition', 'melanin keratinocytes', 'melanin skin', 'one', 'one selected', 'phenformin', 'phenformin salt', 'plant', 'plant extract', 'proguanil', 'proguanil salt', 'provide', 'provide inhibitor', 'salt', 'salt thereof', 'selected', 'selected group', 'skin', 'skin hair', 'thereof', 'thereof active', 'thereof berberine', 'thereof phenformin', 'thereof proguanil']\n"
     ]
    },
    {
     "name": "stderr",
     "output_type": "stream",
     "text": [
      "C:\\Users\\HP\\anaconda3\\envs\\Pytorchgpu\\lib\\site-packages\\sklearn\\utils\\deprecation.py:87: FutureWarning: Function get_feature_names is deprecated; get_feature_names is deprecated in 1.0 and will be removed in 1.2. Please use get_feature_names_out instead.\n",
      "  warnings.warn(msg, category=FutureWarning)\n",
      "C:\\Users\\HP\\anaconda3\\envs\\Pytorchgpu\\lib\\site-packages\\sklearn\\utils\\deprecation.py:87: FutureWarning: Function get_feature_names is deprecated; get_feature_names is deprecated in 1.0 and will be removed in 1.2. Please use get_feature_names_out instead.\n",
      "  warnings.warn(msg, category=FutureWarning)\n",
      "C:\\Users\\HP\\anaconda3\\envs\\Pytorchgpu\\lib\\site-packages\\sklearn\\utils\\deprecation.py:87: FutureWarning: Function get_feature_names is deprecated; get_feature_names is deprecated in 1.0 and will be removed in 1.2. Please use get_feature_names_out instead.\n",
      "  warnings.warn(msg, category=FutureWarning)\n"
     ]
    },
    {
     "name": "stdout",
     "output_type": "stream",
     "text": [
      "['agent', 'agent solution', 'alkaline', 'alkaline cleaning', 'baking', 'baking generating', 'baking silicon', 'carbon', 'carbon dioxide', 'carbonizing', 'carbonizing main', 'cell', 'cell silicon', 'cleaner', 'cleaner solar', 'cleaning', 'cleaning agent', 'cleaning solar', 'component', 'component oil', 'comprises', 'comprises following', 'condition', 'condition introducing', 'degraded', 'degraded production', 'dioxide', 'dioxide water', 'discloses', 'discloses method', 'dissolve', 'dissolve metal', 'dissolve residual', 'drying', 'drying obtain', 'effectively', 'effectively improved', 'effectively removed', 'efficiency', 'efficiency silicon', 'finallycleaning', 'finallycleaning silicon', 'firstly', 'firstly baking', 'following', 'following step', 'generating', 'generating carbon', 'high', 'high temperature', 'hydrogen', 'hydrogen peroxide', 'improved', 'introducing', 'introducing oxygen', 'invention', 'invention discloses', 'left', 'left surface', 'main', 'main component', 'main oil', 'matter', 'matter main', 'metal', 'metal powder', 'method', 'method comprises', 'method removing', 'need', 'need degraded', 'obtain', 'obtain cleaner', 'ofthe', 'ofthe solar', 'oil', 'oil stain', 'organic', 'organic matter', 'organic solvent', 'oxidation', 'oxidation reaction', 'oxidize', 'oxidize dissolve', 'oxygen', 'oxygen high', 'performing', 'performing drying', 'peroxide', 'peroxide solution', 'powder', 'powder left', 'powder secondly', 'production', 'production efficiency', 'react', 'react metal', 'reaction', 'reaction organic', 'remove', 'remove metal', 'removed', 'removed finallycleaning', 'removed silicon', 'removing', 'removing oil', 'residual', 'residual organic', 'secondly', 'secondly washing', 'silicon', 'silicon wafer', 'solar', 'solar cell', 'solution', 'solution oxidize', 'solution react', 'solvent', 'solvent surface', 'stain', 'stain condition', 'stain high', 'stain silicon', 'step', 'step firstly', 'surface', 'surface ofthe', 'surface silicon', 'surface solar', 'temperature', 'temperature baking', 'temperature wherein', 'thirdly', 'thirdly cleaning', 'wafer', 'wafer carbonizing', 'wafer dissolve', 'wafer effectively', 'wafer method', 'wafer need', 'wafer oil', 'wafer removed', 'wafer thirdly', 'wafer water', 'wafer wherein', 'washing', 'washing solar', 'water', 'water oxidation', 'water performing', 'water remove', 'water residual', 'wherein', 'wherein alkaline', 'wherein hydrogen']\n"
     ]
    },
    {
     "name": "stderr",
     "output_type": "stream",
     "text": [
      "C:\\Users\\HP\\anaconda3\\envs\\Pytorchgpu\\lib\\site-packages\\sklearn\\utils\\deprecation.py:87: FutureWarning: Function get_feature_names is deprecated; get_feature_names is deprecated in 1.0 and will be removed in 1.2. Please use get_feature_names_out instead.\n",
      "  warnings.warn(msg, category=FutureWarning)\n",
      "C:\\Users\\HP\\anaconda3\\envs\\Pytorchgpu\\lib\\site-packages\\sklearn\\utils\\deprecation.py:87: FutureWarning: Function get_feature_names is deprecated; get_feature_names is deprecated in 1.0 and will be removed in 1.2. Please use get_feature_names_out instead.\n",
      "  warnings.warn(msg, category=FutureWarning)\n"
     ]
    },
    {
     "name": "stdout",
     "output_type": "stream",
     "text": [
      "['accordingto', 'accordingto system', 'achieved', 'achieved water', 'air', 'air flowing', 'air inlet', 'air velocity', 'applied', 'applied toilet', 'arrangement', 'arrangement check', 'balance', 'balance via', 'better', 'better deodorization', 'blown', 'blown toilet', 'check', 'check valve', 'comprises', 'comprises first', 'connected', 'connected air', 'connected sequence', 'connected three', 'connected via', 'corner', 'corner joint', 'correspondingly', 'correspondingly connected', 'deodorization', 'deodorization effect', 'deodorization system', 'deodorizing', 'deodorizing therefore', 'diameter', 'diameter connected', 'diameter matched', 'different', 'different diameter', 'different inner', 'different path', 'discharge', 'discharge pipe', 'discloses', 'discloses negative', 'effect', 'effect achieved', 'equipment', 'equipment discloses', 'external', 'external corner', 'fan', 'fan accordingto', 'fan discharge', 'fan wherein', 'field', 'field toilet', 'first', 'first discharge', 'first negative', 'flowing', 'flowing negative', 'flowing path', 'inlet', 'inlet fan', 'inner', 'inner diameter', 'invention', 'invention relates', 'joint', 'joint keep', 'joint reach', 'keep', 'keep deodorizing', 'kept', 'kept system', 'length', 'length air', 'matched', 'matched negative', 'negative', 'negative pressure', 'normal', 'normal operation', 'obvious', 'obvious deodorization', 'operation', 'operation whole', 'outside', 'outside toilet', 'path', 'path length', 'path pipeline', 'peculiar', 'peculiar smell', 'pipe', 'pipe correspondingly', 'pipe different', 'pipe external', 'pipe fan', 'pipe first', 'pipe outside', 'pipe peculiar', 'pipe second', 'pipe third', 'pipe three', 'pipeline', 'pipeline restrained', 'pressure', 'pressure deodorization', 'pressure pipe', 'prevented', 'prevented flowing', 'reach', 'reach balance', 'relates', 'relates technical', 'removal', 'removal equipment', 'restrained', 'restrained better', 'second', 'second discharge', 'second negative', 'sequence', 'sequence connected', 'smell', 'smell peculiar', 'smell removal', 'smell source', 'source', 'source blown', 'stable', 'stable use', 'system', 'system applied', 'system comprises', 'system discharge', 'system kept', 'system stable', 'technical', 'technical field', 'therefore', 'therefore normal', 'third', 'third discharge', 'third negative', 'three', 'three discharge', 'three negative', 'toilet', 'toilet connected', 'toilet peculiar', 'toilet system', 'toilet via', 'use', 'use obvious', 'valve', 'valve air', 'velocity', 'velocity external', 'via', 'via arrangement', 'via fan', 'via negative', 'water', 'water prevented', 'wherein', 'wherein three', 'whole', 'whole system']\n"
     ]
    },
    {
     "name": "stderr",
     "output_type": "stream",
     "text": [
      "C:\\Users\\HP\\anaconda3\\envs\\Pytorchgpu\\lib\\site-packages\\sklearn\\utils\\deprecation.py:87: FutureWarning: Function get_feature_names is deprecated; get_feature_names is deprecated in 1.0 and will be removed in 1.2. Please use get_feature_names_out instead.\n",
      "  warnings.warn(msg, category=FutureWarning)\n",
      "C:\\Users\\HP\\anaconda3\\envs\\Pytorchgpu\\lib\\site-packages\\sklearn\\utils\\deprecation.py:87: FutureWarning: Function get_feature_names is deprecated; get_feature_names is deprecated in 1.0 and will be removed in 1.2. Please use get_feature_names_out instead.\n",
      "  warnings.warn(msg, category=FutureWarning)\n",
      "C:\\Users\\HP\\anaconda3\\envs\\Pytorchgpu\\lib\\site-packages\\sklearn\\utils\\deprecation.py:87: FutureWarning: Function get_feature_names is deprecated; get_feature_names is deprecated in 1.0 and will be removed in 1.2. Please use get_feature_names_out instead.\n",
      "  warnings.warn(msg, category=FutureWarning)\n"
     ]
    },
    {
     "name": "stdout",
     "output_type": "stream",
     "text": [
      "['annular', 'annular top', 'area', 'area increase', 'bristle', 'bristle one', 'bristle wall', 'care', 'care implement', 'cavity', 'cavity cavity', 'cavity transverse', 'cleaning', 'cleaning element', 'conical', 'conical tuft', 'coupled', 'coupled handle', 'cross', 'cross sectional', 'defining', 'defining cavity', 'distance', 'distance front', 'element', 'element extend', 'element include', 'embodiment', 'embodiment bristle', 'embodiment head', 'embodiment invention', 'extend', 'extend front', 'four', 'four conical', 'front', 'front surface', 'furthermore', 'furthermore embodiment', 'handle', 'handle head', 'head', 'head coupled', 'head embodiment', 'head front', 'head furthermore', 'head includes', 'head plurality', 'implement', 'implement includes', 'inclined', 'inclined relative', 'include', 'include conical', 'includes', 'includes conical', 'includes handle', 'includes one', 'increase', 'increase distance', 'inner', 'inner surface', 'invention', 'invention oral', 'one', 'one conical', 'one embodiment', 'oral', 'oral care', 'plurality', 'plurality tooth', 'relative', 'relative front', 'sectional', 'sectional area', 'surface', 'surface defining', 'surface head', 'surface inclined', 'surface plurality', 'terminates', 'terminates annular', 'tooth', 'tooth cleaning', 'top', 'top surface', 'transverse', 'transverse cross', 'tuft', 'tuft bristle', 'tuft four', 'tuft two', 'two', 'two conical', 'wall', 'wall inner', 'wall terminates']\n",
      "['according', 'according imaginggrid', 'according invention', 'according target', 'acquiring', 'acquiring two', 'airborne', 'airborne sar', 'also', 'also avoided', 'atarget', 'atarget pixel', 'avoided', 'avoided high', 'baseline', 'baseline distributed', 'carried', 'carried different', 'comprises', 'comprises following', 'constructing', 'constructing imaging', 'coordinate', 'coordinate finding', 'coordinate system', 'coordinate target', 'correction', 'correction according', 'correction constructing', 'correction obtaining', 'correction registered', 'declination', 'declination elevation', 'defect', 'defect inaccurate', 'deterioration', 'deterioration elevation', 'different', 'different navigation', 'dimensional', 'dimensional sar', 'direction', 'direction according', 'direction focusing', 'direction sidelobes', 'direction target', 'discloses', 'discloses airborne', 'distributed', 'distributed unevenly', 'earth', 'earth fixed', 'effective', 'effective baseline', 'elevation', 'elevation direction', 'error', 'error correction', 'finding', 'finding homonymous', 'fixed', 'fixed coordinate', 'focusing', 'focusing also', 'focusing imaging', 'following', 'following step', 'geocentric', 'geocentric earth', 'grid', 'grid elevation', 'high', 'high resolution', 'homonymous', 'homonymous pixel', 'image', 'image according', 'image obtain', 'image performing', 'image phase', 'image registering', 'image toobtain', 'imaging', 'imaging according', 'imaging grid', 'imaginggrid', 'imaginggrid elevation', 'inaccurate', 'inaccurate declination', 'invention', 'invention discloses', 'invention tomography', 'method', 'method comprises', 'method method', 'navigation', 'navigation problem', 'obtain', 'obtain three', 'obtain two', 'obtaining', 'obtaining atarget', 'performing', 'performing focusing', 'performing phase', 'phase', 'phase correction', 'phase error', 'pixel', 'pixel point', 'point', 'point coordinate', 'point geocentric', 'point homonymous', 'point obtain', 'point performing', 'point two', 'problem', 'problem serious', 'realized', 'registered', 'registered two', 'registering', 'registering two', 'resolution', 'resolution tomography', 'sar', 'sar high', 'sar image', 'serious', 'serious deterioration', 'sidelobes', 'sidelobes vertical', 'solved', 'solved defect', 'step', 'step acquiring', 'system', 'system two', 'target', 'target pixel', 'three', 'three dimensional', 'tomography', 'tomography carried', 'tomography method', 'tomography realized', 'toobtain', 'toobtain registered', 'two', 'two dimensional', 'unevenly', 'unevenly solved', 'vertical', 'vertical effective']\n"
     ]
    },
    {
     "name": "stderr",
     "output_type": "stream",
     "text": [
      "C:\\Users\\HP\\anaconda3\\envs\\Pytorchgpu\\lib\\site-packages\\sklearn\\utils\\deprecation.py:87: FutureWarning: Function get_feature_names is deprecated; get_feature_names is deprecated in 1.0 and will be removed in 1.2. Please use get_feature_names_out instead.\n",
      "  warnings.warn(msg, category=FutureWarning)\n",
      "C:\\Users\\HP\\anaconda3\\envs\\Pytorchgpu\\lib\\site-packages\\sklearn\\utils\\deprecation.py:87: FutureWarning: Function get_feature_names is deprecated; get_feature_names is deprecated in 1.0 and will be removed in 1.2. Please use get_feature_names_out instead.\n",
      "  warnings.warn(msg, category=FutureWarning)\n",
      "C:\\Users\\HP\\anaconda3\\envs\\Pytorchgpu\\lib\\site-packages\\sklearn\\utils\\deprecation.py:87: FutureWarning: Function get_feature_names is deprecated; get_feature_names is deprecated in 1.0 and will be removed in 1.2. Please use get_feature_names_out instead.\n",
      "  warnings.warn(msg, category=FutureWarning)\n",
      "C:\\Users\\HP\\anaconda3\\envs\\Pytorchgpu\\lib\\site-packages\\sklearn\\utils\\deprecation.py:87: FutureWarning: Function get_feature_names is deprecated; get_feature_names is deprecated in 1.0 and will be removed in 1.2. Please use get_feature_names_out instead.\n",
      "  warnings.warn(msg, category=FutureWarning)\n",
      "C:\\Users\\HP\\anaconda3\\envs\\Pytorchgpu\\lib\\site-packages\\sklearn\\utils\\deprecation.py:87: FutureWarning: Function get_feature_names is deprecated; get_feature_names is deprecated in 1.0 and will be removed in 1.2. Please use get_feature_names_out instead.\n",
      "  warnings.warn(msg, category=FutureWarning)\n"
     ]
    },
    {
     "name": "stdout",
     "output_type": "stream",
     "text": [
      "['according', 'according place', 'according preset', 'according taxi', 'acquiring', 'acquiring place', 'advance', 'advance taxi', 'appropriate', 'appropriate using', 'art', 'art taxi', 'comprises', 'comprises following', 'computer', 'computer network', 'corresponding', 'corresponding plurality', 'corresponding taxi', 'departure', 'departure destination', 'destination', 'destination determining', 'destination user', 'determining', 'determining taxi', 'discloses', 'discloses taxi', 'displaying', 'displaying plurality', 'experience', 'experience user', 'field', 'field method', 'following', 'following step', 'hailing', 'hailing experience', 'hailing processing', 'hailing prompt', 'hailing request', 'hailing type', 'improved', 'information', 'information corresponding', 'information sent', 'information taxi', 'information user', 'invention', 'invention discloses', 'invention problem', 'method', 'method comprises', 'method system', 'mode', 'mode according', 'network', 'network technology', 'ordering', 'ordering rule', 'place', 'place departure', 'plurality', 'plurality selected', 'plurality taxi', 'preset', 'preset ordering', 'prior', 'prior art', 'problem', 'problem solved', 'processing', 'processing method', 'prompt', 'prompt information', 'relates', 'relates computer', 'request', 'request information', 'respectively', 'respectively according', 'rule', 'rule displaying', 'select', 'select suitable', 'selected', 'selected advance', 'selected taxi', 'selection', 'selection taxi', 'sent', 'sent selection', 'solved', 'solved user', 'step', 'step acquiring', 'suitable', 'suitable travel', 'system', 'system invention', 'system thereof', 'taxi', 'taxi hailing', 'technology', 'technology field', 'thereof', 'thereof relates', 'travel', 'travel mode', 'type', 'type appropriate', 'type corresponding', 'type respectively', 'type selected', 'user', 'user according', 'user improved', 'user prior', 'user select', 'using', 'using method']\n",
      "['angular', 'angular position', 'arranged', 'arranged deform', 'axis', 'axis first', 'axis mechanism', 'axis vary', 'cam', 'cam second', 'deform', 'deform flexible', 'device', 'device arranged', 'device driving', 'differential', 'differential drive', 'display', 'display index', 'display mechanism', 'distant', 'distant pipe', 'drive', 'drive device', 'drive train', 'driving', 'driving output', 'end', 'end flexible', 'first', 'first cam', 'first differential', 'first pipe', 'first second', 'flexible', 'flexible strip', 'formed', 'formed first', 'formed second', 'hand', 'hand including', 'includes', 'includes first', 'including', 'including display', 'including first', 'index', 'index distant', 'index respect', 'input', 'input formed', 'mechanism', 'mechanism includes', 'mechanism resilient', 'mounted', 'mounted end', 'one', 'one input', 'one pipe', 'output', 'output axis', 'pipe', 'pipe drive', 'pipe mounted', 'pipe one', 'pipe respect', 'position', 'position display', 'position one', 'radial', 'radial position', 'resilient', 'resilient hand', 'respect', 'respect axis', 'respect output', 'second', 'second cam', 'second device', 'second differential', 'second pipe', 'strip', 'strip including', 'strip varying', 'timepiece', 'timepiece display', 'train', 'train first', 'train second', 'vary', 'vary radial', 'varying', 'varying angular']\n"
     ]
    }
   ],
   "source": [
    "# pat_data=pd.read_excel('V:/ML_projects/Merckgroup/Keyword_tagging/data/recent_5k.xlsx')\n",
    "# abs_text=pat_data['Abstract']\n",
    "# preprocessed_df1=preprocessed_text(abs_text)\n",
    "# preprocessed_df1\n",
    "doc=preprocessed_df['lemmatize_text'][:300]\n",
    "\n",
    "cv_keywords=[]\n",
    "tfidf_keywords=[]\n",
    "cv_phrases=[]\n",
    "tfidf_phrases=[]\n",
    "for i in doc:\n",
    "    cv_word_embed,cv_doc_embed,cv_words=cv_word_doc_embedding(i)\n",
    "    if cv_words:\n",
    "        cv_keywords_doc=mmr(cv_doc_embed,cv_word_embed,cv_words,top_n,diversity)\n",
    "        cv_keywords_doc=','.join([key[0] for key in cv_keywords_doc])\n",
    "        cv_phrases_doc=''.join([key[0] for key in cv_keywords_doc])\n",
    "        cv_keywords.append(cv_keywords_doc)\n",
    "        cv_phrases.append(cv_phrases_doc)\n",
    "    \n",
    "    tfidf_word_embed,tfidf_doc_embed,tfidf_words=tfidf_word_doc_embedding(i)\n",
    "    tfidf_keywords_doc=mmr(tfidf_doc_embed,tfidf_word_embed,tfidf_words,5,0.2)\n",
    "    tfidf_keywords_doc=','.join([key[0] for key in tfidf_keywords_doc])\n",
    "    tfidf_phrases_doc=''.join([key[0] for key in tfidf_keywords_doc])\n",
    "#     print('cv_keywords',cv_keywords_doc)\n",
    "#     print('cv_phrases',cv_phrases_doc)\n",
    " \n",
    "#     print('tfidf_keywords',tfidf_keywords_doc)\n",
    "#     print('tfidf_phrases',tfidf_phrases_doc)\n",
    "    \n",
    "    tfidf_keywords.append(tfidf_keywords_doc)\n",
    "    tfidf_phrases.append(tfidf_phrases_doc)"
   ]
  },
  {
   "cell_type": "code",
   "execution_count": 13,
   "metadata": {},
   "outputs": [],
   "source": [
    "def get_hotwords(text):\n",
    "    result = []\n",
    "    pos_tag = ['PROPN', 'ADJ', 'NOUN'] # 1\n",
    "    doc = nlp(text.lower()) # 2\n",
    "    for token in doc:\n",
    "        # 3\n",
    "        if(token.text in nlp.Defaults.stop_words or token.text in punctuation):\n",
    "            continue\n",
    "        # 4\n",
    "        if(token.pos_ in pos_tag):\n",
    "            result.append(token.text)\n",
    "                \n",
    "    return result # 5"
   ]
  },
  {
   "cell_type": "code",
   "execution_count": 14,
   "metadata": {},
   "outputs": [],
   "source": [
    "solr_data=pd.read_excel('../data/recent_5k.xlsx')\n",
    "\n",
    "def text_cleaning(text):\n",
    "    cleaned_txt = re.sub('<[^<]+>', ' ', str(text))\n",
    "    cleaned_txt = re.sub( r'\\[.*?\\]', ' ',cleaned_txt)  #remove brackets\n",
    "    cleaned_txt = re.sub('\\d+', ' ', cleaned_txt)\n",
    "    cleaned_txt = re.sub('\\(\\w+\\)', ' ', cleaned_txt)\n",
    "#     cleaned_txt=text.translate(str.maketrans(' ', ' ',string.punctuation)) \n",
    "    return cleaned_txt\n",
    "\n",
    "\n",
    "solr_data['clean_Abstract']=solr_data['Abstract'].apply(text_cleaning)\n",
    "solr_data['scispacy_tags_extract']=solr_data['clean_Abstract'].apply(get_hotwords)\n",
    "\n",
    "# for i in tfidf_keywords:\n",
    "#     print(i)\n",
    "#     break\n"
   ]
  },
  {
   "cell_type": "code",
   "execution_count": 15,
   "metadata": {},
   "outputs": [
    {
     "data": {
      "text/plain": [
       "0       [contamination, meat, antimicrobial-resistant,...\n",
       "1       [receptor, gpr, attractive, drug, target, type...\n",
       "2       [structures, melatonin, ferulic, acid, tertiar...\n",
       "3       [food, drug, administration-approved, treatmen...\n",
       "4       [productivity, traditional, backyard, poultry,...\n",
       "                              ...                        \n",
       "4995    [nutritional, risk, screening, clinical, setti...\n",
       "4996    [purpose, number, studies, importance, vitamin...\n",
       "4997    [non-alcoholic-fatty, liver, disease, specific...\n",
       "4998    [model, food, policy, acceptability, model, le...\n",
       "4999    [study, physicochemical, characteristics, effe...\n",
       "Name: scispacy_tags_extract, Length: 5000, dtype: object"
      ]
     },
     "execution_count": 15,
     "metadata": {},
     "output_type": "execute_result"
    }
   ],
   "source": [
    "solr_data['scispacy_tags_extract']"
   ]
  },
  {
   "cell_type": "code",
   "execution_count": 55,
   "metadata": {},
   "outputs": [],
   "source": [
    "\n",
    "# patbase_key_extract=pd.DataFrame()\n",
    "# patbase_key_extract['Abstract']=abs_text[:100]\n",
    "# patbase_key_extract['CV_keywords']=cv_keywords\n",
    "# patbase_key_extract['tfidf_keywords']=tfidf_keywords"
   ]
  },
  {
   "cell_type": "code",
   "execution_count": 18,
   "metadata": {},
   "outputs": [],
   "source": [
    "# patbase_key_extract.to_csv('../Projects/Keyword_tagging/data/patbase_keyextract.csv')"
   ]
  },
  {
   "cell_type": "markdown",
   "metadata": {},
   "source": [
    "## Multiple  documents"
   ]
  },
  {
   "cell_type": "code",
   "execution_count": 16,
   "metadata": {},
   "outputs": [],
   "source": [
    "import numpy as np\n",
    "import itertools\n",
    "from sklearn.metrics.pairwise import cosine_similarity\n",
    "from typing import List, Tuple\n",
    "import nltk\n",
    "from nltk.corpus import stopwords\n",
    "# from nltk.tokenize import sentence\n",
    "from sklearn.feature_extraction.text import TfidfVectorizer\n",
    "\n",
    "\n",
    "from sentence_transformers import SentenceTransformer\n",
    "# embedding_model = SentenceTransformer(\"paraphrase-MiniLM-L6-v2\")\n",
    "\n"
   ]
  },
  {
   "cell_type": "markdown",
   "metadata": {},
   "source": [
    "## Count Vectorizer"
   ]
  },
  {
   "cell_type": "code",
   "execution_count": 17,
   "metadata": {},
   "outputs": [],
   "source": [
    "def phrase_generator(docs,words,countvec):\n",
    "    \n",
    "    top_n:int=10\n",
    "    diversity:0.5\n",
    "    df = countvec.transform(docs)\n",
    "    \n",
    "    keywords=[]    \n",
    "    phrases=[]\n",
    "    \n",
    "    \n",
    "    for index, doc in enumerate(docs):\n",
    "        doc_words = [words[i] for i in df[index].nonzero()[1]]\n",
    "        if doc_words:\n",
    "            doc_word_embeddings = np.array([cv_word_embeddings[i] for i in df[index].nonzero()[1]])\n",
    "            distances = cosine_similarity([cv_doc_embeddings[index]], doc_word_embeddings)[0]\n",
    "            doc_keywords = [(doc_words[i], round(float(distances[i]), 4)) for i in distances.argsort()[-top_n:]]\n",
    "            doc_keywords=','.join([key[0] for key in doc_keywords])\n",
    "            doc_phrases=''.join([key[0] for key in doc_keywords])\n",
    "            keywords.append(doc_keywords)\n",
    "            phrases.append(doc_phrases)                                 \n",
    "    return keywords,phrases\n",
    "                              "
   ]
  },
  {
   "cell_type": "code",
   "execution_count": 21,
   "metadata": {},
   "outputs": [],
   "source": [
    "docs=preprocessed_df['lemmatize_text']\n",
    "# docs1=preprocessed_df1['lemmatize_text']\n",
    "# Nouns_docs=preprocessed_df1['nouns_verbs'].apply(lambda x:' '.join(x))\n",
    "\n",
    "CV_countvec = CountVectorizer(ngram_range=(1,1), stop_words=stop_words, min_df=1).fit(docs)\n",
    "CV_words = CV_countvec.get_feature_names()\n",
    "\n",
    "cv_doc_embeddings = embedding_model.encode(docs)\n",
    "cv_word_embeddings =embedding_model.encode(CV_words)\n",
    "\n",
    "# cv_keywords,cv_phrases=countvec_phrase_generator(docs)\n",
    "cv_keywords_doc,cv_phrases_doc=phrase_generator(docs,CV_words,CV_countvec)\n",
    "\n"
   ]
  },
  {
   "cell_type": "markdown",
   "metadata": {},
   "source": [
    "## TFIDF\n"
   ]
  },
  {
   "cell_type": "code",
   "execution_count": 22,
   "metadata": {},
   "outputs": [],
   "source": [
    "def phrase_generator(docs,words,countvec):\n",
    "    \n",
    "    top_n:int=10\n",
    "    diversity:0.5\n",
    "    df = countvec.transform(docs)\n",
    "   \n",
    "    keywords=[]    \n",
    "    phrases=[]\n",
    "    \n",
    "    \n",
    "    for index, doc in enumerate(docs):\n",
    "        doc_words = [words[i] for i in df[index].nonzero()[1]]\n",
    "        if doc_words:\n",
    "            doc_word_embeddings = np.array([tfidf_word_embeddings[i] for i in df[index].nonzero()[1]])\n",
    "            distances = cosine_similarity([tfidf_doc_embeddings[index]], doc_word_embeddings)[0]\n",
    "            doc_keywords = [(doc_words[i], round(float(distances[i]), 4)) for i in distances.argsort()[-top_n:]]\n",
    "            doc_keywords=','.join([key[0] for key in doc_keywords])\n",
    "            doc_phrases=''.join([key[0] for key in doc_keywords])\n",
    "            keywords.append(doc_keywords)\n",
    "            phrases.append(doc_phrases)                                 \n",
    "    return keywords,phrases\n",
    "                              "
   ]
  },
  {
   "cell_type": "code",
   "execution_count": 24,
   "metadata": {
    "scrolled": true
   },
   "outputs": [
    {
     "name": "stderr",
     "output_type": "stream",
     "text": [
      "C:\\Users\\HP\\anaconda3\\envs\\Pytorchgpu\\lib\\site-packages\\sklearn\\utils\\deprecation.py:87: FutureWarning: Function get_feature_names is deprecated; get_feature_names is deprecated in 1.0 and will be removed in 1.2. Please use get_feature_names_out instead.\n",
      "  warnings.warn(msg, category=FutureWarning)\n"
     ]
    },
    {
     "name": "stdout",
     "output_type": "stream",
     "text": [
      "24\n",
      "24\n"
     ]
    },
    {
     "data": {
      "text/plain": [
       "39"
      ]
     },
     "execution_count": 24,
     "metadata": {},
     "output_type": "execute_result"
    }
   ],
   "source": [
    "# docs1=preprocessed_df1['lemmatize_text']\n",
    "tfidf_countvec = TfidfVectorizer(ngram_range=(1,1), stop_words=stop_words, min_df=1).fit(docs)\n",
    "tfidf_words = tfidf_countvec.get_feature_names()\n",
    "\n",
    "tfidf_doc_embeddings = embedding_model.encode(docs)\n",
    "tfidf_word_embeddings = embedding_model.encode(tfidf_words)\n",
    "\n",
    "tfidf_keywords_doc,tfidf_phrases_doc=phrase_generator(docs,tfidf_words,tfidf_countvec)\n",
    "\n",
    "df=tfidf_countvec.transform(docs)\n",
    "print(len(df[2].nonzero()[1]))\n",
    "print(len(df[2].nonzero()[0]))\n",
    "len(docs[2].split())"
   ]
  },
  {
   "cell_type": "code",
   "execution_count": null,
   "metadata": {},
   "outputs": [],
   "source": [
    "# sample_data['mmr_cv_keywords']=cv_keywords\n",
    "# sample_data['mmr_tfidf_bigram_keywords']=tfidf_keywords\n",
    "# sample_data['cv_doc_keywords']=cv_phrases_doc\n",
    "# sample_data['tfidf_doc_keywords']=tfidf_phrases_doc"
   ]
  },
  {
   "cell_type": "code",
   "execution_count": null,
   "metadata": {},
   "outputs": [],
   "source": [
    "sample_data.to_excel('../data/Keyword_validation_output_final.xlsx')\n",
    "sample_data"
   ]
  },
  {
   "cell_type": "markdown",
   "metadata": {},
   "source": [
    "# 3.Visualization"
   ]
  },
  {
   "cell_type": "markdown",
   "metadata": {},
   "source": [
    "## KEPPLER MAPPER\n",
    "### A scikit library that provides the functionality to project data visually, to cluster it, and to create connections between it.\n",
    "#### source: git clone https://github.com/MLWave/kepler-mapper\n",
    "\n",
    "\n",
    "### Goal : \n",
    "  1) Convert Documents into Features matrix \\\n",
    "  2) Phrase combine with keywords for Projection \\\n",
    "  3) Check keywords or phrases which are common and uncommon across all documents \\\n",
    "  \n",
    "### Steps:\n",
    "\n",
    " 1) List of 2D representations of each of our sentences into features using TFIDF\n",
    " 2) Dimensionality Reduction: TruncatedSVD , Isomap \\\n",
    " 3) Cluster: DBSCAN we’re going to cluster the Phrase sentences \\\n",
    " 4) Common Keyphrase in Cluster : TF-IDF ngrams (1-3) to help us identify each cluster i.e.Phrases of length 3 which are most common.\n",
    " \n",
    "### Benefits\n",
    "1. The sentences in a cluster do have overlap in meaning (that’s why they’re clustered together)\n",
    "2. To get overview of various and most important phrases with feature words that are group together \n",
    " \n",
    " ### Analysis of Graph and Usage\n",
    " 1. Node Label: Most common word or Phrase in all sentence in that cluster\n",
    " 2. + Cluster details: Above and below average feature words with Members associated and with their    \n",
    " 3. Links shows relation across keywords across the clusters \n",
    " \n",
    "## Takeaway Points and Further steps\n",
    "### 1. As we can still see same word has associated with different cluster. \n",
    "### 2. Development with Analysis of this graph will be crucial step to bring contextual changes with our workflow in timely manner. \n",
    "### 3. Variation in input documents will be analyzed i.e. document with Noun Phrase joined to be feeded in Graph.\n",
    "### 4. Sentence similarity will be Replaced <b>Universal sentence encoder</b> while taking to Development phase\n",
    "### 5. BERT Pretrained model can be used for preparing vectors with development phase.\n",
    "### 6. Generalized Encoder and Decoder can be Productionized which can be useful in other modules "
   ]
  },
  {
   "cell_type": "code",
   "execution_count": 25,
   "metadata": {},
   "outputs": [],
   "source": [
    "import kmapper as km\n",
    "# Project all of the \"sentences\" down into a 2D representation\n",
    "from sklearn.feature_extraction.text import TfidfVectorizer\n",
    "from sklearn.decomposition import TruncatedSVD\n",
    "from sklearn.manifold import Isomap\n",
    "from sklearn.preprocessing import MinMaxScaler\n",
    "from sklearn import cluster"
   ]
  },
  {
   "cell_type": "code",
   "execution_count": 26,
   "metadata": {},
   "outputs": [],
   "source": [
    "def keyphrase_mapper(phrases):\n",
    "    mapper = km.KeplerMapper(verbose=2)\n",
    "\n",
    "    projected_X = mapper.fit_transform(np.array(phrases),\n",
    "    projection=[TfidfVectorizer(analyzer=\"char\",\n",
    "                            ngram_range=(1,6),\n",
    "                            max_df=0.85,\n",
    "                            min_df=0.05),\n",
    "            TruncatedSVD(n_components=100,\n",
    "                         random_state=1729),\n",
    "            Isomap(n_components=2,\n",
    "                   n_jobs=-1)],\n",
    "    scaler=[None, None, MinMaxScaler()])\n",
    "\n",
    "    print(\"SHAPE\",projected_X.shape)\n",
    "\n",
    "    return projected_X\n"
   ]
  },
  {
   "cell_type": "code",
   "execution_count": 27,
   "metadata": {},
   "outputs": [],
   "source": [
    "# Cluster the projected data\n",
    "def cluster_visualization(docs,projected_X,path):\n",
    "    mapper = km.KeplerMapper(verbose=2)\n",
    "    graph = mapper.map(projected_X, clusterer=cluster.DBSCAN(eps=0.5, min_samples=3))\n",
    "    # Get counts of phrases from data (to be used for the label and for cluster statistics)\n",
    "    vec = TfidfVectorizer(analyzer=\"word\",\n",
    "                  strip_accents=\"unicode\",\n",
    "                  stop_words=\"english\",\n",
    "                  ngram_range=(1,3),\n",
    "                  max_df=0.9,\n",
    "                  min_df=0.02)\n",
    "\n",
    "    interpretable_inverse_X = vec.fit_transform(docs).toarray()\n",
    "    interpretable_inverse_X_names = vec.get_feature_names()\n",
    "\n",
    "    print(\"SHAPE\", interpretable_inverse_X.shape)\n",
    "    print(\"FEATURE NAMES SAMPLE\",\n",
    "    interpretable_inverse_X_names[:400])\n",
    "    html = mapper.visualize(graph,X=interpretable_inverse_X,\n",
    "                        X_names=interpretable_inverse_X_names,\n",
    "                        path_html=path,\n",
    "                        lens=projected_X,\n",
    "                        lens_names=[\"ISOMAP1\", \"ISOMAP2\"],\n",
    "                        title=\"Visualizing Text - Abstract\",\n",
    "                        )\n"
   ]
  },
  {
   "cell_type": "code",
   "execution_count": 29,
   "metadata": {
    "scrolled": false
   },
   "outputs": [
    {
     "name": "stdout",
     "output_type": "stream",
     "text": [
      "KeplerMapper(verbose=2)\n",
      "..Composing projection pipeline of length 3:\n",
      "\tProjections: TfidfVectorizer(analyzer='char', max_df=0.85, min_df=0.05, ngram_range=(1, 6))\n",
      "\t\tTruncatedSVD(n_components=100, random_state=1729)\n",
      "\t\tIsomap(n_jobs=-1)\n",
      "\tDistance matrices: False\n",
      "False\n",
      "False\n",
      "\tScalers: None\n",
      "None\n",
      "MinMaxScaler()\n",
      "..Projecting on data shaped (300,)\n",
      "\n",
      "..Projecting data using: \n",
      "\tTfidfVectorizer(analyzer='char', max_df=0.85, min_df=0.05, ngram_range=(1, 6))\n",
      "\n",
      "\n",
      "..Created projection shaped (300, 958)\n",
      "..Projecting on data shaped (300, 958)\n",
      "\n",
      "..Projecting data using: \n",
      "\tTruncatedSVD(n_components=100, random_state=1729)\n",
      "\n",
      "..Projecting on data shaped (300, 100)\n",
      "\n",
      "..Projecting data using: \n",
      "\tIsomap(n_jobs=-1)\n",
      "\n",
      "\n",
      "..Scaling with: MinMaxScaler()\n",
      "\n",
      "SHAPE (300, 2)\n",
      "KeplerMapper(verbose=2)\n",
      "..Composing projection pipeline of length 3:\n",
      "\tProjections: TfidfVectorizer(analyzer='char', max_df=0.85, min_df=0.05, ngram_range=(1, 6))\n",
      "\t\tTruncatedSVD(n_components=100, random_state=1729)\n",
      "\t\tIsomap(n_jobs=-1)\n",
      "\tDistance matrices: False\n",
      "False\n",
      "False\n",
      "\tScalers: None\n",
      "None\n",
      "MinMaxScaler()\n",
      "..Projecting on data shaped (300,)\n",
      "\n",
      "..Projecting data using: \n",
      "\tTfidfVectorizer(analyzer='char', max_df=0.85, min_df=0.05, ngram_range=(1, 6))\n",
      "\n",
      "\n",
      "..Created projection shaped (300, 781)\n",
      "..Projecting on data shaped (300, 781)\n",
      "\n",
      "..Projecting data using: \n",
      "\tTruncatedSVD(n_components=100, random_state=1729)\n",
      "\n",
      "..Projecting on data shaped (300, 100)\n",
      "\n",
      "..Projecting data using: \n",
      "\tIsomap(n_jobs=-1)\n",
      "\n",
      "\n",
      "..Scaling with: MinMaxScaler()\n",
      "\n",
      "SHAPE (300, 2)\n",
      "KeplerMapper(verbose=2)\n",
      "Mapping on data shaped (300, 2) using lens shaped (300, 2)\n",
      "\n",
      "Minimal points in hypercube before clustering: 3\n",
      "Creating 100 hypercubes.\n",
      "Cube_0 is empty.\n",
      "\n",
      "Cube_1 is empty.\n",
      "\n",
      "Cube_2 is empty.\n",
      "\n",
      "Cube_3 is empty.\n",
      "\n",
      "   > Found 1 clusters in hypercube 4.\n",
      "   > Found 1 clusters in hypercube 5.\n",
      "Cube_6 is empty.\n",
      "\n",
      "Cube_7 is empty.\n",
      "\n",
      "Cube_8 is empty.\n",
      "\n",
      "Cube_9 is empty.\n",
      "\n",
      "   > Found 1 clusters in hypercube 10.\n",
      "   > Found 1 clusters in hypercube 11.\n",
      "   > Found 1 clusters in hypercube 12.\n",
      "   > Found 1 clusters in hypercube 13.\n",
      "   > Found 1 clusters in hypercube 14.\n",
      "Cube_15 is empty.\n",
      "\n",
      "Cube_16 is empty.\n",
      "\n",
      "   > Found 1 clusters in hypercube 17.\n",
      "   > Found 1 clusters in hypercube 18.\n",
      "   > Found 1 clusters in hypercube 19.\n",
      "   > Found 1 clusters in hypercube 20.\n",
      "   > Found 1 clusters in hypercube 21.\n",
      "   > Found 1 clusters in hypercube 22.\n",
      "   > Found 1 clusters in hypercube 23.\n",
      "   > Found 1 clusters in hypercube 24.\n",
      "   > Found 1 clusters in hypercube 25.\n",
      "   > Found 1 clusters in hypercube 26.\n",
      "   > Found 1 clusters in hypercube 27.\n",
      "   > Found 1 clusters in hypercube 28.\n",
      "   > Found 1 clusters in hypercube 29.\n",
      "   > Found 1 clusters in hypercube 30.\n",
      "   > Found 1 clusters in hypercube 31.\n",
      "   > Found 1 clusters in hypercube 32.\n",
      "   > Found 1 clusters in hypercube 33.\n",
      "   > Found 1 clusters in hypercube 34.\n",
      "   > Found 1 clusters in hypercube 35.\n",
      "Cube_36 is empty.\n",
      "\n",
      "Cube_37 is empty.\n",
      "\n",
      "Cube_38 is empty.\n",
      "\n",
      "   > Found 1 clusters in hypercube 39.\n",
      "   > Found 1 clusters in hypercube 40.\n",
      "   > Found 1 clusters in hypercube 41.\n",
      "   > Found 1 clusters in hypercube 42.\n",
      "   > Found 1 clusters in hypercube 43.\n",
      "   > Found 1 clusters in hypercube 44.\n",
      "Cube_45 is empty.\n",
      "\n",
      "Cube_46 is empty.\n",
      "\n",
      "Cube_47 is empty.\n",
      "\n",
      "Cube_48 is empty.\n",
      "\n",
      "   > Found 1 clusters in hypercube 49.\n",
      "   > Found 1 clusters in hypercube 50.\n",
      "   > Found 1 clusters in hypercube 51.\n",
      "Cube_52 is empty.\n",
      "\n",
      "Cube_53 is empty.\n",
      "\n",
      "Cube_54 is empty.\n",
      "\n",
      "Cube_55 is empty.\n",
      "\n",
      "   > Found 1 clusters in hypercube 56.\n",
      "   > Found 1 clusters in hypercube 57.\n",
      "   > Found 1 clusters in hypercube 58.\n",
      "   > Found 1 clusters in hypercube 59.\n",
      "Cube_60 is empty.\n",
      "\n",
      "   > Found 1 clusters in hypercube 61.\n",
      "   > Found 1 clusters in hypercube 62.\n",
      "   > Found 1 clusters in hypercube 63.\n",
      "   > Found 1 clusters in hypercube 64.\n",
      "   > Found 1 clusters in hypercube 65.\n",
      "Cube_66 is empty.\n",
      "\n",
      "   > Found 1 clusters in hypercube 67.\n",
      "\n",
      "Created 40 edges and 45 nodes in 0:00:00.037283.\n"
     ]
    },
    {
     "name": "stderr",
     "output_type": "stream",
     "text": [
      "C:\\Users\\HP\\anaconda3\\envs\\Pytorchgpu\\lib\\site-packages\\sklearn\\utils\\deprecation.py:87: FutureWarning: Function get_feature_names is deprecated; get_feature_names is deprecated in 1.0 and will be removed in 1.2. Please use get_feature_names_out instead.\n",
      "  warnings.warn(msg, category=FutureWarning)\n"
     ]
    },
    {
     "name": "stdout",
     "output_type": "stream",
     "text": [
      "SHAPE (2000, 521)\n",
      "FEATURE NAMES SAMPLE ['10', '100', '15', '20', '30', 'access', 'according', 'according invention', 'according method', 'accuracy', 'accurate', 'accurately', 'achieve', 'achieved', 'acid', 'acquiring', 'acquisition', 'action', 'active', 'added', 'adding', 'addition', 'adjacent', 'adjusted', 'adjusting', 'adjustment', 'adopted', 'adopting', 'advantage', 'agent', 'air', 'algorithm', 'analysis', 'angle', 'anti', 'apparatus', 'application', 'application thereof', 'applied', 'area', 'arranged', 'art', 'assembly', 'associated', 'automatic', 'automatically', 'avoided', 'away', 'axis', 'base', 'based', 'basis', 'battery', 'beam', 'bearing', 'belongs', 'belongs field', 'belongs technical', 'belongs technical field', 'better', 'block', 'board', 'body', 'box', 'calculating', 'calculation', 'capable', 'carbon', 'carried', 'carrying', 'caused', 'cavity', 'cell', 'center', 'central', 'certain', 'chamber', 'change', 'channel', 'characteristic', 'characterized', 'circuit', 'clamping', 'cleaning', 'close', 'coating', 'collecting', 'combination', 'combined', 'communication', 'compared', 'completed', 'component', 'composite', 'composition', 'compound', 'comprises', 'comprises following', 'comprises following step', 'comprises step', 'comprising', 'computer', 'condition', 'configuration', 'configured', 'connected', 'connecting', 'connection', 'consumption', 'contact', 'containing', 'content', 'control', 'control method', 'controlled', 'controller', 'controlling', 'convenient', 'conveniently', 'conveying', 'cooling', 'core', 'corresponding', 'correspondingly', 'cost', 'coupled', 'cover', 'cross', 'current', 'cutting', 'cylinder', 'data', 'degree', 'design', 'detected', 'detecting', 'detection', 'determined', 'determining', 'device', 'device comprises', 'device includes', 'device method', 'difference', 'different', 'dimensional', 'direction', 'directly', 'disclosed', 'discloses', 'discloses method', 'disclosure', 'display', 'disposed', 'distance', 'distributed', 'distribution', 'drive', 'driven', 'driving', 'drying', 'dynamic', 'easy', 'edge', 'effect', 'effectively', 'efficiency', 'efficiency improved', 'electric', 'electrode', 'electronic', 'electronic equipment', 'element', 'embodiment', 'embodiment invention', 'end', 'energy', 'ensured', 'environment', 'equal', 'equipment', 'excellent', 'existing', 'extending', 'external', 'face', 'feature', 'feeding', 'field', 'film', 'filtering', 'finally', 'fixed', 'fixedly', 'fixedly connected', 'fixing', 'flexible', 'flow', 'following', 'following step', 'force', 'form', 'formed', 'forming', 'formula', 'frame', 'frequency', 'function', 'gas', 'gear', 'generate', 'generated', 'generating', 'generation', 'good', 'greatly', 'groove', 'group', 'guaranteed', 'guide', 'head', 'heat', 'heating', 'high', 'higher', 'hole', 'image', 'improve', 'improved', 'improving', 'include', 'includes', 'including', 'increased', 'information', 'inlet', 'inner', 'input', 'inside', 'installed', 'instruction', 'intelligent', 'interface', 'internal', 'interval', 'invention', 'invention belongs', 'invention belongs technical', 'invention discloses', 'invention discloses method', 'invention provides', 'invention relates', 'invention relates technical', 'joint', 'large', 'layer', 'le', 'left', 'length', 'level', 'life', 'light', 'like', 'line', 'liquid', 'load', 'located', 'long', 'low', 'lower', 'lower end', 'machine', 'main', 'management', 'manner', 'manufacturing', 'matched', 'material', 'mean', 'measurement', 'mechanical', 'mechanism', 'medium', 'meet', 'member', 'metal', 'method', 'method based', 'method comprises', 'method comprises following', 'method comprises step', 'method device', 'method includes', 'method method', 'method thereof', 'middle', 'mode', 'model', 'module', 'monitoring', 'motor', 'mounted', 'mounting', 'movable', 'moving', 'multi', 'multiple', 'need', 'network', 'node', 'non', 'normal', 'number', 'object', 'obtain', 'obtained', 'obtaining', 'ofthe', 'oil', 'opening', 'operation', 'opposite', 'optical', 'order', 'organic', 'original', 'outer', 'outlet', 'output', 'outside', 'panel', 'parallel', 'parameter', 'particle', 'particular', 'particularly', 'path', 'percent', 'perform', 'performance', 'performed', 'performing', 'period', 'phase', 'piece', 'pipe', 'plate', 'plurality', 'point', 'port', 'portion', 'position', 'positioning', 'powder', 'power', 'pre', 'precision', 'preparation', 'preparation method', 'preparation method thereof', 'prepared', 'preparing', 'present', 'present invention', 'present invention relates', 'preset', 'pressure', 'prevented', 'prior', 'prior art', 'problem', 'process', 'processing', 'processing method', 'product', 'production', 'property', 'protection', 'provide', 'provided', 'provided invention', 'provides', 'providing', 'quality', 'quickly', 'range', 'rate', 'ratio', 'raw', 'raw material', 'reaction', 'real', 'real time', 'realize', 'realized', 'rear', 'received', 'receives', 'receiving', 'reduce']\n",
      "Wrote visualization to: Abstract_CV_mmr.html\n",
      "KeplerMapper(verbose=2)\n",
      "Mapping on data shaped (300, 2) using lens shaped (300, 2)\n",
      "\n",
      "Minimal points in hypercube before clustering: 3\n",
      "Creating 100 hypercubes.\n",
      "   > Found 1 clusters in hypercube 0.\n",
      "   > Found 1 clusters in hypercube 1.\n",
      "   > Found 1 clusters in hypercube 2.\n",
      "   > Found 1 clusters in hypercube 3.\n",
      "   > Found 1 clusters in hypercube 4.\n",
      "Cube_5 is empty.\n",
      "\n",
      "   > Found 1 clusters in hypercube 6.\n",
      "   > Found 1 clusters in hypercube 7.\n",
      "Cube_8 is empty.\n",
      "\n",
      "   > Found 1 clusters in hypercube 9.\n",
      "   > Found 1 clusters in hypercube 10.\n",
      "   > Found 1 clusters in hypercube 11.\n",
      "   > Found 1 clusters in hypercube 12.\n",
      "   > Found 1 clusters in hypercube 13.\n",
      "   > Found 1 clusters in hypercube 14.\n",
      "   > Found 1 clusters in hypercube 15.\n",
      "   > Found 1 clusters in hypercube 16.\n",
      "   > Found 1 clusters in hypercube 17.\n",
      "   > Found 1 clusters in hypercube 18.\n",
      "   > Found 1 clusters in hypercube 19.\n",
      "   > Found 1 clusters in hypercube 20.\n",
      "   > Found 1 clusters in hypercube 21.\n",
      "   > Found 1 clusters in hypercube 22.\n",
      "   > Found 1 clusters in hypercube 23.\n",
      "Cube_24 is empty.\n",
      "\n",
      "   > Found 1 clusters in hypercube 25.\n",
      "   > Found 1 clusters in hypercube 26.\n",
      "   > Found 1 clusters in hypercube 27.\n",
      "   > Found 1 clusters in hypercube 28.\n",
      "   > Found 1 clusters in hypercube 29.\n",
      "   > Found 1 clusters in hypercube 30.\n",
      "   > Found 1 clusters in hypercube 31.\n",
      "   > Found 1 clusters in hypercube 32.\n",
      "   > Found 1 clusters in hypercube 33.\n",
      "Cube_34 is empty.\n",
      "\n",
      "Cube_35 is empty.\n",
      "\n",
      "   > Found 1 clusters in hypercube 36.\n",
      "   > Found 1 clusters in hypercube 37.\n",
      "   > Found 1 clusters in hypercube 38.\n",
      "   > Found 1 clusters in hypercube 39.\n",
      "   > Found 1 clusters in hypercube 40.\n",
      "   > Found 1 clusters in hypercube 41.\n",
      "   > Found 1 clusters in hypercube 42.\n",
      "   > Found 1 clusters in hypercube 43.\n",
      "Cube_44 is empty.\n",
      "\n",
      "Cube_45 is empty.\n",
      "\n",
      "Cube_46 is empty.\n",
      "\n",
      "   > Found 1 clusters in hypercube 47.\n",
      "   > Found 1 clusters in hypercube 48.\n",
      "   > Found 1 clusters in hypercube 49.\n",
      "Cube_50 is empty.\n",
      "\n",
      "   > Found 1 clusters in hypercube 51.\n",
      "Cube_52 is empty.\n",
      "\n",
      "   > Found 1 clusters in hypercube 53.\n",
      "   > Found 1 clusters in hypercube 54.\n",
      "   > Found 1 clusters in hypercube 55.\n",
      "   > Found 1 clusters in hypercube 56.\n",
      "   > Found 1 clusters in hypercube 57.\n",
      "Cube_58 is empty.\n",
      "\n",
      "Cube_59 is empty.\n",
      "\n",
      "Cube_60 is empty.\n",
      "\n",
      "Cube_61 is empty.\n",
      "\n",
      "Cube_62 is empty.\n",
      "\n",
      "   > Found 1 clusters in hypercube 63.\n",
      "   > Found 1 clusters in hypercube 64.\n",
      "   > Found 1 clusters in hypercube 65.\n",
      "   > Found 1 clusters in hypercube 66.\n",
      "Cube_67 is empty.\n",
      "\n",
      "Cube_68 is empty.\n",
      "\n",
      "   > Found 1 clusters in hypercube 69.\n",
      "Cube_70 is empty.\n",
      "\n",
      "Cube_71 is empty.\n",
      "\n",
      "Cube_72 is empty.\n",
      "\n",
      "Cube_73 is empty.\n",
      "\n",
      "Cube_74 is empty.\n",
      "\n",
      "Cube_75 is empty.\n",
      "\n",
      "\n",
      "Created 54 edges and 53 nodes in 0:00:00.038053.\n"
     ]
    },
    {
     "name": "stderr",
     "output_type": "stream",
     "text": [
      "C:\\Users\\HP\\anaconda3\\envs\\Pytorchgpu\\lib\\site-packages\\sklearn\\utils\\deprecation.py:87: FutureWarning: Function get_feature_names is deprecated; get_feature_names is deprecated in 1.0 and will be removed in 1.2. Please use get_feature_names_out instead.\n",
      "  warnings.warn(msg, category=FutureWarning)\n"
     ]
    },
    {
     "name": "stdout",
     "output_type": "stream",
     "text": [
      "SHAPE (2000, 521)\n",
      "FEATURE NAMES SAMPLE ['10', '100', '15', '20', '30', 'access', 'according', 'according invention', 'according method', 'accuracy', 'accurate', 'accurately', 'achieve', 'achieved', 'acid', 'acquiring', 'acquisition', 'action', 'active', 'added', 'adding', 'addition', 'adjacent', 'adjusted', 'adjusting', 'adjustment', 'adopted', 'adopting', 'advantage', 'agent', 'air', 'algorithm', 'analysis', 'angle', 'anti', 'apparatus', 'application', 'application thereof', 'applied', 'area', 'arranged', 'art', 'assembly', 'associated', 'automatic', 'automatically', 'avoided', 'away', 'axis', 'base', 'based', 'basis', 'battery', 'beam', 'bearing', 'belongs', 'belongs field', 'belongs technical', 'belongs technical field', 'better', 'block', 'board', 'body', 'box', 'calculating', 'calculation', 'capable', 'carbon', 'carried', 'carrying', 'caused', 'cavity', 'cell', 'center', 'central', 'certain', 'chamber', 'change', 'channel', 'characteristic', 'characterized', 'circuit', 'clamping', 'cleaning', 'close', 'coating', 'collecting', 'combination', 'combined', 'communication', 'compared', 'completed', 'component', 'composite', 'composition', 'compound', 'comprises', 'comprises following', 'comprises following step', 'comprises step', 'comprising', 'computer', 'condition', 'configuration', 'configured', 'connected', 'connecting', 'connection', 'consumption', 'contact', 'containing', 'content', 'control', 'control method', 'controlled', 'controller', 'controlling', 'convenient', 'conveniently', 'conveying', 'cooling', 'core', 'corresponding', 'correspondingly', 'cost', 'coupled', 'cover', 'cross', 'current', 'cutting', 'cylinder', 'data', 'degree', 'design', 'detected', 'detecting', 'detection', 'determined', 'determining', 'device', 'device comprises', 'device includes', 'device method', 'difference', 'different', 'dimensional', 'direction', 'directly', 'disclosed', 'discloses', 'discloses method', 'disclosure', 'display', 'disposed', 'distance', 'distributed', 'distribution', 'drive', 'driven', 'driving', 'drying', 'dynamic', 'easy', 'edge', 'effect', 'effectively', 'efficiency', 'efficiency improved', 'electric', 'electrode', 'electronic', 'electronic equipment', 'element', 'embodiment', 'embodiment invention', 'end', 'energy', 'ensured', 'environment', 'equal', 'equipment', 'excellent', 'existing', 'extending', 'external', 'face', 'feature', 'feeding', 'field', 'film', 'filtering', 'finally', 'fixed', 'fixedly', 'fixedly connected', 'fixing', 'flexible', 'flow', 'following', 'following step', 'force', 'form', 'formed', 'forming', 'formula', 'frame', 'frequency', 'function', 'gas', 'gear', 'generate', 'generated', 'generating', 'generation', 'good', 'greatly', 'groove', 'group', 'guaranteed', 'guide', 'head', 'heat', 'heating', 'high', 'higher', 'hole', 'image', 'improve', 'improved', 'improving', 'include', 'includes', 'including', 'increased', 'information', 'inlet', 'inner', 'input', 'inside', 'installed', 'instruction', 'intelligent', 'interface', 'internal', 'interval', 'invention', 'invention belongs', 'invention belongs technical', 'invention discloses', 'invention discloses method', 'invention provides', 'invention relates', 'invention relates technical', 'joint', 'large', 'layer', 'le', 'left', 'length', 'level', 'life', 'light', 'like', 'line', 'liquid', 'load', 'located', 'long', 'low', 'lower', 'lower end', 'machine', 'main', 'management', 'manner', 'manufacturing', 'matched', 'material', 'mean', 'measurement', 'mechanical', 'mechanism', 'medium', 'meet', 'member', 'metal', 'method', 'method based', 'method comprises', 'method comprises following', 'method comprises step', 'method device', 'method includes', 'method method', 'method thereof', 'middle', 'mode', 'model', 'module', 'monitoring', 'motor', 'mounted', 'mounting', 'movable', 'moving', 'multi', 'multiple', 'need', 'network', 'node', 'non', 'normal', 'number', 'object', 'obtain', 'obtained', 'obtaining', 'ofthe', 'oil', 'opening', 'operation', 'opposite', 'optical', 'order', 'organic', 'original', 'outer', 'outlet', 'output', 'outside', 'panel', 'parallel', 'parameter', 'particle', 'particular', 'particularly', 'path', 'percent', 'perform', 'performance', 'performed', 'performing', 'period', 'phase', 'piece', 'pipe', 'plate', 'plurality', 'point', 'port', 'portion', 'position', 'positioning', 'powder', 'power', 'pre', 'precision', 'preparation', 'preparation method', 'preparation method thereof', 'prepared', 'preparing', 'present', 'present invention', 'present invention relates', 'preset', 'pressure', 'prevented', 'prior', 'prior art', 'problem', 'process', 'processing', 'processing method', 'product', 'production', 'property', 'protection', 'provide', 'provided', 'provided invention', 'provides', 'providing', 'quality', 'quickly', 'range', 'rate', 'ratio', 'raw', 'raw material', 'reaction', 'real', 'real time', 'realize', 'realized', 'rear', 'received', 'receives', 'receiving', 'reduce']\n",
      "Wrote visualization to: Abstract_tfidf_mmr.html\n"
     ]
    }
   ],
   "source": [
    "projected_X=keyphrase_mapper(cv_phrases)\n",
    "projected_tfidf_X=keyphrase_mapper(tfidf_phrases)\n",
    "\n",
    "cluster_visualization(docs,projected_X,'Abstract_CV_mmr.html')\n",
    "cluster_visualization(docs,projected_tfidf_X,'Abstract_tfidf_mmr.html')"
   ]
  },
  {
   "cell_type": "code",
   "execution_count": null,
   "metadata": {},
   "outputs": [
    {
     "name": "stdout",
     "output_type": "stream",
     "text": [
      "KeplerMapper(verbose=2)\n",
      "..Composing projection pipeline of length 3:\n",
      "\tProjections: TfidfVectorizer(analyzer='char', max_df=0.85, min_df=0.05, ngram_range=(1, 6))\n",
      "\t\tTruncatedSVD(n_components=100, random_state=1729)\n",
      "\t\tIsomap(n_jobs=-1)\n",
      "\tDistance matrices: False\n",
      "False\n",
      "False\n",
      "\tScalers: None\n",
      "None\n",
      "MinMaxScaler()\n",
      "..Projecting on data shaped (2000,)\n",
      "\n",
      "..Projecting data using: \n",
      "\tTfidfVectorizer(analyzer='char', max_df=0.85, min_df=0.05, ngram_range=(1, 6))\n",
      "\n"
     ]
    }
   ],
   "source": [
    "projected_X=keyphrase_mapper(cv_phrases_doc)\n",
    "projected_tfidf_X=keyphrase_mapper(tfidf_phrases_doc)\n",
    "\n",
    "cluster_visualization(docs1,projected_X,'Abstract_CV_doc.html')\n",
    "cluster_visualization(docs1,projected_tfidf_X,'Abstract_tfidf_doc.html')\n"
   ]
  },
  {
   "cell_type": "code",
   "execution_count": null,
   "metadata": {},
   "outputs": [],
   "source": [
    "from kmapper import jupyter\n",
    "from IPython.core.display import display, HTML\n",
    "display(HTML(\"<style>div.output_scroll { height: 64em; }</style>\"))\n",
    "\n",
    "jupyter.display(path_html=\"Abstract_tfidf_doc.html\")\n"
   ]
  },
  {
   "cell_type": "code",
   "execution_count": 66,
   "metadata": {},
   "outputs": [
    {
     "data": {
      "text/html": [
       "<style>div.output_scroll { height: 44em; }</style>"
      ],
      "text/plain": [
       "<IPython.core.display.HTML object>"
      ]
     },
     "metadata": {},
     "output_type": "display_data"
    },
    {
     "data": {
      "text/html": [
       "<style>\n",
       "        .container { width:100% !important; }\n",
       "        .output_scroll {height: 800px !important;}\n",
       "        </style>"
      ],
      "text/plain": [
       "<IPython.core.display.HTML object>"
      ]
     },
     "metadata": {},
     "output_type": "display_data"
    },
    {
     "data": {
      "text/html": [
       "<iframe src=Abstract_tfidf_mmr.html width=100%% height=800 frameBorder=\"0\"></iframe>"
      ],
      "text/plain": [
       "<IPython.core.display.HTML object>"
      ]
     },
     "metadata": {},
     "output_type": "display_data"
    }
   ],
   "source": [
    "from kmapper import jupyter\n",
    "from IPython.core.display import display, HTML\n",
    "display(HTML(\"<style>div.output_scroll { height: 44em; }</style>\"))\n",
    "\n",
    "jupyter.display(path_html=\"Abstract_tfidf_mmr.html\")"
   ]
  },
  {
   "cell_type": "code",
   "execution_count": null,
   "metadata": {},
   "outputs": [],
   "source": []
  }
 ],
 "metadata": {
  "kernelspec": {
   "display_name": "Python 3",
   "language": "python",
   "name": "python3"
  },
  "language_info": {
   "codemirror_mode": {
    "name": "ipython",
    "version": 3
   },
   "file_extension": ".py",
   "mimetype": "text/x-python",
   "name": "python",
   "nbconvert_exporter": "python",
   "pygments_lexer": "ipython3",
   "version": "3.8.5"
  }
 },
 "nbformat": 4,
 "nbformat_minor": 4
}
